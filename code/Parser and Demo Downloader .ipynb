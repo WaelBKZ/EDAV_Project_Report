{
 "cells": [
  {
   "cell_type": "code",
   "execution_count": 1,
   "id": "8533f505",
   "metadata": {},
   "outputs": [],
   "source": [
    "from selenium import webdriver\n",
    "from selenium.webdriver.common.keys import Keys\n",
    "from bs4 import BeautifulSoup\n",
    "import re\n",
    "\n",
    "driver = webdriver.Chrome('./chromedriver')"
   ]
  },
  {
   "cell_type": "markdown",
   "id": "0c801934",
   "metadata": {},
   "source": [
    "# Save to JSON and load"
   ]
  },
  {
   "cell_type": "code",
   "execution_count": 2,
   "id": "49d68cba",
   "metadata": {},
   "outputs": [],
   "source": [
    "import json\n",
    "\n",
    "def save_list_to_json(data,filename):\n",
    "    json_string = json.dumps(data)\n",
    "    with open(filename+'.json', 'w') as f:\n",
    "        json.dump(data, f)\n",
    "\n",
    "\n",
    "\n",
    "def load_json(filename):\n",
    "    with open(filename+'.json') as f:\n",
    "        data = json.load(f)\n",
    "        return data "
   ]
  },
  {
   "cell_type": "markdown",
   "id": "f600b0c8",
   "metadata": {},
   "source": [
    "# Get events id"
   ]
  },
  {
   "cell_type": "code",
   "execution_count": 3,
   "id": "2ae6a0b5",
   "metadata": {},
   "outputs": [],
   "source": [
    "\n",
    "events_source=['https://www.hltv.org/stats/matches?matchType=Majors']\n",
    "i=50\n",
    "while i<700:\n",
    "    lk='https://www.hltv.org/stats/matches?matchType=Majors&offset='+str(i)\n",
    "    i+=50\n",
    "    events_source.append(lk)"
   ]
  },
  {
   "cell_type": "code",
   "execution_count": 4,
   "id": "c3101a7e",
   "metadata": {},
   "outputs": [
    {
     "data": {
      "text/plain": [
       "['https://www.hltv.org/stats/matches?matchType=Majors',\n",
       " 'https://www.hltv.org/stats/matches?matchType=Majors&offset=50',\n",
       " 'https://www.hltv.org/stats/matches?matchType=Majors&offset=100',\n",
       " 'https://www.hltv.org/stats/matches?matchType=Majors&offset=150',\n",
       " 'https://www.hltv.org/stats/matches?matchType=Majors&offset=200',\n",
       " 'https://www.hltv.org/stats/matches?matchType=Majors&offset=250',\n",
       " 'https://www.hltv.org/stats/matches?matchType=Majors&offset=300',\n",
       " 'https://www.hltv.org/stats/matches?matchType=Majors&offset=350',\n",
       " 'https://www.hltv.org/stats/matches?matchType=Majors&offset=400',\n",
       " 'https://www.hltv.org/stats/matches?matchType=Majors&offset=450',\n",
       " 'https://www.hltv.org/stats/matches?matchType=Majors&offset=500',\n",
       " 'https://www.hltv.org/stats/matches?matchType=Majors&offset=550',\n",
       " 'https://www.hltv.org/stats/matches?matchType=Majors&offset=600',\n",
       " 'https://www.hltv.org/stats/matches?matchType=Majors&offset=650']"
      ]
     },
     "execution_count": 4,
     "metadata": {},
     "output_type": "execute_result"
    }
   ],
   "source": [
    "events_source"
   ]
  },
  {
   "cell_type": "code",
   "execution_count": null,
   "id": "5f924842",
   "metadata": {},
   "outputs": [],
   "source": [
    "#add date,event names\n",
    "def get_matches_pages(source):\n",
    "    event_lists=[]\n",
    "    html_list=[]\n",
    "    for sc in source:\n",
    "            driver.get(sc)\n",
    "            html = driver.page_source\n",
    "            soup = BeautifulSoup(html)\n",
    "            soup=soup.findAll('tr')\n",
    "            html_list+=[html]\n",
    "            for tr in soup:\n",
    "                td=tr.findAll('td', {\"class\": \"date-col\"})\n",
    "                for tag in td:\n",
    "                    lk=tag.select_one(\"a[href*=matches]\")['href']\n",
    "                    if len(lk)>4 and not lk in event_lists:\n",
    "                        event_lists.append(lk)\n",
    "   \n",
    "    return event_lists,html\n",
    "        "
   ]
  },
  {
   "cell_type": "markdown",
   "id": "1e2c3acf",
   "metadata": {},
   "source": [
    "### Get match pages links and html"
   ]
  },
  {
   "cell_type": "code",
   "execution_count": null,
   "id": "89b10ec1",
   "metadata": {},
   "outputs": [],
   "source": [
    "matches_list,html=get_matches_pages(events_source)\n",
    "\n"
   ]
  },
  {
   "cell_type": "code",
   "execution_count": null,
   "id": "86cb02fc",
   "metadata": {},
   "outputs": [],
   "source": [
    "save_list_to_json(matches_list,'scraping/major_matches_links')\n",
    "save_list_to_json(html,'scraping/major_matches_html')\n"
   ]
  },
  {
   "cell_type": "code",
   "execution_count": 6,
   "id": "b58c629f",
   "metadata": {},
   "outputs": [],
   "source": [
    "matches_list=load_json('scraping/major_matches_links')"
   ]
  },
  {
   "cell_type": "markdown",
   "id": "9c0e4719",
   "metadata": {},
   "source": [
    "# Get matches links"
   ]
  },
  {
   "cell_type": "code",
   "execution_count": 7,
   "id": "6d4cda4f",
   "metadata": {},
   "outputs": [],
   "source": [
    "def divide_chunks(l, n):\n",
    "      \n",
    "    # looping till length l\n",
    "    for i in range(0, len(l), n): \n",
    "        yield l[i:i + n]\n",
    "  \n",
    "\n",
    "\n",
    "  \n",
    "sublist = list(divide_chunks(matches_list, 20))"
   ]
  },
  {
   "cell_type": "code",
   "execution_count": 8,
   "id": "3e5d516c",
   "metadata": {},
   "outputs": [
    {
     "data": {
      "text/plain": [
       "35"
      ]
     },
     "execution_count": 8,
     "metadata": {},
     "output_type": "execute_result"
    }
   ],
   "source": [
    "len(sublist)"
   ]
  },
  {
   "cell_type": "code",
   "execution_count": 17,
   "id": "c1da1e71",
   "metadata": {},
   "outputs": [],
   "source": [
    "match_url='https://www.hltv.org'\n",
    "\n",
    "    \n",
    "def get_matches_html(urls):\n",
    "    ##### get inner demo page links first\n",
    "    links=[]\n",
    "    html1={}\n",
    "    html2={}\n",
    "    for url in urls:\n",
    "            driver.get('https://www.hltv.org'+url)\n",
    "            html = driver.page_source\n",
    "            soup = BeautifulSoup(html)\n",
    "            divs=soup.findAll('div', {\"class\": \"match-info-box-con\"})\n",
    "            \n",
    "            for div in divs:\n",
    "                \n",
    "                lk=div.findAll('a', {\"class\": \"match-page-link\"})\n",
    "              \n",
    "                for l in lk:\n",
    "                    a=l['href']\n",
    "                    if  len(a)>4 and not a in links:\n",
    "                        links.append(a)\n",
    "                        html1[a]=html\n",
    "    ##### get demo links\n",
    "    demos=[]\n",
    "    for url in links:\n",
    "            driver.get('https://www.hltv.org'+url)\n",
    "            html = driver.page_source\n",
    "            soup = BeautifulSoup(html)\n",
    "            \n",
    "            #https://www.hltv.org/matches/2290747/ldlc-vs-3dmax-ems-one-katowice-2014\n",
    "            try:\n",
    "                demo_link=soup.select_one(\"a[href*=download]\")['href']\n",
    "                if  \"demo\" in demo_link and not demo_link in demos:\n",
    "                            demos.append(demo_link)\n",
    "\n",
    "                            html2[url]=html\n",
    "            except:\n",
    "                print(\"no demo\")\n",
    "            else:\n",
    "                pass\n",
    "    \n",
    "    return demos,html1,html2 "
   ]
  },
  {
   "cell_type": "code",
   "execution_count": 18,
   "id": "e11d33ab",
   "metadata": {},
   "outputs": [],
   "source": [
    "end=[]\n",
    "#Change to avoid ip ban\n",
    "for i in range(len(sublist)):\n",
    "    end+=sublist[i]"
   ]
  },
  {
   "cell_type": "markdown",
   "id": "9e7a5ce3",
   "metadata": {},
   "source": [
    "### Save matches html page content"
   ]
  },
  {
   "cell_type": "code",
   "execution_count": 19,
   "id": "0d0eb3e9",
   "metadata": {},
   "outputs": [
    {
     "name": "stdout",
     "output_type": "stream",
     "text": [
      "no demo\n",
      "done\n",
      "446\n"
     ]
    }
   ],
   "source": [
    "demos,html1,html2=get_matches_html(end)\n",
    "print('done')\n",
    "#load current data\n",
    "a=load_json('scraping/major_demo_links')\n",
    "b=load_json('scraping/major_stat_html')\n",
    "c=load_json('scraping/major_matchpage_html')\n",
    "#add new data\n",
    "demos+=a\n",
    "html1.update(b)\n",
    "html2.update(c)\n",
    "#save updated data\n",
    "save_list_to_json(list(set(demos)),'scraping/major_demo_links')\n",
    "save_list_to_json(html1,'scraping/major_stat_html')\n",
    "save_list_to_json(html2,'scraping/major_matchpage_html')\n",
    "\n",
    "print(len(list(set(demos))))\n"
   ]
  },
  {
   "cell_type": "markdown",
   "id": "40bd005a",
   "metadata": {},
   "source": [
    "# Download demos"
   ]
  },
  {
   "cell_type": "code",
   "execution_count": 4,
   "id": "05e0231f",
   "metadata": {},
   "outputs": [],
   "source": [
    "demos=load_json('scraping/major_demo_links')\n"
   ]
  },
  {
   "cell_type": "code",
   "execution_count": 5,
   "id": "24af62c5",
   "metadata": {},
   "outputs": [],
   "source": [
    "downloaded_demo={}\n"
   ]
  },
  {
   "cell_type": "code",
   "execution_count": 6,
   "id": "cef4a1b2",
   "metadata": {},
   "outputs": [],
   "source": [
    "import urllib,shutil\n",
    "hdr = {'User-Agent': 'Mozilla/5.0 (X11; Linux x86_64) AppleWebKit/537.11 (KHTML, like Gecko) Chrome/23.0.1271.64 Safari/537.11',\n",
    "       'Accept': 'text/html,application/xhtml+xml,application/xml;q=0.9,*/*;q=0.8',\n",
    "       'Accept-Charset': 'ISO-8859-1,utf-8;q=0.7,*;q=0.3',\n",
    "       'Accept-Encoding': 'none',\n",
    "       'Accept-Language': 'en-US,en;q=0.8',\n",
    "       'Connection': 'keep-alive'}\n",
    "hltv='https://www.hltv.org'\n",
    "\n",
    "\n",
    "for i in range(431\n",
    "               ,446):\n",
    "    page=urllib.request.Request(hltv+demos[i],headers=hdr) \n",
    "    # Download the file from `url` and save it locally under `file_name`:\n",
    "    with urllib.request.urlopen(page) as response, open(str(i)+'.rar', 'wb') as out_file:\n",
    "        shutil.copyfileobj(response, out_file)\n",
    "        downloaded_demo[str(i)]=True\n",
    "        a=load_json('scraping/downloaded_demos')\n",
    "        downloaded_demo.update(a)\n",
    "        save_list_to_json(downloaded_demo,'scraping/downloaded_demos')\n",
    "        \n"
   ]
  },
  {
   "cell_type": "code",
   "execution_count": 16,
   "id": "205376d6",
   "metadata": {},
   "outputs": [],
   "source": []
  },
  {
   "cell_type": "markdown",
   "id": "21cb0b5c",
   "metadata": {},
   "source": [
    "# Get Demo links"
   ]
  },
  {
   "cell_type": "code",
   "execution_count": null,
   "id": "df457ff0",
   "metadata": {},
   "outputs": [],
   "source": [
    "for i in matches_links:\n",
    "    print(i['match_link'])"
   ]
  },
  {
   "cell_type": "code",
   "execution_count": 4,
   "id": "18478023",
   "metadata": {},
   "outputs": [],
   "source": [
    "matches_info=load_json('scraping/matches_links')"
   ]
  },
  {
   "cell_type": "code",
   "execution_count": null,
   "id": "a081fa19",
   "metadata": {},
   "outputs": [],
   "source": [
    "#save htlm code first\n",
    "\n",
    "def get_matches_html(urls):\n",
    "    ##### get inner demo page links first\n",
    "    links=[]\n",
    "    html1=[]\n",
    "    html2=[]\n",
    "    for url in urls:\n",
    "            driver.get('https://www.hltv.org'+url['match_link'])\n",
    "            html = driver.page_source\n",
    "            soup = BeautifulSoup(html)\n",
    "            divs=soup.findAll('div', {\"class\": \"match-info-box-con\"})\n",
    "            \n",
    "            for div in divs:\n",
    "                \n",
    "                lk=div.findAll('a', {\"class\": \"match-page-link\"})\n",
    "              \n",
    "                for l in lk:\n",
    "                    a=l['href']\n",
    "                    if  len(a)>4 and not a in links:\n",
    "                        links.append(a)\n",
    "                        html1.append(html)\n",
    "    ##### get demo links\n",
    "    demos=[]\n",
    "    for url in links:\n",
    "            driver.get('https://www.hltv.org'+url)\n",
    "            html = driver.page_source\n",
    "            soup = BeautifulSoup(html)\n",
    "            \n",
    "            \n",
    "            demo_link=soup.select_one(\"a[href*=download]\")['href']\n",
    "            if  \"demo\" in demo_link and not demo_link in demos:\n",
    "                        demos.append(demo_link)\n",
    "                        if   not html in html2:\n",
    "                            html2.append(html)\n",
    "    \n",
    "    return demos,html1,html2\n"
   ]
  },
  {
   "cell_type": "code",
   "execution_count": null,
   "id": "ded52472",
   "metadata": {},
   "outputs": [],
   "source": [
    "demos,html1,html2=get_matches_html(matches_info)"
   ]
  },
  {
   "cell_type": "code",
   "execution_count": null,
   "id": "21a13358",
   "metadata": {},
   "outputs": [],
   "source": [
    "#add date, maps,teamsid,teams names, player id, player name, ratings,stats?,top player,html, bo score, round scores\n",
    "def get_matches_links(urls):\n",
    "    ##### get inner demo page links first\n",
    "    links=[]\n",
    "    \n",
    "    for url in urls:\n",
    "            driver.get('https://www.hltv.org'+url)\n",
    "            html = driver.page_source\n",
    "            soup = BeautifulSoup(html)\n",
    "            divs=soup.findAll('div', {\"class\": \"match-info-box-con\"})\n",
    "            \n",
    "            for div in divs:\n",
    "                \n",
    "                lk=div.findAll('a', {\"class\": \"match-page-link\"})\n",
    "              \n",
    "                for l in lk:\n",
    "                    a=l['href']\n",
    "                    if  len(a)>4 and not a in links:\n",
    "                        links.append(a)\n",
    "    ##### get demo links\n",
    "    demos=[]\n",
    "    for url in links:\n",
    "            driver.get('https://www.hltv.org'+url)\n",
    "            html = driver.page_source\n",
    "            soup = BeautifulSoup(html)\n",
    "            \n",
    "            \n",
    "            demo_link=soup.select_one(\"a[href*=download]\")['href']\n",
    "            if  \"demo\" in demo_link and not demo_link in demos:\n",
    "                        demos.append(demo_link)\n",
    "    \n",
    "    return demos\n",
    "\n"
   ]
  },
  {
   "cell_type": "code",
   "execution_count": null,
   "id": "91110daf",
   "metadata": {},
   "outputs": [],
   "source": [
    "demo_links=get_matches_links(my_events_links)"
   ]
  },
  {
   "cell_type": "code",
   "execution_count": null,
   "id": "3738edd0",
   "metadata": {},
   "outputs": [],
   "source": [
    "save_list_to_json(demo_links,'scraping/demo_links')"
   ]
  }
 ],
 "metadata": {
  "kernelspec": {
   "display_name": "Python 3 (ipykernel)",
   "language": "python",
   "name": "python3"
  },
  "language_info": {
   "codemirror_mode": {
    "name": "ipython",
    "version": 3
   },
   "file_extension": ".py",
   "mimetype": "text/x-python",
   "name": "python",
   "nbconvert_exporter": "python",
   "pygments_lexer": "ipython3",
   "version": "3.7.11"
  }
 },
 "nbformat": 4,
 "nbformat_minor": 5
}
