{
 "cells": [
  {
   "cell_type": "markdown",
   "id": "5850e7f6",
   "metadata": {},
   "source": [
    "# Python library"
   ]
  },
  {
   "cell_type": "code",
   "execution_count": 2,
   "id": "bcb2be11",
   "metadata": {},
   "outputs": [],
   "source": [
    "from csgo.parser import DemoParser\n",
    "import pandas as pd"
   ]
  },
  {
   "cell_type": "markdown",
   "id": "54fe337c",
   "metadata": {},
   "source": [
    "## json saving function"
   ]
  },
  {
   "cell_type": "code",
   "execution_count": null,
   "id": "0912c47a",
   "metadata": {},
   "outputs": [],
   "source": [
    "import json\n",
    "def save(js,filename):\n",
    "    with open(filename, 'w') as fp:\n",
    "        json.dump(js, fp)"
   ]
  },
  {
   "cell_type": "markdown",
   "id": "02a9de4b",
   "metadata": {},
   "source": [
    "# Parse and clean every demo file"
   ]
  },
  {
   "cell_type": "code",
   "execution_count": 4,
   "id": "d60d12b4",
   "metadata": {},
   "outputs": [
    {
     "name": "stderr",
     "output_type": "stream",
     "text": [
      "22:09:37 [INFO] Go version>=1.14.0\n",
      "22:09:37 [INFO] Initialized CSGODemoParser with demofile D:\\EDAV\\306\\ESLOneCologne-GroupB-navi-vs-cphwolves-inferno.dem\n",
      "22:09:37 [INFO] Setting demo id to 306 ESLOneCologne-GroupB-navi-vs-cphwolves-inferno\n",
      "22:09:37 [INFO] Setting parse rate to 128\n",
      "22:09:37 [INFO] Setting trade time to 5\n",
      "22:09:37 [INFO] Setting buy style to hltv\n",
      "22:09:37 [INFO] Rollup damages set to False\n",
      "22:09:37 [INFO] Parse frames set to True\n",
      "22:09:37 [INFO] Running Golang parser from C:\\Users\\nguye\\anaconda3\\envs\\envTF24\\lib\\site-packages\\csgo-1.0-py3.7.egg\\csgo\\parser\\\n",
      "22:09:37 [INFO] Looking for file at D:\\EDAV\\306\\ESLOneCologne-GroupB-navi-vs-cphwolves-inferno.dem\n"
     ]
    },
    {
     "name": "stdout",
     "output_type": "stream",
     "text": [
      "parsing    306 ESLOneCologne-GroupB-navi-vs-cphwolves-inferno.dem\n"
     ]
    },
    {
     "name": "stderr",
     "output_type": "stream",
     "text": [
      "22:09:38 [INFO] Wrote demo parse output to 306 ESLOneCologne-GroupB-navi-vs-cphwolves-inferno.json\n",
      "22:09:38 [INFO] Reading in JSON from 306 ESLOneCologne-GroupB-navi-vs-cphwolves-inferno.json\n",
      "22:09:38 [INFO] JSON data loaded, available in the `json` attribute to parser\n",
      "22:09:38 [INFO] Successfully parsed JSON output\n",
      "22:09:38 [INFO] Successfully returned JSON output\n",
      "22:09:39 [INFO] Go version>=1.14.0\n",
      "22:09:39 [INFO] Initialized CSGODemoParser with demofile D:\\EDAV\\307\\vega-squadron-vs-astralis-inferno.dem\n",
      "22:09:39 [INFO] Setting demo id to 307 vega-squadron-vs-astralis-inferno\n",
      "22:09:39 [INFO] Setting parse rate to 128\n",
      "22:09:39 [INFO] Setting trade time to 5\n",
      "22:09:39 [INFO] Setting buy style to hltv\n",
      "22:09:39 [INFO] Rollup damages set to False\n",
      "22:09:39 [INFO] Parse frames set to True\n",
      "22:09:39 [INFO] Running Golang parser from C:\\Users\\nguye\\anaconda3\\envs\\envTF24\\lib\\site-packages\\csgo-1.0-py3.7.egg\\csgo\\parser\\\n",
      "22:09:39 [INFO] Looking for file at D:\\EDAV\\307\\vega-squadron-vs-astralis-inferno.dem\n"
     ]
    },
    {
     "name": "stdout",
     "output_type": "stream",
     "text": [
      "parsing    307 vega-squadron-vs-astralis-inferno.dem\n"
     ]
    },
    {
     "name": "stderr",
     "output_type": "stream",
     "text": [
      "22:09:44 [INFO] Wrote demo parse output to 307 vega-squadron-vs-astralis-inferno.json\n",
      "22:09:44 [INFO] Reading in JSON from 307 vega-squadron-vs-astralis-inferno.json\n",
      "22:09:44 [INFO] JSON data loaded, available in the `json` attribute to parser\n",
      "22:09:44 [INFO] Successfully parsed JSON output\n",
      "22:09:44 [INFO] Successfully returned JSON output\n",
      "22:09:50 [INFO] Go version>=1.14.0\n",
      "22:09:50 [INFO] Initialized CSGODemoParser with demofile D:\\EDAV\\308\\astralis-vs-sk-map2-overpass.dem\n",
      "22:09:50 [INFO] Setting demo id to 308 astralis-vs-sk-map2-overpass\n",
      "22:09:50 [INFO] Setting parse rate to 128\n",
      "22:09:50 [INFO] Setting trade time to 5\n",
      "22:09:50 [INFO] Setting buy style to hltv\n",
      "22:09:50 [INFO] Rollup damages set to False\n",
      "22:09:50 [INFO] Parse frames set to True\n",
      "22:09:50 [INFO] Running Golang parser from C:\\Users\\nguye\\anaconda3\\envs\\envTF24\\lib\\site-packages\\csgo-1.0-py3.7.egg\\csgo\\parser\\\n",
      "22:09:50 [INFO] Looking for file at D:\\EDAV\\308\\astralis-vs-sk-map2-overpass.dem\n"
     ]
    },
    {
     "name": "stdout",
     "output_type": "stream",
     "text": [
      "parsing    308 astralis-vs-sk-map2-overpass.dem\n"
     ]
    },
    {
     "name": "stderr",
     "output_type": "stream",
     "text": [
      "22:09:56 [INFO] Wrote demo parse output to 308 astralis-vs-sk-map2-overpass.json\n",
      "22:09:56 [INFO] Reading in JSON from 308 astralis-vs-sk-map2-overpass.json\n",
      "22:09:57 [INFO] JSON data loaded, available in the `json` attribute to parser\n",
      "22:09:57 [INFO] Successfully parsed JSON output\n",
      "22:09:57 [INFO] Successfully returned JSON output\n",
      "22:10:04 [INFO] Go version>=1.14.0\n",
      "22:10:04 [INFO] Initialized CSGODemoParser with demofile D:\\EDAV\\308\\astralis-vs-sk-map1-cache.dem\n",
      "22:10:04 [INFO] Setting demo id to 308 astralis-vs-sk-map1-cache\n",
      "22:10:04 [INFO] Setting parse rate to 128\n",
      "22:10:04 [INFO] Setting trade time to 5\n",
      "22:10:04 [INFO] Setting buy style to hltv\n",
      "22:10:04 [INFO] Rollup damages set to False\n",
      "22:10:04 [INFO] Parse frames set to True\n",
      "22:10:04 [INFO] Running Golang parser from C:\\Users\\nguye\\anaconda3\\envs\\envTF24\\lib\\site-packages\\csgo-1.0-py3.7.egg\\csgo\\parser\\\n",
      "22:10:04 [INFO] Looking for file at D:\\EDAV\\308\\astralis-vs-sk-map1-cache.dem\n"
     ]
    },
    {
     "name": "stdout",
     "output_type": "stream",
     "text": [
      "parsing    308 astralis-vs-sk-map1-cache.dem\n"
     ]
    },
    {
     "name": "stderr",
     "output_type": "stream",
     "text": [
      "22:10:10 [INFO] Wrote demo parse output to 308 astralis-vs-sk-map1-cache.json\n",
      "22:10:10 [INFO] Reading in JSON from 308 astralis-vs-sk-map1-cache.json\n",
      "22:10:10 [INFO] JSON data loaded, available in the `json` attribute to parser\n",
      "22:10:10 [INFO] Successfully parsed JSON output\n",
      "22:10:10 [INFO] Successfully returned JSON output\n",
      "22:10:20 [INFO] Go version>=1.14.0\n",
      "22:10:20 [INFO] Initialized CSGODemoParser with demofile D:\\EDAV\\309\\vega-squadron-vs-cloud9-mirage.dem\n",
      "22:10:20 [INFO] Setting demo id to 309 vega-squadron-vs-cloud9-mirage\n",
      "22:10:20 [INFO] Setting parse rate to 128\n",
      "22:10:20 [INFO] Setting trade time to 5\n",
      "22:10:20 [INFO] Setting buy style to hltv\n",
      "22:10:20 [INFO] Rollup damages set to False\n",
      "22:10:20 [INFO] Parse frames set to True\n",
      "22:10:20 [INFO] Running Golang parser from C:\\Users\\nguye\\anaconda3\\envs\\envTF24\\lib\\site-packages\\csgo-1.0-py3.7.egg\\csgo\\parser\\\n",
      "22:10:20 [INFO] Looking for file at D:\\EDAV\\309\\vega-squadron-vs-cloud9-mirage.dem\n"
     ]
    },
    {
     "name": "stdout",
     "output_type": "stream",
     "text": [
      "parsing    309 vega-squadron-vs-cloud9-mirage.dem\n"
     ]
    },
    {
     "name": "stderr",
     "output_type": "stream",
     "text": [
      "22:10:23 [INFO] Wrote demo parse output to 309 vega-squadron-vs-cloud9-mirage.json\n",
      "22:10:23 [INFO] Reading in JSON from 309 vega-squadron-vs-cloud9-mirage.json\n",
      "22:10:24 [INFO] JSON data loaded, available in the `json` attribute to parser\n",
      "22:10:24 [INFO] Successfully parsed JSON output\n",
      "22:10:24 [INFO] Successfully returned JSON output\n",
      "22:10:28 [INFO] Go version>=1.14.0\n",
      "22:10:28 [INFO] Initialized CSGODemoParser with demofile D:\\EDAV\\310\\ESLOneKatowice2015-Groups-fnatic-vs-navi-cobblestone.dem\n",
      "22:10:28 [INFO] Setting demo id to 310 ESLOneKatowice2015-Groups-fnatic-vs-navi-cobblestone\n",
      "22:10:28 [INFO] Setting parse rate to 128\n",
      "22:10:28 [INFO] Setting trade time to 5\n",
      "22:10:28 [INFO] Setting buy style to hltv\n",
      "22:10:28 [INFO] Rollup damages set to False\n",
      "22:10:28 [INFO] Parse frames set to True\n",
      "22:10:28 [INFO] Running Golang parser from C:\\Users\\nguye\\anaconda3\\envs\\envTF24\\lib\\site-packages\\csgo-1.0-py3.7.egg\\csgo\\parser\\\n",
      "22:10:28 [INFO] Looking for file at D:\\EDAV\\310\\ESLOneKatowice2015-Groups-fnatic-vs-navi-cobblestone.dem\n"
     ]
    },
    {
     "name": "stdout",
     "output_type": "stream",
     "text": [
      "parsing    310 ESLOneKatowice2015-Groups-fnatic-vs-navi-cobblestone.dem\n"
     ]
    },
    {
     "name": "stderr",
     "output_type": "stream",
     "text": [
      "22:10:30 [INFO] Wrote demo parse output to 310 ESLOneKatowice2015-Groups-fnatic-vs-navi-cobblestone.json\n",
      "22:10:30 [INFO] Reading in JSON from 310 ESLOneKatowice2015-Groups-fnatic-vs-navi-cobblestone.json\n",
      "22:10:30 [INFO] JSON data loaded, available in the `json` attribute to parser\n",
      "22:10:30 [INFO] Successfully parsed JSON output\n",
      "22:10:30 [INFO] Successfully returned JSON output\n",
      "22:10:31 [INFO] Go version>=1.14.0\n",
      "22:10:31 [INFO] Initialized CSGODemoParser with demofile D:\\EDAV\\311\\immortals-vs-virtuspro-map2-mirage.dem\n",
      "22:10:31 [INFO] Setting demo id to 311 immortals-vs-virtuspro-map2-mirage\n",
      "22:10:31 [INFO] Setting parse rate to 128\n",
      "22:10:31 [INFO] Setting trade time to 5\n",
      "22:10:31 [INFO] Setting buy style to hltv\n",
      "22:10:31 [INFO] Rollup damages set to False\n",
      "22:10:31 [INFO] Parse frames set to True\n",
      "22:10:31 [INFO] Running Golang parser from C:\\Users\\nguye\\anaconda3\\envs\\envTF24\\lib\\site-packages\\csgo-1.0-py3.7.egg\\csgo\\parser\\\n",
      "22:10:31 [INFO] Looking for file at D:\\EDAV\\311\\immortals-vs-virtuspro-map2-mirage.dem\n"
     ]
    },
    {
     "name": "stdout",
     "output_type": "stream",
     "text": [
      "parsing    311 immortals-vs-virtuspro-map2-mirage.dem\n"
     ]
    },
    {
     "name": "stderr",
     "output_type": "stream",
     "text": [
      "22:10:36 [INFO] Wrote demo parse output to 311 immortals-vs-virtuspro-map2-mirage.json\n",
      "22:10:36 [INFO] Reading in JSON from 311 immortals-vs-virtuspro-map2-mirage.json\n",
      "22:10:37 [INFO] JSON data loaded, available in the `json` attribute to parser\n",
      "22:10:37 [INFO] Successfully parsed JSON output\n",
      "22:10:37 [INFO] Successfully returned JSON output\n",
      "22:10:44 [INFO] Go version>=1.14.0\n",
      "22:10:44 [INFO] Initialized CSGODemoParser with demofile D:\\EDAV\\311\\immortals-vs-virtuspro-map1-inferno.dem\n",
      "22:10:44 [INFO] Setting demo id to 311 immortals-vs-virtuspro-map1-inferno\n",
      "22:10:44 [INFO] Setting parse rate to 128\n",
      "22:10:44 [INFO] Setting trade time to 5\n",
      "22:10:44 [INFO] Setting buy style to hltv\n",
      "22:10:44 [INFO] Rollup damages set to False\n",
      "22:10:44 [INFO] Parse frames set to True\n",
      "22:10:44 [INFO] Running Golang parser from C:\\Users\\nguye\\anaconda3\\envs\\envTF24\\lib\\site-packages\\csgo-1.0-py3.7.egg\\csgo\\parser\\\n",
      "22:10:44 [INFO] Looking for file at D:\\EDAV\\311\\immortals-vs-virtuspro-map1-inferno.dem\n"
     ]
    },
    {
     "name": "stdout",
     "output_type": "stream",
     "text": [
      "parsing    311 immortals-vs-virtuspro-map1-inferno.dem\n"
     ]
    },
    {
     "name": "stderr",
     "output_type": "stream",
     "text": [
      "22:10:49 [INFO] Wrote demo parse output to 311 immortals-vs-virtuspro-map1-inferno.json\n",
      "22:10:49 [INFO] Reading in JSON from 311 immortals-vs-virtuspro-map1-inferno.json\n",
      "22:10:49 [INFO] JSON data loaded, available in the `json` attribute to parser\n",
      "22:10:49 [INFO] Successfully parsed JSON output\n",
      "22:10:49 [INFO] Successfully returned JSON output\n",
      "22:10:56 [INFO] Go version>=1.14.0\n",
      "22:10:56 [INFO] Initialized CSGODemoParser with demofile D:\\EDAV\\312\\ESLOneKatowice2015-Groups-nip-vs-clg-mirage.dem\n",
      "22:10:56 [INFO] Setting demo id to 312 ESLOneKatowice2015-Groups-nip-vs-clg-mirage\n",
      "22:10:56 [INFO] Setting parse rate to 128\n",
      "22:10:56 [INFO] Setting trade time to 5\n",
      "22:10:56 [INFO] Setting buy style to hltv\n",
      "22:10:56 [INFO] Rollup damages set to False\n",
      "22:10:56 [INFO] Parse frames set to True\n",
      "22:10:56 [INFO] Running Golang parser from C:\\Users\\nguye\\anaconda3\\envs\\envTF24\\lib\\site-packages\\csgo-1.0-py3.7.egg\\csgo\\parser\\\n",
      "22:10:56 [INFO] Looking for file at D:\\EDAV\\312\\ESLOneKatowice2015-Groups-nip-vs-clg-mirage.dem\n"
     ]
    },
    {
     "name": "stdout",
     "output_type": "stream",
     "text": [
      "parsing    312 ESLOneKatowice2015-Groups-nip-vs-clg-mirage.dem\n"
     ]
    },
    {
     "name": "stderr",
     "output_type": "stream",
     "text": [
      "22:10:57 [INFO] Wrote demo parse output to 312 ESLOneKatowice2015-Groups-nip-vs-clg-mirage.json\n",
      "22:10:57 [INFO] Reading in JSON from 312 ESLOneKatowice2015-Groups-nip-vs-clg-mirage.json\n",
      "22:10:57 [INFO] JSON data loaded, available in the `json` attribute to parser\n",
      "22:10:57 [INFO] Successfully parsed JSON output\n",
      "22:10:57 [INFO] Successfully returned JSON output\n",
      "22:10:58 [INFO] Go version>=1.14.0\n",
      "22:10:58 [INFO] Initialized CSGODemoParser with demofile D:\\EDAV\\313\\ESLOneCologne2015-kinguin-vs-immunity-dust2-1.dem\n",
      "22:10:58 [INFO] Setting demo id to 313 ESLOneCologne2015-kinguin-vs-immunity-dust2-1\n",
      "22:10:58 [INFO] Setting parse rate to 128\n",
      "22:10:58 [INFO] Setting trade time to 5\n",
      "22:10:58 [INFO] Setting buy style to hltv\n",
      "22:10:58 [INFO] Rollup damages set to False\n",
      "22:10:58 [INFO] Parse frames set to True\n",
      "22:10:58 [INFO] Running Golang parser from C:\\Users\\nguye\\anaconda3\\envs\\envTF24\\lib\\site-packages\\csgo-1.0-py3.7.egg\\csgo\\parser\\\n",
      "22:10:58 [INFO] Looking for file at D:\\EDAV\\313\\ESLOneCologne2015-kinguin-vs-immunity-dust2-1.dem\n"
     ]
    },
    {
     "name": "stdout",
     "output_type": "stream",
     "text": [
      "parsing    313 ESLOneCologne2015-kinguin-vs-immunity-dust2-1.dem\n"
     ]
    },
    {
     "name": "stderr",
     "output_type": "stream",
     "text": [
      "22:11:01 [INFO] Wrote demo parse output to 313 ESLOneCologne2015-kinguin-vs-immunity-dust2-1.json\n",
      "22:11:01 [INFO] Reading in JSON from 313 ESLOneCologne2015-kinguin-vs-immunity-dust2-1.json\n",
      "22:11:01 [INFO] JSON data loaded, available in the `json` attribute to parser\n",
      "22:11:01 [INFO] Successfully parsed JSON output\n",
      "22:11:01 [INFO] Successfully returned JSON output\n",
      "22:11:03 [INFO] Go version>=1.14.0\n",
      "22:11:03 [INFO] Initialized CSGODemoParser with demofile D:\\EDAV\\314\\gambit-vs-virtuspro-train.dem\n",
      "22:11:03 [INFO] Setting demo id to 314 gambit-vs-virtuspro-train\n",
      "22:11:03 [INFO] Setting parse rate to 128\n",
      "22:11:03 [INFO] Setting trade time to 5\n",
      "22:11:03 [INFO] Setting buy style to hltv\n",
      "22:11:03 [INFO] Rollup damages set to False\n",
      "22:11:03 [INFO] Parse frames set to True\n",
      "22:11:03 [INFO] Running Golang parser from C:\\Users\\nguye\\anaconda3\\envs\\envTF24\\lib\\site-packages\\csgo-1.0-py3.7.egg\\csgo\\parser\\\n",
      "22:11:03 [INFO] Looking for file at D:\\EDAV\\314\\gambit-vs-virtuspro-train.dem\n"
     ]
    },
    {
     "name": "stdout",
     "output_type": "stream",
     "text": [
      "parsing    314 gambit-vs-virtuspro-train.dem\n"
     ]
    },
    {
     "name": "stderr",
     "output_type": "stream",
     "text": [
      "22:11:09 [INFO] Wrote demo parse output to 314 gambit-vs-virtuspro-train.json\n",
      "22:11:09 [INFO] Reading in JSON from 314 gambit-vs-virtuspro-train.json\n",
      "22:11:09 [INFO] JSON data loaded, available in the `json` attribute to parser\n",
      "22:11:09 [INFO] Successfully parsed JSON output\n",
      "22:11:09 [INFO] Successfully returned JSON output\n",
      "22:11:18 [INFO] Go version>=1.14.0\n",
      "22:11:18 [INFO] Initialized CSGODemoParser with demofile D:\\EDAV\\315\\virtus-pro-vs-cloud9-mirage.dem\n",
      "22:11:18 [INFO] Setting demo id to 315 virtus-pro-vs-cloud9-mirage\n",
      "22:11:18 [INFO] Setting parse rate to 128\n",
      "22:11:18 [INFO] Setting trade time to 5\n",
      "22:11:18 [INFO] Setting buy style to hltv\n",
      "22:11:18 [INFO] Rollup damages set to False\n",
      "22:11:18 [INFO] Parse frames set to True\n",
      "22:11:18 [INFO] Running Golang parser from C:\\Users\\nguye\\anaconda3\\envs\\envTF24\\lib\\site-packages\\csgo-1.0-py3.7.egg\\csgo\\parser\\\n",
      "22:11:18 [INFO] Looking for file at D:\\EDAV\\315\\virtus-pro-vs-cloud9-mirage.dem\n"
     ]
    },
    {
     "name": "stdout",
     "output_type": "stream",
     "text": [
      "parsing    315 virtus-pro-vs-cloud9-mirage.dem\n"
     ]
    },
    {
     "name": "stderr",
     "output_type": "stream",
     "text": [
      "22:11:22 [INFO] Wrote demo parse output to 315 virtus-pro-vs-cloud9-mirage.json\n",
      "22:11:22 [INFO] Reading in JSON from 315 virtus-pro-vs-cloud9-mirage.json\n",
      "22:11:23 [INFO] JSON data loaded, available in the `json` attribute to parser\n",
      "22:11:23 [INFO] Successfully parsed JSON output\n",
      "22:11:23 [INFO] Successfully returned JSON output\n",
      "22:11:29 [INFO] Go version>=1.14.0\n",
      "22:11:29 [INFO] Initialized CSGODemoParser with demofile D:\\EDAV\\316\\Quarterfinal_EnVy_fnatic_QF_mirage.dem\n",
      "22:11:29 [INFO] Setting demo id to 316 Quarterfinal_EnVy_fnatic_QF_mirage\n",
      "22:11:29 [INFO] Setting parse rate to 128\n",
      "22:11:29 [INFO] Setting trade time to 5\n",
      "22:11:29 [INFO] Setting buy style to hltv\n",
      "22:11:29 [INFO] Rollup damages set to False\n",
      "22:11:29 [INFO] Parse frames set to True\n",
      "22:11:29 [INFO] Running Golang parser from C:\\Users\\nguye\\anaconda3\\envs\\envTF24\\lib\\site-packages\\csgo-1.0-py3.7.egg\\csgo\\parser\\\n",
      "22:11:29 [INFO] Looking for file at D:\\EDAV\\316\\Quarterfinal_EnVy_fnatic_QF_mirage.dem\n"
     ]
    },
    {
     "name": "stdout",
     "output_type": "stream",
     "text": [
      "parsing    316 Quarterfinal_EnVy_fnatic_QF_mirage.dem\n"
     ]
    },
    {
     "name": "stderr",
     "output_type": "stream",
     "text": [
      "22:11:33 [INFO] Wrote demo parse output to 316 Quarterfinal_EnVy_fnatic_QF_mirage.json\n",
      "22:11:33 [INFO] Reading in JSON from 316 Quarterfinal_EnVy_fnatic_QF_mirage.json\n",
      "22:11:34 [INFO] JSON data loaded, available in the `json` attribute to parser\n",
      "22:11:34 [INFO] Successfully parsed JSON output\n",
      "22:11:34 [INFO] Successfully returned JSON output\n",
      "22:11:40 [INFO] Go version>=1.14.0\n",
      "22:11:40 [INFO] Initialized CSGODemoParser with demofile D:\\EDAV\\316\\Quarterfinal_EnVy_fnatic_cache.dem\n",
      "22:11:40 [INFO] Setting demo id to 316 Quarterfinal_EnVy_fnatic_cache\n",
      "22:11:40 [INFO] Setting parse rate to 128\n",
      "22:11:40 [INFO] Setting trade time to 5\n",
      "22:11:40 [INFO] Setting buy style to hltv\n",
      "22:11:40 [INFO] Rollup damages set to False\n",
      "22:11:40 [INFO] Parse frames set to True\n",
      "22:11:40 [INFO] Running Golang parser from C:\\Users\\nguye\\anaconda3\\envs\\envTF24\\lib\\site-packages\\csgo-1.0-py3.7.egg\\csgo\\parser\\\n",
      "22:11:40 [INFO] Looking for file at D:\\EDAV\\316\\Quarterfinal_EnVy_fnatic_cache.dem\n"
     ]
    },
    {
     "name": "stdout",
     "output_type": "stream",
     "text": [
      "parsing    316 Quarterfinal_EnVy_fnatic_cache.dem\n"
     ]
    },
    {
     "name": "stderr",
     "output_type": "stream",
     "text": [
      "22:11:44 [INFO] Wrote demo parse output to 316 Quarterfinal_EnVy_fnatic_cache.json\n",
      "22:11:44 [INFO] Reading in JSON from 316 Quarterfinal_EnVy_fnatic_cache.json\n",
      "22:11:44 [INFO] JSON data loaded, available in the `json` attribute to parser\n",
      "22:11:44 [INFO] Successfully parsed JSON output\n",
      "22:11:44 [INFO] Successfully returned JSON output\n",
      "22:11:49 [INFO] Go version>=1.14.0\n",
      "22:11:49 [INFO] Initialized CSGODemoParser with demofile D:\\EDAV\\316\\Quarterfinal_EnVy_fnatic_cbble.dem\n",
      "22:11:49 [INFO] Setting demo id to 316 Quarterfinal_EnVy_fnatic_cbble\n",
      "22:11:49 [INFO] Setting parse rate to 128\n",
      "22:11:49 [INFO] Setting trade time to 5\n",
      "22:11:49 [INFO] Setting buy style to hltv\n",
      "22:11:49 [INFO] Rollup damages set to False\n",
      "22:11:49 [INFO] Parse frames set to True\n",
      "22:11:49 [INFO] Running Golang parser from C:\\Users\\nguye\\anaconda3\\envs\\envTF24\\lib\\site-packages\\csgo-1.0-py3.7.egg\\csgo\\parser\\\n",
      "22:11:49 [INFO] Looking for file at D:\\EDAV\\316\\Quarterfinal_EnVy_fnatic_cbble.dem\n"
     ]
    },
    {
     "name": "stdout",
     "output_type": "stream",
     "text": [
      "parsing    316 Quarterfinal_EnVy_fnatic_cbble.dem\n"
     ]
    },
    {
     "name": "stderr",
     "output_type": "stream",
     "text": [
      "22:11:54 [INFO] Wrote demo parse output to 316 Quarterfinal_EnVy_fnatic_cbble.json\n",
      "22:11:54 [INFO] Reading in JSON from 316 Quarterfinal_EnVy_fnatic_cbble.json\n",
      "22:11:54 [INFO] JSON data loaded, available in the `json` attribute to parser\n",
      "22:11:54 [INFO] Successfully parsed JSON output\n",
      "22:11:54 [INFO] Successfully returned JSON output\n",
      "22:12:01 [INFO] Go version>=1.14.0\n",
      "22:12:01 [INFO] Initialized CSGODemoParser with demofile D:\\EDAV\\0\\astralis-vs-cr4zy-m3-vertigo.dem\n",
      "22:12:01 [INFO] Setting demo id to 0 astralis-vs-cr4zy-m3-vertigo\n",
      "22:12:01 [INFO] Setting parse rate to 128\n",
      "22:12:01 [INFO] Setting trade time to 5\n",
      "22:12:01 [INFO] Setting buy style to hltv\n",
      "22:12:01 [INFO] Rollup damages set to False\n",
      "22:12:01 [INFO] Parse frames set to True\n",
      "22:12:01 [INFO] Running Golang parser from C:\\Users\\nguye\\anaconda3\\envs\\envTF24\\lib\\site-packages\\csgo-1.0-py3.7.egg\\csgo\\parser\\\n",
      "22:12:01 [INFO] Looking for file at D:\\EDAV\\0\\astralis-vs-cr4zy-m3-vertigo.dem\n"
     ]
    },
    {
     "name": "stdout",
     "output_type": "stream",
     "text": [
      "parsing    0 astralis-vs-cr4zy-m3-vertigo.dem\n"
     ]
    },
    {
     "name": "stderr",
     "output_type": "stream",
     "text": [
      "22:12:05 [INFO] Wrote demo parse output to 0 astralis-vs-cr4zy-m3-vertigo.json\n",
      "22:12:05 [INFO] Reading in JSON from 0 astralis-vs-cr4zy-m3-vertigo.json\n",
      "22:12:05 [INFO] JSON data loaded, available in the `json` attribute to parser\n",
      "22:12:05 [INFO] Successfully parsed JSON output\n",
      "22:12:05 [INFO] Successfully returned JSON output\n",
      "22:12:11 [INFO] Go version>=1.14.0\n",
      "22:12:11 [INFO] Initialized CSGODemoParser with demofile D:\\EDAV\\0\\astralis-vs-cr4zy-m1-inferno.dem\n",
      "22:12:11 [INFO] Setting demo id to 0 astralis-vs-cr4zy-m1-inferno\n",
      "22:12:11 [INFO] Setting parse rate to 128\n",
      "22:12:11 [INFO] Setting trade time to 5\n",
      "22:12:11 [INFO] Setting buy style to hltv\n",
      "22:12:11 [INFO] Rollup damages set to False\n",
      "22:12:11 [INFO] Parse frames set to True\n",
      "22:12:11 [INFO] Running Golang parser from C:\\Users\\nguye\\anaconda3\\envs\\envTF24\\lib\\site-packages\\csgo-1.0-py3.7.egg\\csgo\\parser\\\n",
      "22:12:11 [INFO] Looking for file at D:\\EDAV\\0\\astralis-vs-cr4zy-m1-inferno.dem\n"
     ]
    },
    {
     "name": "stdout",
     "output_type": "stream",
     "text": [
      "parsing    0 astralis-vs-cr4zy-m1-inferno.dem\n"
     ]
    },
    {
     "name": "stderr",
     "output_type": "stream",
     "text": [
      "22:12:17 [INFO] Wrote demo parse output to 0 astralis-vs-cr4zy-m1-inferno.json\n",
      "22:12:17 [INFO] Reading in JSON from 0 astralis-vs-cr4zy-m1-inferno.json\n",
      "22:12:17 [INFO] JSON data loaded, available in the `json` attribute to parser\n",
      "22:12:17 [INFO] Successfully parsed JSON output\n",
      "22:12:17 [INFO] Successfully returned JSON output\n",
      "22:12:25 [INFO] Go version>=1.14.0\n",
      "22:12:25 [INFO] Initialized CSGODemoParser with demofile D:\\EDAV\\0\\astralis-vs-cr4zy-m2-dust2.dem\n",
      "22:12:25 [INFO] Setting demo id to 0 astralis-vs-cr4zy-m2-dust2\n",
      "22:12:25 [INFO] Setting parse rate to 128\n",
      "22:12:25 [INFO] Setting trade time to 5\n",
      "22:12:25 [INFO] Setting buy style to hltv\n",
      "22:12:25 [INFO] Rollup damages set to False\n",
      "22:12:25 [INFO] Parse frames set to True\n",
      "22:12:26 [INFO] Running Golang parser from C:\\Users\\nguye\\anaconda3\\envs\\envTF24\\lib\\site-packages\\csgo-1.0-py3.7.egg\\csgo\\parser\\\n",
      "22:12:26 [INFO] Looking for file at D:\\EDAV\\0\\astralis-vs-cr4zy-m2-dust2.dem\n"
     ]
    },
    {
     "name": "stdout",
     "output_type": "stream",
     "text": [
      "parsing    0 astralis-vs-cr4zy-m2-dust2.dem\n"
     ]
    },
    {
     "name": "stderr",
     "output_type": "stream",
     "text": [
      "22:12:36 [INFO] Wrote demo parse output to 0 astralis-vs-cr4zy-m2-dust2.json\n",
      "22:12:36 [INFO] Reading in JSON from 0 astralis-vs-cr4zy-m2-dust2.json\n",
      "22:12:37 [INFO] JSON data loaded, available in the `json` attribute to parser\n",
      "22:12:37 [INFO] Successfully parsed JSON output\n",
      "22:12:37 [INFO] Successfully returned JSON output\n",
      "22:12:56 [INFO] Go version>=1.14.0\n",
      "22:12:56 [INFO] Initialized CSGODemoParser with demofile D:\\EDAV\\1\\MLGColumbus2016-faze-vs-splyce-inferno.dem\n",
      "22:12:56 [INFO] Setting demo id to 1 MLGColumbus2016-faze-vs-splyce-inferno\n",
      "22:12:56 [INFO] Setting parse rate to 128\n",
      "22:12:56 [INFO] Setting trade time to 5\n",
      "22:12:56 [INFO] Setting buy style to hltv\n",
      "22:12:56 [INFO] Rollup damages set to False\n",
      "22:12:56 [INFO] Parse frames set to True\n",
      "22:12:56 [INFO] Running Golang parser from C:\\Users\\nguye\\anaconda3\\envs\\envTF24\\lib\\site-packages\\csgo-1.0-py3.7.egg\\csgo\\parser\\\n",
      "22:12:56 [INFO] Looking for file at D:\\EDAV\\1\\MLGColumbus2016-faze-vs-splyce-inferno.dem\n"
     ]
    },
    {
     "name": "stdout",
     "output_type": "stream",
     "text": [
      "parsing    1 MLGColumbus2016-faze-vs-splyce-inferno.dem\n"
     ]
    },
    {
     "name": "stderr",
     "output_type": "stream",
     "text": [
      "22:13:00 [INFO] Wrote demo parse output to 1 MLGColumbus2016-faze-vs-splyce-inferno.json\n",
      "22:13:00 [INFO] Reading in JSON from 1 MLGColumbus2016-faze-vs-splyce-inferno.json\n",
      "22:13:01 [INFO] JSON data loaded, available in the `json` attribute to parser\n",
      "22:13:01 [INFO] Successfully parsed JSON output\n",
      "22:13:01 [INFO] Successfully returned JSON output\n",
      "22:13:07 [INFO] Go version>=1.14.0\n",
      "22:13:07 [INFO] Initialized CSGODemoParser with demofile D:\\EDAV\\2\\ESLOneKatowice2015-Groups-virtuspro-vs-cloud9-inferno.dem\n",
      "22:13:07 [INFO] Setting demo id to 2 ESLOneKatowice2015-Groups-virtuspro-vs-cloud9-inferno\n",
      "22:13:07 [INFO] Setting parse rate to 128\n",
      "22:13:07 [INFO] Setting trade time to 5\n",
      "22:13:07 [INFO] Setting buy style to hltv\n",
      "22:13:07 [INFO] Rollup damages set to False\n",
      "22:13:07 [INFO] Parse frames set to True\n",
      "22:13:07 [INFO] Running Golang parser from C:\\Users\\nguye\\anaconda3\\envs\\envTF24\\lib\\site-packages\\csgo-1.0-py3.7.egg\\csgo\\parser\\\n",
      "22:13:07 [INFO] Looking for file at D:\\EDAV\\2\\ESLOneKatowice2015-Groups-virtuspro-vs-cloud9-inferno.dem\n"
     ]
    },
    {
     "name": "stdout",
     "output_type": "stream",
     "text": [
      "parsing    2 ESLOneKatowice2015-Groups-virtuspro-vs-cloud9-inferno.dem\n"
     ]
    },
    {
     "name": "stderr",
     "output_type": "stream",
     "text": [
      "22:13:09 [INFO] Wrote demo parse output to 2 ESLOneKatowice2015-Groups-virtuspro-vs-cloud9-inferno.json\n",
      "22:13:09 [INFO] Reading in JSON from 2 ESLOneKatowice2015-Groups-virtuspro-vs-cloud9-inferno.json\n",
      "22:13:09 [INFO] JSON data loaded, available in the `json` attribute to parser\n",
      "22:13:09 [INFO] Successfully parsed JSON output\n",
      "22:13:09 [INFO] Successfully returned JSON output\n",
      "22:13:10 [INFO] Go version>=1.14.0\n",
      "22:13:10 [INFO] Initialized CSGODemoParser with demofile D:\\EDAV\\3\\astralis-vs-mibr-dust2.dem\n",
      "22:13:10 [INFO] Setting demo id to 3 astralis-vs-mibr-dust2\n",
      "22:13:10 [INFO] Setting parse rate to 128\n",
      "22:13:10 [INFO] Setting trade time to 5\n",
      "22:13:10 [INFO] Setting buy style to hltv\n",
      "22:13:10 [INFO] Rollup damages set to False\n",
      "22:13:10 [INFO] Parse frames set to True\n",
      "22:13:10 [INFO] Running Golang parser from C:\\Users\\nguye\\anaconda3\\envs\\envTF24\\lib\\site-packages\\csgo-1.0-py3.7.egg\\csgo\\parser\\\n",
      "22:13:10 [INFO] Looking for file at D:\\EDAV\\3\\astralis-vs-mibr-dust2.dem\n"
     ]
    },
    {
     "name": "stdout",
     "output_type": "stream",
     "text": [
      "parsing    3 astralis-vs-mibr-dust2.dem\n"
     ]
    },
    {
     "name": "stderr",
     "output_type": "stream",
     "text": [
      "22:13:14 [INFO] Wrote demo parse output to 3 astralis-vs-mibr-dust2.json\n",
      "22:13:14 [INFO] Reading in JSON from 3 astralis-vs-mibr-dust2.json\n",
      "22:13:14 [INFO] JSON data loaded, available in the `json` attribute to parser\n",
      "22:13:14 [INFO] Successfully parsed JSON output\n",
      "22:13:14 [INFO] Successfully returned JSON output\n",
      "22:13:19 [INFO] Go version>=1.14.0\n",
      "22:13:19 [INFO] Initialized CSGODemoParser with demofile D:\\EDAV\\4\\north-vs-virtuspro-mirage.dem\n",
      "22:13:19 [INFO] Setting demo id to 4 north-vs-virtuspro-mirage\n",
      "22:13:19 [INFO] Setting parse rate to 128\n",
      "22:13:19 [INFO] Setting trade time to 5\n",
      "22:13:19 [INFO] Setting buy style to hltv\n",
      "22:13:19 [INFO] Rollup damages set to False\n",
      "22:13:19 [INFO] Parse frames set to True\n",
      "22:13:19 [INFO] Running Golang parser from C:\\Users\\nguye\\anaconda3\\envs\\envTF24\\lib\\site-packages\\csgo-1.0-py3.7.egg\\csgo\\parser\\\n",
      "22:13:19 [INFO] Looking for file at D:\\EDAV\\4\\north-vs-virtuspro-mirage.dem\n"
     ]
    },
    {
     "name": "stdout",
     "output_type": "stream",
     "text": [
      "parsing    4 north-vs-virtuspro-mirage.dem\n"
     ]
    },
    {
     "name": "stderr",
     "output_type": "stream",
     "text": [
      "22:13:25 [INFO] Wrote demo parse output to 4 north-vs-virtuspro-mirage.json\n",
      "22:13:25 [INFO] Reading in JSON from 4 north-vs-virtuspro-mirage.json\n",
      "22:13:25 [INFO] JSON data loaded, available in the `json` attribute to parser\n",
      "22:13:25 [INFO] Successfully parsed JSON output\n",
      "22:13:25 [INFO] Successfully returned JSON output\n",
      "22:13:34 [INFO] Go version>=1.14.0\n",
      "22:13:34 [INFO] Initialized CSGODemoParser with demofile D:\\EDAV\\5\\ESLOneCologne-QF-dignitas-vs-epsilon-inferno.dem\n",
      "22:13:34 [INFO] Setting demo id to 5 ESLOneCologne-QF-dignitas-vs-epsilon-inferno\n",
      "22:13:34 [INFO] Setting parse rate to 128\n",
      "22:13:34 [INFO] Setting trade time to 5\n",
      "22:13:34 [INFO] Setting buy style to hltv\n",
      "22:13:34 [INFO] Rollup damages set to False\n",
      "22:13:34 [INFO] Parse frames set to True\n",
      "22:13:34 [INFO] Running Golang parser from C:\\Users\\nguye\\anaconda3\\envs\\envTF24\\lib\\site-packages\\csgo-1.0-py3.7.egg\\csgo\\parser\\\n",
      "22:13:34 [INFO] Looking for file at D:\\EDAV\\5\\ESLOneCologne-QF-dignitas-vs-epsilon-inferno.dem\n"
     ]
    },
    {
     "name": "stdout",
     "output_type": "stream",
     "text": [
      "parsing    5 ESLOneCologne-QF-dignitas-vs-epsilon-inferno.dem\n"
     ]
    },
    {
     "name": "stderr",
     "output_type": "stream",
     "text": [
      "22:13:36 [INFO] Wrote demo parse output to 5 ESLOneCologne-QF-dignitas-vs-epsilon-inferno.json\n",
      "22:13:36 [INFO] Reading in JSON from 5 ESLOneCologne-QF-dignitas-vs-epsilon-inferno.json\n",
      "22:13:36 [INFO] JSON data loaded, available in the `json` attribute to parser\n",
      "22:13:36 [INFO] Successfully parsed JSON output\n",
      "22:13:36 [INFO] Successfully returned JSON output\n",
      "22:13:37 [INFO] Go version>=1.14.0\n",
      "22:13:37 [INFO] Initialized CSGODemoParser with demofile D:\\EDAV\\5\\ESLOneCologne-QF-dignitas-vs-epsilon-dust2.dem\n",
      "22:13:37 [INFO] Setting demo id to 5 ESLOneCologne-QF-dignitas-vs-epsilon-dust2\n",
      "22:13:37 [INFO] Setting parse rate to 128\n",
      "22:13:37 [INFO] Setting trade time to 5\n",
      "22:13:37 [INFO] Setting buy style to hltv\n",
      "22:13:37 [INFO] Rollup damages set to False\n",
      "22:13:37 [INFO] Parse frames set to True\n",
      "22:13:37 [INFO] Running Golang parser from C:\\Users\\nguye\\anaconda3\\envs\\envTF24\\lib\\site-packages\\csgo-1.0-py3.7.egg\\csgo\\parser\\\n",
      "22:13:37 [INFO] Looking for file at D:\\EDAV\\5\\ESLOneCologne-QF-dignitas-vs-epsilon-dust2.dem\n"
     ]
    },
    {
     "name": "stdout",
     "output_type": "stream",
     "text": [
      "parsing    5 ESLOneCologne-QF-dignitas-vs-epsilon-dust2.dem\n"
     ]
    },
    {
     "name": "stderr",
     "output_type": "stream",
     "text": [
      "22:13:39 [INFO] Wrote demo parse output to 5 ESLOneCologne-QF-dignitas-vs-epsilon-dust2.json\n",
      "22:13:39 [INFO] Reading in JSON from 5 ESLOneCologne-QF-dignitas-vs-epsilon-dust2.json\n",
      "22:13:39 [INFO] JSON data loaded, available in the `json` attribute to parser\n",
      "22:13:39 [INFO] Successfully parsed JSON output\n",
      "22:13:39 [INFO] Successfully returned JSON output\n",
      "22:13:41 [INFO] Go version>=1.14.0\n",
      "22:13:41 [INFO] Initialized CSGODemoParser with demofile D:\\EDAV\\6\\003105563911831683409_2082986634_1_fnatic_vs_luminosity_inferno.dem\n",
      "22:13:41 [INFO] Setting demo id to 6 003105563911831683409_2082986634_1_fnatic_vs_luminosity_inferno\n",
      "22:13:41 [INFO] Setting parse rate to 128\n",
      "22:13:41 [INFO] Setting trade time to 5\n",
      "22:13:41 [INFO] Setting buy style to hltv\n",
      "22:13:41 [INFO] Rollup damages set to False\n",
      "22:13:41 [INFO] Parse frames set to True\n",
      "22:13:41 [INFO] Running Golang parser from C:\\Users\\nguye\\anaconda3\\envs\\envTF24\\lib\\site-packages\\csgo-1.0-py3.7.egg\\csgo\\parser\\\n",
      "22:13:41 [INFO] Looking for file at D:\\EDAV\\6\\003105563911831683409_2082986634_1_fnatic_vs_luminosity_inferno.dem\n"
     ]
    },
    {
     "name": "stdout",
     "output_type": "stream",
     "text": [
      "parsing    6 003105563911831683409_2082986634_1_fnatic_vs_luminosity_inferno.dem\n"
     ]
    },
    {
     "name": "stderr",
     "output_type": "stream",
     "text": [
      "22:13:46 [INFO] Wrote demo parse output to 6 003105563911831683409_2082986634_1_fnatic_vs_luminosity_inferno.json\n",
      "22:13:46 [INFO] Reading in JSON from 6 003105563911831683409_2082986634_1_fnatic_vs_luminosity_inferno.json\n",
      "22:13:47 [INFO] JSON data loaded, available in the `json` attribute to parser\n",
      "22:13:47 [INFO] Successfully parsed JSON output\n",
      "22:13:47 [INFO] Successfully returned JSON output\n",
      "22:13:56 [INFO] Go version>=1.14.0\n",
      "22:13:56 [INFO] Initialized CSGODemoParser with demofile D:\\EDAV\\7\\ESLOneCologne2015-renegades-vs-titan-mirage-1.dem\n",
      "22:13:56 [INFO] Setting demo id to 7 ESLOneCologne2015-renegades-vs-titan-mirage-1\n",
      "22:13:56 [INFO] Setting parse rate to 128\n",
      "22:13:56 [INFO] Setting trade time to 5\n",
      "22:13:56 [INFO] Setting buy style to hltv\n",
      "22:13:56 [INFO] Rollup damages set to False\n",
      "22:13:56 [INFO] Parse frames set to True\n",
      "22:13:56 [INFO] Running Golang parser from C:\\Users\\nguye\\anaconda3\\envs\\envTF24\\lib\\site-packages\\csgo-1.0-py3.7.egg\\csgo\\parser\\\n",
      "22:13:56 [INFO] Looking for file at D:\\EDAV\\7\\ESLOneCologne2015-renegades-vs-titan-mirage-1.dem\n"
     ]
    },
    {
     "name": "stdout",
     "output_type": "stream",
     "text": [
      "parsing    7 ESLOneCologne2015-renegades-vs-titan-mirage-1.dem\n"
     ]
    },
    {
     "name": "stderr",
     "output_type": "stream",
     "text": [
      "22:13:58 [INFO] Wrote demo parse output to 7 ESLOneCologne2015-renegades-vs-titan-mirage-1.json\n",
      "22:13:58 [INFO] Reading in JSON from 7 ESLOneCologne2015-renegades-vs-titan-mirage-1.json\n",
      "22:13:59 [INFO] JSON data loaded, available in the `json` attribute to parser\n",
      "22:13:59 [INFO] Successfully parsed JSON output\n",
      "22:13:59 [INFO] Successfully returned JSON output\n",
      "22:14:00 [INFO] Go version>=1.14.0\n",
      "22:14:00 [INFO] Initialized CSGODemoParser with demofile D:\\EDAV\\8\\ESLOneKatowice2015-Groups-keydstars-vs-clg-dust2.dem\n",
      "22:14:00 [INFO] Setting demo id to 8 ESLOneKatowice2015-Groups-keydstars-vs-clg-dust2\n",
      "22:14:00 [INFO] Setting parse rate to 128\n",
      "22:14:00 [INFO] Setting trade time to 5\n",
      "22:14:00 [INFO] Setting buy style to hltv\n",
      "22:14:00 [INFO] Rollup damages set to False\n",
      "22:14:00 [INFO] Parse frames set to True\n",
      "22:14:00 [INFO] Running Golang parser from C:\\Users\\nguye\\anaconda3\\envs\\envTF24\\lib\\site-packages\\csgo-1.0-py3.7.egg\\csgo\\parser\\\n",
      "22:14:00 [INFO] Looking for file at D:\\EDAV\\8\\ESLOneKatowice2015-Groups-keydstars-vs-clg-dust2.dem\n"
     ]
    },
    {
     "name": "stdout",
     "output_type": "stream",
     "text": [
      "parsing    8 ESLOneKatowice2015-Groups-keydstars-vs-clg-dust2.dem\n"
     ]
    },
    {
     "name": "stderr",
     "output_type": "stream",
     "text": [
      "22:14:02 [INFO] Wrote demo parse output to 8 ESLOneKatowice2015-Groups-keydstars-vs-clg-dust2.json\n",
      "22:14:02 [INFO] Reading in JSON from 8 ESLOneKatowice2015-Groups-keydstars-vs-clg-dust2.json\n",
      "22:14:02 [INFO] JSON data loaded, available in the `json` attribute to parser\n",
      "22:14:02 [INFO] Successfully parsed JSON output\n",
      "22:14:02 [INFO] Successfully returned JSON output\n",
      "22:14:03 [INFO] Go version>=1.14.0\n",
      "22:14:03 [INFO] Initialized CSGODemoParser with demofile D:\\EDAV\\9\\natus-vincere-vs-vitality-mirage.dem\n",
      "22:14:03 [INFO] Setting demo id to 9 natus-vincere-vs-vitality-mirage\n",
      "22:14:03 [INFO] Setting parse rate to 128\n",
      "22:14:03 [INFO] Setting trade time to 5\n",
      "22:14:03 [INFO] Setting buy style to hltv\n",
      "22:14:03 [INFO] Rollup damages set to False\n",
      "22:14:03 [INFO] Parse frames set to True\n",
      "22:14:03 [INFO] Running Golang parser from C:\\Users\\nguye\\anaconda3\\envs\\envTF24\\lib\\site-packages\\csgo-1.0-py3.7.egg\\csgo\\parser\\\n",
      "22:14:03 [INFO] Looking for file at D:\\EDAV\\9\\natus-vincere-vs-vitality-mirage.dem\n"
     ]
    },
    {
     "name": "stdout",
     "output_type": "stream",
     "text": [
      "parsing    9 natus-vincere-vs-vitality-mirage.dem\n"
     ]
    },
    {
     "name": "stderr",
     "output_type": "stream",
     "text": [
      "22:14:12 [INFO] Wrote demo parse output to 9 natus-vincere-vs-vitality-mirage.json\n",
      "22:14:12 [INFO] Reading in JSON from 9 natus-vincere-vs-vitality-mirage.json\n",
      "22:14:13 [INFO] JSON data loaded, available in the `json` attribute to parser\n",
      "22:14:13 [INFO] Successfully parsed JSON output\n",
      "22:14:13 [INFO] Successfully returned JSON output\n",
      "22:14:29 [INFO] Go version>=1.14.0\n",
      "22:14:29 [INFO] Initialized CSGODemoParser with demofile D:\\EDAV\\10\\astralis-vs-cloud9-train.dem\n",
      "22:14:29 [INFO] Setting demo id to 10 astralis-vs-cloud9-train\n",
      "22:14:29 [INFO] Setting parse rate to 128\n",
      "22:14:29 [INFO] Setting trade time to 5\n",
      "22:14:29 [INFO] Setting buy style to hltv\n",
      "22:14:29 [INFO] Rollup damages set to False\n",
      "22:14:29 [INFO] Parse frames set to True\n",
      "22:14:29 [INFO] Running Golang parser from C:\\Users\\nguye\\anaconda3\\envs\\envTF24\\lib\\site-packages\\csgo-1.0-py3.7.egg\\csgo\\parser\\\n",
      "22:14:29 [INFO] Looking for file at D:\\EDAV\\10\\astralis-vs-cloud9-train.dem\n"
     ]
    },
    {
     "name": "stdout",
     "output_type": "stream",
     "text": [
      "parsing    10 astralis-vs-cloud9-train.dem\n"
     ]
    },
    {
     "name": "stderr",
     "output_type": "stream",
     "text": [
      "22:14:33 [INFO] Wrote demo parse output to 10 astralis-vs-cloud9-train.json\n",
      "22:14:33 [INFO] Reading in JSON from 10 astralis-vs-cloud9-train.json\n",
      "22:14:34 [INFO] JSON data loaded, available in the `json` attribute to parser\n",
      "22:14:34 [INFO] Successfully parsed JSON output\n",
      "22:14:34 [INFO] Successfully returned JSON output\n",
      "22:14:40 [INFO] Go version>=1.14.0\n",
      "22:14:40 [INFO] Initialized CSGODemoParser with demofile D:\\EDAV\\11\\natusvincere-vs-envyus-cobblestone.dem\n",
      "22:14:40 [INFO] Setting demo id to 11 natusvincere-vs-envyus-cobblestone\n",
      "22:14:40 [INFO] Setting parse rate to 128\n",
      "22:14:40 [INFO] Setting trade time to 5\n",
      "22:14:40 [INFO] Setting buy style to hltv\n",
      "22:14:40 [INFO] Rollup damages set to False\n",
      "22:14:40 [INFO] Parse frames set to True\n",
      "22:14:40 [INFO] Running Golang parser from C:\\Users\\nguye\\anaconda3\\envs\\envTF24\\lib\\site-packages\\csgo-1.0-py3.7.egg\\csgo\\parser\\\n",
      "22:14:40 [INFO] Looking for file at D:\\EDAV\\11\\natusvincere-vs-envyus-cobblestone.dem\n"
     ]
    },
    {
     "name": "stdout",
     "output_type": "stream",
     "text": [
      "parsing    11 natusvincere-vs-envyus-cobblestone.dem\n"
     ]
    },
    {
     "name": "stderr",
     "output_type": "stream",
     "text": [
      "22:14:44 [INFO] Wrote demo parse output to 11 natusvincere-vs-envyus-cobblestone.json\n",
      "22:14:44 [INFO] Reading in JSON from 11 natusvincere-vs-envyus-cobblestone.json\n",
      "22:14:44 [INFO] JSON data loaded, available in the `json` attribute to parser\n",
      "22:14:44 [INFO] Successfully parsed JSON output\n",
      "22:14:44 [INFO] Successfully returned JSON output\n",
      "22:14:50 [INFO] Go version>=1.14.0\n",
      "22:14:50 [INFO] Initialized CSGODemoParser with demofile D:\\EDAV\\12\\liquid-vs-north-m1-mirage.dem\n",
      "22:14:50 [INFO] Setting demo id to 12 liquid-vs-north-m1-mirage\n",
      "22:14:50 [INFO] Setting parse rate to 128\n",
      "22:14:50 [INFO] Setting trade time to 5\n",
      "22:14:50 [INFO] Setting buy style to hltv\n",
      "22:14:50 [INFO] Rollup damages set to False\n",
      "22:14:50 [INFO] Parse frames set to True\n",
      "22:14:50 [INFO] Running Golang parser from C:\\Users\\nguye\\anaconda3\\envs\\envTF24\\lib\\site-packages\\csgo-1.0-py3.7.egg\\csgo\\parser\\\n",
      "22:14:50 [INFO] Looking for file at D:\\EDAV\\12\\liquid-vs-north-m1-mirage.dem\n"
     ]
    },
    {
     "name": "stdout",
     "output_type": "stream",
     "text": [
      "parsing    12 liquid-vs-north-m1-mirage.dem\n"
     ]
    },
    {
     "name": "stderr",
     "output_type": "stream",
     "text": [
      "22:14:54 [INFO] Wrote demo parse output to 12 liquid-vs-north-m1-mirage.json\n",
      "22:14:54 [INFO] Reading in JSON from 12 liquid-vs-north-m1-mirage.json\n",
      "22:14:55 [INFO] JSON data loaded, available in the `json` attribute to parser\n",
      "22:14:55 [INFO] Successfully parsed JSON output\n",
      "22:14:55 [INFO] Successfully returned JSON output\n",
      "22:15:03 [INFO] Go version>=1.14.0\n",
      "22:15:03 [INFO] Initialized CSGODemoParser with demofile D:\\EDAV\\12\\liquid-vs-north-m2-dust2.dem\n",
      "22:15:03 [INFO] Setting demo id to 12 liquid-vs-north-m2-dust2\n",
      "22:15:03 [INFO] Setting parse rate to 128\n",
      "22:15:03 [INFO] Setting trade time to 5\n",
      "22:15:03 [INFO] Setting buy style to hltv\n",
      "22:15:03 [INFO] Rollup damages set to False\n",
      "22:15:03 [INFO] Parse frames set to True\n",
      "22:15:03 [INFO] Running Golang parser from C:\\Users\\nguye\\anaconda3\\envs\\envTF24\\lib\\site-packages\\csgo-1.0-py3.7.egg\\csgo\\parser\\\n",
      "22:15:03 [INFO] Looking for file at D:\\EDAV\\12\\liquid-vs-north-m2-dust2.dem\n"
     ]
    },
    {
     "name": "stdout",
     "output_type": "stream",
     "text": [
      "parsing    12 liquid-vs-north-m2-dust2.dem\n"
     ]
    },
    {
     "name": "stderr",
     "output_type": "stream",
     "text": [
      "22:15:07 [INFO] Wrote demo parse output to 12 liquid-vs-north-m2-dust2.json\n",
      "22:15:07 [INFO] Reading in JSON from 12 liquid-vs-north-m2-dust2.json\n",
      "22:15:08 [INFO] JSON data loaded, available in the `json` attribute to parser\n",
      "22:15:08 [INFO] Successfully parsed JSON output\n",
      "22:15:08 [INFO] Successfully returned JSON output\n",
      "22:15:14 [INFO] Go version>=1.14.0\n",
      "22:15:14 [INFO] Initialized CSGODemoParser with demofile D:\\EDAV\\13\\EMSKato-GroupC-dignitas-vs-reason-inferno.dem\n",
      "22:15:14 [INFO] Setting demo id to 13 EMSKato-GroupC-dignitas-vs-reason-inferno\n",
      "22:15:14 [INFO] Setting parse rate to 128\n",
      "22:15:14 [INFO] Setting trade time to 5\n",
      "22:15:14 [INFO] Setting buy style to hltv\n",
      "22:15:14 [INFO] Rollup damages set to False\n",
      "22:15:14 [INFO] Parse frames set to True\n",
      "22:15:14 [INFO] Running Golang parser from C:\\Users\\nguye\\anaconda3\\envs\\envTF24\\lib\\site-packages\\csgo-1.0-py3.7.egg\\csgo\\parser\\\n",
      "22:15:14 [INFO] Looking for file at D:\\EDAV\\13\\EMSKato-GroupC-dignitas-vs-reason-inferno.dem\n"
     ]
    },
    {
     "name": "stdout",
     "output_type": "stream",
     "text": [
      "parsing    13 EMSKato-GroupC-dignitas-vs-reason-inferno.dem\n"
     ]
    },
    {
     "name": "stderr",
     "output_type": "stream",
     "text": [
      "22:15:16 [INFO] Wrote demo parse output to 13 EMSKato-GroupC-dignitas-vs-reason-inferno.json\n",
      "22:15:16 [INFO] Reading in JSON from 13 EMSKato-GroupC-dignitas-vs-reason-inferno.json\n",
      "22:15:16 [INFO] JSON data loaded, available in the `json` attribute to parser\n",
      "22:15:16 [INFO] Successfully parsed JSON output\n",
      "22:15:16 [INFO] Successfully returned JSON output\n",
      "22:15:17 [INFO] Go version>=1.14.0\n",
      "22:15:17 [INFO] Initialized CSGODemoParser with demofile D:\\EDAV\\14\\mibr-vs-astralis-m1-overpass.dem\n",
      "22:15:17 [INFO] Setting demo id to 14 mibr-vs-astralis-m1-overpass\n",
      "22:15:17 [INFO] Setting parse rate to 128\n",
      "22:15:17 [INFO] Setting trade time to 5\n",
      "22:15:17 [INFO] Setting buy style to hltv\n",
      "22:15:17 [INFO] Rollup damages set to False\n",
      "22:15:17 [INFO] Parse frames set to True\n",
      "22:15:17 [INFO] Running Golang parser from C:\\Users\\nguye\\anaconda3\\envs\\envTF24\\lib\\site-packages\\csgo-1.0-py3.7.egg\\csgo\\parser\\\n",
      "22:15:17 [INFO] Looking for file at D:\\EDAV\\14\\mibr-vs-astralis-m1-overpass.dem\n"
     ]
    },
    {
     "name": "stdout",
     "output_type": "stream",
     "text": [
      "parsing    14 mibr-vs-astralis-m1-overpass.dem\n"
     ]
    },
    {
     "name": "stderr",
     "output_type": "stream",
     "text": [
      "22:15:25 [INFO] Wrote demo parse output to 14 mibr-vs-astralis-m1-overpass.json\n",
      "22:15:25 [INFO] Reading in JSON from 14 mibr-vs-astralis-m1-overpass.json\n",
      "22:15:26 [INFO] JSON data loaded, available in the `json` attribute to parser\n",
      "22:15:26 [INFO] Successfully parsed JSON output\n",
      "22:15:26 [INFO] Successfully returned JSON output\n",
      "22:15:36 [INFO] Go version>=1.14.0\n",
      "22:15:36 [INFO] Initialized CSGODemoParser with demofile D:\\EDAV\\14\\mibr-vs-astralis-m2-inferno.dem\n",
      "22:15:36 [INFO] Setting demo id to 14 mibr-vs-astralis-m2-inferno\n",
      "22:15:36 [INFO] Setting parse rate to 128\n",
      "22:15:36 [INFO] Setting trade time to 5\n",
      "22:15:36 [INFO] Setting buy style to hltv\n",
      "22:15:36 [INFO] Rollup damages set to False\n",
      "22:15:36 [INFO] Parse frames set to True\n",
      "22:15:36 [INFO] Running Golang parser from C:\\Users\\nguye\\anaconda3\\envs\\envTF24\\lib\\site-packages\\csgo-1.0-py3.7.egg\\csgo\\parser\\\n",
      "22:15:36 [INFO] Looking for file at D:\\EDAV\\14\\mibr-vs-astralis-m2-inferno.dem\n"
     ]
    },
    {
     "name": "stdout",
     "output_type": "stream",
     "text": [
      "parsing    14 mibr-vs-astralis-m2-inferno.dem\n"
     ]
    },
    {
     "name": "stderr",
     "output_type": "stream",
     "text": [
      "22:15:41 [INFO] Wrote demo parse output to 14 mibr-vs-astralis-m2-inferno.json\n",
      "22:15:41 [INFO] Reading in JSON from 14 mibr-vs-astralis-m2-inferno.json\n",
      "22:15:42 [INFO] JSON data loaded, available in the `json` attribute to parser\n",
      "22:15:42 [INFO] Successfully parsed JSON output\n",
      "22:15:42 [INFO] Successfully returned JSON output\n",
      "22:15:50 [INFO] Go version>=1.14.0\n",
      "22:15:50 [INFO] Initialized CSGODemoParser with demofile D:\\EDAV\\15\\mousesports-vs-liquid-nuke.dem\n",
      "22:15:50 [INFO] Setting demo id to 15 mousesports-vs-liquid-nuke\n",
      "22:15:50 [INFO] Setting parse rate to 128\n",
      "22:15:50 [INFO] Setting trade time to 5\n",
      "22:15:50 [INFO] Setting buy style to hltv\n",
      "22:15:50 [INFO] Rollup damages set to False\n",
      "22:15:50 [INFO] Parse frames set to True\n",
      "22:15:50 [INFO] Running Golang parser from C:\\Users\\nguye\\anaconda3\\envs\\envTF24\\lib\\site-packages\\csgo-1.0-py3.7.egg\\csgo\\parser\\\n",
      "22:15:50 [INFO] Looking for file at D:\\EDAV\\15\\mousesports-vs-liquid-nuke.dem\n"
     ]
    },
    {
     "name": "stdout",
     "output_type": "stream",
     "text": [
      "parsing    15 mousesports-vs-liquid-nuke.dem\n"
     ]
    },
    {
     "name": "stderr",
     "output_type": "stream",
     "text": [
      "22:15:54 [INFO] Wrote demo parse output to 15 mousesports-vs-liquid-nuke.json\n",
      "22:15:54 [INFO] Reading in JSON from 15 mousesports-vs-liquid-nuke.json\n",
      "22:15:54 [INFO] JSON data loaded, available in the `json` attribute to parser\n",
      "22:15:54 [INFO] Successfully parsed JSON output\n",
      "22:15:54 [INFO] Successfully returned JSON output\n",
      "22:16:00 [INFO] Go version>=1.14.0\n",
      "22:16:00 [INFO] Initialized CSGODemoParser with demofile D:\\EDAV\\16\\ence-vs-g2-m2-mirage.dem\n",
      "22:16:00 [INFO] Setting demo id to 16 ence-vs-g2-m2-mirage\n",
      "22:16:00 [INFO] Setting parse rate to 128\n",
      "22:16:00 [INFO] Setting trade time to 5\n",
      "22:16:00 [INFO] Setting buy style to hltv\n",
      "22:16:00 [INFO] Rollup damages set to False\n",
      "22:16:00 [INFO] Parse frames set to True\n",
      "22:16:00 [INFO] Running Golang parser from C:\\Users\\nguye\\anaconda3\\envs\\envTF24\\lib\\site-packages\\csgo-1.0-py3.7.egg\\csgo\\parser\\\n",
      "22:16:00 [INFO] Looking for file at D:\\EDAV\\16\\ence-vs-g2-m2-mirage.dem\n"
     ]
    },
    {
     "name": "stdout",
     "output_type": "stream",
     "text": [
      "parsing    16 ence-vs-g2-m2-mirage.dem\n"
     ]
    },
    {
     "name": "stderr",
     "output_type": "stream",
     "text": [
      "22:16:04 [INFO] Wrote demo parse output to 16 ence-vs-g2-m2-mirage.json\n",
      "22:16:04 [INFO] Reading in JSON from 16 ence-vs-g2-m2-mirage.json\n",
      "22:16:05 [INFO] JSON data loaded, available in the `json` attribute to parser\n",
      "22:16:05 [INFO] Successfully parsed JSON output\n",
      "22:16:05 [INFO] Successfully returned JSON output\n",
      "22:16:11 [INFO] Go version>=1.14.0\n",
      "22:16:11 [INFO] Initialized CSGODemoParser with demofile D:\\EDAV\\16\\ence-vs-g2-m1-dust2.dem\n",
      "22:16:11 [INFO] Setting demo id to 16 ence-vs-g2-m1-dust2\n",
      "22:16:11 [INFO] Setting parse rate to 128\n",
      "22:16:11 [INFO] Setting trade time to 5\n",
      "22:16:11 [INFO] Setting buy style to hltv\n",
      "22:16:11 [INFO] Rollup damages set to False\n",
      "22:16:11 [INFO] Parse frames set to True\n",
      "22:16:11 [INFO] Running Golang parser from C:\\Users\\nguye\\anaconda3\\envs\\envTF24\\lib\\site-packages\\csgo-1.0-py3.7.egg\\csgo\\parser\\\n",
      "22:16:11 [INFO] Looking for file at D:\\EDAV\\16\\ence-vs-g2-m1-dust2.dem\n"
     ]
    },
    {
     "name": "stdout",
     "output_type": "stream",
     "text": [
      "parsing    16 ence-vs-g2-m1-dust2.dem\n"
     ]
    },
    {
     "name": "stderr",
     "output_type": "stream",
     "text": [
      "22:16:18 [INFO] Wrote demo parse output to 16 ence-vs-g2-m1-dust2.json\n",
      "22:16:18 [INFO] Reading in JSON from 16 ence-vs-g2-m1-dust2.json\n",
      "22:16:18 [INFO] JSON data loaded, available in the `json` attribute to parser\n",
      "22:16:18 [INFO] Successfully parsed JSON output\n",
      "22:16:18 [INFO] Successfully returned JSON output\n",
      "22:16:29 [INFO] Go version>=1.14.0\n",
      "22:16:29 [INFO] Initialized CSGODemoParser with demofile D:\\EDAV\\17\\sk-vs-hellraisers-mirage.dem\n",
      "22:16:29 [INFO] Setting demo id to 17 sk-vs-hellraisers-mirage\n",
      "22:16:29 [INFO] Setting parse rate to 128\n",
      "22:16:29 [INFO] Setting trade time to 5\n",
      "22:16:29 [INFO] Setting buy style to hltv\n",
      "22:16:29 [INFO] Rollup damages set to False\n",
      "22:16:29 [INFO] Parse frames set to True\n",
      "22:16:29 [INFO] Running Golang parser from C:\\Users\\nguye\\anaconda3\\envs\\envTF24\\lib\\site-packages\\csgo-1.0-py3.7.egg\\csgo\\parser\\\n",
      "22:16:29 [INFO] Looking for file at D:\\EDAV\\17\\sk-vs-hellraisers-mirage.dem\n"
     ]
    },
    {
     "name": "stdout",
     "output_type": "stream",
     "text": [
      "parsing    17 sk-vs-hellraisers-mirage.dem\n"
     ]
    },
    {
     "name": "stderr",
     "output_type": "stream",
     "text": [
      "22:16:33 [INFO] Wrote demo parse output to 17 sk-vs-hellraisers-mirage.json\n",
      "22:16:33 [INFO] Reading in JSON from 17 sk-vs-hellraisers-mirage.json\n",
      "22:16:33 [INFO] JSON data loaded, available in the `json` attribute to parser\n",
      "22:16:33 [INFO] Successfully parsed JSON output\n",
      "22:16:33 [INFO] Successfully returned JSON output\n",
      "22:16:40 [INFO] Go version>=1.14.0\n",
      "22:16:40 [INFO] Initialized CSGODemoParser with demofile D:\\EDAV\\18\\liquid-vs-astralis-m2-mirage.dem\n",
      "22:16:40 [INFO] Setting demo id to 18 liquid-vs-astralis-m2-mirage\n",
      "22:16:40 [INFO] Setting parse rate to 128\n",
      "22:16:40 [INFO] Setting trade time to 5\n",
      "22:16:40 [INFO] Setting buy style to hltv\n",
      "22:16:40 [INFO] Rollup damages set to False\n",
      "22:16:40 [INFO] Parse frames set to True\n",
      "22:16:40 [INFO] Running Golang parser from C:\\Users\\nguye\\anaconda3\\envs\\envTF24\\lib\\site-packages\\csgo-1.0-py3.7.egg\\csgo\\parser\\\n",
      "22:16:40 [INFO] Looking for file at D:\\EDAV\\18\\liquid-vs-astralis-m2-mirage.dem\n"
     ]
    },
    {
     "name": "stdout",
     "output_type": "stream",
     "text": [
      "parsing    18 liquid-vs-astralis-m2-mirage.dem\n"
     ]
    },
    {
     "name": "stderr",
     "output_type": "stream",
     "text": [
      "22:16:44 [INFO] Wrote demo parse output to 18 liquid-vs-astralis-m2-mirage.json\n",
      "22:16:44 [INFO] Reading in JSON from 18 liquid-vs-astralis-m2-mirage.json\n",
      "22:16:44 [INFO] JSON data loaded, available in the `json` attribute to parser\n",
      "22:16:44 [INFO] Successfully parsed JSON output\n",
      "22:16:44 [INFO] Successfully returned JSON output\n",
      "22:16:51 [INFO] Go version>=1.14.0\n",
      "22:16:51 [INFO] Initialized CSGODemoParser with demofile D:\\EDAV\\18\\liquid-vs-astralis-m1-nuke.dem\n",
      "22:16:51 [INFO] Setting demo id to 18 liquid-vs-astralis-m1-nuke\n",
      "22:16:51 [INFO] Setting parse rate to 128\n",
      "22:16:51 [INFO] Setting trade time to 5\n",
      "22:16:51 [INFO] Setting buy style to hltv\n",
      "22:16:51 [INFO] Rollup damages set to False\n",
      "22:16:51 [INFO] Parse frames set to True\n",
      "22:16:51 [INFO] Running Golang parser from C:\\Users\\nguye\\anaconda3\\envs\\envTF24\\lib\\site-packages\\csgo-1.0-py3.7.egg\\csgo\\parser\\\n",
      "22:16:51 [INFO] Looking for file at D:\\EDAV\\18\\liquid-vs-astralis-m1-nuke.dem\n"
     ]
    },
    {
     "name": "stdout",
     "output_type": "stream",
     "text": [
      "parsing    18 liquid-vs-astralis-m1-nuke.dem\n"
     ]
    },
    {
     "name": "stderr",
     "output_type": "stream",
     "text": [
      "22:16:55 [INFO] Wrote demo parse output to 18 liquid-vs-astralis-m1-nuke.json\n",
      "22:16:55 [INFO] Reading in JSON from 18 liquid-vs-astralis-m1-nuke.json\n",
      "22:16:56 [INFO] JSON data loaded, available in the `json` attribute to parser\n",
      "22:16:56 [INFO] Successfully parsed JSON output\n",
      "22:16:56 [INFO] Successfully returned JSON output\n",
      "22:17:03 [INFO] Go version>=1.14.0\n",
      "22:17:03 [INFO] Initialized CSGODemoParser with demofile D:\\EDAV\\19\\DHW14-GroupC-ldlc-vs-esc-cobblestone.dem\n",
      "22:17:03 [INFO] Setting demo id to 19 DHW14-GroupC-ldlc-vs-esc-cobblestone\n",
      "22:17:03 [INFO] Setting parse rate to 128\n",
      "22:17:03 [INFO] Setting trade time to 5\n",
      "22:17:03 [INFO] Setting buy style to hltv\n",
      "22:17:03 [INFO] Rollup damages set to False\n",
      "22:17:03 [INFO] Parse frames set to True\n",
      "22:17:03 [INFO] Running Golang parser from C:\\Users\\nguye\\anaconda3\\envs\\envTF24\\lib\\site-packages\\csgo-1.0-py3.7.egg\\csgo\\parser\\\n",
      "22:17:03 [INFO] Looking for file at D:\\EDAV\\19\\DHW14-GroupC-ldlc-vs-esc-cobblestone.dem\n"
     ]
    },
    {
     "name": "stdout",
     "output_type": "stream",
     "text": [
      "parsing    19 DHW14-GroupC-ldlc-vs-esc-cobblestone.dem\n"
     ]
    },
    {
     "name": "stderr",
     "output_type": "stream",
     "text": [
      "22:17:04 [INFO] Wrote demo parse output to 19 DHW14-GroupC-ldlc-vs-esc-cobblestone.json\n",
      "22:17:04 [INFO] Reading in JSON from 19 DHW14-GroupC-ldlc-vs-esc-cobblestone.json\n",
      "22:17:04 [INFO] JSON data loaded, available in the `json` attribute to parser\n",
      "22:17:04 [INFO] Successfully parsed JSON output\n",
      "22:17:04 [INFO] Successfully returned JSON output\n",
      "22:17:05 [INFO] Go version>=1.14.0\n",
      "22:17:05 [INFO] Initialized CSGODemoParser with demofile D:\\EDAV\\20\\renegades-vs-g2-m2-dust2.dem\n",
      "22:17:05 [INFO] Setting demo id to 20 renegades-vs-g2-m2-dust2\n",
      "22:17:05 [INFO] Setting parse rate to 128\n",
      "22:17:05 [INFO] Setting trade time to 5\n",
      "22:17:05 [INFO] Setting buy style to hltv\n",
      "22:17:05 [INFO] Rollup damages set to False\n",
      "22:17:05 [INFO] Parse frames set to True\n",
      "22:17:05 [INFO] Running Golang parser from C:\\Users\\nguye\\anaconda3\\envs\\envTF24\\lib\\site-packages\\csgo-1.0-py3.7.egg\\csgo\\parser\\\n",
      "22:17:05 [INFO] Looking for file at D:\\EDAV\\20\\renegades-vs-g2-m2-dust2.dem\n"
     ]
    },
    {
     "name": "stdout",
     "output_type": "stream",
     "text": [
      "parsing    20 renegades-vs-g2-m2-dust2.dem\n"
     ]
    },
    {
     "name": "stderr",
     "output_type": "stream",
     "text": [
      "22:17:11 [INFO] Wrote demo parse output to 20 renegades-vs-g2-m2-dust2.json\n",
      "22:17:11 [INFO] Reading in JSON from 20 renegades-vs-g2-m2-dust2.json\n",
      "22:17:11 [INFO] JSON data loaded, available in the `json` attribute to parser\n",
      "22:17:11 [INFO] Successfully parsed JSON output\n",
      "22:17:11 [INFO] Successfully returned JSON output\n",
      "22:17:20 [INFO] Go version>=1.14.0\n",
      "22:17:20 [INFO] Initialized CSGODemoParser with demofile D:\\EDAV\\20\\renegades-vs-g2-m3-inferno.dem\n",
      "22:17:20 [INFO] Setting demo id to 20 renegades-vs-g2-m3-inferno\n",
      "22:17:20 [INFO] Setting parse rate to 128\n",
      "22:17:20 [INFO] Setting trade time to 5\n",
      "22:17:20 [INFO] Setting buy style to hltv\n",
      "22:17:20 [INFO] Rollup damages set to False\n",
      "22:17:20 [INFO] Parse frames set to True\n",
      "22:17:20 [INFO] Running Golang parser from C:\\Users\\nguye\\anaconda3\\envs\\envTF24\\lib\\site-packages\\csgo-1.0-py3.7.egg\\csgo\\parser\\\n",
      "22:17:20 [INFO] Looking for file at D:\\EDAV\\20\\renegades-vs-g2-m3-inferno.dem\n"
     ]
    },
    {
     "name": "stdout",
     "output_type": "stream",
     "text": [
      "parsing    20 renegades-vs-g2-m3-inferno.dem\n"
     ]
    },
    {
     "name": "stderr",
     "output_type": "stream",
     "text": [
      "22:17:25 [INFO] Wrote demo parse output to 20 renegades-vs-g2-m3-inferno.json\n",
      "22:17:25 [INFO] Reading in JSON from 20 renegades-vs-g2-m3-inferno.json\n",
      "22:17:26 [INFO] JSON data loaded, available in the `json` attribute to parser\n",
      "22:17:26 [INFO] Successfully parsed JSON output\n",
      "22:17:26 [INFO] Successfully returned JSON output\n",
      "22:17:34 [INFO] Go version>=1.14.0\n",
      "22:17:34 [INFO] Initialized CSGODemoParser with demofile D:\\EDAV\\20\\renegades-vs-g2-m1-vertigo.dem\n",
      "22:17:34 [INFO] Setting demo id to 20 renegades-vs-g2-m1-vertigo\n",
      "22:17:34 [INFO] Setting parse rate to 128\n",
      "22:17:34 [INFO] Setting trade time to 5\n",
      "22:17:34 [INFO] Setting buy style to hltv\n",
      "22:17:34 [INFO] Rollup damages set to False\n",
      "22:17:34 [INFO] Parse frames set to True\n",
      "22:17:34 [INFO] Running Golang parser from C:\\Users\\nguye\\anaconda3\\envs\\envTF24\\lib\\site-packages\\csgo-1.0-py3.7.egg\\csgo\\parser\\\n",
      "22:17:34 [INFO] Looking for file at D:\\EDAV\\20\\renegades-vs-g2-m1-vertigo.dem\n"
     ]
    },
    {
     "name": "stdout",
     "output_type": "stream",
     "text": [
      "parsing    20 renegades-vs-g2-m1-vertigo.dem\n"
     ]
    },
    {
     "name": "stderr",
     "output_type": "stream",
     "text": [
      "22:17:38 [INFO] Wrote demo parse output to 20 renegades-vs-g2-m1-vertigo.json\n",
      "22:17:38 [INFO] Reading in JSON from 20 renegades-vs-g2-m1-vertigo.json\n",
      "22:17:39 [INFO] JSON data loaded, available in the `json` attribute to parser\n",
      "22:17:39 [INFO] Successfully parsed JSON output\n",
      "22:17:39 [INFO] Successfully returned JSON output\n",
      "22:17:47 [INFO] Go version>=1.14.0\n",
      "22:17:47 [INFO] Initialized CSGODemoParser with demofile D:\\EDAV\\21\\MLGColumbus2016-g2-vs-virtuspro-bo3-map1-train.dem\n",
      "22:17:47 [INFO] Setting demo id to 21 MLGColumbus2016-g2-vs-virtuspro-bo3-map1-train\n",
      "22:17:47 [INFO] Setting parse rate to 128\n",
      "22:17:47 [INFO] Setting trade time to 5\n",
      "22:17:47 [INFO] Setting buy style to hltv\n",
      "22:17:47 [INFO] Rollup damages set to False\n",
      "22:17:47 [INFO] Parse frames set to True\n",
      "22:17:47 [INFO] Running Golang parser from C:\\Users\\nguye\\anaconda3\\envs\\envTF24\\lib\\site-packages\\csgo-1.0-py3.7.egg\\csgo\\parser\\\n",
      "22:17:47 [INFO] Looking for file at D:\\EDAV\\21\\MLGColumbus2016-g2-vs-virtuspro-bo3-map1-train.dem\n"
     ]
    },
    {
     "name": "stdout",
     "output_type": "stream",
     "text": [
      "parsing    21 MLGColumbus2016-g2-vs-virtuspro-bo3-map1-train.dem\n"
     ]
    },
    {
     "name": "stderr",
     "output_type": "stream",
     "text": [
      "22:17:52 [INFO] Wrote demo parse output to 21 MLGColumbus2016-g2-vs-virtuspro-bo3-map1-train.json\n",
      "22:17:52 [INFO] Reading in JSON from 21 MLGColumbus2016-g2-vs-virtuspro-bo3-map1-train.json\n",
      "22:17:52 [INFO] JSON data loaded, available in the `json` attribute to parser\n",
      "22:17:52 [INFO] Successfully parsed JSON output\n",
      "22:17:52 [INFO] Successfully returned JSON output\n",
      "22:17:59 [INFO] Go version>=1.14.0\n",
      "22:17:59 [INFO] Initialized CSGODemoParser with demofile D:\\EDAV\\21\\MLGColumbus2016-g2-vs-virtuspro-bo3-map2-inferno.dem\n",
      "22:17:59 [INFO] Setting demo id to 21 MLGColumbus2016-g2-vs-virtuspro-bo3-map2-inferno\n",
      "22:17:59 [INFO] Setting parse rate to 128\n",
      "22:17:59 [INFO] Setting trade time to 5\n",
      "22:17:59 [INFO] Setting buy style to hltv\n",
      "22:17:59 [INFO] Rollup damages set to False\n",
      "22:17:59 [INFO] Parse frames set to True\n",
      "22:17:59 [INFO] Running Golang parser from C:\\Users\\nguye\\anaconda3\\envs\\envTF24\\lib\\site-packages\\csgo-1.0-py3.7.egg\\csgo\\parser\\\n",
      "22:17:59 [INFO] Looking for file at D:\\EDAV\\21\\MLGColumbus2016-g2-vs-virtuspro-bo3-map2-inferno.dem\n"
     ]
    },
    {
     "name": "stdout",
     "output_type": "stream",
     "text": [
      "parsing    21 MLGColumbus2016-g2-vs-virtuspro-bo3-map2-inferno.dem\n"
     ]
    },
    {
     "name": "stderr",
     "output_type": "stream",
     "text": [
      "22:18:04 [INFO] Wrote demo parse output to 21 MLGColumbus2016-g2-vs-virtuspro-bo3-map2-inferno.json\n",
      "22:18:04 [INFO] Reading in JSON from 21 MLGColumbus2016-g2-vs-virtuspro-bo3-map2-inferno.json\n",
      "22:18:05 [INFO] JSON data loaded, available in the `json` attribute to parser\n",
      "22:18:05 [INFO] Successfully parsed JSON output\n",
      "22:18:05 [INFO] Successfully returned JSON output\n",
      "22:18:13 [INFO] Go version>=1.14.0\n",
      "22:18:13 [INFO] Initialized CSGODemoParser with demofile D:\\EDAV\\21\\MLGColumbus2016-g2-vs-virtuspro-bo3-map3-cobblestone.dem\n",
      "22:18:13 [INFO] Setting demo id to 21 MLGColumbus2016-g2-vs-virtuspro-bo3-map3-cobblestone\n",
      "22:18:13 [INFO] Setting parse rate to 128\n",
      "22:18:13 [INFO] Setting trade time to 5\n",
      "22:18:13 [INFO] Setting buy style to hltv\n",
      "22:18:13 [INFO] Rollup damages set to False\n",
      "22:18:13 [INFO] Parse frames set to True\n",
      "22:18:13 [INFO] Running Golang parser from C:\\Users\\nguye\\anaconda3\\envs\\envTF24\\lib\\site-packages\\csgo-1.0-py3.7.egg\\csgo\\parser\\\n",
      "22:18:13 [INFO] Looking for file at D:\\EDAV\\21\\MLGColumbus2016-g2-vs-virtuspro-bo3-map3-cobblestone.dem\n"
     ]
    },
    {
     "name": "stdout",
     "output_type": "stream",
     "text": [
      "parsing    21 MLGColumbus2016-g2-vs-virtuspro-bo3-map3-cobblestone.dem\n"
     ]
    },
    {
     "name": "stderr",
     "output_type": "stream",
     "text": [
      "22:18:18 [INFO] Wrote demo parse output to 21 MLGColumbus2016-g2-vs-virtuspro-bo3-map3-cobblestone.json\n",
      "22:18:18 [INFO] Reading in JSON from 21 MLGColumbus2016-g2-vs-virtuspro-bo3-map3-cobblestone.json\n",
      "22:18:18 [INFO] JSON data loaded, available in the `json` attribute to parser\n",
      "22:18:18 [INFO] Successfully parsed JSON output\n",
      "22:18:18 [INFO] Successfully returned JSON output\n",
      "22:18:25 [INFO] Go version>=1.14.0\n",
      "22:18:25 [INFO] Initialized CSGODemoParser with demofile D:\\EDAV\\22\\astralis-vs-dreameaters-dust2.dem\n",
      "22:18:25 [INFO] Setting demo id to 22 astralis-vs-dreameaters-dust2\n",
      "22:18:25 [INFO] Setting parse rate to 128\n",
      "22:18:25 [INFO] Setting trade time to 5\n",
      "22:18:25 [INFO] Setting buy style to hltv\n",
      "22:18:25 [INFO] Rollup damages set to False\n",
      "22:18:25 [INFO] Parse frames set to True\n",
      "22:18:25 [INFO] Running Golang parser from C:\\Users\\nguye\\anaconda3\\envs\\envTF24\\lib\\site-packages\\csgo-1.0-py3.7.egg\\csgo\\parser\\\n",
      "22:18:25 [INFO] Looking for file at D:\\EDAV\\22\\astralis-vs-dreameaters-dust2.dem\n"
     ]
    },
    {
     "name": "stdout",
     "output_type": "stream",
     "text": [
      "parsing    22 astralis-vs-dreameaters-dust2.dem\n"
     ]
    },
    {
     "name": "stderr",
     "output_type": "stream",
     "text": [
      "22:18:30 [INFO] Wrote demo parse output to 22 astralis-vs-dreameaters-dust2.json\n",
      "22:18:30 [INFO] Reading in JSON from 22 astralis-vs-dreameaters-dust2.json\n",
      "22:18:30 [INFO] JSON data loaded, available in the `json` attribute to parser\n",
      "22:18:30 [INFO] Successfully parsed JSON output\n",
      "22:18:30 [INFO] Successfully returned JSON output\n",
      "22:18:38 [INFO] Go version>=1.14.0\n",
      "22:18:38 [INFO] Initialized CSGODemoParser with demofile D:\\EDAV\\23\\mibr-vs-g2-inferno.dem\n",
      "22:18:38 [INFO] Setting demo id to 23 mibr-vs-g2-inferno\n",
      "22:18:38 [INFO] Setting parse rate to 128\n",
      "22:18:38 [INFO] Setting trade time to 5\n",
      "22:18:38 [INFO] Setting buy style to hltv\n",
      "22:18:38 [INFO] Rollup damages set to False\n",
      "22:18:38 [INFO] Parse frames set to True\n",
      "22:18:38 [INFO] Running Golang parser from C:\\Users\\nguye\\anaconda3\\envs\\envTF24\\lib\\site-packages\\csgo-1.0-py3.7.egg\\csgo\\parser\\\n",
      "22:18:38 [INFO] Looking for file at D:\\EDAV\\23\\mibr-vs-g2-inferno.dem\n"
     ]
    },
    {
     "name": "stdout",
     "output_type": "stream",
     "text": [
      "parsing    23 mibr-vs-g2-inferno.dem\n"
     ]
    },
    {
     "name": "stderr",
     "output_type": "stream",
     "text": [
      "22:18:44 [INFO] Wrote demo parse output to 23 mibr-vs-g2-inferno.json\n",
      "22:18:44 [INFO] Reading in JSON from 23 mibr-vs-g2-inferno.json\n",
      "22:18:44 [INFO] JSON data loaded, available in the `json` attribute to parser\n",
      "22:18:44 [INFO] Successfully parsed JSON output\n",
      "22:18:44 [INFO] Successfully returned JSON output\n",
      "22:18:53 [INFO] Go version>=1.14.0\n",
      "22:18:53 [INFO] Initialized CSGODemoParser with demofile D:\\EDAV\\25\\EMSKato-GroupC-fnatic-vs-ibuypower-inferno.dem\n",
      "22:18:53 [INFO] Setting demo id to 25 EMSKato-GroupC-fnatic-vs-ibuypower-inferno\n",
      "22:18:53 [INFO] Setting parse rate to 128\n",
      "22:18:53 [INFO] Setting trade time to 5\n",
      "22:18:53 [INFO] Setting buy style to hltv\n",
      "22:18:53 [INFO] Rollup damages set to False\n",
      "22:18:53 [INFO] Parse frames set to True\n",
      "22:18:53 [INFO] Running Golang parser from C:\\Users\\nguye\\anaconda3\\envs\\envTF24\\lib\\site-packages\\csgo-1.0-py3.7.egg\\csgo\\parser\\\n",
      "22:18:53 [INFO] Looking for file at D:\\EDAV\\25\\EMSKato-GroupC-fnatic-vs-ibuypower-inferno.dem\n"
     ]
    },
    {
     "name": "stdout",
     "output_type": "stream",
     "text": [
      "parsing    25 EMSKato-GroupC-fnatic-vs-ibuypower-inferno.dem\n"
     ]
    },
    {
     "name": "stderr",
     "output_type": "stream",
     "text": [
      "22:18:55 [INFO] Wrote demo parse output to 25 EMSKato-GroupC-fnatic-vs-ibuypower-inferno.json\n",
      "22:18:55 [INFO] Reading in JSON from 25 EMSKato-GroupC-fnatic-vs-ibuypower-inferno.json\n",
      "22:18:55 [INFO] JSON data loaded, available in the `json` attribute to parser\n",
      "22:18:55 [INFO] Successfully parsed JSON output\n",
      "22:18:55 [INFO] Successfully returned JSON output\n",
      "22:18:57 [INFO] Go version>=1.14.0\n",
      "22:18:57 [INFO] Initialized CSGODemoParser with demofile D:\\EDAV\\26\\fnatic-vs-flipsid3-mirage.dem\n",
      "22:18:57 [INFO] Setting demo id to 26 fnatic-vs-flipsid3-mirage\n",
      "22:18:57 [INFO] Setting parse rate to 128\n",
      "22:18:57 [INFO] Setting trade time to 5\n",
      "22:18:57 [INFO] Setting buy style to hltv\n",
      "22:18:57 [INFO] Rollup damages set to False\n",
      "22:18:57 [INFO] Parse frames set to True\n",
      "22:18:57 [INFO] Running Golang parser from C:\\Users\\nguye\\anaconda3\\envs\\envTF24\\lib\\site-packages\\csgo-1.0-py3.7.egg\\csgo\\parser\\\n",
      "22:18:57 [INFO] Looking for file at D:\\EDAV\\26\\fnatic-vs-flipsid3-mirage.dem\n"
     ]
    },
    {
     "name": "stdout",
     "output_type": "stream",
     "text": [
      "parsing    26 fnatic-vs-flipsid3-mirage.dem\n"
     ]
    },
    {
     "name": "stderr",
     "output_type": "stream",
     "text": [
      "22:19:02 [INFO] Wrote demo parse output to 26 fnatic-vs-flipsid3-mirage.json\n",
      "22:19:02 [INFO] Reading in JSON from 26 fnatic-vs-flipsid3-mirage.json\n",
      "22:19:02 [INFO] JSON data loaded, available in the `json` attribute to parser\n",
      "22:19:02 [INFO] Successfully parsed JSON output\n",
      "22:19:02 [INFO] Successfully returned JSON output\n",
      "22:19:10 [INFO] Go version>=1.14.0\n",
      "22:19:10 [INFO] Initialized CSGODemoParser with demofile D:\\EDAV\\27\\faze-vs-hellraisers-train.dem\n",
      "22:19:10 [INFO] Setting demo id to 27 faze-vs-hellraisers-train\n",
      "22:19:10 [INFO] Setting parse rate to 128\n",
      "22:19:10 [INFO] Setting trade time to 5\n",
      "22:19:10 [INFO] Setting buy style to hltv\n",
      "22:19:10 [INFO] Rollup damages set to False\n",
      "22:19:10 [INFO] Parse frames set to True\n",
      "22:19:10 [INFO] Running Golang parser from C:\\Users\\nguye\\anaconda3\\envs\\envTF24\\lib\\site-packages\\csgo-1.0-py3.7.egg\\csgo\\parser\\\n",
      "22:19:10 [INFO] Looking for file at D:\\EDAV\\27\\faze-vs-hellraisers-train.dem\n"
     ]
    },
    {
     "name": "stdout",
     "output_type": "stream",
     "text": [
      "parsing    27 faze-vs-hellraisers-train.dem\n"
     ]
    },
    {
     "name": "stderr",
     "output_type": "stream",
     "text": [
      "22:19:14 [INFO] Wrote demo parse output to 27 faze-vs-hellraisers-train.json\n",
      "22:19:14 [INFO] Reading in JSON from 27 faze-vs-hellraisers-train.json\n",
      "22:19:14 [INFO] JSON data loaded, available in the `json` attribute to parser\n",
      "22:19:14 [INFO] Successfully parsed JSON output\n",
      "22:19:14 [INFO] Successfully returned JSON output\n",
      "22:19:20 [INFO] Go version>=1.14.0\n",
      "22:19:20 [INFO] Initialized CSGODemoParser with demofile D:\\EDAV\\28\\tyloo-vs-hellraisers-overpass.dem\n",
      "22:19:20 [INFO] Setting demo id to 28 tyloo-vs-hellraisers-overpass\n",
      "22:19:20 [INFO] Setting parse rate to 128\n",
      "22:19:20 [INFO] Setting trade time to 5\n",
      "22:19:20 [INFO] Setting buy style to hltv\n",
      "22:19:20 [INFO] Rollup damages set to False\n",
      "22:19:20 [INFO] Parse frames set to True\n",
      "22:19:20 [INFO] Running Golang parser from C:\\Users\\nguye\\anaconda3\\envs\\envTF24\\lib\\site-packages\\csgo-1.0-py3.7.egg\\csgo\\parser\\\n",
      "22:19:20 [INFO] Looking for file at D:\\EDAV\\28\\tyloo-vs-hellraisers-overpass.dem\n"
     ]
    },
    {
     "name": "stdout",
     "output_type": "stream",
     "text": [
      "parsing    28 tyloo-vs-hellraisers-overpass.dem\n"
     ]
    },
    {
     "name": "stderr",
     "output_type": "stream",
     "text": [
      "22:19:26 [INFO] Wrote demo parse output to 28 tyloo-vs-hellraisers-overpass.json\n",
      "22:19:26 [INFO] Reading in JSON from 28 tyloo-vs-hellraisers-overpass.json\n",
      "22:19:27 [INFO] JSON data loaded, available in the `json` attribute to parser\n",
      "22:19:27 [INFO] Successfully parsed JSON output\n",
      "22:19:27 [INFO] Successfully returned JSON output\n",
      "22:19:35 [INFO] Go version>=1.14.0\n",
      "22:19:35 [INFO] Initialized CSGODemoParser with demofile D:\\EDAV\\29\\faze-vs-complexity-m2-mirage.dem\n",
      "22:19:35 [INFO] Setting demo id to 29 faze-vs-complexity-m2-mirage\n",
      "22:19:35 [INFO] Setting parse rate to 128\n",
      "22:19:35 [INFO] Setting trade time to 5\n",
      "22:19:35 [INFO] Setting buy style to hltv\n",
      "22:19:35 [INFO] Rollup damages set to False\n",
      "22:19:35 [INFO] Parse frames set to True\n",
      "22:19:35 [INFO] Running Golang parser from C:\\Users\\nguye\\anaconda3\\envs\\envTF24\\lib\\site-packages\\csgo-1.0-py3.7.egg\\csgo\\parser\\\n",
      "22:19:35 [INFO] Looking for file at D:\\EDAV\\29\\faze-vs-complexity-m2-mirage.dem\n"
     ]
    },
    {
     "name": "stdout",
     "output_type": "stream",
     "text": [
      "parsing    29 faze-vs-complexity-m2-mirage.dem\n"
     ]
    },
    {
     "name": "stderr",
     "output_type": "stream",
     "text": [
      "22:19:40 [INFO] Wrote demo parse output to 29 faze-vs-complexity-m2-mirage.json\n",
      "22:19:40 [INFO] Reading in JSON from 29 faze-vs-complexity-m2-mirage.json\n",
      "22:19:41 [INFO] JSON data loaded, available in the `json` attribute to parser\n",
      "22:19:41 [INFO] Successfully parsed JSON output\n",
      "22:19:41 [INFO] Successfully returned JSON output\n",
      "22:19:49 [INFO] Go version>=1.14.0\n",
      "22:19:49 [INFO] Initialized CSGODemoParser with demofile D:\\EDAV\\29\\faze-vs-complexity-m3-dust2.dem\n",
      "22:19:49 [INFO] Setting demo id to 29 faze-vs-complexity-m3-dust2\n",
      "22:19:49 [INFO] Setting parse rate to 128\n",
      "22:19:49 [INFO] Setting trade time to 5\n",
      "22:19:49 [INFO] Setting buy style to hltv\n",
      "22:19:49 [INFO] Rollup damages set to False\n",
      "22:19:49 [INFO] Parse frames set to True\n",
      "22:19:49 [INFO] Running Golang parser from C:\\Users\\nguye\\anaconda3\\envs\\envTF24\\lib\\site-packages\\csgo-1.0-py3.7.egg\\csgo\\parser\\\n",
      "22:19:49 [INFO] Looking for file at D:\\EDAV\\29\\faze-vs-complexity-m3-dust2.dem\n"
     ]
    },
    {
     "name": "stdout",
     "output_type": "stream",
     "text": [
      "parsing    29 faze-vs-complexity-m3-dust2.dem\n"
     ]
    },
    {
     "name": "stderr",
     "output_type": "stream",
     "text": [
      "22:19:55 [INFO] Wrote demo parse output to 29 faze-vs-complexity-m3-dust2.json\n",
      "22:19:55 [INFO] Reading in JSON from 29 faze-vs-complexity-m3-dust2.json\n",
      "22:19:56 [INFO] JSON data loaded, available in the `json` attribute to parser\n",
      "22:19:56 [INFO] Successfully parsed JSON output\n",
      "22:19:56 [INFO] Successfully returned JSON output\n",
      "22:20:05 [INFO] Go version>=1.14.0\n",
      "22:20:05 [INFO] Initialized CSGODemoParser with demofile D:\\EDAV\\29\\faze-vs-complexity-m1-cache.dem\n",
      "22:20:05 [INFO] Setting demo id to 29 faze-vs-complexity-m1-cache\n",
      "22:20:05 [INFO] Setting parse rate to 128\n",
      "22:20:05 [INFO] Setting trade time to 5\n",
      "22:20:05 [INFO] Setting buy style to hltv\n",
      "22:20:05 [INFO] Rollup damages set to False\n",
      "22:20:05 [INFO] Parse frames set to True\n",
      "22:20:05 [INFO] Running Golang parser from C:\\Users\\nguye\\anaconda3\\envs\\envTF24\\lib\\site-packages\\csgo-1.0-py3.7.egg\\csgo\\parser\\\n",
      "22:20:05 [INFO] Looking for file at D:\\EDAV\\29\\faze-vs-complexity-m1-cache.dem\n"
     ]
    },
    {
     "name": "stdout",
     "output_type": "stream",
     "text": [
      "parsing    29 faze-vs-complexity-m1-cache.dem\n"
     ]
    },
    {
     "name": "stderr",
     "output_type": "stream",
     "text": [
      "22:20:10 [INFO] Wrote demo parse output to 29 faze-vs-complexity-m1-cache.json\n",
      "22:20:10 [INFO] Reading in JSON from 29 faze-vs-complexity-m1-cache.json\n",
      "22:20:11 [INFO] JSON data loaded, available in the `json` attribute to parser\n",
      "22:20:11 [INFO] Successfully parsed JSON output\n",
      "22:20:11 [INFO] Successfully returned JSON output\n",
      "22:20:18 [INFO] Go version>=1.14.0\n",
      "22:20:18 [INFO] Initialized CSGODemoParser with demofile D:\\EDAV\\30\\EMSKato-GroupC-reason-vs-fnatic-inferno.dem\n",
      "22:20:18 [INFO] Setting demo id to 30 EMSKato-GroupC-reason-vs-fnatic-inferno\n",
      "22:20:18 [INFO] Setting parse rate to 128\n",
      "22:20:18 [INFO] Setting trade time to 5\n",
      "22:20:18 [INFO] Setting buy style to hltv\n",
      "22:20:18 [INFO] Rollup damages set to False\n",
      "22:20:18 [INFO] Parse frames set to True\n",
      "22:20:18 [INFO] Running Golang parser from C:\\Users\\nguye\\anaconda3\\envs\\envTF24\\lib\\site-packages\\csgo-1.0-py3.7.egg\\csgo\\parser\\\n",
      "22:20:18 [INFO] Looking for file at D:\\EDAV\\30\\EMSKato-GroupC-reason-vs-fnatic-inferno.dem\n"
     ]
    },
    {
     "name": "stdout",
     "output_type": "stream",
     "text": [
      "parsing    30 EMSKato-GroupC-reason-vs-fnatic-inferno.dem\n"
     ]
    },
    {
     "name": "stderr",
     "output_type": "stream",
     "text": [
      "22:20:20 [INFO] Wrote demo parse output to 30 EMSKato-GroupC-reason-vs-fnatic-inferno.json\n",
      "22:20:20 [INFO] Reading in JSON from 30 EMSKato-GroupC-reason-vs-fnatic-inferno.json\n",
      "22:20:20 [INFO] JSON data loaded, available in the `json` attribute to parser\n",
      "22:20:20 [INFO] Successfully parsed JSON output\n",
      "22:20:20 [INFO] Successfully returned JSON output\n",
      "22:20:22 [INFO] Go version>=1.14.0\n",
      "22:20:22 [INFO] Initialized CSGODemoParser with demofile D:\\EDAV\\31\\mibr-vs-tyloo-inferno.dem\n",
      "22:20:22 [INFO] Setting demo id to 31 mibr-vs-tyloo-inferno\n",
      "22:20:22 [INFO] Setting parse rate to 128\n",
      "22:20:22 [INFO] Setting trade time to 5\n",
      "22:20:22 [INFO] Setting buy style to hltv\n",
      "22:20:22 [INFO] Rollup damages set to False\n",
      "22:20:22 [INFO] Parse frames set to True\n",
      "22:20:22 [INFO] Running Golang parser from C:\\Users\\nguye\\anaconda3\\envs\\envTF24\\lib\\site-packages\\csgo-1.0-py3.7.egg\\csgo\\parser\\\n",
      "22:20:22 [INFO] Looking for file at D:\\EDAV\\31\\mibr-vs-tyloo-inferno.dem\n"
     ]
    },
    {
     "name": "stdout",
     "output_type": "stream",
     "text": [
      "parsing    31 mibr-vs-tyloo-inferno.dem\n"
     ]
    },
    {
     "name": "stderr",
     "output_type": "stream",
     "text": [
      "22:20:28 [INFO] Wrote demo parse output to 31 mibr-vs-tyloo-inferno.json\n",
      "22:20:28 [INFO] Reading in JSON from 31 mibr-vs-tyloo-inferno.json\n",
      "22:20:28 [INFO] JSON data loaded, available in the `json` attribute to parser\n",
      "22:20:28 [INFO] Successfully parsed JSON output\n",
      "22:20:28 [INFO] Successfully returned JSON output\n",
      "22:20:38 [INFO] Go version>=1.14.0\n",
      "22:20:38 [INFO] Initialized CSGODemoParser with demofile D:\\EDAV\\32\\faze-vs-natus-vincere-m1-inferno.dem\n",
      "22:20:38 [INFO] Setting demo id to 32 faze-vs-natus-vincere-m1-inferno\n",
      "22:20:38 [INFO] Setting parse rate to 128\n",
      "22:20:38 [INFO] Setting trade time to 5\n",
      "22:20:38 [INFO] Setting buy style to hltv\n",
      "22:20:38 [INFO] Rollup damages set to False\n",
      "22:20:38 [INFO] Parse frames set to True\n",
      "22:20:38 [INFO] Running Golang parser from C:\\Users\\nguye\\anaconda3\\envs\\envTF24\\lib\\site-packages\\csgo-1.0-py3.7.egg\\csgo\\parser\\\n",
      "22:20:38 [INFO] Looking for file at D:\\EDAV\\32\\faze-vs-natus-vincere-m1-inferno.dem\n"
     ]
    },
    {
     "name": "stdout",
     "output_type": "stream",
     "text": [
      "parsing    32 faze-vs-natus-vincere-m1-inferno.dem\n"
     ]
    },
    {
     "name": "stderr",
     "output_type": "stream",
     "text": [
      "22:20:43 [INFO] Wrote demo parse output to 32 faze-vs-natus-vincere-m1-inferno.json\n",
      "22:20:43 [INFO] Reading in JSON from 32 faze-vs-natus-vincere-m1-inferno.json\n",
      "22:20:43 [INFO] JSON data loaded, available in the `json` attribute to parser\n",
      "22:20:43 [INFO] Successfully parsed JSON output\n",
      "22:20:43 [INFO] Successfully returned JSON output\n",
      "22:20:51 [INFO] Go version>=1.14.0\n",
      "22:20:51 [INFO] Initialized CSGODemoParser with demofile D:\\EDAV\\32\\faze-vs-natus-vincere-m2-mirage.dem\n",
      "22:20:51 [INFO] Setting demo id to 32 faze-vs-natus-vincere-m2-mirage\n",
      "22:20:51 [INFO] Setting parse rate to 128\n",
      "22:20:51 [INFO] Setting trade time to 5\n",
      "22:20:51 [INFO] Setting buy style to hltv\n",
      "22:20:51 [INFO] Rollup damages set to False\n",
      "22:20:51 [INFO] Parse frames set to True\n",
      "22:20:51 [INFO] Running Golang parser from C:\\Users\\nguye\\anaconda3\\envs\\envTF24\\lib\\site-packages\\csgo-1.0-py3.7.egg\\csgo\\parser\\\n",
      "22:20:51 [INFO] Looking for file at D:\\EDAV\\32\\faze-vs-natus-vincere-m2-mirage.dem\n"
     ]
    },
    {
     "name": "stdout",
     "output_type": "stream",
     "text": [
      "parsing    32 faze-vs-natus-vincere-m2-mirage.dem\n"
     ]
    },
    {
     "name": "stderr",
     "output_type": "stream",
     "text": [
      "22:20:55 [INFO] Wrote demo parse output to 32 faze-vs-natus-vincere-m2-mirage.json\n",
      "22:20:55 [INFO] Reading in JSON from 32 faze-vs-natus-vincere-m2-mirage.json\n",
      "22:20:56 [INFO] JSON data loaded, available in the `json` attribute to parser\n",
      "22:20:56 [INFO] Successfully parsed JSON output\n",
      "22:20:56 [INFO] Successfully returned JSON output\n",
      "22:21:02 [INFO] Go version>=1.14.0\n",
      "22:21:02 [INFO] Initialized CSGODemoParser with demofile D:\\EDAV\\33\\ESLOneCologne2016-virtuspro-vs-mousesports-train.dem\n",
      "22:21:02 [INFO] Setting demo id to 33 ESLOneCologne2016-virtuspro-vs-mousesports-train\n",
      "22:21:02 [INFO] Setting parse rate to 128\n",
      "22:21:02 [INFO] Setting trade time to 5\n",
      "22:21:02 [INFO] Setting buy style to hltv\n",
      "22:21:02 [INFO] Rollup damages set to False\n",
      "22:21:02 [INFO] Parse frames set to True\n",
      "22:21:02 [INFO] Running Golang parser from C:\\Users\\nguye\\anaconda3\\envs\\envTF24\\lib\\site-packages\\csgo-1.0-py3.7.egg\\csgo\\parser\\\n",
      "22:21:02 [INFO] Looking for file at D:\\EDAV\\33\\ESLOneCologne2016-virtuspro-vs-mousesports-train.dem\n"
     ]
    },
    {
     "name": "stdout",
     "output_type": "stream",
     "text": [
      "parsing    33 ESLOneCologne2016-virtuspro-vs-mousesports-train.dem\n"
     ]
    },
    {
     "name": "stderr",
     "output_type": "stream",
     "text": [
      "22:21:06 [INFO] Wrote demo parse output to 33 ESLOneCologne2016-virtuspro-vs-mousesports-train.json\n",
      "22:21:06 [INFO] Reading in JSON from 33 ESLOneCologne2016-virtuspro-vs-mousesports-train.json\n",
      "22:21:07 [INFO] JSON data loaded, available in the `json` attribute to parser\n",
      "22:21:07 [INFO] Successfully parsed JSON output\n",
      "22:21:07 [INFO] Successfully returned JSON output\n",
      "22:21:14 [INFO] Go version>=1.14.0\n",
      "22:21:14 [INFO] Initialized CSGODemoParser with demofile D:\\EDAV\\34\\renegades-vs-avangar-vertigo.dem\n",
      "22:21:14 [INFO] Setting demo id to 34 renegades-vs-avangar-vertigo\n",
      "22:21:14 [INFO] Setting parse rate to 128\n",
      "22:21:14 [INFO] Setting trade time to 5\n",
      "22:21:14 [INFO] Setting buy style to hltv\n",
      "22:21:14 [INFO] Rollup damages set to False\n",
      "22:21:14 [INFO] Parse frames set to True\n",
      "22:21:14 [INFO] Running Golang parser from C:\\Users\\nguye\\anaconda3\\envs\\envTF24\\lib\\site-packages\\csgo-1.0-py3.7.egg\\csgo\\parser\\\n",
      "22:21:14 [INFO] Looking for file at D:\\EDAV\\34\\renegades-vs-avangar-vertigo.dem\n"
     ]
    },
    {
     "name": "stdout",
     "output_type": "stream",
     "text": [
      "parsing    34 renegades-vs-avangar-vertigo.dem\n"
     ]
    },
    {
     "name": "stderr",
     "output_type": "stream",
     "text": [
      "22:21:20 [INFO] Wrote demo parse output to 34 renegades-vs-avangar-vertigo.json\n",
      "22:21:20 [INFO] Reading in JSON from 34 renegades-vs-avangar-vertigo.json\n",
      "22:21:20 [INFO] JSON data loaded, available in the `json` attribute to parser\n",
      "22:21:20 [INFO] Successfully parsed JSON output\n",
      "22:21:20 [INFO] Successfully returned JSON output\n",
      "22:21:30 [INFO] Go version>=1.14.0\n",
      "22:21:30 [INFO] Initialized CSGODemoParser with demofile D:\\EDAV\\35\\EMSKato-GroupA-hellraisers-vs-mouz-dust2.dem\n",
      "22:21:30 [INFO] Setting demo id to 35 EMSKato-GroupA-hellraisers-vs-mouz-dust2\n",
      "22:21:30 [INFO] Setting parse rate to 128\n",
      "22:21:30 [INFO] Setting trade time to 5\n",
      "22:21:30 [INFO] Setting buy style to hltv\n",
      "22:21:30 [INFO] Rollup damages set to False\n",
      "22:21:30 [INFO] Parse frames set to True\n",
      "22:21:30 [INFO] Running Golang parser from C:\\Users\\nguye\\anaconda3\\envs\\envTF24\\lib\\site-packages\\csgo-1.0-py3.7.egg\\csgo\\parser\\\n",
      "22:21:30 [INFO] Looking for file at D:\\EDAV\\35\\EMSKato-GroupA-hellraisers-vs-mouz-dust2.dem\n"
     ]
    },
    {
     "name": "stdout",
     "output_type": "stream",
     "text": [
      "parsing    35 EMSKato-GroupA-hellraisers-vs-mouz-dust2.dem\n"
     ]
    },
    {
     "name": "stderr",
     "output_type": "stream",
     "text": [
      "22:21:33 [INFO] Wrote demo parse output to 35 EMSKato-GroupA-hellraisers-vs-mouz-dust2.json\n",
      "22:21:33 [INFO] Reading in JSON from 35 EMSKato-GroupA-hellraisers-vs-mouz-dust2.json\n",
      "22:21:33 [INFO] JSON data loaded, available in the `json` attribute to parser\n",
      "22:21:33 [INFO] Successfully parsed JSON output\n",
      "22:21:33 [INFO] Successfully returned JSON output\n",
      "22:21:34 [INFO] Go version>=1.14.0\n",
      "22:21:34 [INFO] Initialized CSGODemoParser with demofile D:\\EDAV\\36\\ESLOneCologne-GroupB-cphwolves-vs-londonc-cache.dem\n",
      "22:21:34 [INFO] Setting demo id to 36 ESLOneCologne-GroupB-cphwolves-vs-londonc-cache\n",
      "22:21:34 [INFO] Setting parse rate to 128\n",
      "22:21:34 [INFO] Setting trade time to 5\n",
      "22:21:34 [INFO] Setting buy style to hltv\n",
      "22:21:34 [INFO] Rollup damages set to False\n",
      "22:21:34 [INFO] Parse frames set to True\n",
      "22:21:34 [INFO] Running Golang parser from C:\\Users\\nguye\\anaconda3\\envs\\envTF24\\lib\\site-packages\\csgo-1.0-py3.7.egg\\csgo\\parser\\\n",
      "22:21:34 [INFO] Looking for file at D:\\EDAV\\36\\ESLOneCologne-GroupB-cphwolves-vs-londonc-cache.dem\n"
     ]
    },
    {
     "name": "stdout",
     "output_type": "stream",
     "text": [
      "parsing    36 ESLOneCologne-GroupB-cphwolves-vs-londonc-cache.dem\n"
     ]
    },
    {
     "name": "stderr",
     "output_type": "stream",
     "text": [
      "22:21:35 [INFO] Wrote demo parse output to 36 ESLOneCologne-GroupB-cphwolves-vs-londonc-cache.json\n",
      "22:21:35 [INFO] Reading in JSON from 36 ESLOneCologne-GroupB-cphwolves-vs-londonc-cache.json\n",
      "22:21:36 [INFO] JSON data loaded, available in the `json` attribute to parser\n",
      "22:21:36 [INFO] Successfully parsed JSON output\n",
      "22:21:36 [INFO] Successfully returned JSON output\n",
      "22:21:36 [INFO] Go version>=1.14.0\n",
      "22:21:36 [INFO] Initialized CSGODemoParser with demofile D:\\EDAV\\37\\ESLOneKatowice2015-QF-envyus-vs-navi-cache.dem\n",
      "22:21:36 [INFO] Setting demo id to 37 ESLOneKatowice2015-QF-envyus-vs-navi-cache\n",
      "22:21:36 [INFO] Setting parse rate to 128\n",
      "22:21:36 [INFO] Setting trade time to 5\n",
      "22:21:36 [INFO] Setting buy style to hltv\n",
      "22:21:36 [INFO] Rollup damages set to False\n",
      "22:21:36 [INFO] Parse frames set to True\n",
      "22:21:36 [INFO] Running Golang parser from C:\\Users\\nguye\\anaconda3\\envs\\envTF24\\lib\\site-packages\\csgo-1.0-py3.7.egg\\csgo\\parser\\\n",
      "22:21:36 [INFO] Looking for file at D:\\EDAV\\37\\ESLOneKatowice2015-QF-envyus-vs-navi-cache.dem\n"
     ]
    },
    {
     "name": "stdout",
     "output_type": "stream",
     "text": [
      "parsing    37 ESLOneKatowice2015-QF-envyus-vs-navi-cache.dem\n"
     ]
    },
    {
     "name": "stderr",
     "output_type": "stream",
     "text": [
      "22:21:38 [INFO] Wrote demo parse output to 37 ESLOneKatowice2015-QF-envyus-vs-navi-cache.json\n",
      "22:21:38 [INFO] Reading in JSON from 37 ESLOneKatowice2015-QF-envyus-vs-navi-cache.json\n",
      "22:21:38 [INFO] JSON data loaded, available in the `json` attribute to parser\n",
      "22:21:38 [INFO] Successfully parsed JSON output\n",
      "22:21:38 [INFO] Successfully returned JSON output\n",
      "22:21:39 [INFO] Go version>=1.14.0\n",
      "22:21:39 [INFO] Initialized CSGODemoParser with demofile D:\\EDAV\\37\\ESLOneKatowice2015-QF-envyus-vs-navi-cobblestone.dem\n",
      "22:21:39 [INFO] Setting demo id to 37 ESLOneKatowice2015-QF-envyus-vs-navi-cobblestone\n",
      "22:21:39 [INFO] Setting parse rate to 128\n",
      "22:21:39 [INFO] Setting trade time to 5\n",
      "22:21:39 [INFO] Setting buy style to hltv\n",
      "22:21:39 [INFO] Rollup damages set to False\n",
      "22:21:39 [INFO] Parse frames set to True\n",
      "22:21:39 [INFO] Running Golang parser from C:\\Users\\nguye\\anaconda3\\envs\\envTF24\\lib\\site-packages\\csgo-1.0-py3.7.egg\\csgo\\parser\\\n",
      "22:21:39 [INFO] Looking for file at D:\\EDAV\\37\\ESLOneKatowice2015-QF-envyus-vs-navi-cobblestone.dem\n"
     ]
    },
    {
     "name": "stdout",
     "output_type": "stream",
     "text": [
      "parsing    37 ESLOneKatowice2015-QF-envyus-vs-navi-cobblestone.dem\n"
     ]
    },
    {
     "name": "stderr",
     "output_type": "stream",
     "text": [
      "22:21:41 [INFO] Wrote demo parse output to 37 ESLOneKatowice2015-QF-envyus-vs-navi-cobblestone.json\n",
      "22:21:41 [INFO] Reading in JSON from 37 ESLOneKatowice2015-QF-envyus-vs-navi-cobblestone.json\n",
      "22:21:41 [INFO] JSON data loaded, available in the `json` attribute to parser\n",
      "22:21:41 [INFO] Successfully parsed JSON output\n",
      "22:21:41 [INFO] Successfully returned JSON output\n",
      "22:21:42 [INFO] Go version>=1.14.0\n",
      "22:21:42 [INFO] Initialized CSGODemoParser with demofile D:\\EDAV\\37\\ESLOneKatowice2015-QF-navi-vs-envyus-dust2.dem\n",
      "22:21:42 [INFO] Setting demo id to 37 ESLOneKatowice2015-QF-navi-vs-envyus-dust2\n",
      "22:21:42 [INFO] Setting parse rate to 128\n",
      "22:21:42 [INFO] Setting trade time to 5\n",
      "22:21:42 [INFO] Setting buy style to hltv\n",
      "22:21:42 [INFO] Rollup damages set to False\n",
      "22:21:42 [INFO] Parse frames set to True\n",
      "22:21:42 [INFO] Running Golang parser from C:\\Users\\nguye\\anaconda3\\envs\\envTF24\\lib\\site-packages\\csgo-1.0-py3.7.egg\\csgo\\parser\\\n",
      "22:21:42 [INFO] Looking for file at D:\\EDAV\\37\\ESLOneKatowice2015-QF-navi-vs-envyus-dust2.dem\n"
     ]
    },
    {
     "name": "stdout",
     "output_type": "stream",
     "text": [
      "parsing    37 ESLOneKatowice2015-QF-navi-vs-envyus-dust2.dem\n"
     ]
    },
    {
     "name": "stderr",
     "output_type": "stream",
     "text": [
      "22:21:44 [INFO] Wrote demo parse output to 37 ESLOneKatowice2015-QF-navi-vs-envyus-dust2.json\n",
      "22:21:44 [INFO] Reading in JSON from 37 ESLOneKatowice2015-QF-navi-vs-envyus-dust2.json\n",
      "22:21:44 [INFO] JSON data loaded, available in the `json` attribute to parser\n",
      "22:21:44 [INFO] Successfully parsed JSON output\n",
      "22:21:44 [INFO] Successfully returned JSON output\n",
      "22:21:45 [INFO] Go version>=1.14.0\n",
      "22:21:45 [INFO] Initialized CSGODemoParser with demofile D:\\EDAV\\38\\MLGColumbus2016-clg-vs-astralis-overpass.dem\n",
      "22:21:45 [INFO] Setting demo id to 38 MLGColumbus2016-clg-vs-astralis-overpass\n",
      "22:21:45 [INFO] Setting parse rate to 128\n",
      "22:21:45 [INFO] Setting trade time to 5\n",
      "22:21:45 [INFO] Setting buy style to hltv\n",
      "22:21:45 [INFO] Rollup damages set to False\n",
      "22:21:45 [INFO] Parse frames set to True\n",
      "22:21:45 [INFO] Running Golang parser from C:\\Users\\nguye\\anaconda3\\envs\\envTF24\\lib\\site-packages\\csgo-1.0-py3.7.egg\\csgo\\parser\\\n",
      "22:21:45 [INFO] Looking for file at D:\\EDAV\\38\\MLGColumbus2016-clg-vs-astralis-overpass.dem\n"
     ]
    },
    {
     "name": "stdout",
     "output_type": "stream",
     "text": [
      "parsing    38 MLGColumbus2016-clg-vs-astralis-overpass.dem\n"
     ]
    },
    {
     "name": "stderr",
     "output_type": "stream",
     "text": [
      "22:21:51 [INFO] Wrote demo parse output to 38 MLGColumbus2016-clg-vs-astralis-overpass.json\n",
      "22:21:51 [INFO] Reading in JSON from 38 MLGColumbus2016-clg-vs-astralis-overpass.json\n",
      "22:21:52 [INFO] JSON data loaded, available in the `json` attribute to parser\n",
      "22:21:52 [INFO] Successfully parsed JSON output\n",
      "22:21:52 [INFO] Successfully returned JSON output\n",
      "22:21:59 [INFO] Go version>=1.14.0\n",
      "22:21:59 [INFO] Initialized CSGODemoParser with demofile D:\\EDAV\\39\\faze-vs-mousesports-mirage.dem\n",
      "22:21:59 [INFO] Setting demo id to 39 faze-vs-mousesports-mirage\n",
      "22:21:59 [INFO] Setting parse rate to 128\n",
      "22:21:59 [INFO] Setting trade time to 5\n",
      "22:21:59 [INFO] Setting buy style to hltv\n",
      "22:21:59 [INFO] Rollup damages set to False\n",
      "22:21:59 [INFO] Parse frames set to True\n",
      "22:21:59 [INFO] Running Golang parser from C:\\Users\\nguye\\anaconda3\\envs\\envTF24\\lib\\site-packages\\csgo-1.0-py3.7.egg\\csgo\\parser\\\n",
      "22:21:59 [INFO] Looking for file at D:\\EDAV\\39\\faze-vs-mousesports-mirage.dem\n"
     ]
    },
    {
     "name": "stdout",
     "output_type": "stream",
     "text": [
      "parsing    39 faze-vs-mousesports-mirage.dem\n"
     ]
    },
    {
     "name": "stderr",
     "output_type": "stream",
     "text": [
      "22:22:04 [INFO] Wrote demo parse output to 39 faze-vs-mousesports-mirage.json\n",
      "22:22:04 [INFO] Reading in JSON from 39 faze-vs-mousesports-mirage.json\n",
      "22:22:04 [INFO] JSON data loaded, available in the `json` attribute to parser\n",
      "22:22:04 [INFO] Successfully parsed JSON output\n",
      "22:22:04 [INFO] Successfully returned JSON output\n",
      "22:22:12 [INFO] Go version>=1.14.0\n",
      "22:22:12 [INFO] Initialized CSGODemoParser with demofile D:\\EDAV\\40\\ESLOneKatowice2015-Groups-keydstars-vs-hellraisers-inferno.dem\n",
      "22:22:12 [INFO] Setting demo id to 40 ESLOneKatowice2015-Groups-keydstars-vs-hellraisers-inferno\n",
      "22:22:12 [INFO] Setting parse rate to 128\n",
      "22:22:12 [INFO] Setting trade time to 5\n",
      "22:22:12 [INFO] Setting buy style to hltv\n",
      "22:22:12 [INFO] Rollup damages set to False\n",
      "22:22:12 [INFO] Parse frames set to True\n",
      "22:22:12 [INFO] Running Golang parser from C:\\Users\\nguye\\anaconda3\\envs\\envTF24\\lib\\site-packages\\csgo-1.0-py3.7.egg\\csgo\\parser\\\n",
      "22:22:12 [INFO] Looking for file at D:\\EDAV\\40\\ESLOneKatowice2015-Groups-keydstars-vs-hellraisers-inferno.dem\n"
     ]
    },
    {
     "name": "stdout",
     "output_type": "stream",
     "text": [
      "parsing    40 ESLOneKatowice2015-Groups-keydstars-vs-hellraisers-inferno.dem\n"
     ]
    },
    {
     "name": "stderr",
     "output_type": "stream",
     "text": [
      "22:22:14 [INFO] Wrote demo parse output to 40 ESLOneKatowice2015-Groups-keydstars-vs-hellraisers-inferno.json\n",
      "22:22:14 [INFO] Reading in JSON from 40 ESLOneKatowice2015-Groups-keydstars-vs-hellraisers-inferno.json\n",
      "22:22:14 [INFO] JSON data loaded, available in the `json` attribute to parser\n",
      "22:22:14 [INFO] Successfully parsed JSON output\n",
      "22:22:14 [INFO] Successfully returned JSON output\n",
      "22:22:15 [INFO] Go version>=1.14.0\n",
      "22:22:15 [INFO] Initialized CSGODemoParser with demofile D:\\EDAV\\41\\ESLOneCologne2016-gambit-vs-fnatic-map2-cache.dem\n",
      "22:22:15 [INFO] Setting demo id to 41 ESLOneCologne2016-gambit-vs-fnatic-map2-cache\n",
      "22:22:15 [INFO] Setting parse rate to 128\n",
      "22:22:15 [INFO] Setting trade time to 5\n",
      "22:22:15 [INFO] Setting buy style to hltv\n",
      "22:22:15 [INFO] Rollup damages set to False\n",
      "22:22:15 [INFO] Parse frames set to True\n",
      "22:22:15 [INFO] Running Golang parser from C:\\Users\\nguye\\anaconda3\\envs\\envTF24\\lib\\site-packages\\csgo-1.0-py3.7.egg\\csgo\\parser\\\n",
      "22:22:15 [INFO] Looking for file at D:\\EDAV\\41\\ESLOneCologne2016-gambit-vs-fnatic-map2-cache.dem\n"
     ]
    },
    {
     "name": "stdout",
     "output_type": "stream",
     "text": [
      "parsing    41 ESLOneCologne2016-gambit-vs-fnatic-map2-cache.dem\n"
     ]
    },
    {
     "name": "stderr",
     "output_type": "stream",
     "text": [
      "22:22:19 [INFO] Wrote demo parse output to 41 ESLOneCologne2016-gambit-vs-fnatic-map2-cache.json\n",
      "22:22:19 [INFO] Reading in JSON from 41 ESLOneCologne2016-gambit-vs-fnatic-map2-cache.json\n",
      "22:22:19 [INFO] JSON data loaded, available in the `json` attribute to parser\n",
      "22:22:19 [INFO] Successfully parsed JSON output\n",
      "22:22:19 [INFO] Successfully returned JSON output\n",
      "22:22:24 [INFO] Go version>=1.14.0\n",
      "22:22:24 [INFO] Initialized CSGODemoParser with demofile D:\\EDAV\\41\\ESLOneCologne2016-gambit-vs-fnatic-map1-train.dem\n",
      "22:22:24 [INFO] Setting demo id to 41 ESLOneCologne2016-gambit-vs-fnatic-map1-train\n",
      "22:22:24 [INFO] Setting parse rate to 128\n",
      "22:22:24 [INFO] Setting trade time to 5\n",
      "22:22:24 [INFO] Setting buy style to hltv\n",
      "22:22:24 [INFO] Rollup damages set to False\n",
      "22:22:24 [INFO] Parse frames set to True\n",
      "22:22:24 [INFO] Running Golang parser from C:\\Users\\nguye\\anaconda3\\envs\\envTF24\\lib\\site-packages\\csgo-1.0-py3.7.egg\\csgo\\parser\\\n",
      "22:22:24 [INFO] Looking for file at D:\\EDAV\\41\\ESLOneCologne2016-gambit-vs-fnatic-map1-train.dem\n"
     ]
    },
    {
     "name": "stdout",
     "output_type": "stream",
     "text": [
      "parsing    41 ESLOneCologne2016-gambit-vs-fnatic-map1-train.dem\n"
     ]
    },
    {
     "name": "stderr",
     "output_type": "stream",
     "text": [
      "22:22:28 [INFO] Wrote demo parse output to 41 ESLOneCologne2016-gambit-vs-fnatic-map1-train.json\n",
      "22:22:28 [INFO] Reading in JSON from 41 ESLOneCologne2016-gambit-vs-fnatic-map1-train.json\n",
      "22:22:28 [INFO] JSON data loaded, available in the `json` attribute to parser\n",
      "22:22:28 [INFO] Successfully parsed JSON output\n",
      "22:22:28 [INFO] Successfully returned JSON output\n",
      "22:22:35 [INFO] Go version>=1.14.0\n",
      "22:22:35 [INFO] Initialized CSGODemoParser with demofile D:\\EDAV\\42\\Semifinal_EnVyUs_G2_SF_dust2.dem\n",
      "22:22:35 [INFO] Setting demo id to 42 Semifinal_EnVyUs_G2_SF_dust2\n",
      "22:22:35 [INFO] Setting parse rate to 128\n",
      "22:22:35 [INFO] Setting trade time to 5\n",
      "22:22:35 [INFO] Setting buy style to hltv\n",
      "22:22:35 [INFO] Rollup damages set to False\n",
      "22:22:35 [INFO] Parse frames set to True\n",
      "22:22:35 [INFO] Running Golang parser from C:\\Users\\nguye\\anaconda3\\envs\\envTF24\\lib\\site-packages\\csgo-1.0-py3.7.egg\\csgo\\parser\\\n",
      "22:22:35 [INFO] Looking for file at D:\\EDAV\\42\\Semifinal_EnVyUs_G2_SF_dust2.dem\n"
     ]
    },
    {
     "name": "stdout",
     "output_type": "stream",
     "text": [
      "parsing    42 Semifinal_EnVyUs_G2_SF_dust2.dem\n"
     ]
    },
    {
     "name": "stderr",
     "output_type": "stream",
     "text": [
      "22:22:40 [INFO] Wrote demo parse output to 42 Semifinal_EnVyUs_G2_SF_dust2.json\n",
      "22:22:40 [INFO] Reading in JSON from 42 Semifinal_EnVyUs_G2_SF_dust2.json\n",
      "22:22:40 [INFO] JSON data loaded, available in the `json` attribute to parser\n",
      "22:22:40 [INFO] Successfully parsed JSON output\n",
      "22:22:40 [INFO] Successfully returned JSON output\n",
      "22:22:47 [INFO] Go version>=1.14.0\n",
      "22:22:47 [INFO] Initialized CSGODemoParser with demofile D:\\EDAV\\42\\Semifinal_EnVyUS_G2_inferno.dem\n",
      "22:22:47 [INFO] Setting demo id to 42 Semifinal_EnVyUS_G2_inferno\n",
      "22:22:47 [INFO] Setting parse rate to 128\n",
      "22:22:47 [INFO] Setting trade time to 5\n",
      "22:22:47 [INFO] Setting buy style to hltv\n",
      "22:22:47 [INFO] Rollup damages set to False\n",
      "22:22:47 [INFO] Parse frames set to True\n",
      "22:22:47 [INFO] Running Golang parser from C:\\Users\\nguye\\anaconda3\\envs\\envTF24\\lib\\site-packages\\csgo-1.0-py3.7.egg\\csgo\\parser\\\n",
      "22:22:47 [INFO] Looking for file at D:\\EDAV\\42\\Semifinal_EnVyUS_G2_inferno.dem\n"
     ]
    },
    {
     "name": "stdout",
     "output_type": "stream",
     "text": [
      "parsing    42 Semifinal_EnVyUS_G2_inferno.dem\n"
     ]
    },
    {
     "name": "stderr",
     "output_type": "stream",
     "text": [
      "22:22:55 [INFO] Wrote demo parse output to 42 Semifinal_EnVyUS_G2_inferno.json\n",
      "22:22:55 [INFO] Reading in JSON from 42 Semifinal_EnVyUS_G2_inferno.json\n",
      "22:22:55 [INFO] JSON data loaded, available in the `json` attribute to parser\n",
      "22:22:55 [INFO] Successfully parsed JSON output\n",
      "22:22:55 [INFO] Successfully returned JSON output\n",
      "22:23:11 [INFO] Go version>=1.14.0\n",
      "22:23:11 [INFO] Initialized CSGODemoParser with demofile D:\\EDAV\\42\\Semifinal_EnVyUs_G2_SF_cache.dem\n",
      "22:23:11 [INFO] Setting demo id to 42 Semifinal_EnVyUs_G2_SF_cache\n",
      "22:23:11 [INFO] Setting parse rate to 128\n",
      "22:23:11 [INFO] Setting trade time to 5\n",
      "22:23:11 [INFO] Setting buy style to hltv\n",
      "22:23:11 [INFO] Rollup damages set to False\n",
      "22:23:11 [INFO] Parse frames set to True\n",
      "22:23:11 [INFO] Running Golang parser from C:\\Users\\nguye\\anaconda3\\envs\\envTF24\\lib\\site-packages\\csgo-1.0-py3.7.egg\\csgo\\parser\\\n",
      "22:23:11 [INFO] Looking for file at D:\\EDAV\\42\\Semifinal_EnVyUs_G2_SF_cache.dem\n"
     ]
    },
    {
     "name": "stdout",
     "output_type": "stream",
     "text": [
      "parsing    42 Semifinal_EnVyUs_G2_SF_cache.dem\n"
     ]
    },
    {
     "name": "stderr",
     "output_type": "stream",
     "text": [
      "22:23:14 [INFO] Wrote demo parse output to 42 Semifinal_EnVyUs_G2_SF_cache.json\n",
      "22:23:14 [INFO] Reading in JSON from 42 Semifinal_EnVyUs_G2_SF_cache.json\n",
      "22:23:15 [INFO] JSON data loaded, available in the `json` attribute to parser\n",
      "22:23:15 [INFO] Successfully parsed JSON output\n",
      "22:23:15 [INFO] Successfully returned JSON output\n",
      "22:23:20 [INFO] Go version>=1.14.0\n",
      "22:23:20 [INFO] Initialized CSGODemoParser with demofile D:\\EDAV\\43\\ESLOneCologne2016-virtuspro-vs-astralis-map1-overpass.dem\n",
      "22:23:20 [INFO] Setting demo id to 43 ESLOneCologne2016-virtuspro-vs-astralis-map1-overpass\n",
      "22:23:20 [INFO] Setting parse rate to 128\n",
      "22:23:20 [INFO] Setting trade time to 5\n",
      "22:23:20 [INFO] Setting buy style to hltv\n",
      "22:23:20 [INFO] Rollup damages set to False\n",
      "22:23:20 [INFO] Parse frames set to True\n",
      "22:23:20 [INFO] Running Golang parser from C:\\Users\\nguye\\anaconda3\\envs\\envTF24\\lib\\site-packages\\csgo-1.0-py3.7.egg\\csgo\\parser\\\n",
      "22:23:20 [INFO] Looking for file at D:\\EDAV\\43\\ESLOneCologne2016-virtuspro-vs-astralis-map1-overpass.dem\n"
     ]
    },
    {
     "name": "stdout",
     "output_type": "stream",
     "text": [
      "parsing    43 ESLOneCologne2016-virtuspro-vs-astralis-map1-overpass.dem\n"
     ]
    },
    {
     "name": "stderr",
     "output_type": "stream",
     "text": [
      "22:23:29 [INFO] Wrote demo parse output to 43 ESLOneCologne2016-virtuspro-vs-astralis-map1-overpass.json\n",
      "22:23:29 [INFO] Reading in JSON from 43 ESLOneCologne2016-virtuspro-vs-astralis-map1-overpass.json\n",
      "22:23:30 [INFO] JSON data loaded, available in the `json` attribute to parser\n",
      "22:23:30 [INFO] Successfully parsed JSON output\n",
      "22:23:30 [INFO] Successfully returned JSON output\n",
      "22:23:43 [INFO] Go version>=1.14.0\n",
      "22:23:43 [INFO] Initialized CSGODemoParser with demofile D:\\EDAV\\43\\ESLOneCologne2016-virtuspro-vs-astralis-map2-train.dem\n",
      "22:23:43 [INFO] Setting demo id to 43 ESLOneCologne2016-virtuspro-vs-astralis-map2-train\n",
      "22:23:43 [INFO] Setting parse rate to 128\n",
      "22:23:43 [INFO] Setting trade time to 5\n",
      "22:23:43 [INFO] Setting buy style to hltv\n",
      "22:23:43 [INFO] Rollup damages set to False\n",
      "22:23:43 [INFO] Parse frames set to True\n",
      "22:23:44 [INFO] Running Golang parser from C:\\Users\\nguye\\anaconda3\\envs\\envTF24\\lib\\site-packages\\csgo-1.0-py3.7.egg\\csgo\\parser\\\n",
      "22:23:44 [INFO] Looking for file at D:\\EDAV\\43\\ESLOneCologne2016-virtuspro-vs-astralis-map2-train.dem\n"
     ]
    },
    {
     "name": "stdout",
     "output_type": "stream",
     "text": [
      "parsing    43 ESLOneCologne2016-virtuspro-vs-astralis-map2-train.dem\n"
     ]
    },
    {
     "name": "stderr",
     "output_type": "stream",
     "text": [
      "22:23:49 [INFO] Wrote demo parse output to 43 ESLOneCologne2016-virtuspro-vs-astralis-map2-train.json\n",
      "22:23:49 [INFO] Reading in JSON from 43 ESLOneCologne2016-virtuspro-vs-astralis-map2-train.json\n",
      "22:23:50 [INFO] JSON data loaded, available in the `json` attribute to parser\n",
      "22:23:50 [INFO] Successfully parsed JSON output\n",
      "22:23:50 [INFO] Successfully returned JSON output\n",
      "22:24:01 [INFO] Go version>=1.14.0\n",
      "22:24:01 [INFO] Initialized CSGODemoParser with demofile D:\\EDAV\\44\\ESLOneCologne-GroupD-dignitas-vs-titan-nuke.dem\n",
      "22:24:01 [INFO] Setting demo id to 44 ESLOneCologne-GroupD-dignitas-vs-titan-nuke\n",
      "22:24:01 [INFO] Setting parse rate to 128\n",
      "22:24:01 [INFO] Setting trade time to 5\n",
      "22:24:01 [INFO] Setting buy style to hltv\n",
      "22:24:01 [INFO] Rollup damages set to False\n",
      "22:24:01 [INFO] Parse frames set to True\n",
      "22:24:01 [INFO] Running Golang parser from C:\\Users\\nguye\\anaconda3\\envs\\envTF24\\lib\\site-packages\\csgo-1.0-py3.7.egg\\csgo\\parser\\\n",
      "22:24:01 [INFO] Looking for file at D:\\EDAV\\44\\ESLOneCologne-GroupD-dignitas-vs-titan-nuke.dem\n"
     ]
    },
    {
     "name": "stdout",
     "output_type": "stream",
     "text": [
      "parsing    44 ESLOneCologne-GroupD-dignitas-vs-titan-nuke.dem\n"
     ]
    },
    {
     "name": "stderr",
     "output_type": "stream",
     "text": [
      "22:24:03 [INFO] Wrote demo parse output to 44 ESLOneCologne-GroupD-dignitas-vs-titan-nuke.json\n",
      "22:24:03 [INFO] Reading in JSON from 44 ESLOneCologne-GroupD-dignitas-vs-titan-nuke.json\n",
      "22:24:03 [INFO] JSON data loaded, available in the `json` attribute to parser\n",
      "22:24:03 [INFO] Successfully parsed JSON output\n",
      "22:24:03 [INFO] Successfully returned JSON output\n",
      "22:24:04 [INFO] Go version>=1.14.0\n",
      "22:24:04 [INFO] Initialized CSGODemoParser with demofile D:\\EDAV\\45\\DHW14-SF-nip-vs-virtuspro-inferno.dem\n",
      "22:24:04 [INFO] Setting demo id to 45 DHW14-SF-nip-vs-virtuspro-inferno\n",
      "22:24:04 [INFO] Setting parse rate to 128\n",
      "22:24:04 [INFO] Setting trade time to 5\n",
      "22:24:04 [INFO] Setting buy style to hltv\n",
      "22:24:04 [INFO] Rollup damages set to False\n",
      "22:24:04 [INFO] Parse frames set to True\n",
      "22:24:04 [INFO] Running Golang parser from C:\\Users\\nguye\\anaconda3\\envs\\envTF24\\lib\\site-packages\\csgo-1.0-py3.7.egg\\csgo\\parser\\\n",
      "22:24:04 [INFO] Looking for file at D:\\EDAV\\45\\DHW14-SF-nip-vs-virtuspro-inferno.dem\n"
     ]
    },
    {
     "name": "stdout",
     "output_type": "stream",
     "text": [
      "parsing    45 DHW14-SF-nip-vs-virtuspro-inferno.dem\n"
     ]
    },
    {
     "name": "stderr",
     "output_type": "stream",
     "text": [
      "22:24:06 [INFO] Wrote demo parse output to 45 DHW14-SF-nip-vs-virtuspro-inferno.json\n",
      "22:24:06 [INFO] Reading in JSON from 45 DHW14-SF-nip-vs-virtuspro-inferno.json\n",
      "22:24:06 [INFO] JSON data loaded, available in the `json` attribute to parser\n",
      "22:24:06 [INFO] Successfully parsed JSON output\n",
      "22:24:06 [INFO] Successfully returned JSON output\n",
      "22:24:07 [INFO] Go version>=1.14.0\n",
      "22:24:07 [INFO] Initialized CSGODemoParser with demofile D:\\EDAV\\45\\DHW14-SF-nip-vs-virtuspro-nuke.dem\n",
      "22:24:07 [INFO] Setting demo id to 45 DHW14-SF-nip-vs-virtuspro-nuke\n",
      "22:24:07 [INFO] Setting parse rate to 128\n",
      "22:24:07 [INFO] Setting trade time to 5\n",
      "22:24:07 [INFO] Setting buy style to hltv\n",
      "22:24:07 [INFO] Rollup damages set to False\n",
      "22:24:07 [INFO] Parse frames set to True\n",
      "22:24:07 [INFO] Running Golang parser from C:\\Users\\nguye\\anaconda3\\envs\\envTF24\\lib\\site-packages\\csgo-1.0-py3.7.egg\\csgo\\parser\\\n",
      "22:24:07 [INFO] Looking for file at D:\\EDAV\\45\\DHW14-SF-nip-vs-virtuspro-nuke.dem\n"
     ]
    },
    {
     "name": "stdout",
     "output_type": "stream",
     "text": [
      "parsing    45 DHW14-SF-nip-vs-virtuspro-nuke.dem\n"
     ]
    },
    {
     "name": "stderr",
     "output_type": "stream",
     "text": [
      "22:24:10 [INFO] Wrote demo parse output to 45 DHW14-SF-nip-vs-virtuspro-nuke.json\n",
      "22:24:10 [INFO] Reading in JSON from 45 DHW14-SF-nip-vs-virtuspro-nuke.json\n",
      "22:24:10 [INFO] JSON data loaded, available in the `json` attribute to parser\n",
      "22:24:10 [INFO] Successfully parsed JSON output\n",
      "22:24:10 [INFO] Successfully returned JSON output\n",
      "22:24:12 [INFO] Go version>=1.14.0\n",
      "22:24:12 [INFO] Initialized CSGODemoParser with demofile D:\\EDAV\\45\\DHW14-SF-virtuspro-vs-nip-cache.dem\n",
      "22:24:12 [INFO] Setting demo id to 45 DHW14-SF-virtuspro-vs-nip-cache\n",
      "22:24:12 [INFO] Setting parse rate to 128\n",
      "22:24:12 [INFO] Setting trade time to 5\n",
      "22:24:12 [INFO] Setting buy style to hltv\n",
      "22:24:12 [INFO] Rollup damages set to False\n",
      "22:24:12 [INFO] Parse frames set to True\n",
      "22:24:12 [INFO] Running Golang parser from C:\\Users\\nguye\\anaconda3\\envs\\envTF24\\lib\\site-packages\\csgo-1.0-py3.7.egg\\csgo\\parser\\\n",
      "22:24:12 [INFO] Looking for file at D:\\EDAV\\45\\DHW14-SF-virtuspro-vs-nip-cache.dem\n"
     ]
    },
    {
     "name": "stdout",
     "output_type": "stream",
     "text": [
      "parsing    45 DHW14-SF-virtuspro-vs-nip-cache.dem\n"
     ]
    },
    {
     "name": "stderr",
     "output_type": "stream",
     "text": [
      "22:24:14 [INFO] Wrote demo parse output to 45 DHW14-SF-virtuspro-vs-nip-cache.json\n",
      "22:24:14 [INFO] Reading in JSON from 45 DHW14-SF-virtuspro-vs-nip-cache.json\n",
      "22:24:14 [INFO] JSON data loaded, available in the `json` attribute to parser\n",
      "22:24:14 [INFO] Successfully parsed JSON output\n",
      "22:24:14 [INFO] Successfully returned JSON output\n",
      "22:24:15 [INFO] Go version>=1.14.0\n",
      "22:24:15 [INFO] Initialized CSGODemoParser with demofile D:\\EDAV\\46\\MLGColumbus2016-natusvincere-vs-luminosity-bo3-map1-mirage.dem\n",
      "22:24:15 [INFO] Setting demo id to 46 MLGColumbus2016-natusvincere-vs-luminosity-bo3-map1-mirage\n",
      "22:24:15 [INFO] Setting parse rate to 128\n",
      "22:24:15 [INFO] Setting trade time to 5\n",
      "22:24:15 [INFO] Setting buy style to hltv\n",
      "22:24:15 [INFO] Rollup damages set to False\n",
      "22:24:15 [INFO] Parse frames set to True\n",
      "22:24:15 [INFO] Running Golang parser from C:\\Users\\nguye\\anaconda3\\envs\\envTF24\\lib\\site-packages\\csgo-1.0-py3.7.egg\\csgo\\parser\\\n",
      "22:24:15 [INFO] Looking for file at D:\\EDAV\\46\\MLGColumbus2016-natusvincere-vs-luminosity-bo3-map1-mirage.dem\n"
     ]
    },
    {
     "name": "stdout",
     "output_type": "stream",
     "text": [
      "parsing    46 MLGColumbus2016-natusvincere-vs-luminosity-bo3-map1-mirage.dem\n"
     ]
    },
    {
     "name": "stderr",
     "output_type": "stream",
     "text": [
      "22:24:22 [INFO] Wrote demo parse output to 46 MLGColumbus2016-natusvincere-vs-luminosity-bo3-map1-mirage.json\n",
      "22:24:22 [INFO] Reading in JSON from 46 MLGColumbus2016-natusvincere-vs-luminosity-bo3-map1-mirage.json\n",
      "22:24:23 [INFO] JSON data loaded, available in the `json` attribute to parser\n",
      "22:24:23 [INFO] Successfully parsed JSON output\n",
      "22:24:23 [INFO] Successfully returned JSON output\n",
      "22:24:34 [INFO] Go version>=1.14.0\n",
      "22:24:34 [INFO] Initialized CSGODemoParser with demofile D:\\EDAV\\46\\MLGColumbus2016-natusvincere-vs-luminosity-bo3-map2-overpass.dem\n",
      "22:24:34 [INFO] Setting demo id to 46 MLGColumbus2016-natusvincere-vs-luminosity-bo3-map2-overpass\n",
      "22:24:34 [INFO] Setting parse rate to 128\n",
      "22:24:34 [INFO] Setting trade time to 5\n",
      "22:24:34 [INFO] Setting buy style to hltv\n",
      "22:24:34 [INFO] Rollup damages set to False\n",
      "22:24:34 [INFO] Parse frames set to True\n",
      "22:24:34 [INFO] Running Golang parser from C:\\Users\\nguye\\anaconda3\\envs\\envTF24\\lib\\site-packages\\csgo-1.0-py3.7.egg\\csgo\\parser\\\n",
      "22:24:34 [INFO] Looking for file at D:\\EDAV\\46\\MLGColumbus2016-natusvincere-vs-luminosity-bo3-map2-overpass.dem\n"
     ]
    },
    {
     "name": "stdout",
     "output_type": "stream",
     "text": [
      "parsing    46 MLGColumbus2016-natusvincere-vs-luminosity-bo3-map2-overpass.dem\n"
     ]
    },
    {
     "name": "stderr",
     "output_type": "stream",
     "text": [
      "22:24:39 [INFO] Wrote demo parse output to 46 MLGColumbus2016-natusvincere-vs-luminosity-bo3-map2-overpass.json\n",
      "22:24:39 [INFO] Reading in JSON from 46 MLGColumbus2016-natusvincere-vs-luminosity-bo3-map2-overpass.json\n",
      "22:24:39 [INFO] JSON data loaded, available in the `json` attribute to parser\n",
      "22:24:39 [INFO] Successfully parsed JSON output\n",
      "22:24:39 [INFO] Successfully returned JSON output\n",
      "22:24:45 [INFO] Go version>=1.14.0\n",
      "22:24:45 [INFO] Initialized CSGODemoParser with demofile D:\\EDAV\\47\\astralis-vs-renegades-m3-inferno.dem\n",
      "22:24:45 [INFO] Setting demo id to 47 astralis-vs-renegades-m3-inferno\n",
      "22:24:45 [INFO] Setting parse rate to 128\n",
      "22:24:45 [INFO] Setting trade time to 5\n",
      "22:24:45 [INFO] Setting buy style to hltv\n",
      "22:24:45 [INFO] Rollup damages set to False\n",
      "22:24:45 [INFO] Parse frames set to True\n",
      "22:24:45 [INFO] Running Golang parser from C:\\Users\\nguye\\anaconda3\\envs\\envTF24\\lib\\site-packages\\csgo-1.0-py3.7.egg\\csgo\\parser\\\n",
      "22:24:45 [INFO] Looking for file at D:\\EDAV\\47\\astralis-vs-renegades-m3-inferno.dem\n"
     ]
    },
    {
     "name": "stdout",
     "output_type": "stream",
     "text": [
      "parsing    47 astralis-vs-renegades-m3-inferno.dem\n"
     ]
    },
    {
     "name": "stderr",
     "output_type": "stream",
     "text": [
      "22:24:49 [INFO] Wrote demo parse output to 47 astralis-vs-renegades-m3-inferno.json\n",
      "22:24:49 [INFO] Reading in JSON from 47 astralis-vs-renegades-m3-inferno.json\n",
      "22:24:49 [INFO] JSON data loaded, available in the `json` attribute to parser\n",
      "22:24:49 [INFO] Successfully parsed JSON output\n",
      "22:24:49 [INFO] Successfully returned JSON output\n",
      "22:24:54 [INFO] Go version>=1.14.0\n",
      "22:24:54 [INFO] Initialized CSGODemoParser with demofile D:\\EDAV\\47\\astralis-vs-renegades-m1-mirage.dem\n",
      "22:24:54 [INFO] Setting demo id to 47 astralis-vs-renegades-m1-mirage\n",
      "22:24:54 [INFO] Setting parse rate to 128\n",
      "22:24:54 [INFO] Setting trade time to 5\n",
      "22:24:54 [INFO] Setting buy style to hltv\n",
      "22:24:54 [INFO] Rollup damages set to False\n",
      "22:24:54 [INFO] Parse frames set to True\n",
      "22:24:54 [INFO] Running Golang parser from C:\\Users\\nguye\\anaconda3\\envs\\envTF24\\lib\\site-packages\\csgo-1.0-py3.7.egg\\csgo\\parser\\\n",
      "22:24:54 [INFO] Looking for file at D:\\EDAV\\47\\astralis-vs-renegades-m1-mirage.dem\n"
     ]
    },
    {
     "name": "stdout",
     "output_type": "stream",
     "text": [
      "parsing    47 astralis-vs-renegades-m1-mirage.dem\n"
     ]
    },
    {
     "name": "stderr",
     "output_type": "stream",
     "text": [
      "22:25:00 [INFO] Wrote demo parse output to 47 astralis-vs-renegades-m1-mirage.json\n",
      "22:25:00 [INFO] Reading in JSON from 47 astralis-vs-renegades-m1-mirage.json\n",
      "22:25:01 [INFO] JSON data loaded, available in the `json` attribute to parser\n",
      "22:25:01 [INFO] Successfully parsed JSON output\n",
      "22:25:01 [INFO] Successfully returned JSON output\n",
      "22:25:11 [INFO] Go version>=1.14.0\n",
      "22:25:11 [INFO] Initialized CSGODemoParser with demofile D:\\EDAV\\47\\astralis-vs-renegades-m2-nuke.dem\n",
      "22:25:11 [INFO] Setting demo id to 47 astralis-vs-renegades-m2-nuke\n",
      "22:25:11 [INFO] Setting parse rate to 128\n",
      "22:25:11 [INFO] Setting trade time to 5\n",
      "22:25:11 [INFO] Setting buy style to hltv\n",
      "22:25:11 [INFO] Rollup damages set to False\n",
      "22:25:11 [INFO] Parse frames set to True\n",
      "22:25:11 [INFO] Running Golang parser from C:\\Users\\nguye\\anaconda3\\envs\\envTF24\\lib\\site-packages\\csgo-1.0-py3.7.egg\\csgo\\parser\\\n",
      "22:25:11 [INFO] Looking for file at D:\\EDAV\\47\\astralis-vs-renegades-m2-nuke.dem\n"
     ]
    },
    {
     "name": "stdout",
     "output_type": "stream",
     "text": [
      "parsing    47 astralis-vs-renegades-m2-nuke.dem\n"
     ]
    },
    {
     "name": "stderr",
     "output_type": "stream",
     "text": [
      "22:25:15 [INFO] Wrote demo parse output to 47 astralis-vs-renegades-m2-nuke.json\n",
      "22:25:15 [INFO] Reading in JSON from 47 astralis-vs-renegades-m2-nuke.json\n",
      "22:25:16 [INFO] JSON data loaded, available in the `json` attribute to parser\n",
      "22:25:16 [INFO] Successfully parsed JSON output\n",
      "22:25:16 [INFO] Successfully returned JSON output\n",
      "22:25:23 [INFO] Go version>=1.14.0\n",
      "22:25:23 [INFO] Initialized CSGODemoParser with demofile D:\\EDAV\\48\\MLGColumbus2016-flipsid3-vs-mousesports-cobblestone.dem\n",
      "22:25:23 [INFO] Setting demo id to 48 MLGColumbus2016-flipsid3-vs-mousesports-cobblestone\n",
      "22:25:23 [INFO] Setting parse rate to 128\n",
      "22:25:23 [INFO] Setting trade time to 5\n",
      "22:25:23 [INFO] Setting buy style to hltv\n",
      "22:25:23 [INFO] Rollup damages set to False\n",
      "22:25:23 [INFO] Parse frames set to True\n",
      "22:25:23 [INFO] Running Golang parser from C:\\Users\\nguye\\anaconda3\\envs\\envTF24\\lib\\site-packages\\csgo-1.0-py3.7.egg\\csgo\\parser\\\n",
      "22:25:23 [INFO] Looking for file at D:\\EDAV\\48\\MLGColumbus2016-flipsid3-vs-mousesports-cobblestone.dem\n"
     ]
    },
    {
     "name": "stdout",
     "output_type": "stream",
     "text": [
      "parsing    48 MLGColumbus2016-flipsid3-vs-mousesports-cobblestone.dem\n"
     ]
    },
    {
     "name": "stderr",
     "output_type": "stream",
     "text": [
      "22:25:35 [INFO] Wrote demo parse output to 48 MLGColumbus2016-flipsid3-vs-mousesports-cobblestone.json\n",
      "22:25:35 [INFO] Reading in JSON from 48 MLGColumbus2016-flipsid3-vs-mousesports-cobblestone.json\n",
      "22:25:36 [INFO] JSON data loaded, available in the `json` attribute to parser\n",
      "22:25:36 [INFO] Successfully parsed JSON output\n",
      "22:25:36 [INFO] Successfully returned JSON output\n",
      "22:25:59 [INFO] Go version>=1.14.0\n",
      "22:25:59 [INFO] Initialized CSGODemoParser with demofile D:\\EDAV\\49\\gambit-vs-north-cobblestone.dem\n",
      "22:25:59 [INFO] Setting demo id to 49 gambit-vs-north-cobblestone\n",
      "22:25:59 [INFO] Setting parse rate to 128\n",
      "22:25:59 [INFO] Setting trade time to 5\n",
      "22:25:59 [INFO] Setting buy style to hltv\n",
      "22:25:59 [INFO] Rollup damages set to False\n",
      "22:25:59 [INFO] Parse frames set to True\n",
      "22:25:59 [INFO] Running Golang parser from C:\\Users\\nguye\\anaconda3\\envs\\envTF24\\lib\\site-packages\\csgo-1.0-py3.7.egg\\csgo\\parser\\\n",
      "22:25:59 [INFO] Looking for file at D:\\EDAV\\49\\gambit-vs-north-cobblestone.dem\n"
     ]
    },
    {
     "name": "stdout",
     "output_type": "stream",
     "text": [
      "parsing    49 gambit-vs-north-cobblestone.dem\n"
     ]
    },
    {
     "name": "stderr",
     "output_type": "stream",
     "text": [
      "22:26:04 [INFO] Wrote demo parse output to 49 gambit-vs-north-cobblestone.json\n",
      "22:26:04 [INFO] Reading in JSON from 49 gambit-vs-north-cobblestone.json\n",
      "22:26:04 [INFO] JSON data loaded, available in the `json` attribute to parser\n",
      "22:26:04 [INFO] Successfully parsed JSON output\n",
      "22:26:04 [INFO] Successfully returned JSON output\n",
      "22:26:11 [INFO] Go version>=1.14.0\n",
      "22:26:11 [INFO] Initialized CSGODemoParser with demofile D:\\EDAV\\50\\ESLOneCologne-GF-nip-vs-fnatic-cobblestone.dem\n",
      "22:26:11 [INFO] Setting demo id to 50 ESLOneCologne-GF-nip-vs-fnatic-cobblestone\n",
      "22:26:11 [INFO] Setting parse rate to 128\n",
      "22:26:11 [INFO] Setting trade time to 5\n",
      "22:26:11 [INFO] Setting buy style to hltv\n",
      "22:26:11 [INFO] Rollup damages set to False\n",
      "22:26:11 [INFO] Parse frames set to True\n",
      "22:26:11 [INFO] Running Golang parser from C:\\Users\\nguye\\anaconda3\\envs\\envTF24\\lib\\site-packages\\csgo-1.0-py3.7.egg\\csgo\\parser\\\n",
      "22:26:11 [INFO] Looking for file at D:\\EDAV\\50\\ESLOneCologne-GF-nip-vs-fnatic-cobblestone.dem\n"
     ]
    },
    {
     "name": "stdout",
     "output_type": "stream",
     "text": [
      "parsing    50 ESLOneCologne-GF-nip-vs-fnatic-cobblestone.dem\n"
     ]
    },
    {
     "name": "stderr",
     "output_type": "stream",
     "text": [
      "22:26:13 [INFO] Wrote demo parse output to 50 ESLOneCologne-GF-nip-vs-fnatic-cobblestone.json\n",
      "22:26:13 [INFO] Reading in JSON from 50 ESLOneCologne-GF-nip-vs-fnatic-cobblestone.json\n",
      "22:26:13 [INFO] JSON data loaded, available in the `json` attribute to parser\n",
      "22:26:13 [INFO] Successfully parsed JSON output\n",
      "22:26:13 [INFO] Successfully returned JSON output\n",
      "22:26:14 [INFO] Go version>=1.14.0\n",
      "22:26:14 [INFO] Initialized CSGODemoParser with demofile D:\\EDAV\\50\\ESLOneCologne-GF-nip-vs-fnatic-inferno.dem\n",
      "22:26:14 [INFO] Setting demo id to 50 ESLOneCologne-GF-nip-vs-fnatic-inferno\n",
      "22:26:14 [INFO] Setting parse rate to 128\n",
      "22:26:14 [INFO] Setting trade time to 5\n",
      "22:26:14 [INFO] Setting buy style to hltv\n",
      "22:26:14 [INFO] Rollup damages set to False\n",
      "22:26:14 [INFO] Parse frames set to True\n",
      "22:26:14 [INFO] Running Golang parser from C:\\Users\\nguye\\anaconda3\\envs\\envTF24\\lib\\site-packages\\csgo-1.0-py3.7.egg\\csgo\\parser\\\n",
      "22:26:14 [INFO] Looking for file at D:\\EDAV\\50\\ESLOneCologne-GF-nip-vs-fnatic-inferno.dem\n"
     ]
    },
    {
     "name": "stdout",
     "output_type": "stream",
     "text": [
      "parsing    50 ESLOneCologne-GF-nip-vs-fnatic-inferno.dem\n"
     ]
    },
    {
     "name": "stderr",
     "output_type": "stream",
     "text": [
      "22:26:17 [INFO] Wrote demo parse output to 50 ESLOneCologne-GF-nip-vs-fnatic-inferno.json\n",
      "22:26:17 [INFO] Reading in JSON from 50 ESLOneCologne-GF-nip-vs-fnatic-inferno.json\n",
      "22:26:17 [INFO] JSON data loaded, available in the `json` attribute to parser\n",
      "22:26:17 [INFO] Successfully parsed JSON output\n",
      "22:26:17 [INFO] Successfully returned JSON output\n",
      "22:26:18 [INFO] Go version>=1.14.0\n",
      "22:26:18 [INFO] Initialized CSGODemoParser with demofile D:\\EDAV\\50\\ESLOneCologne-GF-fnatic-vs-nip-cache.dem\n",
      "22:26:18 [INFO] Setting demo id to 50 ESLOneCologne-GF-fnatic-vs-nip-cache\n",
      "22:26:18 [INFO] Setting parse rate to 128\n",
      "22:26:18 [INFO] Setting trade time to 5\n",
      "22:26:18 [INFO] Setting buy style to hltv\n",
      "22:26:18 [INFO] Rollup damages set to False\n",
      "22:26:18 [INFO] Parse frames set to True\n",
      "22:26:18 [INFO] Running Golang parser from C:\\Users\\nguye\\anaconda3\\envs\\envTF24\\lib\\site-packages\\csgo-1.0-py3.7.egg\\csgo\\parser\\\n",
      "22:26:18 [INFO] Looking for file at D:\\EDAV\\50\\ESLOneCologne-GF-fnatic-vs-nip-cache.dem\n"
     ]
    },
    {
     "name": "stdout",
     "output_type": "stream",
     "text": [
      "parsing    50 ESLOneCologne-GF-fnatic-vs-nip-cache.dem\n"
     ]
    },
    {
     "name": "stderr",
     "output_type": "stream",
     "text": [
      "22:26:20 [INFO] Wrote demo parse output to 50 ESLOneCologne-GF-fnatic-vs-nip-cache.json\n",
      "22:26:20 [INFO] Reading in JSON from 50 ESLOneCologne-GF-fnatic-vs-nip-cache.json\n",
      "22:26:20 [INFO] JSON data loaded, available in the `json` attribute to parser\n",
      "22:26:20 [INFO] Successfully parsed JSON output\n",
      "22:26:20 [INFO] Successfully returned JSON output\n",
      "22:26:22 [INFO] Go version>=1.14.0\n",
      "22:26:22 [INFO] Initialized CSGODemoParser with demofile D:\\EDAV\\51\\ESLOneKatowice2015-SF-nip-vs-envyus-dust2.dem\n",
      "22:26:22 [INFO] Setting demo id to 51 ESLOneKatowice2015-SF-nip-vs-envyus-dust2\n",
      "22:26:22 [INFO] Setting parse rate to 128\n",
      "22:26:22 [INFO] Setting trade time to 5\n",
      "22:26:22 [INFO] Setting buy style to hltv\n",
      "22:26:22 [INFO] Rollup damages set to False\n",
      "22:26:22 [INFO] Parse frames set to True\n",
      "22:26:22 [INFO] Running Golang parser from C:\\Users\\nguye\\anaconda3\\envs\\envTF24\\lib\\site-packages\\csgo-1.0-py3.7.egg\\csgo\\parser\\\n",
      "22:26:22 [INFO] Looking for file at D:\\EDAV\\51\\ESLOneKatowice2015-SF-nip-vs-envyus-dust2.dem\n"
     ]
    },
    {
     "name": "stdout",
     "output_type": "stream",
     "text": [
      "parsing    51 ESLOneKatowice2015-SF-nip-vs-envyus-dust2.dem\n"
     ]
    },
    {
     "name": "stderr",
     "output_type": "stream",
     "text": [
      "22:26:24 [INFO] Wrote demo parse output to 51 ESLOneKatowice2015-SF-nip-vs-envyus-dust2.json\n",
      "22:26:24 [INFO] Reading in JSON from 51 ESLOneKatowice2015-SF-nip-vs-envyus-dust2.json\n",
      "22:26:24 [INFO] JSON data loaded, available in the `json` attribute to parser\n",
      "22:26:24 [INFO] Successfully parsed JSON output\n",
      "22:26:24 [INFO] Successfully returned JSON output\n",
      "22:26:25 [INFO] Go version>=1.14.0\n",
      "22:26:25 [INFO] Initialized CSGODemoParser with demofile D:\\EDAV\\51\\ESLOneKatowice2015-SF-nip-vs-envyus-cache.dem\n",
      "22:26:25 [INFO] Setting demo id to 51 ESLOneKatowice2015-SF-nip-vs-envyus-cache\n",
      "22:26:25 [INFO] Setting parse rate to 128\n",
      "22:26:25 [INFO] Setting trade time to 5\n",
      "22:26:25 [INFO] Setting buy style to hltv\n",
      "22:26:25 [INFO] Rollup damages set to False\n",
      "22:26:25 [INFO] Parse frames set to True\n",
      "22:26:25 [INFO] Running Golang parser from C:\\Users\\nguye\\anaconda3\\envs\\envTF24\\lib\\site-packages\\csgo-1.0-py3.7.egg\\csgo\\parser\\\n",
      "22:26:25 [INFO] Looking for file at D:\\EDAV\\51\\ESLOneKatowice2015-SF-nip-vs-envyus-cache.dem\n"
     ]
    },
    {
     "name": "stdout",
     "output_type": "stream",
     "text": [
      "parsing    51 ESLOneKatowice2015-SF-nip-vs-envyus-cache.dem\n"
     ]
    },
    {
     "name": "stderr",
     "output_type": "stream",
     "text": [
      "22:26:27 [INFO] Wrote demo parse output to 51 ESLOneKatowice2015-SF-nip-vs-envyus-cache.json\n",
      "22:26:27 [INFO] Reading in JSON from 51 ESLOneKatowice2015-SF-nip-vs-envyus-cache.json\n",
      "22:26:27 [INFO] JSON data loaded, available in the `json` attribute to parser\n",
      "22:26:27 [INFO] Successfully parsed JSON output\n",
      "22:26:27 [INFO] Successfully returned JSON output\n",
      "22:26:28 [INFO] Go version>=1.14.0\n",
      "22:26:28 [INFO] Initialized CSGODemoParser with demofile D:\\EDAV\\52\\vega-squadron-vs-penta-mirage.dem\n",
      "22:26:28 [INFO] Setting demo id to 52 vega-squadron-vs-penta-mirage\n",
      "22:26:28 [INFO] Setting parse rate to 128\n",
      "22:26:28 [INFO] Setting trade time to 5\n",
      "22:26:28 [INFO] Setting buy style to hltv\n",
      "22:26:28 [INFO] Rollup damages set to False\n",
      "22:26:28 [INFO] Parse frames set to True\n",
      "22:26:28 [INFO] Running Golang parser from C:\\Users\\nguye\\anaconda3\\envs\\envTF24\\lib\\site-packages\\csgo-1.0-py3.7.egg\\csgo\\parser\\\n",
      "22:26:28 [INFO] Looking for file at D:\\EDAV\\52\\vega-squadron-vs-penta-mirage.dem\n"
     ]
    },
    {
     "name": "stdout",
     "output_type": "stream",
     "text": [
      "parsing    52 vega-squadron-vs-penta-mirage.dem\n"
     ]
    },
    {
     "name": "stderr",
     "output_type": "stream",
     "text": [
      "22:26:33 [INFO] Wrote demo parse output to 52 vega-squadron-vs-penta-mirage.json\n",
      "22:26:33 [INFO] Reading in JSON from 52 vega-squadron-vs-penta-mirage.json\n",
      "22:26:34 [INFO] JSON data loaded, available in the `json` attribute to parser\n",
      "22:26:34 [INFO] Successfully parsed JSON output\n",
      "22:26:34 [INFO] Successfully returned JSON output\n",
      "22:26:42 [INFO] Go version>=1.14.0\n",
      "22:26:42 [INFO] Initialized CSGODemoParser with demofile D:\\EDAV\\53\\envyus-vs-fnatic-cobblestone.dem\n",
      "22:26:42 [INFO] Setting demo id to 53 envyus-vs-fnatic-cobblestone\n",
      "22:26:42 [INFO] Setting parse rate to 128\n",
      "22:26:42 [INFO] Setting trade time to 5\n",
      "22:26:42 [INFO] Setting buy style to hltv\n",
      "22:26:42 [INFO] Rollup damages set to False\n",
      "22:26:42 [INFO] Parse frames set to True\n",
      "22:26:42 [INFO] Running Golang parser from C:\\Users\\nguye\\anaconda3\\envs\\envTF24\\lib\\site-packages\\csgo-1.0-py3.7.egg\\csgo\\parser\\\n",
      "22:26:42 [INFO] Looking for file at D:\\EDAV\\53\\envyus-vs-fnatic-cobblestone.dem\n"
     ]
    },
    {
     "name": "stdout",
     "output_type": "stream",
     "text": [
      "parsing    53 envyus-vs-fnatic-cobblestone.dem\n"
     ]
    },
    {
     "name": "stderr",
     "output_type": "stream",
     "text": [
      "22:26:47 [INFO] Wrote demo parse output to 53 envyus-vs-fnatic-cobblestone.json\n",
      "22:26:47 [INFO] Reading in JSON from 53 envyus-vs-fnatic-cobblestone.json\n",
      "22:26:47 [INFO] JSON data loaded, available in the `json` attribute to parser\n",
      "22:26:47 [INFO] Successfully parsed JSON output\n",
      "22:26:47 [INFO] Successfully returned JSON output\n",
      "22:26:56 [INFO] Go version>=1.14.0\n",
      "22:26:56 [INFO] Initialized CSGODemoParser with demofile D:\\EDAV\\54\\astralis-vs-complexity-nuke.dem\n",
      "22:26:56 [INFO] Setting demo id to 54 astralis-vs-complexity-nuke\n",
      "22:26:56 [INFO] Setting parse rate to 128\n",
      "22:26:56 [INFO] Setting trade time to 5\n",
      "22:26:56 [INFO] Setting buy style to hltv\n",
      "22:26:56 [INFO] Rollup damages set to False\n",
      "22:26:56 [INFO] Parse frames set to True\n",
      "22:26:56 [INFO] Running Golang parser from C:\\Users\\nguye\\anaconda3\\envs\\envTF24\\lib\\site-packages\\csgo-1.0-py3.7.egg\\csgo\\parser\\\n",
      "22:26:56 [INFO] Looking for file at D:\\EDAV\\54\\astralis-vs-complexity-nuke.dem\n"
     ]
    },
    {
     "name": "stdout",
     "output_type": "stream",
     "text": [
      "parsing    54 astralis-vs-complexity-nuke.dem\n"
     ]
    },
    {
     "name": "stderr",
     "output_type": "stream",
     "text": [
      "22:27:00 [INFO] Wrote demo parse output to 54 astralis-vs-complexity-nuke.json\n",
      "22:27:00 [INFO] Reading in JSON from 54 astralis-vs-complexity-nuke.json\n",
      "22:27:01 [INFO] JSON data loaded, available in the `json` attribute to parser\n",
      "22:27:01 [INFO] Successfully parsed JSON output\n",
      "22:27:01 [INFO] Successfully returned JSON output\n",
      "22:27:08 [INFO] Go version>=1.14.0\n",
      "22:27:08 [INFO] Initialized CSGODemoParser with demofile D:\\EDAV\\55\\DHW14-GroupA-cloud9-vs-bravado-cache.dem\n",
      "22:27:08 [INFO] Setting demo id to 55 DHW14-GroupA-cloud9-vs-bravado-cache\n",
      "22:27:08 [INFO] Setting parse rate to 128\n",
      "22:27:08 [INFO] Setting trade time to 5\n",
      "22:27:08 [INFO] Setting buy style to hltv\n",
      "22:27:08 [INFO] Rollup damages set to False\n",
      "22:27:08 [INFO] Parse frames set to True\n",
      "22:27:08 [INFO] Running Golang parser from C:\\Users\\nguye\\anaconda3\\envs\\envTF24\\lib\\site-packages\\csgo-1.0-py3.7.egg\\csgo\\parser\\\n",
      "22:27:08 [INFO] Looking for file at D:\\EDAV\\55\\DHW14-GroupA-cloud9-vs-bravado-cache.dem\n"
     ]
    },
    {
     "name": "stdout",
     "output_type": "stream",
     "text": [
      "parsing    55 DHW14-GroupA-cloud9-vs-bravado-cache.dem\n"
     ]
    },
    {
     "name": "stderr",
     "output_type": "stream",
     "text": [
      "22:27:09 [INFO] Wrote demo parse output to 55 DHW14-GroupA-cloud9-vs-bravado-cache.json\n",
      "22:27:09 [INFO] Reading in JSON from 55 DHW14-GroupA-cloud9-vs-bravado-cache.json\n",
      "22:27:09 [INFO] JSON data loaded, available in the `json` attribute to parser\n",
      "22:27:09 [INFO] Successfully parsed JSON output\n",
      "22:27:09 [INFO] Successfully returned JSON output\n",
      "22:27:10 [INFO] Go version>=1.14.0\n",
      "22:27:10 [INFO] Initialized CSGODemoParser with demofile D:\\EDAV\\56\\ESLOneCologne2016-liquid-vs-envyus-train.dem\n",
      "22:27:10 [INFO] Setting demo id to 56 ESLOneCologne2016-liquid-vs-envyus-train\n",
      "22:27:10 [INFO] Setting parse rate to 128\n",
      "22:27:10 [INFO] Setting trade time to 5\n",
      "22:27:10 [INFO] Setting buy style to hltv\n",
      "22:27:10 [INFO] Rollup damages set to False\n",
      "22:27:10 [INFO] Parse frames set to True\n",
      "22:27:10 [INFO] Running Golang parser from C:\\Users\\nguye\\anaconda3\\envs\\envTF24\\lib\\site-packages\\csgo-1.0-py3.7.egg\\csgo\\parser\\\n",
      "22:27:10 [INFO] Looking for file at D:\\EDAV\\56\\ESLOneCologne2016-liquid-vs-envyus-train.dem\n"
     ]
    },
    {
     "name": "stdout",
     "output_type": "stream",
     "text": [
      "parsing    56 ESLOneCologne2016-liquid-vs-envyus-train.dem\n"
     ]
    },
    {
     "name": "stderr",
     "output_type": "stream",
     "text": [
      "22:27:14 [INFO] Wrote demo parse output to 56 ESLOneCologne2016-liquid-vs-envyus-train.json\n",
      "22:27:14 [INFO] Reading in JSON from 56 ESLOneCologne2016-liquid-vs-envyus-train.json\n",
      "22:27:14 [INFO] JSON data loaded, available in the `json` attribute to parser\n",
      "22:27:14 [INFO] Successfully parsed JSON output\n",
      "22:27:14 [INFO] Successfully returned JSON output\n",
      "22:27:21 [INFO] Go version>=1.14.0\n",
      "22:27:21 [INFO] Initialized CSGODemoParser with demofile D:\\EDAV\\57\\faze-vs-sk-mirage.dem\n",
      "22:27:21 [INFO] Setting demo id to 57 faze-vs-sk-mirage\n",
      "22:27:21 [INFO] Setting parse rate to 128\n",
      "22:27:21 [INFO] Setting trade time to 5\n",
      "22:27:21 [INFO] Setting buy style to hltv\n",
      "22:27:21 [INFO] Rollup damages set to False\n",
      "22:27:21 [INFO] Parse frames set to True\n",
      "22:27:21 [INFO] Running Golang parser from C:\\Users\\nguye\\anaconda3\\envs\\envTF24\\lib\\site-packages\\csgo-1.0-py3.7.egg\\csgo\\parser\\\n",
      "22:27:21 [INFO] Looking for file at D:\\EDAV\\57\\faze-vs-sk-mirage.dem\n"
     ]
    },
    {
     "name": "stdout",
     "output_type": "stream",
     "text": [
      "parsing    57 faze-vs-sk-mirage.dem\n"
     ]
    },
    {
     "name": "stderr",
     "output_type": "stream",
     "text": [
      "22:27:27 [INFO] Wrote demo parse output to 57 faze-vs-sk-mirage.json\n",
      "22:27:27 [INFO] Reading in JSON from 57 faze-vs-sk-mirage.json\n",
      "22:27:27 [INFO] JSON data loaded, available in the `json` attribute to parser\n",
      "22:27:27 [INFO] Successfully parsed JSON output\n",
      "22:27:27 [INFO] Successfully returned JSON output\n",
      "22:27:38 [INFO] Go version>=1.14.0\n",
      "22:27:38 [INFO] Initialized CSGODemoParser with demofile D:\\EDAV\\58\\natus-vincere-vs-qb-fire-m2-inferno.dem\n",
      "22:27:38 [INFO] Setting demo id to 58 natus-vincere-vs-qb-fire-m2-inferno\n",
      "22:27:38 [INFO] Setting parse rate to 128\n",
      "22:27:38 [INFO] Setting trade time to 5\n",
      "22:27:38 [INFO] Setting buy style to hltv\n",
      "22:27:38 [INFO] Rollup damages set to False\n",
      "22:27:38 [INFO] Parse frames set to True\n",
      "22:27:38 [INFO] Running Golang parser from C:\\Users\\nguye\\anaconda3\\envs\\envTF24\\lib\\site-packages\\csgo-1.0-py3.7.egg\\csgo\\parser\\\n",
      "22:27:38 [INFO] Looking for file at D:\\EDAV\\58\\natus-vincere-vs-qb-fire-m2-inferno.dem\n"
     ]
    },
    {
     "name": "stdout",
     "output_type": "stream",
     "text": [
      "parsing    58 natus-vincere-vs-qb-fire-m2-inferno.dem\n"
     ]
    },
    {
     "name": "stderr",
     "output_type": "stream",
     "text": [
      "22:27:39 [INFO] Wrote demo parse output to 58 natus-vincere-vs-qb-fire-m2-inferno.json\n",
      "22:27:39 [INFO] Reading in JSON from 58 natus-vincere-vs-qb-fire-m2-inferno.json\n",
      "22:27:39 [INFO] JSON data loaded, available in the `json` attribute to parser\n",
      "22:27:39 [INFO] Successfully parsed JSON output\n",
      "22:27:39 [INFO] Successfully returned JSON output\n",
      "22:27:39 [ERROR] JSON not found. Run .parse()\n",
      "22:27:39 [INFO] Go version>=1.14.0\n",
      "22:27:39 [INFO] Initialized CSGODemoParser with demofile D:\\EDAV\\58\\natus-vincere-vs-qb-fire-m1-mirage.dem\n",
      "22:27:39 [INFO] Setting demo id to 58 natus-vincere-vs-qb-fire-m1-mirage\n",
      "22:27:39 [INFO] Setting parse rate to 128\n",
      "22:27:39 [INFO] Setting trade time to 5\n",
      "22:27:39 [INFO] Setting buy style to hltv\n",
      "22:27:39 [INFO] Rollup damages set to False\n",
      "22:27:39 [INFO] Parse frames set to True\n",
      "22:27:39 [INFO] Running Golang parser from C:\\Users\\nguye\\anaconda3\\envs\\envTF24\\lib\\site-packages\\csgo-1.0-py3.7.egg\\csgo\\parser\\\n",
      "22:27:39 [INFO] Looking for file at D:\\EDAV\\58\\natus-vincere-vs-qb-fire-m1-mirage.dem\n"
     ]
    },
    {
     "name": "stdout",
     "output_type": "stream",
     "text": [
      "ERROR   58 natus-vincere-vs-qb-fire-m2-inferno\n",
      "parsing    58 natus-vincere-vs-qb-fire-m1-mirage.dem\n"
     ]
    },
    {
     "name": "stderr",
     "output_type": "stream",
     "text": [
      "22:27:43 [INFO] Wrote demo parse output to 58 natus-vincere-vs-qb-fire-m1-mirage.json\n",
      "22:27:43 [INFO] Reading in JSON from 58 natus-vincere-vs-qb-fire-m1-mirage.json\n",
      "22:27:43 [INFO] JSON data loaded, available in the `json` attribute to parser\n",
      "22:27:43 [INFO] Successfully parsed JSON output\n",
      "22:27:43 [INFO] Successfully returned JSON output\n",
      "22:27:48 [INFO] Go version>=1.14.0\n",
      "22:27:48 [INFO] Initialized CSGODemoParser with demofile D:\\EDAV\\59\\DHW14-GroupB-penta-vs-ibuypower-inferno.dem\n",
      "22:27:48 [INFO] Setting demo id to 59 DHW14-GroupB-penta-vs-ibuypower-inferno\n",
      "22:27:48 [INFO] Setting parse rate to 128\n",
      "22:27:48 [INFO] Setting trade time to 5\n",
      "22:27:48 [INFO] Setting buy style to hltv\n",
      "22:27:48 [INFO] Rollup damages set to False\n",
      "22:27:48 [INFO] Parse frames set to True\n",
      "22:27:48 [INFO] Running Golang parser from C:\\Users\\nguye\\anaconda3\\envs\\envTF24\\lib\\site-packages\\csgo-1.0-py3.7.egg\\csgo\\parser\\\n",
      "22:27:48 [INFO] Looking for file at D:\\EDAV\\59\\DHW14-GroupB-penta-vs-ibuypower-inferno.dem\n"
     ]
    },
    {
     "name": "stdout",
     "output_type": "stream",
     "text": [
      "parsing    59 DHW14-GroupB-penta-vs-ibuypower-inferno.dem\n"
     ]
    },
    {
     "name": "stderr",
     "output_type": "stream",
     "text": [
      "22:27:50 [INFO] Wrote demo parse output to 59 DHW14-GroupB-penta-vs-ibuypower-inferno.json\n",
      "22:27:50 [INFO] Reading in JSON from 59 DHW14-GroupB-penta-vs-ibuypower-inferno.json\n",
      "22:27:50 [INFO] JSON data loaded, available in the `json` attribute to parser\n",
      "22:27:50 [INFO] Successfully parsed JSON output\n",
      "22:27:50 [INFO] Successfully returned JSON output\n",
      "22:27:51 [INFO] Go version>=1.14.0\n",
      "22:27:51 [INFO] Initialized CSGODemoParser with demofile D:\\EDAV\\60\\liquid-vs-nip-overpass.dem\n",
      "22:27:51 [INFO] Setting demo id to 60 liquid-vs-nip-overpass\n",
      "22:27:51 [INFO] Setting parse rate to 128\n",
      "22:27:51 [INFO] Setting trade time to 5\n",
      "22:27:51 [INFO] Setting buy style to hltv\n",
      "22:27:51 [INFO] Rollup damages set to False\n",
      "22:27:51 [INFO] Parse frames set to True\n",
      "22:27:51 [INFO] Running Golang parser from C:\\Users\\nguye\\anaconda3\\envs\\envTF24\\lib\\site-packages\\csgo-1.0-py3.7.egg\\csgo\\parser\\\n",
      "22:27:51 [INFO] Looking for file at D:\\EDAV\\60\\liquid-vs-nip-overpass.dem\n"
     ]
    },
    {
     "name": "stdout",
     "output_type": "stream",
     "text": [
      "parsing    60 liquid-vs-nip-overpass.dem\n"
     ]
    },
    {
     "name": "stderr",
     "output_type": "stream",
     "text": [
      "22:27:58 [INFO] Wrote demo parse output to 60 liquid-vs-nip-overpass.json\n",
      "22:27:58 [INFO] Reading in JSON from 60 liquid-vs-nip-overpass.json\n",
      "22:27:59 [INFO] JSON data loaded, available in the `json` attribute to parser\n",
      "22:27:59 [INFO] Successfully parsed JSON output\n",
      "22:27:59 [INFO] Successfully returned JSON output\n",
      "22:28:08 [INFO] Go version>=1.14.0\n",
      "22:28:08 [INFO] Initialized CSGODemoParser with demofile D:\\EDAV\\61\\gambit-vs-fnatic-map2-inferno.dem\n",
      "22:28:08 [INFO] Setting demo id to 61 gambit-vs-fnatic-map2-inferno\n",
      "22:28:08 [INFO] Setting parse rate to 128\n",
      "22:28:08 [INFO] Setting trade time to 5\n",
      "22:28:08 [INFO] Setting buy style to hltv\n",
      "22:28:08 [INFO] Rollup damages set to False\n",
      "22:28:08 [INFO] Parse frames set to True\n",
      "22:28:08 [INFO] Running Golang parser from C:\\Users\\nguye\\anaconda3\\envs\\envTF24\\lib\\site-packages\\csgo-1.0-py3.7.egg\\csgo\\parser\\\n",
      "22:28:08 [INFO] Looking for file at D:\\EDAV\\61\\gambit-vs-fnatic-map2-inferno.dem\n"
     ]
    },
    {
     "name": "stdout",
     "output_type": "stream",
     "text": [
      "parsing    61 gambit-vs-fnatic-map2-inferno.dem\n"
     ]
    },
    {
     "name": "stderr",
     "output_type": "stream",
     "text": [
      "22:28:14 [INFO] Wrote demo parse output to 61 gambit-vs-fnatic-map2-inferno.json\n",
      "22:28:14 [INFO] Reading in JSON from 61 gambit-vs-fnatic-map2-inferno.json\n",
      "22:28:14 [INFO] JSON data loaded, available in the `json` attribute to parser\n",
      "22:28:14 [INFO] Successfully parsed JSON output\n",
      "22:28:14 [INFO] Successfully returned JSON output\n",
      "22:28:23 [INFO] Go version>=1.14.0\n",
      "22:28:23 [INFO] Initialized CSGODemoParser with demofile D:\\EDAV\\61\\gambit-vs-fnatic-map1-train.dem\n",
      "22:28:23 [INFO] Setting demo id to 61 gambit-vs-fnatic-map1-train\n",
      "22:28:23 [INFO] Setting parse rate to 128\n",
      "22:28:23 [INFO] Setting trade time to 5\n",
      "22:28:23 [INFO] Setting buy style to hltv\n",
      "22:28:23 [INFO] Rollup damages set to False\n",
      "22:28:23 [INFO] Parse frames set to True\n",
      "22:28:23 [INFO] Running Golang parser from C:\\Users\\nguye\\anaconda3\\envs\\envTF24\\lib\\site-packages\\csgo-1.0-py3.7.egg\\csgo\\parser\\\n",
      "22:28:23 [INFO] Looking for file at D:\\EDAV\\61\\gambit-vs-fnatic-map1-train.dem\n"
     ]
    },
    {
     "name": "stdout",
     "output_type": "stream",
     "text": [
      "parsing    61 gambit-vs-fnatic-map1-train.dem\n"
     ]
    },
    {
     "name": "stderr",
     "output_type": "stream",
     "text": [
      "22:28:29 [INFO] Wrote demo parse output to 61 gambit-vs-fnatic-map1-train.json\n",
      "22:28:29 [INFO] Reading in JSON from 61 gambit-vs-fnatic-map1-train.json\n",
      "22:28:29 [INFO] JSON data loaded, available in the `json` attribute to parser\n",
      "22:28:29 [INFO] Successfully parsed JSON output\n",
      "22:28:29 [INFO] Successfully returned JSON output\n",
      "22:28:38 [INFO] Go version>=1.14.0\n",
      "22:28:38 [INFO] Initialized CSGODemoParser with demofile D:\\EDAV\\62\\EMSKato-GroupD-mystik-vs-navi-dust2.dem\n",
      "22:28:38 [INFO] Setting demo id to 62 EMSKato-GroupD-mystik-vs-navi-dust2\n",
      "22:28:38 [INFO] Setting parse rate to 128\n",
      "22:28:38 [INFO] Setting trade time to 5\n",
      "22:28:38 [INFO] Setting buy style to hltv\n",
      "22:28:38 [INFO] Rollup damages set to False\n",
      "22:28:38 [INFO] Parse frames set to True\n",
      "22:28:38 [INFO] Running Golang parser from C:\\Users\\nguye\\anaconda3\\envs\\envTF24\\lib\\site-packages\\csgo-1.0-py3.7.egg\\csgo\\parser\\\n",
      "22:28:38 [INFO] Looking for file at D:\\EDAV\\62\\EMSKato-GroupD-mystik-vs-navi-dust2.dem\n"
     ]
    },
    {
     "name": "stdout",
     "output_type": "stream",
     "text": [
      "parsing    62 EMSKato-GroupD-mystik-vs-navi-dust2.dem\n"
     ]
    },
    {
     "name": "stderr",
     "output_type": "stream",
     "text": [
      "22:28:40 [INFO] Wrote demo parse output to 62 EMSKato-GroupD-mystik-vs-navi-dust2.json\n",
      "22:28:40 [INFO] Reading in JSON from 62 EMSKato-GroupD-mystik-vs-navi-dust2.json\n",
      "22:28:40 [INFO] JSON data loaded, available in the `json` attribute to parser\n",
      "22:28:40 [INFO] Successfully parsed JSON output\n",
      "22:28:40 [INFO] Successfully returned JSON output\n",
      "22:28:41 [INFO] Go version>=1.14.0\n",
      "22:28:41 [INFO] Initialized CSGODemoParser with demofile D:\\EDAV\\63\\complexity-vs-big-nuke.dem\n",
      "22:28:41 [INFO] Setting demo id to 63 complexity-vs-big-nuke\n",
      "22:28:41 [INFO] Setting parse rate to 128\n",
      "22:28:41 [INFO] Setting trade time to 5\n",
      "22:28:41 [INFO] Setting buy style to hltv\n",
      "22:28:41 [INFO] Rollup damages set to False\n",
      "22:28:41 [INFO] Parse frames set to True\n",
      "22:28:41 [INFO] Running Golang parser from C:\\Users\\nguye\\anaconda3\\envs\\envTF24\\lib\\site-packages\\csgo-1.0-py3.7.egg\\csgo\\parser\\\n",
      "22:28:41 [INFO] Looking for file at D:\\EDAV\\63\\complexity-vs-big-nuke.dem\n"
     ]
    },
    {
     "name": "stdout",
     "output_type": "stream",
     "text": [
      "parsing    63 complexity-vs-big-nuke.dem\n"
     ]
    },
    {
     "name": "stderr",
     "output_type": "stream",
     "text": [
      "22:28:46 [INFO] Wrote demo parse output to 63 complexity-vs-big-nuke.json\n",
      "22:28:46 [INFO] Reading in JSON from 63 complexity-vs-big-nuke.json\n",
      "22:28:46 [INFO] JSON data loaded, available in the `json` attribute to parser\n",
      "22:28:46 [INFO] Successfully parsed JSON output\n",
      "22:28:46 [INFO] Successfully returned JSON output\n",
      "22:28:53 [INFO] Go version>=1.14.0\n",
      "22:28:53 [INFO] Initialized CSGODemoParser with demofile D:\\EDAV\\64\\sk-vs-big-inferno.dem\n",
      "22:28:53 [INFO] Setting demo id to 64 sk-vs-big-inferno\n",
      "22:28:53 [INFO] Setting parse rate to 128\n",
      "22:28:53 [INFO] Setting trade time to 5\n",
      "22:28:53 [INFO] Setting buy style to hltv\n",
      "22:28:53 [INFO] Rollup damages set to False\n",
      "22:28:53 [INFO] Parse frames set to True\n",
      "22:28:53 [INFO] Running Golang parser from C:\\Users\\nguye\\anaconda3\\envs\\envTF24\\lib\\site-packages\\csgo-1.0-py3.7.egg\\csgo\\parser\\\n",
      "22:28:53 [INFO] Looking for file at D:\\EDAV\\64\\sk-vs-big-inferno.dem\n"
     ]
    },
    {
     "name": "stdout",
     "output_type": "stream",
     "text": [
      "parsing    64 sk-vs-big-inferno.dem\n"
     ]
    },
    {
     "name": "stderr",
     "output_type": "stream",
     "text": [
      "22:28:58 [INFO] Wrote demo parse output to 64 sk-vs-big-inferno.json\n",
      "22:28:58 [INFO] Reading in JSON from 64 sk-vs-big-inferno.json\n",
      "22:28:59 [INFO] JSON data loaded, available in the `json` attribute to parser\n",
      "22:28:59 [INFO] Successfully parsed JSON output\n",
      "22:28:59 [INFO] Successfully returned JSON output\n",
      "22:29:08 [INFO] Go version>=1.14.0\n",
      "22:29:08 [INFO] Initialized CSGODemoParser with demofile D:\\EDAV\\65\\gambit-vs-natus-vincere-nuke.dem\n",
      "22:29:08 [INFO] Setting demo id to 65 gambit-vs-natus-vincere-nuke\n",
      "22:29:08 [INFO] Setting parse rate to 128\n",
      "22:29:08 [INFO] Setting trade time to 5\n",
      "22:29:08 [INFO] Setting buy style to hltv\n",
      "22:29:08 [INFO] Rollup damages set to False\n",
      "22:29:08 [INFO] Parse frames set to True\n",
      "22:29:08 [INFO] Running Golang parser from C:\\Users\\nguye\\anaconda3\\envs\\envTF24\\lib\\site-packages\\csgo-1.0-py3.7.egg\\csgo\\parser\\\n",
      "22:29:08 [INFO] Looking for file at D:\\EDAV\\65\\gambit-vs-natus-vincere-nuke.dem\n"
     ]
    },
    {
     "name": "stdout",
     "output_type": "stream",
     "text": [
      "parsing    65 gambit-vs-natus-vincere-nuke.dem\n"
     ]
    },
    {
     "name": "stderr",
     "output_type": "stream",
     "text": [
      "22:29:12 [INFO] Wrote demo parse output to 65 gambit-vs-natus-vincere-nuke.json\n",
      "22:29:12 [INFO] Reading in JSON from 65 gambit-vs-natus-vincere-nuke.json\n",
      "22:29:13 [INFO] JSON data loaded, available in the `json` attribute to parser\n",
      "22:29:13 [INFO] Successfully parsed JSON output\n",
      "22:29:13 [INFO] Successfully returned JSON output\n",
      "22:29:19 [INFO] Go version>=1.14.0\n",
      "22:29:19 [INFO] Initialized CSGODemoParser with demofile D:\\EDAV\\66\\003105332913458118659_1512464813_1_luminosity_vs_cloud9_dust2.dem\n",
      "22:29:19 [INFO] Setting demo id to 66 003105332913458118659_1512464813_1_luminosity_vs_cloud9_dust2\n",
      "22:29:19 [INFO] Setting parse rate to 128\n",
      "22:29:19 [INFO] Setting trade time to 5\n",
      "22:29:19 [INFO] Setting buy style to hltv\n",
      "22:29:19 [INFO] Rollup damages set to False\n",
      "22:29:19 [INFO] Parse frames set to True\n",
      "22:29:19 [INFO] Running Golang parser from C:\\Users\\nguye\\anaconda3\\envs\\envTF24\\lib\\site-packages\\csgo-1.0-py3.7.egg\\csgo\\parser\\\n",
      "22:29:19 [INFO] Looking for file at D:\\EDAV\\66\\003105332913458118659_1512464813_1_luminosity_vs_cloud9_dust2.dem\n"
     ]
    },
    {
     "name": "stdout",
     "output_type": "stream",
     "text": [
      "parsing    66 003105332913458118659_1512464813_1_luminosity_vs_cloud9_dust2.dem\n"
     ]
    },
    {
     "name": "stderr",
     "output_type": "stream",
     "text": [
      "22:29:24 [INFO] Wrote demo parse output to 66 003105332913458118659_1512464813_1_luminosity_vs_cloud9_dust2.json\n",
      "22:29:24 [INFO] Reading in JSON from 66 003105332913458118659_1512464813_1_luminosity_vs_cloud9_dust2.json\n",
      "22:29:24 [INFO] JSON data loaded, available in the `json` attribute to parser\n",
      "22:29:24 [INFO] Successfully parsed JSON output\n",
      "22:29:24 [INFO] Successfully returned JSON output\n",
      "22:29:31 [INFO] Go version>=1.14.0\n",
      "22:29:31 [INFO] Initialized CSGODemoParser with demofile D:\\EDAV\\67\\fnatic-vs-mousesports-dust2.dem\n",
      "22:29:31 [INFO] Setting demo id to 67 fnatic-vs-mousesports-dust2\n",
      "22:29:31 [INFO] Setting parse rate to 128\n",
      "22:29:31 [INFO] Setting trade time to 5\n",
      "22:29:31 [INFO] Setting buy style to hltv\n",
      "22:29:31 [INFO] Rollup damages set to False\n",
      "22:29:31 [INFO] Parse frames set to True\n",
      "22:29:31 [INFO] Running Golang parser from C:\\Users\\nguye\\anaconda3\\envs\\envTF24\\lib\\site-packages\\csgo-1.0-py3.7.egg\\csgo\\parser\\\n",
      "22:29:31 [INFO] Looking for file at D:\\EDAV\\67\\fnatic-vs-mousesports-dust2.dem\n"
     ]
    },
    {
     "name": "stdout",
     "output_type": "stream",
     "text": [
      "parsing    67 fnatic-vs-mousesports-dust2.dem\n"
     ]
    },
    {
     "name": "stderr",
     "output_type": "stream",
     "text": [
      "22:29:37 [INFO] Wrote demo parse output to 67 fnatic-vs-mousesports-dust2.json\n",
      "22:29:37 [INFO] Reading in JSON from 67 fnatic-vs-mousesports-dust2.json\n",
      "22:29:37 [INFO] JSON data loaded, available in the `json` attribute to parser\n",
      "22:29:37 [INFO] Successfully parsed JSON output\n",
      "22:29:37 [INFO] Successfully returned JSON output\n",
      "22:29:45 [INFO] Go version>=1.14.0\n",
      "22:29:45 [INFO] Initialized CSGODemoParser with demofile D:\\EDAV\\68\\mibr-vs-complexity-mirage.dem\n",
      "22:29:45 [INFO] Setting demo id to 68 mibr-vs-complexity-mirage\n",
      "22:29:45 [INFO] Setting parse rate to 128\n",
      "22:29:45 [INFO] Setting trade time to 5\n",
      "22:29:45 [INFO] Setting buy style to hltv\n",
      "22:29:45 [INFO] Rollup damages set to False\n",
      "22:29:45 [INFO] Parse frames set to True\n",
      "22:29:45 [INFO] Running Golang parser from C:\\Users\\nguye\\anaconda3\\envs\\envTF24\\lib\\site-packages\\csgo-1.0-py3.7.egg\\csgo\\parser\\\n",
      "22:29:45 [INFO] Looking for file at D:\\EDAV\\68\\mibr-vs-complexity-mirage.dem\n"
     ]
    },
    {
     "name": "stdout",
     "output_type": "stream",
     "text": [
      "parsing    68 mibr-vs-complexity-mirage.dem\n"
     ]
    },
    {
     "name": "stderr",
     "output_type": "stream",
     "text": [
      "22:29:50 [INFO] Wrote demo parse output to 68 mibr-vs-complexity-mirage.json\n",
      "22:29:50 [INFO] Reading in JSON from 68 mibr-vs-complexity-mirage.json\n",
      "22:29:51 [INFO] JSON data loaded, available in the `json` attribute to parser\n",
      "22:29:51 [INFO] Successfully parsed JSON output\n",
      "22:29:51 [INFO] Successfully returned JSON output\n",
      "22:29:58 [INFO] Go version>=1.14.0\n",
      "22:29:58 [INFO] Initialized CSGODemoParser with demofile D:\\EDAV\\69\\astralis-vs-g2-nuke.dem\n",
      "22:29:58 [INFO] Setting demo id to 69 astralis-vs-g2-nuke\n",
      "22:29:58 [INFO] Setting parse rate to 128\n",
      "22:29:58 [INFO] Setting trade time to 5\n",
      "22:29:58 [INFO] Setting buy style to hltv\n",
      "22:29:58 [INFO] Rollup damages set to False\n",
      "22:29:58 [INFO] Parse frames set to True\n",
      "22:29:58 [INFO] Running Golang parser from C:\\Users\\nguye\\anaconda3\\envs\\envTF24\\lib\\site-packages\\csgo-1.0-py3.7.egg\\csgo\\parser\\\n",
      "22:29:58 [INFO] Looking for file at D:\\EDAV\\69\\astralis-vs-g2-nuke.dem\n"
     ]
    },
    {
     "name": "stdout",
     "output_type": "stream",
     "text": [
      "parsing    69 astralis-vs-g2-nuke.dem\n"
     ]
    },
    {
     "name": "stderr",
     "output_type": "stream",
     "text": [
      "22:30:03 [INFO] Wrote demo parse output to 69 astralis-vs-g2-nuke.json\n",
      "22:30:03 [INFO] Reading in JSON from 69 astralis-vs-g2-nuke.json\n",
      "22:30:03 [INFO] JSON data loaded, available in the `json` attribute to parser\n",
      "22:30:03 [INFO] Successfully parsed JSON output\n",
      "22:30:03 [INFO] Successfully returned JSON output\n",
      "22:30:10 [INFO] Go version>=1.14.0\n",
      "22:30:10 [INFO] Initialized CSGODemoParser with demofile D:\\EDAV\\70\\ESLOneCologne2015-tsm-vs-nip-cache-1.dem\n",
      "22:30:10 [INFO] Setting demo id to 70 ESLOneCologne2015-tsm-vs-nip-cache-1\n",
      "22:30:10 [INFO] Setting parse rate to 128\n",
      "22:30:10 [INFO] Setting trade time to 5\n",
      "22:30:10 [INFO] Setting buy style to hltv\n",
      "22:30:10 [INFO] Rollup damages set to False\n",
      "22:30:10 [INFO] Parse frames set to True\n",
      "22:30:10 [INFO] Running Golang parser from C:\\Users\\nguye\\anaconda3\\envs\\envTF24\\lib\\site-packages\\csgo-1.0-py3.7.egg\\csgo\\parser\\\n",
      "22:30:10 [INFO] Looking for file at D:\\EDAV\\70\\ESLOneCologne2015-tsm-vs-nip-cache-1.dem\n"
     ]
    },
    {
     "name": "stdout",
     "output_type": "stream",
     "text": [
      "parsing    70 ESLOneCologne2015-tsm-vs-nip-cache-1.dem\n"
     ]
    },
    {
     "name": "stderr",
     "output_type": "stream",
     "text": [
      "22:30:12 [INFO] Wrote demo parse output to 70 ESLOneCologne2015-tsm-vs-nip-cache-1.json\n",
      "22:30:12 [INFO] Reading in JSON from 70 ESLOneCologne2015-tsm-vs-nip-cache-1.json\n",
      "22:30:13 [INFO] JSON data loaded, available in the `json` attribute to parser\n",
      "22:30:13 [INFO] Successfully parsed JSON output\n",
      "22:30:13 [INFO] Successfully returned JSON output\n",
      "22:30:14 [INFO] Go version>=1.14.0\n",
      "22:30:14 [INFO] Initialized CSGODemoParser with demofile D:\\EDAV\\71\\003105575497505964289_1041781123_1_tsm_vs_g2_dust2.dem\n",
      "22:30:14 [INFO] Setting demo id to 71 003105575497505964289_1041781123_1_tsm_vs_g2_dust2\n",
      "22:30:14 [INFO] Setting parse rate to 128\n",
      "22:30:14 [INFO] Setting trade time to 5\n",
      "22:30:14 [INFO] Setting buy style to hltv\n",
      "22:30:14 [INFO] Rollup damages set to False\n",
      "22:30:14 [INFO] Parse frames set to True\n",
      "22:30:14 [INFO] Running Golang parser from C:\\Users\\nguye\\anaconda3\\envs\\envTF24\\lib\\site-packages\\csgo-1.0-py3.7.egg\\csgo\\parser\\\n",
      "22:30:14 [INFO] Looking for file at D:\\EDAV\\71\\003105575497505964289_1041781123_1_tsm_vs_g2_dust2.dem\n"
     ]
    },
    {
     "name": "stdout",
     "output_type": "stream",
     "text": [
      "parsing    71 003105575497505964289_1041781123_1_tsm_vs_g2_dust2.dem\n"
     ]
    },
    {
     "name": "stderr",
     "output_type": "stream",
     "text": [
      "22:30:18 [INFO] Wrote demo parse output to 71 003105575497505964289_1041781123_1_tsm_vs_g2_dust2.json\n",
      "22:30:18 [INFO] Reading in JSON from 71 003105575497505964289_1041781123_1_tsm_vs_g2_dust2.json\n",
      "22:30:18 [INFO] JSON data loaded, available in the `json` attribute to parser\n",
      "22:30:18 [INFO] Successfully parsed JSON output\n",
      "22:30:18 [INFO] Successfully returned JSON output\n",
      "22:30:24 [INFO] Go version>=1.14.0\n",
      "22:30:24 [INFO] Initialized CSGODemoParser with demofile D:\\EDAV\\72\\ESLOneCologne2016-clg-vs-gambit-dust2.dem\n",
      "22:30:24 [INFO] Setting demo id to 72 ESLOneCologne2016-clg-vs-gambit-dust2\n",
      "22:30:24 [INFO] Setting parse rate to 128\n",
      "22:30:24 [INFO] Setting trade time to 5\n",
      "22:30:24 [INFO] Setting buy style to hltv\n",
      "22:30:24 [INFO] Rollup damages set to False\n",
      "22:30:24 [INFO] Parse frames set to True\n",
      "22:30:24 [INFO] Running Golang parser from C:\\Users\\nguye\\anaconda3\\envs\\envTF24\\lib\\site-packages\\csgo-1.0-py3.7.egg\\csgo\\parser\\\n",
      "22:30:24 [INFO] Looking for file at D:\\EDAV\\72\\ESLOneCologne2016-clg-vs-gambit-dust2.dem\n"
     ]
    },
    {
     "name": "stdout",
     "output_type": "stream",
     "text": [
      "parsing    72 ESLOneCologne2016-clg-vs-gambit-dust2.dem\n"
     ]
    },
    {
     "name": "stderr",
     "output_type": "stream",
     "text": [
      "22:30:30 [INFO] Wrote demo parse output to 72 ESLOneCologne2016-clg-vs-gambit-dust2.json\n",
      "22:30:30 [INFO] Reading in JSON from 72 ESLOneCologne2016-clg-vs-gambit-dust2.json\n",
      "22:30:30 [INFO] JSON data loaded, available in the `json` attribute to parser\n",
      "22:30:30 [INFO] Successfully parsed JSON output\n",
      "22:30:30 [INFO] Successfully returned JSON output\n",
      "22:30:39 [INFO] Go version>=1.14.0\n",
      "22:30:39 [INFO] Initialized CSGODemoParser with demofile D:\\EDAV\\73\\natus-vincere-vs-g2-overpass.dem\n",
      "22:30:39 [INFO] Setting demo id to 73 natus-vincere-vs-g2-overpass\n",
      "22:30:39 [INFO] Setting parse rate to 128\n",
      "22:30:39 [INFO] Setting trade time to 5\n",
      "22:30:39 [INFO] Setting buy style to hltv\n",
      "22:30:39 [INFO] Rollup damages set to False\n",
      "22:30:39 [INFO] Parse frames set to True\n",
      "22:30:39 [INFO] Running Golang parser from C:\\Users\\nguye\\anaconda3\\envs\\envTF24\\lib\\site-packages\\csgo-1.0-py3.7.egg\\csgo\\parser\\\n",
      "22:30:39 [INFO] Looking for file at D:\\EDAV\\73\\natus-vincere-vs-g2-overpass.dem\n"
     ]
    },
    {
     "name": "stdout",
     "output_type": "stream",
     "text": [
      "parsing    73 natus-vincere-vs-g2-overpass.dem\n"
     ]
    },
    {
     "name": "stderr",
     "output_type": "stream",
     "text": [
      "22:30:48 [INFO] Wrote demo parse output to 73 natus-vincere-vs-g2-overpass.json\n",
      "22:30:48 [INFO] Reading in JSON from 73 natus-vincere-vs-g2-overpass.json\n",
      "22:30:49 [INFO] JSON data loaded, available in the `json` attribute to parser\n",
      "22:30:49 [INFO] Successfully parsed JSON output\n",
      "22:30:49 [INFO] Successfully returned JSON output\n",
      "22:31:01 [INFO] Go version>=1.14.0\n",
      "22:31:01 [INFO] Initialized CSGODemoParser with demofile D:\\EDAV\\74\\big-vs-hellraisers-train.dem\n",
      "22:31:01 [INFO] Setting demo id to 74 big-vs-hellraisers-train\n",
      "22:31:01 [INFO] Setting parse rate to 128\n",
      "22:31:01 [INFO] Setting trade time to 5\n",
      "22:31:01 [INFO] Setting buy style to hltv\n",
      "22:31:01 [INFO] Rollup damages set to False\n",
      "22:31:01 [INFO] Parse frames set to True\n",
      "22:31:01 [INFO] Running Golang parser from C:\\Users\\nguye\\anaconda3\\envs\\envTF24\\lib\\site-packages\\csgo-1.0-py3.7.egg\\csgo\\parser\\\n",
      "22:31:01 [INFO] Looking for file at D:\\EDAV\\74\\big-vs-hellraisers-train.dem\n"
     ]
    },
    {
     "name": "stdout",
     "output_type": "stream",
     "text": [
      "parsing    74 big-vs-hellraisers-train.dem\n"
     ]
    },
    {
     "name": "stderr",
     "output_type": "stream",
     "text": [
      "22:31:06 [INFO] Wrote demo parse output to 74 big-vs-hellraisers-train.json\n",
      "22:31:06 [INFO] Reading in JSON from 74 big-vs-hellraisers-train.json\n",
      "22:31:06 [INFO] JSON data loaded, available in the `json` attribute to parser\n",
      "22:31:06 [INFO] Successfully parsed JSON output\n",
      "22:31:06 [INFO] Successfully returned JSON output\n",
      "22:31:13 [INFO] Go version>=1.14.0\n",
      "22:31:13 [INFO] Initialized CSGODemoParser with demofile D:\\EDAV\\75\\fnatic-vs-faze-cache.dem\n",
      "22:31:13 [INFO] Setting demo id to 75 fnatic-vs-faze-cache\n",
      "22:31:13 [INFO] Setting parse rate to 128\n",
      "22:31:13 [INFO] Setting trade time to 5\n",
      "22:31:13 [INFO] Setting buy style to hltv\n",
      "22:31:13 [INFO] Rollup damages set to False\n",
      "22:31:13 [INFO] Parse frames set to True\n",
      "22:31:13 [INFO] Running Golang parser from C:\\Users\\nguye\\anaconda3\\envs\\envTF24\\lib\\site-packages\\csgo-1.0-py3.7.egg\\csgo\\parser\\\n",
      "22:31:13 [INFO] Looking for file at D:\\EDAV\\75\\fnatic-vs-faze-cache.dem\n"
     ]
    },
    {
     "name": "stdout",
     "output_type": "stream",
     "text": [
      "parsing    75 fnatic-vs-faze-cache.dem\n"
     ]
    },
    {
     "name": "stderr",
     "output_type": "stream",
     "text": [
      "22:31:18 [INFO] Wrote demo parse output to 75 fnatic-vs-faze-cache.json\n",
      "22:31:18 [INFO] Reading in JSON from 75 fnatic-vs-faze-cache.json\n",
      "22:31:18 [INFO] JSON data loaded, available in the `json` attribute to parser\n",
      "22:31:18 [INFO] Successfully parsed JSON output\n",
      "22:31:18 [INFO] Successfully returned JSON output\n",
      "22:31:25 [INFO] Go version>=1.14.0\n",
      "22:31:25 [INFO] Initialized CSGODemoParser with demofile D:\\EDAV\\76\\003105341507687677999_2120817205_1_tsm_vs_flipsid3_cache.dem\n",
      "22:31:25 [INFO] Setting demo id to 76 003105341507687677999_2120817205_1_tsm_vs_flipsid3_cache\n",
      "22:31:25 [INFO] Setting parse rate to 128\n",
      "22:31:25 [INFO] Setting trade time to 5\n",
      "22:31:25 [INFO] Setting buy style to hltv\n",
      "22:31:25 [INFO] Rollup damages set to False\n",
      "22:31:25 [INFO] Parse frames set to True\n",
      "22:31:25 [INFO] Running Golang parser from C:\\Users\\nguye\\anaconda3\\envs\\envTF24\\lib\\site-packages\\csgo-1.0-py3.7.egg\\csgo\\parser\\\n",
      "22:31:25 [INFO] Looking for file at D:\\EDAV\\76\\003105341507687677999_2120817205_1_tsm_vs_flipsid3_cache.dem\n"
     ]
    },
    {
     "name": "stdout",
     "output_type": "stream",
     "text": [
      "parsing    76 003105341507687677999_2120817205_1_tsm_vs_flipsid3_cache.dem\n"
     ]
    },
    {
     "name": "stderr",
     "output_type": "stream",
     "text": [
      "22:31:29 [INFO] Wrote demo parse output to 76 003105341507687677999_2120817205_1_tsm_vs_flipsid3_cache.json\n",
      "22:31:29 [INFO] Reading in JSON from 76 003105341507687677999_2120817205_1_tsm_vs_flipsid3_cache.json\n",
      "22:31:29 [INFO] JSON data loaded, available in the `json` attribute to parser\n",
      "22:31:29 [INFO] Successfully parsed JSON output\n",
      "22:31:29 [INFO] Successfully returned JSON output\n",
      "22:31:35 [INFO] Go version>=1.14.0\n",
      "22:31:35 [INFO] Initialized CSGODemoParser with demofile D:\\EDAV\\77\\ESLOneCologne2015-virtuspro-vs-cloud9-cobblestone-1.dem\n",
      "22:31:35 [INFO] Setting demo id to 77 ESLOneCologne2015-virtuspro-vs-cloud9-cobblestone-1\n",
      "22:31:35 [INFO] Setting parse rate to 128\n",
      "22:31:35 [INFO] Setting trade time to 5\n",
      "22:31:35 [INFO] Setting buy style to hltv\n",
      "22:31:35 [INFO] Rollup damages set to False\n",
      "22:31:35 [INFO] Parse frames set to True\n",
      "22:31:35 [INFO] Running Golang parser from C:\\Users\\nguye\\anaconda3\\envs\\envTF24\\lib\\site-packages\\csgo-1.0-py3.7.egg\\csgo\\parser\\\n",
      "22:31:35 [INFO] Looking for file at D:\\EDAV\\77\\ESLOneCologne2015-virtuspro-vs-cloud9-cobblestone-1.dem\n"
     ]
    },
    {
     "name": "stdout",
     "output_type": "stream",
     "text": [
      "parsing    77 ESLOneCologne2015-virtuspro-vs-cloud9-cobblestone-1.dem\n"
     ]
    },
    {
     "name": "stderr",
     "output_type": "stream",
     "text": [
      "22:31:37 [INFO] Wrote demo parse output to 77 ESLOneCologne2015-virtuspro-vs-cloud9-cobblestone-1.json\n",
      "22:31:37 [INFO] Reading in JSON from 77 ESLOneCologne2015-virtuspro-vs-cloud9-cobblestone-1.json\n",
      "22:31:38 [INFO] JSON data loaded, available in the `json` attribute to parser\n",
      "22:31:38 [INFO] Successfully parsed JSON output\n",
      "22:31:38 [INFO] Successfully returned JSON output\n",
      "22:31:39 [INFO] Go version>=1.14.0\n",
      "22:31:39 [INFO] Initialized CSGODemoParser with demofile D:\\EDAV\\78\\DHW14-GF-ldlc-vs-nip-dust2.dem\n",
      "22:31:39 [INFO] Setting demo id to 78 DHW14-GF-ldlc-vs-nip-dust2\n",
      "22:31:39 [INFO] Setting parse rate to 128\n",
      "22:31:39 [INFO] Setting trade time to 5\n",
      "22:31:39 [INFO] Setting buy style to hltv\n",
      "22:31:39 [INFO] Rollup damages set to False\n",
      "22:31:39 [INFO] Parse frames set to True\n",
      "22:31:39 [INFO] Running Golang parser from C:\\Users\\nguye\\anaconda3\\envs\\envTF24\\lib\\site-packages\\csgo-1.0-py3.7.egg\\csgo\\parser\\\n",
      "22:31:39 [INFO] Looking for file at D:\\EDAV\\78\\DHW14-GF-ldlc-vs-nip-dust2.dem\n"
     ]
    },
    {
     "name": "stdout",
     "output_type": "stream",
     "text": [
      "parsing    78 DHW14-GF-ldlc-vs-nip-dust2.dem\n"
     ]
    },
    {
     "name": "stderr",
     "output_type": "stream",
     "text": [
      "22:31:41 [INFO] Wrote demo parse output to 78 DHW14-GF-ldlc-vs-nip-dust2.json\n",
      "22:31:41 [INFO] Reading in JSON from 78 DHW14-GF-ldlc-vs-nip-dust2.json\n",
      "22:31:41 [INFO] JSON data loaded, available in the `json` attribute to parser\n",
      "22:31:41 [INFO] Successfully parsed JSON output\n",
      "22:31:41 [INFO] Successfully returned JSON output\n",
      "22:31:42 [INFO] Go version>=1.14.0\n",
      "22:31:42 [INFO] Initialized CSGODemoParser with demofile D:\\EDAV\\78\\DHW14-GF-ldlc-vs-nip-overpass.dem\n",
      "22:31:42 [INFO] Setting demo id to 78 DHW14-GF-ldlc-vs-nip-overpass\n",
      "22:31:42 [INFO] Setting parse rate to 128\n",
      "22:31:42 [INFO] Setting trade time to 5\n",
      "22:31:42 [INFO] Setting buy style to hltv\n",
      "22:31:42 [INFO] Rollup damages set to False\n",
      "22:31:42 [INFO] Parse frames set to True\n",
      "22:31:42 [INFO] Running Golang parser from C:\\Users\\nguye\\anaconda3\\envs\\envTF24\\lib\\site-packages\\csgo-1.0-py3.7.egg\\csgo\\parser\\\n",
      "22:31:42 [INFO] Looking for file at D:\\EDAV\\78\\DHW14-GF-ldlc-vs-nip-overpass.dem\n"
     ]
    },
    {
     "name": "stdout",
     "output_type": "stream",
     "text": [
      "parsing    78 DHW14-GF-ldlc-vs-nip-overpass.dem\n"
     ]
    },
    {
     "name": "stderr",
     "output_type": "stream",
     "text": [
      "22:31:45 [INFO] Wrote demo parse output to 78 DHW14-GF-ldlc-vs-nip-overpass.json\n",
      "22:31:45 [INFO] Reading in JSON from 78 DHW14-GF-ldlc-vs-nip-overpass.json\n",
      "22:31:45 [INFO] JSON data loaded, available in the `json` attribute to parser\n",
      "22:31:45 [INFO] Successfully parsed JSON output\n",
      "22:31:45 [INFO] Successfully returned JSON output\n",
      "22:31:47 [INFO] Go version>=1.14.0\n",
      "22:31:47 [INFO] Initialized CSGODemoParser with demofile D:\\EDAV\\78\\DHW14-GF-nip-vs-ldlc-inferno.dem\n",
      "22:31:47 [INFO] Setting demo id to 78 DHW14-GF-nip-vs-ldlc-inferno\n",
      "22:31:47 [INFO] Setting parse rate to 128\n",
      "22:31:47 [INFO] Setting trade time to 5\n",
      "22:31:47 [INFO] Setting buy style to hltv\n",
      "22:31:47 [INFO] Rollup damages set to False\n",
      "22:31:47 [INFO] Parse frames set to True\n",
      "22:31:47 [INFO] Running Golang parser from C:\\Users\\nguye\\anaconda3\\envs\\envTF24\\lib\\site-packages\\csgo-1.0-py3.7.egg\\csgo\\parser\\\n",
      "22:31:47 [INFO] Looking for file at D:\\EDAV\\78\\DHW14-GF-nip-vs-ldlc-inferno.dem\n"
     ]
    },
    {
     "name": "stdout",
     "output_type": "stream",
     "text": [
      "parsing    78 DHW14-GF-nip-vs-ldlc-inferno.dem\n"
     ]
    },
    {
     "name": "stderr",
     "output_type": "stream",
     "text": [
      "22:31:49 [INFO] Wrote demo parse output to 78 DHW14-GF-nip-vs-ldlc-inferno.json\n",
      "22:31:49 [INFO] Reading in JSON from 78 DHW14-GF-nip-vs-ldlc-inferno.json\n",
      "22:31:49 [INFO] JSON data loaded, available in the `json` attribute to parser\n",
      "22:31:49 [INFO] Successfully parsed JSON output\n",
      "22:31:49 [INFO] Successfully returned JSON output\n",
      "22:31:50 [INFO] Go version>=1.14.0\n",
      "22:31:50 [INFO] Initialized CSGODemoParser with demofile D:\\EDAV\\79\\gambit-vs-mousesports-inferno.dem\n",
      "22:31:50 [INFO] Setting demo id to 79 gambit-vs-mousesports-inferno\n",
      "22:31:50 [INFO] Setting parse rate to 128\n",
      "22:31:50 [INFO] Setting trade time to 5\n",
      "22:31:50 [INFO] Setting buy style to hltv\n",
      "22:31:50 [INFO] Rollup damages set to False\n",
      "22:31:50 [INFO] Parse frames set to True\n",
      "22:31:50 [INFO] Running Golang parser from C:\\Users\\nguye\\anaconda3\\envs\\envTF24\\lib\\site-packages\\csgo-1.0-py3.7.egg\\csgo\\parser\\\n",
      "22:31:50 [INFO] Looking for file at D:\\EDAV\\79\\gambit-vs-mousesports-inferno.dem\n"
     ]
    },
    {
     "name": "stdout",
     "output_type": "stream",
     "text": [
      "parsing    79 gambit-vs-mousesports-inferno.dem\n"
     ]
    },
    {
     "name": "stderr",
     "output_type": "stream",
     "text": [
      "22:31:55 [INFO] Wrote demo parse output to 79 gambit-vs-mousesports-inferno.json\n",
      "22:31:55 [INFO] Reading in JSON from 79 gambit-vs-mousesports-inferno.json\n",
      "22:31:56 [INFO] JSON data loaded, available in the `json` attribute to parser\n",
      "22:31:56 [INFO] Successfully parsed JSON output\n",
      "22:31:56 [INFO] Successfully returned JSON output\n",
      "22:32:04 [INFO] Go version>=1.14.0\n",
      "22:32:04 [INFO] Initialized CSGODemoParser with demofile D:\\EDAV\\80\\faze-vs-cloud9-m3-inferno.dem\n",
      "22:32:04 [INFO] Setting demo id to 80 faze-vs-cloud9-m3-inferno\n",
      "22:32:04 [INFO] Setting parse rate to 128\n",
      "22:32:04 [INFO] Setting trade time to 5\n",
      "22:32:04 [INFO] Setting buy style to hltv\n",
      "22:32:04 [INFO] Rollup damages set to False\n",
      "22:32:04 [INFO] Parse frames set to True\n",
      "22:32:04 [INFO] Running Golang parser from C:\\Users\\nguye\\anaconda3\\envs\\envTF24\\lib\\site-packages\\csgo-1.0-py3.7.egg\\csgo\\parser\\\n",
      "22:32:04 [INFO] Looking for file at D:\\EDAV\\80\\faze-vs-cloud9-m3-inferno.dem\n"
     ]
    },
    {
     "name": "stdout",
     "output_type": "stream",
     "text": [
      "parsing    80 faze-vs-cloud9-m3-inferno.dem\n"
     ]
    },
    {
     "name": "stderr",
     "output_type": "stream",
     "text": [
      "22:32:12 [INFO] Wrote demo parse output to 80 faze-vs-cloud9-m3-inferno.json\n",
      "22:32:12 [INFO] Reading in JSON from 80 faze-vs-cloud9-m3-inferno.json\n",
      "22:32:13 [INFO] JSON data loaded, available in the `json` attribute to parser\n",
      "22:32:13 [INFO] Successfully parsed JSON output\n",
      "22:32:13 [INFO] Successfully returned JSON output\n",
      "22:32:26 [INFO] Go version>=1.14.0\n",
      "22:32:26 [INFO] Initialized CSGODemoParser with demofile D:\\EDAV\\80\\faze-vs-cloud9-m1-mirage.dem\n",
      "22:32:26 [INFO] Setting demo id to 80 faze-vs-cloud9-m1-mirage\n",
      "22:32:26 [INFO] Setting parse rate to 128\n",
      "22:32:26 [INFO] Setting trade time to 5\n",
      "22:32:26 [INFO] Setting buy style to hltv\n",
      "22:32:26 [INFO] Rollup damages set to False\n",
      "22:32:26 [INFO] Parse frames set to True\n",
      "22:32:26 [INFO] Running Golang parser from C:\\Users\\nguye\\anaconda3\\envs\\envTF24\\lib\\site-packages\\csgo-1.0-py3.7.egg\\csgo\\parser\\\n",
      "22:32:26 [INFO] Looking for file at D:\\EDAV\\80\\faze-vs-cloud9-m1-mirage.dem\n"
     ]
    },
    {
     "name": "stdout",
     "output_type": "stream",
     "text": [
      "parsing    80 faze-vs-cloud9-m1-mirage.dem\n"
     ]
    },
    {
     "name": "stderr",
     "output_type": "stream",
     "text": [
      "22:32:31 [INFO] Wrote demo parse output to 80 faze-vs-cloud9-m1-mirage.json\n",
      "22:32:31 [INFO] Reading in JSON from 80 faze-vs-cloud9-m1-mirage.json\n",
      "22:32:32 [INFO] JSON data loaded, available in the `json` attribute to parser\n",
      "22:32:32 [INFO] Successfully parsed JSON output\n",
      "22:32:32 [INFO] Successfully returned JSON output\n",
      "22:32:39 [INFO] Go version>=1.14.0\n",
      "22:32:39 [INFO] Initialized CSGODemoParser with demofile D:\\EDAV\\80\\faze-vs-cloud9-m2-overpass.dem\n",
      "22:32:39 [INFO] Setting demo id to 80 faze-vs-cloud9-m2-overpass\n",
      "22:32:39 [INFO] Setting parse rate to 128\n",
      "22:32:39 [INFO] Setting trade time to 5\n",
      "22:32:39 [INFO] Setting buy style to hltv\n",
      "22:32:39 [INFO] Rollup damages set to False\n",
      "22:32:39 [INFO] Parse frames set to True\n",
      "22:32:39 [INFO] Running Golang parser from C:\\Users\\nguye\\anaconda3\\envs\\envTF24\\lib\\site-packages\\csgo-1.0-py3.7.egg\\csgo\\parser\\\n",
      "22:32:39 [INFO] Looking for file at D:\\EDAV\\80\\faze-vs-cloud9-m2-overpass.dem\n"
     ]
    },
    {
     "name": "stdout",
     "output_type": "stream",
     "text": [
      "parsing    80 faze-vs-cloud9-m2-overpass.dem\n"
     ]
    },
    {
     "name": "stderr",
     "output_type": "stream",
     "text": [
      "22:32:45 [INFO] Wrote demo parse output to 80 faze-vs-cloud9-m2-overpass.json\n",
      "22:32:45 [INFO] Reading in JSON from 80 faze-vs-cloud9-m2-overpass.json\n",
      "22:32:46 [INFO] JSON data loaded, available in the `json` attribute to parser\n",
      "22:32:46 [INFO] Successfully parsed JSON output\n",
      "22:32:46 [INFO] Successfully returned JSON output\n",
      "22:32:53 [INFO] Go version>=1.14.0\n",
      "22:32:53 [INFO] Initialized CSGODemoParser with demofile D:\\EDAV\\81\\EMSKato-FINAL-virtuspro-vs-nip-inferno.dem\n",
      "22:32:53 [INFO] Setting demo id to 81 EMSKato-FINAL-virtuspro-vs-nip-inferno\n",
      "22:32:53 [INFO] Setting parse rate to 128\n",
      "22:32:53 [INFO] Setting trade time to 5\n",
      "22:32:53 [INFO] Setting buy style to hltv\n",
      "22:32:53 [INFO] Rollup damages set to False\n",
      "22:32:53 [INFO] Parse frames set to True\n",
      "22:32:53 [INFO] Running Golang parser from C:\\Users\\nguye\\anaconda3\\envs\\envTF24\\lib\\site-packages\\csgo-1.0-py3.7.egg\\csgo\\parser\\\n",
      "22:32:53 [INFO] Looking for file at D:\\EDAV\\81\\EMSKato-FINAL-virtuspro-vs-nip-inferno.dem\n"
     ]
    },
    {
     "name": "stdout",
     "output_type": "stream",
     "text": [
      "parsing    81 EMSKato-FINAL-virtuspro-vs-nip-inferno.dem\n"
     ]
    },
    {
     "name": "stderr",
     "output_type": "stream",
     "text": [
      "22:32:55 [INFO] Wrote demo parse output to 81 EMSKato-FINAL-virtuspro-vs-nip-inferno.json\n",
      "22:32:55 [INFO] Reading in JSON from 81 EMSKato-FINAL-virtuspro-vs-nip-inferno.json\n",
      "22:32:55 [INFO] JSON data loaded, available in the `json` attribute to parser\n",
      "22:32:55 [INFO] Successfully parsed JSON output\n",
      "22:32:55 [INFO] Successfully returned JSON output\n",
      "22:32:56 [INFO] Go version>=1.14.0\n",
      "22:32:56 [INFO] Initialized CSGODemoParser with demofile D:\\EDAV\\81\\EMSKato-FINAL-virtuspro-vs-nip-mirage.dem\n",
      "22:32:56 [INFO] Setting demo id to 81 EMSKato-FINAL-virtuspro-vs-nip-mirage\n",
      "22:32:56 [INFO] Setting parse rate to 128\n",
      "22:32:56 [INFO] Setting trade time to 5\n",
      "22:32:56 [INFO] Setting buy style to hltv\n",
      "22:32:56 [INFO] Rollup damages set to False\n",
      "22:32:56 [INFO] Parse frames set to True\n",
      "22:32:56 [INFO] Running Golang parser from C:\\Users\\nguye\\anaconda3\\envs\\envTF24\\lib\\site-packages\\csgo-1.0-py3.7.egg\\csgo\\parser\\\n",
      "22:32:56 [INFO] Looking for file at D:\\EDAV\\81\\EMSKato-FINAL-virtuspro-vs-nip-mirage.dem\n"
     ]
    },
    {
     "name": "stdout",
     "output_type": "stream",
     "text": [
      "parsing    81 EMSKato-FINAL-virtuspro-vs-nip-mirage.dem\n"
     ]
    },
    {
     "name": "stderr",
     "output_type": "stream",
     "text": [
      "22:32:58 [INFO] Wrote demo parse output to 81 EMSKato-FINAL-virtuspro-vs-nip-mirage.json\n",
      "22:32:58 [INFO] Reading in JSON from 81 EMSKato-FINAL-virtuspro-vs-nip-mirage.json\n",
      "22:32:58 [INFO] JSON data loaded, available in the `json` attribute to parser\n",
      "22:32:58 [INFO] Successfully parsed JSON output\n",
      "22:32:58 [INFO] Successfully returned JSON output\n",
      "22:33:00 [INFO] Go version>=1.14.0\n",
      "22:33:00 [INFO] Initialized CSGODemoParser with demofile D:\\EDAV\\82\\DHW14-QF-navi-vs-dignitas-cobblestone.dem\n",
      "22:33:00 [INFO] Setting demo id to 82 DHW14-QF-navi-vs-dignitas-cobblestone\n",
      "22:33:00 [INFO] Setting parse rate to 128\n",
      "22:33:00 [INFO] Setting trade time to 5\n",
      "22:33:00 [INFO] Setting buy style to hltv\n",
      "22:33:00 [INFO] Rollup damages set to False\n",
      "22:33:00 [INFO] Parse frames set to True\n",
      "22:33:00 [INFO] Running Golang parser from C:\\Users\\nguye\\anaconda3\\envs\\envTF24\\lib\\site-packages\\csgo-1.0-py3.7.egg\\csgo\\parser\\\n",
      "22:33:00 [INFO] Looking for file at D:\\EDAV\\82\\DHW14-QF-navi-vs-dignitas-cobblestone.dem\n"
     ]
    },
    {
     "name": "stdout",
     "output_type": "stream",
     "text": [
      "parsing    82 DHW14-QF-navi-vs-dignitas-cobblestone.dem\n"
     ]
    },
    {
     "name": "stderr",
     "output_type": "stream",
     "text": [
      "22:33:01 [INFO] Wrote demo parse output to 82 DHW14-QF-navi-vs-dignitas-cobblestone.json\n",
      "22:33:01 [INFO] Reading in JSON from 82 DHW14-QF-navi-vs-dignitas-cobblestone.json\n",
      "22:33:01 [INFO] JSON data loaded, available in the `json` attribute to parser\n",
      "22:33:01 [INFO] Successfully parsed JSON output\n",
      "22:33:01 [INFO] Successfully returned JSON output\n",
      "22:33:02 [INFO] Go version>=1.14.0\n",
      "22:33:02 [INFO] Initialized CSGODemoParser with demofile D:\\EDAV\\82\\DHW14-QF-navi-vs-dignitas-mirage.dem\n",
      "22:33:02 [INFO] Setting demo id to 82 DHW14-QF-navi-vs-dignitas-mirage\n",
      "22:33:02 [INFO] Setting parse rate to 128\n",
      "22:33:02 [INFO] Setting trade time to 5\n",
      "22:33:02 [INFO] Setting buy style to hltv\n",
      "22:33:02 [INFO] Rollup damages set to False\n",
      "22:33:02 [INFO] Parse frames set to True\n",
      "22:33:02 [INFO] Running Golang parser from C:\\Users\\nguye\\anaconda3\\envs\\envTF24\\lib\\site-packages\\csgo-1.0-py3.7.egg\\csgo\\parser\\\n",
      "22:33:02 [INFO] Looking for file at D:\\EDAV\\82\\DHW14-QF-navi-vs-dignitas-mirage.dem\n"
     ]
    },
    {
     "name": "stdout",
     "output_type": "stream",
     "text": [
      "parsing    82 DHW14-QF-navi-vs-dignitas-mirage.dem\n"
     ]
    },
    {
     "name": "stderr",
     "output_type": "stream",
     "text": [
      "22:33:04 [INFO] Wrote demo parse output to 82 DHW14-QF-navi-vs-dignitas-mirage.json\n",
      "22:33:04 [INFO] Reading in JSON from 82 DHW14-QF-navi-vs-dignitas-mirage.json\n",
      "22:33:04 [INFO] JSON data loaded, available in the `json` attribute to parser\n",
      "22:33:04 [INFO] Successfully parsed JSON output\n",
      "22:33:04 [INFO] Successfully returned JSON output\n",
      "22:33:06 [INFO] Go version>=1.14.0\n",
      "22:33:06 [INFO] Initialized CSGODemoParser with demofile D:\\EDAV\\83\\north-vs-fnatic-cobblestone.dem\n",
      "22:33:06 [INFO] Setting demo id to 83 north-vs-fnatic-cobblestone\n",
      "22:33:06 [INFO] Setting parse rate to 128\n",
      "22:33:06 [INFO] Setting trade time to 5\n",
      "22:33:06 [INFO] Setting buy style to hltv\n",
      "22:33:06 [INFO] Rollup damages set to False\n",
      "22:33:06 [INFO] Parse frames set to True\n",
      "22:33:06 [INFO] Running Golang parser from C:\\Users\\nguye\\anaconda3\\envs\\envTF24\\lib\\site-packages\\csgo-1.0-py3.7.egg\\csgo\\parser\\\n",
      "22:33:06 [INFO] Looking for file at D:\\EDAV\\83\\north-vs-fnatic-cobblestone.dem\n"
     ]
    },
    {
     "name": "stdout",
     "output_type": "stream",
     "text": [
      "parsing    83 north-vs-fnatic-cobblestone.dem\n"
     ]
    },
    {
     "name": "stderr",
     "output_type": "stream",
     "text": [
      "22:33:11 [INFO] Wrote demo parse output to 83 north-vs-fnatic-cobblestone.json\n",
      "22:33:11 [INFO] Reading in JSON from 83 north-vs-fnatic-cobblestone.json\n",
      "22:33:12 [INFO] JSON data loaded, available in the `json` attribute to parser\n",
      "22:33:12 [INFO] Successfully parsed JSON output\n",
      "22:33:12 [INFO] Successfully returned JSON output\n",
      "22:33:20 [INFO] Go version>=1.14.0\n",
      "22:33:20 [INFO] Initialized CSGODemoParser with demofile D:\\EDAV\\84\\EMSKato-GroupD-complexity-vs-mystik-nuke.dem\n",
      "22:33:20 [INFO] Setting demo id to 84 EMSKato-GroupD-complexity-vs-mystik-nuke\n",
      "22:33:20 [INFO] Setting parse rate to 128\n",
      "22:33:20 [INFO] Setting trade time to 5\n",
      "22:33:20 [INFO] Setting buy style to hltv\n",
      "22:33:20 [INFO] Rollup damages set to False\n",
      "22:33:20 [INFO] Parse frames set to True\n",
      "22:33:20 [INFO] Running Golang parser from C:\\Users\\nguye\\anaconda3\\envs\\envTF24\\lib\\site-packages\\csgo-1.0-py3.7.egg\\csgo\\parser\\\n",
      "22:33:20 [INFO] Looking for file at D:\\EDAV\\84\\EMSKato-GroupD-complexity-vs-mystik-nuke.dem\n"
     ]
    },
    {
     "name": "stdout",
     "output_type": "stream",
     "text": [
      "parsing    84 EMSKato-GroupD-complexity-vs-mystik-nuke.dem\n"
     ]
    },
    {
     "name": "stderr",
     "output_type": "stream",
     "text": [
      "22:33:22 [INFO] Wrote demo parse output to 84 EMSKato-GroupD-complexity-vs-mystik-nuke.json\n",
      "22:33:22 [INFO] Reading in JSON from 84 EMSKato-GroupD-complexity-vs-mystik-nuke.json\n",
      "22:33:22 [INFO] JSON data loaded, available in the `json` attribute to parser\n",
      "22:33:22 [INFO] Successfully parsed JSON output\n",
      "22:33:22 [INFO] Successfully returned JSON output\n",
      "22:33:24 [INFO] Go version>=1.14.0\n",
      "22:33:24 [INFO] Initialized CSGODemoParser with demofile D:\\EDAV\\85\\ESLOneCologne-GroupC-virtuspro-vs-ibuypower-cache.dem\n",
      "22:33:24 [INFO] Setting demo id to 85 ESLOneCologne-GroupC-virtuspro-vs-ibuypower-cache\n",
      "22:33:24 [INFO] Setting parse rate to 128\n",
      "22:33:24 [INFO] Setting trade time to 5\n",
      "22:33:24 [INFO] Setting buy style to hltv\n",
      "22:33:24 [INFO] Rollup damages set to False\n",
      "22:33:24 [INFO] Parse frames set to True\n",
      "22:33:24 [INFO] Running Golang parser from C:\\Users\\nguye\\anaconda3\\envs\\envTF24\\lib\\site-packages\\csgo-1.0-py3.7.egg\\csgo\\parser\\\n",
      "22:33:24 [INFO] Looking for file at D:\\EDAV\\85\\ESLOneCologne-GroupC-virtuspro-vs-ibuypower-cache.dem\n"
     ]
    },
    {
     "name": "stdout",
     "output_type": "stream",
     "text": [
      "parsing    85 ESLOneCologne-GroupC-virtuspro-vs-ibuypower-cache.dem\n"
     ]
    },
    {
     "name": "stderr",
     "output_type": "stream",
     "text": [
      "22:33:25 [INFO] Wrote demo parse output to 85 ESLOneCologne-GroupC-virtuspro-vs-ibuypower-cache.json\n",
      "22:33:25 [INFO] Reading in JSON from 85 ESLOneCologne-GroupC-virtuspro-vs-ibuypower-cache.json\n",
      "22:33:25 [INFO] JSON data loaded, available in the `json` attribute to parser\n",
      "22:33:25 [INFO] Successfully parsed JSON output\n",
      "22:33:25 [INFO] Successfully returned JSON output\n",
      "22:33:26 [INFO] Go version>=1.14.0\n",
      "22:33:26 [INFO] Initialized CSGODemoParser with demofile D:\\EDAV\\86\\fnatic-vs-g2-overpass.dem\n",
      "22:33:26 [INFO] Setting demo id to 86 fnatic-vs-g2-overpass\n",
      "22:33:26 [INFO] Setting parse rate to 128\n",
      "22:33:26 [INFO] Setting trade time to 5\n",
      "22:33:26 [INFO] Setting buy style to hltv\n",
      "22:33:26 [INFO] Rollup damages set to False\n",
      "22:33:26 [INFO] Parse frames set to True\n",
      "22:33:26 [INFO] Running Golang parser from C:\\Users\\nguye\\anaconda3\\envs\\envTF24\\lib\\site-packages\\csgo-1.0-py3.7.egg\\csgo\\parser\\\n",
      "22:33:26 [INFO] Looking for file at D:\\EDAV\\86\\fnatic-vs-g2-overpass.dem\n"
     ]
    },
    {
     "name": "stdout",
     "output_type": "stream",
     "text": [
      "parsing    86 fnatic-vs-g2-overpass.dem\n"
     ]
    },
    {
     "name": "stderr",
     "output_type": "stream",
     "text": [
      "22:33:33 [INFO] Wrote demo parse output to 86 fnatic-vs-g2-overpass.json\n",
      "22:33:33 [INFO] Reading in JSON from 86 fnatic-vs-g2-overpass.json\n",
      "22:33:34 [INFO] JSON data loaded, available in the `json` attribute to parser\n",
      "22:33:34 [INFO] Successfully parsed JSON output\n",
      "22:33:34 [INFO] Successfully returned JSON output\n",
      "22:33:42 [INFO] Go version>=1.14.0\n",
      "22:33:42 [INFO] Initialized CSGODemoParser with demofile D:\\EDAV\\87\\ESLOneCologne2015-envyus-vs-tsm-dust2.dem\n",
      "22:33:42 [INFO] Setting demo id to 87 ESLOneCologne2015-envyus-vs-tsm-dust2\n",
      "22:33:42 [INFO] Setting parse rate to 128\n",
      "22:33:42 [INFO] Setting trade time to 5\n",
      "22:33:42 [INFO] Setting buy style to hltv\n",
      "22:33:42 [INFO] Rollup damages set to False\n",
      "22:33:42 [INFO] Parse frames set to True\n",
      "22:33:42 [INFO] Running Golang parser from C:\\Users\\nguye\\anaconda3\\envs\\envTF24\\lib\\site-packages\\csgo-1.0-py3.7.egg\\csgo\\parser\\\n",
      "22:33:42 [INFO] Looking for file at D:\\EDAV\\87\\ESLOneCologne2015-envyus-vs-tsm-dust2.dem\n"
     ]
    },
    {
     "name": "stdout",
     "output_type": "stream",
     "text": [
      "parsing    87 ESLOneCologne2015-envyus-vs-tsm-dust2.dem\n"
     ]
    },
    {
     "name": "stderr",
     "output_type": "stream",
     "text": [
      "22:33:45 [INFO] Wrote demo parse output to 87 ESLOneCologne2015-envyus-vs-tsm-dust2.json\n",
      "22:33:45 [INFO] Reading in JSON from 87 ESLOneCologne2015-envyus-vs-tsm-dust2.json\n",
      "22:33:45 [INFO] JSON data loaded, available in the `json` attribute to parser\n",
      "22:33:45 [INFO] Successfully parsed JSON output\n",
      "22:33:45 [INFO] Successfully returned JSON output\n",
      "22:33:46 [INFO] Go version>=1.14.0\n",
      "22:33:46 [INFO] Initialized CSGODemoParser with demofile D:\\EDAV\\87\\ESLOneCologne2015-envyus-vs-tsm-cache.dem\n",
      "22:33:46 [INFO] Setting demo id to 87 ESLOneCologne2015-envyus-vs-tsm-cache\n",
      "22:33:46 [INFO] Setting parse rate to 128\n",
      "22:33:46 [INFO] Setting trade time to 5\n",
      "22:33:46 [INFO] Setting buy style to hltv\n",
      "22:33:46 [INFO] Rollup damages set to False\n",
      "22:33:46 [INFO] Parse frames set to True\n",
      "22:33:46 [INFO] Running Golang parser from C:\\Users\\nguye\\anaconda3\\envs\\envTF24\\lib\\site-packages\\csgo-1.0-py3.7.egg\\csgo\\parser\\\n",
      "22:33:46 [INFO] Looking for file at D:\\EDAV\\87\\ESLOneCologne2015-envyus-vs-tsm-cache.dem\n"
     ]
    },
    {
     "name": "stdout",
     "output_type": "stream",
     "text": [
      "parsing    87 ESLOneCologne2015-envyus-vs-tsm-cache.dem\n"
     ]
    },
    {
     "name": "stderr",
     "output_type": "stream",
     "text": [
      "22:33:49 [INFO] Wrote demo parse output to 87 ESLOneCologne2015-envyus-vs-tsm-cache.json\n",
      "22:33:49 [INFO] Reading in JSON from 87 ESLOneCologne2015-envyus-vs-tsm-cache.json\n",
      "22:33:49 [INFO] JSON data loaded, available in the `json` attribute to parser\n",
      "22:33:49 [INFO] Successfully parsed JSON output\n",
      "22:33:49 [INFO] Successfully returned JSON output\n",
      "22:33:51 [INFO] Go version>=1.14.0\n",
      "22:33:51 [INFO] Initialized CSGODemoParser with demofile D:\\EDAV\\87\\ESLOneCologne2015-envyus-vs-tsm-inferno.dem\n",
      "22:33:51 [INFO] Setting demo id to 87 ESLOneCologne2015-envyus-vs-tsm-inferno\n",
      "22:33:51 [INFO] Setting parse rate to 128\n",
      "22:33:51 [INFO] Setting trade time to 5\n",
      "22:33:51 [INFO] Setting buy style to hltv\n",
      "22:33:51 [INFO] Rollup damages set to False\n",
      "22:33:51 [INFO] Parse frames set to True\n",
      "22:33:51 [INFO] Running Golang parser from C:\\Users\\nguye\\anaconda3\\envs\\envTF24\\lib\\site-packages\\csgo-1.0-py3.7.egg\\csgo\\parser\\\n",
      "22:33:51 [INFO] Looking for file at D:\\EDAV\\87\\ESLOneCologne2015-envyus-vs-tsm-inferno.dem\n"
     ]
    },
    {
     "name": "stdout",
     "output_type": "stream",
     "text": [
      "parsing    87 ESLOneCologne2015-envyus-vs-tsm-inferno.dem\n"
     ]
    },
    {
     "name": "stderr",
     "output_type": "stream",
     "text": [
      "22:33:54 [INFO] Wrote demo parse output to 87 ESLOneCologne2015-envyus-vs-tsm-inferno.json\n",
      "22:33:54 [INFO] Reading in JSON from 87 ESLOneCologne2015-envyus-vs-tsm-inferno.json\n",
      "22:33:54 [INFO] JSON data loaded, available in the `json` attribute to parser\n",
      "22:33:54 [INFO] Successfully parsed JSON output\n",
      "22:33:54 [INFO] Successfully returned JSON output\n",
      "22:33:55 [INFO] Go version>=1.14.0\n",
      "22:33:55 [INFO] Initialized CSGODemoParser with demofile D:\\EDAV\\88\\DHW14-GroupA-hellraisers-vs-fnatic-mirage.dem\n",
      "22:33:55 [INFO] Setting demo id to 88 DHW14-GroupA-hellraisers-vs-fnatic-mirage\n",
      "22:33:55 [INFO] Setting parse rate to 128\n",
      "22:33:55 [INFO] Setting trade time to 5\n",
      "22:33:55 [INFO] Setting buy style to hltv\n",
      "22:33:55 [INFO] Rollup damages set to False\n",
      "22:33:55 [INFO] Parse frames set to True\n",
      "22:33:55 [INFO] Running Golang parser from C:\\Users\\nguye\\anaconda3\\envs\\envTF24\\lib\\site-packages\\csgo-1.0-py3.7.egg\\csgo\\parser\\\n",
      "22:33:55 [INFO] Looking for file at D:\\EDAV\\88\\DHW14-GroupA-hellraisers-vs-fnatic-mirage.dem\n"
     ]
    },
    {
     "name": "stdout",
     "output_type": "stream",
     "text": [
      "parsing    88 DHW14-GroupA-hellraisers-vs-fnatic-mirage.dem\n"
     ]
    },
    {
     "name": "stderr",
     "output_type": "stream",
     "text": [
      "22:33:57 [INFO] Wrote demo parse output to 88 DHW14-GroupA-hellraisers-vs-fnatic-mirage.json\n",
      "22:33:57 [INFO] Reading in JSON from 88 DHW14-GroupA-hellraisers-vs-fnatic-mirage.json\n",
      "22:33:57 [INFO] JSON data loaded, available in the `json` attribute to parser\n",
      "22:33:57 [INFO] Successfully parsed JSON output\n",
      "22:33:57 [INFO] Successfully returned JSON output\n",
      "22:33:58 [INFO] Go version>=1.14.0\n",
      "22:33:58 [INFO] Initialized CSGODemoParser with demofile D:\\EDAV\\89\\big-vs-natus-vincere-inferno.dem\n",
      "22:33:58 [INFO] Setting demo id to 89 big-vs-natus-vincere-inferno\n",
      "22:33:58 [INFO] Setting parse rate to 128\n",
      "22:33:58 [INFO] Setting trade time to 5\n",
      "22:33:58 [INFO] Setting buy style to hltv\n",
      "22:33:58 [INFO] Rollup damages set to False\n",
      "22:33:58 [INFO] Parse frames set to True\n",
      "22:33:58 [INFO] Running Golang parser from C:\\Users\\nguye\\anaconda3\\envs\\envTF24\\lib\\site-packages\\csgo-1.0-py3.7.egg\\csgo\\parser\\\n",
      "22:33:58 [INFO] Looking for file at D:\\EDAV\\89\\big-vs-natus-vincere-inferno.dem\n"
     ]
    },
    {
     "name": "stdout",
     "output_type": "stream",
     "text": [
      "parsing    89 big-vs-natus-vincere-inferno.dem\n"
     ]
    },
    {
     "name": "stderr",
     "output_type": "stream",
     "text": [
      "22:34:02 [INFO] Wrote demo parse output to 89 big-vs-natus-vincere-inferno.json\n",
      "22:34:02 [INFO] Reading in JSON from 89 big-vs-natus-vincere-inferno.json\n",
      "22:34:02 [INFO] JSON data loaded, available in the `json` attribute to parser\n",
      "22:34:02 [INFO] Successfully parsed JSON output\n",
      "22:34:02 [INFO] Successfully returned JSON output\n",
      "22:34:07 [INFO] Go version>=1.14.0\n",
      "22:34:07 [INFO] Initialized CSGODemoParser with demofile D:\\EDAV\\90\\ESLOneCologne2015-fnatic-vs-navi-inferno-1.dem\n",
      "22:34:07 [INFO] Setting demo id to 90 ESLOneCologne2015-fnatic-vs-navi-inferno-1\n",
      "22:34:07 [INFO] Setting parse rate to 128\n",
      "22:34:07 [INFO] Setting trade time to 5\n",
      "22:34:07 [INFO] Setting buy style to hltv\n",
      "22:34:07 [INFO] Rollup damages set to False\n",
      "22:34:07 [INFO] Parse frames set to True\n",
      "22:34:07 [INFO] Running Golang parser from C:\\Users\\nguye\\anaconda3\\envs\\envTF24\\lib\\site-packages\\csgo-1.0-py3.7.egg\\csgo\\parser\\\n",
      "22:34:07 [INFO] Looking for file at D:\\EDAV\\90\\ESLOneCologne2015-fnatic-vs-navi-inferno-1.dem\n"
     ]
    },
    {
     "name": "stdout",
     "output_type": "stream",
     "text": [
      "parsing    90 ESLOneCologne2015-fnatic-vs-navi-inferno-1.dem\n"
     ]
    },
    {
     "name": "stderr",
     "output_type": "stream",
     "text": [
      "22:34:09 [INFO] Wrote demo parse output to 90 ESLOneCologne2015-fnatic-vs-navi-inferno-1.json\n",
      "22:34:09 [INFO] Reading in JSON from 90 ESLOneCologne2015-fnatic-vs-navi-inferno-1.json\n",
      "22:34:09 [INFO] JSON data loaded, available in the `json` attribute to parser\n",
      "22:34:09 [INFO] Successfully parsed JSON output\n",
      "22:34:09 [INFO] Successfully returned JSON output\n",
      "22:34:11 [INFO] Go version>=1.14.0\n",
      "22:34:11 [INFO] Initialized CSGODemoParser with demofile D:\\EDAV\\91\\MLGColumbus2016-natusvincere-vs-virtuspro-cobblestone.dem\n",
      "22:34:11 [INFO] Setting demo id to 91 MLGColumbus2016-natusvincere-vs-virtuspro-cobblestone\n",
      "22:34:11 [INFO] Setting parse rate to 128\n",
      "22:34:11 [INFO] Setting trade time to 5\n",
      "22:34:11 [INFO] Setting buy style to hltv\n",
      "22:34:11 [INFO] Rollup damages set to False\n",
      "22:34:11 [INFO] Parse frames set to True\n",
      "22:34:11 [INFO] Running Golang parser from C:\\Users\\nguye\\anaconda3\\envs\\envTF24\\lib\\site-packages\\csgo-1.0-py3.7.egg\\csgo\\parser\\\n",
      "22:34:11 [INFO] Looking for file at D:\\EDAV\\91\\MLGColumbus2016-natusvincere-vs-virtuspro-cobblestone.dem\n"
     ]
    },
    {
     "name": "stdout",
     "output_type": "stream",
     "text": [
      "parsing    91 MLGColumbus2016-natusvincere-vs-virtuspro-cobblestone.dem\n"
     ]
    },
    {
     "name": "stderr",
     "output_type": "stream",
     "text": [
      "22:34:15 [INFO] Wrote demo parse output to 91 MLGColumbus2016-natusvincere-vs-virtuspro-cobblestone.json\n",
      "22:34:15 [INFO] Reading in JSON from 91 MLGColumbus2016-natusvincere-vs-virtuspro-cobblestone.json\n",
      "22:34:15 [INFO] JSON data loaded, available in the `json` attribute to parser\n",
      "22:34:15 [INFO] Successfully parsed JSON output\n",
      "22:34:15 [INFO] Successfully returned JSON output\n",
      "22:34:21 [INFO] Go version>=1.14.0\n",
      "22:34:21 [INFO] Initialized CSGODemoParser with demofile D:\\EDAV\\92\\optic-vs-astralis-train.dem\n",
      "22:34:21 [INFO] Setting demo id to 92 optic-vs-astralis-train\n",
      "22:34:21 [INFO] Setting parse rate to 128\n",
      "22:34:21 [INFO] Setting trade time to 5\n",
      "22:34:21 [INFO] Setting buy style to hltv\n",
      "22:34:21 [INFO] Rollup damages set to False\n",
      "22:34:21 [INFO] Parse frames set to True\n",
      "22:34:21 [INFO] Running Golang parser from C:\\Users\\nguye\\anaconda3\\envs\\envTF24\\lib\\site-packages\\csgo-1.0-py3.7.egg\\csgo\\parser\\\n",
      "22:34:21 [INFO] Looking for file at D:\\EDAV\\92\\optic-vs-astralis-train.dem\n"
     ]
    },
    {
     "name": "stdout",
     "output_type": "stream",
     "text": [
      "parsing    92 optic-vs-astralis-train.dem\n"
     ]
    },
    {
     "name": "stderr",
     "output_type": "stream",
     "text": [
      "22:34:26 [INFO] Wrote demo parse output to 92 optic-vs-astralis-train.json\n",
      "22:34:26 [INFO] Reading in JSON from 92 optic-vs-astralis-train.json\n",
      "22:34:26 [INFO] JSON data loaded, available in the `json` attribute to parser\n",
      "22:34:26 [INFO] Successfully parsed JSON output\n",
      "22:34:26 [INFO] Successfully returned JSON output\n",
      "22:34:36 [INFO] Go version>=1.14.0\n",
      "22:34:36 [INFO] Initialized CSGODemoParser with demofile D:\\EDAV\\93\\MLGColumbus2016-liquid-vs-fnatic-dust2.dem\n",
      "22:34:36 [INFO] Setting demo id to 93 MLGColumbus2016-liquid-vs-fnatic-dust2\n",
      "22:34:36 [INFO] Setting parse rate to 128\n",
      "22:34:36 [INFO] Setting trade time to 5\n",
      "22:34:36 [INFO] Setting buy style to hltv\n",
      "22:34:36 [INFO] Rollup damages set to False\n",
      "22:34:36 [INFO] Parse frames set to True\n",
      "22:34:36 [INFO] Running Golang parser from C:\\Users\\nguye\\anaconda3\\envs\\envTF24\\lib\\site-packages\\csgo-1.0-py3.7.egg\\csgo\\parser\\\n",
      "22:34:36 [INFO] Looking for file at D:\\EDAV\\93\\MLGColumbus2016-liquid-vs-fnatic-dust2.dem\n"
     ]
    },
    {
     "name": "stdout",
     "output_type": "stream",
     "text": [
      "parsing    93 MLGColumbus2016-liquid-vs-fnatic-dust2.dem\n"
     ]
    },
    {
     "name": "stderr",
     "output_type": "stream",
     "text": [
      "22:34:44 [INFO] Wrote demo parse output to 93 MLGColumbus2016-liquid-vs-fnatic-dust2.json\n",
      "22:34:44 [INFO] Reading in JSON from 93 MLGColumbus2016-liquid-vs-fnatic-dust2.json\n",
      "22:34:45 [INFO] JSON data loaded, available in the `json` attribute to parser\n",
      "22:34:45 [INFO] Successfully parsed JSON output\n",
      "22:34:45 [INFO] Successfully returned JSON output\n",
      "22:34:59 [INFO] Go version>=1.14.0\n",
      "22:34:59 [INFO] Initialized CSGODemoParser with demofile D:\\EDAV\\94\\natus-vincere-vs-dreameaters-overpass.dem\n",
      "22:34:59 [INFO] Setting demo id to 94 natus-vincere-vs-dreameaters-overpass\n",
      "22:34:59 [INFO] Setting parse rate to 128\n",
      "22:34:59 [INFO] Setting trade time to 5\n",
      "22:34:59 [INFO] Setting buy style to hltv\n",
      "22:34:59 [INFO] Rollup damages set to False\n",
      "22:34:59 [INFO] Parse frames set to True\n",
      "22:34:59 [INFO] Running Golang parser from C:\\Users\\nguye\\anaconda3\\envs\\envTF24\\lib\\site-packages\\csgo-1.0-py3.7.egg\\csgo\\parser\\\n",
      "22:34:59 [INFO] Looking for file at D:\\EDAV\\94\\natus-vincere-vs-dreameaters-overpass.dem\n"
     ]
    },
    {
     "name": "stdout",
     "output_type": "stream",
     "text": [
      "parsing    94 natus-vincere-vs-dreameaters-overpass.dem\n"
     ]
    },
    {
     "name": "stderr",
     "output_type": "stream",
     "text": [
      "22:35:05 [INFO] Wrote demo parse output to 94 natus-vincere-vs-dreameaters-overpass.json\n",
      "22:35:05 [INFO] Reading in JSON from 94 natus-vincere-vs-dreameaters-overpass.json\n",
      "22:35:05 [INFO] JSON data loaded, available in the `json` attribute to parser\n",
      "22:35:05 [INFO] Successfully parsed JSON output\n",
      "22:35:05 [INFO] Successfully returned JSON output\n",
      "22:35:12 [INFO] Go version>=1.14.0\n",
      "22:35:12 [INFO] Initialized CSGODemoParser with demofile D:\\EDAV\\95\\ESLOneCologne2016-sk-vs-g2-cobblestone.dem\n",
      "22:35:12 [INFO] Setting demo id to 95 ESLOneCologne2016-sk-vs-g2-cobblestone\n",
      "22:35:12 [INFO] Setting parse rate to 128\n",
      "22:35:12 [INFO] Setting trade time to 5\n",
      "22:35:12 [INFO] Setting buy style to hltv\n",
      "22:35:12 [INFO] Rollup damages set to False\n",
      "22:35:12 [INFO] Parse frames set to True\n",
      "22:35:12 [INFO] Running Golang parser from C:\\Users\\nguye\\anaconda3\\envs\\envTF24\\lib\\site-packages\\csgo-1.0-py3.7.egg\\csgo\\parser\\\n",
      "22:35:12 [INFO] Looking for file at D:\\EDAV\\95\\ESLOneCologne2016-sk-vs-g2-cobblestone.dem\n"
     ]
    },
    {
     "name": "stdout",
     "output_type": "stream",
     "text": [
      "parsing    95 ESLOneCologne2016-sk-vs-g2-cobblestone.dem\n"
     ]
    },
    {
     "name": "stderr",
     "output_type": "stream",
     "text": [
      "22:35:18 [INFO] Wrote demo parse output to 95 ESLOneCologne2016-sk-vs-g2-cobblestone.json\n",
      "22:35:18 [INFO] Reading in JSON from 95 ESLOneCologne2016-sk-vs-g2-cobblestone.json\n",
      "22:35:18 [INFO] JSON data loaded, available in the `json` attribute to parser\n",
      "22:35:18 [INFO] Successfully parsed JSON output\n",
      "22:35:18 [INFO] Successfully returned JSON output\n",
      "22:35:27 [INFO] Go version>=1.14.0\n",
      "22:35:27 [INFO] Initialized CSGODemoParser with demofile D:\\EDAV\\96\\mousesports-vs-north-cobblestone.dem\n",
      "22:35:27 [INFO] Setting demo id to 96 mousesports-vs-north-cobblestone\n",
      "22:35:27 [INFO] Setting parse rate to 128\n",
      "22:35:27 [INFO] Setting trade time to 5\n",
      "22:35:27 [INFO] Setting buy style to hltv\n",
      "22:35:27 [INFO] Rollup damages set to False\n",
      "22:35:27 [INFO] Parse frames set to True\n",
      "22:35:27 [INFO] Running Golang parser from C:\\Users\\nguye\\anaconda3\\envs\\envTF24\\lib\\site-packages\\csgo-1.0-py3.7.egg\\csgo\\parser\\\n",
      "22:35:27 [INFO] Looking for file at D:\\EDAV\\96\\mousesports-vs-north-cobblestone.dem\n"
     ]
    },
    {
     "name": "stdout",
     "output_type": "stream",
     "text": [
      "parsing    96 mousesports-vs-north-cobblestone.dem\n"
     ]
    },
    {
     "name": "stderr",
     "output_type": "stream",
     "text": [
      "22:35:33 [INFO] Wrote demo parse output to 96 mousesports-vs-north-cobblestone.json\n",
      "22:35:33 [INFO] Reading in JSON from 96 mousesports-vs-north-cobblestone.json\n",
      "22:35:34 [INFO] JSON data loaded, available in the `json` attribute to parser\n",
      "22:35:34 [INFO] Successfully parsed JSON output\n",
      "22:35:34 [INFO] Successfully returned JSON output\n",
      "22:35:44 [INFO] Go version>=1.14.0\n",
      "22:35:44 [INFO] Initialized CSGODemoParser with demofile D:\\EDAV\\97\\big-vs-natus-vincere-m2-nuke.dem\n",
      "22:35:44 [INFO] Setting demo id to 97 big-vs-natus-vincere-m2-nuke\n",
      "22:35:44 [INFO] Setting parse rate to 128\n",
      "22:35:44 [INFO] Setting trade time to 5\n",
      "22:35:44 [INFO] Setting buy style to hltv\n",
      "22:35:44 [INFO] Rollup damages set to False\n",
      "22:35:44 [INFO] Parse frames set to True\n",
      "22:35:44 [INFO] Running Golang parser from C:\\Users\\nguye\\anaconda3\\envs\\envTF24\\lib\\site-packages\\csgo-1.0-py3.7.egg\\csgo\\parser\\\n",
      "22:35:44 [INFO] Looking for file at D:\\EDAV\\97\\big-vs-natus-vincere-m2-nuke.dem\n"
     ]
    },
    {
     "name": "stdout",
     "output_type": "stream",
     "text": [
      "parsing    97 big-vs-natus-vincere-m2-nuke.dem\n"
     ]
    },
    {
     "name": "stderr",
     "output_type": "stream",
     "text": [
      "22:35:48 [INFO] Wrote demo parse output to 97 big-vs-natus-vincere-m2-nuke.json\n",
      "22:35:48 [INFO] Reading in JSON from 97 big-vs-natus-vincere-m2-nuke.json\n",
      "22:35:49 [INFO] JSON data loaded, available in the `json` attribute to parser\n",
      "22:35:49 [INFO] Successfully parsed JSON output\n",
      "22:35:49 [INFO] Successfully returned JSON output\n",
      "22:35:55 [INFO] Go version>=1.14.0\n",
      "22:35:55 [INFO] Initialized CSGODemoParser with demofile D:\\EDAV\\97\\big-vs-natus-vincere-m1-dust2.dem\n",
      "22:35:55 [INFO] Setting demo id to 97 big-vs-natus-vincere-m1-dust2\n",
      "22:35:55 [INFO] Setting parse rate to 128\n",
      "22:35:55 [INFO] Setting trade time to 5\n",
      "22:35:55 [INFO] Setting buy style to hltv\n",
      "22:35:55 [INFO] Rollup damages set to False\n",
      "22:35:55 [INFO] Parse frames set to True\n",
      "22:35:55 [INFO] Running Golang parser from C:\\Users\\nguye\\anaconda3\\envs\\envTF24\\lib\\site-packages\\csgo-1.0-py3.7.egg\\csgo\\parser\\\n",
      "22:35:55 [INFO] Looking for file at D:\\EDAV\\97\\big-vs-natus-vincere-m1-dust2.dem\n"
     ]
    },
    {
     "name": "stdout",
     "output_type": "stream",
     "text": [
      "parsing    97 big-vs-natus-vincere-m1-dust2.dem\n"
     ]
    },
    {
     "name": "stderr",
     "output_type": "stream",
     "text": [
      "22:35:59 [INFO] Wrote demo parse output to 97 big-vs-natus-vincere-m1-dust2.json\n",
      "22:35:59 [INFO] Reading in JSON from 97 big-vs-natus-vincere-m1-dust2.json\n",
      "22:35:59 [INFO] JSON data loaded, available in the `json` attribute to parser\n",
      "22:35:59 [INFO] Successfully parsed JSON output\n",
      "22:35:59 [INFO] Successfully returned JSON output\n",
      "22:36:04 [INFO] Go version>=1.14.0\n",
      "22:36:04 [INFO] Initialized CSGODemoParser with demofile D:\\EDAV\\98\\astralis-vs-immortals-overpass-part2.dem\n",
      "22:36:04 [INFO] Setting demo id to 98 astralis-vs-immortals-overpass-part2\n",
      "22:36:04 [INFO] Setting parse rate to 128\n",
      "22:36:04 [INFO] Setting trade time to 5\n",
      "22:36:04 [INFO] Setting buy style to hltv\n",
      "22:36:04 [INFO] Rollup damages set to False\n",
      "22:36:04 [INFO] Parse frames set to True\n",
      "22:36:04 [INFO] Running Golang parser from C:\\Users\\nguye\\anaconda3\\envs\\envTF24\\lib\\site-packages\\csgo-1.0-py3.7.egg\\csgo\\parser\\\n",
      "22:36:04 [INFO] Looking for file at D:\\EDAV\\98\\astralis-vs-immortals-overpass-part2.dem\n"
     ]
    },
    {
     "name": "stdout",
     "output_type": "stream",
     "text": [
      "parsing    98 astralis-vs-immortals-overpass-part2.dem\n"
     ]
    },
    {
     "name": "stderr",
     "output_type": "stream",
     "text": [
      "22:36:05 [INFO] Wrote demo parse output to 98 astralis-vs-immortals-overpass-part2.json\n",
      "22:36:05 [INFO] Reading in JSON from 98 astralis-vs-immortals-overpass-part2.json\n",
      "22:36:06 [INFO] JSON data loaded, available in the `json` attribute to parser\n",
      "22:36:06 [INFO] Successfully parsed JSON output\n",
      "22:36:06 [INFO] Successfully returned JSON output\n",
      "22:36:06 [INFO] Go version>=1.14.0\n",
      "22:36:06 [INFO] Initialized CSGODemoParser with demofile D:\\EDAV\\98\\astralis-vs-immortals-overpass-part1.dem\n",
      "22:36:06 [INFO] Setting demo id to 98 astralis-vs-immortals-overpass-part1\n",
      "22:36:06 [INFO] Setting parse rate to 128\n",
      "22:36:06 [INFO] Setting trade time to 5\n",
      "22:36:06 [INFO] Setting buy style to hltv\n",
      "22:36:06 [INFO] Rollup damages set to False\n",
      "22:36:06 [INFO] Parse frames set to True\n",
      "22:36:06 [INFO] Running Golang parser from C:\\Users\\nguye\\anaconda3\\envs\\envTF24\\lib\\site-packages\\csgo-1.0-py3.7.egg\\csgo\\parser\\\n",
      "22:36:06 [INFO] Looking for file at D:\\EDAV\\98\\astralis-vs-immortals-overpass-part1.dem\n"
     ]
    },
    {
     "name": "stdout",
     "output_type": "stream",
     "text": [
      "parsing    98 astralis-vs-immortals-overpass-part1.dem\n"
     ]
    },
    {
     "name": "stderr",
     "output_type": "stream",
     "text": [
      "22:36:14 [INFO] Wrote demo parse output to 98 astralis-vs-immortals-overpass-part1.json\n",
      "22:36:14 [INFO] Reading in JSON from 98 astralis-vs-immortals-overpass-part1.json\n",
      "22:36:15 [INFO] JSON data loaded, available in the `json` attribute to parser\n",
      "22:36:15 [INFO] Successfully parsed JSON output\n",
      "22:36:15 [INFO] Successfully returned JSON output\n",
      "22:36:27 [INFO] Go version>=1.14.0\n",
      "22:36:27 [INFO] Initialized CSGODemoParser with demofile D:\\EDAV\\99\\ESLOneCologne2015-tsm-vs-renegades-train-1.dem\n",
      "22:36:27 [INFO] Setting demo id to 99 ESLOneCologne2015-tsm-vs-renegades-train-1\n",
      "22:36:27 [INFO] Setting parse rate to 128\n",
      "22:36:27 [INFO] Setting trade time to 5\n",
      "22:36:27 [INFO] Setting buy style to hltv\n",
      "22:36:27 [INFO] Rollup damages set to False\n",
      "22:36:27 [INFO] Parse frames set to True\n",
      "22:36:27 [INFO] Running Golang parser from C:\\Users\\nguye\\anaconda3\\envs\\envTF24\\lib\\site-packages\\csgo-1.0-py3.7.egg\\csgo\\parser\\\n",
      "22:36:27 [INFO] Looking for file at D:\\EDAV\\99\\ESLOneCologne2015-tsm-vs-renegades-train-1.dem\n"
     ]
    },
    {
     "name": "stdout",
     "output_type": "stream",
     "text": [
      "parsing    99 ESLOneCologne2015-tsm-vs-renegades-train-1.dem\n"
     ]
    },
    {
     "name": "stderr",
     "output_type": "stream",
     "text": [
      "22:36:29 [INFO] Wrote demo parse output to 99 ESLOneCologne2015-tsm-vs-renegades-train-1.json\n",
      "22:36:29 [INFO] Reading in JSON from 99 ESLOneCologne2015-tsm-vs-renegades-train-1.json\n",
      "22:36:29 [INFO] JSON data loaded, available in the `json` attribute to parser\n",
      "22:36:29 [INFO] Successfully parsed JSON output\n",
      "22:36:29 [INFO] Successfully returned JSON output\n",
      "22:36:31 [INFO] Go version>=1.14.0\n",
      "22:36:31 [INFO] Initialized CSGODemoParser with demofile D:\\EDAV\\100\\mousesports-vs-mibr-dust2.dem\n",
      "22:36:31 [INFO] Setting demo id to 100 mousesports-vs-mibr-dust2\n",
      "22:36:31 [INFO] Setting parse rate to 128\n",
      "22:36:31 [INFO] Setting trade time to 5\n",
      "22:36:31 [INFO] Setting buy style to hltv\n",
      "22:36:31 [INFO] Rollup damages set to False\n",
      "22:36:31 [INFO] Parse frames set to True\n",
      "22:36:31 [INFO] Running Golang parser from C:\\Users\\nguye\\anaconda3\\envs\\envTF24\\lib\\site-packages\\csgo-1.0-py3.7.egg\\csgo\\parser\\\n",
      "22:36:31 [INFO] Looking for file at D:\\EDAV\\100\\mousesports-vs-mibr-dust2.dem\n"
     ]
    },
    {
     "name": "stdout",
     "output_type": "stream",
     "text": [
      "parsing    100 mousesports-vs-mibr-dust2.dem\n"
     ]
    },
    {
     "name": "stderr",
     "output_type": "stream",
     "text": [
      "22:36:35 [INFO] Wrote demo parse output to 100 mousesports-vs-mibr-dust2.json\n",
      "22:36:35 [INFO] Reading in JSON from 100 mousesports-vs-mibr-dust2.json\n",
      "22:36:36 [INFO] JSON data loaded, available in the `json` attribute to parser\n",
      "22:36:36 [INFO] Successfully parsed JSON output\n",
      "22:36:36 [INFO] Successfully returned JSON output\n",
      "22:36:42 [INFO] Go version>=1.14.0\n",
      "22:36:42 [INFO] Initialized CSGODemoParser with demofile D:\\EDAV\\101\\astralis-vs-virtuspro-map3-train.dem\n",
      "22:36:42 [INFO] Setting demo id to 101 astralis-vs-virtuspro-map3-train\n",
      "22:36:42 [INFO] Setting parse rate to 128\n",
      "22:36:42 [INFO] Setting trade time to 5\n",
      "22:36:42 [INFO] Setting buy style to hltv\n",
      "22:36:42 [INFO] Rollup damages set to False\n",
      "22:36:42 [INFO] Parse frames set to True\n",
      "22:36:43 [INFO] Running Golang parser from C:\\Users\\nguye\\anaconda3\\envs\\envTF24\\lib\\site-packages\\csgo-1.0-py3.7.egg\\csgo\\parser\\\n",
      "22:36:43 [INFO] Looking for file at D:\\EDAV\\101\\astralis-vs-virtuspro-map3-train.dem\n"
     ]
    },
    {
     "name": "stdout",
     "output_type": "stream",
     "text": [
      "parsing    101 astralis-vs-virtuspro-map3-train.dem\n"
     ]
    },
    {
     "name": "stderr",
     "output_type": "stream",
     "text": [
      "22:36:48 [INFO] Wrote demo parse output to 101 astralis-vs-virtuspro-map3-train.json\n",
      "22:36:48 [INFO] Reading in JSON from 101 astralis-vs-virtuspro-map3-train.json\n",
      "22:36:48 [INFO] JSON data loaded, available in the `json` attribute to parser\n",
      "22:36:48 [INFO] Successfully parsed JSON output\n",
      "22:36:48 [INFO] Successfully returned JSON output\n",
      "22:36:57 [INFO] Go version>=1.14.0\n",
      "22:36:57 [INFO] Initialized CSGODemoParser with demofile D:\\EDAV\\101\\astralis-vs-virtuspro-map1-nuke.dem\n",
      "22:36:57 [INFO] Setting demo id to 101 astralis-vs-virtuspro-map1-nuke\n",
      "22:36:57 [INFO] Setting parse rate to 128\n",
      "22:36:57 [INFO] Setting trade time to 5\n",
      "22:36:57 [INFO] Setting buy style to hltv\n",
      "22:36:57 [INFO] Rollup damages set to False\n",
      "22:36:57 [INFO] Parse frames set to True\n",
      "22:36:57 [INFO] Running Golang parser from C:\\Users\\nguye\\anaconda3\\envs\\envTF24\\lib\\site-packages\\csgo-1.0-py3.7.egg\\csgo\\parser\\\n",
      "22:36:57 [INFO] Looking for file at D:\\EDAV\\101\\astralis-vs-virtuspro-map1-nuke.dem\n"
     ]
    },
    {
     "name": "stdout",
     "output_type": "stream",
     "text": [
      "parsing    101 astralis-vs-virtuspro-map1-nuke.dem\n"
     ]
    },
    {
     "name": "stderr",
     "output_type": "stream",
     "text": [
      "22:37:03 [INFO] Wrote demo parse output to 101 astralis-vs-virtuspro-map1-nuke.json\n",
      "22:37:03 [INFO] Reading in JSON from 101 astralis-vs-virtuspro-map1-nuke.json\n",
      "22:37:04 [INFO] JSON data loaded, available in the `json` attribute to parser\n",
      "22:37:04 [INFO] Successfully parsed JSON output\n",
      "22:37:04 [INFO] Successfully returned JSON output\n",
      "22:37:13 [INFO] Go version>=1.14.0\n",
      "22:37:13 [INFO] Initialized CSGODemoParser with demofile D:\\EDAV\\101\\astralis-vs-virtuspro-map2-overpass.dem\n",
      "22:37:13 [INFO] Setting demo id to 101 astralis-vs-virtuspro-map2-overpass\n",
      "22:37:13 [INFO] Setting parse rate to 128\n",
      "22:37:13 [INFO] Setting trade time to 5\n",
      "22:37:13 [INFO] Setting buy style to hltv\n",
      "22:37:13 [INFO] Rollup damages set to False\n",
      "22:37:13 [INFO] Parse frames set to True\n",
      "22:37:13 [INFO] Running Golang parser from C:\\Users\\nguye\\anaconda3\\envs\\envTF24\\lib\\site-packages\\csgo-1.0-py3.7.egg\\csgo\\parser\\\n",
      "22:37:13 [INFO] Looking for file at D:\\EDAV\\101\\astralis-vs-virtuspro-map2-overpass.dem\n"
     ]
    },
    {
     "name": "stdout",
     "output_type": "stream",
     "text": [
      "parsing    101 astralis-vs-virtuspro-map2-overpass.dem\n"
     ]
    },
    {
     "name": "stderr",
     "output_type": "stream",
     "text": [
      "22:37:21 [INFO] Wrote demo parse output to 101 astralis-vs-virtuspro-map2-overpass.json\n",
      "22:37:21 [INFO] Reading in JSON from 101 astralis-vs-virtuspro-map2-overpass.json\n",
      "22:37:21 [INFO] JSON data loaded, available in the `json` attribute to parser\n",
      "22:37:21 [INFO] Successfully parsed JSON output\n",
      "22:37:21 [INFO] Successfully returned JSON output\n",
      "22:37:32 [INFO] Go version>=1.14.0\n",
      "22:37:32 [INFO] Initialized CSGODemoParser with demofile D:\\EDAV\\102\\ESLOneCologne2015-navi-vs-clg-cobblestone-1.dem\n",
      "22:37:32 [INFO] Setting demo id to 102 ESLOneCologne2015-navi-vs-clg-cobblestone-1\n",
      "22:37:32 [INFO] Setting parse rate to 128\n",
      "22:37:32 [INFO] Setting trade time to 5\n",
      "22:37:32 [INFO] Setting buy style to hltv\n",
      "22:37:32 [INFO] Rollup damages set to False\n",
      "22:37:32 [INFO] Parse frames set to True\n",
      "22:37:32 [INFO] Running Golang parser from C:\\Users\\nguye\\anaconda3\\envs\\envTF24\\lib\\site-packages\\csgo-1.0-py3.7.egg\\csgo\\parser\\\n",
      "22:37:32 [INFO] Looking for file at D:\\EDAV\\102\\ESLOneCologne2015-navi-vs-clg-cobblestone-1.dem\n"
     ]
    },
    {
     "name": "stdout",
     "output_type": "stream",
     "text": [
      "parsing    102 ESLOneCologne2015-navi-vs-clg-cobblestone-1.dem\n"
     ]
    },
    {
     "name": "stderr",
     "output_type": "stream",
     "text": [
      "22:37:35 [INFO] Wrote demo parse output to 102 ESLOneCologne2015-navi-vs-clg-cobblestone-1.json\n",
      "22:37:35 [INFO] Reading in JSON from 102 ESLOneCologne2015-navi-vs-clg-cobblestone-1.json\n",
      "22:37:35 [INFO] JSON data loaded, available in the `json` attribute to parser\n",
      "22:37:35 [INFO] Successfully parsed JSON output\n",
      "22:37:35 [INFO] Successfully returned JSON output\n",
      "22:37:37 [INFO] Go version>=1.14.0\n",
      "22:37:37 [INFO] Initialized CSGODemoParser with demofile D:\\EDAV\\103\\ESLOneCologne-GroupC-fnatic-vs-virtuspro-overpass.dem\n",
      "22:37:37 [INFO] Setting demo id to 103 ESLOneCologne-GroupC-fnatic-vs-virtuspro-overpass\n",
      "22:37:37 [INFO] Setting parse rate to 128\n",
      "22:37:37 [INFO] Setting trade time to 5\n",
      "22:37:37 [INFO] Setting buy style to hltv\n",
      "22:37:37 [INFO] Rollup damages set to False\n",
      "22:37:37 [INFO] Parse frames set to True\n",
      "22:37:37 [INFO] Running Golang parser from C:\\Users\\nguye\\anaconda3\\envs\\envTF24\\lib\\site-packages\\csgo-1.0-py3.7.egg\\csgo\\parser\\\n",
      "22:37:37 [INFO] Looking for file at D:\\EDAV\\103\\ESLOneCologne-GroupC-fnatic-vs-virtuspro-overpass.dem\n"
     ]
    },
    {
     "name": "stdout",
     "output_type": "stream",
     "text": [
      "parsing    103 ESLOneCologne-GroupC-fnatic-vs-virtuspro-overpass.dem\n"
     ]
    },
    {
     "name": "stderr",
     "output_type": "stream",
     "text": [
      "22:37:40 [INFO] Wrote demo parse output to 103 ESLOneCologne-GroupC-fnatic-vs-virtuspro-overpass.json\n",
      "22:37:40 [INFO] Reading in JSON from 103 ESLOneCologne-GroupC-fnatic-vs-virtuspro-overpass.json\n",
      "22:37:40 [INFO] JSON data loaded, available in the `json` attribute to parser\n",
      "22:37:40 [INFO] Successfully parsed JSON output\n",
      "22:37:40 [INFO] Successfully returned JSON output\n",
      "22:37:42 [INFO] Go version>=1.14.0\n",
      "22:37:42 [INFO] Initialized CSGODemoParser with demofile D:\\EDAV\\104\\space-soldiers-vs-cloud9-cbble.dem\n",
      "22:37:42 [INFO] Setting demo id to 104 space-soldiers-vs-cloud9-cbble\n",
      "22:37:42 [INFO] Setting parse rate to 128\n",
      "22:37:42 [INFO] Setting trade time to 5\n",
      "22:37:42 [INFO] Setting buy style to hltv\n",
      "22:37:42 [INFO] Rollup damages set to False\n",
      "22:37:42 [INFO] Parse frames set to True\n",
      "22:37:42 [INFO] Running Golang parser from C:\\Users\\nguye\\anaconda3\\envs\\envTF24\\lib\\site-packages\\csgo-1.0-py3.7.egg\\csgo\\parser\\\n",
      "22:37:42 [INFO] Looking for file at D:\\EDAV\\104\\space-soldiers-vs-cloud9-cbble.dem\n"
     ]
    },
    {
     "name": "stdout",
     "output_type": "stream",
     "text": [
      "parsing    104 space-soldiers-vs-cloud9-cbble.dem\n"
     ]
    },
    {
     "name": "stderr",
     "output_type": "stream",
     "text": [
      "22:37:47 [INFO] Wrote demo parse output to 104 space-soldiers-vs-cloud9-cbble.json\n",
      "22:37:47 [INFO] Reading in JSON from 104 space-soldiers-vs-cloud9-cbble.json\n",
      "22:37:48 [INFO] JSON data loaded, available in the `json` attribute to parser\n",
      "22:37:48 [INFO] Successfully parsed JSON output\n",
      "22:37:48 [INFO] Successfully returned JSON output\n",
      "22:37:56 [INFO] Go version>=1.14.0\n",
      "22:37:56 [INFO] Initialized CSGODemoParser with demofile D:\\EDAV\\105\\immortals-vs-vega-squadron-train.dem\n",
      "22:37:56 [INFO] Setting demo id to 105 immortals-vs-vega-squadron-train\n",
      "22:37:56 [INFO] Setting parse rate to 128\n",
      "22:37:56 [INFO] Setting trade time to 5\n",
      "22:37:56 [INFO] Setting buy style to hltv\n",
      "22:37:56 [INFO] Rollup damages set to False\n",
      "22:37:56 [INFO] Parse frames set to True\n",
      "22:37:56 [INFO] Running Golang parser from C:\\Users\\nguye\\anaconda3\\envs\\envTF24\\lib\\site-packages\\csgo-1.0-py3.7.egg\\csgo\\parser\\\n",
      "22:37:56 [INFO] Looking for file at D:\\EDAV\\105\\immortals-vs-vega-squadron-train.dem\n"
     ]
    },
    {
     "name": "stdout",
     "output_type": "stream",
     "text": [
      "parsing    105 immortals-vs-vega-squadron-train.dem\n"
     ]
    },
    {
     "name": "stderr",
     "output_type": "stream",
     "text": [
      "22:38:00 [INFO] Wrote demo parse output to 105 immortals-vs-vega-squadron-train.json\n",
      "22:38:00 [INFO] Reading in JSON from 105 immortals-vs-vega-squadron-train.json\n",
      "22:38:00 [INFO] JSON data loaded, available in the `json` attribute to parser\n",
      "22:38:00 [INFO] Successfully parsed JSON output\n",
      "22:38:00 [INFO] Successfully returned JSON output\n",
      "22:38:05 [INFO] Go version>=1.14.0\n",
      "22:38:05 [INFO] Initialized CSGODemoParser with demofile D:\\EDAV\\106\\nip-vs-vitality-m1-cache.dem\n",
      "22:38:05 [INFO] Setting demo id to 106 nip-vs-vitality-m1-cache\n",
      "22:38:05 [INFO] Setting parse rate to 128\n",
      "22:38:05 [INFO] Setting trade time to 5\n",
      "22:38:05 [INFO] Setting buy style to hltv\n",
      "22:38:05 [INFO] Rollup damages set to False\n",
      "22:38:05 [INFO] Parse frames set to True\n",
      "22:38:05 [INFO] Running Golang parser from C:\\Users\\nguye\\anaconda3\\envs\\envTF24\\lib\\site-packages\\csgo-1.0-py3.7.egg\\csgo\\parser\\\n",
      "22:38:05 [INFO] Looking for file at D:\\EDAV\\106\\nip-vs-vitality-m1-cache.dem\n"
     ]
    },
    {
     "name": "stdout",
     "output_type": "stream",
     "text": [
      "parsing    106 nip-vs-vitality-m1-cache.dem\n"
     ]
    },
    {
     "name": "stderr",
     "output_type": "stream",
     "text": [
      "22:38:10 [INFO] Wrote demo parse output to 106 nip-vs-vitality-m1-cache.json\n",
      "22:38:10 [INFO] Reading in JSON from 106 nip-vs-vitality-m1-cache.json\n",
      "22:38:10 [INFO] JSON data loaded, available in the `json` attribute to parser\n",
      "22:38:10 [INFO] Successfully parsed JSON output\n",
      "22:38:10 [INFO] Successfully returned JSON output\n",
      "22:38:17 [INFO] Go version>=1.14.0\n",
      "22:38:17 [INFO] Initialized CSGODemoParser with demofile D:\\EDAV\\106\\nip-vs-vitality-m2-overpass.dem\n",
      "22:38:17 [INFO] Setting demo id to 106 nip-vs-vitality-m2-overpass\n",
      "22:38:17 [INFO] Setting parse rate to 128\n",
      "22:38:17 [INFO] Setting trade time to 5\n",
      "22:38:17 [INFO] Setting buy style to hltv\n",
      "22:38:17 [INFO] Rollup damages set to False\n",
      "22:38:17 [INFO] Parse frames set to True\n",
      "22:38:17 [INFO] Running Golang parser from C:\\Users\\nguye\\anaconda3\\envs\\envTF24\\lib\\site-packages\\csgo-1.0-py3.7.egg\\csgo\\parser\\\n",
      "22:38:17 [INFO] Looking for file at D:\\EDAV\\106\\nip-vs-vitality-m2-overpass.dem\n"
     ]
    },
    {
     "name": "stdout",
     "output_type": "stream",
     "text": [
      "parsing    106 nip-vs-vitality-m2-overpass.dem\n"
     ]
    },
    {
     "name": "stderr",
     "output_type": "stream",
     "text": [
      "22:38:23 [INFO] Wrote demo parse output to 106 nip-vs-vitality-m2-overpass.json\n",
      "22:38:23 [INFO] Reading in JSON from 106 nip-vs-vitality-m2-overpass.json\n",
      "22:38:24 [INFO] JSON data loaded, available in the `json` attribute to parser\n",
      "22:38:24 [INFO] Successfully parsed JSON output\n",
      "22:38:24 [INFO] Successfully returned JSON output\n",
      "22:38:31 [INFO] Go version>=1.14.0\n",
      "22:38:31 [INFO] Initialized CSGODemoParser with demofile D:\\EDAV\\106\\nip-vs-vitality-m3-mirage.dem\n",
      "22:38:31 [INFO] Setting demo id to 106 nip-vs-vitality-m3-mirage\n",
      "22:38:31 [INFO] Setting parse rate to 128\n",
      "22:38:31 [INFO] Setting trade time to 5\n",
      "22:38:31 [INFO] Setting buy style to hltv\n",
      "22:38:31 [INFO] Rollup damages set to False\n",
      "22:38:31 [INFO] Parse frames set to True\n",
      "22:38:31 [INFO] Running Golang parser from C:\\Users\\nguye\\anaconda3\\envs\\envTF24\\lib\\site-packages\\csgo-1.0-py3.7.egg\\csgo\\parser\\\n",
      "22:38:31 [INFO] Looking for file at D:\\EDAV\\106\\nip-vs-vitality-m3-mirage.dem\n"
     ]
    },
    {
     "name": "stdout",
     "output_type": "stream",
     "text": [
      "parsing    106 nip-vs-vitality-m3-mirage.dem\n"
     ]
    },
    {
     "name": "stderr",
     "output_type": "stream",
     "text": [
      "22:38:35 [INFO] Wrote demo parse output to 106 nip-vs-vitality-m3-mirage.json\n",
      "22:38:35 [INFO] Reading in JSON from 106 nip-vs-vitality-m3-mirage.json\n",
      "22:38:35 [INFO] JSON data loaded, available in the `json` attribute to parser\n",
      "22:38:35 [INFO] Successfully parsed JSON output\n",
      "22:38:35 [INFO] Successfully returned JSON output\n",
      "22:38:42 [INFO] Go version>=1.14.0\n",
      "22:38:42 [INFO] Initialized CSGODemoParser with demofile D:\\EDAV\\107\\ESLOneKatowice2015-Groups-navi-vs-voxeminor-inferno.dem\n",
      "22:38:42 [INFO] Setting demo id to 107 ESLOneKatowice2015-Groups-navi-vs-voxeminor-inferno\n",
      "22:38:42 [INFO] Setting parse rate to 128\n",
      "22:38:42 [INFO] Setting trade time to 5\n",
      "22:38:42 [INFO] Setting buy style to hltv\n",
      "22:38:42 [INFO] Rollup damages set to False\n",
      "22:38:42 [INFO] Parse frames set to True\n",
      "22:38:42 [INFO] Running Golang parser from C:\\Users\\nguye\\anaconda3\\envs\\envTF24\\lib\\site-packages\\csgo-1.0-py3.7.egg\\csgo\\parser\\\n",
      "22:38:42 [INFO] Looking for file at D:\\EDAV\\107\\ESLOneKatowice2015-Groups-navi-vs-voxeminor-inferno.dem\n"
     ]
    },
    {
     "name": "stdout",
     "output_type": "stream",
     "text": [
      "parsing    107 ESLOneKatowice2015-Groups-navi-vs-voxeminor-inferno.dem\n"
     ]
    },
    {
     "name": "stderr",
     "output_type": "stream",
     "text": [
      "22:38:43 [INFO] Wrote demo parse output to 107 ESLOneKatowice2015-Groups-navi-vs-voxeminor-inferno.json\n",
      "22:38:43 [INFO] Reading in JSON from 107 ESLOneKatowice2015-Groups-navi-vs-voxeminor-inferno.json\n",
      "22:38:43 [INFO] JSON data loaded, available in the `json` attribute to parser\n",
      "22:38:43 [INFO] Successfully parsed JSON output\n",
      "22:38:43 [INFO] Successfully returned JSON output\n",
      "22:38:44 [INFO] Go version>=1.14.0\n",
      "22:38:44 [INFO] Initialized CSGODemoParser with demofile D:\\EDAV\\108\\DHW14-QF-nip-vs-hellraisers-dust2.dem\n",
      "22:38:44 [INFO] Setting demo id to 108 DHW14-QF-nip-vs-hellraisers-dust2\n",
      "22:38:44 [INFO] Setting parse rate to 128\n",
      "22:38:44 [INFO] Setting trade time to 5\n",
      "22:38:44 [INFO] Setting buy style to hltv\n",
      "22:38:44 [INFO] Rollup damages set to False\n",
      "22:38:44 [INFO] Parse frames set to True\n",
      "22:38:44 [INFO] Running Golang parser from C:\\Users\\nguye\\anaconda3\\envs\\envTF24\\lib\\site-packages\\csgo-1.0-py3.7.egg\\csgo\\parser\\\n",
      "22:38:44 [INFO] Looking for file at D:\\EDAV\\108\\DHW14-QF-nip-vs-hellraisers-dust2.dem\n"
     ]
    },
    {
     "name": "stdout",
     "output_type": "stream",
     "text": [
      "parsing    108 DHW14-QF-nip-vs-hellraisers-dust2.dem\n"
     ]
    },
    {
     "name": "stderr",
     "output_type": "stream",
     "text": [
      "22:38:46 [INFO] Wrote demo parse output to 108 DHW14-QF-nip-vs-hellraisers-dust2.json\n",
      "22:38:46 [INFO] Reading in JSON from 108 DHW14-QF-nip-vs-hellraisers-dust2.json\n",
      "22:38:46 [INFO] JSON data loaded, available in the `json` attribute to parser\n",
      "22:38:46 [INFO] Successfully parsed JSON output\n",
      "22:38:46 [INFO] Successfully returned JSON output\n",
      "22:38:47 [INFO] Go version>=1.14.0\n",
      "22:38:47 [INFO] Initialized CSGODemoParser with demofile D:\\EDAV\\108\\DHW14-QF-nip-vs-hellraisers-inferno.dem\n",
      "22:38:47 [INFO] Setting demo id to 108 DHW14-QF-nip-vs-hellraisers-inferno\n",
      "22:38:47 [INFO] Setting parse rate to 128\n",
      "22:38:47 [INFO] Setting trade time to 5\n",
      "22:38:47 [INFO] Setting buy style to hltv\n",
      "22:38:47 [INFO] Rollup damages set to False\n",
      "22:38:47 [INFO] Parse frames set to True\n",
      "22:38:47 [INFO] Running Golang parser from C:\\Users\\nguye\\anaconda3\\envs\\envTF24\\lib\\site-packages\\csgo-1.0-py3.7.egg\\csgo\\parser\\\n",
      "22:38:47 [INFO] Looking for file at D:\\EDAV\\108\\DHW14-QF-nip-vs-hellraisers-inferno.dem\n"
     ]
    },
    {
     "name": "stdout",
     "output_type": "stream",
     "text": [
      "parsing    108 DHW14-QF-nip-vs-hellraisers-inferno.dem\n"
     ]
    },
    {
     "name": "stderr",
     "output_type": "stream",
     "text": [
      "22:38:49 [INFO] Wrote demo parse output to 108 DHW14-QF-nip-vs-hellraisers-inferno.json\n",
      "22:38:49 [INFO] Reading in JSON from 108 DHW14-QF-nip-vs-hellraisers-inferno.json\n",
      "22:38:49 [INFO] JSON data loaded, available in the `json` attribute to parser\n",
      "22:38:49 [INFO] Successfully parsed JSON output\n",
      "22:38:49 [INFO] Successfully returned JSON output\n",
      "22:38:50 [INFO] Go version>=1.14.0\n",
      "22:38:50 [INFO] Initialized CSGODemoParser with demofile D:\\EDAV\\109\\astralis-vs-cloud9-train.dem\n",
      "22:38:50 [INFO] Setting demo id to 109 astralis-vs-cloud9-train\n",
      "22:38:50 [INFO] Setting parse rate to 128\n",
      "22:38:50 [INFO] Setting trade time to 5\n",
      "22:38:50 [INFO] Setting buy style to hltv\n",
      "22:38:50 [INFO] Rollup damages set to False\n",
      "22:38:50 [INFO] Parse frames set to True\n",
      "22:38:50 [INFO] Running Golang parser from C:\\Users\\nguye\\anaconda3\\envs\\envTF24\\lib\\site-packages\\csgo-1.0-py3.7.egg\\csgo\\parser\\\n",
      "22:38:50 [INFO] Looking for file at D:\\EDAV\\109\\astralis-vs-cloud9-train.dem\n"
     ]
    },
    {
     "name": "stdout",
     "output_type": "stream",
     "text": [
      "parsing    109 astralis-vs-cloud9-train.dem\n"
     ]
    },
    {
     "name": "stderr",
     "output_type": "stream",
     "text": [
      "22:38:53 [INFO] Wrote demo parse output to 109 astralis-vs-cloud9-train.json\n",
      "22:38:53 [INFO] Reading in JSON from 109 astralis-vs-cloud9-train.json\n",
      "22:38:54 [INFO] JSON data loaded, available in the `json` attribute to parser\n",
      "22:38:54 [INFO] Successfully parsed JSON output\n",
      "22:38:54 [INFO] Successfully returned JSON output\n",
      "22:38:57 [INFO] Go version>=1.14.0\n",
      "22:38:57 [INFO] Initialized CSGODemoParser with demofile D:\\EDAV\\110\\ESLOneCologne-GroupC-virtuspro-vs-datteam-overpass.dem\n",
      "22:38:57 [INFO] Setting demo id to 110 ESLOneCologne-GroupC-virtuspro-vs-datteam-overpass\n",
      "22:38:57 [INFO] Setting parse rate to 128\n",
      "22:38:57 [INFO] Setting trade time to 5\n",
      "22:38:57 [INFO] Setting buy style to hltv\n",
      "22:38:57 [INFO] Rollup damages set to False\n",
      "22:38:57 [INFO] Parse frames set to True\n",
      "22:38:58 [INFO] Running Golang parser from C:\\Users\\nguye\\anaconda3\\envs\\envTF24\\lib\\site-packages\\csgo-1.0-py3.7.egg\\csgo\\parser\\\n",
      "22:38:58 [INFO] Looking for file at D:\\EDAV\\110\\ESLOneCologne-GroupC-virtuspro-vs-datteam-overpass.dem\n"
     ]
    },
    {
     "name": "stdout",
     "output_type": "stream",
     "text": [
      "parsing    110 ESLOneCologne-GroupC-virtuspro-vs-datteam-overpass.dem\n"
     ]
    },
    {
     "name": "stderr",
     "output_type": "stream",
     "text": [
      "22:39:00 [INFO] Wrote demo parse output to 110 ESLOneCologne-GroupC-virtuspro-vs-datteam-overpass.json\n",
      "22:39:00 [INFO] Reading in JSON from 110 ESLOneCologne-GroupC-virtuspro-vs-datteam-overpass.json\n",
      "22:39:00 [INFO] JSON data loaded, available in the `json` attribute to parser\n",
      "22:39:00 [INFO] Successfully parsed JSON output\n",
      "22:39:00 [INFO] Successfully returned JSON output\n",
      "22:39:01 [INFO] Go version>=1.14.0\n",
      "22:39:01 [INFO] Initialized CSGODemoParser with demofile D:\\EDAV\\111\\nip-vs-hellraisers-overpass.dem\n",
      "22:39:01 [INFO] Setting demo id to 111 nip-vs-hellraisers-overpass\n",
      "22:39:01 [INFO] Setting parse rate to 128\n",
      "22:39:01 [INFO] Setting trade time to 5\n",
      "22:39:01 [INFO] Setting buy style to hltv\n",
      "22:39:01 [INFO] Rollup damages set to False\n",
      "22:39:01 [INFO] Parse frames set to True\n",
      "22:39:01 [INFO] Running Golang parser from C:\\Users\\nguye\\anaconda3\\envs\\envTF24\\lib\\site-packages\\csgo-1.0-py3.7.egg\\csgo\\parser\\\n",
      "22:39:01 [INFO] Looking for file at D:\\EDAV\\111\\nip-vs-hellraisers-overpass.dem\n"
     ]
    },
    {
     "name": "stdout",
     "output_type": "stream",
     "text": [
      "parsing    111 nip-vs-hellraisers-overpass.dem\n"
     ]
    },
    {
     "name": "stderr",
     "output_type": "stream",
     "text": [
      "22:39:06 [INFO] Wrote demo parse output to 111 nip-vs-hellraisers-overpass.json\n",
      "22:39:06 [INFO] Reading in JSON from 111 nip-vs-hellraisers-overpass.json\n",
      "22:39:07 [INFO] JSON data loaded, available in the `json` attribute to parser\n",
      "22:39:07 [INFO] Successfully parsed JSON output\n",
      "22:39:07 [INFO] Successfully returned JSON output\n",
      "22:39:13 [INFO] Go version>=1.14.0\n",
      "22:39:13 [INFO] Initialized CSGODemoParser with demofile D:\\EDAV\\112\\penta-vs-flipsid3-train.dem\n",
      "22:39:13 [INFO] Setting demo id to 112 penta-vs-flipsid3-train\n",
      "22:39:13 [INFO] Setting parse rate to 128\n",
      "22:39:13 [INFO] Setting trade time to 5\n",
      "22:39:13 [INFO] Setting buy style to hltv\n",
      "22:39:13 [INFO] Rollup damages set to False\n",
      "22:39:13 [INFO] Parse frames set to True\n",
      "22:39:13 [INFO] Running Golang parser from C:\\Users\\nguye\\anaconda3\\envs\\envTF24\\lib\\site-packages\\csgo-1.0-py3.7.egg\\csgo\\parser\\\n",
      "22:39:13 [INFO] Looking for file at D:\\EDAV\\112\\penta-vs-flipsid3-train.dem\n"
     ]
    },
    {
     "name": "stdout",
     "output_type": "stream",
     "text": [
      "parsing    112 penta-vs-flipsid3-train.dem\n"
     ]
    },
    {
     "name": "stderr",
     "output_type": "stream",
     "text": [
      "22:39:18 [INFO] Wrote demo parse output to 112 penta-vs-flipsid3-train.json\n",
      "22:39:18 [INFO] Reading in JSON from 112 penta-vs-flipsid3-train.json\n",
      "22:39:19 [INFO] JSON data loaded, available in the `json` attribute to parser\n",
      "22:39:19 [INFO] Successfully parsed JSON output\n",
      "22:39:19 [INFO] Successfully returned JSON output\n",
      "22:39:28 [INFO] Go version>=1.14.0\n",
      "22:39:28 [INFO] Initialized CSGODemoParser with demofile D:\\EDAV\\113\\fnatic-vs-gambit-map3-dust2.dem\n",
      "22:39:28 [INFO] Setting demo id to 113 fnatic-vs-gambit-map3-dust2\n",
      "22:39:28 [INFO] Setting parse rate to 128\n",
      "22:39:28 [INFO] Setting trade time to 5\n",
      "22:39:28 [INFO] Setting buy style to hltv\n",
      "22:39:28 [INFO] Rollup damages set to False\n",
      "22:39:28 [INFO] Parse frames set to True\n",
      "22:39:28 [INFO] Running Golang parser from C:\\Users\\nguye\\anaconda3\\envs\\envTF24\\lib\\site-packages\\csgo-1.0-py3.7.egg\\csgo\\parser\\\n",
      "22:39:28 [INFO] Looking for file at D:\\EDAV\\113\\fnatic-vs-gambit-map3-dust2.dem\n"
     ]
    },
    {
     "name": "stdout",
     "output_type": "stream",
     "text": [
      "parsing    113 fnatic-vs-gambit-map3-dust2.dem\n"
     ]
    },
    {
     "name": "stderr",
     "output_type": "stream",
     "text": [
      "22:39:32 [INFO] Wrote demo parse output to 113 fnatic-vs-gambit-map3-dust2.json\n",
      "22:39:32 [INFO] Reading in JSON from 113 fnatic-vs-gambit-map3-dust2.json\n",
      "22:39:33 [INFO] JSON data loaded, available in the `json` attribute to parser\n",
      "22:39:33 [INFO] Successfully parsed JSON output\n",
      "22:39:33 [INFO] Successfully returned JSON output\n",
      "22:39:39 [INFO] Go version>=1.14.0\n",
      "22:39:39 [INFO] Initialized CSGODemoParser with demofile D:\\EDAV\\113\\fnatic-vs-gambit-map1-cache.dem\n",
      "22:39:39 [INFO] Setting demo id to 113 fnatic-vs-gambit-map1-cache\n",
      "22:39:39 [INFO] Setting parse rate to 128\n",
      "22:39:39 [INFO] Setting trade time to 5\n",
      "22:39:39 [INFO] Setting buy style to hltv\n",
      "22:39:39 [INFO] Rollup damages set to False\n",
      "22:39:39 [INFO] Parse frames set to True\n",
      "22:39:39 [INFO] Running Golang parser from C:\\Users\\nguye\\anaconda3\\envs\\envTF24\\lib\\site-packages\\csgo-1.0-py3.7.egg\\csgo\\parser\\\n",
      "22:39:39 [INFO] Looking for file at D:\\EDAV\\113\\fnatic-vs-gambit-map1-cache.dem\n"
     ]
    },
    {
     "name": "stdout",
     "output_type": "stream",
     "text": [
      "parsing    113 fnatic-vs-gambit-map1-cache.dem\n"
     ]
    },
    {
     "name": "stderr",
     "output_type": "stream",
     "text": [
      "22:39:44 [INFO] Wrote demo parse output to 113 fnatic-vs-gambit-map1-cache.json\n",
      "22:39:44 [INFO] Reading in JSON from 113 fnatic-vs-gambit-map1-cache.json\n",
      "22:39:45 [INFO] JSON data loaded, available in the `json` attribute to parser\n",
      "22:39:45 [INFO] Successfully parsed JSON output\n",
      "22:39:45 [INFO] Successfully returned JSON output\n",
      "22:39:51 [INFO] Go version>=1.14.0\n",
      "22:39:51 [INFO] Initialized CSGODemoParser with demofile D:\\EDAV\\113\\fnatic-vs-gambit-map2-overpass.dem\n",
      "22:39:51 [INFO] Setting demo id to 113 fnatic-vs-gambit-map2-overpass\n",
      "22:39:51 [INFO] Setting parse rate to 128\n",
      "22:39:51 [INFO] Setting trade time to 5\n",
      "22:39:51 [INFO] Setting buy style to hltv\n",
      "22:39:51 [INFO] Rollup damages set to False\n",
      "22:39:51 [INFO] Parse frames set to True\n",
      "22:39:51 [INFO] Running Golang parser from C:\\Users\\nguye\\anaconda3\\envs\\envTF24\\lib\\site-packages\\csgo-1.0-py3.7.egg\\csgo\\parser\\\n",
      "22:39:51 [INFO] Looking for file at D:\\EDAV\\113\\fnatic-vs-gambit-map2-overpass.dem\n"
     ]
    },
    {
     "name": "stdout",
     "output_type": "stream",
     "text": [
      "parsing    113 fnatic-vs-gambit-map2-overpass.dem\n"
     ]
    },
    {
     "name": "stderr",
     "output_type": "stream",
     "text": [
      "22:39:57 [INFO] Wrote demo parse output to 113 fnatic-vs-gambit-map2-overpass.json\n",
      "22:39:57 [INFO] Reading in JSON from 113 fnatic-vs-gambit-map2-overpass.json\n",
      "22:39:57 [INFO] JSON data loaded, available in the `json` attribute to parser\n",
      "22:39:57 [INFO] Successfully parsed JSON output\n",
      "22:39:57 [INFO] Successfully returned JSON output\n",
      "22:40:03 [INFO] Go version>=1.14.0\n",
      "22:40:03 [INFO] Initialized CSGODemoParser with demofile D:\\EDAV\\114\\mousesports-vs-nip-mirage.dem\n",
      "22:40:03 [INFO] Setting demo id to 114 mousesports-vs-nip-mirage\n",
      "22:40:03 [INFO] Setting parse rate to 128\n",
      "22:40:03 [INFO] Setting trade time to 5\n",
      "22:40:03 [INFO] Setting buy style to hltv\n",
      "22:40:03 [INFO] Rollup damages set to False\n",
      "22:40:03 [INFO] Parse frames set to True\n",
      "22:40:03 [INFO] Running Golang parser from C:\\Users\\nguye\\anaconda3\\envs\\envTF24\\lib\\site-packages\\csgo-1.0-py3.7.egg\\csgo\\parser\\\n",
      "22:40:03 [INFO] Looking for file at D:\\EDAV\\114\\mousesports-vs-nip-mirage.dem\n"
     ]
    },
    {
     "name": "stdout",
     "output_type": "stream",
     "text": [
      "parsing    114 mousesports-vs-nip-mirage.dem\n"
     ]
    },
    {
     "name": "stderr",
     "output_type": "stream",
     "text": [
      "22:40:09 [INFO] Wrote demo parse output to 114 mousesports-vs-nip-mirage.json\n",
      "22:40:09 [INFO] Reading in JSON from 114 mousesports-vs-nip-mirage.json\n",
      "22:40:09 [INFO] JSON data loaded, available in the `json` attribute to parser\n",
      "22:40:09 [INFO] Successfully parsed JSON output\n",
      "22:40:09 [INFO] Successfully returned JSON output\n",
      "22:40:17 [INFO] Go version>=1.14.0\n",
      "22:40:17 [INFO] Initialized CSGODemoParser with demofile D:\\EDAV\\115\\ESLOneCologne2015-envyus-vs-flipsid3-inferno-1.dem\n",
      "22:40:17 [INFO] Setting demo id to 115 ESLOneCologne2015-envyus-vs-flipsid3-inferno-1\n",
      "22:40:17 [INFO] Setting parse rate to 128\n",
      "22:40:17 [INFO] Setting trade time to 5\n",
      "22:40:17 [INFO] Setting buy style to hltv\n",
      "22:40:17 [INFO] Rollup damages set to False\n",
      "22:40:17 [INFO] Parse frames set to True\n",
      "22:40:17 [INFO] Running Golang parser from C:\\Users\\nguye\\anaconda3\\envs\\envTF24\\lib\\site-packages\\csgo-1.0-py3.7.egg\\csgo\\parser\\\n",
      "22:40:17 [INFO] Looking for file at D:\\EDAV\\115\\ESLOneCologne2015-envyus-vs-flipsid3-inferno-1.dem\n"
     ]
    },
    {
     "name": "stdout",
     "output_type": "stream",
     "text": [
      "parsing    115 ESLOneCologne2015-envyus-vs-flipsid3-inferno-1.dem\n"
     ]
    },
    {
     "name": "stderr",
     "output_type": "stream",
     "text": [
      "22:40:19 [INFO] Wrote demo parse output to 115 ESLOneCologne2015-envyus-vs-flipsid3-inferno-1.json\n",
      "22:40:19 [INFO] Reading in JSON from 115 ESLOneCologne2015-envyus-vs-flipsid3-inferno-1.json\n",
      "22:40:20 [INFO] JSON data loaded, available in the `json` attribute to parser\n",
      "22:40:20 [INFO] Successfully parsed JSON output\n",
      "22:40:20 [INFO] Successfully returned JSON output\n",
      "22:40:21 [INFO] Go version>=1.14.0\n",
      "22:40:21 [INFO] Initialized CSGODemoParser with demofile D:\\EDAV\\116\\ESLOneCologne-SF-fnatic-vs-dignitas-overpass.dem\n",
      "22:40:21 [INFO] Setting demo id to 116 ESLOneCologne-SF-fnatic-vs-dignitas-overpass\n",
      "22:40:21 [INFO] Setting parse rate to 128\n",
      "22:40:21 [INFO] Setting trade time to 5\n",
      "22:40:21 [INFO] Setting buy style to hltv\n",
      "22:40:21 [INFO] Rollup damages set to False\n",
      "22:40:21 [INFO] Parse frames set to True\n",
      "22:40:21 [INFO] Running Golang parser from C:\\Users\\nguye\\anaconda3\\envs\\envTF24\\lib\\site-packages\\csgo-1.0-py3.7.egg\\csgo\\parser\\\n",
      "22:40:21 [INFO] Looking for file at D:\\EDAV\\116\\ESLOneCologne-SF-fnatic-vs-dignitas-overpass.dem\n"
     ]
    },
    {
     "name": "stdout",
     "output_type": "stream",
     "text": [
      "parsing    116 ESLOneCologne-SF-fnatic-vs-dignitas-overpass.dem\n"
     ]
    },
    {
     "name": "stderr",
     "output_type": "stream",
     "text": [
      "22:40:24 [INFO] Wrote demo parse output to 116 ESLOneCologne-SF-fnatic-vs-dignitas-overpass.json\n",
      "22:40:24 [INFO] Reading in JSON from 116 ESLOneCologne-SF-fnatic-vs-dignitas-overpass.json\n",
      "22:40:24 [INFO] JSON data loaded, available in the `json` attribute to parser\n",
      "22:40:24 [INFO] Successfully parsed JSON output\n",
      "22:40:24 [INFO] Successfully returned JSON output\n",
      "22:40:26 [INFO] Go version>=1.14.0\n",
      "22:40:26 [INFO] Initialized CSGODemoParser with demofile D:\\EDAV\\116\\ESLOneCologne-SF-fnatic-vs-dignitas-dust2.dem\n",
      "22:40:26 [INFO] Setting demo id to 116 ESLOneCologne-SF-fnatic-vs-dignitas-dust2\n",
      "22:40:26 [INFO] Setting parse rate to 128\n",
      "22:40:26 [INFO] Setting trade time to 5\n",
      "22:40:26 [INFO] Setting buy style to hltv\n",
      "22:40:26 [INFO] Rollup damages set to False\n",
      "22:40:26 [INFO] Parse frames set to True\n",
      "22:40:26 [INFO] Running Golang parser from C:\\Users\\nguye\\anaconda3\\envs\\envTF24\\lib\\site-packages\\csgo-1.0-py3.7.egg\\csgo\\parser\\\n",
      "22:40:26 [INFO] Looking for file at D:\\EDAV\\116\\ESLOneCologne-SF-fnatic-vs-dignitas-dust2.dem\n"
     ]
    },
    {
     "name": "stdout",
     "output_type": "stream",
     "text": [
      "parsing    116 ESLOneCologne-SF-fnatic-vs-dignitas-dust2.dem\n"
     ]
    },
    {
     "name": "stderr",
     "output_type": "stream",
     "text": [
      "22:40:28 [INFO] Wrote demo parse output to 116 ESLOneCologne-SF-fnatic-vs-dignitas-dust2.json\n",
      "22:40:28 [INFO] Reading in JSON from 116 ESLOneCologne-SF-fnatic-vs-dignitas-dust2.json\n",
      "22:40:28 [INFO] JSON data loaded, available in the `json` attribute to parser\n",
      "22:40:28 [INFO] Successfully parsed JSON output\n",
      "22:40:28 [INFO] Successfully returned JSON output\n",
      "22:40:29 [INFO] Go version>=1.14.0\n",
      "22:40:29 [INFO] Initialized CSGODemoParser with demofile D:\\EDAV\\117\\003105714961536516196_1827256016_1_mousesports_vs_g2_mirage.dem\n",
      "22:40:29 [INFO] Setting demo id to 117 003105714961536516196_1827256016_1_mousesports_vs_g2_mirage\n",
      "22:40:29 [INFO] Setting parse rate to 128\n",
      "22:40:29 [INFO] Setting trade time to 5\n",
      "22:40:29 [INFO] Setting buy style to hltv\n",
      "22:40:29 [INFO] Rollup damages set to False\n",
      "22:40:29 [INFO] Parse frames set to True\n",
      "22:40:29 [INFO] Running Golang parser from C:\\Users\\nguye\\anaconda3\\envs\\envTF24\\lib\\site-packages\\csgo-1.0-py3.7.egg\\csgo\\parser\\\n",
      "22:40:29 [INFO] Looking for file at D:\\EDAV\\117\\003105714961536516196_1827256016_1_mousesports_vs_g2_mirage.dem\n"
     ]
    },
    {
     "name": "stdout",
     "output_type": "stream",
     "text": [
      "parsing    117 003105714961536516196_1827256016_1_mousesports_vs_g2_mirage.dem\n"
     ]
    },
    {
     "name": "stderr",
     "output_type": "stream",
     "text": [
      "22:40:35 [INFO] Wrote demo parse output to 117 003105714961536516196_1827256016_1_mousesports_vs_g2_mirage.json\n",
      "22:40:35 [INFO] Reading in JSON from 117 003105714961536516196_1827256016_1_mousesports_vs_g2_mirage.json\n",
      "22:40:35 [INFO] JSON data loaded, available in the `json` attribute to parser\n",
      "22:40:35 [INFO] Successfully parsed JSON output\n",
      "22:40:35 [INFO] Successfully returned JSON output\n",
      "22:40:46 [INFO] Go version>=1.14.0\n",
      "22:40:46 [INFO] Initialized CSGODemoParser with demofile D:\\EDAV\\117\\003105724614475514016_1321533067_1_mousesports_vs_g2_inferno.dem\n",
      "22:40:46 [INFO] Setting demo id to 117 003105724614475514016_1321533067_1_mousesports_vs_g2_inferno\n",
      "22:40:46 [INFO] Setting parse rate to 128\n",
      "22:40:46 [INFO] Setting trade time to 5\n",
      "22:40:46 [INFO] Setting buy style to hltv\n",
      "22:40:46 [INFO] Rollup damages set to False\n",
      "22:40:46 [INFO] Parse frames set to True\n",
      "22:40:46 [INFO] Running Golang parser from C:\\Users\\nguye\\anaconda3\\envs\\envTF24\\lib\\site-packages\\csgo-1.0-py3.7.egg\\csgo\\parser\\\n",
      "22:40:46 [INFO] Looking for file at D:\\EDAV\\117\\003105724614475514016_1321533067_1_mousesports_vs_g2_inferno.dem\n"
     ]
    },
    {
     "name": "stdout",
     "output_type": "stream",
     "text": [
      "parsing    117 003105724614475514016_1321533067_1_mousesports_vs_g2_inferno.dem\n"
     ]
    },
    {
     "name": "stderr",
     "output_type": "stream",
     "text": [
      "22:40:51 [INFO] Wrote demo parse output to 117 003105724614475514016_1321533067_1_mousesports_vs_g2_inferno.json\n",
      "22:40:51 [INFO] Reading in JSON from 117 003105724614475514016_1321533067_1_mousesports_vs_g2_inferno.json\n",
      "22:40:52 [INFO] JSON data loaded, available in the `json` attribute to parser\n",
      "22:40:52 [INFO] Successfully parsed JSON output\n",
      "22:40:52 [INFO] Successfully returned JSON output\n",
      "22:41:00 [INFO] Go version>=1.14.0\n",
      "22:41:00 [INFO] Initialized CSGODemoParser with demofile D:\\EDAV\\117\\003105733442780791103_1310212764_1_mousesports_vs_g2_cache.dem\n",
      "22:41:00 [INFO] Setting demo id to 117 003105733442780791103_1310212764_1_mousesports_vs_g2_cache\n",
      "22:41:00 [INFO] Setting parse rate to 128\n",
      "22:41:00 [INFO] Setting trade time to 5\n",
      "22:41:00 [INFO] Setting buy style to hltv\n",
      "22:41:00 [INFO] Rollup damages set to False\n",
      "22:41:00 [INFO] Parse frames set to True\n",
      "22:41:00 [INFO] Running Golang parser from C:\\Users\\nguye\\anaconda3\\envs\\envTF24\\lib\\site-packages\\csgo-1.0-py3.7.egg\\csgo\\parser\\\n",
      "22:41:00 [INFO] Looking for file at D:\\EDAV\\117\\003105733442780791103_1310212764_1_mousesports_vs_g2_cache.dem\n"
     ]
    },
    {
     "name": "stdout",
     "output_type": "stream",
     "text": [
      "parsing    117 003105733442780791103_1310212764_1_mousesports_vs_g2_cache.dem\n"
     ]
    },
    {
     "name": "stderr",
     "output_type": "stream",
     "text": [
      "22:41:05 [INFO] Wrote demo parse output to 117 003105733442780791103_1310212764_1_mousesports_vs_g2_cache.json\n",
      "22:41:05 [INFO] Reading in JSON from 117 003105733442780791103_1310212764_1_mousesports_vs_g2_cache.json\n",
      "22:41:05 [INFO] JSON data loaded, available in the `json` attribute to parser\n",
      "22:41:05 [INFO] Successfully parsed JSON output\n",
      "22:41:05 [INFO] Successfully returned JSON output\n",
      "22:41:10 [INFO] Go version>=1.14.0\n",
      "22:41:10 [INFO] Initialized CSGODemoParser with demofile D:\\EDAV\\118\\mibr-vs-nip-dust2.dem\n",
      "22:41:10 [INFO] Setting demo id to 118 mibr-vs-nip-dust2\n",
      "22:41:10 [INFO] Setting parse rate to 128\n",
      "22:41:10 [INFO] Setting trade time to 5\n",
      "22:41:10 [INFO] Setting buy style to hltv\n",
      "22:41:10 [INFO] Rollup damages set to False\n",
      "22:41:10 [INFO] Parse frames set to True\n",
      "22:41:10 [INFO] Running Golang parser from C:\\Users\\nguye\\anaconda3\\envs\\envTF24\\lib\\site-packages\\csgo-1.0-py3.7.egg\\csgo\\parser\\\n",
      "22:41:10 [INFO] Looking for file at D:\\EDAV\\118\\mibr-vs-nip-dust2.dem\n"
     ]
    },
    {
     "name": "stdout",
     "output_type": "stream",
     "text": [
      "parsing    118 mibr-vs-nip-dust2.dem\n"
     ]
    },
    {
     "name": "stderr",
     "output_type": "stream",
     "text": [
      "22:41:16 [INFO] Wrote demo parse output to 118 mibr-vs-nip-dust2.json\n",
      "22:41:16 [INFO] Reading in JSON from 118 mibr-vs-nip-dust2.json\n",
      "22:41:16 [INFO] JSON data loaded, available in the `json` attribute to parser\n",
      "22:41:16 [INFO] Successfully parsed JSON output\n",
      "22:41:16 [INFO] Successfully returned JSON output\n",
      "22:41:24 [INFO] Go version>=1.14.0\n",
      "22:41:24 [INFO] Initialized CSGODemoParser with demofile D:\\EDAV\\119\\astralis-vs-g2-train.dem\n",
      "22:41:24 [INFO] Setting demo id to 119 astralis-vs-g2-train\n",
      "22:41:24 [INFO] Setting parse rate to 128\n",
      "22:41:24 [INFO] Setting trade time to 5\n",
      "22:41:24 [INFO] Setting buy style to hltv\n",
      "22:41:24 [INFO] Rollup damages set to False\n",
      "22:41:24 [INFO] Parse frames set to True\n",
      "22:41:24 [INFO] Running Golang parser from C:\\Users\\nguye\\anaconda3\\envs\\envTF24\\lib\\site-packages\\csgo-1.0-py3.7.egg\\csgo\\parser\\\n",
      "22:41:24 [INFO] Looking for file at D:\\EDAV\\119\\astralis-vs-g2-train.dem\n"
     ]
    },
    {
     "name": "stdout",
     "output_type": "stream",
     "text": [
      "parsing    119 astralis-vs-g2-train.dem\n"
     ]
    },
    {
     "name": "stderr",
     "output_type": "stream",
     "text": [
      "22:41:28 [INFO] Wrote demo parse output to 119 astralis-vs-g2-train.json\n",
      "22:41:28 [INFO] Reading in JSON from 119 astralis-vs-g2-train.json\n",
      "22:41:28 [INFO] JSON data loaded, available in the `json` attribute to parser\n",
      "22:41:28 [INFO] Successfully parsed JSON output\n",
      "22:41:28 [INFO] Successfully returned JSON output\n",
      "22:41:34 [INFO] Go version>=1.14.0\n",
      "22:41:34 [INFO] Initialized CSGODemoParser with demofile D:\\EDAV\\120\\g2-vs-faze-m1-mirage.dem\n",
      "22:41:34 [INFO] Setting demo id to 120 g2-vs-faze-m1-mirage\n",
      "22:41:34 [INFO] Setting parse rate to 128\n",
      "22:41:34 [INFO] Setting trade time to 5\n",
      "22:41:34 [INFO] Setting buy style to hltv\n",
      "22:41:34 [INFO] Rollup damages set to False\n",
      "22:41:34 [INFO] Parse frames set to True\n",
      "22:41:34 [INFO] Running Golang parser from C:\\Users\\nguye\\anaconda3\\envs\\envTF24\\lib\\site-packages\\csgo-1.0-py3.7.egg\\csgo\\parser\\\n",
      "22:41:34 [INFO] Looking for file at D:\\EDAV\\120\\g2-vs-faze-m1-mirage.dem\n"
     ]
    },
    {
     "name": "stdout",
     "output_type": "stream",
     "text": [
      "parsing    120 g2-vs-faze-m1-mirage.dem\n"
     ]
    },
    {
     "name": "stderr",
     "output_type": "stream",
     "text": [
      "22:41:38 [INFO] Wrote demo parse output to 120 g2-vs-faze-m1-mirage.json\n",
      "22:41:38 [INFO] Reading in JSON from 120 g2-vs-faze-m1-mirage.json\n",
      "22:41:38 [INFO] JSON data loaded, available in the `json` attribute to parser\n",
      "22:41:38 [INFO] Successfully parsed JSON output\n",
      "22:41:38 [INFO] Successfully returned JSON output\n",
      "22:41:44 [INFO] Go version>=1.14.0\n",
      "22:41:44 [INFO] Initialized CSGODemoParser with demofile D:\\EDAV\\120\\g2-vs-faze-m2-dust2.dem\n",
      "22:41:44 [INFO] Setting demo id to 120 g2-vs-faze-m2-dust2\n",
      "22:41:44 [INFO] Setting parse rate to 128\n",
      "22:41:44 [INFO] Setting trade time to 5\n",
      "22:41:44 [INFO] Setting buy style to hltv\n",
      "22:41:44 [INFO] Rollup damages set to False\n",
      "22:41:44 [INFO] Parse frames set to True\n",
      "22:41:44 [INFO] Running Golang parser from C:\\Users\\nguye\\anaconda3\\envs\\envTF24\\lib\\site-packages\\csgo-1.0-py3.7.egg\\csgo\\parser\\\n",
      "22:41:44 [INFO] Looking for file at D:\\EDAV\\120\\g2-vs-faze-m2-dust2.dem\n"
     ]
    },
    {
     "name": "stdout",
     "output_type": "stream",
     "text": [
      "parsing    120 g2-vs-faze-m2-dust2.dem\n"
     ]
    },
    {
     "name": "stderr",
     "output_type": "stream",
     "text": [
      "22:41:52 [INFO] Wrote demo parse output to 120 g2-vs-faze-m2-dust2.json\n",
      "22:41:52 [INFO] Reading in JSON from 120 g2-vs-faze-m2-dust2.json\n",
      "22:41:53 [INFO] JSON data loaded, available in the `json` attribute to parser\n",
      "22:41:53 [INFO] Successfully parsed JSON output\n",
      "22:41:53 [INFO] Successfully returned JSON output\n",
      "22:42:08 [INFO] Go version>=1.14.0\n",
      "22:42:08 [INFO] Initialized CSGODemoParser with demofile D:\\EDAV\\121\\virtuspro-vs-vega-squadron-nuke.dem\n",
      "22:42:08 [INFO] Setting demo id to 121 virtuspro-vs-vega-squadron-nuke\n",
      "22:42:08 [INFO] Setting parse rate to 128\n",
      "22:42:08 [INFO] Setting trade time to 5\n",
      "22:42:08 [INFO] Setting buy style to hltv\n",
      "22:42:08 [INFO] Rollup damages set to False\n",
      "22:42:08 [INFO] Parse frames set to True\n",
      "22:42:08 [INFO] Running Golang parser from C:\\Users\\nguye\\anaconda3\\envs\\envTF24\\lib\\site-packages\\csgo-1.0-py3.7.egg\\csgo\\parser\\\n",
      "22:42:08 [INFO] Looking for file at D:\\EDAV\\121\\virtuspro-vs-vega-squadron-nuke.dem\n"
     ]
    },
    {
     "name": "stdout",
     "output_type": "stream",
     "text": [
      "parsing    121 virtuspro-vs-vega-squadron-nuke.dem\n"
     ]
    },
    {
     "name": "stderr",
     "output_type": "stream",
     "text": [
      "22:42:12 [INFO] Wrote demo parse output to 121 virtuspro-vs-vega-squadron-nuke.json\n",
      "22:42:12 [INFO] Reading in JSON from 121 virtuspro-vs-vega-squadron-nuke.json\n",
      "22:42:12 [INFO] JSON data loaded, available in the `json` attribute to parser\n",
      "22:42:12 [INFO] Successfully parsed JSON output\n",
      "22:42:12 [INFO] Successfully returned JSON output\n",
      "22:42:17 [INFO] Go version>=1.14.0\n",
      "22:42:17 [INFO] Initialized CSGODemoParser with demofile D:\\EDAV\\122\\Semifinal_NaVi_NiP_SF_train.dem\n",
      "22:42:17 [INFO] Setting demo id to 122 Semifinal_NaVi_NiP_SF_train\n",
      "22:42:17 [INFO] Setting parse rate to 128\n",
      "22:42:17 [INFO] Setting trade time to 5\n",
      "22:42:17 [INFO] Setting buy style to hltv\n",
      "22:42:17 [INFO] Rollup damages set to False\n",
      "22:42:17 [INFO] Parse frames set to True\n",
      "22:42:17 [INFO] Running Golang parser from C:\\Users\\nguye\\anaconda3\\envs\\envTF24\\lib\\site-packages\\csgo-1.0-py3.7.egg\\csgo\\parser\\\n",
      "22:42:17 [INFO] Looking for file at D:\\EDAV\\122\\Semifinal_NaVi_NiP_SF_train.dem\n"
     ]
    },
    {
     "name": "stdout",
     "output_type": "stream",
     "text": [
      "parsing    122 Semifinal_NaVi_NiP_SF_train.dem\n"
     ]
    },
    {
     "name": "stderr",
     "output_type": "stream",
     "text": [
      "22:42:20 [INFO] Wrote demo parse output to 122 Semifinal_NaVi_NiP_SF_train.json\n",
      "22:42:20 [INFO] Reading in JSON from 122 Semifinal_NaVi_NiP_SF_train.json\n",
      "22:42:21 [INFO] JSON data loaded, available in the `json` attribute to parser\n",
      "22:42:21 [INFO] Successfully parsed JSON output\n",
      "22:42:21 [INFO] Successfully returned JSON output\n",
      "22:42:26 [INFO] Go version>=1.14.0\n",
      "22:42:26 [INFO] Initialized CSGODemoParser with demofile D:\\EDAV\\122\\Semifinal_NaVi_NiP_SF_dust2.dem\n",
      "22:42:26 [INFO] Setting demo id to 122 Semifinal_NaVi_NiP_SF_dust2\n",
      "22:42:26 [INFO] Setting parse rate to 128\n",
      "22:42:26 [INFO] Setting trade time to 5\n",
      "22:42:26 [INFO] Setting buy style to hltv\n",
      "22:42:26 [INFO] Rollup damages set to False\n",
      "22:42:26 [INFO] Parse frames set to True\n",
      "22:42:26 [INFO] Running Golang parser from C:\\Users\\nguye\\anaconda3\\envs\\envTF24\\lib\\site-packages\\csgo-1.0-py3.7.egg\\csgo\\parser\\\n",
      "22:42:26 [INFO] Looking for file at D:\\EDAV\\122\\Semifinal_NaVi_NiP_SF_dust2.dem\n"
     ]
    },
    {
     "name": "stdout",
     "output_type": "stream",
     "text": [
      "parsing    122 Semifinal_NaVi_NiP_SF_dust2.dem\n"
     ]
    },
    {
     "name": "stderr",
     "output_type": "stream",
     "text": [
      "22:42:30 [INFO] Wrote demo parse output to 122 Semifinal_NaVi_NiP_SF_dust2.json\n",
      "22:42:30 [INFO] Reading in JSON from 122 Semifinal_NaVi_NiP_SF_dust2.json\n",
      "22:42:30 [INFO] JSON data loaded, available in the `json` attribute to parser\n",
      "22:42:30 [INFO] Successfully parsed JSON output\n",
      "22:42:30 [INFO] Successfully returned JSON output\n",
      "22:42:36 [INFO] Go version>=1.14.0\n",
      "22:42:36 [INFO] Initialized CSGODemoParser with demofile D:\\EDAV\\123\\ESLOneCologne2015-nip-vs-renegades-inferno-1.dem\n",
      "22:42:36 [INFO] Setting demo id to 123 ESLOneCologne2015-nip-vs-renegades-inferno-1\n",
      "22:42:36 [INFO] Setting parse rate to 128\n",
      "22:42:36 [INFO] Setting trade time to 5\n",
      "22:42:36 [INFO] Setting buy style to hltv\n",
      "22:42:36 [INFO] Rollup damages set to False\n",
      "22:42:36 [INFO] Parse frames set to True\n",
      "22:42:36 [INFO] Running Golang parser from C:\\Users\\nguye\\anaconda3\\envs\\envTF24\\lib\\site-packages\\csgo-1.0-py3.7.egg\\csgo\\parser\\\n",
      "22:42:36 [INFO] Looking for file at D:\\EDAV\\123\\ESLOneCologne2015-nip-vs-renegades-inferno-1.dem\n"
     ]
    },
    {
     "name": "stdout",
     "output_type": "stream",
     "text": [
      "parsing    123 ESLOneCologne2015-nip-vs-renegades-inferno-1.dem\n"
     ]
    },
    {
     "name": "stderr",
     "output_type": "stream",
     "text": [
      "22:42:38 [INFO] Wrote demo parse output to 123 ESLOneCologne2015-nip-vs-renegades-inferno-1.json\n",
      "22:42:38 [INFO] Reading in JSON from 123 ESLOneCologne2015-nip-vs-renegades-inferno-1.json\n",
      "22:42:38 [INFO] JSON data loaded, available in the `json` attribute to parser\n",
      "22:42:38 [INFO] Successfully parsed JSON output\n",
      "22:42:38 [INFO] Successfully returned JSON output\n",
      "22:42:39 [INFO] Go version>=1.14.0\n",
      "22:42:39 [INFO] Initialized CSGODemoParser with demofile D:\\EDAV\\124\\big-vs-north-cbble.dem\n",
      "22:42:39 [INFO] Setting demo id to 124 big-vs-north-cbble\n",
      "22:42:39 [INFO] Setting parse rate to 128\n",
      "22:42:39 [INFO] Setting trade time to 5\n",
      "22:42:39 [INFO] Setting buy style to hltv\n",
      "22:42:39 [INFO] Rollup damages set to False\n",
      "22:42:39 [INFO] Parse frames set to True\n",
      "22:42:39 [INFO] Running Golang parser from C:\\Users\\nguye\\anaconda3\\envs\\envTF24\\lib\\site-packages\\csgo-1.0-py3.7.egg\\csgo\\parser\\\n",
      "22:42:39 [INFO] Looking for file at D:\\EDAV\\124\\big-vs-north-cbble.dem\n"
     ]
    },
    {
     "name": "stdout",
     "output_type": "stream",
     "text": [
      "parsing    124 big-vs-north-cbble.dem\n"
     ]
    },
    {
     "name": "stderr",
     "output_type": "stream",
     "text": [
      "22:42:45 [INFO] Wrote demo parse output to 124 big-vs-north-cbble.json\n",
      "22:42:45 [INFO] Reading in JSON from 124 big-vs-north-cbble.json\n",
      "22:42:45 [INFO] JSON data loaded, available in the `json` attribute to parser\n",
      "22:42:45 [INFO] Successfully parsed JSON output\n",
      "22:42:45 [INFO] Successfully returned JSON output\n",
      "22:42:53 [INFO] Go version>=1.14.0\n",
      "22:42:53 [INFO] Initialized CSGODemoParser with demofile D:\\EDAV\\125\\tyloo-vs-faze-mirage.dem\n",
      "22:42:53 [INFO] Setting demo id to 125 tyloo-vs-faze-mirage\n",
      "22:42:53 [INFO] Setting parse rate to 128\n",
      "22:42:53 [INFO] Setting trade time to 5\n",
      "22:42:53 [INFO] Setting buy style to hltv\n",
      "22:42:53 [INFO] Rollup damages set to False\n",
      "22:42:53 [INFO] Parse frames set to True\n",
      "22:42:53 [INFO] Running Golang parser from C:\\Users\\nguye\\anaconda3\\envs\\envTF24\\lib\\site-packages\\csgo-1.0-py3.7.egg\\csgo\\parser\\\n",
      "22:42:53 [INFO] Looking for file at D:\\EDAV\\125\\tyloo-vs-faze-mirage.dem\n"
     ]
    },
    {
     "name": "stdout",
     "output_type": "stream",
     "text": [
      "parsing    125 tyloo-vs-faze-mirage.dem\n"
     ]
    },
    {
     "name": "stderr",
     "output_type": "stream",
     "text": [
      "22:42:57 [INFO] Wrote demo parse output to 125 tyloo-vs-faze-mirage.json\n",
      "22:42:57 [INFO] Reading in JSON from 125 tyloo-vs-faze-mirage.json\n",
      "22:42:57 [INFO] JSON data loaded, available in the `json` attribute to parser\n",
      "22:42:57 [INFO] Successfully parsed JSON output\n",
      "22:42:57 [INFO] Successfully returned JSON output\n",
      "22:43:04 [INFO] Go version>=1.14.0\n",
      "22:43:04 [INFO] Initialized CSGODemoParser with demofile D:\\EDAV\\126\\faze-vs-renegades-inferno.dem\n",
      "22:43:04 [INFO] Setting demo id to 126 faze-vs-renegades-inferno\n",
      "22:43:04 [INFO] Setting parse rate to 128\n",
      "22:43:04 [INFO] Setting trade time to 5\n",
      "22:43:04 [INFO] Setting buy style to hltv\n",
      "22:43:04 [INFO] Rollup damages set to False\n",
      "22:43:04 [INFO] Parse frames set to True\n",
      "22:43:04 [INFO] Running Golang parser from C:\\Users\\nguye\\anaconda3\\envs\\envTF24\\lib\\site-packages\\csgo-1.0-py3.7.egg\\csgo\\parser\\\n",
      "22:43:04 [INFO] Looking for file at D:\\EDAV\\126\\faze-vs-renegades-inferno.dem\n"
     ]
    },
    {
     "name": "stdout",
     "output_type": "stream",
     "text": [
      "parsing    126 faze-vs-renegades-inferno.dem\n"
     ]
    },
    {
     "name": "stderr",
     "output_type": "stream",
     "text": [
      "22:43:10 [INFO] Wrote demo parse output to 126 faze-vs-renegades-inferno.json\n",
      "22:43:10 [INFO] Reading in JSON from 126 faze-vs-renegades-inferno.json\n",
      "22:43:11 [INFO] JSON data loaded, available in the `json` attribute to parser\n",
      "22:43:11 [INFO] Successfully parsed JSON output\n",
      "22:43:11 [INFO] Successfully returned JSON output\n",
      "22:43:21 [INFO] Go version>=1.14.0\n",
      "22:43:21 [INFO] Initialized CSGODemoParser with demofile D:\\EDAV\\127\\flipsid3-vs-liquid-overpass.dem\n",
      "22:43:21 [INFO] Setting demo id to 127 flipsid3-vs-liquid-overpass\n",
      "22:43:21 [INFO] Setting parse rate to 128\n",
      "22:43:21 [INFO] Setting trade time to 5\n",
      "22:43:21 [INFO] Setting buy style to hltv\n",
      "22:43:21 [INFO] Rollup damages set to False\n",
      "22:43:21 [INFO] Parse frames set to True\n",
      "22:43:21 [INFO] Running Golang parser from C:\\Users\\nguye\\anaconda3\\envs\\envTF24\\lib\\site-packages\\csgo-1.0-py3.7.egg\\csgo\\parser\\\n",
      "22:43:21 [INFO] Looking for file at D:\\EDAV\\127\\flipsid3-vs-liquid-overpass.dem\n"
     ]
    },
    {
     "name": "stdout",
     "output_type": "stream",
     "text": [
      "parsing    127 flipsid3-vs-liquid-overpass.dem\n"
     ]
    },
    {
     "name": "stderr",
     "output_type": "stream",
     "text": [
      "22:43:29 [INFO] Wrote demo parse output to 127 flipsid3-vs-liquid-overpass.json\n",
      "22:43:29 [INFO] Reading in JSON from 127 flipsid3-vs-liquid-overpass.json\n",
      "22:43:29 [INFO] JSON data loaded, available in the `json` attribute to parser\n",
      "22:43:29 [INFO] Successfully parsed JSON output\n",
      "22:43:29 [INFO] Successfully returned JSON output\n",
      "22:43:40 [INFO] Go version>=1.14.0\n",
      "22:43:40 [INFO] Initialized CSGODemoParser with demofile D:\\EDAV\\128\\renegades-vs-vitality-m3-inferno.dem\n",
      "22:43:40 [INFO] Setting demo id to 128 renegades-vs-vitality-m3-inferno\n",
      "22:43:40 [INFO] Setting parse rate to 128\n",
      "22:43:40 [INFO] Setting trade time to 5\n",
      "22:43:40 [INFO] Setting buy style to hltv\n",
      "22:43:40 [INFO] Rollup damages set to False\n",
      "22:43:40 [INFO] Parse frames set to True\n",
      "22:43:40 [INFO] Running Golang parser from C:\\Users\\nguye\\anaconda3\\envs\\envTF24\\lib\\site-packages\\csgo-1.0-py3.7.egg\\csgo\\parser\\\n",
      "22:43:40 [INFO] Looking for file at D:\\EDAV\\128\\renegades-vs-vitality-m3-inferno.dem\n"
     ]
    },
    {
     "name": "stdout",
     "output_type": "stream",
     "text": [
      "parsing    128 renegades-vs-vitality-m3-inferno.dem\n"
     ]
    },
    {
     "name": "stderr",
     "output_type": "stream",
     "text": [
      "22:43:46 [INFO] Wrote demo parse output to 128 renegades-vs-vitality-m3-inferno.json\n",
      "22:43:46 [INFO] Reading in JSON from 128 renegades-vs-vitality-m3-inferno.json\n",
      "22:43:47 [INFO] JSON data loaded, available in the `json` attribute to parser\n",
      "22:43:47 [INFO] Successfully parsed JSON output\n",
      "22:43:47 [INFO] Successfully returned JSON output\n",
      "22:43:57 [INFO] Go version>=1.14.0\n",
      "22:43:57 [INFO] Initialized CSGODemoParser with demofile D:\\EDAV\\128\\renegades-vs-vitality-m1-dust2.dem\n",
      "22:43:57 [INFO] Setting demo id to 128 renegades-vs-vitality-m1-dust2\n",
      "22:43:57 [INFO] Setting parse rate to 128\n",
      "22:43:57 [INFO] Setting trade time to 5\n",
      "22:43:57 [INFO] Setting buy style to hltv\n",
      "22:43:57 [INFO] Rollup damages set to False\n",
      "22:43:57 [INFO] Parse frames set to True\n",
      "22:43:57 [INFO] Running Golang parser from C:\\Users\\nguye\\anaconda3\\envs\\envTF24\\lib\\site-packages\\csgo-1.0-py3.7.egg\\csgo\\parser\\\n",
      "22:43:57 [INFO] Looking for file at D:\\EDAV\\128\\renegades-vs-vitality-m1-dust2.dem\n"
     ]
    },
    {
     "name": "stdout",
     "output_type": "stream",
     "text": [
      "parsing    128 renegades-vs-vitality-m1-dust2.dem\n"
     ]
    },
    {
     "name": "stderr",
     "output_type": "stream",
     "text": [
      "22:44:01 [INFO] Wrote demo parse output to 128 renegades-vs-vitality-m1-dust2.json\n",
      "22:44:01 [INFO] Reading in JSON from 128 renegades-vs-vitality-m1-dust2.json\n",
      "22:44:02 [INFO] JSON data loaded, available in the `json` attribute to parser\n",
      "22:44:02 [INFO] Successfully parsed JSON output\n",
      "22:44:02 [INFO] Successfully returned JSON output\n",
      "22:44:08 [INFO] Go version>=1.14.0\n",
      "22:44:08 [INFO] Initialized CSGODemoParser with demofile D:\\EDAV\\128\\renegades-vs-vitality-m2-cache.dem\n",
      "22:44:08 [INFO] Setting demo id to 128 renegades-vs-vitality-m2-cache\n",
      "22:44:08 [INFO] Setting parse rate to 128\n",
      "22:44:08 [INFO] Setting trade time to 5\n",
      "22:44:08 [INFO] Setting buy style to hltv\n",
      "22:44:08 [INFO] Rollup damages set to False\n",
      "22:44:08 [INFO] Parse frames set to True\n",
      "22:44:08 [INFO] Running Golang parser from C:\\Users\\nguye\\anaconda3\\envs\\envTF24\\lib\\site-packages\\csgo-1.0-py3.7.egg\\csgo\\parser\\\n",
      "22:44:08 [INFO] Looking for file at D:\\EDAV\\128\\renegades-vs-vitality-m2-cache.dem\n"
     ]
    },
    {
     "name": "stdout",
     "output_type": "stream",
     "text": [
      "parsing    128 renegades-vs-vitality-m2-cache.dem\n"
     ]
    },
    {
     "name": "stderr",
     "output_type": "stream",
     "text": [
      "22:44:09 [INFO] Wrote demo parse output to 128 renegades-vs-vitality-m2-cache.json\n",
      "22:44:09 [INFO] Reading in JSON from 128 renegades-vs-vitality-m2-cache.json\n",
      "22:44:09 [INFO] JSON data loaded, available in the `json` attribute to parser\n",
      "22:44:09 [INFO] Successfully parsed JSON output\n",
      "22:44:09 [INFO] Successfully returned JSON output\n",
      "22:44:09 [ERROR] JSON not found. Run .parse()\n",
      "22:44:09 [INFO] Go version>=1.14.0\n",
      "22:44:09 [INFO] Initialized CSGODemoParser with demofile D:\\EDAV\\129\\faze-vs-big-dust2.dem\n",
      "22:44:09 [INFO] Setting demo id to 129 faze-vs-big-dust2\n",
      "22:44:09 [INFO] Setting parse rate to 128\n",
      "22:44:09 [INFO] Setting trade time to 5\n",
      "22:44:09 [INFO] Setting buy style to hltv\n",
      "22:44:09 [INFO] Rollup damages set to False\n",
      "22:44:09 [INFO] Parse frames set to True\n",
      "22:44:09 [INFO] Running Golang parser from C:\\Users\\nguye\\anaconda3\\envs\\envTF24\\lib\\site-packages\\csgo-1.0-py3.7.egg\\csgo\\parser\\\n",
      "22:44:09 [INFO] Looking for file at D:\\EDAV\\129\\faze-vs-big-dust2.dem\n"
     ]
    },
    {
     "name": "stdout",
     "output_type": "stream",
     "text": [
      "ERROR   128 renegades-vs-vitality-m2-cache\n",
      "parsing    129 faze-vs-big-dust2.dem\n"
     ]
    },
    {
     "name": "stderr",
     "output_type": "stream",
     "text": [
      "22:44:13 [INFO] Wrote demo parse output to 129 faze-vs-big-dust2.json\n",
      "22:44:13 [INFO] Reading in JSON from 129 faze-vs-big-dust2.json\n",
      "22:44:14 [INFO] JSON data loaded, available in the `json` attribute to parser\n",
      "22:44:14 [INFO] Successfully parsed JSON output\n",
      "22:44:14 [INFO] Successfully returned JSON output\n",
      "22:44:20 [INFO] Go version>=1.14.0\n",
      "22:44:20 [INFO] Initialized CSGODemoParser with demofile D:\\EDAV\\130\\natusvincere-vs-mousesports-cobblestone.dem\n",
      "22:44:20 [INFO] Setting demo id to 130 natusvincere-vs-mousesports-cobblestone\n",
      "22:44:20 [INFO] Setting parse rate to 128\n",
      "22:44:20 [INFO] Setting trade time to 5\n",
      "22:44:20 [INFO] Setting buy style to hltv\n",
      "22:44:20 [INFO] Rollup damages set to False\n",
      "22:44:20 [INFO] Parse frames set to True\n",
      "22:44:20 [INFO] Running Golang parser from C:\\Users\\nguye\\anaconda3\\envs\\envTF24\\lib\\site-packages\\csgo-1.0-py3.7.egg\\csgo\\parser\\\n",
      "22:44:20 [INFO] Looking for file at D:\\EDAV\\130\\natusvincere-vs-mousesports-cobblestone.dem\n"
     ]
    },
    {
     "name": "stdout",
     "output_type": "stream",
     "text": [
      "parsing    130 natusvincere-vs-mousesports-cobblestone.dem\n"
     ]
    },
    {
     "name": "stderr",
     "output_type": "stream",
     "text": [
      "22:44:24 [INFO] Wrote demo parse output to 130 natusvincere-vs-mousesports-cobblestone.json\n",
      "22:44:24 [INFO] Reading in JSON from 130 natusvincere-vs-mousesports-cobblestone.json\n",
      "22:44:24 [INFO] JSON data loaded, available in the `json` attribute to parser\n",
      "22:44:24 [INFO] Successfully parsed JSON output\n",
      "22:44:24 [INFO] Successfully returned JSON output\n",
      "22:44:30 [INFO] Go version>=1.14.0\n",
      "22:44:30 [INFO] Initialized CSGODemoParser with demofile D:\\EDAV\\131\\liquid-vs-astralis-mirage.dem\n",
      "22:44:30 [INFO] Setting demo id to 131 liquid-vs-astralis-mirage\n",
      "22:44:30 [INFO] Setting parse rate to 128\n",
      "22:44:30 [INFO] Setting trade time to 5\n",
      "22:44:30 [INFO] Setting buy style to hltv\n",
      "22:44:30 [INFO] Rollup damages set to False\n",
      "22:44:30 [INFO] Parse frames set to True\n",
      "22:44:30 [INFO] Running Golang parser from C:\\Users\\nguye\\anaconda3\\envs\\envTF24\\lib\\site-packages\\csgo-1.0-py3.7.egg\\csgo\\parser\\\n",
      "22:44:30 [INFO] Looking for file at D:\\EDAV\\131\\liquid-vs-astralis-mirage.dem\n"
     ]
    },
    {
     "name": "stdout",
     "output_type": "stream",
     "text": [
      "parsing    131 liquid-vs-astralis-mirage.dem\n"
     ]
    },
    {
     "name": "stderr",
     "output_type": "stream",
     "text": [
      "22:44:33 [INFO] Wrote demo parse output to 131 liquid-vs-astralis-mirage.json\n",
      "22:44:33 [INFO] Reading in JSON from 131 liquid-vs-astralis-mirage.json\n",
      "22:44:33 [INFO] JSON data loaded, available in the `json` attribute to parser\n",
      "22:44:33 [INFO] Successfully parsed JSON output\n",
      "22:44:33 [INFO] Successfully returned JSON output\n",
      "22:44:38 [INFO] Go version>=1.14.0\n",
      "22:44:38 [INFO] Initialized CSGODemoParser with demofile D:\\EDAV\\132\\astralis-vs-godsent-train.dem\n",
      "22:44:38 [INFO] Setting demo id to 132 astralis-vs-godsent-train\n",
      "22:44:38 [INFO] Setting parse rate to 128\n",
      "22:44:38 [INFO] Setting trade time to 5\n",
      "22:44:38 [INFO] Setting buy style to hltv\n",
      "22:44:38 [INFO] Rollup damages set to False\n",
      "22:44:38 [INFO] Parse frames set to True\n",
      "22:44:38 [INFO] Running Golang parser from C:\\Users\\nguye\\anaconda3\\envs\\envTF24\\lib\\site-packages\\csgo-1.0-py3.7.egg\\csgo\\parser\\\n",
      "22:44:38 [INFO] Looking for file at D:\\EDAV\\132\\astralis-vs-godsent-train.dem\n"
     ]
    },
    {
     "name": "stdout",
     "output_type": "stream",
     "text": [
      "parsing    132 astralis-vs-godsent-train.dem\n"
     ]
    },
    {
     "name": "stderr",
     "output_type": "stream",
     "text": [
      "22:44:42 [INFO] Wrote demo parse output to 132 astralis-vs-godsent-train.json\n",
      "22:44:42 [INFO] Reading in JSON from 132 astralis-vs-godsent-train.json\n",
      "22:44:42 [INFO] JSON data loaded, available in the `json` attribute to parser\n",
      "22:44:42 [INFO] Successfully parsed JSON output\n",
      "22:44:42 [INFO] Successfully returned JSON output\n",
      "22:44:48 [INFO] Go version>=1.14.0\n",
      "22:44:48 [INFO] Initialized CSGODemoParser with demofile D:\\EDAV\\133\\ESLOneKatowice2015-Groups-cloud9-vs-tsm-nuke.dem\n",
      "22:44:48 [INFO] Setting demo id to 133 ESLOneKatowice2015-Groups-cloud9-vs-tsm-nuke\n",
      "22:44:48 [INFO] Setting parse rate to 128\n",
      "22:44:48 [INFO] Setting trade time to 5\n",
      "22:44:48 [INFO] Setting buy style to hltv\n",
      "22:44:48 [INFO] Rollup damages set to False\n",
      "22:44:48 [INFO] Parse frames set to True\n",
      "22:44:48 [INFO] Running Golang parser from C:\\Users\\nguye\\anaconda3\\envs\\envTF24\\lib\\site-packages\\csgo-1.0-py3.7.egg\\csgo\\parser\\\n",
      "22:44:48 [INFO] Looking for file at D:\\EDAV\\133\\ESLOneKatowice2015-Groups-cloud9-vs-tsm-nuke.dem\n"
     ]
    },
    {
     "name": "stdout",
     "output_type": "stream",
     "text": [
      "parsing    133 ESLOneKatowice2015-Groups-cloud9-vs-tsm-nuke.dem\n"
     ]
    },
    {
     "name": "stderr",
     "output_type": "stream",
     "text": [
      "22:44:50 [INFO] Wrote demo parse output to 133 ESLOneKatowice2015-Groups-cloud9-vs-tsm-nuke.json\n",
      "22:44:50 [INFO] Reading in JSON from 133 ESLOneKatowice2015-Groups-cloud9-vs-tsm-nuke.json\n",
      "22:44:50 [INFO] JSON data loaded, available in the `json` attribute to parser\n",
      "22:44:50 [INFO] Successfully parsed JSON output\n",
      "22:44:50 [INFO] Successfully returned JSON output\n",
      "22:44:52 [INFO] Go version>=1.14.0\n",
      "22:44:52 [INFO] Initialized CSGODemoParser with demofile D:\\EDAV\\134\\natus-vincere-vs-g2-inferno.dem\n",
      "22:44:52 [INFO] Setting demo id to 134 natus-vincere-vs-g2-inferno\n",
      "22:44:52 [INFO] Setting parse rate to 128\n",
      "22:44:52 [INFO] Setting trade time to 5\n",
      "22:44:52 [INFO] Setting buy style to hltv\n",
      "22:44:52 [INFO] Rollup damages set to False\n",
      "22:44:52 [INFO] Parse frames set to True\n",
      "22:44:52 [INFO] Running Golang parser from C:\\Users\\nguye\\anaconda3\\envs\\envTF24\\lib\\site-packages\\csgo-1.0-py3.7.egg\\csgo\\parser\\\n",
      "22:44:52 [INFO] Looking for file at D:\\EDAV\\134\\natus-vincere-vs-g2-inferno.dem\n"
     ]
    },
    {
     "name": "stdout",
     "output_type": "stream",
     "text": [
      "parsing    134 natus-vincere-vs-g2-inferno.dem\n"
     ]
    },
    {
     "name": "stderr",
     "output_type": "stream",
     "text": [
      "22:44:57 [INFO] Wrote demo parse output to 134 natus-vincere-vs-g2-inferno.json\n",
      "22:44:57 [INFO] Reading in JSON from 134 natus-vincere-vs-g2-inferno.json\n",
      "22:44:57 [INFO] JSON data loaded, available in the `json` attribute to parser\n",
      "22:44:57 [INFO] Successfully parsed JSON output\n",
      "22:44:57 [INFO] Successfully returned JSON output\n",
      "22:45:04 [INFO] Go version>=1.14.0\n",
      "22:45:04 [INFO] Initialized CSGODemoParser with demofile D:\\EDAV\\135\\ESLOneKatowice2015-SF-fnatic-vs-virtuspro-mirage.dem\n",
      "22:45:04 [INFO] Setting demo id to 135 ESLOneKatowice2015-SF-fnatic-vs-virtuspro-mirage\n",
      "22:45:04 [INFO] Setting parse rate to 128\n",
      "22:45:04 [INFO] Setting trade time to 5\n",
      "22:45:04 [INFO] Setting buy style to hltv\n",
      "22:45:04 [INFO] Rollup damages set to False\n",
      "22:45:04 [INFO] Parse frames set to True\n",
      "22:45:04 [INFO] Running Golang parser from C:\\Users\\nguye\\anaconda3\\envs\\envTF24\\lib\\site-packages\\csgo-1.0-py3.7.egg\\csgo\\parser\\\n",
      "22:45:04 [INFO] Looking for file at D:\\EDAV\\135\\ESLOneKatowice2015-SF-fnatic-vs-virtuspro-mirage.dem\n"
     ]
    },
    {
     "name": "stdout",
     "output_type": "stream",
     "text": [
      "parsing    135 ESLOneKatowice2015-SF-fnatic-vs-virtuspro-mirage.dem\n"
     ]
    },
    {
     "name": "stderr",
     "output_type": "stream",
     "text": [
      "22:45:06 [INFO] Wrote demo parse output to 135 ESLOneKatowice2015-SF-fnatic-vs-virtuspro-mirage.json\n",
      "22:45:06 [INFO] Reading in JSON from 135 ESLOneKatowice2015-SF-fnatic-vs-virtuspro-mirage.json\n",
      "22:45:06 [INFO] JSON data loaded, available in the `json` attribute to parser\n",
      "22:45:06 [INFO] Successfully parsed JSON output\n",
      "22:45:06 [INFO] Successfully returned JSON output\n",
      "22:45:07 [INFO] Go version>=1.14.0\n",
      "22:45:07 [INFO] Initialized CSGODemoParser with demofile D:\\EDAV\\135\\ESLOneKatowice2015-SF-fnatic-vs-virtuspro-cobblestone.dem\n",
      "22:45:07 [INFO] Setting demo id to 135 ESLOneKatowice2015-SF-fnatic-vs-virtuspro-cobblestone\n",
      "22:45:07 [INFO] Setting parse rate to 128\n",
      "22:45:07 [INFO] Setting trade time to 5\n",
      "22:45:07 [INFO] Setting buy style to hltv\n",
      "22:45:07 [INFO] Rollup damages set to False\n",
      "22:45:07 [INFO] Parse frames set to True\n",
      "22:45:07 [INFO] Running Golang parser from C:\\Users\\nguye\\anaconda3\\envs\\envTF24\\lib\\site-packages\\csgo-1.0-py3.7.egg\\csgo\\parser\\\n",
      "22:45:07 [INFO] Looking for file at D:\\EDAV\\135\\ESLOneKatowice2015-SF-fnatic-vs-virtuspro-cobblestone.dem\n"
     ]
    },
    {
     "name": "stdout",
     "output_type": "stream",
     "text": [
      "parsing    135 ESLOneKatowice2015-SF-fnatic-vs-virtuspro-cobblestone.dem\n"
     ]
    },
    {
     "name": "stderr",
     "output_type": "stream",
     "text": [
      "22:45:09 [INFO] Wrote demo parse output to 135 ESLOneKatowice2015-SF-fnatic-vs-virtuspro-cobblestone.json\n",
      "22:45:09 [INFO] Reading in JSON from 135 ESLOneKatowice2015-SF-fnatic-vs-virtuspro-cobblestone.json\n",
      "22:45:10 [INFO] JSON data loaded, available in the `json` attribute to parser\n",
      "22:45:10 [INFO] Successfully parsed JSON output\n",
      "22:45:10 [INFO] Successfully returned JSON output\n",
      "22:45:11 [INFO] Go version>=1.14.0\n",
      "22:45:11 [INFO] Initialized CSGODemoParser with demofile D:\\EDAV\\136\\vega-squadron-vs-fnatic-inferno.dem\n",
      "22:45:11 [INFO] Setting demo id to 136 vega-squadron-vs-fnatic-inferno\n",
      "22:45:11 [INFO] Setting parse rate to 128\n",
      "22:45:11 [INFO] Setting trade time to 5\n",
      "22:45:11 [INFO] Setting buy style to hltv\n",
      "22:45:11 [INFO] Rollup damages set to False\n",
      "22:45:11 [INFO] Parse frames set to True\n",
      "22:45:11 [INFO] Running Golang parser from C:\\Users\\nguye\\anaconda3\\envs\\envTF24\\lib\\site-packages\\csgo-1.0-py3.7.egg\\csgo\\parser\\\n",
      "22:45:11 [INFO] Looking for file at D:\\EDAV\\136\\vega-squadron-vs-fnatic-inferno.dem\n"
     ]
    },
    {
     "name": "stdout",
     "output_type": "stream",
     "text": [
      "parsing    136 vega-squadron-vs-fnatic-inferno.dem\n"
     ]
    },
    {
     "name": "stderr",
     "output_type": "stream",
     "text": [
      "22:45:17 [INFO] Wrote demo parse output to 136 vega-squadron-vs-fnatic-inferno.json\n",
      "22:45:17 [INFO] Reading in JSON from 136 vega-squadron-vs-fnatic-inferno.json\n",
      "22:45:18 [INFO] JSON data loaded, available in the `json` attribute to parser\n",
      "22:45:18 [INFO] Successfully parsed JSON output\n",
      "22:45:18 [INFO] Successfully returned JSON output\n",
      "22:45:28 [INFO] Go version>=1.14.0\n",
      "22:45:28 [INFO] Initialized CSGODemoParser with demofile D:\\EDAV\\137\\avangar-vs-astralis-m1-inferno.dem\n",
      "22:45:28 [INFO] Setting demo id to 137 avangar-vs-astralis-m1-inferno\n",
      "22:45:28 [INFO] Setting parse rate to 128\n",
      "22:45:28 [INFO] Setting trade time to 5\n",
      "22:45:28 [INFO] Setting buy style to hltv\n",
      "22:45:28 [INFO] Rollup damages set to False\n",
      "22:45:28 [INFO] Parse frames set to True\n",
      "22:45:28 [INFO] Running Golang parser from C:\\Users\\nguye\\anaconda3\\envs\\envTF24\\lib\\site-packages\\csgo-1.0-py3.7.egg\\csgo\\parser\\\n",
      "22:45:28 [INFO] Looking for file at D:\\EDAV\\137\\avangar-vs-astralis-m1-inferno.dem\n"
     ]
    },
    {
     "name": "stdout",
     "output_type": "stream",
     "text": [
      "parsing    137 avangar-vs-astralis-m1-inferno.dem\n"
     ]
    },
    {
     "name": "stderr",
     "output_type": "stream",
     "text": [
      "22:45:33 [INFO] Wrote demo parse output to 137 avangar-vs-astralis-m1-inferno.json\n",
      "22:45:33 [INFO] Reading in JSON from 137 avangar-vs-astralis-m1-inferno.json\n",
      "22:45:34 [INFO] JSON data loaded, available in the `json` attribute to parser\n",
      "22:45:34 [INFO] Successfully parsed JSON output\n",
      "22:45:34 [INFO] Successfully returned JSON output\n",
      "22:45:42 [INFO] Go version>=1.14.0\n",
      "22:45:42 [INFO] Initialized CSGODemoParser with demofile D:\\EDAV\\137\\avangar-vs-astralis-m2-dust2.dem\n",
      "22:45:42 [INFO] Setting demo id to 137 avangar-vs-astralis-m2-dust2\n",
      "22:45:42 [INFO] Setting parse rate to 128\n",
      "22:45:42 [INFO] Setting trade time to 5\n",
      "22:45:42 [INFO] Setting buy style to hltv\n",
      "22:45:42 [INFO] Rollup damages set to False\n",
      "22:45:42 [INFO] Parse frames set to True\n",
      "22:45:42 [INFO] Running Golang parser from C:\\Users\\nguye\\anaconda3\\envs\\envTF24\\lib\\site-packages\\csgo-1.0-py3.7.egg\\csgo\\parser\\\n",
      "22:45:42 [INFO] Looking for file at D:\\EDAV\\137\\avangar-vs-astralis-m2-dust2.dem\n"
     ]
    },
    {
     "name": "stdout",
     "output_type": "stream",
     "text": [
      "parsing    137 avangar-vs-astralis-m2-dust2.dem\n"
     ]
    },
    {
     "name": "stderr",
     "output_type": "stream",
     "text": [
      "22:45:46 [INFO] Wrote demo parse output to 137 avangar-vs-astralis-m2-dust2.json\n",
      "22:45:46 [INFO] Reading in JSON from 137 avangar-vs-astralis-m2-dust2.json\n",
      "22:45:47 [INFO] JSON data loaded, available in the `json` attribute to parser\n",
      "22:45:47 [INFO] Successfully parsed JSON output\n",
      "22:45:47 [INFO] Successfully returned JSON output\n",
      "22:45:54 [INFO] Go version>=1.14.0\n",
      "22:45:54 [INFO] Initialized CSGODemoParser with demofile D:\\EDAV\\138\\MLGColumbus2016-natusvincere-vs-nip-bo3-map1-inferno.dem\n",
      "22:45:54 [INFO] Setting demo id to 138 MLGColumbus2016-natusvincere-vs-nip-bo3-map1-inferno\n",
      "22:45:54 [INFO] Setting parse rate to 128\n",
      "22:45:54 [INFO] Setting trade time to 5\n",
      "22:45:54 [INFO] Setting buy style to hltv\n",
      "22:45:54 [INFO] Rollup damages set to False\n",
      "22:45:54 [INFO] Parse frames set to True\n",
      "22:45:54 [INFO] Running Golang parser from C:\\Users\\nguye\\anaconda3\\envs\\envTF24\\lib\\site-packages\\csgo-1.0-py3.7.egg\\csgo\\parser\\\n",
      "22:45:54 [INFO] Looking for file at D:\\EDAV\\138\\MLGColumbus2016-natusvincere-vs-nip-bo3-map1-inferno.dem\n"
     ]
    },
    {
     "name": "stdout",
     "output_type": "stream",
     "text": [
      "parsing    138 MLGColumbus2016-natusvincere-vs-nip-bo3-map1-inferno.dem\n"
     ]
    },
    {
     "name": "stderr",
     "output_type": "stream",
     "text": [
      "22:45:59 [INFO] Wrote demo parse output to 138 MLGColumbus2016-natusvincere-vs-nip-bo3-map1-inferno.json\n",
      "22:45:59 [INFO] Reading in JSON from 138 MLGColumbus2016-natusvincere-vs-nip-bo3-map1-inferno.json\n",
      "22:45:59 [INFO] JSON data loaded, available in the `json` attribute to parser\n",
      "22:45:59 [INFO] Successfully parsed JSON output\n",
      "22:45:59 [INFO] Successfully returned JSON output\n",
      "22:46:07 [INFO] Go version>=1.14.0\n",
      "22:46:07 [INFO] Initialized CSGODemoParser with demofile D:\\EDAV\\138\\MLGColumbus2016-natusvincere-vs-nip-bo3-map2-mirage.dem\n",
      "22:46:07 [INFO] Setting demo id to 138 MLGColumbus2016-natusvincere-vs-nip-bo3-map2-mirage\n",
      "22:46:07 [INFO] Setting parse rate to 128\n",
      "22:46:07 [INFO] Setting trade time to 5\n",
      "22:46:07 [INFO] Setting buy style to hltv\n",
      "22:46:07 [INFO] Rollup damages set to False\n",
      "22:46:07 [INFO] Parse frames set to True\n",
      "22:46:07 [INFO] Running Golang parser from C:\\Users\\nguye\\anaconda3\\envs\\envTF24\\lib\\site-packages\\csgo-1.0-py3.7.egg\\csgo\\parser\\\n",
      "22:46:07 [INFO] Looking for file at D:\\EDAV\\138\\MLGColumbus2016-natusvincere-vs-nip-bo3-map2-mirage.dem\n"
     ]
    },
    {
     "name": "stdout",
     "output_type": "stream",
     "text": [
      "parsing    138 MLGColumbus2016-natusvincere-vs-nip-bo3-map2-mirage.dem\n"
     ]
    },
    {
     "name": "stderr",
     "output_type": "stream",
     "text": [
      "22:46:12 [INFO] Wrote demo parse output to 138 MLGColumbus2016-natusvincere-vs-nip-bo3-map2-mirage.json\n",
      "22:46:12 [INFO] Reading in JSON from 138 MLGColumbus2016-natusvincere-vs-nip-bo3-map2-mirage.json\n",
      "22:46:12 [INFO] JSON data loaded, available in the `json` attribute to parser\n",
      "22:46:12 [INFO] Successfully parsed JSON output\n",
      "22:46:12 [INFO] Successfully returned JSON output\n",
      "22:46:19 [INFO] Go version>=1.14.0\n",
      "22:46:19 [INFO] Initialized CSGODemoParser with demofile D:\\EDAV\\139\\big-vs-immortals-map2-inferno.dem\n",
      "22:46:19 [INFO] Setting demo id to 139 big-vs-immortals-map2-inferno\n",
      "22:46:19 [INFO] Setting parse rate to 128\n",
      "22:46:19 [INFO] Setting trade time to 5\n",
      "22:46:19 [INFO] Setting buy style to hltv\n",
      "22:46:19 [INFO] Rollup damages set to False\n",
      "22:46:19 [INFO] Parse frames set to True\n",
      "22:46:19 [INFO] Running Golang parser from C:\\Users\\nguye\\anaconda3\\envs\\envTF24\\lib\\site-packages\\csgo-1.0-py3.7.egg\\csgo\\parser\\\n",
      "22:46:19 [INFO] Looking for file at D:\\EDAV\\139\\big-vs-immortals-map2-inferno.dem\n"
     ]
    },
    {
     "name": "stdout",
     "output_type": "stream",
     "text": [
      "parsing    139 big-vs-immortals-map2-inferno.dem\n"
     ]
    },
    {
     "name": "stderr",
     "output_type": "stream",
     "text": [
      "22:46:23 [INFO] Wrote demo parse output to 139 big-vs-immortals-map2-inferno.json\n",
      "22:46:23 [INFO] Reading in JSON from 139 big-vs-immortals-map2-inferno.json\n",
      "22:46:23 [INFO] JSON data loaded, available in the `json` attribute to parser\n",
      "22:46:23 [INFO] Successfully parsed JSON output\n",
      "22:46:23 [INFO] Successfully returned JSON output\n",
      "22:46:29 [INFO] Go version>=1.14.0\n",
      "22:46:29 [INFO] Initialized CSGODemoParser with demofile D:\\EDAV\\139\\big-vs-immortals-map1-cobblestone.dem\n",
      "22:46:29 [INFO] Setting demo id to 139 big-vs-immortals-map1-cobblestone\n",
      "22:46:29 [INFO] Setting parse rate to 128\n",
      "22:46:29 [INFO] Setting trade time to 5\n",
      "22:46:29 [INFO] Setting buy style to hltv\n",
      "22:46:29 [INFO] Rollup damages set to False\n",
      "22:46:29 [INFO] Parse frames set to True\n",
      "22:46:29 [INFO] Running Golang parser from C:\\Users\\nguye\\anaconda3\\envs\\envTF24\\lib\\site-packages\\csgo-1.0-py3.7.egg\\csgo\\parser\\\n",
      "22:46:29 [INFO] Looking for file at D:\\EDAV\\139\\big-vs-immortals-map1-cobblestone.dem\n"
     ]
    },
    {
     "name": "stdout",
     "output_type": "stream",
     "text": [
      "parsing    139 big-vs-immortals-map1-cobblestone.dem\n"
     ]
    },
    {
     "name": "stderr",
     "output_type": "stream",
     "text": [
      "22:46:36 [INFO] Wrote demo parse output to 139 big-vs-immortals-map1-cobblestone.json\n",
      "22:46:36 [INFO] Reading in JSON from 139 big-vs-immortals-map1-cobblestone.json\n",
      "22:46:37 [INFO] JSON data loaded, available in the `json` attribute to parser\n",
      "22:46:37 [INFO] Successfully parsed JSON output\n",
      "22:46:37 [INFO] Successfully returned JSON output\n",
      "22:46:48 [INFO] Go version>=1.14.0\n",
      "22:46:48 [INFO] Initialized CSGODemoParser with demofile D:\\EDAV\\139\\big-vs-immortals-map3-train.dem\n",
      "22:46:48 [INFO] Setting demo id to 139 big-vs-immortals-map3-train\n",
      "22:46:48 [INFO] Setting parse rate to 128\n",
      "22:46:48 [INFO] Setting trade time to 5\n",
      "22:46:48 [INFO] Setting buy style to hltv\n",
      "22:46:48 [INFO] Rollup damages set to False\n",
      "22:46:48 [INFO] Parse frames set to True\n",
      "22:46:48 [INFO] Running Golang parser from C:\\Users\\nguye\\anaconda3\\envs\\envTF24\\lib\\site-packages\\csgo-1.0-py3.7.egg\\csgo\\parser\\\n",
      "22:46:48 [INFO] Looking for file at D:\\EDAV\\139\\big-vs-immortals-map3-train.dem\n"
     ]
    },
    {
     "name": "stdout",
     "output_type": "stream",
     "text": [
      "parsing    139 big-vs-immortals-map3-train.dem\n"
     ]
    },
    {
     "name": "stderr",
     "output_type": "stream",
     "text": [
      "22:46:53 [INFO] Wrote demo parse output to 139 big-vs-immortals-map3-train.json\n",
      "22:46:53 [INFO] Reading in JSON from 139 big-vs-immortals-map3-train.json\n",
      "22:46:54 [INFO] JSON data loaded, available in the `json` attribute to parser\n",
      "22:46:54 [INFO] Successfully parsed JSON output\n",
      "22:46:54 [INFO] Successfully returned JSON output\n",
      "22:47:02 [INFO] Go version>=1.14.0\n",
      "22:47:02 [INFO] Initialized CSGODemoParser with demofile D:\\EDAV\\140\\Quarterfinal_NiP_TSM_QF_Train.dem\n",
      "22:47:02 [INFO] Setting demo id to 140 Quarterfinal_NiP_TSM_QF_Train\n",
      "22:47:02 [INFO] Setting parse rate to 128\n",
      "22:47:02 [INFO] Setting trade time to 5\n",
      "22:47:02 [INFO] Setting buy style to hltv\n",
      "22:47:02 [INFO] Rollup damages set to False\n",
      "22:47:02 [INFO] Parse frames set to True\n",
      "22:47:02 [INFO] Running Golang parser from C:\\Users\\nguye\\anaconda3\\envs\\envTF24\\lib\\site-packages\\csgo-1.0-py3.7.egg\\csgo\\parser\\\n",
      "22:47:02 [INFO] Looking for file at D:\\EDAV\\140\\Quarterfinal_NiP_TSM_QF_Train.dem\n"
     ]
    },
    {
     "name": "stdout",
     "output_type": "stream",
     "text": [
      "parsing    140 Quarterfinal_NiP_TSM_QF_Train.dem\n"
     ]
    },
    {
     "name": "stderr",
     "output_type": "stream",
     "text": [
      "22:47:06 [INFO] Wrote demo parse output to 140 Quarterfinal_NiP_TSM_QF_Train.json\n",
      "22:47:06 [INFO] Reading in JSON from 140 Quarterfinal_NiP_TSM_QF_Train.json\n",
      "22:47:07 [INFO] JSON data loaded, available in the `json` attribute to parser\n",
      "22:47:07 [INFO] Successfully parsed JSON output\n",
      "22:47:07 [INFO] Successfully returned JSON output\n",
      "22:47:14 [INFO] Go version>=1.14.0\n",
      "22:47:14 [INFO] Initialized CSGODemoParser with demofile D:\\EDAV\\140\\Quarterfinal_NiP_TSM_QF_dust2.dem\n",
      "22:47:14 [INFO] Setting demo id to 140 Quarterfinal_NiP_TSM_QF_dust2\n",
      "22:47:14 [INFO] Setting parse rate to 128\n",
      "22:47:14 [INFO] Setting trade time to 5\n",
      "22:47:14 [INFO] Setting buy style to hltv\n",
      "22:47:14 [INFO] Rollup damages set to False\n",
      "22:47:14 [INFO] Parse frames set to True\n",
      "22:47:14 [INFO] Running Golang parser from C:\\Users\\nguye\\anaconda3\\envs\\envTF24\\lib\\site-packages\\csgo-1.0-py3.7.egg\\csgo\\parser\\\n",
      "22:47:14 [INFO] Looking for file at D:\\EDAV\\140\\Quarterfinal_NiP_TSM_QF_dust2.dem\n"
     ]
    },
    {
     "name": "stdout",
     "output_type": "stream",
     "text": [
      "parsing    140 Quarterfinal_NiP_TSM_QF_dust2.dem\n"
     ]
    },
    {
     "name": "stderr",
     "output_type": "stream",
     "text": [
      "22:47:18 [INFO] Wrote demo parse output to 140 Quarterfinal_NiP_TSM_QF_dust2.json\n",
      "22:47:18 [INFO] Reading in JSON from 140 Quarterfinal_NiP_TSM_QF_dust2.json\n",
      "22:47:19 [INFO] JSON data loaded, available in the `json` attribute to parser\n",
      "22:47:19 [INFO] Successfully parsed JSON output\n",
      "22:47:19 [INFO] Successfully returned JSON output\n",
      "22:47:25 [INFO] Go version>=1.14.0\n",
      "22:47:25 [INFO] Initialized CSGODemoParser with demofile D:\\EDAV\\141\\liquid-vs-ence-m2-inferno.dem\n",
      "22:47:25 [INFO] Setting demo id to 141 liquid-vs-ence-m2-inferno\n",
      "22:47:25 [INFO] Setting parse rate to 128\n",
      "22:47:25 [INFO] Setting trade time to 5\n",
      "22:47:25 [INFO] Setting buy style to hltv\n",
      "22:47:25 [INFO] Rollup damages set to False\n",
      "22:47:25 [INFO] Parse frames set to True\n",
      "22:47:25 [INFO] Running Golang parser from C:\\Users\\nguye\\anaconda3\\envs\\envTF24\\lib\\site-packages\\csgo-1.0-py3.7.egg\\csgo\\parser\\\n",
      "22:47:25 [INFO] Looking for file at D:\\EDAV\\141\\liquid-vs-ence-m2-inferno.dem\n"
     ]
    },
    {
     "name": "stdout",
     "output_type": "stream",
     "text": [
      "parsing    141 liquid-vs-ence-m2-inferno.dem\n"
     ]
    },
    {
     "name": "stderr",
     "output_type": "stream",
     "text": [
      "22:47:33 [INFO] Wrote demo parse output to 141 liquid-vs-ence-m2-inferno.json\n",
      "22:47:33 [INFO] Reading in JSON from 141 liquid-vs-ence-m2-inferno.json\n",
      "22:47:34 [INFO] JSON data loaded, available in the `json` attribute to parser\n",
      "22:47:34 [INFO] Successfully parsed JSON output\n",
      "22:47:34 [INFO] Successfully returned JSON output\n",
      "22:47:46 [INFO] Go version>=1.14.0\n",
      "22:47:46 [INFO] Initialized CSGODemoParser with demofile D:\\EDAV\\141\\liquid-vs-ence-m1-mirage.dem\n",
      "22:47:46 [INFO] Setting demo id to 141 liquid-vs-ence-m1-mirage\n",
      "22:47:46 [INFO] Setting parse rate to 128\n",
      "22:47:46 [INFO] Setting trade time to 5\n",
      "22:47:46 [INFO] Setting buy style to hltv\n",
      "22:47:46 [INFO] Rollup damages set to False\n",
      "22:47:46 [INFO] Parse frames set to True\n",
      "22:47:46 [INFO] Running Golang parser from C:\\Users\\nguye\\anaconda3\\envs\\envTF24\\lib\\site-packages\\csgo-1.0-py3.7.egg\\csgo\\parser\\\n",
      "22:47:46 [INFO] Looking for file at D:\\EDAV\\141\\liquid-vs-ence-m1-mirage.dem\n"
     ]
    },
    {
     "name": "stdout",
     "output_type": "stream",
     "text": [
      "parsing    141 liquid-vs-ence-m1-mirage.dem\n"
     ]
    },
    {
     "name": "stderr",
     "output_type": "stream",
     "text": [
      "22:47:52 [INFO] Wrote demo parse output to 141 liquid-vs-ence-m1-mirage.json\n",
      "22:47:52 [INFO] Reading in JSON from 141 liquid-vs-ence-m1-mirage.json\n",
      "22:47:52 [INFO] JSON data loaded, available in the `json` attribute to parser\n",
      "22:47:52 [INFO] Successfully parsed JSON output\n",
      "22:47:52 [INFO] Successfully returned JSON output\n",
      "22:48:01 [INFO] Go version>=1.14.0\n",
      "22:48:01 [INFO] Initialized CSGODemoParser with demofile D:\\EDAV\\142\\fnatic-vs-astralis-nuke.dem\n",
      "22:48:01 [INFO] Setting demo id to 142 fnatic-vs-astralis-nuke\n",
      "22:48:01 [INFO] Setting parse rate to 128\n",
      "22:48:01 [INFO] Setting trade time to 5\n",
      "22:48:01 [INFO] Setting buy style to hltv\n",
      "22:48:01 [INFO] Rollup damages set to False\n",
      "22:48:01 [INFO] Parse frames set to True\n",
      "22:48:01 [INFO] Running Golang parser from C:\\Users\\nguye\\anaconda3\\envs\\envTF24\\lib\\site-packages\\csgo-1.0-py3.7.egg\\csgo\\parser\\\n",
      "22:48:01 [INFO] Looking for file at D:\\EDAV\\142\\fnatic-vs-astralis-nuke.dem\n"
     ]
    },
    {
     "name": "stdout",
     "output_type": "stream",
     "text": [
      "parsing    142 fnatic-vs-astralis-nuke.dem\n"
     ]
    },
    {
     "name": "stderr",
     "output_type": "stream",
     "text": [
      "22:48:07 [INFO] Wrote demo parse output to 142 fnatic-vs-astralis-nuke.json\n",
      "22:48:07 [INFO] Reading in JSON from 142 fnatic-vs-astralis-nuke.json\n",
      "22:48:07 [INFO] JSON data loaded, available in the `json` attribute to parser\n",
      "22:48:07 [INFO] Successfully parsed JSON output\n",
      "22:48:07 [INFO] Successfully returned JSON output\n",
      "22:48:17 [INFO] Go version>=1.14.0\n",
      "22:48:17 [INFO] Initialized CSGODemoParser with demofile D:\\EDAV\\143\\north-vs-godsent-overpass.dem\n",
      "22:48:17 [INFO] Setting demo id to 143 north-vs-godsent-overpass\n",
      "22:48:17 [INFO] Setting parse rate to 128\n",
      "22:48:17 [INFO] Setting trade time to 5\n",
      "22:48:17 [INFO] Setting buy style to hltv\n",
      "22:48:17 [INFO] Rollup damages set to False\n",
      "22:48:17 [INFO] Parse frames set to True\n",
      "22:48:17 [INFO] Running Golang parser from C:\\Users\\nguye\\anaconda3\\envs\\envTF24\\lib\\site-packages\\csgo-1.0-py3.7.egg\\csgo\\parser\\\n",
      "22:48:17 [INFO] Looking for file at D:\\EDAV\\143\\north-vs-godsent-overpass.dem\n"
     ]
    },
    {
     "name": "stdout",
     "output_type": "stream",
     "text": [
      "parsing    143 north-vs-godsent-overpass.dem\n"
     ]
    },
    {
     "name": "stderr",
     "output_type": "stream",
     "text": [
      "22:48:26 [INFO] Wrote demo parse output to 143 north-vs-godsent-overpass.json\n",
      "22:48:26 [INFO] Reading in JSON from 143 north-vs-godsent-overpass.json\n",
      "22:48:26 [INFO] JSON data loaded, available in the `json` attribute to parser\n",
      "22:48:26 [INFO] Successfully parsed JSON output\n",
      "22:48:26 [INFO] Successfully returned JSON output\n",
      "22:48:38 [INFO] Go version>=1.14.0\n",
      "22:48:38 [INFO] Initialized CSGODemoParser with demofile D:\\EDAV\\144\\liquid-vs-avangar-overpass.dem\n",
      "22:48:38 [INFO] Setting demo id to 144 liquid-vs-avangar-overpass\n",
      "22:48:38 [INFO] Setting parse rate to 128\n",
      "22:48:38 [INFO] Setting trade time to 5\n",
      "22:48:38 [INFO] Setting buy style to hltv\n",
      "22:48:38 [INFO] Rollup damages set to False\n",
      "22:48:38 [INFO] Parse frames set to True\n",
      "22:48:38 [INFO] Running Golang parser from C:\\Users\\nguye\\anaconda3\\envs\\envTF24\\lib\\site-packages\\csgo-1.0-py3.7.egg\\csgo\\parser\\\n",
      "22:48:38 [INFO] Looking for file at D:\\EDAV\\144\\liquid-vs-avangar-overpass.dem\n"
     ]
    },
    {
     "name": "stdout",
     "output_type": "stream",
     "text": [
      "parsing    144 liquid-vs-avangar-overpass.dem\n"
     ]
    },
    {
     "name": "stderr",
     "output_type": "stream",
     "text": [
      "22:48:46 [INFO] Wrote demo parse output to 144 liquid-vs-avangar-overpass.json\n",
      "22:48:46 [INFO] Reading in JSON from 144 liquid-vs-avangar-overpass.json\n",
      "22:48:47 [INFO] JSON data loaded, available in the `json` attribute to parser\n",
      "22:48:47 [INFO] Successfully parsed JSON output\n",
      "22:48:47 [INFO] Successfully returned JSON output\n",
      "22:48:57 [INFO] Go version>=1.14.0\n",
      "22:48:57 [INFO] Initialized CSGODemoParser with demofile D:\\EDAV\\145\\mibr-vs-g2-inferno.dem\n",
      "22:48:57 [INFO] Setting demo id to 145 mibr-vs-g2-inferno\n",
      "22:48:57 [INFO] Setting parse rate to 128\n",
      "22:48:57 [INFO] Setting trade time to 5\n",
      "22:48:57 [INFO] Setting buy style to hltv\n",
      "22:48:57 [INFO] Rollup damages set to False\n",
      "22:48:57 [INFO] Parse frames set to True\n",
      "22:48:57 [INFO] Running Golang parser from C:\\Users\\nguye\\anaconda3\\envs\\envTF24\\lib\\site-packages\\csgo-1.0-py3.7.egg\\csgo\\parser\\\n",
      "22:48:57 [INFO] Looking for file at D:\\EDAV\\145\\mibr-vs-g2-inferno.dem\n"
     ]
    },
    {
     "name": "stdout",
     "output_type": "stream",
     "text": [
      "parsing    145 mibr-vs-g2-inferno.dem\n"
     ]
    },
    {
     "name": "stderr",
     "output_type": "stream",
     "text": [
      "22:49:02 [INFO] Wrote demo parse output to 145 mibr-vs-g2-inferno.json\n",
      "22:49:02 [INFO] Reading in JSON from 145 mibr-vs-g2-inferno.json\n",
      "22:49:02 [INFO] JSON data loaded, available in the `json` attribute to parser\n",
      "22:49:02 [INFO] Successfully parsed JSON output\n",
      "22:49:02 [INFO] Successfully returned JSON output\n",
      "22:49:09 [INFO] Go version>=1.14.0\n",
      "22:49:09 [INFO] Initialized CSGODemoParser with demofile D:\\EDAV\\146\\fnatic-vs-astralis-mirage.dem\n",
      "22:49:09 [INFO] Setting demo id to 146 fnatic-vs-astralis-mirage\n",
      "22:49:09 [INFO] Setting parse rate to 128\n",
      "22:49:09 [INFO] Setting trade time to 5\n",
      "22:49:09 [INFO] Setting buy style to hltv\n",
      "22:49:09 [INFO] Rollup damages set to False\n",
      "22:49:09 [INFO] Parse frames set to True\n",
      "22:49:09 [INFO] Running Golang parser from C:\\Users\\nguye\\anaconda3\\envs\\envTF24\\lib\\site-packages\\csgo-1.0-py3.7.egg\\csgo\\parser\\\n",
      "22:49:09 [INFO] Looking for file at D:\\EDAV\\146\\fnatic-vs-astralis-mirage.dem\n"
     ]
    },
    {
     "name": "stdout",
     "output_type": "stream",
     "text": [
      "parsing    146 fnatic-vs-astralis-mirage.dem\n"
     ]
    },
    {
     "name": "stderr",
     "output_type": "stream",
     "text": [
      "22:49:14 [INFO] Wrote demo parse output to 146 fnatic-vs-astralis-mirage.json\n",
      "22:49:14 [INFO] Reading in JSON from 146 fnatic-vs-astralis-mirage.json\n",
      "22:49:14 [INFO] JSON data loaded, available in the `json` attribute to parser\n",
      "22:49:14 [INFO] Successfully parsed JSON output\n",
      "22:49:14 [INFO] Successfully returned JSON output\n",
      "22:49:22 [INFO] Go version>=1.14.0\n",
      "22:49:22 [INFO] Initialized CSGODemoParser with demofile D:\\EDAV\\147\\cloud9-vs-hellraisers-m1-inferno.dem\n",
      "22:49:22 [INFO] Setting demo id to 147 cloud9-vs-hellraisers-m1-inferno\n",
      "22:49:22 [INFO] Setting parse rate to 128\n",
      "22:49:22 [INFO] Setting trade time to 5\n",
      "22:49:22 [INFO] Setting buy style to hltv\n",
      "22:49:22 [INFO] Rollup damages set to False\n",
      "22:49:22 [INFO] Parse frames set to True\n",
      "22:49:22 [INFO] Running Golang parser from C:\\Users\\nguye\\anaconda3\\envs\\envTF24\\lib\\site-packages\\csgo-1.0-py3.7.egg\\csgo\\parser\\\n",
      "22:49:22 [INFO] Looking for file at D:\\EDAV\\147\\cloud9-vs-hellraisers-m1-inferno.dem\n"
     ]
    },
    {
     "name": "stdout",
     "output_type": "stream",
     "text": [
      "parsing    147 cloud9-vs-hellraisers-m1-inferno.dem\n"
     ]
    },
    {
     "name": "stderr",
     "output_type": "stream",
     "text": [
      "22:49:27 [INFO] Wrote demo parse output to 147 cloud9-vs-hellraisers-m1-inferno.json\n",
      "22:49:27 [INFO] Reading in JSON from 147 cloud9-vs-hellraisers-m1-inferno.json\n",
      "22:49:27 [INFO] JSON data loaded, available in the `json` attribute to parser\n",
      "22:49:27 [INFO] Successfully parsed JSON output\n",
      "22:49:27 [INFO] Successfully returned JSON output\n",
      "22:49:35 [INFO] Go version>=1.14.0\n",
      "22:49:35 [INFO] Initialized CSGODemoParser with demofile D:\\EDAV\\147\\cloud9-vs-hellraisers-m2-cache.dem\n",
      "22:49:35 [INFO] Setting demo id to 147 cloud9-vs-hellraisers-m2-cache\n",
      "22:49:35 [INFO] Setting parse rate to 128\n",
      "22:49:35 [INFO] Setting trade time to 5\n",
      "22:49:35 [INFO] Setting buy style to hltv\n",
      "22:49:35 [INFO] Rollup damages set to False\n",
      "22:49:35 [INFO] Parse frames set to True\n",
      "22:49:35 [INFO] Running Golang parser from C:\\Users\\nguye\\anaconda3\\envs\\envTF24\\lib\\site-packages\\csgo-1.0-py3.7.egg\\csgo\\parser\\\n",
      "22:49:35 [INFO] Looking for file at D:\\EDAV\\147\\cloud9-vs-hellraisers-m2-cache.dem\n"
     ]
    },
    {
     "name": "stdout",
     "output_type": "stream",
     "text": [
      "parsing    147 cloud9-vs-hellraisers-m2-cache.dem\n"
     ]
    },
    {
     "name": "stderr",
     "output_type": "stream",
     "text": [
      "22:49:41 [INFO] Wrote demo parse output to 147 cloud9-vs-hellraisers-m2-cache.json\n",
      "22:49:41 [INFO] Reading in JSON from 147 cloud9-vs-hellraisers-m2-cache.json\n",
      "22:49:42 [INFO] JSON data loaded, available in the `json` attribute to parser\n",
      "22:49:42 [INFO] Successfully parsed JSON output\n",
      "22:49:42 [INFO] Successfully returned JSON output\n",
      "22:49:50 [INFO] Go version>=1.14.0\n",
      "22:49:50 [INFO] Initialized CSGODemoParser with demofile D:\\EDAV\\148\\cloud9-vs-hellraisers-overpass.dem\n",
      "22:49:50 [INFO] Setting demo id to 148 cloud9-vs-hellraisers-overpass\n",
      "22:49:50 [INFO] Setting parse rate to 128\n",
      "22:49:50 [INFO] Setting trade time to 5\n",
      "22:49:50 [INFO] Setting buy style to hltv\n",
      "22:49:50 [INFO] Rollup damages set to False\n",
      "22:49:50 [INFO] Parse frames set to True\n",
      "22:49:50 [INFO] Running Golang parser from C:\\Users\\nguye\\anaconda3\\envs\\envTF24\\lib\\site-packages\\csgo-1.0-py3.7.egg\\csgo\\parser\\\n",
      "22:49:50 [INFO] Looking for file at D:\\EDAV\\148\\cloud9-vs-hellraisers-overpass.dem\n"
     ]
    },
    {
     "name": "stdout",
     "output_type": "stream",
     "text": [
      "parsing    148 cloud9-vs-hellraisers-overpass.dem\n"
     ]
    },
    {
     "name": "stderr",
     "output_type": "stream",
     "text": [
      "22:49:58 [INFO] Wrote demo parse output to 148 cloud9-vs-hellraisers-overpass.json\n",
      "22:49:58 [INFO] Reading in JSON from 148 cloud9-vs-hellraisers-overpass.json\n",
      "22:49:59 [INFO] JSON data loaded, available in the `json` attribute to parser\n",
      "22:49:59 [INFO] Successfully parsed JSON output\n",
      "22:49:59 [INFO] Successfully returned JSON output\n",
      "22:50:10 [INFO] Go version>=1.14.0\n",
      "22:50:10 [INFO] Initialized CSGODemoParser with demofile D:\\EDAV\\149\\big-vs-tyloo-train.dem\n",
      "22:50:10 [INFO] Setting demo id to 149 big-vs-tyloo-train\n",
      "22:50:10 [INFO] Setting parse rate to 128\n",
      "22:50:10 [INFO] Setting trade time to 5\n",
      "22:50:10 [INFO] Setting buy style to hltv\n",
      "22:50:10 [INFO] Rollup damages set to False\n",
      "22:50:10 [INFO] Parse frames set to True\n",
      "22:50:10 [INFO] Running Golang parser from C:\\Users\\nguye\\anaconda3\\envs\\envTF24\\lib\\site-packages\\csgo-1.0-py3.7.egg\\csgo\\parser\\\n",
      "22:50:10 [INFO] Looking for file at D:\\EDAV\\149\\big-vs-tyloo-train.dem\n"
     ]
    },
    {
     "name": "stdout",
     "output_type": "stream",
     "text": [
      "parsing    149 big-vs-tyloo-train.dem\n"
     ]
    },
    {
     "name": "stderr",
     "output_type": "stream",
     "text": [
      "22:50:14 [INFO] Wrote demo parse output to 149 big-vs-tyloo-train.json\n",
      "22:50:14 [INFO] Reading in JSON from 149 big-vs-tyloo-train.json\n",
      "22:50:15 [INFO] JSON data loaded, available in the `json` attribute to parser\n",
      "22:50:15 [INFO] Successfully parsed JSON output\n",
      "22:50:15 [INFO] Successfully returned JSON output\n",
      "22:50:21 [INFO] Go version>=1.14.0\n",
      "22:50:21 [INFO] Initialized CSGODemoParser with demofile D:\\EDAV\\150\\ESLOneKatowice2015-Groups-penta-vs-titan-cache.dem\n",
      "22:50:21 [INFO] Setting demo id to 150 ESLOneKatowice2015-Groups-penta-vs-titan-cache\n",
      "22:50:21 [INFO] Setting parse rate to 128\n",
      "22:50:21 [INFO] Setting trade time to 5\n",
      "22:50:21 [INFO] Setting buy style to hltv\n",
      "22:50:21 [INFO] Rollup damages set to False\n",
      "22:50:21 [INFO] Parse frames set to True\n",
      "22:50:21 [INFO] Running Golang parser from C:\\Users\\nguye\\anaconda3\\envs\\envTF24\\lib\\site-packages\\csgo-1.0-py3.7.egg\\csgo\\parser\\\n",
      "22:50:21 [INFO] Looking for file at D:\\EDAV\\150\\ESLOneKatowice2015-Groups-penta-vs-titan-cache.dem\n"
     ]
    },
    {
     "name": "stdout",
     "output_type": "stream",
     "text": [
      "parsing    150 ESLOneKatowice2015-Groups-penta-vs-titan-cache.dem\n"
     ]
    },
    {
     "name": "stderr",
     "output_type": "stream",
     "text": [
      "22:50:23 [INFO] Wrote demo parse output to 150 ESLOneKatowice2015-Groups-penta-vs-titan-cache.json\n",
      "22:50:23 [INFO] Reading in JSON from 150 ESLOneKatowice2015-Groups-penta-vs-titan-cache.json\n",
      "22:50:23 [INFO] JSON data loaded, available in the `json` attribute to parser\n",
      "22:50:23 [INFO] Successfully parsed JSON output\n",
      "22:50:23 [INFO] Successfully returned JSON output\n",
      "22:50:24 [INFO] Go version>=1.14.0\n",
      "22:50:24 [INFO] Initialized CSGODemoParser with demofile D:\\EDAV\\151\\ESLOneCologne-GroupA-nip-vs-wolf-dust2.dem\n",
      "22:50:24 [INFO] Setting demo id to 151 ESLOneCologne-GroupA-nip-vs-wolf-dust2\n",
      "22:50:24 [INFO] Setting parse rate to 128\n",
      "22:50:24 [INFO] Setting trade time to 5\n",
      "22:50:24 [INFO] Setting buy style to hltv\n",
      "22:50:24 [INFO] Rollup damages set to False\n",
      "22:50:24 [INFO] Parse frames set to True\n",
      "22:50:24 [INFO] Running Golang parser from C:\\Users\\nguye\\anaconda3\\envs\\envTF24\\lib\\site-packages\\csgo-1.0-py3.7.egg\\csgo\\parser\\\n",
      "22:50:24 [INFO] Looking for file at D:\\EDAV\\151\\ESLOneCologne-GroupA-nip-vs-wolf-dust2.dem\n"
     ]
    },
    {
     "name": "stdout",
     "output_type": "stream",
     "text": [
      "parsing    151 ESLOneCologne-GroupA-nip-vs-wolf-dust2.dem\n"
     ]
    },
    {
     "name": "stderr",
     "output_type": "stream",
     "text": [
      "22:50:26 [INFO] Wrote demo parse output to 151 ESLOneCologne-GroupA-nip-vs-wolf-dust2.json\n",
      "22:50:26 [INFO] Reading in JSON from 151 ESLOneCologne-GroupA-nip-vs-wolf-dust2.json\n",
      "22:50:26 [INFO] JSON data loaded, available in the `json` attribute to parser\n",
      "22:50:26 [INFO] Successfully parsed JSON output\n",
      "22:50:26 [INFO] Successfully returned JSON output\n",
      "22:50:27 [INFO] Go version>=1.14.0\n",
      "22:50:27 [INFO] Initialized CSGODemoParser with demofile D:\\EDAV\\152\\north-vs-mousesports-inferno.dem\n",
      "22:50:27 [INFO] Setting demo id to 152 north-vs-mousesports-inferno\n",
      "22:50:27 [INFO] Setting parse rate to 128\n",
      "22:50:27 [INFO] Setting trade time to 5\n",
      "22:50:27 [INFO] Setting buy style to hltv\n",
      "22:50:27 [INFO] Rollup damages set to False\n",
      "22:50:27 [INFO] Parse frames set to True\n",
      "22:50:27 [INFO] Running Golang parser from C:\\Users\\nguye\\anaconda3\\envs\\envTF24\\lib\\site-packages\\csgo-1.0-py3.7.egg\\csgo\\parser\\\n",
      "22:50:27 [INFO] Looking for file at D:\\EDAV\\152\\north-vs-mousesports-inferno.dem\n"
     ]
    },
    {
     "name": "stdout",
     "output_type": "stream",
     "text": [
      "parsing    152 north-vs-mousesports-inferno.dem\n"
     ]
    },
    {
     "name": "stderr",
     "output_type": "stream",
     "text": [
      "22:50:33 [INFO] Wrote demo parse output to 152 north-vs-mousesports-inferno.json\n",
      "22:50:33 [INFO] Reading in JSON from 152 north-vs-mousesports-inferno.json\n",
      "22:50:34 [INFO] JSON data loaded, available in the `json` attribute to parser\n",
      "22:50:34 [INFO] Successfully parsed JSON output\n",
      "22:50:34 [INFO] Successfully returned JSON output\n",
      "22:50:44 [INFO] Go version>=1.14.0\n",
      "22:50:44 [INFO] Initialized CSGODemoParser with demofile D:\\EDAV\\153\\mibr-vs-nip-m2-inferno.dem\n",
      "22:50:44 [INFO] Setting demo id to 153 mibr-vs-nip-m2-inferno\n",
      "22:50:44 [INFO] Setting parse rate to 128\n",
      "22:50:44 [INFO] Setting trade time to 5\n",
      "22:50:44 [INFO] Setting buy style to hltv\n",
      "22:50:44 [INFO] Rollup damages set to False\n",
      "22:50:44 [INFO] Parse frames set to True\n",
      "22:50:44 [INFO] Running Golang parser from C:\\Users\\nguye\\anaconda3\\envs\\envTF24\\lib\\site-packages\\csgo-1.0-py3.7.egg\\csgo\\parser\\\n",
      "22:50:44 [INFO] Looking for file at D:\\EDAV\\153\\mibr-vs-nip-m2-inferno.dem\n"
     ]
    },
    {
     "name": "stdout",
     "output_type": "stream",
     "text": [
      "parsing    153 mibr-vs-nip-m2-inferno.dem\n"
     ]
    },
    {
     "name": "stderr",
     "output_type": "stream",
     "text": [
      "22:50:50 [INFO] Wrote demo parse output to 153 mibr-vs-nip-m2-inferno.json\n",
      "22:50:50 [INFO] Reading in JSON from 153 mibr-vs-nip-m2-inferno.json\n",
      "22:50:51 [INFO] JSON data loaded, available in the `json` attribute to parser\n",
      "22:50:51 [INFO] Successfully parsed JSON output\n",
      "22:50:51 [INFO] Successfully returned JSON output\n",
      "22:51:00 [INFO] Go version>=1.14.0\n",
      "22:51:00 [INFO] Initialized CSGODemoParser with demofile D:\\EDAV\\153\\mibr-vs-nip-m1-train.dem\n",
      "22:51:00 [INFO] Setting demo id to 153 mibr-vs-nip-m1-train\n",
      "22:51:00 [INFO] Setting parse rate to 128\n",
      "22:51:00 [INFO] Setting trade time to 5\n",
      "22:51:00 [INFO] Setting buy style to hltv\n",
      "22:51:00 [INFO] Rollup damages set to False\n",
      "22:51:00 [INFO] Parse frames set to True\n",
      "22:51:00 [INFO] Running Golang parser from C:\\Users\\nguye\\anaconda3\\envs\\envTF24\\lib\\site-packages\\csgo-1.0-py3.7.egg\\csgo\\parser\\\n",
      "22:51:00 [INFO] Looking for file at D:\\EDAV\\153\\mibr-vs-nip-m1-train.dem\n"
     ]
    },
    {
     "name": "stdout",
     "output_type": "stream",
     "text": [
      "parsing    153 mibr-vs-nip-m1-train.dem\n"
     ]
    },
    {
     "name": "stderr",
     "output_type": "stream",
     "text": [
      "22:51:04 [INFO] Wrote demo parse output to 153 mibr-vs-nip-m1-train.json\n",
      "22:51:04 [INFO] Reading in JSON from 153 mibr-vs-nip-m1-train.json\n",
      "22:51:05 [INFO] JSON data loaded, available in the `json` attribute to parser\n",
      "22:51:05 [INFO] Successfully parsed JSON output\n",
      "22:51:05 [INFO] Successfully returned JSON output\n",
      "22:51:11 [INFO] Go version>=1.14.0\n",
      "22:51:11 [INFO] Initialized CSGODemoParser with demofile D:\\EDAV\\154\\nip-vs-north-m1-train.dem\n",
      "22:51:11 [INFO] Setting demo id to 154 nip-vs-north-m1-train\n",
      "22:51:11 [INFO] Setting parse rate to 128\n",
      "22:51:11 [INFO] Setting trade time to 5\n",
      "22:51:11 [INFO] Setting buy style to hltv\n",
      "22:51:11 [INFO] Rollup damages set to False\n",
      "22:51:11 [INFO] Parse frames set to True\n",
      "22:51:11 [INFO] Running Golang parser from C:\\Users\\nguye\\anaconda3\\envs\\envTF24\\lib\\site-packages\\csgo-1.0-py3.7.egg\\csgo\\parser\\\n",
      "22:51:11 [INFO] Looking for file at D:\\EDAV\\154\\nip-vs-north-m1-train.dem\n"
     ]
    },
    {
     "name": "stdout",
     "output_type": "stream",
     "text": [
      "parsing    154 nip-vs-north-m1-train.dem\n"
     ]
    },
    {
     "name": "stderr",
     "output_type": "stream",
     "text": [
      "22:51:16 [INFO] Wrote demo parse output to 154 nip-vs-north-m1-train.json\n",
      "22:51:16 [INFO] Reading in JSON from 154 nip-vs-north-m1-train.json\n",
      "22:51:16 [INFO] JSON data loaded, available in the `json` attribute to parser\n",
      "22:51:16 [INFO] Successfully parsed JSON output\n",
      "22:51:16 [INFO] Successfully returned JSON output\n",
      "22:51:24 [INFO] Go version>=1.14.0\n",
      "22:51:24 [INFO] Initialized CSGODemoParser with demofile D:\\EDAV\\154\\nip-vs-north-m2-dust2.dem\n",
      "22:51:24 [INFO] Setting demo id to 154 nip-vs-north-m2-dust2\n",
      "22:51:24 [INFO] Setting parse rate to 128\n",
      "22:51:24 [INFO] Setting trade time to 5\n",
      "22:51:24 [INFO] Setting buy style to hltv\n",
      "22:51:24 [INFO] Rollup damages set to False\n",
      "22:51:24 [INFO] Parse frames set to True\n",
      "22:51:24 [INFO] Running Golang parser from C:\\Users\\nguye\\anaconda3\\envs\\envTF24\\lib\\site-packages\\csgo-1.0-py3.7.egg\\csgo\\parser\\\n",
      "22:51:24 [INFO] Looking for file at D:\\EDAV\\154\\nip-vs-north-m2-dust2.dem\n"
     ]
    },
    {
     "name": "stdout",
     "output_type": "stream",
     "text": [
      "parsing    154 nip-vs-north-m2-dust2.dem\n"
     ]
    },
    {
     "name": "stderr",
     "output_type": "stream",
     "text": [
      "22:51:28 [INFO] Wrote demo parse output to 154 nip-vs-north-m2-dust2.json\n",
      "22:51:28 [INFO] Reading in JSON from 154 nip-vs-north-m2-dust2.json\n",
      "22:51:29 [INFO] JSON data loaded, available in the `json` attribute to parser\n",
      "22:51:29 [INFO] Successfully parsed JSON output\n",
      "22:51:29 [INFO] Successfully returned JSON output\n",
      "22:51:34 [INFO] Go version>=1.14.0\n",
      "22:51:34 [INFO] Initialized CSGODemoParser with demofile D:\\EDAV\\155\\ESLOneCologne-QF-ldlc-vs-virtuspro-dust2.dem\n",
      "22:51:34 [INFO] Setting demo id to 155 ESLOneCologne-QF-ldlc-vs-virtuspro-dust2\n",
      "22:51:34 [INFO] Setting parse rate to 128\n",
      "22:51:34 [INFO] Setting trade time to 5\n",
      "22:51:34 [INFO] Setting buy style to hltv\n",
      "22:51:34 [INFO] Rollup damages set to False\n",
      "22:51:34 [INFO] Parse frames set to True\n",
      "22:51:34 [INFO] Running Golang parser from C:\\Users\\nguye\\anaconda3\\envs\\envTF24\\lib\\site-packages\\csgo-1.0-py3.7.egg\\csgo\\parser\\\n",
      "22:51:34 [INFO] Looking for file at D:\\EDAV\\155\\ESLOneCologne-QF-ldlc-vs-virtuspro-dust2.dem\n"
     ]
    },
    {
     "name": "stdout",
     "output_type": "stream",
     "text": [
      "parsing    155 ESLOneCologne-QF-ldlc-vs-virtuspro-dust2.dem\n"
     ]
    },
    {
     "name": "stderr",
     "output_type": "stream",
     "text": [
      "22:51:36 [INFO] Wrote demo parse output to 155 ESLOneCologne-QF-ldlc-vs-virtuspro-dust2.json\n",
      "22:51:36 [INFO] Reading in JSON from 155 ESLOneCologne-QF-ldlc-vs-virtuspro-dust2.json\n",
      "22:51:37 [INFO] JSON data loaded, available in the `json` attribute to parser\n",
      "22:51:37 [INFO] Successfully parsed JSON output\n",
      "22:51:37 [INFO] Successfully returned JSON output\n",
      "22:51:38 [INFO] Go version>=1.14.0\n",
      "22:51:38 [INFO] Initialized CSGODemoParser with demofile D:\\EDAV\\155\\ESLOneCologne-QF-ldlc-vs-virtuspro-mirage.dem\n",
      "22:51:38 [INFO] Setting demo id to 155 ESLOneCologne-QF-ldlc-vs-virtuspro-mirage\n",
      "22:51:38 [INFO] Setting parse rate to 128\n",
      "22:51:38 [INFO] Setting trade time to 5\n",
      "22:51:38 [INFO] Setting buy style to hltv\n",
      "22:51:38 [INFO] Rollup damages set to False\n",
      "22:51:38 [INFO] Parse frames set to True\n",
      "22:51:38 [INFO] Running Golang parser from C:\\Users\\nguye\\anaconda3\\envs\\envTF24\\lib\\site-packages\\csgo-1.0-py3.7.egg\\csgo\\parser\\\n",
      "22:51:38 [INFO] Looking for file at D:\\EDAV\\155\\ESLOneCologne-QF-ldlc-vs-virtuspro-mirage.dem\n"
     ]
    },
    {
     "name": "stdout",
     "output_type": "stream",
     "text": [
      "parsing    155 ESLOneCologne-QF-ldlc-vs-virtuspro-mirage.dem\n"
     ]
    },
    {
     "name": "stderr",
     "output_type": "stream",
     "text": [
      "22:51:40 [INFO] Wrote demo parse output to 155 ESLOneCologne-QF-ldlc-vs-virtuspro-mirage.json\n",
      "22:51:40 [INFO] Reading in JSON from 155 ESLOneCologne-QF-ldlc-vs-virtuspro-mirage.json\n",
      "22:51:40 [INFO] JSON data loaded, available in the `json` attribute to parser\n",
      "22:51:40 [INFO] Successfully parsed JSON output\n",
      "22:51:40 [INFO] Successfully returned JSON output\n",
      "22:51:41 [INFO] Go version>=1.14.0\n",
      "22:51:41 [INFO] Initialized CSGODemoParser with demofile D:\\EDAV\\156\\ESLOneKatowice2015-QF-keydstars-vs-virtuspro-overpass.dem\n",
      "22:51:41 [INFO] Setting demo id to 156 ESLOneKatowice2015-QF-keydstars-vs-virtuspro-overpass\n",
      "22:51:41 [INFO] Setting parse rate to 128\n",
      "22:51:41 [INFO] Setting trade time to 5\n",
      "22:51:41 [INFO] Setting buy style to hltv\n",
      "22:51:41 [INFO] Rollup damages set to False\n",
      "22:51:41 [INFO] Parse frames set to True\n",
      "22:51:41 [INFO] Running Golang parser from C:\\Users\\nguye\\anaconda3\\envs\\envTF24\\lib\\site-packages\\csgo-1.0-py3.7.egg\\csgo\\parser\\\n",
      "22:51:41 [INFO] Looking for file at D:\\EDAV\\156\\ESLOneKatowice2015-QF-keydstars-vs-virtuspro-overpass.dem\n"
     ]
    },
    {
     "name": "stdout",
     "output_type": "stream",
     "text": [
      "parsing    156 ESLOneKatowice2015-QF-keydstars-vs-virtuspro-overpass.dem\n"
     ]
    },
    {
     "name": "stderr",
     "output_type": "stream",
     "text": [
      "22:51:44 [INFO] Wrote demo parse output to 156 ESLOneKatowice2015-QF-keydstars-vs-virtuspro-overpass.json\n",
      "22:51:44 [INFO] Reading in JSON from 156 ESLOneKatowice2015-QF-keydstars-vs-virtuspro-overpass.json\n",
      "22:51:44 [INFO] JSON data loaded, available in the `json` attribute to parser\n",
      "22:51:44 [INFO] Successfully parsed JSON output\n",
      "22:51:44 [INFO] Successfully returned JSON output\n",
      "22:51:46 [INFO] Go version>=1.14.0\n",
      "22:51:46 [INFO] Initialized CSGODemoParser with demofile D:\\EDAV\\156\\ESLOneKatowice2015-QF-virtuspro-vs-keydstars-mirage.dem\n",
      "22:51:46 [INFO] Setting demo id to 156 ESLOneKatowice2015-QF-virtuspro-vs-keydstars-mirage\n",
      "22:51:46 [INFO] Setting parse rate to 128\n",
      "22:51:46 [INFO] Setting trade time to 5\n",
      "22:51:46 [INFO] Setting buy style to hltv\n",
      "22:51:46 [INFO] Rollup damages set to False\n",
      "22:51:46 [INFO] Parse frames set to True\n",
      "22:51:46 [INFO] Running Golang parser from C:\\Users\\nguye\\anaconda3\\envs\\envTF24\\lib\\site-packages\\csgo-1.0-py3.7.egg\\csgo\\parser\\\n",
      "22:51:46 [INFO] Looking for file at D:\\EDAV\\156\\ESLOneKatowice2015-QF-virtuspro-vs-keydstars-mirage.dem\n"
     ]
    },
    {
     "name": "stdout",
     "output_type": "stream",
     "text": [
      "parsing    156 ESLOneKatowice2015-QF-virtuspro-vs-keydstars-mirage.dem\n"
     ]
    },
    {
     "name": "stderr",
     "output_type": "stream",
     "text": [
      "22:51:48 [INFO] Wrote demo parse output to 156 ESLOneKatowice2015-QF-virtuspro-vs-keydstars-mirage.json\n",
      "22:51:48 [INFO] Reading in JSON from 156 ESLOneKatowice2015-QF-virtuspro-vs-keydstars-mirage.json\n",
      "22:51:48 [INFO] JSON data loaded, available in the `json` attribute to parser\n",
      "22:51:48 [INFO] Successfully parsed JSON output\n",
      "22:51:48 [INFO] Successfully returned JSON output\n",
      "22:51:49 [INFO] Go version>=1.14.0\n",
      "22:51:49 [INFO] Initialized CSGODemoParser with demofile D:\\EDAV\\156\\ESLOneKatowice2015-QF-virtuspro-vs-keydstars-nuke.dem\n",
      "22:51:49 [INFO] Setting demo id to 156 ESLOneKatowice2015-QF-virtuspro-vs-keydstars-nuke\n",
      "22:51:49 [INFO] Setting parse rate to 128\n",
      "22:51:49 [INFO] Setting trade time to 5\n",
      "22:51:49 [INFO] Setting buy style to hltv\n",
      "22:51:49 [INFO] Rollup damages set to False\n",
      "22:51:49 [INFO] Parse frames set to True\n",
      "22:51:49 [INFO] Running Golang parser from C:\\Users\\nguye\\anaconda3\\envs\\envTF24\\lib\\site-packages\\csgo-1.0-py3.7.egg\\csgo\\parser\\\n",
      "22:51:49 [INFO] Looking for file at D:\\EDAV\\156\\ESLOneKatowice2015-QF-virtuspro-vs-keydstars-nuke.dem\n"
     ]
    },
    {
     "name": "stdout",
     "output_type": "stream",
     "text": [
      "parsing    156 ESLOneKatowice2015-QF-virtuspro-vs-keydstars-nuke.dem\n"
     ]
    },
    {
     "name": "stderr",
     "output_type": "stream",
     "text": [
      "22:51:51 [INFO] Wrote demo parse output to 156 ESLOneKatowice2015-QF-virtuspro-vs-keydstars-nuke.json\n",
      "22:51:51 [INFO] Reading in JSON from 156 ESLOneKatowice2015-QF-virtuspro-vs-keydstars-nuke.json\n",
      "22:51:51 [INFO] JSON data loaded, available in the `json` attribute to parser\n",
      "22:51:51 [INFO] Successfully parsed JSON output\n",
      "22:51:51 [INFO] Successfully returned JSON output\n",
      "22:51:52 [INFO] Go version>=1.14.0\n",
      "22:51:52 [INFO] Initialized CSGODemoParser with demofile D:\\EDAV\\157\\vitality-vs-mousesports-m2-mirage.dem\n",
      "22:51:52 [INFO] Setting demo id to 157 vitality-vs-mousesports-m2-mirage\n",
      "22:51:52 [INFO] Setting parse rate to 128\n",
      "22:51:52 [INFO] Setting trade time to 5\n",
      "22:51:52 [INFO] Setting buy style to hltv\n",
      "22:51:52 [INFO] Rollup damages set to False\n",
      "22:51:52 [INFO] Parse frames set to True\n",
      "22:51:52 [INFO] Running Golang parser from C:\\Users\\nguye\\anaconda3\\envs\\envTF24\\lib\\site-packages\\csgo-1.0-py3.7.egg\\csgo\\parser\\\n",
      "22:51:52 [INFO] Looking for file at D:\\EDAV\\157\\vitality-vs-mousesports-m2-mirage.dem\n"
     ]
    },
    {
     "name": "stdout",
     "output_type": "stream",
     "text": [
      "parsing    157 vitality-vs-mousesports-m2-mirage.dem\n"
     ]
    },
    {
     "name": "stderr",
     "output_type": "stream",
     "text": [
      "22:51:56 [INFO] Wrote demo parse output to 157 vitality-vs-mousesports-m2-mirage.json\n",
      "22:51:56 [INFO] Reading in JSON from 157 vitality-vs-mousesports-m2-mirage.json\n",
      "22:51:57 [INFO] JSON data loaded, available in the `json` attribute to parser\n",
      "22:51:57 [INFO] Successfully parsed JSON output\n",
      "22:51:57 [INFO] Successfully returned JSON output\n",
      "22:52:05 [INFO] Go version>=1.14.0\n",
      "22:52:05 [INFO] Initialized CSGODemoParser with demofile D:\\EDAV\\157\\vitality-vs-mousesports-m1-vertigo.dem\n",
      "22:52:05 [INFO] Setting demo id to 157 vitality-vs-mousesports-m1-vertigo\n",
      "22:52:05 [INFO] Setting parse rate to 128\n",
      "22:52:05 [INFO] Setting trade time to 5\n",
      "22:52:05 [INFO] Setting buy style to hltv\n",
      "22:52:05 [INFO] Rollup damages set to False\n",
      "22:52:05 [INFO] Parse frames set to True\n",
      "22:52:05 [INFO] Running Golang parser from C:\\Users\\nguye\\anaconda3\\envs\\envTF24\\lib\\site-packages\\csgo-1.0-py3.7.egg\\csgo\\parser\\\n",
      "22:52:05 [INFO] Looking for file at D:\\EDAV\\157\\vitality-vs-mousesports-m1-vertigo.dem\n"
     ]
    },
    {
     "name": "stdout",
     "output_type": "stream",
     "text": [
      "parsing    157 vitality-vs-mousesports-m1-vertigo.dem\n"
     ]
    },
    {
     "name": "stderr",
     "output_type": "stream",
     "text": [
      "22:52:09 [INFO] Wrote demo parse output to 157 vitality-vs-mousesports-m1-vertigo.json\n",
      "22:52:09 [INFO] Reading in JSON from 157 vitality-vs-mousesports-m1-vertigo.json\n",
      "22:52:09 [INFO] JSON data loaded, available in the `json` attribute to parser\n",
      "22:52:09 [INFO] Successfully parsed JSON output\n",
      "22:52:09 [INFO] Successfully returned JSON output\n",
      "22:52:16 [INFO] Go version>=1.14.0\n",
      "22:52:16 [INFO] Initialized CSGODemoParser with demofile D:\\EDAV\\158\\MLGColumbus2016-nip-vs-flipsid3-cache.dem\n",
      "22:52:16 [INFO] Setting demo id to 158 MLGColumbus2016-nip-vs-flipsid3-cache\n",
      "22:52:16 [INFO] Setting parse rate to 128\n",
      "22:52:16 [INFO] Setting trade time to 5\n",
      "22:52:16 [INFO] Setting buy style to hltv\n",
      "22:52:16 [INFO] Rollup damages set to False\n",
      "22:52:16 [INFO] Parse frames set to True\n",
      "22:52:16 [INFO] Running Golang parser from C:\\Users\\nguye\\anaconda3\\envs\\envTF24\\lib\\site-packages\\csgo-1.0-py3.7.egg\\csgo\\parser\\\n",
      "22:52:16 [INFO] Looking for file at D:\\EDAV\\158\\MLGColumbus2016-nip-vs-flipsid3-cache.dem\n"
     ]
    },
    {
     "name": "stdout",
     "output_type": "stream",
     "text": [
      "parsing    158 MLGColumbus2016-nip-vs-flipsid3-cache.dem\n"
     ]
    },
    {
     "name": "stderr",
     "output_type": "stream",
     "text": [
      "22:52:23 [INFO] Wrote demo parse output to 158 MLGColumbus2016-nip-vs-flipsid3-cache.json\n",
      "22:52:23 [INFO] Reading in JSON from 158 MLGColumbus2016-nip-vs-flipsid3-cache.json\n",
      "22:52:24 [INFO] JSON data loaded, available in the `json` attribute to parser\n",
      "22:52:24 [INFO] Successfully parsed JSON output\n",
      "22:52:24 [INFO] Successfully returned JSON output\n",
      "22:52:37 [INFO] Go version>=1.14.0\n",
      "22:52:37 [INFO] Initialized CSGODemoParser with demofile D:\\EDAV\\159\\003105376732861956362_1451569146_1_nip_vs_titan_cobblestone.dem\n",
      "22:52:37 [INFO] Setting demo id to 159 003105376732861956362_1451569146_1_nip_vs_titan_cobblestone\n",
      "22:52:37 [INFO] Setting parse rate to 128\n",
      "22:52:37 [INFO] Setting trade time to 5\n",
      "22:52:37 [INFO] Setting buy style to hltv\n",
      "22:52:37 [INFO] Rollup damages set to False\n",
      "22:52:37 [INFO] Parse frames set to True\n",
      "22:52:37 [INFO] Running Golang parser from C:\\Users\\nguye\\anaconda3\\envs\\envTF24\\lib\\site-packages\\csgo-1.0-py3.7.egg\\csgo\\parser\\\n",
      "22:52:37 [INFO] Looking for file at D:\\EDAV\\159\\003105376732861956362_1451569146_1_nip_vs_titan_cobblestone.dem\n"
     ]
    },
    {
     "name": "stdout",
     "output_type": "stream",
     "text": [
      "parsing    159 003105376732861956362_1451569146_1_nip_vs_titan_cobblestone.dem\n"
     ]
    },
    {
     "name": "stderr",
     "output_type": "stream",
     "text": [
      "22:52:42 [INFO] Wrote demo parse output to 159 003105376732861956362_1451569146_1_nip_vs_titan_cobblestone.json\n",
      "22:52:42 [INFO] Reading in JSON from 159 003105376732861956362_1451569146_1_nip_vs_titan_cobblestone.json\n",
      "22:52:42 [INFO] JSON data loaded, available in the `json` attribute to parser\n",
      "22:52:42 [INFO] Successfully parsed JSON output\n",
      "22:52:42 [INFO] Successfully returned JSON output\n",
      "22:52:50 [INFO] Go version>=1.14.0\n",
      "22:52:50 [INFO] Initialized CSGODemoParser with demofile D:\\EDAV\\160\\complexity-vs-mibr-m2-inferno.dem\n",
      "22:52:50 [INFO] Setting demo id to 160 complexity-vs-mibr-m2-inferno\n",
      "22:52:50 [INFO] Setting parse rate to 128\n",
      "22:52:50 [INFO] Setting trade time to 5\n",
      "22:52:50 [INFO] Setting buy style to hltv\n",
      "22:52:50 [INFO] Rollup damages set to False\n",
      "22:52:50 [INFO] Parse frames set to True\n",
      "22:52:50 [INFO] Running Golang parser from C:\\Users\\nguye\\anaconda3\\envs\\envTF24\\lib\\site-packages\\csgo-1.0-py3.7.egg\\csgo\\parser\\\n",
      "22:52:50 [INFO] Looking for file at D:\\EDAV\\160\\complexity-vs-mibr-m2-inferno.dem\n"
     ]
    },
    {
     "name": "stdout",
     "output_type": "stream",
     "text": [
      "parsing    160 complexity-vs-mibr-m2-inferno.dem\n"
     ]
    },
    {
     "name": "stderr",
     "output_type": "stream",
     "text": [
      "22:52:55 [INFO] Wrote demo parse output to 160 complexity-vs-mibr-m2-inferno.json\n",
      "22:52:55 [INFO] Reading in JSON from 160 complexity-vs-mibr-m2-inferno.json\n",
      "22:52:56 [INFO] JSON data loaded, available in the `json` attribute to parser\n",
      "22:52:56 [INFO] Successfully parsed JSON output\n",
      "22:52:56 [INFO] Successfully returned JSON output\n",
      "22:53:05 [INFO] Go version>=1.14.0\n",
      "22:53:05 [INFO] Initialized CSGODemoParser with demofile D:\\EDAV\\160\\complexity-vs-mibr-m1-train.dem\n",
      "22:53:05 [INFO] Setting demo id to 160 complexity-vs-mibr-m1-train\n",
      "22:53:05 [INFO] Setting parse rate to 128\n",
      "22:53:05 [INFO] Setting trade time to 5\n",
      "22:53:05 [INFO] Setting buy style to hltv\n",
      "22:53:05 [INFO] Rollup damages set to False\n",
      "22:53:05 [INFO] Parse frames set to True\n",
      "22:53:05 [INFO] Running Golang parser from C:\\Users\\nguye\\anaconda3\\envs\\envTF24\\lib\\site-packages\\csgo-1.0-py3.7.egg\\csgo\\parser\\\n",
      "22:53:05 [INFO] Looking for file at D:\\EDAV\\160\\complexity-vs-mibr-m1-train.dem\n"
     ]
    },
    {
     "name": "stdout",
     "output_type": "stream",
     "text": [
      "parsing    160 complexity-vs-mibr-m1-train.dem\n"
     ]
    },
    {
     "name": "stderr",
     "output_type": "stream",
     "text": [
      "22:53:09 [INFO] Wrote demo parse output to 160 complexity-vs-mibr-m1-train.json\n",
      "22:53:09 [INFO] Reading in JSON from 160 complexity-vs-mibr-m1-train.json\n",
      "22:53:09 [INFO] JSON data loaded, available in the `json` attribute to parser\n",
      "22:53:09 [INFO] Successfully parsed JSON output\n",
      "22:53:09 [INFO] Successfully returned JSON output\n",
      "22:53:15 [INFO] Go version>=1.14.0\n",
      "22:53:15 [INFO] Initialized CSGODemoParser with demofile D:\\EDAV\\161\\vitality-vs-north-inferno.dem\n",
      "22:53:15 [INFO] Setting demo id to 161 vitality-vs-north-inferno\n",
      "22:53:15 [INFO] Setting parse rate to 128\n",
      "22:53:15 [INFO] Setting trade time to 5\n",
      "22:53:15 [INFO] Setting buy style to hltv\n",
      "22:53:15 [INFO] Rollup damages set to False\n",
      "22:53:15 [INFO] Parse frames set to True\n",
      "22:53:15 [INFO] Running Golang parser from C:\\Users\\nguye\\anaconda3\\envs\\envTF24\\lib\\site-packages\\csgo-1.0-py3.7.egg\\csgo\\parser\\\n",
      "22:53:15 [INFO] Looking for file at D:\\EDAV\\161\\vitality-vs-north-inferno.dem\n"
     ]
    },
    {
     "name": "stdout",
     "output_type": "stream",
     "text": [
      "parsing    161 vitality-vs-north-inferno.dem\n"
     ]
    },
    {
     "name": "stderr",
     "output_type": "stream",
     "text": [
      "22:53:20 [INFO] Wrote demo parse output to 161 vitality-vs-north-inferno.json\n",
      "22:53:20 [INFO] Reading in JSON from 161 vitality-vs-north-inferno.json\n",
      "22:53:20 [INFO] JSON data loaded, available in the `json` attribute to parser\n",
      "22:53:20 [INFO] Successfully parsed JSON output\n",
      "22:53:20 [INFO] Successfully returned JSON output\n",
      "22:53:28 [INFO] Go version>=1.14.0\n",
      "22:53:28 [INFO] Initialized CSGODemoParser with demofile D:\\EDAV\\162\\virtuspro-vs-optic-cobblestone.dem\n",
      "22:53:28 [INFO] Setting demo id to 162 virtuspro-vs-optic-cobblestone\n",
      "22:53:28 [INFO] Setting parse rate to 128\n",
      "22:53:28 [INFO] Setting trade time to 5\n",
      "22:53:28 [INFO] Setting buy style to hltv\n",
      "22:53:28 [INFO] Rollup damages set to False\n",
      "22:53:28 [INFO] Parse frames set to True\n",
      "22:53:28 [INFO] Running Golang parser from C:\\Users\\nguye\\anaconda3\\envs\\envTF24\\lib\\site-packages\\csgo-1.0-py3.7.egg\\csgo\\parser\\\n",
      "22:53:28 [INFO] Looking for file at D:\\EDAV\\162\\virtuspro-vs-optic-cobblestone.dem\n"
     ]
    },
    {
     "name": "stdout",
     "output_type": "stream",
     "text": [
      "parsing    162 virtuspro-vs-optic-cobblestone.dem\n"
     ]
    },
    {
     "name": "stderr",
     "output_type": "stream",
     "text": [
      "22:53:34 [INFO] Wrote demo parse output to 162 virtuspro-vs-optic-cobblestone.json\n",
      "22:53:34 [INFO] Reading in JSON from 162 virtuspro-vs-optic-cobblestone.json\n",
      "22:53:35 [INFO] JSON data loaded, available in the `json` attribute to parser\n",
      "22:53:35 [INFO] Successfully parsed JSON output\n",
      "22:53:35 [INFO] Successfully returned JSON output\n",
      "22:53:43 [INFO] Go version>=1.14.0\n",
      "22:53:43 [INFO] Initialized CSGODemoParser with demofile D:\\EDAV\\163\\ESLOneCologne2016-sk-vs-flipsid3-map2-nuke.dem\n",
      "22:53:43 [INFO] Setting demo id to 163 ESLOneCologne2016-sk-vs-flipsid3-map2-nuke\n",
      "22:53:43 [INFO] Setting parse rate to 128\n",
      "22:53:43 [INFO] Setting trade time to 5\n",
      "22:53:43 [INFO] Setting buy style to hltv\n",
      "22:53:43 [INFO] Rollup damages set to False\n",
      "22:53:43 [INFO] Parse frames set to True\n",
      "22:53:44 [INFO] Running Golang parser from C:\\Users\\nguye\\anaconda3\\envs\\envTF24\\lib\\site-packages\\csgo-1.0-py3.7.egg\\csgo\\parser\\\n",
      "22:53:44 [INFO] Looking for file at D:\\EDAV\\163\\ESLOneCologne2016-sk-vs-flipsid3-map2-nuke.dem\n"
     ]
    },
    {
     "name": "stdout",
     "output_type": "stream",
     "text": [
      "parsing    163 ESLOneCologne2016-sk-vs-flipsid3-map2-nuke.dem\n"
     ]
    },
    {
     "name": "stderr",
     "output_type": "stream",
     "text": [
      "22:53:51 [INFO] Wrote demo parse output to 163 ESLOneCologne2016-sk-vs-flipsid3-map2-nuke.json\n",
      "22:53:51 [INFO] Reading in JSON from 163 ESLOneCologne2016-sk-vs-flipsid3-map2-nuke.json\n",
      "22:53:52 [INFO] JSON data loaded, available in the `json` attribute to parser\n",
      "22:53:52 [INFO] Successfully parsed JSON output\n",
      "22:53:52 [INFO] Successfully returned JSON output\n",
      "22:54:05 [INFO] Go version>=1.14.0\n",
      "22:54:05 [INFO] Initialized CSGODemoParser with demofile D:\\EDAV\\163\\ESLOneCologne2016-sk-vs-flipsid3-map1-mirage.dem\n",
      "22:54:05 [INFO] Setting demo id to 163 ESLOneCologne2016-sk-vs-flipsid3-map1-mirage\n",
      "22:54:05 [INFO] Setting parse rate to 128\n",
      "22:54:05 [INFO] Setting trade time to 5\n",
      "22:54:05 [INFO] Setting buy style to hltv\n",
      "22:54:05 [INFO] Rollup damages set to False\n",
      "22:54:05 [INFO] Parse frames set to True\n",
      "22:54:05 [INFO] Running Golang parser from C:\\Users\\nguye\\anaconda3\\envs\\envTF24\\lib\\site-packages\\csgo-1.0-py3.7.egg\\csgo\\parser\\\n",
      "22:54:05 [INFO] Looking for file at D:\\EDAV\\163\\ESLOneCologne2016-sk-vs-flipsid3-map1-mirage.dem\n"
     ]
    },
    {
     "name": "stdout",
     "output_type": "stream",
     "text": [
      "parsing    163 ESLOneCologne2016-sk-vs-flipsid3-map1-mirage.dem\n"
     ]
    },
    {
     "name": "stderr",
     "output_type": "stream",
     "text": [
      "22:54:09 [INFO] Wrote demo parse output to 163 ESLOneCologne2016-sk-vs-flipsid3-map1-mirage.json\n",
      "22:54:09 [INFO] Reading in JSON from 163 ESLOneCologne2016-sk-vs-flipsid3-map1-mirage.json\n",
      "22:54:10 [INFO] JSON data loaded, available in the `json` attribute to parser\n",
      "22:54:10 [INFO] Successfully parsed JSON output\n",
      "22:54:10 [INFO] Successfully returned JSON output\n",
      "22:54:16 [INFO] Go version>=1.14.0\n",
      "22:54:16 [INFO] Initialized CSGODemoParser with demofile D:\\EDAV\\164\\fnatic-vs-natus-vincere-inferno.dem\n",
      "22:54:16 [INFO] Setting demo id to 164 fnatic-vs-natus-vincere-inferno\n",
      "22:54:16 [INFO] Setting parse rate to 128\n",
      "22:54:16 [INFO] Setting trade time to 5\n",
      "22:54:16 [INFO] Setting buy style to hltv\n",
      "22:54:16 [INFO] Rollup damages set to False\n",
      "22:54:16 [INFO] Parse frames set to True\n",
      "22:54:16 [INFO] Running Golang parser from C:\\Users\\nguye\\anaconda3\\envs\\envTF24\\lib\\site-packages\\csgo-1.0-py3.7.egg\\csgo\\parser\\\n",
      "22:54:16 [INFO] Looking for file at D:\\EDAV\\164\\fnatic-vs-natus-vincere-inferno.dem\n"
     ]
    },
    {
     "name": "stdout",
     "output_type": "stream",
     "text": [
      "parsing    164 fnatic-vs-natus-vincere-inferno.dem\n"
     ]
    },
    {
     "name": "stderr",
     "output_type": "stream",
     "text": [
      "22:54:21 [INFO] Wrote demo parse output to 164 fnatic-vs-natus-vincere-inferno.json\n",
      "22:54:21 [INFO] Reading in JSON from 164 fnatic-vs-natus-vincere-inferno.json\n",
      "22:54:21 [INFO] JSON data loaded, available in the `json` attribute to parser\n",
      "22:54:21 [INFO] Successfully parsed JSON output\n",
      "22:54:21 [INFO] Successfully returned JSON output\n",
      "22:54:28 [INFO] Go version>=1.14.0\n",
      "22:54:28 [INFO] Initialized CSGODemoParser with demofile D:\\EDAV\\165\\fnatic-vs-hellraisers-m1-mirage.dem\n",
      "22:54:28 [INFO] Setting demo id to 165 fnatic-vs-hellraisers-m1-mirage\n",
      "22:54:28 [INFO] Setting parse rate to 128\n",
      "22:54:28 [INFO] Setting trade time to 5\n",
      "22:54:28 [INFO] Setting buy style to hltv\n",
      "22:54:28 [INFO] Rollup damages set to False\n",
      "22:54:28 [INFO] Parse frames set to True\n",
      "22:54:29 [INFO] Running Golang parser from C:\\Users\\nguye\\anaconda3\\envs\\envTF24\\lib\\site-packages\\csgo-1.0-py3.7.egg\\csgo\\parser\\\n",
      "22:54:29 [INFO] Looking for file at D:\\EDAV\\165\\fnatic-vs-hellraisers-m1-mirage.dem\n"
     ]
    },
    {
     "name": "stdout",
     "output_type": "stream",
     "text": [
      "parsing    165 fnatic-vs-hellraisers-m1-mirage.dem\n"
     ]
    },
    {
     "name": "stderr",
     "output_type": "stream",
     "text": [
      "22:54:35 [INFO] Wrote demo parse output to 165 fnatic-vs-hellraisers-m1-mirage.json\n",
      "22:54:35 [INFO] Reading in JSON from 165 fnatic-vs-hellraisers-m1-mirage.json\n",
      "22:54:36 [INFO] JSON data loaded, available in the `json` attribute to parser\n",
      "22:54:36 [INFO] Successfully parsed JSON output\n",
      "22:54:36 [INFO] Successfully returned JSON output\n",
      "22:54:48 [INFO] Go version>=1.14.0\n",
      "22:54:48 [INFO] Initialized CSGODemoParser with demofile D:\\EDAV\\165\\fnatic-vs-hellraisers-m2-dust2.dem\n",
      "22:54:48 [INFO] Setting demo id to 165 fnatic-vs-hellraisers-m2-dust2\n",
      "22:54:48 [INFO] Setting parse rate to 128\n",
      "22:54:48 [INFO] Setting trade time to 5\n",
      "22:54:48 [INFO] Setting buy style to hltv\n",
      "22:54:48 [INFO] Rollup damages set to False\n",
      "22:54:48 [INFO] Parse frames set to True\n",
      "22:54:48 [INFO] Running Golang parser from C:\\Users\\nguye\\anaconda3\\envs\\envTF24\\lib\\site-packages\\csgo-1.0-py3.7.egg\\csgo\\parser\\\n",
      "22:54:48 [INFO] Looking for file at D:\\EDAV\\165\\fnatic-vs-hellraisers-m2-dust2.dem\n"
     ]
    },
    {
     "name": "stdout",
     "output_type": "stream",
     "text": [
      "parsing    165 fnatic-vs-hellraisers-m2-dust2.dem\n"
     ]
    },
    {
     "name": "stderr",
     "output_type": "stream",
     "text": [
      "22:54:53 [INFO] Wrote demo parse output to 165 fnatic-vs-hellraisers-m2-dust2.json\n",
      "22:54:53 [INFO] Reading in JSON from 165 fnatic-vs-hellraisers-m2-dust2.json\n",
      "22:54:53 [INFO] JSON data loaded, available in the `json` attribute to parser\n",
      "22:54:53 [INFO] Successfully parsed JSON output\n",
      "22:54:53 [INFO] Successfully returned JSON output\n",
      "22:55:00 [INFO] Go version>=1.14.0\n",
      "22:55:00 [INFO] Initialized CSGODemoParser with demofile D:\\EDAV\\165\\fnatic-vs-hellraisers-m3-cache.dem\n",
      "22:55:00 [INFO] Setting demo id to 165 fnatic-vs-hellraisers-m3-cache\n",
      "22:55:00 [INFO] Setting parse rate to 128\n",
      "22:55:00 [INFO] Setting trade time to 5\n",
      "22:55:00 [INFO] Setting buy style to hltv\n",
      "22:55:00 [INFO] Rollup damages set to False\n",
      "22:55:00 [INFO] Parse frames set to True\n",
      "22:55:00 [INFO] Running Golang parser from C:\\Users\\nguye\\anaconda3\\envs\\envTF24\\lib\\site-packages\\csgo-1.0-py3.7.egg\\csgo\\parser\\\n",
      "22:55:00 [INFO] Looking for file at D:\\EDAV\\165\\fnatic-vs-hellraisers-m3-cache.dem\n"
     ]
    },
    {
     "name": "stdout",
     "output_type": "stream",
     "text": [
      "parsing    165 fnatic-vs-hellraisers-m3-cache.dem\n"
     ]
    },
    {
     "name": "stderr",
     "output_type": "stream",
     "text": [
      "22:55:04 [INFO] Wrote demo parse output to 165 fnatic-vs-hellraisers-m3-cache.json\n",
      "22:55:04 [INFO] Reading in JSON from 165 fnatic-vs-hellraisers-m3-cache.json\n",
      "22:55:04 [INFO] JSON data loaded, available in the `json` attribute to parser\n",
      "22:55:04 [INFO] Successfully parsed JSON output\n",
      "22:55:04 [INFO] Successfully returned JSON output\n",
      "22:55:09 [INFO] Go version>=1.14.0\n",
      "22:55:09 [INFO] Initialized CSGODemoParser with demofile D:\\EDAV\\166\\ESLOneCologne2015-kinguin-vs-cloud9-dust2-1.dem\n",
      "22:55:09 [INFO] Setting demo id to 166 ESLOneCologne2015-kinguin-vs-cloud9-dust2-1\n",
      "22:55:09 [INFO] Setting parse rate to 128\n",
      "22:55:09 [INFO] Setting trade time to 5\n",
      "22:55:09 [INFO] Setting buy style to hltv\n",
      "22:55:09 [INFO] Rollup damages set to False\n",
      "22:55:09 [INFO] Parse frames set to True\n",
      "22:55:09 [INFO] Running Golang parser from C:\\Users\\nguye\\anaconda3\\envs\\envTF24\\lib\\site-packages\\csgo-1.0-py3.7.egg\\csgo\\parser\\\n",
      "22:55:09 [INFO] Looking for file at D:\\EDAV\\166\\ESLOneCologne2015-kinguin-vs-cloud9-dust2-1.dem\n"
     ]
    },
    {
     "name": "stdout",
     "output_type": "stream",
     "text": [
      "parsing    166 ESLOneCologne2015-kinguin-vs-cloud9-dust2-1.dem\n"
     ]
    },
    {
     "name": "stderr",
     "output_type": "stream",
     "text": [
      "22:55:12 [INFO] Wrote demo parse output to 166 ESLOneCologne2015-kinguin-vs-cloud9-dust2-1.json\n",
      "22:55:12 [INFO] Reading in JSON from 166 ESLOneCologne2015-kinguin-vs-cloud9-dust2-1.json\n",
      "22:55:12 [INFO] JSON data loaded, available in the `json` attribute to parser\n",
      "22:55:12 [INFO] Successfully parsed JSON output\n",
      "22:55:12 [INFO] Successfully returned JSON output\n",
      "22:55:13 [INFO] Go version>=1.14.0\n",
      "22:55:13 [INFO] Initialized CSGODemoParser with demofile D:\\EDAV\\167\\ESLOneCologne2015-luminosity-vs-flipsid3-cobblestone-1.dem\n",
      "22:55:13 [INFO] Setting demo id to 167 ESLOneCologne2015-luminosity-vs-flipsid3-cobblestone-1\n",
      "22:55:13 [INFO] Setting parse rate to 128\n",
      "22:55:13 [INFO] Setting trade time to 5\n",
      "22:55:14 [INFO] Setting buy style to hltv\n",
      "22:55:14 [INFO] Rollup damages set to False\n",
      "22:55:14 [INFO] Parse frames set to True\n",
      "22:55:14 [INFO] Running Golang parser from C:\\Users\\nguye\\anaconda3\\envs\\envTF24\\lib\\site-packages\\csgo-1.0-py3.7.egg\\csgo\\parser\\\n",
      "22:55:14 [INFO] Looking for file at D:\\EDAV\\167\\ESLOneCologne2015-luminosity-vs-flipsid3-cobblestone-1.dem\n"
     ]
    },
    {
     "name": "stdout",
     "output_type": "stream",
     "text": [
      "parsing    167 ESLOneCologne2015-luminosity-vs-flipsid3-cobblestone-1.dem\n"
     ]
    },
    {
     "name": "stderr",
     "output_type": "stream",
     "text": [
      "22:55:17 [INFO] Wrote demo parse output to 167 ESLOneCologne2015-luminosity-vs-flipsid3-cobblestone-1.json\n",
      "22:55:17 [INFO] Reading in JSON from 167 ESLOneCologne2015-luminosity-vs-flipsid3-cobblestone-1.json\n",
      "22:55:17 [INFO] JSON data loaded, available in the `json` attribute to parser\n",
      "22:55:17 [INFO] Successfully parsed JSON output\n",
      "22:55:17 [INFO] Successfully returned JSON output\n",
      "22:55:21 [INFO] Go version>=1.14.0\n",
      "22:55:21 [INFO] Initialized CSGODemoParser with demofile D:\\EDAV\\168\\natus-vincere-vs-astralis-inferno.dem\n",
      "22:55:21 [INFO] Setting demo id to 168 natus-vincere-vs-astralis-inferno\n",
      "22:55:21 [INFO] Setting parse rate to 128\n",
      "22:55:21 [INFO] Setting trade time to 5\n",
      "22:55:21 [INFO] Setting buy style to hltv\n",
      "22:55:21 [INFO] Rollup damages set to False\n",
      "22:55:21 [INFO] Parse frames set to True\n",
      "22:55:21 [INFO] Running Golang parser from C:\\Users\\nguye\\anaconda3\\envs\\envTF24\\lib\\site-packages\\csgo-1.0-py3.7.egg\\csgo\\parser\\\n",
      "22:55:21 [INFO] Looking for file at D:\\EDAV\\168\\natus-vincere-vs-astralis-inferno.dem\n"
     ]
    },
    {
     "name": "stdout",
     "output_type": "stream",
     "text": [
      "parsing    168 natus-vincere-vs-astralis-inferno.dem\n"
     ]
    },
    {
     "name": "stderr",
     "output_type": "stream",
     "text": [
      "22:55:27 [INFO] Wrote demo parse output to 168 natus-vincere-vs-astralis-inferno.json\n",
      "22:55:27 [INFO] Reading in JSON from 168 natus-vincere-vs-astralis-inferno.json\n",
      "22:55:28 [INFO] JSON data loaded, available in the `json` attribute to parser\n",
      "22:55:28 [INFO] Successfully parsed JSON output\n",
      "22:55:28 [INFO] Successfully returned JSON output\n",
      "22:55:39 [INFO] Go version>=1.14.0\n",
      "22:55:39 [INFO] Initialized CSGODemoParser with demofile D:\\EDAV\\169\\ESLOneKatowice2015-Groups-virtuspro-vs-3dmax-overpass.dem\n",
      "22:55:39 [INFO] Setting demo id to 169 ESLOneKatowice2015-Groups-virtuspro-vs-3dmax-overpass\n",
      "22:55:39 [INFO] Setting parse rate to 128\n",
      "22:55:39 [INFO] Setting trade time to 5\n",
      "22:55:39 [INFO] Setting buy style to hltv\n",
      "22:55:39 [INFO] Rollup damages set to False\n",
      "22:55:39 [INFO] Parse frames set to True\n",
      "22:55:39 [INFO] Running Golang parser from C:\\Users\\nguye\\anaconda3\\envs\\envTF24\\lib\\site-packages\\csgo-1.0-py3.7.egg\\csgo\\parser\\\n",
      "22:55:39 [INFO] Looking for file at D:\\EDAV\\169\\ESLOneKatowice2015-Groups-virtuspro-vs-3dmax-overpass.dem\n"
     ]
    },
    {
     "name": "stdout",
     "output_type": "stream",
     "text": [
      "parsing    169 ESLOneKatowice2015-Groups-virtuspro-vs-3dmax-overpass.dem\n"
     ]
    },
    {
     "name": "stderr",
     "output_type": "stream",
     "text": [
      "22:55:41 [INFO] Wrote demo parse output to 169 ESLOneKatowice2015-Groups-virtuspro-vs-3dmax-overpass.json\n",
      "22:55:41 [INFO] Reading in JSON from 169 ESLOneKatowice2015-Groups-virtuspro-vs-3dmax-overpass.json\n",
      "22:55:41 [INFO] JSON data loaded, available in the `json` attribute to parser\n",
      "22:55:41 [INFO] Successfully parsed JSON output\n",
      "22:55:41 [INFO] Successfully returned JSON output\n",
      "22:55:43 [INFO] Go version>=1.14.0\n",
      "22:55:43 [INFO] Initialized CSGODemoParser with demofile D:\\EDAV\\170\\DHW14-QF-virtuspro-vs-penta-cache.dem\n",
      "22:55:43 [INFO] Setting demo id to 170 DHW14-QF-virtuspro-vs-penta-cache\n",
      "22:55:43 [INFO] Setting parse rate to 128\n",
      "22:55:43 [INFO] Setting trade time to 5\n",
      "22:55:43 [INFO] Setting buy style to hltv\n",
      "22:55:43 [INFO] Rollup damages set to False\n",
      "22:55:43 [INFO] Parse frames set to True\n",
      "22:55:43 [INFO] Running Golang parser from C:\\Users\\nguye\\anaconda3\\envs\\envTF24\\lib\\site-packages\\csgo-1.0-py3.7.egg\\csgo\\parser\\\n",
      "22:55:43 [INFO] Looking for file at D:\\EDAV\\170\\DHW14-QF-virtuspro-vs-penta-cache.dem\n"
     ]
    },
    {
     "name": "stdout",
     "output_type": "stream",
     "text": [
      "parsing    170 DHW14-QF-virtuspro-vs-penta-cache.dem\n"
     ]
    },
    {
     "name": "stderr",
     "output_type": "stream",
     "text": [
      "22:55:44 [INFO] Wrote demo parse output to 170 DHW14-QF-virtuspro-vs-penta-cache.json\n",
      "22:55:44 [INFO] Reading in JSON from 170 DHW14-QF-virtuspro-vs-penta-cache.json\n",
      "22:55:44 [INFO] JSON data loaded, available in the `json` attribute to parser\n",
      "22:55:44 [INFO] Successfully parsed JSON output\n",
      "22:55:44 [INFO] Successfully returned JSON output\n",
      "22:55:46 [INFO] Go version>=1.14.0\n",
      "22:55:46 [INFO] Initialized CSGODemoParser with demofile D:\\EDAV\\170\\DHW14-QF-virtuspro-vs-penta-mirage.dem\n",
      "22:55:46 [INFO] Setting demo id to 170 DHW14-QF-virtuspro-vs-penta-mirage\n",
      "22:55:46 [INFO] Setting parse rate to 128\n",
      "22:55:46 [INFO] Setting trade time to 5\n",
      "22:55:46 [INFO] Setting buy style to hltv\n",
      "22:55:46 [INFO] Rollup damages set to False\n",
      "22:55:46 [INFO] Parse frames set to True\n",
      "22:55:46 [INFO] Running Golang parser from C:\\Users\\nguye\\anaconda3\\envs\\envTF24\\lib\\site-packages\\csgo-1.0-py3.7.egg\\csgo\\parser\\\n",
      "22:55:46 [INFO] Looking for file at D:\\EDAV\\170\\DHW14-QF-virtuspro-vs-penta-mirage.dem\n"
     ]
    },
    {
     "name": "stdout",
     "output_type": "stream",
     "text": [
      "parsing    170 DHW14-QF-virtuspro-vs-penta-mirage.dem\n"
     ]
    },
    {
     "name": "stderr",
     "output_type": "stream",
     "text": [
      "22:55:47 [INFO] Wrote demo parse output to 170 DHW14-QF-virtuspro-vs-penta-mirage.json\n",
      "22:55:47 [INFO] Reading in JSON from 170 DHW14-QF-virtuspro-vs-penta-mirage.json\n",
      "22:55:47 [INFO] JSON data loaded, available in the `json` attribute to parser\n",
      "22:55:47 [INFO] Successfully parsed JSON output\n",
      "22:55:47 [INFO] Successfully returned JSON output\n",
      "22:55:48 [INFO] Go version>=1.14.0\n",
      "22:55:48 [INFO] Initialized CSGODemoParser with demofile D:\\EDAV\\171\\sk-vs-astralis-inferno.dem\n",
      "22:55:48 [INFO] Setting demo id to 171 sk-vs-astralis-inferno\n",
      "22:55:48 [INFO] Setting parse rate to 128\n",
      "22:55:48 [INFO] Setting trade time to 5\n",
      "22:55:48 [INFO] Setting buy style to hltv\n",
      "22:55:48 [INFO] Rollup damages set to False\n",
      "22:55:48 [INFO] Parse frames set to True\n",
      "22:55:48 [INFO] Running Golang parser from C:\\Users\\nguye\\anaconda3\\envs\\envTF24\\lib\\site-packages\\csgo-1.0-py3.7.egg\\csgo\\parser\\\n",
      "22:55:48 [INFO] Looking for file at D:\\EDAV\\171\\sk-vs-astralis-inferno.dem\n"
     ]
    },
    {
     "name": "stdout",
     "output_type": "stream",
     "text": [
      "parsing    171 sk-vs-astralis-inferno.dem\n"
     ]
    },
    {
     "name": "stderr",
     "output_type": "stream",
     "text": [
      "22:55:53 [INFO] Wrote demo parse output to 171 sk-vs-astralis-inferno.json\n",
      "22:55:53 [INFO] Reading in JSON from 171 sk-vs-astralis-inferno.json\n",
      "22:55:54 [INFO] JSON data loaded, available in the `json` attribute to parser\n",
      "22:55:54 [INFO] Successfully parsed JSON output\n",
      "22:55:54 [INFO] Successfully returned JSON output\n",
      "22:56:02 [INFO] Go version>=1.14.0\n",
      "22:56:02 [INFO] Initialized CSGODemoParser with demofile D:\\EDAV\\172\\nrg-vs-avangar-overpass.dem\n",
      "22:56:02 [INFO] Setting demo id to 172 nrg-vs-avangar-overpass\n",
      "22:56:02 [INFO] Setting parse rate to 128\n",
      "22:56:02 [INFO] Setting trade time to 5\n",
      "22:56:02 [INFO] Setting buy style to hltv\n",
      "22:56:02 [INFO] Rollup damages set to False\n",
      "22:56:02 [INFO] Parse frames set to True\n",
      "22:56:02 [INFO] Running Golang parser from C:\\Users\\nguye\\anaconda3\\envs\\envTF24\\lib\\site-packages\\csgo-1.0-py3.7.egg\\csgo\\parser\\\n",
      "22:56:02 [INFO] Looking for file at D:\\EDAV\\172\\nrg-vs-avangar-overpass.dem\n"
     ]
    },
    {
     "name": "stdout",
     "output_type": "stream",
     "text": [
      "parsing    172 nrg-vs-avangar-overpass.dem\n"
     ]
    },
    {
     "name": "stderr",
     "output_type": "stream",
     "text": [
      "22:56:10 [INFO] Wrote demo parse output to 172 nrg-vs-avangar-overpass.json\n",
      "22:56:10 [INFO] Reading in JSON from 172 nrg-vs-avangar-overpass.json\n",
      "22:56:10 [INFO] JSON data loaded, available in the `json` attribute to parser\n",
      "22:56:10 [INFO] Successfully parsed JSON output\n",
      "22:56:10 [INFO] Successfully returned JSON output\n",
      "22:56:21 [INFO] Go version>=1.14.0\n",
      "22:56:21 [INFO] Initialized CSGODemoParser with demofile D:\\EDAV\\173\\sk-vs-mousesports-mirage.dem\n",
      "22:56:21 [INFO] Setting demo id to 173 sk-vs-mousesports-mirage\n",
      "22:56:21 [INFO] Setting parse rate to 128\n",
      "22:56:21 [INFO] Setting trade time to 5\n",
      "22:56:21 [INFO] Setting buy style to hltv\n",
      "22:56:21 [INFO] Rollup damages set to False\n",
      "22:56:21 [INFO] Parse frames set to True\n",
      "22:56:21 [INFO] Running Golang parser from C:\\Users\\nguye\\anaconda3\\envs\\envTF24\\lib\\site-packages\\csgo-1.0-py3.7.egg\\csgo\\parser\\\n",
      "22:56:21 [INFO] Looking for file at D:\\EDAV\\173\\sk-vs-mousesports-mirage.dem\n"
     ]
    },
    {
     "name": "stdout",
     "output_type": "stream",
     "text": [
      "parsing    173 sk-vs-mousesports-mirage.dem\n"
     ]
    },
    {
     "name": "stderr",
     "output_type": "stream",
     "text": [
      "22:56:26 [INFO] Wrote demo parse output to 173 sk-vs-mousesports-mirage.json\n",
      "22:56:26 [INFO] Reading in JSON from 173 sk-vs-mousesports-mirage.json\n",
      "22:56:26 [INFO] JSON data loaded, available in the `json` attribute to parser\n",
      "22:56:26 [INFO] Successfully parsed JSON output\n",
      "22:56:26 [INFO] Successfully returned JSON output\n",
      "22:56:34 [INFO] Go version>=1.14.0\n",
      "22:56:34 [INFO] Initialized CSGODemoParser with demofile D:\\EDAV\\174\\ESLOneKatowice2015-Groups-tsm-vs-3dmax-nuke.dem\n",
      "22:56:34 [INFO] Setting demo id to 174 ESLOneKatowice2015-Groups-tsm-vs-3dmax-nuke\n",
      "22:56:34 [INFO] Setting parse rate to 128\n",
      "22:56:34 [INFO] Setting trade time to 5\n",
      "22:56:34 [INFO] Setting buy style to hltv\n",
      "22:56:34 [INFO] Rollup damages set to False\n",
      "22:56:34 [INFO] Parse frames set to True\n",
      "22:56:35 [INFO] Running Golang parser from C:\\Users\\nguye\\anaconda3\\envs\\envTF24\\lib\\site-packages\\csgo-1.0-py3.7.egg\\csgo\\parser\\\n",
      "22:56:35 [INFO] Looking for file at D:\\EDAV\\174\\ESLOneKatowice2015-Groups-tsm-vs-3dmax-nuke.dem\n"
     ]
    },
    {
     "name": "stdout",
     "output_type": "stream",
     "text": [
      "parsing    174 ESLOneKatowice2015-Groups-tsm-vs-3dmax-nuke.dem\n"
     ]
    },
    {
     "name": "stderr",
     "output_type": "stream",
     "text": [
      "22:56:36 [INFO] Wrote demo parse output to 174 ESLOneKatowice2015-Groups-tsm-vs-3dmax-nuke.json\n",
      "22:56:36 [INFO] Reading in JSON from 174 ESLOneKatowice2015-Groups-tsm-vs-3dmax-nuke.json\n",
      "22:56:36 [INFO] JSON data loaded, available in the `json` attribute to parser\n",
      "22:56:36 [INFO] Successfully parsed JSON output\n",
      "22:56:36 [INFO] Successfully returned JSON output\n",
      "22:56:38 [INFO] Go version>=1.14.0\n",
      "22:56:38 [INFO] Initialized CSGODemoParser with demofile D:\\EDAV\\175\\faze-vs-cloud9-m2-dust2.dem\n",
      "22:56:38 [INFO] Setting demo id to 175 faze-vs-cloud9-m2-dust2\n",
      "22:56:38 [INFO] Setting parse rate to 128\n",
      "22:56:38 [INFO] Setting trade time to 5\n",
      "22:56:38 [INFO] Setting buy style to hltv\n",
      "22:56:38 [INFO] Rollup damages set to False\n",
      "22:56:38 [INFO] Parse frames set to True\n",
      "22:56:38 [INFO] Running Golang parser from C:\\Users\\nguye\\anaconda3\\envs\\envTF24\\lib\\site-packages\\csgo-1.0-py3.7.egg\\csgo\\parser\\\n",
      "22:56:38 [INFO] Looking for file at D:\\EDAV\\175\\faze-vs-cloud9-m2-dust2.dem\n"
     ]
    },
    {
     "name": "stdout",
     "output_type": "stream",
     "text": [
      "parsing    175 faze-vs-cloud9-m2-dust2.dem\n"
     ]
    },
    {
     "name": "stderr",
     "output_type": "stream",
     "text": [
      "22:56:43 [INFO] Wrote demo parse output to 175 faze-vs-cloud9-m2-dust2.json\n",
      "22:56:43 [INFO] Reading in JSON from 175 faze-vs-cloud9-m2-dust2.json\n",
      "22:56:44 [INFO] JSON data loaded, available in the `json` attribute to parser\n",
      "22:56:44 [INFO] Successfully parsed JSON output\n",
      "22:56:44 [INFO] Successfully returned JSON output\n",
      "22:56:52 [INFO] Go version>=1.14.0\n",
      "22:56:52 [INFO] Initialized CSGODemoParser with demofile D:\\EDAV\\175\\faze-vs-cloud9-m1-cache.dem\n",
      "22:56:52 [INFO] Setting demo id to 175 faze-vs-cloud9-m1-cache\n",
      "22:56:52 [INFO] Setting parse rate to 128\n",
      "22:56:52 [INFO] Setting trade time to 5\n",
      "22:56:52 [INFO] Setting buy style to hltv\n",
      "22:56:52 [INFO] Rollup damages set to False\n",
      "22:56:52 [INFO] Parse frames set to True\n",
      "22:56:52 [INFO] Running Golang parser from C:\\Users\\nguye\\anaconda3\\envs\\envTF24\\lib\\site-packages\\csgo-1.0-py3.7.egg\\csgo\\parser\\\n",
      "22:56:52 [INFO] Looking for file at D:\\EDAV\\175\\faze-vs-cloud9-m1-cache.dem\n"
     ]
    },
    {
     "name": "stdout",
     "output_type": "stream",
     "text": [
      "parsing    175 faze-vs-cloud9-m1-cache.dem\n"
     ]
    },
    {
     "name": "stderr",
     "output_type": "stream",
     "text": [
      "22:56:58 [INFO] Wrote demo parse output to 175 faze-vs-cloud9-m1-cache.json\n",
      "22:56:58 [INFO] Reading in JSON from 175 faze-vs-cloud9-m1-cache.json\n",
      "22:56:59 [INFO] JSON data loaded, available in the `json` attribute to parser\n",
      "22:56:59 [INFO] Successfully parsed JSON output\n",
      "22:56:59 [INFO] Successfully returned JSON output\n",
      "22:57:09 [INFO] Go version>=1.14.0\n",
      "22:57:09 [INFO] Initialized CSGODemoParser with demofile D:\\EDAV\\176\\faze-vs-renegades-m1-mirage.dem\n",
      "22:57:09 [INFO] Setting demo id to 176 faze-vs-renegades-m1-mirage\n",
      "22:57:09 [INFO] Setting parse rate to 128\n",
      "22:57:09 [INFO] Setting trade time to 5\n",
      "22:57:09 [INFO] Setting buy style to hltv\n",
      "22:57:09 [INFO] Rollup damages set to False\n",
      "22:57:09 [INFO] Parse frames set to True\n",
      "22:57:09 [INFO] Running Golang parser from C:\\Users\\nguye\\anaconda3\\envs\\envTF24\\lib\\site-packages\\csgo-1.0-py3.7.egg\\csgo\\parser\\\n",
      "22:57:09 [INFO] Looking for file at D:\\EDAV\\176\\faze-vs-renegades-m1-mirage.dem\n"
     ]
    },
    {
     "name": "stdout",
     "output_type": "stream",
     "text": [
      "parsing    176 faze-vs-renegades-m1-mirage.dem\n"
     ]
    },
    {
     "name": "stderr",
     "output_type": "stream",
     "text": [
      "22:57:17 [INFO] Wrote demo parse output to 176 faze-vs-renegades-m1-mirage.json\n",
      "22:57:17 [INFO] Reading in JSON from 176 faze-vs-renegades-m1-mirage.json\n",
      "22:57:17 [INFO] JSON data loaded, available in the `json` attribute to parser\n",
      "22:57:17 [INFO] Successfully parsed JSON output\n",
      "22:57:17 [INFO] Successfully returned JSON output\n",
      "22:57:30 [INFO] Go version>=1.14.0\n",
      "22:57:30 [INFO] Initialized CSGODemoParser with demofile D:\\EDAV\\176\\faze-vs-renegades-m2-nuke.dem\n",
      "22:57:30 [INFO] Setting demo id to 176 faze-vs-renegades-m2-nuke\n",
      "22:57:30 [INFO] Setting parse rate to 128\n",
      "22:57:30 [INFO] Setting trade time to 5\n",
      "22:57:30 [INFO] Setting buy style to hltv\n",
      "22:57:30 [INFO] Rollup damages set to False\n",
      "22:57:30 [INFO] Parse frames set to True\n",
      "22:57:30 [INFO] Running Golang parser from C:\\Users\\nguye\\anaconda3\\envs\\envTF24\\lib\\site-packages\\csgo-1.0-py3.7.egg\\csgo\\parser\\\n",
      "22:57:30 [INFO] Looking for file at D:\\EDAV\\176\\faze-vs-renegades-m2-nuke.dem\n"
     ]
    },
    {
     "name": "stdout",
     "output_type": "stream",
     "text": [
      "parsing    176 faze-vs-renegades-m2-nuke.dem\n"
     ]
    },
    {
     "name": "stderr",
     "output_type": "stream",
     "text": [
      "22:57:35 [INFO] Wrote demo parse output to 176 faze-vs-renegades-m2-nuke.json\n",
      "22:57:35 [INFO] Reading in JSON from 176 faze-vs-renegades-m2-nuke.json\n",
      "22:57:35 [INFO] JSON data loaded, available in the `json` attribute to parser\n",
      "22:57:35 [INFO] Successfully parsed JSON output\n",
      "22:57:35 [INFO] Successfully returned JSON output\n",
      "22:57:41 [INFO] Go version>=1.14.0\n",
      "22:57:41 [INFO] Initialized CSGODemoParser with demofile D:\\EDAV\\176\\faze-vs-renegades-m3-vertigo.dem\n",
      "22:57:41 [INFO] Setting demo id to 176 faze-vs-renegades-m3-vertigo\n",
      "22:57:41 [INFO] Setting parse rate to 128\n",
      "22:57:41 [INFO] Setting trade time to 5\n",
      "22:57:41 [INFO] Setting buy style to hltv\n",
      "22:57:41 [INFO] Rollup damages set to False\n",
      "22:57:41 [INFO] Parse frames set to True\n",
      "22:57:41 [INFO] Running Golang parser from C:\\Users\\nguye\\anaconda3\\envs\\envTF24\\lib\\site-packages\\csgo-1.0-py3.7.egg\\csgo\\parser\\\n",
      "22:57:41 [INFO] Looking for file at D:\\EDAV\\176\\faze-vs-renegades-m3-vertigo.dem\n"
     ]
    },
    {
     "name": "stdout",
     "output_type": "stream",
     "text": [
      "parsing    176 faze-vs-renegades-m3-vertigo.dem\n"
     ]
    },
    {
     "name": "stderr",
     "output_type": "stream",
     "text": [
      "22:57:47 [INFO] Wrote demo parse output to 176 faze-vs-renegades-m3-vertigo.json\n",
      "22:57:47 [INFO] Reading in JSON from 176 faze-vs-renegades-m3-vertigo.json\n",
      "22:57:47 [INFO] JSON data loaded, available in the `json` attribute to parser\n",
      "22:57:47 [INFO] Successfully parsed JSON output\n",
      "22:57:47 [INFO] Successfully returned JSON output\n",
      "22:57:56 [INFO] Go version>=1.14.0\n",
      "22:57:56 [INFO] Initialized CSGODemoParser with demofile D:\\EDAV\\177\\liquid-vs-hellraisers-m3-cache.dem\n",
      "22:57:56 [INFO] Setting demo id to 177 liquid-vs-hellraisers-m3-cache\n",
      "22:57:56 [INFO] Setting parse rate to 128\n",
      "22:57:56 [INFO] Setting trade time to 5\n",
      "22:57:56 [INFO] Setting buy style to hltv\n",
      "22:57:56 [INFO] Rollup damages set to False\n",
      "22:57:56 [INFO] Parse frames set to True\n",
      "22:57:57 [INFO] Running Golang parser from C:\\Users\\nguye\\anaconda3\\envs\\envTF24\\lib\\site-packages\\csgo-1.0-py3.7.egg\\csgo\\parser\\\n",
      "22:57:57 [INFO] Looking for file at D:\\EDAV\\177\\liquid-vs-hellraisers-m3-cache.dem\n"
     ]
    },
    {
     "name": "stdout",
     "output_type": "stream",
     "text": [
      "parsing    177 liquid-vs-hellraisers-m3-cache.dem\n"
     ]
    },
    {
     "name": "stderr",
     "output_type": "stream",
     "text": [
      "22:58:01 [INFO] Wrote demo parse output to 177 liquid-vs-hellraisers-m3-cache.json\n",
      "22:58:01 [INFO] Reading in JSON from 177 liquid-vs-hellraisers-m3-cache.json\n",
      "22:58:02 [INFO] JSON data loaded, available in the `json` attribute to parser\n",
      "22:58:02 [INFO] Successfully parsed JSON output\n",
      "22:58:02 [INFO] Successfully returned JSON output\n",
      "22:58:08 [INFO] Go version>=1.14.0\n",
      "22:58:08 [INFO] Initialized CSGODemoParser with demofile D:\\EDAV\\177\\liquid-vs-hellraisers-m1-mirage.dem\n",
      "22:58:08 [INFO] Setting demo id to 177 liquid-vs-hellraisers-m1-mirage\n",
      "22:58:08 [INFO] Setting parse rate to 128\n",
      "22:58:08 [INFO] Setting trade time to 5\n",
      "22:58:08 [INFO] Setting buy style to hltv\n",
      "22:58:08 [INFO] Rollup damages set to False\n",
      "22:58:08 [INFO] Parse frames set to True\n",
      "22:58:08 [INFO] Running Golang parser from C:\\Users\\nguye\\anaconda3\\envs\\envTF24\\lib\\site-packages\\csgo-1.0-py3.7.egg\\csgo\\parser\\\n",
      "22:58:08 [INFO] Looking for file at D:\\EDAV\\177\\liquid-vs-hellraisers-m1-mirage.dem\n"
     ]
    },
    {
     "name": "stdout",
     "output_type": "stream",
     "text": [
      "parsing    177 liquid-vs-hellraisers-m1-mirage.dem\n"
     ]
    },
    {
     "name": "stderr",
     "output_type": "stream",
     "text": [
      "22:58:13 [INFO] Wrote demo parse output to 177 liquid-vs-hellraisers-m1-mirage.json\n",
      "22:58:13 [INFO] Reading in JSON from 177 liquid-vs-hellraisers-m1-mirage.json\n",
      "22:58:14 [INFO] JSON data loaded, available in the `json` attribute to parser\n",
      "22:58:14 [INFO] Successfully parsed JSON output\n",
      "22:58:14 [INFO] Successfully returned JSON output\n",
      "22:58:20 [INFO] Go version>=1.14.0\n",
      "22:58:20 [INFO] Initialized CSGODemoParser with demofile D:\\EDAV\\177\\liquid-vs-hellraisers-m2-dust2.dem\n",
      "22:58:20 [INFO] Setting demo id to 177 liquid-vs-hellraisers-m2-dust2\n",
      "22:58:20 [INFO] Setting parse rate to 128\n",
      "22:58:20 [INFO] Setting trade time to 5\n",
      "22:58:20 [INFO] Setting buy style to hltv\n",
      "22:58:20 [INFO] Rollup damages set to False\n",
      "22:58:20 [INFO] Parse frames set to True\n",
      "22:58:20 [INFO] Running Golang parser from C:\\Users\\nguye\\anaconda3\\envs\\envTF24\\lib\\site-packages\\csgo-1.0-py3.7.egg\\csgo\\parser\\\n",
      "22:58:20 [INFO] Looking for file at D:\\EDAV\\177\\liquid-vs-hellraisers-m2-dust2.dem\n"
     ]
    },
    {
     "name": "stdout",
     "output_type": "stream",
     "text": [
      "parsing    177 liquid-vs-hellraisers-m2-dust2.dem\n"
     ]
    },
    {
     "name": "stderr",
     "output_type": "stream",
     "text": [
      "22:58:25 [INFO] Wrote demo parse output to 177 liquid-vs-hellraisers-m2-dust2.json\n",
      "22:58:25 [INFO] Reading in JSON from 177 liquid-vs-hellraisers-m2-dust2.json\n",
      "22:58:26 [INFO] JSON data loaded, available in the `json` attribute to parser\n",
      "22:58:26 [INFO] Successfully parsed JSON output\n",
      "22:58:26 [INFO] Successfully returned JSON output\n",
      "22:58:34 [INFO] Go version>=1.14.0\n",
      "22:58:34 [INFO] Initialized CSGODemoParser with demofile D:\\EDAV\\178\\MLGColumbus2016-luminosity-vs-virtuspro-bo3-map1-cache.dem\n",
      "22:58:34 [INFO] Setting demo id to 178 MLGColumbus2016-luminosity-vs-virtuspro-bo3-map1-cache\n",
      "22:58:34 [INFO] Setting parse rate to 128\n",
      "22:58:34 [INFO] Setting trade time to 5\n",
      "22:58:34 [INFO] Setting buy style to hltv\n",
      "22:58:34 [INFO] Rollup damages set to False\n",
      "22:58:34 [INFO] Parse frames set to True\n",
      "22:58:34 [INFO] Running Golang parser from C:\\Users\\nguye\\anaconda3\\envs\\envTF24\\lib\\site-packages\\csgo-1.0-py3.7.egg\\csgo\\parser\\\n",
      "22:58:34 [INFO] Looking for file at D:\\EDAV\\178\\MLGColumbus2016-luminosity-vs-virtuspro-bo3-map1-cache.dem\n"
     ]
    },
    {
     "name": "stdout",
     "output_type": "stream",
     "text": [
      "parsing    178 MLGColumbus2016-luminosity-vs-virtuspro-bo3-map1-cache.dem\n"
     ]
    },
    {
     "name": "stderr",
     "output_type": "stream",
     "text": [
      "22:58:41 [INFO] Wrote demo parse output to 178 MLGColumbus2016-luminosity-vs-virtuspro-bo3-map1-cache.json\n",
      "22:58:41 [INFO] Reading in JSON from 178 MLGColumbus2016-luminosity-vs-virtuspro-bo3-map1-cache.json\n",
      "22:58:42 [INFO] JSON data loaded, available in the `json` attribute to parser\n",
      "22:58:42 [INFO] Successfully parsed JSON output\n",
      "22:58:42 [INFO] Successfully returned JSON output\n",
      "22:58:53 [INFO] Go version>=1.14.0\n",
      "22:58:53 [INFO] Initialized CSGODemoParser with demofile D:\\EDAV\\178\\MLGColumbus2016-luminosity-vs-virtuspro-bo3-map2-cobblestone.dem\n",
      "22:58:53 [INFO] Setting demo id to 178 MLGColumbus2016-luminosity-vs-virtuspro-bo3-map2-cobblestone\n",
      "22:58:53 [INFO] Setting parse rate to 128\n",
      "22:58:53 [INFO] Setting trade time to 5\n",
      "22:58:53 [INFO] Setting buy style to hltv\n",
      "22:58:53 [INFO] Rollup damages set to False\n",
      "22:58:53 [INFO] Parse frames set to True\n",
      "22:58:53 [INFO] Running Golang parser from C:\\Users\\nguye\\anaconda3\\envs\\envTF24\\lib\\site-packages\\csgo-1.0-py3.7.egg\\csgo\\parser\\\n",
      "22:58:53 [INFO] Looking for file at D:\\EDAV\\178\\MLGColumbus2016-luminosity-vs-virtuspro-bo3-map2-cobblestone.dem\n"
     ]
    },
    {
     "name": "stdout",
     "output_type": "stream",
     "text": [
      "parsing    178 MLGColumbus2016-luminosity-vs-virtuspro-bo3-map2-cobblestone.dem\n"
     ]
    },
    {
     "name": "stderr",
     "output_type": "stream",
     "text": [
      "22:58:59 [INFO] Wrote demo parse output to 178 MLGColumbus2016-luminosity-vs-virtuspro-bo3-map2-cobblestone.json\n",
      "22:58:59 [INFO] Reading in JSON from 178 MLGColumbus2016-luminosity-vs-virtuspro-bo3-map2-cobblestone.json\n",
      "22:58:59 [INFO] JSON data loaded, available in the `json` attribute to parser\n",
      "22:58:59 [INFO] Successfully parsed JSON output\n",
      "22:58:59 [INFO] Successfully returned JSON output\n",
      "22:59:06 [INFO] Go version>=1.14.0\n",
      "22:59:06 [INFO] Initialized CSGODemoParser with demofile D:\\EDAV\\178\\MLGColumbus2016-luminosity-vs-virtuspro-bo3-map3-overpass.dem\n",
      "22:59:06 [INFO] Setting demo id to 178 MLGColumbus2016-luminosity-vs-virtuspro-bo3-map3-overpass\n",
      "22:59:06 [INFO] Setting parse rate to 128\n",
      "22:59:06 [INFO] Setting trade time to 5\n",
      "22:59:06 [INFO] Setting buy style to hltv\n",
      "22:59:06 [INFO] Rollup damages set to False\n",
      "22:59:06 [INFO] Parse frames set to True\n",
      "22:59:06 [INFO] Running Golang parser from C:\\Users\\nguye\\anaconda3\\envs\\envTF24\\lib\\site-packages\\csgo-1.0-py3.7.egg\\csgo\\parser\\\n",
      "22:59:06 [INFO] Looking for file at D:\\EDAV\\178\\MLGColumbus2016-luminosity-vs-virtuspro-bo3-map3-overpass.dem\n"
     ]
    },
    {
     "name": "stdout",
     "output_type": "stream",
     "text": [
      "parsing    178 MLGColumbus2016-luminosity-vs-virtuspro-bo3-map3-overpass.dem\n"
     ]
    },
    {
     "name": "stderr",
     "output_type": "stream",
     "text": [
      "22:59:13 [INFO] Wrote demo parse output to 178 MLGColumbus2016-luminosity-vs-virtuspro-bo3-map3-overpass.json\n",
      "22:59:13 [INFO] Reading in JSON from 178 MLGColumbus2016-luminosity-vs-virtuspro-bo3-map3-overpass.json\n",
      "22:59:14 [INFO] JSON data loaded, available in the `json` attribute to parser\n",
      "22:59:14 [INFO] Successfully parsed JSON output\n",
      "22:59:14 [INFO] Successfully returned JSON output\n",
      "22:59:23 [INFO] Go version>=1.14.0\n",
      "22:59:23 [INFO] Initialized CSGODemoParser with demofile D:\\EDAV\\179\\godsent-vs-gambit-overpass.dem\n",
      "22:59:23 [INFO] Setting demo id to 179 godsent-vs-gambit-overpass\n",
      "22:59:23 [INFO] Setting parse rate to 128\n",
      "22:59:23 [INFO] Setting trade time to 5\n",
      "22:59:23 [INFO] Setting buy style to hltv\n",
      "22:59:23 [INFO] Rollup damages set to False\n",
      "22:59:23 [INFO] Parse frames set to True\n",
      "22:59:23 [INFO] Running Golang parser from C:\\Users\\nguye\\anaconda3\\envs\\envTF24\\lib\\site-packages\\csgo-1.0-py3.7.egg\\csgo\\parser\\\n",
      "22:59:23 [INFO] Looking for file at D:\\EDAV\\179\\godsent-vs-gambit-overpass.dem\n"
     ]
    },
    {
     "name": "stdout",
     "output_type": "stream",
     "text": [
      "parsing    179 godsent-vs-gambit-overpass.dem\n"
     ]
    },
    {
     "name": "stderr",
     "output_type": "stream",
     "text": [
      "22:59:29 [INFO] Wrote demo parse output to 179 godsent-vs-gambit-overpass.json\n",
      "22:59:29 [INFO] Reading in JSON from 179 godsent-vs-gambit-overpass.json\n",
      "22:59:30 [INFO] JSON data loaded, available in the `json` attribute to parser\n",
      "22:59:30 [INFO] Successfully parsed JSON output\n",
      "22:59:30 [INFO] Successfully returned JSON output\n",
      "22:59:37 [INFO] Go version>=1.14.0\n",
      "22:59:37 [INFO] Initialized CSGODemoParser with demofile D:\\EDAV\\180\\north-vs-hellraisers-mirage.dem\n",
      "22:59:37 [INFO] Setting demo id to 180 north-vs-hellraisers-mirage\n",
      "22:59:37 [INFO] Setting parse rate to 128\n",
      "22:59:37 [INFO] Setting trade time to 5\n",
      "22:59:37 [INFO] Setting buy style to hltv\n",
      "22:59:37 [INFO] Rollup damages set to False\n",
      "22:59:37 [INFO] Parse frames set to True\n",
      "22:59:37 [INFO] Running Golang parser from C:\\Users\\nguye\\anaconda3\\envs\\envTF24\\lib\\site-packages\\csgo-1.0-py3.7.egg\\csgo\\parser\\\n",
      "22:59:37 [INFO] Looking for file at D:\\EDAV\\180\\north-vs-hellraisers-mirage.dem\n"
     ]
    },
    {
     "name": "stdout",
     "output_type": "stream",
     "text": [
      "parsing    180 north-vs-hellraisers-mirage.dem\n"
     ]
    },
    {
     "name": "stderr",
     "output_type": "stream",
     "text": [
      "22:59:44 [INFO] Wrote demo parse output to 180 north-vs-hellraisers-mirage.json\n",
      "22:59:44 [INFO] Reading in JSON from 180 north-vs-hellraisers-mirage.json\n",
      "22:59:44 [INFO] JSON data loaded, available in the `json` attribute to parser\n",
      "22:59:44 [INFO] Successfully parsed JSON output\n",
      "22:59:44 [INFO] Successfully returned JSON output\n",
      "22:59:55 [INFO] Go version>=1.14.0\n",
      "22:59:55 [INFO] Initialized CSGODemoParser with demofile D:\\EDAV\\181\\liquid-vs-envyus-cache.dem\n",
      "22:59:55 [INFO] Setting demo id to 181 liquid-vs-envyus-cache\n",
      "22:59:55 [INFO] Setting parse rate to 128\n",
      "22:59:55 [INFO] Setting trade time to 5\n",
      "22:59:55 [INFO] Setting buy style to hltv\n",
      "22:59:55 [INFO] Rollup damages set to False\n",
      "22:59:55 [INFO] Parse frames set to True\n",
      "22:59:55 [INFO] Running Golang parser from C:\\Users\\nguye\\anaconda3\\envs\\envTF24\\lib\\site-packages\\csgo-1.0-py3.7.egg\\csgo\\parser\\\n",
      "22:59:55 [INFO] Looking for file at D:\\EDAV\\181\\liquid-vs-envyus-cache.dem\n"
     ]
    },
    {
     "name": "stdout",
     "output_type": "stream",
     "text": [
      "parsing    181 liquid-vs-envyus-cache.dem\n"
     ]
    },
    {
     "name": "stderr",
     "output_type": "stream",
     "text": [
      "23:00:03 [INFO] Wrote demo parse output to 181 liquid-vs-envyus-cache.json\n",
      "23:00:03 [INFO] Reading in JSON from 181 liquid-vs-envyus-cache.json\n",
      "23:00:04 [INFO] JSON data loaded, available in the `json` attribute to parser\n",
      "23:00:04 [INFO] Successfully parsed JSON output\n",
      "23:00:04 [INFO] Successfully returned JSON output\n",
      "23:00:18 [INFO] Go version>=1.14.0\n",
      "23:00:18 [INFO] Initialized CSGODemoParser with demofile D:\\EDAV\\182\\ESLOneKatowice2015-Groups-tsm-vs-cloud9-overpass.dem\n",
      "23:00:18 [INFO] Setting demo id to 182 ESLOneKatowice2015-Groups-tsm-vs-cloud9-overpass\n",
      "23:00:18 [INFO] Setting parse rate to 128\n",
      "23:00:18 [INFO] Setting trade time to 5\n",
      "23:00:18 [INFO] Setting buy style to hltv\n",
      "23:00:18 [INFO] Rollup damages set to False\n",
      "23:00:18 [INFO] Parse frames set to True\n",
      "23:00:18 [INFO] Running Golang parser from C:\\Users\\nguye\\anaconda3\\envs\\envTF24\\lib\\site-packages\\csgo-1.0-py3.7.egg\\csgo\\parser\\\n",
      "23:00:18 [INFO] Looking for file at D:\\EDAV\\182\\ESLOneKatowice2015-Groups-tsm-vs-cloud9-overpass.dem\n"
     ]
    },
    {
     "name": "stdout",
     "output_type": "stream",
     "text": [
      "parsing    182 ESLOneKatowice2015-Groups-tsm-vs-cloud9-overpass.dem\n"
     ]
    },
    {
     "name": "stderr",
     "output_type": "stream",
     "text": [
      "23:00:20 [INFO] Wrote demo parse output to 182 ESLOneKatowice2015-Groups-tsm-vs-cloud9-overpass.json\n",
      "23:00:20 [INFO] Reading in JSON from 182 ESLOneKatowice2015-Groups-tsm-vs-cloud9-overpass.json\n",
      "23:00:20 [INFO] JSON data loaded, available in the `json` attribute to parser\n",
      "23:00:20 [INFO] Successfully parsed JSON output\n",
      "23:00:20 [INFO] Successfully returned JSON output\n",
      "23:00:21 [INFO] Go version>=1.14.0\n",
      "23:00:21 [INFO] Initialized CSGODemoParser with demofile D:\\EDAV\\183\\natus-vincere-vs-nip-train.dem\n",
      "23:00:21 [INFO] Setting demo id to 183 natus-vincere-vs-nip-train\n",
      "23:00:21 [INFO] Setting parse rate to 128\n",
      "23:00:21 [INFO] Setting trade time to 5\n",
      "23:00:21 [INFO] Setting buy style to hltv\n",
      "23:00:21 [INFO] Rollup damages set to False\n",
      "23:00:21 [INFO] Parse frames set to True\n",
      "23:00:21 [INFO] Running Golang parser from C:\\Users\\nguye\\anaconda3\\envs\\envTF24\\lib\\site-packages\\csgo-1.0-py3.7.egg\\csgo\\parser\\\n",
      "23:00:21 [INFO] Looking for file at D:\\EDAV\\183\\natus-vincere-vs-nip-train.dem\n"
     ]
    },
    {
     "name": "stdout",
     "output_type": "stream",
     "text": [
      "parsing    183 natus-vincere-vs-nip-train.dem\n"
     ]
    },
    {
     "name": "stderr",
     "output_type": "stream",
     "text": [
      "23:00:26 [INFO] Wrote demo parse output to 183 natus-vincere-vs-nip-train.json\n",
      "23:00:26 [INFO] Reading in JSON from 183 natus-vincere-vs-nip-train.json\n",
      "23:00:26 [INFO] JSON data loaded, available in the `json` attribute to parser\n",
      "23:00:26 [INFO] Successfully parsed JSON output\n",
      "23:00:26 [INFO] Successfully returned JSON output\n",
      "23:00:32 [INFO] Go version>=1.14.0\n",
      "23:00:32 [INFO] Initialized CSGODemoParser with demofile D:\\EDAV\\184\\renegades-vs-avangar-m2-dust2.dem\n",
      "23:00:32 [INFO] Setting demo id to 184 renegades-vs-avangar-m2-dust2\n",
      "23:00:32 [INFO] Setting parse rate to 128\n",
      "23:00:32 [INFO] Setting trade time to 5\n",
      "23:00:32 [INFO] Setting buy style to hltv\n",
      "23:00:32 [INFO] Rollup damages set to False\n",
      "23:00:32 [INFO] Parse frames set to True\n",
      "23:00:32 [INFO] Running Golang parser from C:\\Users\\nguye\\anaconda3\\envs\\envTF24\\lib\\site-packages\\csgo-1.0-py3.7.egg\\csgo\\parser\\\n",
      "23:00:32 [INFO] Looking for file at D:\\EDAV\\184\\renegades-vs-avangar-m2-dust2.dem\n"
     ]
    },
    {
     "name": "stdout",
     "output_type": "stream",
     "text": [
      "parsing    184 renegades-vs-avangar-m2-dust2.dem\n"
     ]
    },
    {
     "name": "stderr",
     "output_type": "stream",
     "text": [
      "23:00:37 [INFO] Wrote demo parse output to 184 renegades-vs-avangar-m2-dust2.json\n",
      "23:00:37 [INFO] Reading in JSON from 184 renegades-vs-avangar-m2-dust2.json\n",
      "23:00:37 [INFO] JSON data loaded, available in the `json` attribute to parser\n",
      "23:00:37 [INFO] Successfully parsed JSON output\n",
      "23:00:37 [INFO] Successfully returned JSON output\n",
      "23:00:44 [INFO] Go version>=1.14.0\n",
      "23:00:44 [INFO] Initialized CSGODemoParser with demofile D:\\EDAV\\184\\renegades-vs-avangar-m1-mirage.dem\n",
      "23:00:44 [INFO] Setting demo id to 184 renegades-vs-avangar-m1-mirage\n",
      "23:00:44 [INFO] Setting parse rate to 128\n",
      "23:00:44 [INFO] Setting trade time to 5\n",
      "23:00:44 [INFO] Setting buy style to hltv\n",
      "23:00:44 [INFO] Rollup damages set to False\n",
      "23:00:44 [INFO] Parse frames set to True\n",
      "23:00:44 [INFO] Running Golang parser from C:\\Users\\nguye\\anaconda3\\envs\\envTF24\\lib\\site-packages\\csgo-1.0-py3.7.egg\\csgo\\parser\\\n",
      "23:00:44 [INFO] Looking for file at D:\\EDAV\\184\\renegades-vs-avangar-m1-mirage.dem\n"
     ]
    },
    {
     "name": "stdout",
     "output_type": "stream",
     "text": [
      "parsing    184 renegades-vs-avangar-m1-mirage.dem\n"
     ]
    },
    {
     "name": "stderr",
     "output_type": "stream",
     "text": [
      "23:00:51 [INFO] Wrote demo parse output to 184 renegades-vs-avangar-m1-mirage.json\n",
      "23:00:51 [INFO] Reading in JSON from 184 renegades-vs-avangar-m1-mirage.json\n",
      "23:00:52 [INFO] JSON data loaded, available in the `json` attribute to parser\n",
      "23:00:52 [INFO] Successfully parsed JSON output\n",
      "23:00:52 [INFO] Successfully returned JSON output\n",
      "23:01:06 [INFO] Go version>=1.14.0\n",
      "23:01:06 [INFO] Initialized CSGODemoParser with demofile D:\\EDAV\\185\\DHW14-GroupD-navi-vs-flipside-overpass.dem\n",
      "23:01:06 [INFO] Setting demo id to 185 DHW14-GroupD-navi-vs-flipside-overpass\n",
      "23:01:06 [INFO] Setting parse rate to 128\n",
      "23:01:06 [INFO] Setting trade time to 5\n",
      "23:01:06 [INFO] Setting buy style to hltv\n",
      "23:01:06 [INFO] Rollup damages set to False\n",
      "23:01:06 [INFO] Parse frames set to True\n",
      "23:01:06 [INFO] Running Golang parser from C:\\Users\\nguye\\anaconda3\\envs\\envTF24\\lib\\site-packages\\csgo-1.0-py3.7.egg\\csgo\\parser\\\n",
      "23:01:06 [INFO] Looking for file at D:\\EDAV\\185\\DHW14-GroupD-navi-vs-flipside-overpass.dem\n"
     ]
    },
    {
     "name": "stdout",
     "output_type": "stream",
     "text": [
      "parsing    185 DHW14-GroupD-navi-vs-flipside-overpass.dem\n"
     ]
    },
    {
     "name": "stderr",
     "output_type": "stream",
     "text": [
      "23:01:08 [INFO] Wrote demo parse output to 185 DHW14-GroupD-navi-vs-flipside-overpass.json\n",
      "23:01:08 [INFO] Reading in JSON from 185 DHW14-GroupD-navi-vs-flipside-overpass.json\n",
      "23:01:08 [INFO] JSON data loaded, available in the `json` attribute to parser\n",
      "23:01:08 [INFO] Successfully parsed JSON output\n",
      "23:01:08 [INFO] Successfully returned JSON output\n",
      "23:01:10 [INFO] Go version>=1.14.0\n",
      "23:01:10 [INFO] Initialized CSGODemoParser with demofile D:\\EDAV\\186\\MLGColumbus2016-cloud9-vs-g2-dust2.dem\n",
      "23:01:10 [INFO] Setting demo id to 186 MLGColumbus2016-cloud9-vs-g2-dust2\n",
      "23:01:10 [INFO] Setting parse rate to 128\n",
      "23:01:10 [INFO] Setting trade time to 5\n",
      "23:01:10 [INFO] Setting buy style to hltv\n",
      "23:01:10 [INFO] Rollup damages set to False\n",
      "23:01:10 [INFO] Parse frames set to True\n",
      "23:01:10 [INFO] Running Golang parser from C:\\Users\\nguye\\anaconda3\\envs\\envTF24\\lib\\site-packages\\csgo-1.0-py3.7.egg\\csgo\\parser\\\n",
      "23:01:10 [INFO] Looking for file at D:\\EDAV\\186\\MLGColumbus2016-cloud9-vs-g2-dust2.dem\n"
     ]
    },
    {
     "name": "stdout",
     "output_type": "stream",
     "text": [
      "parsing    186 MLGColumbus2016-cloud9-vs-g2-dust2.dem\n"
     ]
    },
    {
     "name": "stderr",
     "output_type": "stream",
     "text": [
      "23:01:14 [INFO] Wrote demo parse output to 186 MLGColumbus2016-cloud9-vs-g2-dust2.json\n",
      "23:01:14 [INFO] Reading in JSON from 186 MLGColumbus2016-cloud9-vs-g2-dust2.json\n",
      "23:01:14 [INFO] JSON data loaded, available in the `json` attribute to parser\n",
      "23:01:14 [INFO] Successfully parsed JSON output\n",
      "23:01:14 [INFO] Successfully returned JSON output\n",
      "23:01:19 [INFO] Go version>=1.14.0\n",
      "23:01:19 [INFO] Initialized CSGODemoParser with demofile D:\\EDAV\\187\\faze-vs-sk-map3-overpass.dem\n",
      "23:01:19 [INFO] Setting demo id to 187 faze-vs-sk-map3-overpass\n",
      "23:01:19 [INFO] Setting parse rate to 128\n",
      "23:01:19 [INFO] Setting trade time to 5\n",
      "23:01:19 [INFO] Setting buy style to hltv\n",
      "23:01:19 [INFO] Rollup damages set to False\n",
      "23:01:19 [INFO] Parse frames set to True\n",
      "23:01:19 [INFO] Running Golang parser from C:\\Users\\nguye\\anaconda3\\envs\\envTF24\\lib\\site-packages\\csgo-1.0-py3.7.egg\\csgo\\parser\\\n",
      "23:01:19 [INFO] Looking for file at D:\\EDAV\\187\\faze-vs-sk-map3-overpass.dem\n"
     ]
    },
    {
     "name": "stdout",
     "output_type": "stream",
     "text": [
      "parsing    187 faze-vs-sk-map3-overpass.dem\n"
     ]
    },
    {
     "name": "stderr",
     "output_type": "stream",
     "text": [
      "23:01:24 [INFO] Wrote demo parse output to 187 faze-vs-sk-map3-overpass.json\n",
      "23:01:24 [INFO] Reading in JSON from 187 faze-vs-sk-map3-overpass.json\n",
      "23:01:24 [INFO] JSON data loaded, available in the `json` attribute to parser\n",
      "23:01:24 [INFO] Successfully parsed JSON output\n",
      "23:01:24 [INFO] Successfully returned JSON output\n",
      "23:01:31 [INFO] Go version>=1.14.0\n",
      "23:01:31 [INFO] Initialized CSGODemoParser with demofile D:\\EDAV\\187\\faze-vs-sk-map1-mirage.dem\n",
      "23:01:31 [INFO] Setting demo id to 187 faze-vs-sk-map1-mirage\n",
      "23:01:31 [INFO] Setting parse rate to 128\n",
      "23:01:31 [INFO] Setting trade time to 5\n",
      "23:01:31 [INFO] Setting buy style to hltv\n",
      "23:01:31 [INFO] Rollup damages set to False\n",
      "23:01:31 [INFO] Parse frames set to True\n",
      "23:01:31 [INFO] Running Golang parser from C:\\Users\\nguye\\anaconda3\\envs\\envTF24\\lib\\site-packages\\csgo-1.0-py3.7.egg\\csgo\\parser\\\n",
      "23:01:31 [INFO] Looking for file at D:\\EDAV\\187\\faze-vs-sk-map1-mirage.dem\n"
     ]
    },
    {
     "name": "stdout",
     "output_type": "stream",
     "text": [
      "parsing    187 faze-vs-sk-map1-mirage.dem\n"
     ]
    },
    {
     "name": "stderr",
     "output_type": "stream",
     "text": [
      "23:01:35 [INFO] Wrote demo parse output to 187 faze-vs-sk-map1-mirage.json\n",
      "23:01:35 [INFO] Reading in JSON from 187 faze-vs-sk-map1-mirage.json\n",
      "23:01:36 [INFO] JSON data loaded, available in the `json` attribute to parser\n",
      "23:01:36 [INFO] Successfully parsed JSON output\n",
      "23:01:36 [INFO] Successfully returned JSON output\n",
      "23:01:43 [INFO] Go version>=1.14.0\n",
      "23:01:43 [INFO] Initialized CSGODemoParser with demofile D:\\EDAV\\187\\faze-vs-sk-map2-train.dem\n",
      "23:01:43 [INFO] Setting demo id to 187 faze-vs-sk-map2-train\n",
      "23:01:43 [INFO] Setting parse rate to 128\n",
      "23:01:43 [INFO] Setting trade time to 5\n",
      "23:01:43 [INFO] Setting buy style to hltv\n",
      "23:01:43 [INFO] Rollup damages set to False\n",
      "23:01:43 [INFO] Parse frames set to True\n",
      "23:01:43 [INFO] Running Golang parser from C:\\Users\\nguye\\anaconda3\\envs\\envTF24\\lib\\site-packages\\csgo-1.0-py3.7.egg\\csgo\\parser\\\n",
      "23:01:43 [INFO] Looking for file at D:\\EDAV\\187\\faze-vs-sk-map2-train.dem\n"
     ]
    },
    {
     "name": "stdout",
     "output_type": "stream",
     "text": [
      "parsing    187 faze-vs-sk-map2-train.dem\n"
     ]
    },
    {
     "name": "stderr",
     "output_type": "stream",
     "text": [
      "23:01:46 [INFO] Wrote demo parse output to 187 faze-vs-sk-map2-train.json\n",
      "23:01:46 [INFO] Reading in JSON from 187 faze-vs-sk-map2-train.json\n",
      "23:01:47 [INFO] JSON data loaded, available in the `json` attribute to parser\n",
      "23:01:47 [INFO] Successfully parsed JSON output\n",
      "23:01:47 [INFO] Successfully returned JSON output\n",
      "23:01:51 [INFO] Go version>=1.14.0\n",
      "23:01:51 [INFO] Initialized CSGODemoParser with demofile D:\\EDAV\\188\\ESLOneCologne2015-virtuspro-vs-nip-train.dem\n",
      "23:01:51 [INFO] Setting demo id to 188 ESLOneCologne2015-virtuspro-vs-nip-train\n",
      "23:01:51 [INFO] Setting parse rate to 128\n",
      "23:01:51 [INFO] Setting trade time to 5\n",
      "23:01:51 [INFO] Setting buy style to hltv\n",
      "23:01:51 [INFO] Rollup damages set to False\n",
      "23:01:51 [INFO] Parse frames set to True\n",
      "23:01:51 [INFO] Running Golang parser from C:\\Users\\nguye\\anaconda3\\envs\\envTF24\\lib\\site-packages\\csgo-1.0-py3.7.egg\\csgo\\parser\\\n",
      "23:01:51 [INFO] Looking for file at D:\\EDAV\\188\\ESLOneCologne2015-virtuspro-vs-nip-train.dem\n"
     ]
    },
    {
     "name": "stdout",
     "output_type": "stream",
     "text": [
      "parsing    188 ESLOneCologne2015-virtuspro-vs-nip-train.dem\n"
     ]
    },
    {
     "name": "stderr",
     "output_type": "stream",
     "text": [
      "23:01:53 [INFO] Wrote demo parse output to 188 ESLOneCologne2015-virtuspro-vs-nip-train.json\n",
      "23:01:53 [INFO] Reading in JSON from 188 ESLOneCologne2015-virtuspro-vs-nip-train.json\n",
      "23:01:54 [INFO] JSON data loaded, available in the `json` attribute to parser\n",
      "23:01:54 [INFO] Successfully parsed JSON output\n",
      "23:01:54 [INFO] Successfully returned JSON output\n",
      "23:01:56 [INFO] Go version>=1.14.0\n",
      "23:01:56 [INFO] Initialized CSGODemoParser with demofile D:\\EDAV\\188\\ESLOneCologne2015-virtuspro-vs-nip-inferno.dem\n",
      "23:01:56 [INFO] Setting demo id to 188 ESLOneCologne2015-virtuspro-vs-nip-inferno\n",
      "23:01:56 [INFO] Setting parse rate to 128\n",
      "23:01:56 [INFO] Setting trade time to 5\n",
      "23:01:56 [INFO] Setting buy style to hltv\n",
      "23:01:56 [INFO] Rollup damages set to False\n",
      "23:01:56 [INFO] Parse frames set to True\n",
      "23:01:56 [INFO] Running Golang parser from C:\\Users\\nguye\\anaconda3\\envs\\envTF24\\lib\\site-packages\\csgo-1.0-py3.7.egg\\csgo\\parser\\\n",
      "23:01:56 [INFO] Looking for file at D:\\EDAV\\188\\ESLOneCologne2015-virtuspro-vs-nip-inferno.dem\n"
     ]
    },
    {
     "name": "stdout",
     "output_type": "stream",
     "text": [
      "parsing    188 ESLOneCologne2015-virtuspro-vs-nip-inferno.dem\n"
     ]
    },
    {
     "name": "stderr",
     "output_type": "stream",
     "text": [
      "23:01:58 [INFO] Wrote demo parse output to 188 ESLOneCologne2015-virtuspro-vs-nip-inferno.json\n",
      "23:01:58 [INFO] Reading in JSON from 188 ESLOneCologne2015-virtuspro-vs-nip-inferno.json\n",
      "23:01:58 [INFO] JSON data loaded, available in the `json` attribute to parser\n",
      "23:01:58 [INFO] Successfully parsed JSON output\n",
      "23:01:58 [INFO] Successfully returned JSON output\n",
      "23:02:00 [INFO] Go version>=1.14.0\n",
      "23:02:00 [INFO] Initialized CSGODemoParser with demofile D:\\EDAV\\189\\003105598155605934161_1717882650_1_envyus_vs_natusvincere_mirage.dem\n",
      "23:02:00 [INFO] Setting demo id to 189 003105598155605934161_1717882650_1_envyus_vs_natusvincere_mirage\n",
      "23:02:00 [INFO] Setting parse rate to 128\n",
      "23:02:00 [INFO] Setting trade time to 5\n",
      "23:02:00 [INFO] Setting buy style to hltv\n",
      "23:02:00 [INFO] Rollup damages set to False\n",
      "23:02:00 [INFO] Parse frames set to True\n",
      "23:02:00 [INFO] Running Golang parser from C:\\Users\\nguye\\anaconda3\\envs\\envTF24\\lib\\site-packages\\csgo-1.0-py3.7.egg\\csgo\\parser\\\n",
      "23:02:00 [INFO] Looking for file at D:\\EDAV\\189\\003105598155605934161_1717882650_1_envyus_vs_natusvincere_mirage.dem\n"
     ]
    },
    {
     "name": "stdout",
     "output_type": "stream",
     "text": [
      "parsing    189 003105598155605934161_1717882650_1_envyus_vs_natusvincere_mirage.dem\n"
     ]
    },
    {
     "name": "stderr",
     "output_type": "stream",
     "text": [
      "23:02:04 [INFO] Wrote demo parse output to 189 003105598155605934161_1717882650_1_envyus_vs_natusvincere_mirage.json\n",
      "23:02:04 [INFO] Reading in JSON from 189 003105598155605934161_1717882650_1_envyus_vs_natusvincere_mirage.json\n",
      "23:02:05 [INFO] JSON data loaded, available in the `json` attribute to parser\n",
      "23:02:05 [INFO] Successfully parsed JSON output\n",
      "23:02:05 [INFO] Successfully returned JSON output\n",
      "23:02:11 [INFO] Go version>=1.14.0\n",
      "23:02:11 [INFO] Initialized CSGODemoParser with demofile D:\\EDAV\\190\\003105549276730622074_0458887648_1_dignitas_vs_clg_cobblestone.dem\n",
      "23:02:11 [INFO] Setting demo id to 190 003105549276730622074_0458887648_1_dignitas_vs_clg_cobblestone\n",
      "23:02:11 [INFO] Setting parse rate to 128\n",
      "23:02:11 [INFO] Setting trade time to 5\n",
      "23:02:11 [INFO] Setting buy style to hltv\n",
      "23:02:11 [INFO] Rollup damages set to False\n",
      "23:02:11 [INFO] Parse frames set to True\n",
      "23:02:11 [INFO] Running Golang parser from C:\\Users\\nguye\\anaconda3\\envs\\envTF24\\lib\\site-packages\\csgo-1.0-py3.7.egg\\csgo\\parser\\\n",
      "23:02:11 [INFO] Looking for file at D:\\EDAV\\190\\003105549276730622074_0458887648_1_dignitas_vs_clg_cobblestone.dem\n"
     ]
    },
    {
     "name": "stdout",
     "output_type": "stream",
     "text": [
      "parsing    190 003105549276730622074_0458887648_1_dignitas_vs_clg_cobblestone.dem\n"
     ]
    },
    {
     "name": "stderr",
     "output_type": "stream",
     "text": [
      "23:02:17 [INFO] Wrote demo parse output to 190 003105549276730622074_0458887648_1_dignitas_vs_clg_cobblestone.json\n",
      "23:02:17 [INFO] Reading in JSON from 190 003105549276730622074_0458887648_1_dignitas_vs_clg_cobblestone.json\n",
      "23:02:17 [INFO] JSON data loaded, available in the `json` attribute to parser\n",
      "23:02:17 [INFO] Successfully parsed JSON output\n",
      "23:02:17 [INFO] Successfully returned JSON output\n",
      "23:02:26 [INFO] Go version>=1.14.0\n",
      "23:02:26 [INFO] Initialized CSGODemoParser with demofile D:\\EDAV\\191\\ESLOneCologne2016-dignitas-vs-clg-cobblestone.dem\n",
      "23:02:26 [INFO] Setting demo id to 191 ESLOneCologne2016-dignitas-vs-clg-cobblestone\n",
      "23:02:26 [INFO] Setting parse rate to 128\n",
      "23:02:26 [INFO] Setting trade time to 5\n",
      "23:02:26 [INFO] Setting buy style to hltv\n",
      "23:02:26 [INFO] Rollup damages set to False\n",
      "23:02:26 [INFO] Parse frames set to True\n",
      "23:02:26 [INFO] Running Golang parser from C:\\Users\\nguye\\anaconda3\\envs\\envTF24\\lib\\site-packages\\csgo-1.0-py3.7.egg\\csgo\\parser\\\n",
      "23:02:26 [INFO] Looking for file at D:\\EDAV\\191\\ESLOneCologne2016-dignitas-vs-clg-cobblestone.dem\n"
     ]
    },
    {
     "name": "stdout",
     "output_type": "stream",
     "text": [
      "parsing    191 ESLOneCologne2016-dignitas-vs-clg-cobblestone.dem\n"
     ]
    },
    {
     "name": "stderr",
     "output_type": "stream",
     "text": [
      "23:02:30 [INFO] Wrote demo parse output to 191 ESLOneCologne2016-dignitas-vs-clg-cobblestone.json\n",
      "23:02:30 [INFO] Reading in JSON from 191 ESLOneCologne2016-dignitas-vs-clg-cobblestone.json\n",
      "23:02:30 [INFO] JSON data loaded, available in the `json` attribute to parser\n",
      "23:02:30 [INFO] Successfully parsed JSON output\n",
      "23:02:30 [INFO] Successfully returned JSON output\n",
      "23:02:36 [INFO] Go version>=1.14.0\n",
      "23:02:36 [INFO] Initialized CSGODemoParser with demofile D:\\EDAV\\192\\ence-vs-big-m3-overpass.dem\n",
      "23:02:36 [INFO] Setting demo id to 192 ence-vs-big-m3-overpass\n",
      "23:02:36 [INFO] Setting parse rate to 128\n",
      "23:02:36 [INFO] Setting trade time to 5\n",
      "23:02:36 [INFO] Setting buy style to hltv\n",
      "23:02:36 [INFO] Rollup damages set to False\n",
      "23:02:36 [INFO] Parse frames set to True\n",
      "23:02:36 [INFO] Running Golang parser from C:\\Users\\nguye\\anaconda3\\envs\\envTF24\\lib\\site-packages\\csgo-1.0-py3.7.egg\\csgo\\parser\\\n",
      "23:02:36 [INFO] Looking for file at D:\\EDAV\\192\\ence-vs-big-m3-overpass.dem\n"
     ]
    },
    {
     "name": "stdout",
     "output_type": "stream",
     "text": [
      "parsing    192 ence-vs-big-m3-overpass.dem\n"
     ]
    },
    {
     "name": "stderr",
     "output_type": "stream",
     "text": [
      "23:02:42 [INFO] Wrote demo parse output to 192 ence-vs-big-m3-overpass.json\n",
      "23:02:42 [INFO] Reading in JSON from 192 ence-vs-big-m3-overpass.json\n",
      "23:02:43 [INFO] JSON data loaded, available in the `json` attribute to parser\n",
      "23:02:43 [INFO] Successfully parsed JSON output\n",
      "23:02:43 [INFO] Successfully returned JSON output\n",
      "23:02:50 [INFO] Go version>=1.14.0\n",
      "23:02:50 [INFO] Initialized CSGODemoParser with demofile D:\\EDAV\\192\\ence-vs-big-m1-dust2.dem\n",
      "23:02:50 [INFO] Setting demo id to 192 ence-vs-big-m1-dust2\n",
      "23:02:50 [INFO] Setting parse rate to 128\n",
      "23:02:50 [INFO] Setting trade time to 5\n",
      "23:02:50 [INFO] Setting buy style to hltv\n",
      "23:02:50 [INFO] Rollup damages set to False\n",
      "23:02:50 [INFO] Parse frames set to True\n",
      "23:02:50 [INFO] Running Golang parser from C:\\Users\\nguye\\anaconda3\\envs\\envTF24\\lib\\site-packages\\csgo-1.0-py3.7.egg\\csgo\\parser\\\n",
      "23:02:50 [INFO] Looking for file at D:\\EDAV\\192\\ence-vs-big-m1-dust2.dem\n"
     ]
    },
    {
     "name": "stdout",
     "output_type": "stream",
     "text": [
      "parsing    192 ence-vs-big-m1-dust2.dem\n"
     ]
    },
    {
     "name": "stderr",
     "output_type": "stream",
     "text": [
      "23:02:55 [INFO] Wrote demo parse output to 192 ence-vs-big-m1-dust2.json\n",
      "23:02:55 [INFO] Reading in JSON from 192 ence-vs-big-m1-dust2.json\n",
      "23:02:55 [INFO] JSON data loaded, available in the `json` attribute to parser\n",
      "23:02:55 [INFO] Successfully parsed JSON output\n",
      "23:02:55 [INFO] Successfully returned JSON output\n",
      "23:03:01 [INFO] Go version>=1.14.0\n",
      "23:03:01 [INFO] Initialized CSGODemoParser with demofile D:\\EDAV\\192\\ence-vs-big-m2-train.dem\n",
      "23:03:01 [INFO] Setting demo id to 192 ence-vs-big-m2-train\n",
      "23:03:01 [INFO] Setting parse rate to 128\n",
      "23:03:01 [INFO] Setting trade time to 5\n",
      "23:03:01 [INFO] Setting buy style to hltv\n",
      "23:03:01 [INFO] Rollup damages set to False\n",
      "23:03:01 [INFO] Parse frames set to True\n",
      "23:03:01 [INFO] Running Golang parser from C:\\Users\\nguye\\anaconda3\\envs\\envTF24\\lib\\site-packages\\csgo-1.0-py3.7.egg\\csgo\\parser\\\n",
      "23:03:01 [INFO] Looking for file at D:\\EDAV\\192\\ence-vs-big-m2-train.dem\n"
     ]
    },
    {
     "name": "stdout",
     "output_type": "stream",
     "text": [
      "parsing    192 ence-vs-big-m2-train.dem\n"
     ]
    },
    {
     "name": "stderr",
     "output_type": "stream",
     "text": [
      "23:03:06 [INFO] Wrote demo parse output to 192 ence-vs-big-m2-train.json\n",
      "23:03:06 [INFO] Reading in JSON from 192 ence-vs-big-m2-train.json\n",
      "23:03:07 [INFO] JSON data loaded, available in the `json` attribute to parser\n",
      "23:03:07 [INFO] Successfully parsed JSON output\n",
      "23:03:07 [INFO] Successfully returned JSON output\n",
      "23:03:15 [INFO] Go version>=1.14.0\n",
      "23:03:15 [INFO] Initialized CSGODemoParser with demofile D:\\EDAV\\193\\virtuspro-vs-g2-nuke.dem\n",
      "23:03:15 [INFO] Setting demo id to 193 virtuspro-vs-g2-nuke\n",
      "23:03:15 [INFO] Setting parse rate to 128\n",
      "23:03:15 [INFO] Setting trade time to 5\n",
      "23:03:15 [INFO] Setting buy style to hltv\n",
      "23:03:15 [INFO] Rollup damages set to False\n",
      "23:03:15 [INFO] Parse frames set to True\n",
      "23:03:15 [INFO] Running Golang parser from C:\\Users\\nguye\\anaconda3\\envs\\envTF24\\lib\\site-packages\\csgo-1.0-py3.7.egg\\csgo\\parser\\\n",
      "23:03:15 [INFO] Looking for file at D:\\EDAV\\193\\virtuspro-vs-g2-nuke.dem\n"
     ]
    },
    {
     "name": "stdout",
     "output_type": "stream",
     "text": [
      "parsing    193 virtuspro-vs-g2-nuke.dem\n"
     ]
    },
    {
     "name": "stderr",
     "output_type": "stream",
     "text": [
      "23:03:20 [INFO] Wrote demo parse output to 193 virtuspro-vs-g2-nuke.json\n",
      "23:03:20 [INFO] Reading in JSON from 193 virtuspro-vs-g2-nuke.json\n",
      "23:03:21 [INFO] JSON data loaded, available in the `json` attribute to parser\n",
      "23:03:21 [INFO] Successfully parsed JSON output\n",
      "23:03:21 [INFO] Successfully returned JSON output\n",
      "23:03:28 [INFO] Go version>=1.14.0\n",
      "23:03:28 [INFO] Initialized CSGODemoParser with demofile D:\\EDAV\\194\\qb-fire-vs-gambit-inferno.dem\n",
      "23:03:28 [INFO] Setting demo id to 194 qb-fire-vs-gambit-inferno\n",
      "23:03:28 [INFO] Setting parse rate to 128\n",
      "23:03:28 [INFO] Setting trade time to 5\n",
      "23:03:28 [INFO] Setting buy style to hltv\n",
      "23:03:28 [INFO] Rollup damages set to False\n",
      "23:03:28 [INFO] Parse frames set to True\n",
      "23:03:28 [INFO] Running Golang parser from C:\\Users\\nguye\\anaconda3\\envs\\envTF24\\lib\\site-packages\\csgo-1.0-py3.7.egg\\csgo\\parser\\\n",
      "23:03:28 [INFO] Looking for file at D:\\EDAV\\194\\qb-fire-vs-gambit-inferno.dem\n"
     ]
    },
    {
     "name": "stdout",
     "output_type": "stream",
     "text": [
      "parsing    194 qb-fire-vs-gambit-inferno.dem\n"
     ]
    },
    {
     "name": "stderr",
     "output_type": "stream",
     "text": [
      "23:03:35 [INFO] Wrote demo parse output to 194 qb-fire-vs-gambit-inferno.json\n",
      "23:03:35 [INFO] Reading in JSON from 194 qb-fire-vs-gambit-inferno.json\n",
      "23:03:35 [INFO] JSON data loaded, available in the `json` attribute to parser\n",
      "23:03:35 [INFO] Successfully parsed JSON output\n",
      "23:03:35 [INFO] Successfully returned JSON output\n",
      "23:03:47 [INFO] Go version>=1.14.0\n",
      "23:03:47 [INFO] Initialized CSGODemoParser with demofile D:\\EDAV\\195\\ESLOneCologne2016-fnatic-vs-faze-dust2.dem\n",
      "23:03:47 [INFO] Setting demo id to 195 ESLOneCologne2016-fnatic-vs-faze-dust2\n",
      "23:03:47 [INFO] Setting parse rate to 128\n",
      "23:03:47 [INFO] Setting trade time to 5\n",
      "23:03:47 [INFO] Setting buy style to hltv\n",
      "23:03:47 [INFO] Rollup damages set to False\n",
      "23:03:47 [INFO] Parse frames set to True\n",
      "23:03:47 [INFO] Running Golang parser from C:\\Users\\nguye\\anaconda3\\envs\\envTF24\\lib\\site-packages\\csgo-1.0-py3.7.egg\\csgo\\parser\\\n",
      "23:03:47 [INFO] Looking for file at D:\\EDAV\\195\\ESLOneCologne2016-fnatic-vs-faze-dust2.dem\n"
     ]
    },
    {
     "name": "stdout",
     "output_type": "stream",
     "text": [
      "parsing    195 ESLOneCologne2016-fnatic-vs-faze-dust2.dem\n"
     ]
    },
    {
     "name": "stderr",
     "output_type": "stream",
     "text": [
      "23:03:53 [INFO] Wrote demo parse output to 195 ESLOneCologne2016-fnatic-vs-faze-dust2.json\n",
      "23:03:53 [INFO] Reading in JSON from 195 ESLOneCologne2016-fnatic-vs-faze-dust2.json\n",
      "23:03:54 [INFO] JSON data loaded, available in the `json` attribute to parser\n",
      "23:03:54 [INFO] Successfully parsed JSON output\n",
      "23:03:54 [INFO] Successfully returned JSON output\n",
      "23:04:03 [INFO] Go version>=1.14.0\n",
      "23:04:03 [INFO] Initialized CSGODemoParser with demofile D:\\EDAV\\196\\g2-vs-cloud9-inferno.dem\n",
      "23:04:03 [INFO] Setting demo id to 196 g2-vs-cloud9-inferno\n",
      "23:04:03 [INFO] Setting parse rate to 128\n",
      "23:04:03 [INFO] Setting trade time to 5\n",
      "23:04:03 [INFO] Setting buy style to hltv\n",
      "23:04:03 [INFO] Rollup damages set to False\n",
      "23:04:03 [INFO] Parse frames set to True\n",
      "23:04:03 [INFO] Running Golang parser from C:\\Users\\nguye\\anaconda3\\envs\\envTF24\\lib\\site-packages\\csgo-1.0-py3.7.egg\\csgo\\parser\\\n",
      "23:04:03 [INFO] Looking for file at D:\\EDAV\\196\\g2-vs-cloud9-inferno.dem\n"
     ]
    },
    {
     "name": "stdout",
     "output_type": "stream",
     "text": [
      "parsing    196 g2-vs-cloud9-inferno.dem\n"
     ]
    },
    {
     "name": "stderr",
     "output_type": "stream",
     "text": [
      "23:04:11 [INFO] Wrote demo parse output to 196 g2-vs-cloud9-inferno.json\n",
      "23:04:11 [INFO] Reading in JSON from 196 g2-vs-cloud9-inferno.json\n",
      "23:04:11 [INFO] JSON data loaded, available in the `json` attribute to parser\n",
      "23:04:11 [INFO] Successfully parsed JSON output\n",
      "23:04:11 [INFO] Successfully returned JSON output\n",
      "23:04:26 [INFO] Go version>=1.14.0\n",
      "23:04:26 [INFO] Initialized CSGODemoParser with demofile D:\\EDAV\\197\\ence-vs-renegades-m2-nuke.dem\n",
      "23:04:26 [INFO] Setting demo id to 197 ence-vs-renegades-m2-nuke\n",
      "23:04:26 [INFO] Setting parse rate to 128\n",
      "23:04:26 [INFO] Setting trade time to 5\n",
      "23:04:26 [INFO] Setting buy style to hltv\n",
      "23:04:26 [INFO] Rollup damages set to False\n",
      "23:04:26 [INFO] Parse frames set to True\n",
      "23:04:26 [INFO] Running Golang parser from C:\\Users\\nguye\\anaconda3\\envs\\envTF24\\lib\\site-packages\\csgo-1.0-py3.7.egg\\csgo\\parser\\\n",
      "23:04:26 [INFO] Looking for file at D:\\EDAV\\197\\ence-vs-renegades-m2-nuke.dem\n"
     ]
    },
    {
     "name": "stdout",
     "output_type": "stream",
     "text": [
      "parsing    197 ence-vs-renegades-m2-nuke.dem\n"
     ]
    },
    {
     "name": "stderr",
     "output_type": "stream",
     "text": [
      "23:04:31 [INFO] Wrote demo parse output to 197 ence-vs-renegades-m2-nuke.json\n",
      "23:04:31 [INFO] Reading in JSON from 197 ence-vs-renegades-m2-nuke.json\n",
      "23:04:32 [INFO] JSON data loaded, available in the `json` attribute to parser\n",
      "23:04:32 [INFO] Successfully parsed JSON output\n",
      "23:04:32 [INFO] Successfully returned JSON output\n",
      "23:04:40 [INFO] Go version>=1.14.0\n",
      "23:04:40 [INFO] Initialized CSGODemoParser with demofile D:\\EDAV\\197\\ence-vs-renegades-m1-mirage.dem\n",
      "23:04:40 [INFO] Setting demo id to 197 ence-vs-renegades-m1-mirage\n",
      "23:04:40 [INFO] Setting parse rate to 128\n",
      "23:04:40 [INFO] Setting trade time to 5\n",
      "23:04:40 [INFO] Setting buy style to hltv\n",
      "23:04:40 [INFO] Rollup damages set to False\n",
      "23:04:40 [INFO] Parse frames set to True\n",
      "23:04:40 [INFO] Running Golang parser from C:\\Users\\nguye\\anaconda3\\envs\\envTF24\\lib\\site-packages\\csgo-1.0-py3.7.egg\\csgo\\parser\\\n",
      "23:04:40 [INFO] Looking for file at D:\\EDAV\\197\\ence-vs-renegades-m1-mirage.dem\n"
     ]
    },
    {
     "name": "stdout",
     "output_type": "stream",
     "text": [
      "parsing    197 ence-vs-renegades-m1-mirage.dem\n"
     ]
    },
    {
     "name": "stderr",
     "output_type": "stream",
     "text": [
      "23:04:44 [INFO] Wrote demo parse output to 197 ence-vs-renegades-m1-mirage.json\n",
      "23:04:44 [INFO] Reading in JSON from 197 ence-vs-renegades-m1-mirage.json\n",
      "23:04:44 [INFO] JSON data loaded, available in the `json` attribute to parser\n",
      "23:04:44 [INFO] Successfully parsed JSON output\n",
      "23:04:44 [INFO] Successfully returned JSON output\n",
      "23:04:49 [INFO] Go version>=1.14.0\n",
      "23:04:49 [INFO] Initialized CSGODemoParser with demofile D:\\EDAV\\198\\north-vs-vega-squadron-overpass.dem\n",
      "23:04:49 [INFO] Setting demo id to 198 north-vs-vega-squadron-overpass\n",
      "23:04:49 [INFO] Setting parse rate to 128\n",
      "23:04:49 [INFO] Setting trade time to 5\n",
      "23:04:49 [INFO] Setting buy style to hltv\n",
      "23:04:49 [INFO] Rollup damages set to False\n",
      "23:04:49 [INFO] Parse frames set to True\n",
      "23:04:49 [INFO] Running Golang parser from C:\\Users\\nguye\\anaconda3\\envs\\envTF24\\lib\\site-packages\\csgo-1.0-py3.7.egg\\csgo\\parser\\\n",
      "23:04:49 [INFO] Looking for file at D:\\EDAV\\198\\north-vs-vega-squadron-overpass.dem\n"
     ]
    },
    {
     "name": "stdout",
     "output_type": "stream",
     "text": [
      "parsing    198 north-vs-vega-squadron-overpass.dem\n"
     ]
    },
    {
     "name": "stderr",
     "output_type": "stream",
     "text": [
      "23:04:56 [INFO] Wrote demo parse output to 198 north-vs-vega-squadron-overpass.json\n",
      "23:04:56 [INFO] Reading in JSON from 198 north-vs-vega-squadron-overpass.json\n",
      "23:04:56 [INFO] JSON data loaded, available in the `json` attribute to parser\n",
      "23:04:56 [INFO] Successfully parsed JSON output\n",
      "23:04:56 [INFO] Successfully returned JSON output\n",
      "23:05:04 [INFO] Go version>=1.14.0\n",
      "23:05:04 [INFO] Initialized CSGODemoParser with demofile D:\\EDAV\\199\\winstrike-vs-liquid-mirage.dem\n",
      "23:05:04 [INFO] Setting demo id to 199 winstrike-vs-liquid-mirage\n",
      "23:05:04 [INFO] Setting parse rate to 128\n",
      "23:05:04 [INFO] Setting trade time to 5\n",
      "23:05:04 [INFO] Setting buy style to hltv\n",
      "23:05:04 [INFO] Rollup damages set to False\n",
      "23:05:04 [INFO] Parse frames set to True\n",
      "23:05:04 [INFO] Running Golang parser from C:\\Users\\nguye\\anaconda3\\envs\\envTF24\\lib\\site-packages\\csgo-1.0-py3.7.egg\\csgo\\parser\\\n",
      "23:05:04 [INFO] Looking for file at D:\\EDAV\\199\\winstrike-vs-liquid-mirage.dem\n"
     ]
    },
    {
     "name": "stdout",
     "output_type": "stream",
     "text": [
      "parsing    199 winstrike-vs-liquid-mirage.dem\n"
     ]
    },
    {
     "name": "stderr",
     "output_type": "stream",
     "text": [
      "23:05:08 [INFO] Wrote demo parse output to 199 winstrike-vs-liquid-mirage.json\n",
      "23:05:08 [INFO] Reading in JSON from 199 winstrike-vs-liquid-mirage.json\n",
      "23:05:09 [INFO] JSON data loaded, available in the `json` attribute to parser\n",
      "23:05:09 [INFO] Successfully parsed JSON output\n",
      "23:05:09 [INFO] Successfully returned JSON output\n",
      "23:05:15 [INFO] Go version>=1.14.0\n",
      "23:05:15 [INFO] Initialized CSGODemoParser with demofile D:\\EDAV\\200\\astralis-vs-nrg-m2-nuke.dem\n",
      "23:05:15 [INFO] Setting demo id to 200 astralis-vs-nrg-m2-nuke\n",
      "23:05:15 [INFO] Setting parse rate to 128\n",
      "23:05:15 [INFO] Setting trade time to 5\n",
      "23:05:15 [INFO] Setting buy style to hltv\n",
      "23:05:15 [INFO] Rollup damages set to False\n",
      "23:05:15 [INFO] Parse frames set to True\n",
      "23:05:15 [INFO] Running Golang parser from C:\\Users\\nguye\\anaconda3\\envs\\envTF24\\lib\\site-packages\\csgo-1.0-py3.7.egg\\csgo\\parser\\\n",
      "23:05:15 [INFO] Looking for file at D:\\EDAV\\200\\astralis-vs-nrg-m2-nuke.dem\n"
     ]
    },
    {
     "name": "stdout",
     "output_type": "stream",
     "text": [
      "parsing    200 astralis-vs-nrg-m2-nuke.dem\n"
     ]
    },
    {
     "name": "stderr",
     "output_type": "stream",
     "text": [
      "23:05:19 [INFO] Wrote demo parse output to 200 astralis-vs-nrg-m2-nuke.json\n",
      "23:05:19 [INFO] Reading in JSON from 200 astralis-vs-nrg-m2-nuke.json\n",
      "23:05:19 [INFO] JSON data loaded, available in the `json` attribute to parser\n",
      "23:05:19 [INFO] Successfully parsed JSON output\n",
      "23:05:19 [INFO] Successfully returned JSON output\n",
      "23:05:25 [INFO] Go version>=1.14.0\n",
      "23:05:25 [INFO] Initialized CSGODemoParser with demofile D:\\EDAV\\200\\astralis-vs-nrg-m1-train.dem\n",
      "23:05:25 [INFO] Setting demo id to 200 astralis-vs-nrg-m1-train\n",
      "23:05:25 [INFO] Setting parse rate to 128\n",
      "23:05:25 [INFO] Setting trade time to 5\n",
      "23:05:25 [INFO] Setting buy style to hltv\n",
      "23:05:25 [INFO] Rollup damages set to False\n",
      "23:05:25 [INFO] Parse frames set to True\n",
      "23:05:25 [INFO] Running Golang parser from C:\\Users\\nguye\\anaconda3\\envs\\envTF24\\lib\\site-packages\\csgo-1.0-py3.7.egg\\csgo\\parser\\\n",
      "23:05:25 [INFO] Looking for file at D:\\EDAV\\200\\astralis-vs-nrg-m1-train.dem\n"
     ]
    },
    {
     "name": "stdout",
     "output_type": "stream",
     "text": [
      "parsing    200 astralis-vs-nrg-m1-train.dem\n"
     ]
    },
    {
     "name": "stderr",
     "output_type": "stream",
     "text": [
      "23:05:35 [INFO] Wrote demo parse output to 200 astralis-vs-nrg-m1-train.json\n",
      "23:05:35 [INFO] Reading in JSON from 200 astralis-vs-nrg-m1-train.json\n",
      "23:05:36 [INFO] JSON data loaded, available in the `json` attribute to parser\n",
      "23:05:36 [INFO] Successfully parsed JSON output\n",
      "23:05:36 [INFO] Successfully returned JSON output\n",
      "23:05:55 [INFO] Go version>=1.14.0\n",
      "23:05:55 [INFO] Initialized CSGODemoParser with demofile D:\\EDAV\\201\\DHW14-GroupC-nip-vs-planetkey-overpass.dem\n",
      "23:05:55 [INFO] Setting demo id to 201 DHW14-GroupC-nip-vs-planetkey-overpass\n",
      "23:05:55 [INFO] Setting parse rate to 128\n",
      "23:05:55 [INFO] Setting trade time to 5\n",
      "23:05:55 [INFO] Setting buy style to hltv\n",
      "23:05:55 [INFO] Rollup damages set to False\n",
      "23:05:55 [INFO] Parse frames set to True\n",
      "23:05:55 [INFO] Running Golang parser from C:\\Users\\nguye\\anaconda3\\envs\\envTF24\\lib\\site-packages\\csgo-1.0-py3.7.egg\\csgo\\parser\\\n",
      "23:05:55 [INFO] Looking for file at D:\\EDAV\\201\\DHW14-GroupC-nip-vs-planetkey-overpass.dem\n"
     ]
    },
    {
     "name": "stdout",
     "output_type": "stream",
     "text": [
      "parsing    201 DHW14-GroupC-nip-vs-planetkey-overpass.dem\n"
     ]
    },
    {
     "name": "stderr",
     "output_type": "stream",
     "text": [
      "23:05:57 [INFO] Wrote demo parse output to 201 DHW14-GroupC-nip-vs-planetkey-overpass.json\n",
      "23:05:57 [INFO] Reading in JSON from 201 DHW14-GroupC-nip-vs-planetkey-overpass.json\n",
      "23:05:57 [INFO] JSON data loaded, available in the `json` attribute to parser\n",
      "23:05:57 [INFO] Successfully parsed JSON output\n",
      "23:05:57 [INFO] Successfully returned JSON output\n",
      "23:05:58 [INFO] Go version>=1.14.0\n",
      "23:05:58 [INFO] Initialized CSGODemoParser with demofile D:\\EDAV\\202\\ESLOneCologne-GroupB-ldlc-vs-navi-inferno.dem\n",
      "23:05:58 [INFO] Setting demo id to 202 ESLOneCologne-GroupB-ldlc-vs-navi-inferno\n",
      "23:05:58 [INFO] Setting parse rate to 128\n",
      "23:05:58 [INFO] Setting trade time to 5\n",
      "23:05:58 [INFO] Setting buy style to hltv\n",
      "23:05:58 [INFO] Rollup damages set to False\n",
      "23:05:58 [INFO] Parse frames set to True\n",
      "23:05:58 [INFO] Running Golang parser from C:\\Users\\nguye\\anaconda3\\envs\\envTF24\\lib\\site-packages\\csgo-1.0-py3.7.egg\\csgo\\parser\\\n",
      "23:05:58 [INFO] Looking for file at D:\\EDAV\\202\\ESLOneCologne-GroupB-ldlc-vs-navi-inferno.dem\n"
     ]
    },
    {
     "name": "stdout",
     "output_type": "stream",
     "text": [
      "parsing    202 ESLOneCologne-GroupB-ldlc-vs-navi-inferno.dem\n"
     ]
    },
    {
     "name": "stderr",
     "output_type": "stream",
     "text": [
      "23:06:00 [INFO] Wrote demo parse output to 202 ESLOneCologne-GroupB-ldlc-vs-navi-inferno.json\n",
      "23:06:00 [INFO] Reading in JSON from 202 ESLOneCologne-GroupB-ldlc-vs-navi-inferno.json\n",
      "23:06:00 [INFO] JSON data loaded, available in the `json` attribute to parser\n",
      "23:06:00 [INFO] Successfully parsed JSON output\n",
      "23:06:00 [INFO] Successfully returned JSON output\n",
      "23:06:01 [INFO] Go version>=1.14.0\n",
      "23:06:01 [INFO] Initialized CSGODemoParser with demofile D:\\EDAV\\203\\DHW14-GroupB-dignitas-vs-penta-nuke.dem\n",
      "23:06:01 [INFO] Setting demo id to 203 DHW14-GroupB-dignitas-vs-penta-nuke\n",
      "23:06:01 [INFO] Setting parse rate to 128\n",
      "23:06:01 [INFO] Setting trade time to 5\n",
      "23:06:01 [INFO] Setting buy style to hltv\n",
      "23:06:01 [INFO] Rollup damages set to False\n",
      "23:06:01 [INFO] Parse frames set to True\n",
      "23:06:01 [INFO] Running Golang parser from C:\\Users\\nguye\\anaconda3\\envs\\envTF24\\lib\\site-packages\\csgo-1.0-py3.7.egg\\csgo\\parser\\\n",
      "23:06:01 [INFO] Looking for file at D:\\EDAV\\203\\DHW14-GroupB-dignitas-vs-penta-nuke.dem\n"
     ]
    },
    {
     "name": "stdout",
     "output_type": "stream",
     "text": [
      "parsing    203 DHW14-GroupB-dignitas-vs-penta-nuke.dem\n"
     ]
    },
    {
     "name": "stderr",
     "output_type": "stream",
     "text": [
      "23:06:03 [INFO] Wrote demo parse output to 203 DHW14-GroupB-dignitas-vs-penta-nuke.json\n",
      "23:06:03 [INFO] Reading in JSON from 203 DHW14-GroupB-dignitas-vs-penta-nuke.json\n",
      "23:06:03 [INFO] JSON data loaded, available in the `json` attribute to parser\n",
      "23:06:03 [INFO] Successfully parsed JSON output\n",
      "23:06:03 [INFO] Successfully returned JSON output\n",
      "23:06:05 [INFO] Go version>=1.14.0\n",
      "23:06:05 [INFO] Initialized CSGODemoParser with demofile D:\\EDAV\\204\\flipsid3-vs-optic-train.dem\n",
      "23:06:05 [INFO] Setting demo id to 204 flipsid3-vs-optic-train\n",
      "23:06:05 [INFO] Setting parse rate to 128\n",
      "23:06:05 [INFO] Setting trade time to 5\n",
      "23:06:05 [INFO] Setting buy style to hltv\n",
      "23:06:05 [INFO] Rollup damages set to False\n",
      "23:06:05 [INFO] Parse frames set to True\n",
      "23:06:05 [INFO] Running Golang parser from C:\\Users\\nguye\\anaconda3\\envs\\envTF24\\lib\\site-packages\\csgo-1.0-py3.7.egg\\csgo\\parser\\\n",
      "23:06:05 [INFO] Looking for file at D:\\EDAV\\204\\flipsid3-vs-optic-train.dem\n"
     ]
    },
    {
     "name": "stdout",
     "output_type": "stream",
     "text": [
      "parsing    204 flipsid3-vs-optic-train.dem\n"
     ]
    },
    {
     "name": "stderr",
     "output_type": "stream",
     "text": [
      "23:06:10 [INFO] Wrote demo parse output to 204 flipsid3-vs-optic-train.json\n",
      "23:06:10 [INFO] Reading in JSON from 204 flipsid3-vs-optic-train.json\n",
      "23:06:11 [INFO] JSON data loaded, available in the `json` attribute to parser\n",
      "23:06:11 [INFO] Successfully parsed JSON output\n",
      "23:06:11 [INFO] Successfully returned JSON output\n",
      "23:06:20 [INFO] Go version>=1.14.0\n",
      "23:06:20 [INFO] Initialized CSGODemoParser with demofile D:\\EDAV\\205\\ESLOneCologne-GroupA-hellraisers-vs-wolf-mirage.dem\n",
      "23:06:20 [INFO] Setting demo id to 205 ESLOneCologne-GroupA-hellraisers-vs-wolf-mirage\n",
      "23:06:20 [INFO] Setting parse rate to 128\n",
      "23:06:20 [INFO] Setting trade time to 5\n",
      "23:06:20 [INFO] Setting buy style to hltv\n",
      "23:06:20 [INFO] Rollup damages set to False\n",
      "23:06:20 [INFO] Parse frames set to True\n",
      "23:06:20 [INFO] Running Golang parser from C:\\Users\\nguye\\anaconda3\\envs\\envTF24\\lib\\site-packages\\csgo-1.0-py3.7.egg\\csgo\\parser\\\n",
      "23:06:20 [INFO] Looking for file at D:\\EDAV\\205\\ESLOneCologne-GroupA-hellraisers-vs-wolf-mirage.dem\n"
     ]
    },
    {
     "name": "stdout",
     "output_type": "stream",
     "text": [
      "parsing    205 ESLOneCologne-GroupA-hellraisers-vs-wolf-mirage.dem\n"
     ]
    },
    {
     "name": "stderr",
     "output_type": "stream",
     "text": [
      "23:06:21 [INFO] Wrote demo parse output to 205 ESLOneCologne-GroupA-hellraisers-vs-wolf-mirage.json\n",
      "23:06:21 [INFO] Reading in JSON from 205 ESLOneCologne-GroupA-hellraisers-vs-wolf-mirage.json\n",
      "23:06:21 [INFO] JSON data loaded, available in the `json` attribute to parser\n",
      "23:06:21 [INFO] Successfully parsed JSON output\n",
      "23:06:21 [INFO] Successfully returned JSON output\n",
      "23:06:22 [INFO] Go version>=1.14.0\n",
      "23:06:22 [INFO] Initialized CSGODemoParser with demofile D:\\EDAV\\206\\Grandfinal_EnVy_NaVi_GF_train.dem\n",
      "23:06:22 [INFO] Setting demo id to 206 Grandfinal_EnVy_NaVi_GF_train\n",
      "23:06:22 [INFO] Setting parse rate to 128\n",
      "23:06:22 [INFO] Setting trade time to 5\n",
      "23:06:22 [INFO] Setting buy style to hltv\n",
      "23:06:22 [INFO] Rollup damages set to False\n",
      "23:06:22 [INFO] Parse frames set to True\n",
      "23:06:22 [INFO] Running Golang parser from C:\\Users\\nguye\\anaconda3\\envs\\envTF24\\lib\\site-packages\\csgo-1.0-py3.7.egg\\csgo\\parser\\\n",
      "23:06:22 [INFO] Looking for file at D:\\EDAV\\206\\Grandfinal_EnVy_NaVi_GF_train.dem\n"
     ]
    },
    {
     "name": "stdout",
     "output_type": "stream",
     "text": [
      "parsing    206 Grandfinal_EnVy_NaVi_GF_train.dem\n"
     ]
    },
    {
     "name": "stderr",
     "output_type": "stream",
     "text": [
      "23:06:27 [INFO] Wrote demo parse output to 206 Grandfinal_EnVy_NaVi_GF_train.json\n",
      "23:06:27 [INFO] Reading in JSON from 206 Grandfinal_EnVy_NaVi_GF_train.json\n",
      "23:06:28 [INFO] JSON data loaded, available in the `json` attribute to parser\n",
      "23:06:28 [INFO] Successfully parsed JSON output\n",
      "23:06:28 [INFO] Successfully returned JSON output\n",
      "23:06:38 [INFO] Go version>=1.14.0\n",
      "23:06:38 [INFO] Initialized CSGODemoParser with demofile D:\\EDAV\\206\\Grandfinal_EnVy_NaVi_cbble.dem\n",
      "23:06:38 [INFO] Setting demo id to 206 Grandfinal_EnVy_NaVi_cbble\n",
      "23:06:38 [INFO] Setting parse rate to 128\n",
      "23:06:38 [INFO] Setting trade time to 5\n",
      "23:06:38 [INFO] Setting buy style to hltv\n",
      "23:06:38 [INFO] Rollup damages set to False\n",
      "23:06:38 [INFO] Parse frames set to True\n",
      "23:06:38 [INFO] Running Golang parser from C:\\Users\\nguye\\anaconda3\\envs\\envTF24\\lib\\site-packages\\csgo-1.0-py3.7.egg\\csgo\\parser\\\n",
      "23:06:38 [INFO] Looking for file at D:\\EDAV\\206\\Grandfinal_EnVy_NaVi_cbble.dem\n"
     ]
    },
    {
     "name": "stdout",
     "output_type": "stream",
     "text": [
      "parsing    206 Grandfinal_EnVy_NaVi_cbble.dem\n"
     ]
    },
    {
     "name": "stderr",
     "output_type": "stream",
     "text": [
      "23:06:41 [INFO] Wrote demo parse output to 206 Grandfinal_EnVy_NaVi_cbble.json\n",
      "23:06:41 [INFO] Reading in JSON from 206 Grandfinal_EnVy_NaVi_cbble.json\n",
      "23:06:42 [INFO] JSON data loaded, available in the `json` attribute to parser\n",
      "23:06:42 [INFO] Successfully parsed JSON output\n",
      "23:06:42 [INFO] Successfully returned JSON output\n",
      "23:06:46 [INFO] Go version>=1.14.0\n",
      "23:06:46 [INFO] Initialized CSGODemoParser with demofile D:\\EDAV\\207\\astralis-vs-mousesports-cache.dem\n",
      "23:06:46 [INFO] Setting demo id to 207 astralis-vs-mousesports-cache\n",
      "23:06:46 [INFO] Setting parse rate to 128\n",
      "23:06:46 [INFO] Setting trade time to 5\n",
      "23:06:46 [INFO] Setting buy style to hltv\n",
      "23:06:46 [INFO] Rollup damages set to False\n",
      "23:06:46 [INFO] Parse frames set to True\n",
      "23:06:46 [INFO] Running Golang parser from C:\\Users\\nguye\\anaconda3\\envs\\envTF24\\lib\\site-packages\\csgo-1.0-py3.7.egg\\csgo\\parser\\\n",
      "23:06:46 [INFO] Looking for file at D:\\EDAV\\207\\astralis-vs-mousesports-cache.dem\n"
     ]
    },
    {
     "name": "stdout",
     "output_type": "stream",
     "text": [
      "parsing    207 astralis-vs-mousesports-cache.dem\n"
     ]
    },
    {
     "name": "stderr",
     "output_type": "stream",
     "text": [
      "23:06:50 [INFO] Wrote demo parse output to 207 astralis-vs-mousesports-cache.json\n",
      "23:06:50 [INFO] Reading in JSON from 207 astralis-vs-mousesports-cache.json\n",
      "23:06:50 [INFO] JSON data loaded, available in the `json` attribute to parser\n",
      "23:06:50 [INFO] Successfully parsed JSON output\n",
      "23:06:50 [INFO] Successfully returned JSON output\n",
      "23:06:56 [INFO] Go version>=1.14.0\n",
      "23:06:56 [INFO] Initialized CSGODemoParser with demofile D:\\EDAV\\208\\DHW14-GroupB-dignitas-vs-ibuypower-nuke.dem\n",
      "23:06:56 [INFO] Setting demo id to 208 DHW14-GroupB-dignitas-vs-ibuypower-nuke\n",
      "23:06:56 [INFO] Setting parse rate to 128\n",
      "23:06:56 [INFO] Setting trade time to 5\n",
      "23:06:56 [INFO] Setting buy style to hltv\n",
      "23:06:56 [INFO] Rollup damages set to False\n",
      "23:06:56 [INFO] Parse frames set to True\n",
      "23:06:56 [INFO] Running Golang parser from C:\\Users\\nguye\\anaconda3\\envs\\envTF24\\lib\\site-packages\\csgo-1.0-py3.7.egg\\csgo\\parser\\\n",
      "23:06:56 [INFO] Looking for file at D:\\EDAV\\208\\DHW14-GroupB-dignitas-vs-ibuypower-nuke.dem\n"
     ]
    },
    {
     "name": "stdout",
     "output_type": "stream",
     "text": [
      "parsing    208 DHW14-GroupB-dignitas-vs-ibuypower-nuke.dem\n"
     ]
    },
    {
     "name": "stderr",
     "output_type": "stream",
     "text": [
      "23:06:58 [INFO] Wrote demo parse output to 208 DHW14-GroupB-dignitas-vs-ibuypower-nuke.json\n",
      "23:06:58 [INFO] Reading in JSON from 208 DHW14-GroupB-dignitas-vs-ibuypower-nuke.json\n",
      "23:06:58 [INFO] JSON data loaded, available in the `json` attribute to parser\n",
      "23:06:58 [INFO] Successfully parsed JSON output\n",
      "23:06:58 [INFO] Successfully returned JSON output\n",
      "23:06:59 [INFO] Go version>=1.14.0\n",
      "23:06:59 [INFO] Initialized CSGODemoParser with demofile D:\\EDAV\\209\\ESLOneCologne2015-luminosity-vs-kinguin-overpass-1.dem\n",
      "23:06:59 [INFO] Setting demo id to 209 ESLOneCologne2015-luminosity-vs-kinguin-overpass-1\n",
      "23:06:59 [INFO] Setting parse rate to 128\n",
      "23:06:59 [INFO] Setting trade time to 5\n",
      "23:06:59 [INFO] Setting buy style to hltv\n",
      "23:06:59 [INFO] Rollup damages set to False\n",
      "23:06:59 [INFO] Parse frames set to True\n",
      "23:06:59 [INFO] Running Golang parser from C:\\Users\\nguye\\anaconda3\\envs\\envTF24\\lib\\site-packages\\csgo-1.0-py3.7.egg\\csgo\\parser\\\n",
      "23:06:59 [INFO] Looking for file at D:\\EDAV\\209\\ESLOneCologne2015-luminosity-vs-kinguin-overpass-1.dem\n"
     ]
    },
    {
     "name": "stdout",
     "output_type": "stream",
     "text": [
      "parsing    209 ESLOneCologne2015-luminosity-vs-kinguin-overpass-1.dem\n"
     ]
    },
    {
     "name": "stderr",
     "output_type": "stream",
     "text": [
      "23:07:02 [INFO] Wrote demo parse output to 209 ESLOneCologne2015-luminosity-vs-kinguin-overpass-1.json\n",
      "23:07:02 [INFO] Reading in JSON from 209 ESLOneCologne2015-luminosity-vs-kinguin-overpass-1.json\n",
      "23:07:02 [INFO] JSON data loaded, available in the `json` attribute to parser\n",
      "23:07:02 [INFO] Successfully parsed JSON output\n",
      "23:07:02 [INFO] Successfully returned JSON output\n",
      "23:07:04 [INFO] Go version>=1.14.0\n",
      "23:07:04 [INFO] Initialized CSGODemoParser with demofile D:\\EDAV\\210\\astralis-vs-liquid-m1-vertigo.dem\n",
      "23:07:04 [INFO] Setting demo id to 210 astralis-vs-liquid-m1-vertigo\n",
      "23:07:04 [INFO] Setting parse rate to 128\n",
      "23:07:04 [INFO] Setting trade time to 5\n",
      "23:07:04 [INFO] Setting buy style to hltv\n",
      "23:07:04 [INFO] Rollup damages set to False\n",
      "23:07:04 [INFO] Parse frames set to True\n",
      "23:07:04 [INFO] Running Golang parser from C:\\Users\\nguye\\anaconda3\\envs\\envTF24\\lib\\site-packages\\csgo-1.0-py3.7.egg\\csgo\\parser\\\n",
      "23:07:04 [INFO] Looking for file at D:\\EDAV\\210\\astralis-vs-liquid-m1-vertigo.dem\n"
     ]
    },
    {
     "name": "stdout",
     "output_type": "stream",
     "text": [
      "parsing    210 astralis-vs-liquid-m1-vertigo.dem\n"
     ]
    },
    {
     "name": "stderr",
     "output_type": "stream",
     "text": [
      "23:07:08 [INFO] Wrote demo parse output to 210 astralis-vs-liquid-m1-vertigo.json\n",
      "23:07:08 [INFO] Reading in JSON from 210 astralis-vs-liquid-m1-vertigo.json\n",
      "23:07:09 [INFO] JSON data loaded, available in the `json` attribute to parser\n",
      "23:07:09 [INFO] Successfully parsed JSON output\n",
      "23:07:09 [INFO] Successfully returned JSON output\n",
      "23:07:17 [INFO] Go version>=1.14.0\n",
      "23:07:17 [INFO] Initialized CSGODemoParser with demofile D:\\EDAV\\210\\astralis-vs-liquid-m2-overpass.dem\n",
      "23:07:17 [INFO] Setting demo id to 210 astralis-vs-liquid-m2-overpass\n",
      "23:07:17 [INFO] Setting parse rate to 128\n",
      "23:07:17 [INFO] Setting trade time to 5\n",
      "23:07:17 [INFO] Setting buy style to hltv\n",
      "23:07:17 [INFO] Rollup damages set to False\n",
      "23:07:17 [INFO] Parse frames set to True\n",
      "23:07:17 [INFO] Running Golang parser from C:\\Users\\nguye\\anaconda3\\envs\\envTF24\\lib\\site-packages\\csgo-1.0-py3.7.egg\\csgo\\parser\\\n",
      "23:07:17 [INFO] Looking for file at D:\\EDAV\\210\\astralis-vs-liquid-m2-overpass.dem\n"
     ]
    },
    {
     "name": "stdout",
     "output_type": "stream",
     "text": [
      "parsing    210 astralis-vs-liquid-m2-overpass.dem\n"
     ]
    },
    {
     "name": "stderr",
     "output_type": "stream",
     "text": [
      "23:07:24 [INFO] Wrote demo parse output to 210 astralis-vs-liquid-m2-overpass.json\n",
      "23:07:24 [INFO] Reading in JSON from 210 astralis-vs-liquid-m2-overpass.json\n",
      "23:07:25 [INFO] JSON data loaded, available in the `json` attribute to parser\n",
      "23:07:25 [INFO] Successfully parsed JSON output\n",
      "23:07:25 [INFO] Successfully returned JSON output\n",
      "23:07:34 [INFO] Go version>=1.14.0\n",
      "23:07:34 [INFO] Initialized CSGODemoParser with demofile D:\\EDAV\\211\\sk-vs-space-soldiers-mirage.dem\n",
      "23:07:34 [INFO] Setting demo id to 211 sk-vs-space-soldiers-mirage\n",
      "23:07:34 [INFO] Setting parse rate to 128\n",
      "23:07:34 [INFO] Setting trade time to 5\n",
      "23:07:34 [INFO] Setting buy style to hltv\n",
      "23:07:34 [INFO] Rollup damages set to False\n",
      "23:07:34 [INFO] Parse frames set to True\n",
      "23:07:34 [INFO] Running Golang parser from C:\\Users\\nguye\\anaconda3\\envs\\envTF24\\lib\\site-packages\\csgo-1.0-py3.7.egg\\csgo\\parser\\\n",
      "23:07:34 [INFO] Looking for file at D:\\EDAV\\211\\sk-vs-space-soldiers-mirage.dem\n"
     ]
    },
    {
     "name": "stdout",
     "output_type": "stream",
     "text": [
      "parsing    211 sk-vs-space-soldiers-mirage.dem\n"
     ]
    },
    {
     "name": "stderr",
     "output_type": "stream",
     "text": [
      "23:07:39 [INFO] Wrote demo parse output to 211 sk-vs-space-soldiers-mirage.json\n",
      "23:07:39 [INFO] Reading in JSON from 211 sk-vs-space-soldiers-mirage.json\n",
      "23:07:40 [INFO] JSON data loaded, available in the `json` attribute to parser\n",
      "23:07:40 [INFO] Successfully parsed JSON output\n",
      "23:07:40 [INFO] Successfully returned JSON output\n",
      "23:07:49 [INFO] Go version>=1.14.0\n",
      "23:07:49 [INFO] Initialized CSGODemoParser with demofile D:\\EDAV\\212\\natus-vincere-vs-mousesports-nuke.dem\n",
      "23:07:49 [INFO] Setting demo id to 212 natus-vincere-vs-mousesports-nuke\n",
      "23:07:49 [INFO] Setting parse rate to 128\n",
      "23:07:49 [INFO] Setting trade time to 5\n",
      "23:07:49 [INFO] Setting buy style to hltv\n",
      "23:07:49 [INFO] Rollup damages set to False\n",
      "23:07:49 [INFO] Parse frames set to True\n",
      "23:07:49 [INFO] Running Golang parser from C:\\Users\\nguye\\anaconda3\\envs\\envTF24\\lib\\site-packages\\csgo-1.0-py3.7.egg\\csgo\\parser\\\n",
      "23:07:49 [INFO] Looking for file at D:\\EDAV\\212\\natus-vincere-vs-mousesports-nuke.dem\n"
     ]
    },
    {
     "name": "stdout",
     "output_type": "stream",
     "text": [
      "parsing    212 natus-vincere-vs-mousesports-nuke.dem\n"
     ]
    },
    {
     "name": "stderr",
     "output_type": "stream",
     "text": [
      "23:07:55 [INFO] Wrote demo parse output to 212 natus-vincere-vs-mousesports-nuke.json\n",
      "23:07:55 [INFO] Reading in JSON from 212 natus-vincere-vs-mousesports-nuke.json\n",
      "23:07:56 [INFO] JSON data loaded, available in the `json` attribute to parser\n",
      "23:07:56 [INFO] Successfully parsed JSON output\n",
      "23:07:56 [INFO] Successfully returned JSON output\n",
      "23:08:06 [INFO] Go version>=1.14.0\n",
      "23:08:06 [INFO] Initialized CSGODemoParser with demofile D:\\EDAV\\213\\MLGColumbus2016-nip-vs-luminosity-mirage.dem\n",
      "23:08:06 [INFO] Setting demo id to 213 MLGColumbus2016-nip-vs-luminosity-mirage\n",
      "23:08:06 [INFO] Setting parse rate to 128\n",
      "23:08:06 [INFO] Setting trade time to 5\n",
      "23:08:06 [INFO] Setting buy style to hltv\n",
      "23:08:06 [INFO] Rollup damages set to False\n",
      "23:08:06 [INFO] Parse frames set to True\n",
      "23:08:07 [INFO] Running Golang parser from C:\\Users\\nguye\\anaconda3\\envs\\envTF24\\lib\\site-packages\\csgo-1.0-py3.7.egg\\csgo\\parser\\\n",
      "23:08:07 [INFO] Looking for file at D:\\EDAV\\213\\MLGColumbus2016-nip-vs-luminosity-mirage.dem\n"
     ]
    },
    {
     "name": "stdout",
     "output_type": "stream",
     "text": [
      "parsing    213 MLGColumbus2016-nip-vs-luminosity-mirage.dem\n"
     ]
    },
    {
     "name": "stderr",
     "output_type": "stream",
     "text": [
      "23:08:10 [INFO] Wrote demo parse output to 213 MLGColumbus2016-nip-vs-luminosity-mirage.json\n",
      "23:08:10 [INFO] Reading in JSON from 213 MLGColumbus2016-nip-vs-luminosity-mirage.json\n",
      "23:08:11 [INFO] JSON data loaded, available in the `json` attribute to parser\n",
      "23:08:11 [INFO] Successfully parsed JSON output\n",
      "23:08:11 [INFO] Successfully returned JSON output\n",
      "23:08:16 [INFO] Go version>=1.14.0\n",
      "23:08:16 [INFO] Initialized CSGODemoParser with demofile D:\\EDAV\\214\\ESLOneCologne2015-cloud9-vs-mousesports-overpass-1.dem\n",
      "23:08:16 [INFO] Setting demo id to 214 ESLOneCologne2015-cloud9-vs-mousesports-overpass-1\n",
      "23:08:16 [INFO] Setting parse rate to 128\n",
      "23:08:16 [INFO] Setting trade time to 5\n",
      "23:08:16 [INFO] Setting buy style to hltv\n",
      "23:08:16 [INFO] Rollup damages set to False\n",
      "23:08:16 [INFO] Parse frames set to True\n",
      "23:08:16 [INFO] Running Golang parser from C:\\Users\\nguye\\anaconda3\\envs\\envTF24\\lib\\site-packages\\csgo-1.0-py3.7.egg\\csgo\\parser\\\n",
      "23:08:16 [INFO] Looking for file at D:\\EDAV\\214\\ESLOneCologne2015-cloud9-vs-mousesports-overpass-1.dem\n"
     ]
    },
    {
     "name": "stdout",
     "output_type": "stream",
     "text": [
      "parsing    214 ESLOneCologne2015-cloud9-vs-mousesports-overpass-1.dem\n"
     ]
    },
    {
     "name": "stderr",
     "output_type": "stream",
     "text": [
      "23:08:19 [INFO] Wrote demo parse output to 214 ESLOneCologne2015-cloud9-vs-mousesports-overpass-1.json\n",
      "23:08:19 [INFO] Reading in JSON from 214 ESLOneCologne2015-cloud9-vs-mousesports-overpass-1.json\n",
      "23:08:19 [INFO] JSON data loaded, available in the `json` attribute to parser\n",
      "23:08:19 [INFO] Successfully parsed JSON output\n",
      "23:08:19 [INFO] Successfully returned JSON output\n",
      "23:08:21 [INFO] Go version>=1.14.0\n",
      "23:08:21 [INFO] Initialized CSGODemoParser with demofile D:\\EDAV\\215\\faze-vs-avangar-mirage.dem\n",
      "23:08:21 [INFO] Setting demo id to 215 faze-vs-avangar-mirage\n",
      "23:08:21 [INFO] Setting parse rate to 128\n",
      "23:08:21 [INFO] Setting trade time to 5\n",
      "23:08:21 [INFO] Setting buy style to hltv\n",
      "23:08:21 [INFO] Rollup damages set to False\n",
      "23:08:21 [INFO] Parse frames set to True\n",
      "23:08:21 [INFO] Running Golang parser from C:\\Users\\nguye\\anaconda3\\envs\\envTF24\\lib\\site-packages\\csgo-1.0-py3.7.egg\\csgo\\parser\\\n",
      "23:08:21 [INFO] Looking for file at D:\\EDAV\\215\\faze-vs-avangar-mirage.dem\n"
     ]
    },
    {
     "name": "stdout",
     "output_type": "stream",
     "text": [
      "parsing    215 faze-vs-avangar-mirage.dem\n"
     ]
    },
    {
     "name": "stderr",
     "output_type": "stream",
     "text": [
      "23:08:27 [INFO] Wrote demo parse output to 215 faze-vs-avangar-mirage.json\n",
      "23:08:27 [INFO] Reading in JSON from 215 faze-vs-avangar-mirage.json\n",
      "23:08:28 [INFO] JSON data loaded, available in the `json` attribute to parser\n",
      "23:08:28 [INFO] Successfully parsed JSON output\n",
      "23:08:28 [INFO] Successfully returned JSON output\n",
      "23:08:37 [INFO] Go version>=1.14.0\n",
      "23:08:37 [INFO] Initialized CSGODemoParser with demofile D:\\EDAV\\216\\ESLOneCologne2015-clg-vs-ebettle-mirage-1.dem\n",
      "23:08:37 [INFO] Setting demo id to 216 ESLOneCologne2015-clg-vs-ebettle-mirage-1\n",
      "23:08:37 [INFO] Setting parse rate to 128\n",
      "23:08:37 [INFO] Setting trade time to 5\n",
      "23:08:37 [INFO] Setting buy style to hltv\n",
      "23:08:37 [INFO] Rollup damages set to False\n",
      "23:08:37 [INFO] Parse frames set to True\n",
      "23:08:37 [INFO] Running Golang parser from C:\\Users\\nguye\\anaconda3\\envs\\envTF24\\lib\\site-packages\\csgo-1.0-py3.7.egg\\csgo\\parser\\\n",
      "23:08:37 [INFO] Looking for file at D:\\EDAV\\216\\ESLOneCologne2015-clg-vs-ebettle-mirage-1.dem\n"
     ]
    },
    {
     "name": "stdout",
     "output_type": "stream",
     "text": [
      "parsing    216 ESLOneCologne2015-clg-vs-ebettle-mirage-1.dem\n"
     ]
    },
    {
     "name": "stderr",
     "output_type": "stream",
     "text": [
      "23:08:40 [INFO] Wrote demo parse output to 216 ESLOneCologne2015-clg-vs-ebettle-mirage-1.json\n",
      "23:08:40 [INFO] Reading in JSON from 216 ESLOneCologne2015-clg-vs-ebettle-mirage-1.json\n",
      "23:08:40 [INFO] JSON data loaded, available in the `json` attribute to parser\n",
      "23:08:40 [INFO] Successfully parsed JSON output\n",
      "23:08:40 [INFO] Successfully returned JSON output\n",
      "23:08:42 [INFO] Go version>=1.14.0\n",
      "23:08:42 [INFO] Initialized CSGODemoParser with demofile D:\\EDAV\\217\\Quarterfinal_Virtuspro_G2_cache.dem\n",
      "23:08:42 [INFO] Setting demo id to 217 Quarterfinal_Virtuspro_G2_cache\n",
      "23:08:42 [INFO] Setting parse rate to 128\n",
      "23:08:42 [INFO] Setting trade time to 5\n",
      "23:08:42 [INFO] Setting buy style to hltv\n",
      "23:08:42 [INFO] Rollup damages set to False\n",
      "23:08:42 [INFO] Parse frames set to True\n",
      "23:08:42 [INFO] Running Golang parser from C:\\Users\\nguye\\anaconda3\\envs\\envTF24\\lib\\site-packages\\csgo-1.0-py3.7.egg\\csgo\\parser\\\n",
      "23:08:42 [INFO] Looking for file at D:\\EDAV\\217\\Quarterfinal_Virtuspro_G2_cache.dem\n"
     ]
    },
    {
     "name": "stdout",
     "output_type": "stream",
     "text": [
      "parsing    217 Quarterfinal_Virtuspro_G2_cache.dem\n"
     ]
    },
    {
     "name": "stderr",
     "output_type": "stream",
     "text": [
      "23:08:47 [INFO] Wrote demo parse output to 217 Quarterfinal_Virtuspro_G2_cache.json\n",
      "23:08:47 [INFO] Reading in JSON from 217 Quarterfinal_Virtuspro_G2_cache.json\n",
      "23:08:47 [INFO] JSON data loaded, available in the `json` attribute to parser\n",
      "23:08:47 [INFO] Successfully parsed JSON output\n",
      "23:08:47 [INFO] Successfully returned JSON output\n",
      "23:08:53 [INFO] Go version>=1.14.0\n",
      "23:08:53 [INFO] Initialized CSGODemoParser with demofile D:\\EDAV\\217\\Quarterfinal_Virtuspro_G2_train.dem\n",
      "23:08:53 [INFO] Setting demo id to 217 Quarterfinal_Virtuspro_G2_train\n",
      "23:08:53 [INFO] Setting parse rate to 128\n",
      "23:08:53 [INFO] Setting trade time to 5\n",
      "23:08:53 [INFO] Setting buy style to hltv\n",
      "23:08:53 [INFO] Rollup damages set to False\n",
      "23:08:53 [INFO] Parse frames set to True\n",
      "23:08:53 [INFO] Running Golang parser from C:\\Users\\nguye\\anaconda3\\envs\\envTF24\\lib\\site-packages\\csgo-1.0-py3.7.egg\\csgo\\parser\\\n",
      "23:08:53 [INFO] Looking for file at D:\\EDAV\\217\\Quarterfinal_Virtuspro_G2_train.dem\n"
     ]
    },
    {
     "name": "stdout",
     "output_type": "stream",
     "text": [
      "parsing    217 Quarterfinal_Virtuspro_G2_train.dem\n"
     ]
    },
    {
     "name": "stderr",
     "output_type": "stream",
     "text": [
      "23:08:55 [INFO] Wrote demo parse output to 217 Quarterfinal_Virtuspro_G2_train.json\n",
      "23:08:55 [INFO] Reading in JSON from 217 Quarterfinal_Virtuspro_G2_train.json\n",
      "23:08:55 [INFO] JSON data loaded, available in the `json` attribute to parser\n",
      "23:08:55 [INFO] Successfully parsed JSON output\n",
      "23:08:55 [INFO] Successfully returned JSON output\n",
      "23:08:55 [ERROR] JSON not found. Run .parse()\n",
      "23:08:55 [INFO] Go version>=1.14.0\n",
      "23:08:55 [INFO] Initialized CSGODemoParser with demofile D:\\EDAV\\218\\DHW14-GroupD-flipside-vs-myxmg-mirage.dem\n",
      "23:08:55 [INFO] Setting demo id to 218 DHW14-GroupD-flipside-vs-myxmg-mirage\n",
      "23:08:55 [INFO] Setting parse rate to 128\n",
      "23:08:55 [INFO] Setting trade time to 5\n",
      "23:08:55 [INFO] Setting buy style to hltv\n",
      "23:08:55 [INFO] Rollup damages set to False\n",
      "23:08:55 [INFO] Parse frames set to True\n",
      "23:08:55 [INFO] Running Golang parser from C:\\Users\\nguye\\anaconda3\\envs\\envTF24\\lib\\site-packages\\csgo-1.0-py3.7.egg\\csgo\\parser\\\n",
      "23:08:55 [INFO] Looking for file at D:\\EDAV\\218\\DHW14-GroupD-flipside-vs-myxmg-mirage.dem\n"
     ]
    },
    {
     "name": "stdout",
     "output_type": "stream",
     "text": [
      "ERROR   217 Quarterfinal_Virtuspro_G2_train\n",
      "parsing    218 DHW14-GroupD-flipside-vs-myxmg-mirage.dem\n"
     ]
    },
    {
     "name": "stderr",
     "output_type": "stream",
     "text": [
      "23:08:56 [INFO] Wrote demo parse output to 218 DHW14-GroupD-flipside-vs-myxmg-mirage.json\n",
      "23:08:56 [INFO] Reading in JSON from 218 DHW14-GroupD-flipside-vs-myxmg-mirage.json\n",
      "23:08:57 [INFO] JSON data loaded, available in the `json` attribute to parser\n",
      "23:08:57 [INFO] Successfully parsed JSON output\n",
      "23:08:57 [INFO] Successfully returned JSON output\n",
      "23:08:58 [INFO] Go version>=1.14.0\n",
      "23:08:58 [INFO] Initialized CSGODemoParser with demofile D:\\EDAV\\219\\ence-vs-mibr-inferno.dem\n",
      "23:08:58 [INFO] Setting demo id to 219 ence-vs-mibr-inferno\n",
      "23:08:58 [INFO] Setting parse rate to 128\n",
      "23:08:58 [INFO] Setting trade time to 5\n",
      "23:08:58 [INFO] Setting buy style to hltv\n",
      "23:08:58 [INFO] Rollup damages set to False\n",
      "23:08:58 [INFO] Parse frames set to True\n",
      "23:08:58 [INFO] Running Golang parser from C:\\Users\\nguye\\anaconda3\\envs\\envTF24\\lib\\site-packages\\csgo-1.0-py3.7.egg\\csgo\\parser\\\n",
      "23:08:58 [INFO] Looking for file at D:\\EDAV\\219\\ence-vs-mibr-inferno.dem\n"
     ]
    },
    {
     "name": "stdout",
     "output_type": "stream",
     "text": [
      "parsing    219 ence-vs-mibr-inferno.dem\n"
     ]
    },
    {
     "name": "stderr",
     "output_type": "stream",
     "text": [
      "23:09:03 [INFO] Wrote demo parse output to 219 ence-vs-mibr-inferno.json\n",
      "23:09:03 [INFO] Reading in JSON from 219 ence-vs-mibr-inferno.json\n",
      "23:09:03 [INFO] JSON data loaded, available in the `json` attribute to parser\n",
      "23:09:03 [INFO] Successfully parsed JSON output\n",
      "23:09:03 [INFO] Successfully returned JSON output\n",
      "23:09:11 [INFO] Go version>=1.14.0\n",
      "23:09:11 [INFO] Initialized CSGODemoParser with demofile D:\\EDAV\\220\\DHW14-GroupC-esc-vs-planetkey-mirage.dem\n",
      "23:09:11 [INFO] Setting demo id to 220 DHW14-GroupC-esc-vs-planetkey-mirage\n",
      "23:09:11 [INFO] Setting parse rate to 128\n",
      "23:09:11 [INFO] Setting trade time to 5\n",
      "23:09:11 [INFO] Setting buy style to hltv\n",
      "23:09:11 [INFO] Rollup damages set to False\n",
      "23:09:11 [INFO] Parse frames set to True\n",
      "23:09:11 [INFO] Running Golang parser from C:\\Users\\nguye\\anaconda3\\envs\\envTF24\\lib\\site-packages\\csgo-1.0-py3.7.egg\\csgo\\parser\\\n",
      "23:09:11 [INFO] Looking for file at D:\\EDAV\\220\\DHW14-GroupC-esc-vs-planetkey-mirage.dem\n"
     ]
    },
    {
     "name": "stdout",
     "output_type": "stream",
     "text": [
      "parsing    220 DHW14-GroupC-esc-vs-planetkey-mirage.dem\n"
     ]
    },
    {
     "name": "stderr",
     "output_type": "stream",
     "text": [
      "23:09:13 [INFO] Wrote demo parse output to 220 DHW14-GroupC-esc-vs-planetkey-mirage.json\n",
      "23:09:13 [INFO] Reading in JSON from 220 DHW14-GroupC-esc-vs-planetkey-mirage.json\n",
      "23:09:13 [INFO] JSON data loaded, available in the `json` attribute to parser\n",
      "23:09:13 [INFO] Successfully parsed JSON output\n",
      "23:09:13 [INFO] Successfully returned JSON output\n",
      "23:09:14 [INFO] Go version>=1.14.0\n",
      "23:09:14 [INFO] Initialized CSGODemoParser with demofile D:\\EDAV\\221\\sk-vs-astralis-dust2.dem\n",
      "23:09:14 [INFO] Setting demo id to 221 sk-vs-astralis-dust2\n",
      "23:09:14 [INFO] Setting parse rate to 128\n",
      "23:09:14 [INFO] Setting trade time to 5\n",
      "23:09:14 [INFO] Setting buy style to hltv\n",
      "23:09:14 [INFO] Rollup damages set to False\n",
      "23:09:14 [INFO] Parse frames set to True\n",
      "23:09:14 [INFO] Running Golang parser from C:\\Users\\nguye\\anaconda3\\envs\\envTF24\\lib\\site-packages\\csgo-1.0-py3.7.egg\\csgo\\parser\\\n",
      "23:09:14 [INFO] Looking for file at D:\\EDAV\\221\\sk-vs-astralis-dust2.dem\n"
     ]
    },
    {
     "name": "stdout",
     "output_type": "stream",
     "text": [
      "parsing    221 sk-vs-astralis-dust2.dem\n"
     ]
    },
    {
     "name": "stderr",
     "output_type": "stream",
     "text": [
      "23:09:21 [INFO] Wrote demo parse output to 221 sk-vs-astralis-dust2.json\n",
      "23:09:21 [INFO] Reading in JSON from 221 sk-vs-astralis-dust2.json\n",
      "23:09:22 [INFO] JSON data loaded, available in the `json` attribute to parser\n",
      "23:09:22 [INFO] Successfully parsed JSON output\n",
      "23:09:22 [INFO] Successfully returned JSON output\n",
      "23:09:33 [INFO] Go version>=1.14.0\n",
      "23:09:33 [INFO] Initialized CSGODemoParser with demofile D:\\EDAV\\222\\003105352163501539569_1701770142_1_g2_vs_mousesports_inferno.dem\n",
      "23:09:33 [INFO] Setting demo id to 222 003105352163501539569_1701770142_1_g2_vs_mousesports_inferno\n",
      "23:09:33 [INFO] Setting parse rate to 128\n",
      "23:09:33 [INFO] Setting trade time to 5\n",
      "23:09:33 [INFO] Setting buy style to hltv\n",
      "23:09:33 [INFO] Rollup damages set to False\n",
      "23:09:33 [INFO] Parse frames set to True\n",
      "23:09:33 [INFO] Running Golang parser from C:\\Users\\nguye\\anaconda3\\envs\\envTF24\\lib\\site-packages\\csgo-1.0-py3.7.egg\\csgo\\parser\\\n",
      "23:09:33 [INFO] Looking for file at D:\\EDAV\\222\\003105352163501539569_1701770142_1_g2_vs_mousesports_inferno.dem\n"
     ]
    },
    {
     "name": "stdout",
     "output_type": "stream",
     "text": [
      "parsing    222 003105352163501539569_1701770142_1_g2_vs_mousesports_inferno.dem\n"
     ]
    },
    {
     "name": "stderr",
     "output_type": "stream",
     "text": [
      "23:09:38 [INFO] Wrote demo parse output to 222 003105352163501539569_1701770142_1_g2_vs_mousesports_inferno.json\n",
      "23:09:38 [INFO] Reading in JSON from 222 003105352163501539569_1701770142_1_g2_vs_mousesports_inferno.json\n",
      "23:09:38 [INFO] JSON data loaded, available in the `json` attribute to parser\n",
      "23:09:38 [INFO] Successfully parsed JSON output\n",
      "23:09:38 [INFO] Successfully returned JSON output\n",
      "23:09:45 [INFO] Go version>=1.14.0\n",
      "23:09:45 [INFO] Initialized CSGODemoParser with demofile D:\\EDAV\\223\\complexity-vs-g2-cache.dem\n",
      "23:09:45 [INFO] Setting demo id to 223 complexity-vs-g2-cache\n",
      "23:09:45 [INFO] Setting parse rate to 128\n",
      "23:09:45 [INFO] Setting trade time to 5\n",
      "23:09:45 [INFO] Setting buy style to hltv\n",
      "23:09:45 [INFO] Rollup damages set to False\n",
      "23:09:45 [INFO] Parse frames set to True\n",
      "23:09:45 [INFO] Running Golang parser from C:\\Users\\nguye\\anaconda3\\envs\\envTF24\\lib\\site-packages\\csgo-1.0-py3.7.egg\\csgo\\parser\\\n",
      "23:09:45 [INFO] Looking for file at D:\\EDAV\\223\\complexity-vs-g2-cache.dem\n"
     ]
    },
    {
     "name": "stdout",
     "output_type": "stream",
     "text": [
      "parsing    223 complexity-vs-g2-cache.dem\n"
     ]
    },
    {
     "name": "stderr",
     "output_type": "stream",
     "text": [
      "23:09:51 [INFO] Wrote demo parse output to 223 complexity-vs-g2-cache.json\n",
      "23:09:51 [INFO] Reading in JSON from 223 complexity-vs-g2-cache.json\n",
      "23:09:51 [INFO] JSON data loaded, available in the `json` attribute to parser\n",
      "23:09:51 [INFO] Successfully parsed JSON output\n",
      "23:09:51 [INFO] Successfully returned JSON output\n",
      "23:10:00 [INFO] Go version>=1.14.0\n",
      "23:10:00 [INFO] Initialized CSGODemoParser with demofile D:\\EDAV\\224\\ESLOneCologne2016-virtuspro-vs-sk-map2-nuke.dem\n",
      "23:10:00 [INFO] Setting demo id to 224 ESLOneCologne2016-virtuspro-vs-sk-map2-nuke\n",
      "23:10:00 [INFO] Setting parse rate to 128\n",
      "23:10:00 [INFO] Setting trade time to 5\n",
      "23:10:00 [INFO] Setting buy style to hltv\n",
      "23:10:00 [INFO] Rollup damages set to False\n",
      "23:10:00 [INFO] Parse frames set to True\n",
      "23:10:00 [INFO] Running Golang parser from C:\\Users\\nguye\\anaconda3\\envs\\envTF24\\lib\\site-packages\\csgo-1.0-py3.7.egg\\csgo\\parser\\\n",
      "23:10:00 [INFO] Looking for file at D:\\EDAV\\224\\ESLOneCologne2016-virtuspro-vs-sk-map2-nuke.dem\n"
     ]
    },
    {
     "name": "stdout",
     "output_type": "stream",
     "text": [
      "parsing    224 ESLOneCologne2016-virtuspro-vs-sk-map2-nuke.dem\n"
     ]
    },
    {
     "name": "stderr",
     "output_type": "stream",
     "text": [
      "23:10:04 [INFO] Wrote demo parse output to 224 ESLOneCologne2016-virtuspro-vs-sk-map2-nuke.json\n",
      "23:10:04 [INFO] Reading in JSON from 224 ESLOneCologne2016-virtuspro-vs-sk-map2-nuke.json\n",
      "23:10:04 [INFO] JSON data loaded, available in the `json` attribute to parser\n",
      "23:10:04 [INFO] Successfully parsed JSON output\n",
      "23:10:04 [INFO] Successfully returned JSON output\n",
      "23:10:11 [INFO] Go version>=1.14.0\n",
      "23:10:11 [INFO] Initialized CSGODemoParser with demofile D:\\EDAV\\224\\ESLOneCologne2016-virtuspro-vs-sk-map3-mirage.dem\n",
      "23:10:11 [INFO] Setting demo id to 224 ESLOneCologne2016-virtuspro-vs-sk-map3-mirage\n",
      "23:10:11 [INFO] Setting parse rate to 128\n",
      "23:10:11 [INFO] Setting trade time to 5\n",
      "23:10:11 [INFO] Setting buy style to hltv\n",
      "23:10:11 [INFO] Rollup damages set to False\n",
      "23:10:11 [INFO] Parse frames set to True\n",
      "23:10:11 [INFO] Running Golang parser from C:\\Users\\nguye\\anaconda3\\envs\\envTF24\\lib\\site-packages\\csgo-1.0-py3.7.egg\\csgo\\parser\\\n",
      "23:10:11 [INFO] Looking for file at D:\\EDAV\\224\\ESLOneCologne2016-virtuspro-vs-sk-map3-mirage.dem\n"
     ]
    },
    {
     "name": "stdout",
     "output_type": "stream",
     "text": [
      "parsing    224 ESLOneCologne2016-virtuspro-vs-sk-map3-mirage.dem\n"
     ]
    },
    {
     "name": "stderr",
     "output_type": "stream",
     "text": [
      "23:10:16 [INFO] Wrote demo parse output to 224 ESLOneCologne2016-virtuspro-vs-sk-map3-mirage.json\n",
      "23:10:16 [INFO] Reading in JSON from 224 ESLOneCologne2016-virtuspro-vs-sk-map3-mirage.json\n",
      "23:10:17 [INFO] JSON data loaded, available in the `json` attribute to parser\n",
      "23:10:17 [INFO] Successfully parsed JSON output\n",
      "23:10:17 [INFO] Successfully returned JSON output\n",
      "23:10:24 [INFO] Go version>=1.14.0\n",
      "23:10:24 [INFO] Initialized CSGODemoParser with demofile D:\\EDAV\\224\\ESLOneCologne2016-virtuspro-vs-sk-map1-cobblestone.dem\n",
      "23:10:24 [INFO] Setting demo id to 224 ESLOneCologne2016-virtuspro-vs-sk-map1-cobblestone\n",
      "23:10:24 [INFO] Setting parse rate to 128\n",
      "23:10:24 [INFO] Setting trade time to 5\n",
      "23:10:24 [INFO] Setting buy style to hltv\n",
      "23:10:24 [INFO] Rollup damages set to False\n",
      "23:10:24 [INFO] Parse frames set to True\n",
      "23:10:24 [INFO] Running Golang parser from C:\\Users\\nguye\\anaconda3\\envs\\envTF24\\lib\\site-packages\\csgo-1.0-py3.7.egg\\csgo\\parser\\\n",
      "23:10:24 [INFO] Looking for file at D:\\EDAV\\224\\ESLOneCologne2016-virtuspro-vs-sk-map1-cobblestone.dem\n"
     ]
    },
    {
     "name": "stdout",
     "output_type": "stream",
     "text": [
      "parsing    224 ESLOneCologne2016-virtuspro-vs-sk-map1-cobblestone.dem\n"
     ]
    },
    {
     "name": "stderr",
     "output_type": "stream",
     "text": [
      "23:10:31 [INFO] Wrote demo parse output to 224 ESLOneCologne2016-virtuspro-vs-sk-map1-cobblestone.json\n",
      "23:10:31 [INFO] Reading in JSON from 224 ESLOneCologne2016-virtuspro-vs-sk-map1-cobblestone.json\n",
      "23:10:32 [INFO] JSON data loaded, available in the `json` attribute to parser\n",
      "23:10:32 [INFO] Successfully parsed JSON output\n",
      "23:10:32 [INFO] Successfully returned JSON output\n",
      "23:10:45 [INFO] Go version>=1.14.0\n",
      "23:10:45 [INFO] Initialized CSGODemoParser with demofile D:\\EDAV\\225\\faze-vs-vitality-dust2.dem\n",
      "23:10:45 [INFO] Setting demo id to 225 faze-vs-vitality-dust2\n",
      "23:10:45 [INFO] Setting parse rate to 128\n",
      "23:10:45 [INFO] Setting trade time to 5\n",
      "23:10:45 [INFO] Setting buy style to hltv\n",
      "23:10:45 [INFO] Rollup damages set to False\n",
      "23:10:45 [INFO] Parse frames set to True\n",
      "23:10:45 [INFO] Running Golang parser from C:\\Users\\nguye\\anaconda3\\envs\\envTF24\\lib\\site-packages\\csgo-1.0-py3.7.egg\\csgo\\parser\\\n",
      "23:10:45 [INFO] Looking for file at D:\\EDAV\\225\\faze-vs-vitality-dust2.dem\n"
     ]
    },
    {
     "name": "stdout",
     "output_type": "stream",
     "text": [
      "parsing    225 faze-vs-vitality-dust2.dem\n"
     ]
    },
    {
     "name": "stderr",
     "output_type": "stream",
     "text": [
      "23:10:49 [INFO] Wrote demo parse output to 225 faze-vs-vitality-dust2.json\n",
      "23:10:49 [INFO] Reading in JSON from 225 faze-vs-vitality-dust2.json\n",
      "23:10:50 [INFO] JSON data loaded, available in the `json` attribute to parser\n",
      "23:10:50 [INFO] Successfully parsed JSON output\n",
      "23:10:50 [INFO] Successfully returned JSON output\n",
      "23:10:56 [INFO] Go version>=1.14.0\n",
      "23:10:56 [INFO] Initialized CSGODemoParser with demofile D:\\EDAV\\226\\MLGColumbus2016-liquid-vs-clg-bo3-map1-cache.dem\n",
      "23:10:56 [INFO] Setting demo id to 226 MLGColumbus2016-liquid-vs-clg-bo3-map1-cache\n",
      "23:10:56 [INFO] Setting parse rate to 128\n",
      "23:10:56 [INFO] Setting trade time to 5\n",
      "23:10:56 [INFO] Setting buy style to hltv\n",
      "23:10:56 [INFO] Rollup damages set to False\n",
      "23:10:56 [INFO] Parse frames set to True\n",
      "23:10:56 [INFO] Running Golang parser from C:\\Users\\nguye\\anaconda3\\envs\\envTF24\\lib\\site-packages\\csgo-1.0-py3.7.egg\\csgo\\parser\\\n",
      "23:10:56 [INFO] Looking for file at D:\\EDAV\\226\\MLGColumbus2016-liquid-vs-clg-bo3-map1-cache.dem\n"
     ]
    },
    {
     "name": "stdout",
     "output_type": "stream",
     "text": [
      "parsing    226 MLGColumbus2016-liquid-vs-clg-bo3-map1-cache.dem\n"
     ]
    },
    {
     "name": "stderr",
     "output_type": "stream",
     "text": [
      "23:11:02 [INFO] Wrote demo parse output to 226 MLGColumbus2016-liquid-vs-clg-bo3-map1-cache.json\n",
      "23:11:02 [INFO] Reading in JSON from 226 MLGColumbus2016-liquid-vs-clg-bo3-map1-cache.json\n",
      "23:11:03 [INFO] JSON data loaded, available in the `json` attribute to parser\n",
      "23:11:03 [INFO] Successfully parsed JSON output\n",
      "23:11:03 [INFO] Successfully returned JSON output\n",
      "23:11:13 [INFO] Go version>=1.14.0\n",
      "23:11:13 [INFO] Initialized CSGODemoParser with demofile D:\\EDAV\\226\\MLGColumbus2016-liquid-vs-clg-bo3-map2-mirage.dem\n",
      "23:11:13 [INFO] Setting demo id to 226 MLGColumbus2016-liquid-vs-clg-bo3-map2-mirage\n",
      "23:11:13 [INFO] Setting parse rate to 128\n",
      "23:11:13 [INFO] Setting trade time to 5\n",
      "23:11:13 [INFO] Setting buy style to hltv\n",
      "23:11:13 [INFO] Rollup damages set to False\n",
      "23:11:13 [INFO] Parse frames set to True\n",
      "23:11:13 [INFO] Running Golang parser from C:\\Users\\nguye\\anaconda3\\envs\\envTF24\\lib\\site-packages\\csgo-1.0-py3.7.egg\\csgo\\parser\\\n",
      "23:11:13 [INFO] Looking for file at D:\\EDAV\\226\\MLGColumbus2016-liquid-vs-clg-bo3-map2-mirage.dem\n"
     ]
    },
    {
     "name": "stdout",
     "output_type": "stream",
     "text": [
      "parsing    226 MLGColumbus2016-liquid-vs-clg-bo3-map2-mirage.dem\n"
     ]
    },
    {
     "name": "stderr",
     "output_type": "stream",
     "text": [
      "23:11:18 [INFO] Wrote demo parse output to 226 MLGColumbus2016-liquid-vs-clg-bo3-map2-mirage.json\n",
      "23:11:18 [INFO] Reading in JSON from 226 MLGColumbus2016-liquid-vs-clg-bo3-map2-mirage.json\n",
      "23:11:18 [INFO] JSON data loaded, available in the `json` attribute to parser\n",
      "23:11:18 [INFO] Successfully parsed JSON output\n",
      "23:11:18 [INFO] Successfully returned JSON output\n",
      "23:11:25 [INFO] Go version>=1.14.0\n",
      "23:11:25 [INFO] Initialized CSGODemoParser with demofile D:\\EDAV\\227\\ESLOneCologne-GroupC-fnatic-vs-ibuypower-cobblestone.dem\n",
      "23:11:25 [INFO] Setting demo id to 227 ESLOneCologne-GroupC-fnatic-vs-ibuypower-cobblestone\n",
      "23:11:25 [INFO] Setting parse rate to 128\n",
      "23:11:25 [INFO] Setting trade time to 5\n",
      "23:11:25 [INFO] Setting buy style to hltv\n",
      "23:11:25 [INFO] Rollup damages set to False\n",
      "23:11:25 [INFO] Parse frames set to True\n",
      "23:11:25 [INFO] Running Golang parser from C:\\Users\\nguye\\anaconda3\\envs\\envTF24\\lib\\site-packages\\csgo-1.0-py3.7.egg\\csgo\\parser\\\n",
      "23:11:25 [INFO] Looking for file at D:\\EDAV\\227\\ESLOneCologne-GroupC-fnatic-vs-ibuypower-cobblestone.dem\n"
     ]
    },
    {
     "name": "stdout",
     "output_type": "stream",
     "text": [
      "parsing    227 ESLOneCologne-GroupC-fnatic-vs-ibuypower-cobblestone.dem\n"
     ]
    },
    {
     "name": "stderr",
     "output_type": "stream",
     "text": [
      "23:11:27 [INFO] Wrote demo parse output to 227 ESLOneCologne-GroupC-fnatic-vs-ibuypower-cobblestone.json\n",
      "23:11:27 [INFO] Reading in JSON from 227 ESLOneCologne-GroupC-fnatic-vs-ibuypower-cobblestone.json\n",
      "23:11:27 [INFO] JSON data loaded, available in the `json` attribute to parser\n",
      "23:11:27 [INFO] Successfully parsed JSON output\n",
      "23:11:27 [INFO] Successfully returned JSON output\n",
      "23:11:28 [INFO] Go version>=1.14.0\n",
      "23:11:28 [INFO] Initialized CSGODemoParser with demofile D:\\EDAV\\228\\gambit-vs-astralis-map3-train.dem\n",
      "23:11:28 [INFO] Setting demo id to 228 gambit-vs-astralis-map3-train\n",
      "23:11:28 [INFO] Setting parse rate to 128\n",
      "23:11:28 [INFO] Setting trade time to 5\n",
      "23:11:28 [INFO] Setting buy style to hltv\n",
      "23:11:28 [INFO] Rollup damages set to False\n",
      "23:11:28 [INFO] Parse frames set to True\n",
      "23:11:28 [INFO] Running Golang parser from C:\\Users\\nguye\\anaconda3\\envs\\envTF24\\lib\\site-packages\\csgo-1.0-py3.7.egg\\csgo\\parser\\\n",
      "23:11:28 [INFO] Looking for file at D:\\EDAV\\228\\gambit-vs-astralis-map3-train.dem\n"
     ]
    },
    {
     "name": "stdout",
     "output_type": "stream",
     "text": [
      "parsing    228 gambit-vs-astralis-map3-train.dem\n"
     ]
    },
    {
     "name": "stderr",
     "output_type": "stream",
     "text": [
      "23:11:33 [INFO] Wrote demo parse output to 228 gambit-vs-astralis-map3-train.json\n",
      "23:11:33 [INFO] Reading in JSON from 228 gambit-vs-astralis-map3-train.json\n",
      "23:11:34 [INFO] JSON data loaded, available in the `json` attribute to parser\n",
      "23:11:34 [INFO] Successfully parsed JSON output\n",
      "23:11:34 [INFO] Successfully returned JSON output\n",
      "23:11:43 [INFO] Go version>=1.14.0\n",
      "23:11:43 [INFO] Initialized CSGODemoParser with demofile D:\\EDAV\\228\\gambit-vs-astralis-map1-overpass.dem\n",
      "23:11:43 [INFO] Setting demo id to 228 gambit-vs-astralis-map1-overpass\n",
      "23:11:43 [INFO] Setting parse rate to 128\n",
      "23:11:43 [INFO] Setting trade time to 5\n",
      "23:11:43 [INFO] Setting buy style to hltv\n",
      "23:11:43 [INFO] Rollup damages set to False\n",
      "23:11:43 [INFO] Parse frames set to True\n",
      "23:11:43 [INFO] Running Golang parser from C:\\Users\\nguye\\anaconda3\\envs\\envTF24\\lib\\site-packages\\csgo-1.0-py3.7.egg\\csgo\\parser\\\n",
      "23:11:43 [INFO] Looking for file at D:\\EDAV\\228\\gambit-vs-astralis-map1-overpass.dem\n"
     ]
    },
    {
     "name": "stdout",
     "output_type": "stream",
     "text": [
      "parsing    228 gambit-vs-astralis-map1-overpass.dem\n"
     ]
    },
    {
     "name": "stderr",
     "output_type": "stream",
     "text": [
      "23:11:49 [INFO] Wrote demo parse output to 228 gambit-vs-astralis-map1-overpass.json\n",
      "23:11:49 [INFO] Reading in JSON from 228 gambit-vs-astralis-map1-overpass.json\n",
      "23:11:50 [INFO] JSON data loaded, available in the `json` attribute to parser\n",
      "23:11:50 [INFO] Successfully parsed JSON output\n",
      "23:11:50 [INFO] Successfully returned JSON output\n",
      "23:11:58 [INFO] Go version>=1.14.0\n",
      "23:11:58 [INFO] Initialized CSGODemoParser with demofile D:\\EDAV\\228\\gambit-vs-astralis-map2-inferno.dem\n",
      "23:11:58 [INFO] Setting demo id to 228 gambit-vs-astralis-map2-inferno\n",
      "23:11:58 [INFO] Setting parse rate to 128\n",
      "23:11:58 [INFO] Setting trade time to 5\n",
      "23:11:58 [INFO] Setting buy style to hltv\n",
      "23:11:58 [INFO] Rollup damages set to False\n",
      "23:11:58 [INFO] Parse frames set to True\n",
      "23:11:58 [INFO] Running Golang parser from C:\\Users\\nguye\\anaconda3\\envs\\envTF24\\lib\\site-packages\\csgo-1.0-py3.7.egg\\csgo\\parser\\\n",
      "23:11:58 [INFO] Looking for file at D:\\EDAV\\228\\gambit-vs-astralis-map2-inferno.dem\n"
     ]
    },
    {
     "name": "stdout",
     "output_type": "stream",
     "text": [
      "parsing    228 gambit-vs-astralis-map2-inferno.dem\n"
     ]
    },
    {
     "name": "stderr",
     "output_type": "stream",
     "text": [
      "23:12:03 [INFO] Wrote demo parse output to 228 gambit-vs-astralis-map2-inferno.json\n",
      "23:12:03 [INFO] Reading in JSON from 228 gambit-vs-astralis-map2-inferno.json\n",
      "23:12:04 [INFO] JSON data loaded, available in the `json` attribute to parser\n",
      "23:12:04 [INFO] Successfully parsed JSON output\n",
      "23:12:04 [INFO] Successfully returned JSON output\n",
      "23:12:11 [INFO] Go version>=1.14.0\n",
      "23:12:11 [INFO] Initialized CSGODemoParser with demofile D:\\EDAV\\229\\vega-squadron-vs-nip-train.dem\n",
      "23:12:11 [INFO] Setting demo id to 229 vega-squadron-vs-nip-train\n",
      "23:12:11 [INFO] Setting parse rate to 128\n",
      "23:12:11 [INFO] Setting trade time to 5\n",
      "23:12:11 [INFO] Setting buy style to hltv\n",
      "23:12:11 [INFO] Rollup damages set to False\n",
      "23:12:11 [INFO] Parse frames set to True\n",
      "23:12:11 [INFO] Running Golang parser from C:\\Users\\nguye\\anaconda3\\envs\\envTF24\\lib\\site-packages\\csgo-1.0-py3.7.egg\\csgo\\parser\\\n",
      "23:12:11 [INFO] Looking for file at D:\\EDAV\\229\\vega-squadron-vs-nip-train.dem\n"
     ]
    },
    {
     "name": "stdout",
     "output_type": "stream",
     "text": [
      "parsing    229 vega-squadron-vs-nip-train.dem\n"
     ]
    },
    {
     "name": "stderr",
     "output_type": "stream",
     "text": [
      "23:12:16 [INFO] Wrote demo parse output to 229 vega-squadron-vs-nip-train.json\n",
      "23:12:16 [INFO] Reading in JSON from 229 vega-squadron-vs-nip-train.json\n",
      "23:12:17 [INFO] JSON data loaded, available in the `json` attribute to parser\n",
      "23:12:17 [INFO] Successfully parsed JSON output\n",
      "23:12:17 [INFO] Successfully returned JSON output\n",
      "23:12:25 [INFO] Go version>=1.14.0\n",
      "23:12:25 [INFO] Initialized CSGODemoParser with demofile D:\\EDAV\\230\\003105747231773294667_0108278127_1_nip_vs_titan_cache.dem\n",
      "23:12:25 [INFO] Setting demo id to 230 003105747231773294667_0108278127_1_nip_vs_titan_cache\n",
      "23:12:25 [INFO] Setting parse rate to 128\n",
      "23:12:25 [INFO] Setting trade time to 5\n",
      "23:12:25 [INFO] Setting buy style to hltv\n",
      "23:12:25 [INFO] Rollup damages set to False\n",
      "23:12:25 [INFO] Parse frames set to True\n",
      "23:12:25 [INFO] Running Golang parser from C:\\Users\\nguye\\anaconda3\\envs\\envTF24\\lib\\site-packages\\csgo-1.0-py3.7.egg\\csgo\\parser\\\n",
      "23:12:25 [INFO] Looking for file at D:\\EDAV\\230\\003105747231773294667_0108278127_1_nip_vs_titan_cache.dem\n"
     ]
    },
    {
     "name": "stdout",
     "output_type": "stream",
     "text": [
      "parsing    230 003105747231773294667_0108278127_1_nip_vs_titan_cache.dem\n"
     ]
    },
    {
     "name": "stderr",
     "output_type": "stream",
     "text": [
      "23:12:30 [INFO] Wrote demo parse output to 230 003105747231773294667_0108278127_1_nip_vs_titan_cache.json\n",
      "23:12:30 [INFO] Reading in JSON from 230 003105747231773294667_0108278127_1_nip_vs_titan_cache.json\n",
      "23:12:30 [INFO] JSON data loaded, available in the `json` attribute to parser\n",
      "23:12:30 [INFO] Successfully parsed JSON output\n",
      "23:12:30 [INFO] Successfully returned JSON output\n",
      "23:12:37 [INFO] Go version>=1.14.0\n",
      "23:12:37 [INFO] Initialized CSGODemoParser with demofile D:\\EDAV\\230\\003105752205345423639_1771338861_1_nip_vs_titan_dust2.dem\n",
      "23:12:37 [INFO] Setting demo id to 230 003105752205345423639_1771338861_1_nip_vs_titan_dust2\n",
      "23:12:37 [INFO] Setting parse rate to 128\n",
      "23:12:37 [INFO] Setting trade time to 5\n",
      "23:12:37 [INFO] Setting buy style to hltv\n",
      "23:12:37 [INFO] Rollup damages set to False\n",
      "23:12:37 [INFO] Parse frames set to True\n",
      "23:12:37 [INFO] Running Golang parser from C:\\Users\\nguye\\anaconda3\\envs\\envTF24\\lib\\site-packages\\csgo-1.0-py3.7.egg\\csgo\\parser\\\n",
      "23:12:37 [INFO] Looking for file at D:\\EDAV\\230\\003105752205345423639_1771338861_1_nip_vs_titan_dust2.dem\n"
     ]
    },
    {
     "name": "stdout",
     "output_type": "stream",
     "text": [
      "parsing    230 003105752205345423639_1771338861_1_nip_vs_titan_dust2.dem\n"
     ]
    },
    {
     "name": "stderr",
     "output_type": "stream",
     "text": [
      "23:12:40 [INFO] Wrote demo parse output to 230 003105752205345423639_1771338861_1_nip_vs_titan_dust2.json\n",
      "23:12:40 [INFO] Reading in JSON from 230 003105752205345423639_1771338861_1_nip_vs_titan_dust2.json\n",
      "23:12:41 [INFO] JSON data loaded, available in the `json` attribute to parser\n",
      "23:12:41 [INFO] Successfully parsed JSON output\n",
      "23:12:41 [INFO] Successfully returned JSON output\n",
      "23:12:44 [INFO] Go version>=1.14.0\n",
      "23:12:44 [INFO] Initialized CSGODemoParser with demofile D:\\EDAV\\231\\flipsid3-vs-faze-nuke.dem\n",
      "23:12:44 [INFO] Setting demo id to 231 flipsid3-vs-faze-nuke\n",
      "23:12:44 [INFO] Setting parse rate to 128\n",
      "23:12:44 [INFO] Setting trade time to 5\n",
      "23:12:44 [INFO] Setting buy style to hltv\n",
      "23:12:44 [INFO] Rollup damages set to False\n",
      "23:12:44 [INFO] Parse frames set to True\n",
      "23:12:44 [INFO] Running Golang parser from C:\\Users\\nguye\\anaconda3\\envs\\envTF24\\lib\\site-packages\\csgo-1.0-py3.7.egg\\csgo\\parser\\\n",
      "23:12:44 [INFO] Looking for file at D:\\EDAV\\231\\flipsid3-vs-faze-nuke.dem\n"
     ]
    },
    {
     "name": "stdout",
     "output_type": "stream",
     "text": [
      "parsing    231 flipsid3-vs-faze-nuke.dem\n"
     ]
    },
    {
     "name": "stderr",
     "output_type": "stream",
     "text": [
      "23:12:49 [INFO] Wrote demo parse output to 231 flipsid3-vs-faze-nuke.json\n",
      "23:12:49 [INFO] Reading in JSON from 231 flipsid3-vs-faze-nuke.json\n",
      "23:12:49 [INFO] JSON data loaded, available in the `json` attribute to parser\n",
      "23:12:49 [INFO] Successfully parsed JSON output\n",
      "23:12:49 [INFO] Successfully returned JSON output\n",
      "23:12:56 [INFO] Go version>=1.14.0\n",
      "23:12:56 [INFO] Initialized CSGODemoParser with demofile D:\\EDAV\\232\\ESLOneCologne2016-nip-vs-optic-dust2.dem\n",
      "23:12:56 [INFO] Setting demo id to 232 ESLOneCologne2016-nip-vs-optic-dust2\n",
      "23:12:56 [INFO] Setting parse rate to 128\n",
      "23:12:56 [INFO] Setting trade time to 5\n",
      "23:12:56 [INFO] Setting buy style to hltv\n",
      "23:12:56 [INFO] Rollup damages set to False\n",
      "23:12:56 [INFO] Parse frames set to True\n",
      "23:12:56 [INFO] Running Golang parser from C:\\Users\\nguye\\anaconda3\\envs\\envTF24\\lib\\site-packages\\csgo-1.0-py3.7.egg\\csgo\\parser\\\n",
      "23:12:56 [INFO] Looking for file at D:\\EDAV\\232\\ESLOneCologne2016-nip-vs-optic-dust2.dem\n"
     ]
    },
    {
     "name": "stdout",
     "output_type": "stream",
     "text": [
      "parsing    232 ESLOneCologne2016-nip-vs-optic-dust2.dem\n"
     ]
    },
    {
     "name": "stderr",
     "output_type": "stream",
     "text": [
      "23:13:00 [INFO] Wrote demo parse output to 232 ESLOneCologne2016-nip-vs-optic-dust2.json\n",
      "23:13:00 [INFO] Reading in JSON from 232 ESLOneCologne2016-nip-vs-optic-dust2.json\n",
      "23:13:00 [INFO] JSON data loaded, available in the `json` attribute to parser\n",
      "23:13:00 [INFO] Successfully parsed JSON output\n",
      "23:13:00 [INFO] Successfully returned JSON output\n",
      "23:13:06 [INFO] Go version>=1.14.0\n",
      "23:13:06 [INFO] Initialized CSGODemoParser with demofile D:\\EDAV\\233\\DHW14-QF-fnatic-vs-ldlc-overpass.dem\n",
      "23:13:06 [INFO] Setting demo id to 233 DHW14-QF-fnatic-vs-ldlc-overpass\n",
      "23:13:06 [INFO] Setting parse rate to 128\n",
      "23:13:06 [INFO] Setting trade time to 5\n",
      "23:13:06 [INFO] Setting buy style to hltv\n",
      "23:13:06 [INFO] Rollup damages set to False\n",
      "23:13:06 [INFO] Parse frames set to True\n",
      "23:13:06 [INFO] Running Golang parser from C:\\Users\\nguye\\anaconda3\\envs\\envTF24\\lib\\site-packages\\csgo-1.0-py3.7.egg\\csgo\\parser\\\n",
      "23:13:06 [INFO] Looking for file at D:\\EDAV\\233\\DHW14-QF-fnatic-vs-ldlc-overpass.dem\n"
     ]
    },
    {
     "name": "stdout",
     "output_type": "stream",
     "text": [
      "parsing    233 DHW14-QF-fnatic-vs-ldlc-overpass.dem\n"
     ]
    },
    {
     "name": "stderr",
     "output_type": "stream",
     "text": [
      "23:13:09 [INFO] Wrote demo parse output to 233 DHW14-QF-fnatic-vs-ldlc-overpass.json\n",
      "23:13:09 [INFO] Reading in JSON from 233 DHW14-QF-fnatic-vs-ldlc-overpass.json\n",
      "23:13:09 [INFO] JSON data loaded, available in the `json` attribute to parser\n",
      "23:13:09 [INFO] Successfully parsed JSON output\n",
      "23:13:09 [INFO] Successfully returned JSON output\n",
      "23:13:11 [INFO] Go version>=1.14.0\n",
      "23:13:11 [INFO] Initialized CSGODemoParser with demofile D:\\EDAV\\233\\DHW14-QF-ldlc-vs-fnatic-dust2.dem\n",
      "23:13:11 [INFO] Setting demo id to 233 DHW14-QF-ldlc-vs-fnatic-dust2\n",
      "23:13:11 [INFO] Setting parse rate to 128\n",
      "23:13:11 [INFO] Setting trade time to 5\n",
      "23:13:11 [INFO] Setting buy style to hltv\n",
      "23:13:11 [INFO] Rollup damages set to False\n",
      "23:13:11 [INFO] Parse frames set to True\n",
      "23:13:11 [INFO] Running Golang parser from C:\\Users\\nguye\\anaconda3\\envs\\envTF24\\lib\\site-packages\\csgo-1.0-py3.7.egg\\csgo\\parser\\\n",
      "23:13:11 [INFO] Looking for file at D:\\EDAV\\233\\DHW14-QF-ldlc-vs-fnatic-dust2.dem\n"
     ]
    },
    {
     "name": "stdout",
     "output_type": "stream",
     "text": [
      "parsing    233 DHW14-QF-ldlc-vs-fnatic-dust2.dem\n"
     ]
    },
    {
     "name": "stderr",
     "output_type": "stream",
     "text": [
      "23:13:13 [INFO] Wrote demo parse output to 233 DHW14-QF-ldlc-vs-fnatic-dust2.json\n",
      "23:13:13 [INFO] Reading in JSON from 233 DHW14-QF-ldlc-vs-fnatic-dust2.json\n",
      "23:13:13 [INFO] JSON data loaded, available in the `json` attribute to parser\n",
      "23:13:13 [INFO] Successfully parsed JSON output\n",
      "23:13:13 [INFO] Successfully returned JSON output\n",
      "23:13:14 [INFO] Go version>=1.14.0\n",
      "23:13:14 [INFO] Initialized CSGODemoParser with demofile D:\\EDAV\\233\\DHW14-QF-fnatic-vs-ldlc-cache.dem\n",
      "23:13:14 [INFO] Setting demo id to 233 DHW14-QF-fnatic-vs-ldlc-cache\n",
      "23:13:14 [INFO] Setting parse rate to 128\n",
      "23:13:14 [INFO] Setting trade time to 5\n",
      "23:13:14 [INFO] Setting buy style to hltv\n",
      "23:13:14 [INFO] Rollup damages set to False\n",
      "23:13:14 [INFO] Parse frames set to True\n",
      "23:13:14 [INFO] Running Golang parser from C:\\Users\\nguye\\anaconda3\\envs\\envTF24\\lib\\site-packages\\csgo-1.0-py3.7.egg\\csgo\\parser\\\n",
      "23:13:14 [INFO] Looking for file at D:\\EDAV\\233\\DHW14-QF-fnatic-vs-ldlc-cache.dem\n"
     ]
    },
    {
     "name": "stdout",
     "output_type": "stream",
     "text": [
      "parsing    233 DHW14-QF-fnatic-vs-ldlc-cache.dem\n"
     ]
    },
    {
     "name": "stderr",
     "output_type": "stream",
     "text": [
      "23:13:16 [INFO] Wrote demo parse output to 233 DHW14-QF-fnatic-vs-ldlc-cache.json\n",
      "23:13:16 [INFO] Reading in JSON from 233 DHW14-QF-fnatic-vs-ldlc-cache.json\n",
      "23:13:16 [INFO] JSON data loaded, available in the `json` attribute to parser\n",
      "23:13:16 [INFO] Successfully parsed JSON output\n",
      "23:13:16 [INFO] Successfully returned JSON output\n",
      "23:13:17 [INFO] Go version>=1.14.0\n",
      "23:13:17 [INFO] Initialized CSGODemoParser with demofile D:\\EDAV\\234\\mousesports-vs-hellraisers-cache.dem\n",
      "23:13:17 [INFO] Setting demo id to 234 mousesports-vs-hellraisers-cache\n",
      "23:13:17 [INFO] Setting parse rate to 128\n",
      "23:13:17 [INFO] Setting trade time to 5\n",
      "23:13:17 [INFO] Setting buy style to hltv\n",
      "23:13:17 [INFO] Rollup damages set to False\n",
      "23:13:17 [INFO] Parse frames set to True\n",
      "23:13:17 [INFO] Running Golang parser from C:\\Users\\nguye\\anaconda3\\envs\\envTF24\\lib\\site-packages\\csgo-1.0-py3.7.egg\\csgo\\parser\\\n",
      "23:13:17 [INFO] Looking for file at D:\\EDAV\\234\\mousesports-vs-hellraisers-cache.dem\n"
     ]
    },
    {
     "name": "stdout",
     "output_type": "stream",
     "text": [
      "parsing    234 mousesports-vs-hellraisers-cache.dem\n"
     ]
    },
    {
     "name": "stderr",
     "output_type": "stream",
     "text": [
      "23:13:22 [INFO] Wrote demo parse output to 234 mousesports-vs-hellraisers-cache.json\n",
      "23:13:22 [INFO] Reading in JSON from 234 mousesports-vs-hellraisers-cache.json\n",
      "23:13:23 [INFO] JSON data loaded, available in the `json` attribute to parser\n",
      "23:13:23 [INFO] Successfully parsed JSON output\n",
      "23:13:23 [INFO] Successfully returned JSON output\n",
      "23:13:29 [INFO] Go version>=1.14.0\n",
      "23:13:29 [INFO] Initialized CSGODemoParser with demofile D:\\EDAV\\235\\natus-vincere-vs-faze-overpass.dem\n",
      "23:13:29 [INFO] Setting demo id to 235 natus-vincere-vs-faze-overpass\n",
      "23:13:29 [INFO] Setting parse rate to 128\n",
      "23:13:29 [INFO] Setting trade time to 5\n",
      "23:13:29 [INFO] Setting buy style to hltv\n",
      "23:13:29 [INFO] Rollup damages set to False\n",
      "23:13:29 [INFO] Parse frames set to True\n",
      "23:13:29 [INFO] Running Golang parser from C:\\Users\\nguye\\anaconda3\\envs\\envTF24\\lib\\site-packages\\csgo-1.0-py3.7.egg\\csgo\\parser\\\n",
      "23:13:29 [INFO] Looking for file at D:\\EDAV\\235\\natus-vincere-vs-faze-overpass.dem\n"
     ]
    },
    {
     "name": "stdout",
     "output_type": "stream",
     "text": [
      "parsing    235 natus-vincere-vs-faze-overpass.dem\n"
     ]
    },
    {
     "name": "stderr",
     "output_type": "stream",
     "text": [
      "23:13:36 [INFO] Wrote demo parse output to 235 natus-vincere-vs-faze-overpass.json\n",
      "23:13:36 [INFO] Reading in JSON from 235 natus-vincere-vs-faze-overpass.json\n",
      "23:13:37 [INFO] JSON data loaded, available in the `json` attribute to parser\n",
      "23:13:37 [INFO] Successfully parsed JSON output\n",
      "23:13:37 [INFO] Successfully returned JSON output\n",
      "23:13:46 [INFO] Go version>=1.14.0\n",
      "23:13:46 [INFO] Initialized CSGODemoParser with demofile D:\\EDAV\\236\\natus-vincere-vs-ence-m1-train.dem\n",
      "23:13:46 [INFO] Setting demo id to 236 natus-vincere-vs-ence-m1-train\n",
      "23:13:46 [INFO] Setting parse rate to 128\n",
      "23:13:46 [INFO] Setting trade time to 5\n",
      "23:13:46 [INFO] Setting buy style to hltv\n",
      "23:13:46 [INFO] Rollup damages set to False\n",
      "23:13:46 [INFO] Parse frames set to True\n",
      "23:13:46 [INFO] Running Golang parser from C:\\Users\\nguye\\anaconda3\\envs\\envTF24\\lib\\site-packages\\csgo-1.0-py3.7.egg\\csgo\\parser\\\n",
      "23:13:46 [INFO] Looking for file at D:\\EDAV\\236\\natus-vincere-vs-ence-m1-train.dem\n"
     ]
    },
    {
     "name": "stdout",
     "output_type": "stream",
     "text": [
      "parsing    236 natus-vincere-vs-ence-m1-train.dem\n"
     ]
    },
    {
     "name": "stderr",
     "output_type": "stream",
     "text": [
      "23:13:52 [INFO] Wrote demo parse output to 236 natus-vincere-vs-ence-m1-train.json\n",
      "23:13:52 [INFO] Reading in JSON from 236 natus-vincere-vs-ence-m1-train.json\n",
      "23:13:53 [INFO] JSON data loaded, available in the `json` attribute to parser\n",
      "23:13:53 [INFO] Successfully parsed JSON output\n",
      "23:13:53 [INFO] Successfully returned JSON output\n",
      "23:14:02 [INFO] Go version>=1.14.0\n",
      "23:14:02 [INFO] Initialized CSGODemoParser with demofile D:\\EDAV\\236\\natus-vincere-vs-ence-m2-dust2.dem\n",
      "23:14:02 [INFO] Setting demo id to 236 natus-vincere-vs-ence-m2-dust2\n",
      "23:14:02 [INFO] Setting parse rate to 128\n",
      "23:14:02 [INFO] Setting trade time to 5\n",
      "23:14:02 [INFO] Setting buy style to hltv\n",
      "23:14:02 [INFO] Rollup damages set to False\n",
      "23:14:02 [INFO] Parse frames set to True\n",
      "23:14:02 [INFO] Running Golang parser from C:\\Users\\nguye\\anaconda3\\envs\\envTF24\\lib\\site-packages\\csgo-1.0-py3.7.egg\\csgo\\parser\\\n",
      "23:14:02 [INFO] Looking for file at D:\\EDAV\\236\\natus-vincere-vs-ence-m2-dust2.dem\n"
     ]
    },
    {
     "name": "stdout",
     "output_type": "stream",
     "text": [
      "parsing    236 natus-vincere-vs-ence-m2-dust2.dem\n"
     ]
    },
    {
     "name": "stderr",
     "output_type": "stream",
     "text": [
      "23:14:06 [INFO] Wrote demo parse output to 236 natus-vincere-vs-ence-m2-dust2.json\n",
      "23:14:06 [INFO] Reading in JSON from 236 natus-vincere-vs-ence-m2-dust2.json\n",
      "23:14:07 [INFO] JSON data loaded, available in the `json` attribute to parser\n",
      "23:14:07 [INFO] Successfully parsed JSON output\n",
      "23:14:07 [INFO] Successfully returned JSON output\n",
      "23:14:12 [INFO] Go version>=1.14.0\n",
      "23:14:12 [INFO] Initialized CSGODemoParser with demofile D:\\EDAV\\236\\natus-vincere-vs-ence-m3-mirage.dem\n",
      "23:14:12 [INFO] Setting demo id to 236 natus-vincere-vs-ence-m3-mirage\n",
      "23:14:12 [INFO] Setting parse rate to 128\n",
      "23:14:12 [INFO] Setting trade time to 5\n",
      "23:14:12 [INFO] Setting buy style to hltv\n",
      "23:14:12 [INFO] Rollup damages set to False\n",
      "23:14:12 [INFO] Parse frames set to True\n",
      "23:14:12 [INFO] Running Golang parser from C:\\Users\\nguye\\anaconda3\\envs\\envTF24\\lib\\site-packages\\csgo-1.0-py3.7.egg\\csgo\\parser\\\n",
      "23:14:12 [INFO] Looking for file at D:\\EDAV\\236\\natus-vincere-vs-ence-m3-mirage.dem\n"
     ]
    },
    {
     "name": "stdout",
     "output_type": "stream",
     "text": [
      "parsing    236 natus-vincere-vs-ence-m3-mirage.dem\n"
     ]
    },
    {
     "name": "stderr",
     "output_type": "stream",
     "text": [
      "23:14:18 [INFO] Wrote demo parse output to 236 natus-vincere-vs-ence-m3-mirage.json\n",
      "23:14:18 [INFO] Reading in JSON from 236 natus-vincere-vs-ence-m3-mirage.json\n",
      "23:14:18 [INFO] JSON data loaded, available in the `json` attribute to parser\n",
      "23:14:18 [INFO] Successfully parsed JSON output\n",
      "23:14:18 [INFO] Successfully returned JSON output\n",
      "23:14:27 [INFO] Go version>=1.14.0\n",
      "23:14:27 [INFO] Initialized CSGODemoParser with demofile D:\\EDAV\\237\\DHW14-SF-ldlc-vs-navi-inferno.dem\n",
      "23:14:27 [INFO] Setting demo id to 237 DHW14-SF-ldlc-vs-navi-inferno\n",
      "23:14:27 [INFO] Setting parse rate to 128\n",
      "23:14:27 [INFO] Setting trade time to 5\n",
      "23:14:27 [INFO] Setting buy style to hltv\n",
      "23:14:27 [INFO] Rollup damages set to False\n",
      "23:14:27 [INFO] Parse frames set to True\n",
      "23:14:27 [INFO] Running Golang parser from C:\\Users\\nguye\\anaconda3\\envs\\envTF24\\lib\\site-packages\\csgo-1.0-py3.7.egg\\csgo\\parser\\\n",
      "23:14:27 [INFO] Looking for file at D:\\EDAV\\237\\DHW14-SF-ldlc-vs-navi-inferno.dem\n"
     ]
    },
    {
     "name": "stdout",
     "output_type": "stream",
     "text": [
      "parsing    237 DHW14-SF-ldlc-vs-navi-inferno.dem\n"
     ]
    },
    {
     "name": "stderr",
     "output_type": "stream",
     "text": [
      "23:14:29 [INFO] Wrote demo parse output to 237 DHW14-SF-ldlc-vs-navi-inferno.json\n",
      "23:14:29 [INFO] Reading in JSON from 237 DHW14-SF-ldlc-vs-navi-inferno.json\n",
      "23:14:29 [INFO] JSON data loaded, available in the `json` attribute to parser\n",
      "23:14:29 [INFO] Successfully parsed JSON output\n",
      "23:14:29 [INFO] Successfully returned JSON output\n",
      "23:14:30 [INFO] Go version>=1.14.0\n",
      "23:14:30 [INFO] Initialized CSGODemoParser with demofile D:\\EDAV\\237\\DHW14-SF-ldlc-vs-navi-dust2.dem\n",
      "23:14:30 [INFO] Setting demo id to 237 DHW14-SF-ldlc-vs-navi-dust2\n",
      "23:14:30 [INFO] Setting parse rate to 128\n",
      "23:14:30 [INFO] Setting trade time to 5\n",
      "23:14:30 [INFO] Setting buy style to hltv\n",
      "23:14:30 [INFO] Rollup damages set to False\n",
      "23:14:30 [INFO] Parse frames set to True\n",
      "23:14:30 [INFO] Running Golang parser from C:\\Users\\nguye\\anaconda3\\envs\\envTF24\\lib\\site-packages\\csgo-1.0-py3.7.egg\\csgo\\parser\\\n",
      "23:14:30 [INFO] Looking for file at D:\\EDAV\\237\\DHW14-SF-ldlc-vs-navi-dust2.dem\n"
     ]
    },
    {
     "name": "stdout",
     "output_type": "stream",
     "text": [
      "parsing    237 DHW14-SF-ldlc-vs-navi-dust2.dem\n"
     ]
    },
    {
     "name": "stderr",
     "output_type": "stream",
     "text": [
      "23:14:32 [INFO] Wrote demo parse output to 237 DHW14-SF-ldlc-vs-navi-dust2.json\n",
      "23:14:32 [INFO] Reading in JSON from 237 DHW14-SF-ldlc-vs-navi-dust2.json\n",
      "23:14:32 [INFO] JSON data loaded, available in the `json` attribute to parser\n",
      "23:14:32 [INFO] Successfully parsed JSON output\n",
      "23:14:32 [INFO] Successfully returned JSON output\n",
      "23:14:33 [INFO] Go version>=1.14.0\n",
      "23:14:33 [INFO] Initialized CSGODemoParser with demofile D:\\EDAV\\238\\ESLOneCologne2015-envyus-vs-luminosity-cobblestone-1.dem\n",
      "23:14:33 [INFO] Setting demo id to 238 ESLOneCologne2015-envyus-vs-luminosity-cobblestone-1\n",
      "23:14:33 [INFO] Setting parse rate to 128\n",
      "23:14:33 [INFO] Setting trade time to 5\n",
      "23:14:33 [INFO] Setting buy style to hltv\n",
      "23:14:33 [INFO] Rollup damages set to False\n",
      "23:14:33 [INFO] Parse frames set to True\n",
      "23:14:33 [INFO] Running Golang parser from C:\\Users\\nguye\\anaconda3\\envs\\envTF24\\lib\\site-packages\\csgo-1.0-py3.7.egg\\csgo\\parser\\\n",
      "23:14:33 [INFO] Looking for file at D:\\EDAV\\238\\ESLOneCologne2015-envyus-vs-luminosity-cobblestone-1.dem\n"
     ]
    },
    {
     "name": "stdout",
     "output_type": "stream",
     "text": [
      "parsing    238 ESLOneCologne2015-envyus-vs-luminosity-cobblestone-1.dem\n"
     ]
    },
    {
     "name": "stderr",
     "output_type": "stream",
     "text": [
      "23:14:36 [INFO] Wrote demo parse output to 238 ESLOneCologne2015-envyus-vs-luminosity-cobblestone-1.json\n",
      "23:14:36 [INFO] Reading in JSON from 238 ESLOneCologne2015-envyus-vs-luminosity-cobblestone-1.json\n",
      "23:14:37 [INFO] JSON data loaded, available in the `json` attribute to parser\n",
      "23:14:37 [INFO] Successfully parsed JSON output\n",
      "23:14:37 [INFO] Successfully returned JSON output\n",
      "23:14:40 [INFO] Go version>=1.14.0\n",
      "23:14:40 [INFO] Initialized CSGODemoParser with demofile D:\\EDAV\\239\\astralis-vs-fnatic-map1-cache.dem\n",
      "23:14:40 [INFO] Setting demo id to 239 astralis-vs-fnatic-map1-cache\n",
      "23:14:40 [INFO] Setting parse rate to 128\n",
      "23:14:40 [INFO] Setting trade time to 5\n",
      "23:14:40 [INFO] Setting buy style to hltv\n",
      "23:14:40 [INFO] Rollup damages set to False\n",
      "23:14:40 [INFO] Parse frames set to True\n",
      "23:14:40 [INFO] Running Golang parser from C:\\Users\\nguye\\anaconda3\\envs\\envTF24\\lib\\site-packages\\csgo-1.0-py3.7.egg\\csgo\\parser\\\n",
      "23:14:40 [INFO] Looking for file at D:\\EDAV\\239\\astralis-vs-fnatic-map1-cache.dem\n"
     ]
    },
    {
     "name": "stdout",
     "output_type": "stream",
     "text": [
      "parsing    239 astralis-vs-fnatic-map1-cache.dem\n"
     ]
    },
    {
     "name": "stderr",
     "output_type": "stream",
     "text": [
      "23:14:48 [INFO] Wrote demo parse output to 239 astralis-vs-fnatic-map1-cache.json\n",
      "23:14:48 [INFO] Reading in JSON from 239 astralis-vs-fnatic-map1-cache.json\n",
      "23:14:48 [INFO] JSON data loaded, available in the `json` attribute to parser\n",
      "23:14:48 [INFO] Successfully parsed JSON output\n",
      "23:14:48 [INFO] Successfully returned JSON output\n",
      "23:15:00 [INFO] Go version>=1.14.0\n",
      "23:15:00 [INFO] Initialized CSGODemoParser with demofile D:\\EDAV\\239\\astralis-vs-fnatic-map2-nuke.dem\n",
      "23:15:00 [INFO] Setting demo id to 239 astralis-vs-fnatic-map2-nuke\n",
      "23:15:00 [INFO] Setting parse rate to 128\n",
      "23:15:00 [INFO] Setting trade time to 5\n",
      "23:15:00 [INFO] Setting buy style to hltv\n",
      "23:15:00 [INFO] Rollup damages set to False\n",
      "23:15:00 [INFO] Parse frames set to True\n",
      "23:15:01 [INFO] Running Golang parser from C:\\Users\\nguye\\anaconda3\\envs\\envTF24\\lib\\site-packages\\csgo-1.0-py3.7.egg\\csgo\\parser\\\n",
      "23:15:01 [INFO] Looking for file at D:\\EDAV\\239\\astralis-vs-fnatic-map2-nuke.dem\n"
     ]
    },
    {
     "name": "stdout",
     "output_type": "stream",
     "text": [
      "parsing    239 astralis-vs-fnatic-map2-nuke.dem\n"
     ]
    },
    {
     "name": "stderr",
     "output_type": "stream",
     "text": [
      "23:15:05 [INFO] Wrote demo parse output to 239 astralis-vs-fnatic-map2-nuke.json\n",
      "23:15:05 [INFO] Reading in JSON from 239 astralis-vs-fnatic-map2-nuke.json\n",
      "23:15:05 [INFO] JSON data loaded, available in the `json` attribute to parser\n",
      "23:15:05 [INFO] Successfully parsed JSON output\n",
      "23:15:05 [INFO] Successfully returned JSON output\n",
      "23:15:11 [INFO] Go version>=1.14.0\n",
      "23:15:11 [INFO] Initialized CSGODemoParser with demofile D:\\EDAV\\240\\nrg-vs-renegades-dust2.dem\n",
      "23:15:11 [INFO] Setting demo id to 240 nrg-vs-renegades-dust2\n",
      "23:15:11 [INFO] Setting parse rate to 128\n",
      "23:15:11 [INFO] Setting trade time to 5\n",
      "23:15:11 [INFO] Setting buy style to hltv\n",
      "23:15:11 [INFO] Rollup damages set to False\n",
      "23:15:11 [INFO] Parse frames set to True\n",
      "23:15:11 [INFO] Running Golang parser from C:\\Users\\nguye\\anaconda3\\envs\\envTF24\\lib\\site-packages\\csgo-1.0-py3.7.egg\\csgo\\parser\\\n",
      "23:15:11 [INFO] Looking for file at D:\\EDAV\\240\\nrg-vs-renegades-dust2.dem\n"
     ]
    },
    {
     "name": "stdout",
     "output_type": "stream",
     "text": [
      "parsing    240 nrg-vs-renegades-dust2.dem\n"
     ]
    },
    {
     "name": "stderr",
     "output_type": "stream",
     "text": [
      "23:15:17 [INFO] Wrote demo parse output to 240 nrg-vs-renegades-dust2.json\n",
      "23:15:17 [INFO] Reading in JSON from 240 nrg-vs-renegades-dust2.json\n",
      "23:15:18 [INFO] JSON data loaded, available in the `json` attribute to parser\n",
      "23:15:18 [INFO] Successfully parsed JSON output\n",
      "23:15:18 [INFO] Successfully returned JSON output\n",
      "23:15:27 [INFO] Go version>=1.14.0\n",
      "23:15:27 [INFO] Initialized CSGODemoParser with demofile D:\\EDAV\\241\\ESLOneCologne2016-flipsid3-vs-optic-train.dem\n",
      "23:15:27 [INFO] Setting demo id to 241 ESLOneCologne2016-flipsid3-vs-optic-train\n",
      "23:15:27 [INFO] Setting parse rate to 128\n",
      "23:15:27 [INFO] Setting trade time to 5\n",
      "23:15:27 [INFO] Setting buy style to hltv\n",
      "23:15:27 [INFO] Rollup damages set to False\n",
      "23:15:27 [INFO] Parse frames set to True\n",
      "23:15:27 [INFO] Running Golang parser from C:\\Users\\nguye\\anaconda3\\envs\\envTF24\\lib\\site-packages\\csgo-1.0-py3.7.egg\\csgo\\parser\\\n",
      "23:15:27 [INFO] Looking for file at D:\\EDAV\\241\\ESLOneCologne2016-flipsid3-vs-optic-train.dem\n"
     ]
    },
    {
     "name": "stdout",
     "output_type": "stream",
     "text": [
      "parsing    241 ESLOneCologne2016-flipsid3-vs-optic-train.dem\n"
     ]
    },
    {
     "name": "stderr",
     "output_type": "stream",
     "text": [
      "23:15:32 [INFO] Wrote demo parse output to 241 ESLOneCologne2016-flipsid3-vs-optic-train.json\n",
      "23:15:32 [INFO] Reading in JSON from 241 ESLOneCologne2016-flipsid3-vs-optic-train.json\n",
      "23:15:33 [INFO] JSON data loaded, available in the `json` attribute to parser\n",
      "23:15:33 [INFO] Successfully parsed JSON output\n",
      "23:15:33 [INFO] Successfully returned JSON output\n",
      "23:15:42 [INFO] Go version>=1.14.0\n",
      "23:15:42 [INFO] Initialized CSGODemoParser with demofile D:\\EDAV\\242\\ence-vs-avangar-m2-train.dem\n",
      "23:15:42 [INFO] Setting demo id to 242 ence-vs-avangar-m2-train\n",
      "23:15:42 [INFO] Setting parse rate to 128\n",
      "23:15:42 [INFO] Setting trade time to 5\n",
      "23:15:42 [INFO] Setting buy style to hltv\n",
      "23:15:42 [INFO] Rollup damages set to False\n",
      "23:15:42 [INFO] Parse frames set to True\n",
      "23:15:42 [INFO] Running Golang parser from C:\\Users\\nguye\\anaconda3\\envs\\envTF24\\lib\\site-packages\\csgo-1.0-py3.7.egg\\csgo\\parser\\\n",
      "23:15:42 [INFO] Looking for file at D:\\EDAV\\242\\ence-vs-avangar-m2-train.dem\n"
     ]
    },
    {
     "name": "stdout",
     "output_type": "stream",
     "text": [
      "parsing    242 ence-vs-avangar-m2-train.dem\n"
     ]
    },
    {
     "name": "stderr",
     "output_type": "stream",
     "text": [
      "23:15:47 [INFO] Wrote demo parse output to 242 ence-vs-avangar-m2-train.json\n",
      "23:15:47 [INFO] Reading in JSON from 242 ence-vs-avangar-m2-train.json\n",
      "23:15:47 [INFO] JSON data loaded, available in the `json` attribute to parser\n",
      "23:15:47 [INFO] Successfully parsed JSON output\n",
      "23:15:47 [INFO] Successfully returned JSON output\n",
      "23:15:54 [INFO] Go version>=1.14.0\n",
      "23:15:54 [INFO] Initialized CSGODemoParser with demofile D:\\EDAV\\242\\ence-vs-avangar-m1-mirage.dem\n",
      "23:15:54 [INFO] Setting demo id to 242 ence-vs-avangar-m1-mirage\n",
      "23:15:54 [INFO] Setting parse rate to 128\n",
      "23:15:54 [INFO] Setting trade time to 5\n",
      "23:15:54 [INFO] Setting buy style to hltv\n",
      "23:15:54 [INFO] Rollup damages set to False\n",
      "23:15:54 [INFO] Parse frames set to True\n",
      "23:15:54 [INFO] Running Golang parser from C:\\Users\\nguye\\anaconda3\\envs\\envTF24\\lib\\site-packages\\csgo-1.0-py3.7.egg\\csgo\\parser\\\n",
      "23:15:54 [INFO] Looking for file at D:\\EDAV\\242\\ence-vs-avangar-m1-mirage.dem\n"
     ]
    },
    {
     "name": "stdout",
     "output_type": "stream",
     "text": [
      "parsing    242 ence-vs-avangar-m1-mirage.dem\n"
     ]
    },
    {
     "name": "stderr",
     "output_type": "stream",
     "text": [
      "23:16:00 [INFO] Wrote demo parse output to 242 ence-vs-avangar-m1-mirage.json\n",
      "23:16:00 [INFO] Reading in JSON from 242 ence-vs-avangar-m1-mirage.json\n",
      "23:16:00 [INFO] JSON data loaded, available in the `json` attribute to parser\n",
      "23:16:00 [INFO] Successfully parsed JSON output\n",
      "23:16:00 [INFO] Successfully returned JSON output\n",
      "23:16:09 [INFO] Go version>=1.14.0\n",
      "23:16:09 [INFO] Initialized CSGODemoParser with demofile D:\\EDAV\\243\\ESLOneCologne2015-tsm-vs-kinguin-overpass.dem\n",
      "23:16:09 [INFO] Setting demo id to 243 ESLOneCologne2015-tsm-vs-kinguin-overpass\n",
      "23:16:09 [INFO] Setting parse rate to 128\n",
      "23:16:09 [INFO] Setting trade time to 5\n",
      "23:16:09 [INFO] Setting buy style to hltv\n",
      "23:16:09 [INFO] Rollup damages set to False\n",
      "23:16:09 [INFO] Parse frames set to True\n",
      "23:16:09 [INFO] Running Golang parser from C:\\Users\\nguye\\anaconda3\\envs\\envTF24\\lib\\site-packages\\csgo-1.0-py3.7.egg\\csgo\\parser\\\n",
      "23:16:09 [INFO] Looking for file at D:\\EDAV\\243\\ESLOneCologne2015-tsm-vs-kinguin-overpass.dem\n"
     ]
    },
    {
     "name": "stdout",
     "output_type": "stream",
     "text": [
      "parsing    243 ESLOneCologne2015-tsm-vs-kinguin-overpass.dem\n"
     ]
    },
    {
     "name": "stderr",
     "output_type": "stream",
     "text": [
      "23:16:12 [INFO] Wrote demo parse output to 243 ESLOneCologne2015-tsm-vs-kinguin-overpass.json\n",
      "23:16:12 [INFO] Reading in JSON from 243 ESLOneCologne2015-tsm-vs-kinguin-overpass.json\n",
      "23:16:12 [INFO] JSON data loaded, available in the `json` attribute to parser\n",
      "23:16:12 [INFO] Successfully parsed JSON output\n",
      "23:16:12 [INFO] Successfully returned JSON output\n",
      "23:16:13 [INFO] Go version>=1.14.0\n",
      "23:16:13 [INFO] Initialized CSGODemoParser with demofile D:\\EDAV\\243\\ESLOneCologne2015-tsm-vs-kinguin-dust2.dem\n",
      "23:16:13 [INFO] Setting demo id to 243 ESLOneCologne2015-tsm-vs-kinguin-dust2\n",
      "23:16:13 [INFO] Setting parse rate to 128\n",
      "23:16:13 [INFO] Setting trade time to 5\n",
      "23:16:13 [INFO] Setting buy style to hltv\n",
      "23:16:13 [INFO] Rollup damages set to False\n",
      "23:16:13 [INFO] Parse frames set to True\n",
      "23:16:14 [INFO] Running Golang parser from C:\\Users\\nguye\\anaconda3\\envs\\envTF24\\lib\\site-packages\\csgo-1.0-py3.7.egg\\csgo\\parser\\\n",
      "23:16:14 [INFO] Looking for file at D:\\EDAV\\243\\ESLOneCologne2015-tsm-vs-kinguin-dust2.dem\n"
     ]
    },
    {
     "name": "stdout",
     "output_type": "stream",
     "text": [
      "parsing    243 ESLOneCologne2015-tsm-vs-kinguin-dust2.dem\n"
     ]
    },
    {
     "name": "stderr",
     "output_type": "stream",
     "text": [
      "23:16:16 [INFO] Wrote demo parse output to 243 ESLOneCologne2015-tsm-vs-kinguin-dust2.json\n",
      "23:16:16 [INFO] Reading in JSON from 243 ESLOneCologne2015-tsm-vs-kinguin-dust2.json\n",
      "23:16:16 [INFO] JSON data loaded, available in the `json` attribute to parser\n",
      "23:16:16 [INFO] Successfully parsed JSON output\n",
      "23:16:16 [INFO] Successfully returned JSON output\n",
      "23:16:18 [INFO] Go version>=1.14.0\n",
      "23:16:18 [INFO] Initialized CSGODemoParser with demofile D:\\EDAV\\244\\flipsid3-vs-faze-mirage.dem\n",
      "23:16:18 [INFO] Setting demo id to 244 flipsid3-vs-faze-mirage\n",
      "23:16:18 [INFO] Setting parse rate to 128\n",
      "23:16:18 [INFO] Setting trade time to 5\n",
      "23:16:18 [INFO] Setting buy style to hltv\n",
      "23:16:18 [INFO] Rollup damages set to False\n",
      "23:16:18 [INFO] Parse frames set to True\n",
      "23:16:18 [INFO] Running Golang parser from C:\\Users\\nguye\\anaconda3\\envs\\envTF24\\lib\\site-packages\\csgo-1.0-py3.7.egg\\csgo\\parser\\\n",
      "23:16:18 [INFO] Looking for file at D:\\EDAV\\244\\flipsid3-vs-faze-mirage.dem\n"
     ]
    },
    {
     "name": "stdout",
     "output_type": "stream",
     "text": [
      "parsing    244 flipsid3-vs-faze-mirage.dem\n"
     ]
    },
    {
     "name": "stderr",
     "output_type": "stream",
     "text": [
      "23:16:22 [INFO] Wrote demo parse output to 244 flipsid3-vs-faze-mirage.json\n",
      "23:16:22 [INFO] Reading in JSON from 244 flipsid3-vs-faze-mirage.json\n",
      "23:16:23 [INFO] JSON data loaded, available in the `json` attribute to parser\n",
      "23:16:23 [INFO] Successfully parsed JSON output\n",
      "23:16:23 [INFO] Successfully returned JSON output\n",
      "23:16:30 [INFO] Go version>=1.14.0\n",
      "23:16:30 [INFO] Initialized CSGODemoParser with demofile D:\\EDAV\\245\\virtus-pro-vs-qb-fire-cache.dem\n",
      "23:16:30 [INFO] Setting demo id to 245 virtus-pro-vs-qb-fire-cache\n",
      "23:16:30 [INFO] Setting parse rate to 128\n",
      "23:16:30 [INFO] Setting trade time to 5\n",
      "23:16:30 [INFO] Setting buy style to hltv\n",
      "23:16:30 [INFO] Rollup damages set to False\n",
      "23:16:30 [INFO] Parse frames set to True\n",
      "23:16:30 [INFO] Running Golang parser from C:\\Users\\nguye\\anaconda3\\envs\\envTF24\\lib\\site-packages\\csgo-1.0-py3.7.egg\\csgo\\parser\\\n",
      "23:16:30 [INFO] Looking for file at D:\\EDAV\\245\\virtus-pro-vs-qb-fire-cache.dem\n"
     ]
    },
    {
     "name": "stdout",
     "output_type": "stream",
     "text": [
      "parsing    245 virtus-pro-vs-qb-fire-cache.dem\n"
     ]
    },
    {
     "name": "stderr",
     "output_type": "stream",
     "text": [
      "23:16:35 [INFO] Wrote demo parse output to 245 virtus-pro-vs-qb-fire-cache.json\n",
      "23:16:35 [INFO] Reading in JSON from 245 virtus-pro-vs-qb-fire-cache.json\n",
      "23:16:35 [INFO] JSON data loaded, available in the `json` attribute to parser\n",
      "23:16:35 [INFO] Successfully parsed JSON output\n",
      "23:16:35 [INFO] Successfully returned JSON output\n",
      "23:16:41 [INFO] Go version>=1.14.0\n",
      "23:16:41 [INFO] Initialized CSGODemoParser with demofile D:\\EDAV\\246\\MLGColumbus2016-astralis-vs-fnatic-bo3-map1-overpass.dem\n",
      "23:16:41 [INFO] Setting demo id to 246 MLGColumbus2016-astralis-vs-fnatic-bo3-map1-overpass\n",
      "23:16:41 [INFO] Setting parse rate to 128\n",
      "23:16:41 [INFO] Setting trade time to 5\n",
      "23:16:41 [INFO] Setting buy style to hltv\n",
      "23:16:41 [INFO] Rollup damages set to False\n",
      "23:16:41 [INFO] Parse frames set to True\n",
      "23:16:41 [INFO] Running Golang parser from C:\\Users\\nguye\\anaconda3\\envs\\envTF24\\lib\\site-packages\\csgo-1.0-py3.7.egg\\csgo\\parser\\\n",
      "23:16:41 [INFO] Looking for file at D:\\EDAV\\246\\MLGColumbus2016-astralis-vs-fnatic-bo3-map1-overpass.dem\n"
     ]
    },
    {
     "name": "stdout",
     "output_type": "stream",
     "text": [
      "parsing    246 MLGColumbus2016-astralis-vs-fnatic-bo3-map1-overpass.dem\n"
     ]
    },
    {
     "name": "stderr",
     "output_type": "stream",
     "text": [
      "23:16:48 [INFO] Wrote demo parse output to 246 MLGColumbus2016-astralis-vs-fnatic-bo3-map1-overpass.json\n",
      "23:16:48 [INFO] Reading in JSON from 246 MLGColumbus2016-astralis-vs-fnatic-bo3-map1-overpass.json\n",
      "23:16:48 [INFO] JSON data loaded, available in the `json` attribute to parser\n",
      "23:16:48 [INFO] Successfully parsed JSON output\n",
      "23:16:48 [INFO] Successfully returned JSON output\n",
      "23:16:57 [INFO] Go version>=1.14.0\n",
      "23:16:57 [INFO] Initialized CSGODemoParser with demofile D:\\EDAV\\246\\MLGColumbus2016-astralis-vs-fnatic-bo3-map2-cache.dem\n",
      "23:16:57 [INFO] Setting demo id to 246 MLGColumbus2016-astralis-vs-fnatic-bo3-map2-cache\n",
      "23:16:57 [INFO] Setting parse rate to 128\n",
      "23:16:57 [INFO] Setting trade time to 5\n",
      "23:16:57 [INFO] Setting buy style to hltv\n",
      "23:16:57 [INFO] Rollup damages set to False\n",
      "23:16:57 [INFO] Parse frames set to True\n",
      "23:16:57 [INFO] Running Golang parser from C:\\Users\\nguye\\anaconda3\\envs\\envTF24\\lib\\site-packages\\csgo-1.0-py3.7.egg\\csgo\\parser\\\n",
      "23:16:57 [INFO] Looking for file at D:\\EDAV\\246\\MLGColumbus2016-astralis-vs-fnatic-bo3-map2-cache.dem\n"
     ]
    },
    {
     "name": "stdout",
     "output_type": "stream",
     "text": [
      "parsing    246 MLGColumbus2016-astralis-vs-fnatic-bo3-map2-cache.dem\n"
     ]
    },
    {
     "name": "stderr",
     "output_type": "stream",
     "text": [
      "23:17:01 [INFO] Wrote demo parse output to 246 MLGColumbus2016-astralis-vs-fnatic-bo3-map2-cache.json\n",
      "23:17:01 [INFO] Reading in JSON from 246 MLGColumbus2016-astralis-vs-fnatic-bo3-map2-cache.json\n",
      "23:17:01 [INFO] JSON data loaded, available in the `json` attribute to parser\n",
      "23:17:01 [INFO] Successfully parsed JSON output\n",
      "23:17:01 [INFO] Successfully returned JSON output\n",
      "23:17:07 [INFO] Go version>=1.14.0\n",
      "23:17:07 [INFO] Initialized CSGODemoParser with demofile D:\\EDAV\\247\\natus-vincere-vs-astralis-m1-nuke.dem\n",
      "23:17:07 [INFO] Setting demo id to 247 natus-vincere-vs-astralis-m1-nuke\n",
      "23:17:07 [INFO] Setting parse rate to 128\n",
      "23:17:07 [INFO] Setting trade time to 5\n",
      "23:17:07 [INFO] Setting buy style to hltv\n",
      "23:17:07 [INFO] Rollup damages set to False\n",
      "23:17:07 [INFO] Parse frames set to True\n",
      "23:17:07 [INFO] Running Golang parser from C:\\Users\\nguye\\anaconda3\\envs\\envTF24\\lib\\site-packages\\csgo-1.0-py3.7.egg\\csgo\\parser\\\n",
      "23:17:07 [INFO] Looking for file at D:\\EDAV\\247\\natus-vincere-vs-astralis-m1-nuke.dem\n"
     ]
    },
    {
     "name": "stdout",
     "output_type": "stream",
     "text": [
      "parsing    247 natus-vincere-vs-astralis-m1-nuke.dem\n"
     ]
    },
    {
     "name": "stderr",
     "output_type": "stream",
     "text": [
      "23:17:12 [INFO] Wrote demo parse output to 247 natus-vincere-vs-astralis-m1-nuke.json\n",
      "23:17:12 [INFO] Reading in JSON from 247 natus-vincere-vs-astralis-m1-nuke.json\n",
      "23:17:12 [INFO] JSON data loaded, available in the `json` attribute to parser\n",
      "23:17:12 [INFO] Successfully parsed JSON output\n",
      "23:17:12 [INFO] Successfully returned JSON output\n",
      "23:17:19 [INFO] Go version>=1.14.0\n",
      "23:17:19 [INFO] Initialized CSGODemoParser with demofile D:\\EDAV\\247\\natus-vincere-vs-astralis-m2-overpass.dem\n",
      "23:17:19 [INFO] Setting demo id to 247 natus-vincere-vs-astralis-m2-overpass\n",
      "23:17:19 [INFO] Setting parse rate to 128\n",
      "23:17:19 [INFO] Setting trade time to 5\n",
      "23:17:19 [INFO] Setting buy style to hltv\n",
      "23:17:19 [INFO] Rollup damages set to False\n",
      "23:17:19 [INFO] Parse frames set to True\n",
      "23:17:19 [INFO] Running Golang parser from C:\\Users\\nguye\\anaconda3\\envs\\envTF24\\lib\\site-packages\\csgo-1.0-py3.7.egg\\csgo\\parser\\\n",
      "23:17:19 [INFO] Looking for file at D:\\EDAV\\247\\natus-vincere-vs-astralis-m2-overpass.dem\n"
     ]
    },
    {
     "name": "stdout",
     "output_type": "stream",
     "text": [
      "parsing    247 natus-vincere-vs-astralis-m2-overpass.dem\n"
     ]
    },
    {
     "name": "stderr",
     "output_type": "stream",
     "text": [
      "23:17:26 [INFO] Wrote demo parse output to 247 natus-vincere-vs-astralis-m2-overpass.json\n",
      "23:17:26 [INFO] Reading in JSON from 247 natus-vincere-vs-astralis-m2-overpass.json\n",
      "23:17:27 [INFO] JSON data loaded, available in the `json` attribute to parser\n",
      "23:17:27 [INFO] Successfully parsed JSON output\n",
      "23:17:27 [INFO] Successfully returned JSON output\n",
      "23:17:36 [INFO] Go version>=1.14.0\n",
      "23:17:36 [INFO] Initialized CSGODemoParser with demofile D:\\EDAV\\248\\natus-vincere-vs-avangar-m2-train.dem\n",
      "23:17:36 [INFO] Setting demo id to 248 natus-vincere-vs-avangar-m2-train\n",
      "23:17:36 [INFO] Setting parse rate to 128\n",
      "23:17:36 [INFO] Setting trade time to 5\n",
      "23:17:36 [INFO] Setting buy style to hltv\n",
      "23:17:36 [INFO] Rollup damages set to False\n",
      "23:17:36 [INFO] Parse frames set to True\n",
      "23:17:36 [INFO] Running Golang parser from C:\\Users\\nguye\\anaconda3\\envs\\envTF24\\lib\\site-packages\\csgo-1.0-py3.7.egg\\csgo\\parser\\\n",
      "23:17:36 [INFO] Looking for file at D:\\EDAV\\248\\natus-vincere-vs-avangar-m2-train.dem\n"
     ]
    },
    {
     "name": "stdout",
     "output_type": "stream",
     "text": [
      "parsing    248 natus-vincere-vs-avangar-m2-train.dem\n"
     ]
    },
    {
     "name": "stderr",
     "output_type": "stream",
     "text": [
      "23:17:41 [INFO] Wrote demo parse output to 248 natus-vincere-vs-avangar-m2-train.json\n",
      "23:17:41 [INFO] Reading in JSON from 248 natus-vincere-vs-avangar-m2-train.json\n",
      "23:17:41 [INFO] JSON data loaded, available in the `json` attribute to parser\n",
      "23:17:41 [INFO] Successfully parsed JSON output\n",
      "23:17:41 [INFO] Successfully returned JSON output\n",
      "23:17:50 [INFO] Go version>=1.14.0\n",
      "23:17:50 [INFO] Initialized CSGODemoParser with demofile D:\\EDAV\\248\\natus-vincere-vs-avangar-m1-dust2.dem\n",
      "23:17:50 [INFO] Setting demo id to 248 natus-vincere-vs-avangar-m1-dust2\n",
      "23:17:50 [INFO] Setting parse rate to 128\n",
      "23:17:50 [INFO] Setting trade time to 5\n",
      "23:17:50 [INFO] Setting buy style to hltv\n",
      "23:17:50 [INFO] Rollup damages set to False\n",
      "23:17:50 [INFO] Parse frames set to True\n",
      "23:17:50 [INFO] Running Golang parser from C:\\Users\\nguye\\anaconda3\\envs\\envTF24\\lib\\site-packages\\csgo-1.0-py3.7.egg\\csgo\\parser\\\n",
      "23:17:50 [INFO] Looking for file at D:\\EDAV\\248\\natus-vincere-vs-avangar-m1-dust2.dem\n"
     ]
    },
    {
     "name": "stdout",
     "output_type": "stream",
     "text": [
      "parsing    248 natus-vincere-vs-avangar-m1-dust2.dem\n"
     ]
    },
    {
     "name": "stderr",
     "output_type": "stream",
     "text": [
      "23:17:55 [INFO] Wrote demo parse output to 248 natus-vincere-vs-avangar-m1-dust2.json\n",
      "23:17:55 [INFO] Reading in JSON from 248 natus-vincere-vs-avangar-m1-dust2.json\n",
      "23:17:55 [INFO] JSON data loaded, available in the `json` attribute to parser\n",
      "23:17:55 [INFO] Successfully parsed JSON output\n",
      "23:17:55 [INFO] Successfully returned JSON output\n",
      "23:18:03 [INFO] Go version>=1.14.0\n",
      "23:18:03 [INFO] Initialized CSGODemoParser with demofile D:\\EDAV\\249\\ESLOneCologne-GroupB-ldlc-vs-londonc-nuke.dem\n",
      "23:18:03 [INFO] Setting demo id to 249 ESLOneCologne-GroupB-ldlc-vs-londonc-nuke\n",
      "23:18:03 [INFO] Setting parse rate to 128\n",
      "23:18:03 [INFO] Setting trade time to 5\n",
      "23:18:03 [INFO] Setting buy style to hltv\n",
      "23:18:03 [INFO] Rollup damages set to False\n",
      "23:18:03 [INFO] Parse frames set to True\n",
      "23:18:03 [INFO] Running Golang parser from C:\\Users\\nguye\\anaconda3\\envs\\envTF24\\lib\\site-packages\\csgo-1.0-py3.7.egg\\csgo\\parser\\\n",
      "23:18:03 [INFO] Looking for file at D:\\EDAV\\249\\ESLOneCologne-GroupB-ldlc-vs-londonc-nuke.dem\n"
     ]
    },
    {
     "name": "stdout",
     "output_type": "stream",
     "text": [
      "parsing    249 ESLOneCologne-GroupB-ldlc-vs-londonc-nuke.dem\n"
     ]
    },
    {
     "name": "stderr",
     "output_type": "stream",
     "text": [
      "23:18:05 [INFO] Wrote demo parse output to 249 ESLOneCologne-GroupB-ldlc-vs-londonc-nuke.json\n",
      "23:18:05 [INFO] Reading in JSON from 249 ESLOneCologne-GroupB-ldlc-vs-londonc-nuke.json\n",
      "23:18:05 [INFO] JSON data loaded, available in the `json` attribute to parser\n",
      "23:18:05 [INFO] Successfully parsed JSON output\n",
      "23:18:05 [INFO] Successfully returned JSON output\n",
      "23:18:06 [INFO] Go version>=1.14.0\n",
      "23:18:06 [INFO] Initialized CSGODemoParser with demofile D:\\EDAV\\250\\ESLOneKatowice2015-Groups-penta-vs-lgb-dust2.dem\n",
      "23:18:06 [INFO] Setting demo id to 250 ESLOneKatowice2015-Groups-penta-vs-lgb-dust2\n",
      "23:18:06 [INFO] Setting parse rate to 128\n",
      "23:18:06 [INFO] Setting trade time to 5\n",
      "23:18:06 [INFO] Setting buy style to hltv\n",
      "23:18:06 [INFO] Rollup damages set to False\n",
      "23:18:06 [INFO] Parse frames set to True\n",
      "23:18:06 [INFO] Running Golang parser from C:\\Users\\nguye\\anaconda3\\envs\\envTF24\\lib\\site-packages\\csgo-1.0-py3.7.egg\\csgo\\parser\\\n",
      "23:18:06 [INFO] Looking for file at D:\\EDAV\\250\\ESLOneKatowice2015-Groups-penta-vs-lgb-dust2.dem\n"
     ]
    },
    {
     "name": "stdout",
     "output_type": "stream",
     "text": [
      "parsing    250 ESLOneKatowice2015-Groups-penta-vs-lgb-dust2.dem\n"
     ]
    },
    {
     "name": "stderr",
     "output_type": "stream",
     "text": [
      "23:18:08 [INFO] Wrote demo parse output to 250 ESLOneKatowice2015-Groups-penta-vs-lgb-dust2.json\n",
      "23:18:08 [INFO] Reading in JSON from 250 ESLOneKatowice2015-Groups-penta-vs-lgb-dust2.json\n",
      "23:18:08 [INFO] JSON data loaded, available in the `json` attribute to parser\n",
      "23:18:08 [INFO] Successfully parsed JSON output\n",
      "23:18:08 [INFO] Successfully returned JSON output\n",
      "23:18:10 [INFO] Go version>=1.14.0\n",
      "23:18:10 [INFO] Initialized CSGODemoParser with demofile D:\\EDAV\\251\\EMSKato-GroupB-ldlc-vs-vox-inferno.dem\n",
      "23:18:10 [INFO] Setting demo id to 251 EMSKato-GroupB-ldlc-vs-vox-inferno\n",
      "23:18:10 [INFO] Setting parse rate to 128\n",
      "23:18:10 [INFO] Setting trade time to 5\n",
      "23:18:10 [INFO] Setting buy style to hltv\n",
      "23:18:10 [INFO] Rollup damages set to False\n",
      "23:18:10 [INFO] Parse frames set to True\n",
      "23:18:10 [INFO] Running Golang parser from C:\\Users\\nguye\\anaconda3\\envs\\envTF24\\lib\\site-packages\\csgo-1.0-py3.7.egg\\csgo\\parser\\\n",
      "23:18:10 [INFO] Looking for file at D:\\EDAV\\251\\EMSKato-GroupB-ldlc-vs-vox-inferno.dem\n"
     ]
    },
    {
     "name": "stdout",
     "output_type": "stream",
     "text": [
      "parsing    251 EMSKato-GroupB-ldlc-vs-vox-inferno.dem\n"
     ]
    },
    {
     "name": "stderr",
     "output_type": "stream",
     "text": [
      "23:18:11 [INFO] Wrote demo parse output to 251 EMSKato-GroupB-ldlc-vs-vox-inferno.json\n",
      "23:18:11 [INFO] Reading in JSON from 251 EMSKato-GroupB-ldlc-vs-vox-inferno.json\n",
      "23:18:11 [INFO] Go version>=1.14.0\n",
      "23:18:11 [INFO] Initialized CSGODemoParser with demofile D:\\EDAV\\252\\cloud9-vs-vega-squadron-mirage.dem\n",
      "23:18:11 [INFO] Setting demo id to 252 cloud9-vs-vega-squadron-mirage\n",
      "23:18:11 [INFO] Setting parse rate to 128\n",
      "23:18:11 [INFO] Setting trade time to 5\n",
      "23:18:11 [INFO] Setting buy style to hltv\n",
      "23:18:11 [INFO] Rollup damages set to False\n",
      "23:18:11 [INFO] Parse frames set to True\n",
      "23:18:11 [INFO] Running Golang parser from C:\\Users\\nguye\\anaconda3\\envs\\envTF24\\lib\\site-packages\\csgo-1.0-py3.7.egg\\csgo\\parser\\\n",
      "23:18:11 [INFO] Looking for file at D:\\EDAV\\252\\cloud9-vs-vega-squadron-mirage.dem\n"
     ]
    },
    {
     "name": "stdout",
     "output_type": "stream",
     "text": [
      "ERROR   251 EMSKato-GroupB-ldlc-vs-vox-inferno\n",
      "parsing    252 cloud9-vs-vega-squadron-mirage.dem\n"
     ]
    },
    {
     "name": "stderr",
     "output_type": "stream",
     "text": [
      "23:18:15 [INFO] Wrote demo parse output to 252 cloud9-vs-vega-squadron-mirage.json\n",
      "23:18:15 [INFO] Reading in JSON from 252 cloud9-vs-vega-squadron-mirage.json\n",
      "23:18:16 [INFO] JSON data loaded, available in the `json` attribute to parser\n",
      "23:18:16 [INFO] Successfully parsed JSON output\n",
      "23:18:16 [INFO] Successfully returned JSON output\n",
      "23:18:22 [INFO] Go version>=1.14.0\n",
      "23:18:22 [INFO] Initialized CSGODemoParser with demofile D:\\EDAV\\253\\liquid-vs-vega-squadron-inferno.dem\n",
      "23:18:22 [INFO] Setting demo id to 253 liquid-vs-vega-squadron-inferno\n",
      "23:18:22 [INFO] Setting parse rate to 128\n",
      "23:18:22 [INFO] Setting trade time to 5\n",
      "23:18:22 [INFO] Setting buy style to hltv\n",
      "23:18:22 [INFO] Rollup damages set to False\n",
      "23:18:22 [INFO] Parse frames set to True\n",
      "23:18:22 [INFO] Running Golang parser from C:\\Users\\nguye\\anaconda3\\envs\\envTF24\\lib\\site-packages\\csgo-1.0-py3.7.egg\\csgo\\parser\\\n",
      "23:18:22 [INFO] Looking for file at D:\\EDAV\\253\\liquid-vs-vega-squadron-inferno.dem\n"
     ]
    },
    {
     "name": "stdout",
     "output_type": "stream",
     "text": [
      "parsing    253 liquid-vs-vega-squadron-inferno.dem\n"
     ]
    },
    {
     "name": "stderr",
     "output_type": "stream",
     "text": [
      "23:18:27 [INFO] Wrote demo parse output to 253 liquid-vs-vega-squadron-inferno.json\n",
      "23:18:27 [INFO] Reading in JSON from 253 liquid-vs-vega-squadron-inferno.json\n",
      "23:18:27 [INFO] JSON data loaded, available in the `json` attribute to parser\n",
      "23:18:27 [INFO] Successfully parsed JSON output\n",
      "23:18:27 [INFO] Successfully returned JSON output\n",
      "23:18:36 [INFO] Go version>=1.14.0\n",
      "23:18:36 [INFO] Initialized CSGODemoParser with demofile D:\\EDAV\\254\\DHW14-GroupC-nip-vs-esc-cache.dem\n",
      "23:18:36 [INFO] Setting demo id to 254 DHW14-GroupC-nip-vs-esc-cache\n",
      "23:18:36 [INFO] Setting parse rate to 128\n",
      "23:18:36 [INFO] Setting trade time to 5\n",
      "23:18:36 [INFO] Setting buy style to hltv\n",
      "23:18:36 [INFO] Rollup damages set to False\n",
      "23:18:36 [INFO] Parse frames set to True\n",
      "23:18:36 [INFO] Running Golang parser from C:\\Users\\nguye\\anaconda3\\envs\\envTF24\\lib\\site-packages\\csgo-1.0-py3.7.egg\\csgo\\parser\\\n",
      "23:18:36 [INFO] Looking for file at D:\\EDAV\\254\\DHW14-GroupC-nip-vs-esc-cache.dem\n"
     ]
    },
    {
     "name": "stdout",
     "output_type": "stream",
     "text": [
      "parsing    254 DHW14-GroupC-nip-vs-esc-cache.dem\n"
     ]
    },
    {
     "name": "stderr",
     "output_type": "stream",
     "text": [
      "23:18:38 [INFO] Wrote demo parse output to 254 DHW14-GroupC-nip-vs-esc-cache.json\n",
      "23:18:38 [INFO] Reading in JSON from 254 DHW14-GroupC-nip-vs-esc-cache.json\n",
      "23:18:38 [INFO] JSON data loaded, available in the `json` attribute to parser\n",
      "23:18:38 [INFO] Successfully parsed JSON output\n",
      "23:18:38 [INFO] Successfully returned JSON output\n",
      "23:18:40 [INFO] Go version>=1.14.0\n",
      "23:18:40 [INFO] Initialized CSGODemoParser with demofile D:\\EDAV\\255\\cloud9-vs-sk-m3-inferno.dem\n",
      "23:18:40 [INFO] Setting demo id to 255 cloud9-vs-sk-m3-inferno\n",
      "23:18:40 [INFO] Setting parse rate to 128\n",
      "23:18:40 [INFO] Setting trade time to 5\n",
      "23:18:40 [INFO] Setting buy style to hltv\n",
      "23:18:40 [INFO] Rollup damages set to False\n",
      "23:18:40 [INFO] Parse frames set to True\n",
      "23:18:40 [INFO] Running Golang parser from C:\\Users\\nguye\\anaconda3\\envs\\envTF24\\lib\\site-packages\\csgo-1.0-py3.7.egg\\csgo\\parser\\\n",
      "23:18:40 [INFO] Looking for file at D:\\EDAV\\255\\cloud9-vs-sk-m3-inferno.dem\n"
     ]
    },
    {
     "name": "stdout",
     "output_type": "stream",
     "text": [
      "parsing    255 cloud9-vs-sk-m3-inferno.dem\n"
     ]
    },
    {
     "name": "stderr",
     "output_type": "stream",
     "text": [
      "23:18:45 [INFO] Wrote demo parse output to 255 cloud9-vs-sk-m3-inferno.json\n",
      "23:18:45 [INFO] Reading in JSON from 255 cloud9-vs-sk-m3-inferno.json\n",
      "23:18:45 [INFO] JSON data loaded, available in the `json` attribute to parser\n",
      "23:18:45 [INFO] Successfully parsed JSON output\n",
      "23:18:45 [INFO] Successfully returned JSON output\n",
      "23:18:54 [INFO] Go version>=1.14.0\n",
      "23:18:54 [INFO] Initialized CSGODemoParser with demofile D:\\EDAV\\255\\cloud9-vs-sk-m1-mirage.dem\n",
      "23:18:54 [INFO] Setting demo id to 255 cloud9-vs-sk-m1-mirage\n",
      "23:18:54 [INFO] Setting parse rate to 128\n",
      "23:18:54 [INFO] Setting trade time to 5\n",
      "23:18:54 [INFO] Setting buy style to hltv\n",
      "23:18:54 [INFO] Rollup damages set to False\n",
      "23:18:54 [INFO] Parse frames set to True\n",
      "23:18:54 [INFO] Running Golang parser from C:\\Users\\nguye\\anaconda3\\envs\\envTF24\\lib\\site-packages\\csgo-1.0-py3.7.egg\\csgo\\parser\\\n",
      "23:18:54 [INFO] Looking for file at D:\\EDAV\\255\\cloud9-vs-sk-m1-mirage.dem\n"
     ]
    },
    {
     "name": "stdout",
     "output_type": "stream",
     "text": [
      "parsing    255 cloud9-vs-sk-m1-mirage.dem\n"
     ]
    },
    {
     "name": "stderr",
     "output_type": "stream",
     "text": [
      "23:18:58 [INFO] Wrote demo parse output to 255 cloud9-vs-sk-m1-mirage.json\n",
      "23:18:58 [INFO] Reading in JSON from 255 cloud9-vs-sk-m1-mirage.json\n",
      "23:18:58 [INFO] JSON data loaded, available in the `json` attribute to parser\n",
      "23:18:58 [INFO] Successfully parsed JSON output\n",
      "23:18:58 [INFO] Successfully returned JSON output\n",
      "23:19:04 [INFO] Go version>=1.14.0\n",
      "23:19:04 [INFO] Initialized CSGODemoParser with demofile D:\\EDAV\\255\\cloud9-vs-sk-m2-cbble.dem\n",
      "23:19:04 [INFO] Setting demo id to 255 cloud9-vs-sk-m2-cbble\n",
      "23:19:04 [INFO] Setting parse rate to 128\n",
      "23:19:04 [INFO] Setting trade time to 5\n",
      "23:19:04 [INFO] Setting buy style to hltv\n",
      "23:19:04 [INFO] Rollup damages set to False\n",
      "23:19:04 [INFO] Parse frames set to True\n",
      "23:19:04 [INFO] Running Golang parser from C:\\Users\\nguye\\anaconda3\\envs\\envTF24\\lib\\site-packages\\csgo-1.0-py3.7.egg\\csgo\\parser\\\n",
      "23:19:04 [INFO] Looking for file at D:\\EDAV\\255\\cloud9-vs-sk-m2-cbble.dem\n"
     ]
    },
    {
     "name": "stdout",
     "output_type": "stream",
     "text": [
      "parsing    255 cloud9-vs-sk-m2-cbble.dem\n"
     ]
    },
    {
     "name": "stderr",
     "output_type": "stream",
     "text": [
      "23:19:09 [INFO] Wrote demo parse output to 255 cloud9-vs-sk-m2-cbble.json\n",
      "23:19:09 [INFO] Reading in JSON from 255 cloud9-vs-sk-m2-cbble.json\n",
      "23:19:09 [INFO] JSON data loaded, available in the `json` attribute to parser\n",
      "23:19:09 [INFO] Successfully parsed JSON output\n",
      "23:19:09 [INFO] Successfully returned JSON output\n",
      "23:19:16 [INFO] Go version>=1.14.0\n",
      "23:19:16 [INFO] Initialized CSGODemoParser with demofile D:\\EDAV\\256\\ESLOneCologne2016-liquid-vs-fnatic-map1-cobblestone.dem\n",
      "23:19:16 [INFO] Setting demo id to 256 ESLOneCologne2016-liquid-vs-fnatic-map1-cobblestone\n",
      "23:19:16 [INFO] Setting parse rate to 128\n",
      "23:19:16 [INFO] Setting trade time to 5\n",
      "23:19:16 [INFO] Setting buy style to hltv\n",
      "23:19:16 [INFO] Rollup damages set to False\n",
      "23:19:16 [INFO] Parse frames set to True\n",
      "23:19:16 [INFO] Running Golang parser from C:\\Users\\nguye\\anaconda3\\envs\\envTF24\\lib\\site-packages\\csgo-1.0-py3.7.egg\\csgo\\parser\\\n",
      "23:19:16 [INFO] Looking for file at D:\\EDAV\\256\\ESLOneCologne2016-liquid-vs-fnatic-map1-cobblestone.dem\n"
     ]
    },
    {
     "name": "stdout",
     "output_type": "stream",
     "text": [
      "parsing    256 ESLOneCologne2016-liquid-vs-fnatic-map1-cobblestone.dem\n"
     ]
    },
    {
     "name": "stderr",
     "output_type": "stream",
     "text": [
      "23:19:22 [INFO] Wrote demo parse output to 256 ESLOneCologne2016-liquid-vs-fnatic-map1-cobblestone.json\n",
      "23:19:22 [INFO] Reading in JSON from 256 ESLOneCologne2016-liquid-vs-fnatic-map1-cobblestone.json\n",
      "23:19:22 [INFO] JSON data loaded, available in the `json` attribute to parser\n",
      "23:19:22 [INFO] Successfully parsed JSON output\n",
      "23:19:22 [INFO] Successfully returned JSON output\n",
      "23:19:31 [INFO] Go version>=1.14.0\n",
      "23:19:31 [INFO] Initialized CSGODemoParser with demofile D:\\EDAV\\256\\ESLOneCologne2016-liquid-vs-fnatic-map2-cache.dem\n",
      "23:19:31 [INFO] Setting demo id to 256 ESLOneCologne2016-liquid-vs-fnatic-map2-cache\n",
      "23:19:31 [INFO] Setting parse rate to 128\n",
      "23:19:31 [INFO] Setting trade time to 5\n",
      "23:19:31 [INFO] Setting buy style to hltv\n",
      "23:19:31 [INFO] Rollup damages set to False\n",
      "23:19:31 [INFO] Parse frames set to True\n",
      "23:19:31 [INFO] Running Golang parser from C:\\Users\\nguye\\anaconda3\\envs\\envTF24\\lib\\site-packages\\csgo-1.0-py3.7.egg\\csgo\\parser\\\n",
      "23:19:31 [INFO] Looking for file at D:\\EDAV\\256\\ESLOneCologne2016-liquid-vs-fnatic-map2-cache.dem\n"
     ]
    },
    {
     "name": "stdout",
     "output_type": "stream",
     "text": [
      "parsing    256 ESLOneCologne2016-liquid-vs-fnatic-map2-cache.dem\n"
     ]
    },
    {
     "name": "stderr",
     "output_type": "stream",
     "text": [
      "23:19:37 [INFO] Wrote demo parse output to 256 ESLOneCologne2016-liquid-vs-fnatic-map2-cache.json\n",
      "23:19:37 [INFO] Reading in JSON from 256 ESLOneCologne2016-liquid-vs-fnatic-map2-cache.json\n",
      "23:19:37 [INFO] JSON data loaded, available in the `json` attribute to parser\n",
      "23:19:37 [INFO] Successfully parsed JSON output\n",
      "23:19:37 [INFO] Successfully returned JSON output\n",
      "23:19:46 [INFO] Go version>=1.14.0\n",
      "23:19:46 [INFO] Initialized CSGODemoParser with demofile D:\\EDAV\\257\\ESLOneCologne-GroupC-ibuypower-vs-datteam-cobblestone.dem\n",
      "23:19:46 [INFO] Setting demo id to 257 ESLOneCologne-GroupC-ibuypower-vs-datteam-cobblestone\n",
      "23:19:46 [INFO] Setting parse rate to 128\n",
      "23:19:46 [INFO] Setting trade time to 5\n",
      "23:19:46 [INFO] Setting buy style to hltv\n",
      "23:19:46 [INFO] Rollup damages set to False\n",
      "23:19:46 [INFO] Parse frames set to True\n",
      "23:19:46 [INFO] Running Golang parser from C:\\Users\\nguye\\anaconda3\\envs\\envTF24\\lib\\site-packages\\csgo-1.0-py3.7.egg\\csgo\\parser\\\n",
      "23:19:46 [INFO] Looking for file at D:\\EDAV\\257\\ESLOneCologne-GroupC-ibuypower-vs-datteam-cobblestone.dem\n"
     ]
    },
    {
     "name": "stdout",
     "output_type": "stream",
     "text": [
      "parsing    257 ESLOneCologne-GroupC-ibuypower-vs-datteam-cobblestone.dem\n"
     ]
    },
    {
     "name": "stderr",
     "output_type": "stream",
     "text": [
      "23:19:48 [INFO] Wrote demo parse output to 257 ESLOneCologne-GroupC-ibuypower-vs-datteam-cobblestone.json\n",
      "23:19:48 [INFO] Reading in JSON from 257 ESLOneCologne-GroupC-ibuypower-vs-datteam-cobblestone.json\n",
      "23:19:48 [INFO] JSON data loaded, available in the `json` attribute to parser\n",
      "23:19:48 [INFO] Successfully parsed JSON output\n",
      "23:19:48 [INFO] Successfully returned JSON output\n",
      "23:19:49 [INFO] Go version>=1.14.0\n",
      "23:19:49 [INFO] Initialized CSGODemoParser with demofile D:\\EDAV\\258\\EMSKato-SF-virtuspro-vs-lgb-mirage.dem\n",
      "23:19:49 [INFO] Setting demo id to 258 EMSKato-SF-virtuspro-vs-lgb-mirage\n",
      "23:19:49 [INFO] Setting parse rate to 128\n",
      "23:19:49 [INFO] Setting trade time to 5\n",
      "23:19:49 [INFO] Setting buy style to hltv\n",
      "23:19:49 [INFO] Rollup damages set to False\n",
      "23:19:49 [INFO] Parse frames set to True\n",
      "23:19:49 [INFO] Running Golang parser from C:\\Users\\nguye\\anaconda3\\envs\\envTF24\\lib\\site-packages\\csgo-1.0-py3.7.egg\\csgo\\parser\\\n",
      "23:19:49 [INFO] Looking for file at D:\\EDAV\\258\\EMSKato-SF-virtuspro-vs-lgb-mirage.dem\n"
     ]
    },
    {
     "name": "stdout",
     "output_type": "stream",
     "text": [
      "parsing    258 EMSKato-SF-virtuspro-vs-lgb-mirage.dem\n"
     ]
    },
    {
     "name": "stderr",
     "output_type": "stream",
     "text": [
      "23:19:51 [INFO] Wrote demo parse output to 258 EMSKato-SF-virtuspro-vs-lgb-mirage.json\n",
      "23:19:51 [INFO] Reading in JSON from 258 EMSKato-SF-virtuspro-vs-lgb-mirage.json\n",
      "23:19:51 [INFO] JSON data loaded, available in the `json` attribute to parser\n",
      "23:19:51 [INFO] Successfully parsed JSON output\n",
      "23:19:51 [INFO] Successfully returned JSON output\n",
      "23:19:53 [INFO] Go version>=1.14.0\n",
      "23:19:53 [INFO] Initialized CSGODemoParser with demofile D:\\EDAV\\258\\EMSKato-SF-virtuspro-vs-lgb-inferno.dem\n",
      "23:19:53 [INFO] Setting demo id to 258 EMSKato-SF-virtuspro-vs-lgb-inferno\n",
      "23:19:53 [INFO] Setting parse rate to 128\n",
      "23:19:53 [INFO] Setting trade time to 5\n",
      "23:19:53 [INFO] Setting buy style to hltv\n",
      "23:19:53 [INFO] Rollup damages set to False\n",
      "23:19:53 [INFO] Parse frames set to True\n",
      "23:19:53 [INFO] Running Golang parser from C:\\Users\\nguye\\anaconda3\\envs\\envTF24\\lib\\site-packages\\csgo-1.0-py3.7.egg\\csgo\\parser\\\n",
      "23:19:53 [INFO] Looking for file at D:\\EDAV\\258\\EMSKato-SF-virtuspro-vs-lgb-inferno.dem\n"
     ]
    },
    {
     "name": "stdout",
     "output_type": "stream",
     "text": [
      "parsing    258 EMSKato-SF-virtuspro-vs-lgb-inferno.dem\n"
     ]
    },
    {
     "name": "stderr",
     "output_type": "stream",
     "text": [
      "23:19:55 [INFO] Wrote demo parse output to 258 EMSKato-SF-virtuspro-vs-lgb-inferno.json\n",
      "23:19:55 [INFO] Reading in JSON from 258 EMSKato-SF-virtuspro-vs-lgb-inferno.json\n",
      "23:19:55 [INFO] JSON data loaded, available in the `json` attribute to parser\n",
      "23:19:55 [INFO] Successfully parsed JSON output\n",
      "23:19:55 [INFO] Successfully returned JSON output\n",
      "23:19:56 [INFO] Go version>=1.14.0\n",
      "23:19:56 [INFO] Initialized CSGODemoParser with demofile D:\\EDAV\\258\\EMSKato-SF-virtuspro-vs-lgb-train.dem\n",
      "23:19:56 [INFO] Setting demo id to 258 EMSKato-SF-virtuspro-vs-lgb-train\n",
      "23:19:56 [INFO] Setting parse rate to 128\n",
      "23:19:56 [INFO] Setting trade time to 5\n",
      "23:19:56 [INFO] Setting buy style to hltv\n",
      "23:19:56 [INFO] Rollup damages set to False\n",
      "23:19:56 [INFO] Parse frames set to True\n",
      "23:19:56 [INFO] Running Golang parser from C:\\Users\\nguye\\anaconda3\\envs\\envTF24\\lib\\site-packages\\csgo-1.0-py3.7.egg\\csgo\\parser\\\n",
      "23:19:56 [INFO] Looking for file at D:\\EDAV\\258\\EMSKato-SF-virtuspro-vs-lgb-train.dem\n"
     ]
    },
    {
     "name": "stdout",
     "output_type": "stream",
     "text": [
      "parsing    258 EMSKato-SF-virtuspro-vs-lgb-train.dem\n"
     ]
    },
    {
     "name": "stderr",
     "output_type": "stream",
     "text": [
      "23:19:58 [INFO] Wrote demo parse output to 258 EMSKato-SF-virtuspro-vs-lgb-train.json\n",
      "23:19:58 [INFO] Reading in JSON from 258 EMSKato-SF-virtuspro-vs-lgb-train.json\n",
      "23:19:58 [INFO] JSON data loaded, available in the `json` attribute to parser\n",
      "23:19:58 [INFO] Successfully parsed JSON output\n",
      "23:19:58 [INFO] Successfully returned JSON output\n",
      "23:19:59 [INFO] Go version>=1.14.0\n",
      "23:19:59 [INFO] Initialized CSGODemoParser with demofile D:\\EDAV\\259\\MLGColumbus2016-faze-vs-liquid-cache.dem\n",
      "23:19:59 [INFO] Setting demo id to 259 MLGColumbus2016-faze-vs-liquid-cache\n",
      "23:19:59 [INFO] Setting parse rate to 128\n",
      "23:19:59 [INFO] Setting trade time to 5\n",
      "23:19:59 [INFO] Setting buy style to hltv\n",
      "23:19:59 [INFO] Rollup damages set to False\n",
      "23:19:59 [INFO] Parse frames set to True\n",
      "23:19:59 [INFO] Running Golang parser from C:\\Users\\nguye\\anaconda3\\envs\\envTF24\\lib\\site-packages\\csgo-1.0-py3.7.egg\\csgo\\parser\\\n",
      "23:19:59 [INFO] Looking for file at D:\\EDAV\\259\\MLGColumbus2016-faze-vs-liquid-cache.dem\n"
     ]
    },
    {
     "name": "stdout",
     "output_type": "stream",
     "text": [
      "parsing    259 MLGColumbus2016-faze-vs-liquid-cache.dem\n"
     ]
    },
    {
     "name": "stderr",
     "output_type": "stream",
     "text": [
      "23:20:04 [INFO] Wrote demo parse output to 259 MLGColumbus2016-faze-vs-liquid-cache.json\n",
      "23:20:04 [INFO] Reading in JSON from 259 MLGColumbus2016-faze-vs-liquid-cache.json\n",
      "23:20:05 [INFO] JSON data loaded, available in the `json` attribute to parser\n",
      "23:20:05 [INFO] Successfully parsed JSON output\n",
      "23:20:05 [INFO] Successfully returned JSON output\n",
      "23:20:13 [INFO] Go version>=1.14.0\n",
      "23:20:13 [INFO] Initialized CSGODemoParser with demofile D:\\EDAV\\260\\north-vs-virtuspro-map2-nuke.dem\n",
      "23:20:13 [INFO] Setting demo id to 260 north-vs-virtuspro-map2-nuke\n",
      "23:20:13 [INFO] Setting parse rate to 128\n",
      "23:20:13 [INFO] Setting trade time to 5\n",
      "23:20:13 [INFO] Setting buy style to hltv\n",
      "23:20:13 [INFO] Rollup damages set to False\n",
      "23:20:13 [INFO] Parse frames set to True\n",
      "23:20:13 [INFO] Running Golang parser from C:\\Users\\nguye\\anaconda3\\envs\\envTF24\\lib\\site-packages\\csgo-1.0-py3.7.egg\\csgo\\parser\\\n",
      "23:20:13 [INFO] Looking for file at D:\\EDAV\\260\\north-vs-virtuspro-map2-nuke.dem\n"
     ]
    },
    {
     "name": "stdout",
     "output_type": "stream",
     "text": [
      "parsing    260 north-vs-virtuspro-map2-nuke.dem\n"
     ]
    },
    {
     "name": "stderr",
     "output_type": "stream",
     "text": [
      "23:20:18 [INFO] Wrote demo parse output to 260 north-vs-virtuspro-map2-nuke.json\n",
      "23:20:18 [INFO] Reading in JSON from 260 north-vs-virtuspro-map2-nuke.json\n",
      "23:20:18 [INFO] JSON data loaded, available in the `json` attribute to parser\n",
      "23:20:18 [INFO] Successfully parsed JSON output\n",
      "23:20:18 [INFO] Successfully returned JSON output\n",
      "23:20:25 [INFO] Go version>=1.14.0\n",
      "23:20:25 [INFO] Initialized CSGODemoParser with demofile D:\\EDAV\\260\\north-vs-virtuspro-map1-cobblestone.dem\n",
      "23:20:25 [INFO] Setting demo id to 260 north-vs-virtuspro-map1-cobblestone\n",
      "23:20:25 [INFO] Setting parse rate to 128\n",
      "23:20:25 [INFO] Setting trade time to 5\n",
      "23:20:25 [INFO] Setting buy style to hltv\n",
      "23:20:25 [INFO] Rollup damages set to False\n",
      "23:20:25 [INFO] Parse frames set to True\n",
      "23:20:25 [INFO] Running Golang parser from C:\\Users\\nguye\\anaconda3\\envs\\envTF24\\lib\\site-packages\\csgo-1.0-py3.7.egg\\csgo\\parser\\\n",
      "23:20:25 [INFO] Looking for file at D:\\EDAV\\260\\north-vs-virtuspro-map1-cobblestone.dem\n"
     ]
    },
    {
     "name": "stdout",
     "output_type": "stream",
     "text": [
      "parsing    260 north-vs-virtuspro-map1-cobblestone.dem\n"
     ]
    },
    {
     "name": "stderr",
     "output_type": "stream",
     "text": [
      "23:20:30 [INFO] Wrote demo parse output to 260 north-vs-virtuspro-map1-cobblestone.json\n",
      "23:20:30 [INFO] Reading in JSON from 260 north-vs-virtuspro-map1-cobblestone.json\n",
      "23:20:30 [INFO] JSON data loaded, available in the `json` attribute to parser\n",
      "23:20:30 [INFO] Successfully parsed JSON output\n",
      "23:20:30 [INFO] Successfully returned JSON output\n",
      "23:20:37 [INFO] Go version>=1.14.0\n",
      "23:20:37 [INFO] Initialized CSGODemoParser with demofile D:\\EDAV\\261\\DHW14-GroupA-fnatic-vs-cloud9-dust2.dem\n",
      "23:20:37 [INFO] Setting demo id to 261 DHW14-GroupA-fnatic-vs-cloud9-dust2\n",
      "23:20:37 [INFO] Setting parse rate to 128\n",
      "23:20:37 [INFO] Setting trade time to 5\n",
      "23:20:37 [INFO] Setting buy style to hltv\n",
      "23:20:37 [INFO] Rollup damages set to False\n",
      "23:20:37 [INFO] Parse frames set to True\n",
      "23:20:37 [INFO] Running Golang parser from C:\\Users\\nguye\\anaconda3\\envs\\envTF24\\lib\\site-packages\\csgo-1.0-py3.7.egg\\csgo\\parser\\\n",
      "23:20:37 [INFO] Looking for file at D:\\EDAV\\261\\DHW14-GroupA-fnatic-vs-cloud9-dust2.dem\n"
     ]
    },
    {
     "name": "stdout",
     "output_type": "stream",
     "text": [
      "parsing    261 DHW14-GroupA-fnatic-vs-cloud9-dust2.dem\n"
     ]
    },
    {
     "name": "stderr",
     "output_type": "stream",
     "text": [
      "23:20:38 [INFO] Wrote demo parse output to 261 DHW14-GroupA-fnatic-vs-cloud9-dust2.json\n",
      "23:20:38 [INFO] Reading in JSON from 261 DHW14-GroupA-fnatic-vs-cloud9-dust2.json\n",
      "23:20:38 [INFO] JSON data loaded, available in the `json` attribute to parser\n",
      "23:20:38 [INFO] Successfully parsed JSON output\n",
      "23:20:38 [INFO] Successfully returned JSON output\n",
      "23:20:39 [INFO] Go version>=1.14.0\n",
      "23:20:39 [INFO] Initialized CSGODemoParser with demofile D:\\EDAV\\262\\ESLOneKatowice2015-QF-fnatic-vs-penta-cache.dem\n",
      "23:20:39 [INFO] Setting demo id to 262 ESLOneKatowice2015-QF-fnatic-vs-penta-cache\n",
      "23:20:39 [INFO] Setting parse rate to 128\n",
      "23:20:39 [INFO] Setting trade time to 5\n",
      "23:20:39 [INFO] Setting buy style to hltv\n",
      "23:20:39 [INFO] Rollup damages set to False\n",
      "23:20:39 [INFO] Parse frames set to True\n",
      "23:20:39 [INFO] Running Golang parser from C:\\Users\\nguye\\anaconda3\\envs\\envTF24\\lib\\site-packages\\csgo-1.0-py3.7.egg\\csgo\\parser\\\n",
      "23:20:39 [INFO] Looking for file at D:\\EDAV\\262\\ESLOneKatowice2015-QF-fnatic-vs-penta-cache.dem\n"
     ]
    },
    {
     "name": "stdout",
     "output_type": "stream",
     "text": [
      "parsing    262 ESLOneKatowice2015-QF-fnatic-vs-penta-cache.dem\n"
     ]
    },
    {
     "name": "stderr",
     "output_type": "stream",
     "text": [
      "23:20:41 [INFO] Wrote demo parse output to 262 ESLOneKatowice2015-QF-fnatic-vs-penta-cache.json\n",
      "23:20:41 [INFO] Reading in JSON from 262 ESLOneKatowice2015-QF-fnatic-vs-penta-cache.json\n",
      "23:20:41 [INFO] JSON data loaded, available in the `json` attribute to parser\n",
      "23:20:41 [INFO] Successfully parsed JSON output\n",
      "23:20:41 [INFO] Successfully returned JSON output\n",
      "23:20:42 [INFO] Go version>=1.14.0\n",
      "23:20:42 [INFO] Initialized CSGODemoParser with demofile D:\\EDAV\\262\\ESLOneKatowice2015-QF-fnatic-vs-penta-inferno.dem\n",
      "23:20:42 [INFO] Setting demo id to 262 ESLOneKatowice2015-QF-fnatic-vs-penta-inferno\n",
      "23:20:42 [INFO] Setting parse rate to 128\n",
      "23:20:42 [INFO] Setting trade time to 5\n",
      "23:20:42 [INFO] Setting buy style to hltv\n",
      "23:20:42 [INFO] Rollup damages set to False\n",
      "23:20:42 [INFO] Parse frames set to True\n",
      "23:20:42 [INFO] Running Golang parser from C:\\Users\\nguye\\anaconda3\\envs\\envTF24\\lib\\site-packages\\csgo-1.0-py3.7.egg\\csgo\\parser\\\n",
      "23:20:42 [INFO] Looking for file at D:\\EDAV\\262\\ESLOneKatowice2015-QF-fnatic-vs-penta-inferno.dem\n"
     ]
    },
    {
     "name": "stdout",
     "output_type": "stream",
     "text": [
      "parsing    262 ESLOneKatowice2015-QF-fnatic-vs-penta-inferno.dem\n"
     ]
    },
    {
     "name": "stderr",
     "output_type": "stream",
     "text": [
      "23:20:44 [INFO] Wrote demo parse output to 262 ESLOneKatowice2015-QF-fnatic-vs-penta-inferno.json\n",
      "23:20:44 [INFO] Reading in JSON from 262 ESLOneKatowice2015-QF-fnatic-vs-penta-inferno.json\n",
      "23:20:44 [INFO] JSON data loaded, available in the `json` attribute to parser\n",
      "23:20:44 [INFO] Successfully parsed JSON output\n",
      "23:20:44 [INFO] Successfully returned JSON output\n",
      "23:20:45 [INFO] Go version>=1.14.0\n",
      "23:20:45 [INFO] Initialized CSGODemoParser with demofile D:\\EDAV\\263\\ESLOneKatowice2015-Groups-voxeminor-vs-flipsid3-cache.dem\n",
      "23:20:45 [INFO] Setting demo id to 263 ESLOneKatowice2015-Groups-voxeminor-vs-flipsid3-cache\n",
      "23:20:45 [INFO] Setting parse rate to 128\n",
      "23:20:45 [INFO] Setting trade time to 5\n",
      "23:20:45 [INFO] Setting buy style to hltv\n",
      "23:20:45 [INFO] Rollup damages set to False\n",
      "23:20:45 [INFO] Parse frames set to True\n",
      "23:20:45 [INFO] Running Golang parser from C:\\Users\\nguye\\anaconda3\\envs\\envTF24\\lib\\site-packages\\csgo-1.0-py3.7.egg\\csgo\\parser\\\n",
      "23:20:45 [INFO] Looking for file at D:\\EDAV\\263\\ESLOneKatowice2015-Groups-voxeminor-vs-flipsid3-cache.dem\n"
     ]
    },
    {
     "name": "stdout",
     "output_type": "stream",
     "text": [
      "parsing    263 ESLOneKatowice2015-Groups-voxeminor-vs-flipsid3-cache.dem\n"
     ]
    },
    {
     "name": "stderr",
     "output_type": "stream",
     "text": [
      "23:20:47 [INFO] Wrote demo parse output to 263 ESLOneKatowice2015-Groups-voxeminor-vs-flipsid3-cache.json\n",
      "23:20:47 [INFO] Reading in JSON from 263 ESLOneKatowice2015-Groups-voxeminor-vs-flipsid3-cache.json\n",
      "23:20:47 [INFO] JSON data loaded, available in the `json` attribute to parser\n",
      "23:20:47 [INFO] Successfully parsed JSON output\n",
      "23:20:47 [INFO] Successfully returned JSON output\n",
      "23:20:48 [INFO] Go version>=1.14.0\n",
      "23:20:48 [INFO] Initialized CSGODemoParser with demofile D:\\EDAV\\264\\ESLOneCologne-GroupD-titan-vs-voxeminor-nuke.dem\n",
      "23:20:48 [INFO] Setting demo id to 264 ESLOneCologne-GroupD-titan-vs-voxeminor-nuke\n",
      "23:20:48 [INFO] Setting parse rate to 128\n",
      "23:20:48 [INFO] Setting trade time to 5\n",
      "23:20:48 [INFO] Setting buy style to hltv\n",
      "23:20:48 [INFO] Rollup damages set to False\n",
      "23:20:48 [INFO] Parse frames set to True\n",
      "23:20:48 [INFO] Running Golang parser from C:\\Users\\nguye\\anaconda3\\envs\\envTF24\\lib\\site-packages\\csgo-1.0-py3.7.egg\\csgo\\parser\\\n",
      "23:20:48 [INFO] Looking for file at D:\\EDAV\\264\\ESLOneCologne-GroupD-titan-vs-voxeminor-nuke.dem\n"
     ]
    },
    {
     "name": "stdout",
     "output_type": "stream",
     "text": [
      "parsing    264 ESLOneCologne-GroupD-titan-vs-voxeminor-nuke.dem\n"
     ]
    },
    {
     "name": "stderr",
     "output_type": "stream",
     "text": [
      "23:20:50 [INFO] Wrote demo parse output to 264 ESLOneCologne-GroupD-titan-vs-voxeminor-nuke.json\n",
      "23:20:50 [INFO] Reading in JSON from 264 ESLOneCologne-GroupD-titan-vs-voxeminor-nuke.json\n",
      "23:20:50 [INFO] JSON data loaded, available in the `json` attribute to parser\n",
      "23:20:50 [INFO] Successfully parsed JSON output\n",
      "23:20:50 [INFO] Successfully returned JSON output\n",
      "23:20:50 [INFO] Go version>=1.14.0\n",
      "23:20:50 [INFO] Initialized CSGODemoParser with demofile D:\\EDAV\\265\\cloud9-vs-g2-cache.dem\n",
      "23:20:50 [INFO] Setting demo id to 265 cloud9-vs-g2-cache\n",
      "23:20:50 [INFO] Setting parse rate to 128\n",
      "23:20:50 [INFO] Setting trade time to 5\n",
      "23:20:50 [INFO] Setting buy style to hltv\n",
      "23:20:50 [INFO] Rollup damages set to False\n",
      "23:20:50 [INFO] Parse frames set to True\n",
      "23:20:50 [INFO] Running Golang parser from C:\\Users\\nguye\\anaconda3\\envs\\envTF24\\lib\\site-packages\\csgo-1.0-py3.7.egg\\csgo\\parser\\\n",
      "23:20:50 [INFO] Looking for file at D:\\EDAV\\265\\cloud9-vs-g2-cache.dem\n"
     ]
    },
    {
     "name": "stdout",
     "output_type": "stream",
     "text": [
      "parsing    265 cloud9-vs-g2-cache.dem\n"
     ]
    },
    {
     "name": "stderr",
     "output_type": "stream",
     "text": [
      "23:20:55 [INFO] Wrote demo parse output to 265 cloud9-vs-g2-cache.json\n",
      "23:20:55 [INFO] Reading in JSON from 265 cloud9-vs-g2-cache.json\n",
      "23:20:55 [INFO] JSON data loaded, available in the `json` attribute to parser\n",
      "23:20:55 [INFO] Successfully parsed JSON output\n",
      "23:20:55 [INFO] Successfully returned JSON output\n",
      "23:21:02 [INFO] Go version>=1.14.0\n",
      "23:21:02 [INFO] Initialized CSGODemoParser with demofile D:\\EDAV\\266\\gambit-vs-virtuspro-train.dem\n",
      "23:21:02 [INFO] Setting demo id to 266 gambit-vs-virtuspro-train\n",
      "23:21:02 [INFO] Setting parse rate to 128\n",
      "23:21:02 [INFO] Setting trade time to 5\n",
      "23:21:02 [INFO] Setting buy style to hltv\n",
      "23:21:02 [INFO] Rollup damages set to False\n",
      "23:21:02 [INFO] Parse frames set to True\n",
      "23:21:02 [INFO] Running Golang parser from C:\\Users\\nguye\\anaconda3\\envs\\envTF24\\lib\\site-packages\\csgo-1.0-py3.7.egg\\csgo\\parser\\\n",
      "23:21:02 [INFO] Looking for file at D:\\EDAV\\266\\gambit-vs-virtuspro-train.dem\n"
     ]
    },
    {
     "name": "stdout",
     "output_type": "stream",
     "text": [
      "parsing    266 gambit-vs-virtuspro-train.dem\n"
     ]
    },
    {
     "name": "stderr",
     "output_type": "stream",
     "text": [
      "23:21:08 [INFO] Wrote demo parse output to 266 gambit-vs-virtuspro-train.json\n",
      "23:21:08 [INFO] Reading in JSON from 266 gambit-vs-virtuspro-train.json\n",
      "23:21:08 [INFO] JSON data loaded, available in the `json` attribute to parser\n",
      "23:21:08 [INFO] Successfully parsed JSON output\n",
      "23:21:08 [INFO] Successfully returned JSON output\n",
      "23:21:17 [INFO] Go version>=1.14.0\n",
      "23:21:17 [INFO] Initialized CSGODemoParser with demofile D:\\EDAV\\267\\ESLOneCologne2015-fnatic-vs-ebettle-mirage-1.dem\n",
      "23:21:17 [INFO] Setting demo id to 267 ESLOneCologne2015-fnatic-vs-ebettle-mirage-1\n",
      "23:21:17 [INFO] Setting parse rate to 128\n",
      "23:21:17 [INFO] Setting trade time to 5\n",
      "23:21:17 [INFO] Setting buy style to hltv\n",
      "23:21:17 [INFO] Rollup damages set to False\n",
      "23:21:17 [INFO] Parse frames set to True\n",
      "23:21:17 [INFO] Running Golang parser from C:\\Users\\nguye\\anaconda3\\envs\\envTF24\\lib\\site-packages\\csgo-1.0-py3.7.egg\\csgo\\parser\\\n",
      "23:21:17 [INFO] Looking for file at D:\\EDAV\\267\\ESLOneCologne2015-fnatic-vs-ebettle-mirage-1.dem\n"
     ]
    },
    {
     "name": "stdout",
     "output_type": "stream",
     "text": [
      "parsing    267 ESLOneCologne2015-fnatic-vs-ebettle-mirage-1.dem\n"
     ]
    },
    {
     "name": "stderr",
     "output_type": "stream",
     "text": [
      "23:21:19 [INFO] Wrote demo parse output to 267 ESLOneCologne2015-fnatic-vs-ebettle-mirage-1.json\n",
      "23:21:19 [INFO] Reading in JSON from 267 ESLOneCologne2015-fnatic-vs-ebettle-mirage-1.json\n",
      "23:21:19 [INFO] JSON data loaded, available in the `json` attribute to parser\n",
      "23:21:19 [INFO] Successfully parsed JSON output\n",
      "23:21:19 [INFO] Successfully returned JSON output\n",
      "23:21:20 [INFO] Go version>=1.14.0\n",
      "23:21:20 [INFO] Initialized CSGODemoParser with demofile D:\\EDAV\\268\\big-vs-vitality-mirage.dem\n",
      "23:21:20 [INFO] Setting demo id to 268 big-vs-vitality-mirage\n",
      "23:21:20 [INFO] Setting parse rate to 128\n",
      "23:21:20 [INFO] Setting trade time to 5\n",
      "23:21:20 [INFO] Setting buy style to hltv\n",
      "23:21:20 [INFO] Rollup damages set to False\n",
      "23:21:20 [INFO] Parse frames set to True\n",
      "23:21:20 [INFO] Running Golang parser from C:\\Users\\nguye\\anaconda3\\envs\\envTF24\\lib\\site-packages\\csgo-1.0-py3.7.egg\\csgo\\parser\\\n",
      "23:21:20 [INFO] Looking for file at D:\\EDAV\\268\\big-vs-vitality-mirage.dem\n"
     ]
    },
    {
     "name": "stdout",
     "output_type": "stream",
     "text": [
      "parsing    268 big-vs-vitality-mirage.dem\n"
     ]
    },
    {
     "name": "stderr",
     "output_type": "stream",
     "text": [
      "23:21:25 [INFO] Wrote demo parse output to 268 big-vs-vitality-mirage.json\n",
      "23:21:25 [INFO] Reading in JSON from 268 big-vs-vitality-mirage.json\n",
      "23:21:26 [INFO] JSON data loaded, available in the `json` attribute to parser\n",
      "23:21:26 [INFO] Successfully parsed JSON output\n",
      "23:21:26 [INFO] Successfully returned JSON output\n",
      "23:21:34 [INFO] Go version>=1.14.0\n",
      "23:21:34 [INFO] Initialized CSGODemoParser with demofile D:\\EDAV\\269\\liquid-vs-avangar-overpass.dem\n",
      "23:21:34 [INFO] Setting demo id to 269 liquid-vs-avangar-overpass\n",
      "23:21:34 [INFO] Setting parse rate to 128\n",
      "23:21:34 [INFO] Setting trade time to 5\n",
      "23:21:34 [INFO] Setting buy style to hltv\n",
      "23:21:34 [INFO] Rollup damages set to False\n",
      "23:21:34 [INFO] Parse frames set to True\n",
      "23:21:34 [INFO] Running Golang parser from C:\\Users\\nguye\\anaconda3\\envs\\envTF24\\lib\\site-packages\\csgo-1.0-py3.7.egg\\csgo\\parser\\\n",
      "23:21:34 [INFO] Looking for file at D:\\EDAV\\269\\liquid-vs-avangar-overpass.dem\n"
     ]
    },
    {
     "name": "stdout",
     "output_type": "stream",
     "text": [
      "parsing    269 liquid-vs-avangar-overpass.dem\n"
     ]
    },
    {
     "name": "stderr",
     "output_type": "stream",
     "text": [
      "23:21:43 [INFO] Wrote demo parse output to 269 liquid-vs-avangar-overpass.json\n",
      "23:21:43 [INFO] Reading in JSON from 269 liquid-vs-avangar-overpass.json\n",
      "23:21:44 [INFO] JSON data loaded, available in the `json` attribute to parser\n",
      "23:21:44 [INFO] Successfully parsed JSON output\n",
      "23:21:44 [INFO] Successfully returned JSON output\n",
      "23:21:58 [INFO] Go version>=1.14.0\n",
      "23:21:58 [INFO] Initialized CSGODemoParser with demofile D:\\EDAV\\270\\DHW14-GroupA-fnatic-vs-bravado-mirage.dem\n",
      "23:21:58 [INFO] Setting demo id to 270 DHW14-GroupA-fnatic-vs-bravado-mirage\n",
      "23:21:58 [INFO] Setting parse rate to 128\n",
      "23:21:58 [INFO] Setting trade time to 5\n",
      "23:21:58 [INFO] Setting buy style to hltv\n",
      "23:21:58 [INFO] Rollup damages set to False\n",
      "23:21:58 [INFO] Parse frames set to True\n",
      "23:21:58 [INFO] Running Golang parser from C:\\Users\\nguye\\anaconda3\\envs\\envTF24\\lib\\site-packages\\csgo-1.0-py3.7.egg\\csgo\\parser\\\n",
      "23:21:58 [INFO] Looking for file at D:\\EDAV\\270\\DHW14-GroupA-fnatic-vs-bravado-mirage.dem\n"
     ]
    },
    {
     "name": "stdout",
     "output_type": "stream",
     "text": [
      "parsing    270 DHW14-GroupA-fnatic-vs-bravado-mirage.dem\n"
     ]
    },
    {
     "name": "stderr",
     "output_type": "stream",
     "text": [
      "23:22:00 [INFO] Wrote demo parse output to 270 DHW14-GroupA-fnatic-vs-bravado-mirage.json\n",
      "23:22:00 [INFO] Reading in JSON from 270 DHW14-GroupA-fnatic-vs-bravado-mirage.json\n",
      "23:22:00 [INFO] JSON data loaded, available in the `json` attribute to parser\n",
      "23:22:00 [INFO] Successfully parsed JSON output\n",
      "23:22:00 [INFO] Successfully returned JSON output\n",
      "23:22:00 [INFO] Go version>=1.14.0\n",
      "23:22:00 [INFO] Initialized CSGODemoParser with demofile D:\\EDAV\\271\\mibr-vs-natus-vincere-m2-inferno.dem\n",
      "23:22:00 [INFO] Setting demo id to 271 mibr-vs-natus-vincere-m2-inferno\n",
      "23:22:00 [INFO] Setting parse rate to 128\n",
      "23:22:00 [INFO] Setting trade time to 5\n",
      "23:22:00 [INFO] Setting buy style to hltv\n",
      "23:22:00 [INFO] Rollup damages set to False\n",
      "23:22:00 [INFO] Parse frames set to True\n",
      "23:22:00 [INFO] Running Golang parser from C:\\Users\\nguye\\anaconda3\\envs\\envTF24\\lib\\site-packages\\csgo-1.0-py3.7.egg\\csgo\\parser\\\n",
      "23:22:00 [INFO] Looking for file at D:\\EDAV\\271\\mibr-vs-natus-vincere-m2-inferno.dem\n"
     ]
    },
    {
     "name": "stdout",
     "output_type": "stream",
     "text": [
      "parsing    271 mibr-vs-natus-vincere-m2-inferno.dem\n"
     ]
    },
    {
     "name": "stderr",
     "output_type": "stream",
     "text": [
      "23:22:05 [INFO] Wrote demo parse output to 271 mibr-vs-natus-vincere-m2-inferno.json\n",
      "23:22:05 [INFO] Reading in JSON from 271 mibr-vs-natus-vincere-m2-inferno.json\n",
      "23:22:05 [INFO] JSON data loaded, available in the `json` attribute to parser\n",
      "23:22:05 [INFO] Successfully parsed JSON output\n",
      "23:22:05 [INFO] Successfully returned JSON output\n",
      "23:22:12 [INFO] Go version>=1.14.0\n",
      "23:22:12 [INFO] Initialized CSGODemoParser with demofile D:\\EDAV\\271\\mibr-vs-natus-vincere-m1-mirage.dem\n",
      "23:22:12 [INFO] Setting demo id to 271 mibr-vs-natus-vincere-m1-mirage\n",
      "23:22:12 [INFO] Setting parse rate to 128\n",
      "23:22:12 [INFO] Setting trade time to 5\n",
      "23:22:12 [INFO] Setting buy style to hltv\n",
      "23:22:12 [INFO] Rollup damages set to False\n",
      "23:22:12 [INFO] Parse frames set to True\n",
      "23:22:12 [INFO] Running Golang parser from C:\\Users\\nguye\\anaconda3\\envs\\envTF24\\lib\\site-packages\\csgo-1.0-py3.7.egg\\csgo\\parser\\\n",
      "23:22:12 [INFO] Looking for file at D:\\EDAV\\271\\mibr-vs-natus-vincere-m1-mirage.dem\n"
     ]
    },
    {
     "name": "stdout",
     "output_type": "stream",
     "text": [
      "parsing    271 mibr-vs-natus-vincere-m1-mirage.dem\n"
     ]
    },
    {
     "name": "stderr",
     "output_type": "stream",
     "text": [
      "23:22:17 [INFO] Wrote demo parse output to 271 mibr-vs-natus-vincere-m1-mirage.json\n",
      "23:22:17 [INFO] Reading in JSON from 271 mibr-vs-natus-vincere-m1-mirage.json\n",
      "23:22:17 [INFO] JSON data loaded, available in the `json` attribute to parser\n",
      "23:22:17 [INFO] Successfully parsed JSON output\n",
      "23:22:17 [INFO] Successfully returned JSON output\n",
      "23:22:25 [INFO] Go version>=1.14.0\n",
      "23:22:25 [INFO] Initialized CSGODemoParser with demofile D:\\EDAV\\272\\DHW14-GroupD-navi-vs-flipside-mirage.dem\n",
      "23:22:25 [INFO] Setting demo id to 272 DHW14-GroupD-navi-vs-flipside-mirage\n",
      "23:22:25 [INFO] Setting parse rate to 128\n",
      "23:22:25 [INFO] Setting trade time to 5\n",
      "23:22:25 [INFO] Setting buy style to hltv\n",
      "23:22:25 [INFO] Rollup damages set to False\n",
      "23:22:25 [INFO] Parse frames set to True\n",
      "23:22:25 [INFO] Running Golang parser from C:\\Users\\nguye\\anaconda3\\envs\\envTF24\\lib\\site-packages\\csgo-1.0-py3.7.egg\\csgo\\parser\\\n",
      "23:22:25 [INFO] Looking for file at D:\\EDAV\\272\\DHW14-GroupD-navi-vs-flipside-mirage.dem\n"
     ]
    },
    {
     "name": "stdout",
     "output_type": "stream",
     "text": [
      "parsing    272 DHW14-GroupD-navi-vs-flipside-mirage.dem\n"
     ]
    },
    {
     "name": "stderr",
     "output_type": "stream",
     "text": [
      "23:22:27 [INFO] Wrote demo parse output to 272 DHW14-GroupD-navi-vs-flipside-mirage.json\n",
      "23:22:27 [INFO] Reading in JSON from 272 DHW14-GroupD-navi-vs-flipside-mirage.json\n",
      "23:22:27 [INFO] JSON data loaded, available in the `json` attribute to parser\n",
      "23:22:27 [INFO] Successfully parsed JSON output\n",
      "23:22:27 [INFO] Successfully returned JSON output\n",
      "23:22:28 [INFO] Go version>=1.14.0\n",
      "23:22:28 [INFO] Initialized CSGODemoParser with demofile D:\\EDAV\\273\\ESLOneCologne2016-astralis-vs-gambit-dust2.dem\n",
      "23:22:28 [INFO] Setting demo id to 273 ESLOneCologne2016-astralis-vs-gambit-dust2\n",
      "23:22:28 [INFO] Setting parse rate to 128\n",
      "23:22:28 [INFO] Setting trade time to 5\n",
      "23:22:28 [INFO] Setting buy style to hltv\n",
      "23:22:28 [INFO] Rollup damages set to False\n",
      "23:22:28 [INFO] Parse frames set to True\n",
      "23:22:28 [INFO] Running Golang parser from C:\\Users\\nguye\\anaconda3\\envs\\envTF24\\lib\\site-packages\\csgo-1.0-py3.7.egg\\csgo\\parser\\\n",
      "23:22:28 [INFO] Looking for file at D:\\EDAV\\273\\ESLOneCologne2016-astralis-vs-gambit-dust2.dem\n"
     ]
    },
    {
     "name": "stdout",
     "output_type": "stream",
     "text": [
      "parsing    273 ESLOneCologne2016-astralis-vs-gambit-dust2.dem\n"
     ]
    },
    {
     "name": "stderr",
     "output_type": "stream",
     "text": [
      "23:22:33 [INFO] Wrote demo parse output to 273 ESLOneCologne2016-astralis-vs-gambit-dust2.json\n",
      "23:22:33 [INFO] Reading in JSON from 273 ESLOneCologne2016-astralis-vs-gambit-dust2.json\n",
      "23:22:33 [INFO] JSON data loaded, available in the `json` attribute to parser\n",
      "23:22:33 [INFO] Successfully parsed JSON output\n",
      "23:22:33 [INFO] Successfully returned JSON output\n",
      "23:22:40 [INFO] Go version>=1.14.0\n",
      "23:22:40 [INFO] Initialized CSGODemoParser with demofile D:\\EDAV\\274\\003105535363184066773_0562556283_1_liquid_vs_nip_mirage.dem\n",
      "23:22:40 [INFO] Setting demo id to 274 003105535363184066773_0562556283_1_liquid_vs_nip_mirage\n",
      "23:22:40 [INFO] Setting parse rate to 128\n",
      "23:22:40 [INFO] Setting trade time to 5\n",
      "23:22:40 [INFO] Setting buy style to hltv\n",
      "23:22:40 [INFO] Rollup damages set to False\n",
      "23:22:40 [INFO] Parse frames set to True\n",
      "23:22:40 [INFO] Running Golang parser from C:\\Users\\nguye\\anaconda3\\envs\\envTF24\\lib\\site-packages\\csgo-1.0-py3.7.egg\\csgo\\parser\\\n",
      "23:22:40 [INFO] Looking for file at D:\\EDAV\\274\\003105535363184066773_0562556283_1_liquid_vs_nip_mirage.dem\n"
     ]
    },
    {
     "name": "stdout",
     "output_type": "stream",
     "text": [
      "parsing    274 003105535363184066773_0562556283_1_liquid_vs_nip_mirage.dem\n"
     ]
    },
    {
     "name": "stderr",
     "output_type": "stream",
     "text": [
      "23:22:45 [INFO] Wrote demo parse output to 274 003105535363184066773_0562556283_1_liquid_vs_nip_mirage.json\n",
      "23:22:45 [INFO] Reading in JSON from 274 003105535363184066773_0562556283_1_liquid_vs_nip_mirage.json\n",
      "23:22:45 [INFO] JSON data loaded, available in the `json` attribute to parser\n",
      "23:22:45 [INFO] Successfully parsed JSON output\n",
      "23:22:45 [INFO] Successfully returned JSON output\n",
      "23:22:52 [INFO] Go version>=1.14.0\n",
      "23:22:52 [INFO] Initialized CSGODemoParser with demofile D:\\EDAV\\275\\astralis-vs-nip-m2-dust2.dem\n",
      "23:22:52 [INFO] Setting demo id to 275 astralis-vs-nip-m2-dust2\n",
      "23:22:52 [INFO] Setting parse rate to 128\n",
      "23:22:52 [INFO] Setting trade time to 5\n",
      "23:22:52 [INFO] Setting buy style to hltv\n",
      "23:22:52 [INFO] Rollup damages set to False\n",
      "23:22:52 [INFO] Parse frames set to True\n",
      "23:22:52 [INFO] Running Golang parser from C:\\Users\\nguye\\anaconda3\\envs\\envTF24\\lib\\site-packages\\csgo-1.0-py3.7.egg\\csgo\\parser\\\n",
      "23:22:52 [INFO] Looking for file at D:\\EDAV\\275\\astralis-vs-nip-m2-dust2.dem\n"
     ]
    },
    {
     "name": "stdout",
     "output_type": "stream",
     "text": [
      "parsing    275 astralis-vs-nip-m2-dust2.dem\n"
     ]
    },
    {
     "name": "stderr",
     "output_type": "stream",
     "text": [
      "23:22:58 [INFO] Wrote demo parse output to 275 astralis-vs-nip-m2-dust2.json\n",
      "23:22:58 [INFO] Reading in JSON from 275 astralis-vs-nip-m2-dust2.json\n",
      "23:22:59 [INFO] JSON data loaded, available in the `json` attribute to parser\n",
      "23:22:59 [INFO] Successfully parsed JSON output\n",
      "23:22:59 [INFO] Successfully returned JSON output\n",
      "23:23:08 [INFO] Go version>=1.14.0\n",
      "23:23:08 [INFO] Initialized CSGODemoParser with demofile D:\\EDAV\\275\\astralis-vs-nip-m1-mirage.dem\n",
      "23:23:08 [INFO] Setting demo id to 275 astralis-vs-nip-m1-mirage\n",
      "23:23:08 [INFO] Setting parse rate to 128\n",
      "23:23:08 [INFO] Setting trade time to 5\n",
      "23:23:08 [INFO] Setting buy style to hltv\n",
      "23:23:08 [INFO] Rollup damages set to False\n",
      "23:23:08 [INFO] Parse frames set to True\n",
      "23:23:08 [INFO] Running Golang parser from C:\\Users\\nguye\\anaconda3\\envs\\envTF24\\lib\\site-packages\\csgo-1.0-py3.7.egg\\csgo\\parser\\\n",
      "23:23:08 [INFO] Looking for file at D:\\EDAV\\275\\astralis-vs-nip-m1-mirage.dem\n"
     ]
    },
    {
     "name": "stdout",
     "output_type": "stream",
     "text": [
      "parsing    275 astralis-vs-nip-m1-mirage.dem\n"
     ]
    },
    {
     "name": "stderr",
     "output_type": "stream",
     "text": [
      "23:23:12 [INFO] Wrote demo parse output to 275 astralis-vs-nip-m1-mirage.json\n",
      "23:23:12 [INFO] Reading in JSON from 275 astralis-vs-nip-m1-mirage.json\n",
      "23:23:12 [INFO] JSON data loaded, available in the `json` attribute to parser\n",
      "23:23:12 [INFO] Successfully parsed JSON output\n",
      "23:23:12 [INFO] Successfully returned JSON output\n",
      "23:23:17 [INFO] Go version>=1.14.0\n",
      "23:23:17 [INFO] Initialized CSGODemoParser with demofile D:\\EDAV\\276\\virtuspro-vs-sk-map2-cobblestone.dem\n",
      "23:23:17 [INFO] Setting demo id to 276 virtuspro-vs-sk-map2-cobblestone\n",
      "23:23:17 [INFO] Setting parse rate to 128\n",
      "23:23:17 [INFO] Setting trade time to 5\n",
      "23:23:17 [INFO] Setting buy style to hltv\n",
      "23:23:17 [INFO] Rollup damages set to False\n",
      "23:23:17 [INFO] Parse frames set to True\n",
      "23:23:17 [INFO] Running Golang parser from C:\\Users\\nguye\\anaconda3\\envs\\envTF24\\lib\\site-packages\\csgo-1.0-py3.7.egg\\csgo\\parser\\\n",
      "23:23:17 [INFO] Looking for file at D:\\EDAV\\276\\virtuspro-vs-sk-map2-cobblestone.dem\n"
     ]
    },
    {
     "name": "stdout",
     "output_type": "stream",
     "text": [
      "parsing    276 virtuspro-vs-sk-map2-cobblestone.dem\n"
     ]
    },
    {
     "name": "stderr",
     "output_type": "stream",
     "text": [
      "23:23:22 [INFO] Wrote demo parse output to 276 virtuspro-vs-sk-map2-cobblestone.json\n",
      "23:23:22 [INFO] Reading in JSON from 276 virtuspro-vs-sk-map2-cobblestone.json\n",
      "23:23:23 [INFO] JSON data loaded, available in the `json` attribute to parser\n",
      "23:23:23 [INFO] Successfully parsed JSON output\n",
      "23:23:23 [INFO] Successfully returned JSON output\n",
      "23:23:33 [INFO] Go version>=1.14.0\n",
      "23:23:33 [INFO] Initialized CSGODemoParser with demofile D:\\EDAV\\276\\virtuspro-vs-sk-map1-train.dem\n",
      "23:23:33 [INFO] Setting demo id to 276 virtuspro-vs-sk-map1-train\n",
      "23:23:33 [INFO] Setting parse rate to 128\n",
      "23:23:33 [INFO] Setting trade time to 5\n",
      "23:23:33 [INFO] Setting buy style to hltv\n",
      "23:23:33 [INFO] Rollup damages set to False\n",
      "23:23:33 [INFO] Parse frames set to True\n",
      "23:23:33 [INFO] Running Golang parser from C:\\Users\\nguye\\anaconda3\\envs\\envTF24\\lib\\site-packages\\csgo-1.0-py3.7.egg\\csgo\\parser\\\n",
      "23:23:33 [INFO] Looking for file at D:\\EDAV\\276\\virtuspro-vs-sk-map1-train.dem\n"
     ]
    },
    {
     "name": "stdout",
     "output_type": "stream",
     "text": [
      "parsing    276 virtuspro-vs-sk-map1-train.dem\n"
     ]
    },
    {
     "name": "stderr",
     "output_type": "stream",
     "text": [
      "23:23:39 [INFO] Wrote demo parse output to 276 virtuspro-vs-sk-map1-train.json\n",
      "23:23:39 [INFO] Reading in JSON from 276 virtuspro-vs-sk-map1-train.json\n",
      "23:23:40 [INFO] JSON data loaded, available in the `json` attribute to parser\n",
      "23:23:40 [INFO] Successfully parsed JSON output\n",
      "23:23:40 [INFO] Successfully returned JSON output\n",
      "23:23:51 [INFO] Go version>=1.14.0\n",
      "23:23:51 [INFO] Initialized CSGODemoParser with demofile D:\\EDAV\\277\\ESLOneCologne2016-faze-vs-fnatic-map1-cache.dem\n",
      "23:23:51 [INFO] Setting demo id to 277 ESLOneCologne2016-faze-vs-fnatic-map1-cache\n",
      "23:23:51 [INFO] Setting parse rate to 128\n",
      "23:23:51 [INFO] Setting trade time to 5\n",
      "23:23:51 [INFO] Setting buy style to hltv\n",
      "23:23:51 [INFO] Rollup damages set to False\n",
      "23:23:51 [INFO] Parse frames set to True\n",
      "23:23:51 [INFO] Running Golang parser from C:\\Users\\nguye\\anaconda3\\envs\\envTF24\\lib\\site-packages\\csgo-1.0-py3.7.egg\\csgo\\parser\\\n",
      "23:23:51 [INFO] Looking for file at D:\\EDAV\\277\\ESLOneCologne2016-faze-vs-fnatic-map1-cache.dem\n"
     ]
    },
    {
     "name": "stdout",
     "output_type": "stream",
     "text": [
      "parsing    277 ESLOneCologne2016-faze-vs-fnatic-map1-cache.dem\n"
     ]
    },
    {
     "name": "stderr",
     "output_type": "stream",
     "text": [
      "23:23:56 [INFO] Wrote demo parse output to 277 ESLOneCologne2016-faze-vs-fnatic-map1-cache.json\n",
      "23:23:56 [INFO] Reading in JSON from 277 ESLOneCologne2016-faze-vs-fnatic-map1-cache.json\n",
      "23:23:57 [INFO] JSON data loaded, available in the `json` attribute to parser\n",
      "23:23:57 [INFO] Successfully parsed JSON output\n",
      "23:23:57 [INFO] Successfully returned JSON output\n"
     ]
    },
    {
     "name": "stdout",
     "output_type": "stream",
     "text": [
      "parsing    277 ESLOneCologne2016-faze-vs-fnatic-map2-mirage.dem\n"
     ]
    },
    {
     "name": "stderr",
     "output_type": "stream",
     "text": [
      "23:24:05 [INFO] Go version>=1.14.0\n",
      "23:24:05 [INFO] Initialized CSGODemoParser with demofile D:\\EDAV\\277\\ESLOneCologne2016-faze-vs-fnatic-map2-mirage.dem\n",
      "23:24:05 [INFO] Setting demo id to 277 ESLOneCologne2016-faze-vs-fnatic-map2-mirage\n",
      "23:24:05 [INFO] Setting parse rate to 128\n",
      "23:24:05 [INFO] Setting trade time to 5\n",
      "23:24:05 [INFO] Setting buy style to hltv\n",
      "23:24:05 [INFO] Rollup damages set to False\n",
      "23:24:05 [INFO] Parse frames set to True\n",
      "23:24:05 [INFO] Running Golang parser from C:\\Users\\nguye\\anaconda3\\envs\\envTF24\\lib\\site-packages\\csgo-1.0-py3.7.egg\\csgo\\parser\\\n",
      "23:24:05 [INFO] Looking for file at D:\\EDAV\\277\\ESLOneCologne2016-faze-vs-fnatic-map2-mirage.dem\n",
      "23:24:11 [INFO] Wrote demo parse output to 277 ESLOneCologne2016-faze-vs-fnatic-map2-mirage.json\n",
      "23:24:11 [INFO] Reading in JSON from 277 ESLOneCologne2016-faze-vs-fnatic-map2-mirage.json\n",
      "23:24:11 [INFO] JSON data loaded, available in the `json` attribute to parser\n",
      "23:24:11 [INFO] Successfully parsed JSON output\n",
      "23:24:11 [INFO] Successfully returned JSON output\n",
      "23:24:18 [INFO] Go version>=1.14.0\n",
      "23:24:18 [INFO] Initialized CSGODemoParser with demofile D:\\EDAV\\278\\astralis-vs-north-train.dem\n",
      "23:24:18 [INFO] Setting demo id to 278 astralis-vs-north-train\n",
      "23:24:18 [INFO] Setting parse rate to 128\n",
      "23:24:18 [INFO] Setting trade time to 5\n",
      "23:24:18 [INFO] Setting buy style to hltv\n",
      "23:24:18 [INFO] Rollup damages set to False\n",
      "23:24:18 [INFO] Parse frames set to True\n",
      "23:24:18 [INFO] Running Golang parser from C:\\Users\\nguye\\anaconda3\\envs\\envTF24\\lib\\site-packages\\csgo-1.0-py3.7.egg\\csgo\\parser\\\n",
      "23:24:18 [INFO] Looking for file at D:\\EDAV\\278\\astralis-vs-north-train.dem\n"
     ]
    },
    {
     "name": "stdout",
     "output_type": "stream",
     "text": [
      "parsing    278 astralis-vs-north-train.dem\n"
     ]
    },
    {
     "name": "stderr",
     "output_type": "stream",
     "text": [
      "23:24:23 [INFO] Wrote demo parse output to 278 astralis-vs-north-train.json\n",
      "23:24:23 [INFO] Reading in JSON from 278 astralis-vs-north-train.json\n",
      "23:24:24 [INFO] JSON data loaded, available in the `json` attribute to parser\n",
      "23:24:24 [INFO] Successfully parsed JSON output\n",
      "23:24:24 [INFO] Successfully returned JSON output\n",
      "23:24:33 [INFO] Go version>=1.14.0\n",
      "23:24:33 [INFO] Initialized CSGODemoParser with demofile D:\\EDAV\\279\\MLGColumbus2016-fnatic-vs-splyce-train.dem\n",
      "23:24:33 [INFO] Setting demo id to 279 MLGColumbus2016-fnatic-vs-splyce-train\n",
      "23:24:33 [INFO] Setting parse rate to 128\n",
      "23:24:33 [INFO] Setting trade time to 5\n",
      "23:24:33 [INFO] Setting buy style to hltv\n",
      "23:24:33 [INFO] Rollup damages set to False\n",
      "23:24:33 [INFO] Parse frames set to True\n",
      "23:24:33 [INFO] Running Golang parser from C:\\Users\\nguye\\anaconda3\\envs\\envTF24\\lib\\site-packages\\csgo-1.0-py3.7.egg\\csgo\\parser\\\n",
      "23:24:33 [INFO] Looking for file at D:\\EDAV\\279\\MLGColumbus2016-fnatic-vs-splyce-train.dem\n"
     ]
    },
    {
     "name": "stdout",
     "output_type": "stream",
     "text": [
      "parsing    279 MLGColumbus2016-fnatic-vs-splyce-train.dem\n"
     ]
    },
    {
     "name": "stderr",
     "output_type": "stream",
     "text": [
      "23:24:37 [INFO] Wrote demo parse output to 279 MLGColumbus2016-fnatic-vs-splyce-train.json\n",
      "23:24:37 [INFO] Reading in JSON from 279 MLGColumbus2016-fnatic-vs-splyce-train.json\n",
      "23:24:37 [INFO] JSON data loaded, available in the `json` attribute to parser\n",
      "23:24:37 [INFO] Successfully parsed JSON output\n",
      "23:24:37 [INFO] Successfully returned JSON output\n",
      "23:24:43 [INFO] Go version>=1.14.0\n",
      "23:24:43 [INFO] Initialized CSGODemoParser with demofile D:\\EDAV\\280\\sk-vs-natusvincere-dust2.dem\n",
      "23:24:43 [INFO] Setting demo id to 280 sk-vs-natusvincere-dust2\n",
      "23:24:43 [INFO] Setting parse rate to 128\n",
      "23:24:43 [INFO] Setting trade time to 5\n",
      "23:24:43 [INFO] Setting buy style to hltv\n",
      "23:24:43 [INFO] Rollup damages set to False\n",
      "23:24:43 [INFO] Parse frames set to True\n",
      "23:24:43 [INFO] Running Golang parser from C:\\Users\\nguye\\anaconda3\\envs\\envTF24\\lib\\site-packages\\csgo-1.0-py3.7.egg\\csgo\\parser\\\n",
      "23:24:43 [INFO] Looking for file at D:\\EDAV\\280\\sk-vs-natusvincere-dust2.dem\n"
     ]
    },
    {
     "name": "stdout",
     "output_type": "stream",
     "text": [
      "parsing    280 sk-vs-natusvincere-dust2.dem\n"
     ]
    },
    {
     "name": "stderr",
     "output_type": "stream",
     "text": [
      "23:24:47 [INFO] Wrote demo parse output to 280 sk-vs-natusvincere-dust2.json\n",
      "23:24:47 [INFO] Reading in JSON from 280 sk-vs-natusvincere-dust2.json\n",
      "23:24:48 [INFO] JSON data loaded, available in the `json` attribute to parser\n",
      "23:24:48 [INFO] Successfully parsed JSON output\n",
      "23:24:48 [INFO] Successfully returned JSON output\n",
      "23:24:53 [INFO] Go version>=1.14.0\n",
      "23:24:53 [INFO] Initialized CSGODemoParser with demofile D:\\EDAV\\281\\big-vs-cloud9-inferno.dem\n",
      "23:24:53 [INFO] Setting demo id to 281 big-vs-cloud9-inferno\n",
      "23:24:53 [INFO] Setting parse rate to 128\n",
      "23:24:53 [INFO] Setting trade time to 5\n",
      "23:24:53 [INFO] Setting buy style to hltv\n",
      "23:24:53 [INFO] Rollup damages set to False\n",
      "23:24:53 [INFO] Parse frames set to True\n",
      "23:24:53 [INFO] Running Golang parser from C:\\Users\\nguye\\anaconda3\\envs\\envTF24\\lib\\site-packages\\csgo-1.0-py3.7.egg\\csgo\\parser\\\n",
      "23:24:53 [INFO] Looking for file at D:\\EDAV\\281\\big-vs-cloud9-inferno.dem\n"
     ]
    },
    {
     "name": "stdout",
     "output_type": "stream",
     "text": [
      "parsing    281 big-vs-cloud9-inferno.dem\n"
     ]
    },
    {
     "name": "stderr",
     "output_type": "stream",
     "text": [
      "23:25:00 [INFO] Wrote demo parse output to 281 big-vs-cloud9-inferno.json\n",
      "23:25:00 [INFO] Reading in JSON from 281 big-vs-cloud9-inferno.json\n",
      "23:25:01 [INFO] JSON data loaded, available in the `json` attribute to parser\n",
      "23:25:01 [INFO] Successfully parsed JSON output\n",
      "23:25:01 [INFO] Successfully returned JSON output\n",
      "23:25:10 [INFO] Go version>=1.14.0\n",
      "23:25:10 [INFO] Initialized CSGODemoParser with demofile D:\\EDAV\\282\\g2-vs-avangar-m3-overpass.dem\n",
      "23:25:10 [INFO] Setting demo id to 282 g2-vs-avangar-m3-overpass\n",
      "23:25:10 [INFO] Setting parse rate to 128\n",
      "23:25:10 [INFO] Setting trade time to 5\n",
      "23:25:10 [INFO] Setting buy style to hltv\n",
      "23:25:10 [INFO] Rollup damages set to False\n",
      "23:25:10 [INFO] Parse frames set to True\n",
      "23:25:10 [INFO] Running Golang parser from C:\\Users\\nguye\\anaconda3\\envs\\envTF24\\lib\\site-packages\\csgo-1.0-py3.7.egg\\csgo\\parser\\\n",
      "23:25:10 [INFO] Looking for file at D:\\EDAV\\282\\g2-vs-avangar-m3-overpass.dem\n"
     ]
    },
    {
     "name": "stdout",
     "output_type": "stream",
     "text": [
      "parsing    282 g2-vs-avangar-m3-overpass.dem\n"
     ]
    },
    {
     "name": "stderr",
     "output_type": "stream",
     "text": [
      "23:25:16 [INFO] Wrote demo parse output to 282 g2-vs-avangar-m3-overpass.json\n",
      "23:25:16 [INFO] Reading in JSON from 282 g2-vs-avangar-m3-overpass.json\n",
      "23:25:16 [INFO] JSON data loaded, available in the `json` attribute to parser\n",
      "23:25:16 [INFO] Successfully parsed JSON output\n",
      "23:25:16 [INFO] Successfully returned JSON output\n",
      "23:25:24 [INFO] Go version>=1.14.0\n",
      "23:25:24 [INFO] Initialized CSGODemoParser with demofile D:\\EDAV\\282\\g2-vs-avangar-m1-dust2.dem\n",
      "23:25:24 [INFO] Setting demo id to 282 g2-vs-avangar-m1-dust2\n",
      "23:25:24 [INFO] Setting parse rate to 128\n",
      "23:25:24 [INFO] Setting trade time to 5\n",
      "23:25:24 [INFO] Setting buy style to hltv\n",
      "23:25:24 [INFO] Rollup damages set to False\n",
      "23:25:24 [INFO] Parse frames set to True\n",
      "23:25:24 [INFO] Running Golang parser from C:\\Users\\nguye\\anaconda3\\envs\\envTF24\\lib\\site-packages\\csgo-1.0-py3.7.egg\\csgo\\parser\\\n",
      "23:25:24 [INFO] Looking for file at D:\\EDAV\\282\\g2-vs-avangar-m1-dust2.dem\n"
     ]
    },
    {
     "name": "stdout",
     "output_type": "stream",
     "text": [
      "parsing    282 g2-vs-avangar-m1-dust2.dem\n"
     ]
    },
    {
     "name": "stderr",
     "output_type": "stream",
     "text": [
      "23:25:29 [INFO] Wrote demo parse output to 282 g2-vs-avangar-m1-dust2.json\n",
      "23:25:29 [INFO] Reading in JSON from 282 g2-vs-avangar-m1-dust2.json\n",
      "23:25:30 [INFO] JSON data loaded, available in the `json` attribute to parser\n",
      "23:25:30 [INFO] Successfully parsed JSON output\n",
      "23:25:30 [INFO] Successfully returned JSON output\n",
      "23:25:38 [INFO] Go version>=1.14.0\n",
      "23:25:38 [INFO] Initialized CSGODemoParser with demofile D:\\EDAV\\282\\g2-vs-avangar-m2-inferno.dem\n",
      "23:25:38 [INFO] Setting demo id to 282 g2-vs-avangar-m2-inferno\n",
      "23:25:38 [INFO] Setting parse rate to 128\n",
      "23:25:38 [INFO] Setting trade time to 5\n",
      "23:25:38 [INFO] Setting buy style to hltv\n",
      "23:25:38 [INFO] Rollup damages set to False\n",
      "23:25:38 [INFO] Parse frames set to True\n",
      "23:25:38 [INFO] Running Golang parser from C:\\Users\\nguye\\anaconda3\\envs\\envTF24\\lib\\site-packages\\csgo-1.0-py3.7.egg\\csgo\\parser\\\n",
      "23:25:38 [INFO] Looking for file at D:\\EDAV\\282\\g2-vs-avangar-m2-inferno.dem\n"
     ]
    },
    {
     "name": "stdout",
     "output_type": "stream",
     "text": [
      "parsing    282 g2-vs-avangar-m2-inferno.dem\n"
     ]
    },
    {
     "name": "stderr",
     "output_type": "stream",
     "text": [
      "23:25:44 [INFO] Wrote demo parse output to 282 g2-vs-avangar-m2-inferno.json\n",
      "23:25:44 [INFO] Reading in JSON from 282 g2-vs-avangar-m2-inferno.json\n",
      "23:25:44 [INFO] JSON data loaded, available in the `json` attribute to parser\n",
      "23:25:44 [INFO] Successfully parsed JSON output\n",
      "23:25:44 [INFO] Successfully returned JSON output\n",
      "23:25:53 [INFO] Go version>=1.14.0\n",
      "23:25:53 [INFO] Initialized CSGODemoParser with demofile D:\\EDAV\\283\\faze-vs-vega-squadron-train.dem\n",
      "23:25:53 [INFO] Setting demo id to 283 faze-vs-vega-squadron-train\n",
      "23:25:53 [INFO] Setting parse rate to 128\n",
      "23:25:53 [INFO] Setting trade time to 5\n",
      "23:25:53 [INFO] Setting buy style to hltv\n",
      "23:25:53 [INFO] Rollup damages set to False\n",
      "23:25:53 [INFO] Parse frames set to True\n",
      "23:25:53 [INFO] Running Golang parser from C:\\Users\\nguye\\anaconda3\\envs\\envTF24\\lib\\site-packages\\csgo-1.0-py3.7.egg\\csgo\\parser\\\n",
      "23:25:53 [INFO] Looking for file at D:\\EDAV\\283\\faze-vs-vega-squadron-train.dem\n"
     ]
    },
    {
     "name": "stdout",
     "output_type": "stream",
     "text": [
      "parsing    283 faze-vs-vega-squadron-train.dem\n"
     ]
    },
    {
     "name": "stderr",
     "output_type": "stream",
     "text": [
      "23:25:56 [INFO] Wrote demo parse output to 283 faze-vs-vega-squadron-train.json\n",
      "23:25:56 [INFO] Reading in JSON from 283 faze-vs-vega-squadron-train.json\n",
      "23:25:57 [INFO] JSON data loaded, available in the `json` attribute to parser\n",
      "23:25:57 [INFO] Successfully parsed JSON output\n",
      "23:25:57 [INFO] Successfully returned JSON output\n",
      "23:26:01 [INFO] Go version>=1.14.0\n",
      "23:26:01 [INFO] Initialized CSGODemoParser with demofile D:\\EDAV\\284\\gambit-vs-faze-overpass.dem\n",
      "23:26:01 [INFO] Setting demo id to 284 gambit-vs-faze-overpass\n",
      "23:26:01 [INFO] Setting parse rate to 128\n",
      "23:26:01 [INFO] Setting trade time to 5\n",
      "23:26:01 [INFO] Setting buy style to hltv\n",
      "23:26:01 [INFO] Rollup damages set to False\n",
      "23:26:01 [INFO] Parse frames set to True\n",
      "23:26:01 [INFO] Running Golang parser from C:\\Users\\nguye\\anaconda3\\envs\\envTF24\\lib\\site-packages\\csgo-1.0-py3.7.egg\\csgo\\parser\\\n",
      "23:26:01 [INFO] Looking for file at D:\\EDAV\\284\\gambit-vs-faze-overpass.dem\n"
     ]
    },
    {
     "name": "stdout",
     "output_type": "stream",
     "text": [
      "parsing    284 gambit-vs-faze-overpass.dem\n"
     ]
    },
    {
     "name": "stderr",
     "output_type": "stream",
     "text": [
      "23:26:08 [INFO] Wrote demo parse output to 284 gambit-vs-faze-overpass.json\n",
      "23:26:08 [INFO] Reading in JSON from 284 gambit-vs-faze-overpass.json\n",
      "23:26:09 [INFO] JSON data loaded, available in the `json` attribute to parser\n",
      "23:26:09 [INFO] Successfully parsed JSON output\n",
      "23:26:09 [INFO] Successfully returned JSON output\n",
      "23:26:18 [INFO] Go version>=1.14.0\n",
      "23:26:18 [INFO] Initialized CSGODemoParser with demofile D:\\EDAV\\285\\ence-vs-renegades-inferno.dem\n",
      "23:26:18 [INFO] Setting demo id to 285 ence-vs-renegades-inferno\n",
      "23:26:18 [INFO] Setting parse rate to 128\n",
      "23:26:18 [INFO] Setting trade time to 5\n",
      "23:26:18 [INFO] Setting buy style to hltv\n",
      "23:26:18 [INFO] Rollup damages set to False\n",
      "23:26:18 [INFO] Parse frames set to True\n",
      "23:26:18 [INFO] Running Golang parser from C:\\Users\\nguye\\anaconda3\\envs\\envTF24\\lib\\site-packages\\csgo-1.0-py3.7.egg\\csgo\\parser\\\n",
      "23:26:18 [INFO] Looking for file at D:\\EDAV\\285\\ence-vs-renegades-inferno.dem\n"
     ]
    },
    {
     "name": "stdout",
     "output_type": "stream",
     "text": [
      "parsing    285 ence-vs-renegades-inferno.dem\n"
     ]
    },
    {
     "name": "stderr",
     "output_type": "stream",
     "text": [
      "23:26:24 [INFO] Wrote demo parse output to 285 ence-vs-renegades-inferno.json\n",
      "23:26:24 [INFO] Reading in JSON from 285 ence-vs-renegades-inferno.json\n",
      "23:26:24 [INFO] JSON data loaded, available in the `json` attribute to parser\n",
      "23:26:24 [INFO] Successfully parsed JSON output\n",
      "23:26:24 [INFO] Successfully returned JSON output\n",
      "23:26:34 [INFO] Go version>=1.14.0\n",
      "23:26:34 [INFO] Initialized CSGODemoParser with demofile D:\\EDAV\\286\\qb-fire-vs-g2-cache.dem\n",
      "23:26:34 [INFO] Setting demo id to 286 qb-fire-vs-g2-cache\n",
      "23:26:34 [INFO] Setting parse rate to 128\n",
      "23:26:34 [INFO] Setting trade time to 5\n",
      "23:26:34 [INFO] Setting buy style to hltv\n",
      "23:26:34 [INFO] Rollup damages set to False\n",
      "23:26:34 [INFO] Parse frames set to True\n",
      "23:26:34 [INFO] Running Golang parser from C:\\Users\\nguye\\anaconda3\\envs\\envTF24\\lib\\site-packages\\csgo-1.0-py3.7.egg\\csgo\\parser\\\n",
      "23:26:34 [INFO] Looking for file at D:\\EDAV\\286\\qb-fire-vs-g2-cache.dem\n"
     ]
    },
    {
     "name": "stdout",
     "output_type": "stream",
     "text": [
      "parsing    286 qb-fire-vs-g2-cache.dem\n"
     ]
    },
    {
     "name": "stderr",
     "output_type": "stream",
     "text": [
      "23:26:38 [INFO] Wrote demo parse output to 286 qb-fire-vs-g2-cache.json\n",
      "23:26:38 [INFO] Reading in JSON from 286 qb-fire-vs-g2-cache.json\n",
      "23:26:38 [INFO] JSON data loaded, available in the `json` attribute to parser\n",
      "23:26:38 [INFO] Successfully parsed JSON output\n",
      "23:26:38 [INFO] Successfully returned JSON output\n",
      "23:26:44 [INFO] Go version>=1.14.0\n",
      "23:26:44 [INFO] Initialized CSGODemoParser with demofile D:\\EDAV\\287\\liquid-vs-faze-nuke.dem\n",
      "23:26:44 [INFO] Setting demo id to 287 liquid-vs-faze-nuke\n",
      "23:26:44 [INFO] Setting parse rate to 128\n",
      "23:26:44 [INFO] Setting trade time to 5\n",
      "23:26:44 [INFO] Setting buy style to hltv\n",
      "23:26:44 [INFO] Rollup damages set to False\n",
      "23:26:44 [INFO] Parse frames set to True\n",
      "23:26:44 [INFO] Running Golang parser from C:\\Users\\nguye\\anaconda3\\envs\\envTF24\\lib\\site-packages\\csgo-1.0-py3.7.egg\\csgo\\parser\\\n",
      "23:26:44 [INFO] Looking for file at D:\\EDAV\\287\\liquid-vs-faze-nuke.dem\n"
     ]
    },
    {
     "name": "stdout",
     "output_type": "stream",
     "text": [
      "parsing    287 liquid-vs-faze-nuke.dem\n"
     ]
    },
    {
     "name": "stderr",
     "output_type": "stream",
     "text": [
      "23:26:52 [INFO] Wrote demo parse output to 287 liquid-vs-faze-nuke.json\n",
      "23:26:52 [INFO] Reading in JSON from 287 liquid-vs-faze-nuke.json\n",
      "23:26:52 [INFO] JSON data loaded, available in the `json` attribute to parser\n",
      "23:26:52 [INFO] Successfully parsed JSON output\n",
      "23:26:52 [INFO] Successfully returned JSON output\n",
      "23:27:05 [INFO] Go version>=1.14.0\n",
      "23:27:05 [INFO] Initialized CSGODemoParser with demofile D:\\EDAV\\288\\MLGColumbus2016-gambit-vs-clg-bo3-map1-cache.dem\n",
      "23:27:05 [INFO] Setting demo id to 288 MLGColumbus2016-gambit-vs-clg-bo3-map1-cache\n",
      "23:27:05 [INFO] Setting parse rate to 128\n",
      "23:27:05 [INFO] Setting trade time to 5\n",
      "23:27:05 [INFO] Setting buy style to hltv\n",
      "23:27:05 [INFO] Rollup damages set to False\n",
      "23:27:05 [INFO] Parse frames set to True\n",
      "23:27:05 [INFO] Running Golang parser from C:\\Users\\nguye\\anaconda3\\envs\\envTF24\\lib\\site-packages\\csgo-1.0-py3.7.egg\\csgo\\parser\\\n",
      "23:27:05 [INFO] Looking for file at D:\\EDAV\\288\\MLGColumbus2016-gambit-vs-clg-bo3-map1-cache.dem\n"
     ]
    },
    {
     "name": "stdout",
     "output_type": "stream",
     "text": [
      "parsing    288 MLGColumbus2016-gambit-vs-clg-bo3-map1-cache.dem\n"
     ]
    },
    {
     "name": "stderr",
     "output_type": "stream",
     "text": [
      "23:27:11 [INFO] Wrote demo parse output to 288 MLGColumbus2016-gambit-vs-clg-bo3-map1-cache.json\n",
      "23:27:11 [INFO] Reading in JSON from 288 MLGColumbus2016-gambit-vs-clg-bo3-map1-cache.json\n",
      "23:27:12 [INFO] JSON data loaded, available in the `json` attribute to parser\n",
      "23:27:12 [INFO] Successfully parsed JSON output\n",
      "23:27:12 [INFO] Successfully returned JSON output\n",
      "23:27:21 [INFO] Go version>=1.14.0\n",
      "23:27:21 [INFO] Initialized CSGODemoParser with demofile D:\\EDAV\\288\\MLGColumbus2016-gambit-vs-clg-bo3-map2-cobblestone.dem\n",
      "23:27:21 [INFO] Setting demo id to 288 MLGColumbus2016-gambit-vs-clg-bo3-map2-cobblestone\n",
      "23:27:21 [INFO] Setting parse rate to 128\n",
      "23:27:21 [INFO] Setting trade time to 5\n",
      "23:27:21 [INFO] Setting buy style to hltv\n",
      "23:27:21 [INFO] Rollup damages set to False\n",
      "23:27:21 [INFO] Parse frames set to True\n",
      "23:27:21 [INFO] Running Golang parser from C:\\Users\\nguye\\anaconda3\\envs\\envTF24\\lib\\site-packages\\csgo-1.0-py3.7.egg\\csgo\\parser\\\n",
      "23:27:21 [INFO] Looking for file at D:\\EDAV\\288\\MLGColumbus2016-gambit-vs-clg-bo3-map2-cobblestone.dem\n"
     ]
    },
    {
     "name": "stdout",
     "output_type": "stream",
     "text": [
      "parsing    288 MLGColumbus2016-gambit-vs-clg-bo3-map2-cobblestone.dem\n"
     ]
    },
    {
     "name": "stderr",
     "output_type": "stream",
     "text": [
      "23:27:27 [INFO] Wrote demo parse output to 288 MLGColumbus2016-gambit-vs-clg-bo3-map2-cobblestone.json\n",
      "23:27:27 [INFO] Reading in JSON from 288 MLGColumbus2016-gambit-vs-clg-bo3-map2-cobblestone.json\n",
      "23:27:27 [INFO] JSON data loaded, available in the `json` attribute to parser\n",
      "23:27:27 [INFO] Successfully parsed JSON output\n",
      "23:27:27 [INFO] Successfully returned JSON output\n",
      "23:27:35 [INFO] Go version>=1.14.0\n",
      "23:27:35 [INFO] Initialized CSGODemoParser with demofile D:\\EDAV\\288\\MLGColumbus2016-gambit-vs-clg-bo3-map3-mirage.dem\n",
      "23:27:35 [INFO] Setting demo id to 288 MLGColumbus2016-gambit-vs-clg-bo3-map3-mirage\n",
      "23:27:35 [INFO] Setting parse rate to 128\n",
      "23:27:35 [INFO] Setting trade time to 5\n",
      "23:27:35 [INFO] Setting buy style to hltv\n",
      "23:27:35 [INFO] Rollup damages set to False\n",
      "23:27:35 [INFO] Parse frames set to True\n",
      "23:27:35 [INFO] Running Golang parser from C:\\Users\\nguye\\anaconda3\\envs\\envTF24\\lib\\site-packages\\csgo-1.0-py3.7.egg\\csgo\\parser\\\n",
      "23:27:35 [INFO] Looking for file at D:\\EDAV\\288\\MLGColumbus2016-gambit-vs-clg-bo3-map3-mirage.dem\n"
     ]
    },
    {
     "name": "stdout",
     "output_type": "stream",
     "text": [
      "parsing    288 MLGColumbus2016-gambit-vs-clg-bo3-map3-mirage.dem\n"
     ]
    },
    {
     "name": "stderr",
     "output_type": "stream",
     "text": [
      "23:27:40 [INFO] Wrote demo parse output to 288 MLGColumbus2016-gambit-vs-clg-bo3-map3-mirage.json\n",
      "23:27:40 [INFO] Reading in JSON from 288 MLGColumbus2016-gambit-vs-clg-bo3-map3-mirage.json\n",
      "23:27:41 [INFO] JSON data loaded, available in the `json` attribute to parser\n",
      "23:27:41 [INFO] Successfully parsed JSON output\n",
      "23:27:41 [INFO] Successfully returned JSON output\n",
      "23:27:48 [INFO] Go version>=1.14.0\n",
      "23:27:48 [INFO] Initialized CSGODemoParser with demofile D:\\EDAV\\289\\faze-vs-mousesports-mirage.dem\n",
      "23:27:48 [INFO] Setting demo id to 289 faze-vs-mousesports-mirage\n",
      "23:27:48 [INFO] Setting parse rate to 128\n",
      "23:27:48 [INFO] Setting trade time to 5\n",
      "23:27:48 [INFO] Setting buy style to hltv\n",
      "23:27:48 [INFO] Rollup damages set to False\n",
      "23:27:48 [INFO] Parse frames set to True\n",
      "23:27:48 [INFO] Running Golang parser from C:\\Users\\nguye\\anaconda3\\envs\\envTF24\\lib\\site-packages\\csgo-1.0-py3.7.egg\\csgo\\parser\\\n",
      "23:27:48 [INFO] Looking for file at D:\\EDAV\\289\\faze-vs-mousesports-mirage.dem\n"
     ]
    },
    {
     "name": "stdout",
     "output_type": "stream",
     "text": [
      "parsing    289 faze-vs-mousesports-mirage.dem\n"
     ]
    },
    {
     "name": "stderr",
     "output_type": "stream",
     "text": [
      "23:27:53 [INFO] Wrote demo parse output to 289 faze-vs-mousesports-mirage.json\n",
      "23:27:53 [INFO] Reading in JSON from 289 faze-vs-mousesports-mirage.json\n",
      "23:27:54 [INFO] JSON data loaded, available in the `json` attribute to parser\n",
      "23:27:54 [INFO] Successfully parsed JSON output\n",
      "23:27:54 [INFO] Successfully returned JSON output\n",
      "23:28:01 [INFO] Go version>=1.14.0\n",
      "23:28:01 [INFO] Initialized CSGODemoParser with demofile D:\\EDAV\\290\\MLGColumbus2016-envyus-vs-gambit-cache.dem\n",
      "23:28:01 [INFO] Setting demo id to 290 MLGColumbus2016-envyus-vs-gambit-cache\n",
      "23:28:01 [INFO] Setting parse rate to 128\n",
      "23:28:01 [INFO] Setting trade time to 5\n",
      "23:28:01 [INFO] Setting buy style to hltv\n",
      "23:28:01 [INFO] Rollup damages set to False\n",
      "23:28:01 [INFO] Parse frames set to True\n",
      "23:28:01 [INFO] Running Golang parser from C:\\Users\\nguye\\anaconda3\\envs\\envTF24\\lib\\site-packages\\csgo-1.0-py3.7.egg\\csgo\\parser\\\n",
      "23:28:01 [INFO] Looking for file at D:\\EDAV\\290\\MLGColumbus2016-envyus-vs-gambit-cache.dem\n"
     ]
    },
    {
     "name": "stdout",
     "output_type": "stream",
     "text": [
      "parsing    290 MLGColumbus2016-envyus-vs-gambit-cache.dem\n"
     ]
    },
    {
     "name": "stderr",
     "output_type": "stream",
     "text": [
      "23:28:07 [INFO] Wrote demo parse output to 290 MLGColumbus2016-envyus-vs-gambit-cache.json\n",
      "23:28:07 [INFO] Reading in JSON from 290 MLGColumbus2016-envyus-vs-gambit-cache.json\n",
      "23:28:07 [INFO] JSON data loaded, available in the `json` attribute to parser\n",
      "23:28:07 [INFO] Successfully parsed JSON output\n",
      "23:28:07 [INFO] Successfully returned JSON output\n",
      "23:28:16 [INFO] Go version>=1.14.0\n",
      "23:28:16 [INFO] Initialized CSGODemoParser with demofile D:\\EDAV\\291\\DHW14-GroupB-penta-vs-cphwolves-dust2.dem\n",
      "23:28:16 [INFO] Setting demo id to 291 DHW14-GroupB-penta-vs-cphwolves-dust2\n",
      "23:28:16 [INFO] Setting parse rate to 128\n",
      "23:28:16 [INFO] Setting trade time to 5\n",
      "23:28:16 [INFO] Setting buy style to hltv\n",
      "23:28:16 [INFO] Rollup damages set to False\n",
      "23:28:16 [INFO] Parse frames set to True\n",
      "23:28:16 [INFO] Running Golang parser from C:\\Users\\nguye\\anaconda3\\envs\\envTF24\\lib\\site-packages\\csgo-1.0-py3.7.egg\\csgo\\parser\\\n",
      "23:28:16 [INFO] Looking for file at D:\\EDAV\\291\\DHW14-GroupB-penta-vs-cphwolves-dust2.dem\n"
     ]
    },
    {
     "name": "stdout",
     "output_type": "stream",
     "text": [
      "parsing    291 DHW14-GroupB-penta-vs-cphwolves-dust2.dem\n"
     ]
    },
    {
     "name": "stderr",
     "output_type": "stream",
     "text": [
      "23:28:18 [INFO] Wrote demo parse output to 291 DHW14-GroupB-penta-vs-cphwolves-dust2.json\n",
      "23:28:18 [INFO] Reading in JSON from 291 DHW14-GroupB-penta-vs-cphwolves-dust2.json\n",
      "23:28:18 [INFO] JSON data loaded, available in the `json` attribute to parser\n",
      "23:28:18 [INFO] Successfully parsed JSON output\n",
      "23:28:18 [INFO] Successfully returned JSON output\n",
      "23:28:19 [INFO] Go version>=1.14.0\n",
      "23:28:19 [INFO] Initialized CSGODemoParser with demofile D:\\EDAV\\292\\MLGColumbus2016-virtuspro-vs-g2-train.dem\n",
      "23:28:19 [INFO] Setting demo id to 292 MLGColumbus2016-virtuspro-vs-g2-train\n",
      "23:28:19 [INFO] Setting parse rate to 128\n",
      "23:28:19 [INFO] Setting trade time to 5\n",
      "23:28:19 [INFO] Setting buy style to hltv\n",
      "23:28:19 [INFO] Rollup damages set to False\n",
      "23:28:19 [INFO] Parse frames set to True\n",
      "23:28:19 [INFO] Running Golang parser from C:\\Users\\nguye\\anaconda3\\envs\\envTF24\\lib\\site-packages\\csgo-1.0-py3.7.egg\\csgo\\parser\\\n",
      "23:28:19 [INFO] Looking for file at D:\\EDAV\\292\\MLGColumbus2016-virtuspro-vs-g2-train.dem\n"
     ]
    },
    {
     "name": "stdout",
     "output_type": "stream",
     "text": [
      "parsing    292 MLGColumbus2016-virtuspro-vs-g2-train.dem\n"
     ]
    },
    {
     "name": "stderr",
     "output_type": "stream",
     "text": [
      "23:28:23 [INFO] Wrote demo parse output to 292 MLGColumbus2016-virtuspro-vs-g2-train.json\n",
      "23:28:23 [INFO] Reading in JSON from 292 MLGColumbus2016-virtuspro-vs-g2-train.json\n",
      "23:28:23 [INFO] JSON data loaded, available in the `json` attribute to parser\n",
      "23:28:23 [INFO] Successfully parsed JSON output\n",
      "23:28:23 [INFO] Successfully returned JSON output\n",
      "23:28:27 [INFO] Go version>=1.14.0\n",
      "23:28:27 [INFO] Initialized CSGODemoParser with demofile D:\\EDAV\\293\\ESLOneCologne-GroupA-epsilon-vs-nip-cobblestone.dem\n",
      "23:28:27 [INFO] Setting demo id to 293 ESLOneCologne-GroupA-epsilon-vs-nip-cobblestone\n",
      "23:28:27 [INFO] Setting parse rate to 128\n",
      "23:28:27 [INFO] Setting trade time to 5\n",
      "23:28:27 [INFO] Setting buy style to hltv\n",
      "23:28:27 [INFO] Rollup damages set to False\n",
      "23:28:27 [INFO] Parse frames set to True\n",
      "23:28:28 [INFO] Running Golang parser from C:\\Users\\nguye\\anaconda3\\envs\\envTF24\\lib\\site-packages\\csgo-1.0-py3.7.egg\\csgo\\parser\\\n",
      "23:28:28 [INFO] Looking for file at D:\\EDAV\\293\\ESLOneCologne-GroupA-epsilon-vs-nip-cobblestone.dem\n"
     ]
    },
    {
     "name": "stdout",
     "output_type": "stream",
     "text": [
      "parsing    293 ESLOneCologne-GroupA-epsilon-vs-nip-cobblestone.dem\n"
     ]
    },
    {
     "name": "stderr",
     "output_type": "stream",
     "text": [
      "23:28:29 [INFO] Wrote demo parse output to 293 ESLOneCologne-GroupA-epsilon-vs-nip-cobblestone.json\n",
      "23:28:29 [INFO] Reading in JSON from 293 ESLOneCologne-GroupA-epsilon-vs-nip-cobblestone.json\n",
      "23:28:29 [INFO] JSON data loaded, available in the `json` attribute to parser\n",
      "23:28:29 [INFO] Successfully parsed JSON output\n",
      "23:28:29 [INFO] Successfully returned JSON output\n",
      "23:28:30 [INFO] Go version>=1.14.0\n",
      "23:28:30 [INFO] Initialized CSGODemoParser with demofile D:\\EDAV\\294\\ence-vs-vitality-m2-dust2.dem\n",
      "23:28:30 [INFO] Setting demo id to 294 ence-vs-vitality-m2-dust2\n",
      "23:28:30 [INFO] Setting parse rate to 128\n",
      "23:28:31 [INFO] Setting trade time to 5\n",
      "23:28:31 [INFO] Setting buy style to hltv\n",
      "23:28:31 [INFO] Rollup damages set to False\n",
      "23:28:31 [INFO] Parse frames set to True\n",
      "23:28:31 [INFO] Running Golang parser from C:\\Users\\nguye\\anaconda3\\envs\\envTF24\\lib\\site-packages\\csgo-1.0-py3.7.egg\\csgo\\parser\\\n",
      "23:28:31 [INFO] Looking for file at D:\\EDAV\\294\\ence-vs-vitality-m2-dust2.dem\n"
     ]
    },
    {
     "name": "stdout",
     "output_type": "stream",
     "text": [
      "parsing    294 ence-vs-vitality-m2-dust2.dem\n"
     ]
    },
    {
     "name": "stderr",
     "output_type": "stream",
     "text": [
      "23:28:35 [INFO] Wrote demo parse output to 294 ence-vs-vitality-m2-dust2.json\n",
      "23:28:35 [INFO] Reading in JSON from 294 ence-vs-vitality-m2-dust2.json\n",
      "23:28:35 [INFO] JSON data loaded, available in the `json` attribute to parser\n",
      "23:28:35 [INFO] Successfully parsed JSON output\n",
      "23:28:35 [INFO] Successfully returned JSON output\n",
      "23:28:42 [INFO] Go version>=1.14.0\n",
      "23:28:42 [INFO] Initialized CSGODemoParser with demofile D:\\EDAV\\294\\ence-vs-vitality-m1-nuke.dem\n",
      "23:28:42 [INFO] Setting demo id to 294 ence-vs-vitality-m1-nuke\n",
      "23:28:42 [INFO] Setting parse rate to 128\n",
      "23:28:42 [INFO] Setting trade time to 5\n",
      "23:28:42 [INFO] Setting buy style to hltv\n",
      "23:28:42 [INFO] Rollup damages set to False\n",
      "23:28:42 [INFO] Parse frames set to True\n",
      "23:28:42 [INFO] Running Golang parser from C:\\Users\\nguye\\anaconda3\\envs\\envTF24\\lib\\site-packages\\csgo-1.0-py3.7.egg\\csgo\\parser\\\n",
      "23:28:42 [INFO] Looking for file at D:\\EDAV\\294\\ence-vs-vitality-m1-nuke.dem\n"
     ]
    },
    {
     "name": "stdout",
     "output_type": "stream",
     "text": [
      "parsing    294 ence-vs-vitality-m1-nuke.dem\n"
     ]
    },
    {
     "name": "stderr",
     "output_type": "stream",
     "text": [
      "23:28:47 [INFO] Wrote demo parse output to 294 ence-vs-vitality-m1-nuke.json\n",
      "23:28:47 [INFO] Reading in JSON from 294 ence-vs-vitality-m1-nuke.json\n",
      "23:28:47 [INFO] JSON data loaded, available in the `json` attribute to parser\n",
      "23:28:47 [INFO] Successfully parsed JSON output\n",
      "23:28:47 [INFO] Successfully returned JSON output\n",
      "23:28:54 [INFO] Go version>=1.14.0\n",
      "23:28:54 [INFO] Initialized CSGODemoParser with demofile D:\\EDAV\\295\\vitality-vs-avangar-m3-dust2.dem\n",
      "23:28:54 [INFO] Setting demo id to 295 vitality-vs-avangar-m3-dust2\n",
      "23:28:54 [INFO] Setting parse rate to 128\n",
      "23:28:54 [INFO] Setting trade time to 5\n",
      "23:28:54 [INFO] Setting buy style to hltv\n",
      "23:28:54 [INFO] Rollup damages set to False\n",
      "23:28:54 [INFO] Parse frames set to True\n",
      "23:28:54 [INFO] Running Golang parser from C:\\Users\\nguye\\anaconda3\\envs\\envTF24\\lib\\site-packages\\csgo-1.0-py3.7.egg\\csgo\\parser\\\n",
      "23:28:54 [INFO] Looking for file at D:\\EDAV\\295\\vitality-vs-avangar-m3-dust2.dem\n"
     ]
    },
    {
     "name": "stdout",
     "output_type": "stream",
     "text": [
      "parsing    295 vitality-vs-avangar-m3-dust2.dem\n"
     ]
    },
    {
     "name": "stderr",
     "output_type": "stream",
     "text": [
      "23:29:00 [INFO] Wrote demo parse output to 295 vitality-vs-avangar-m3-dust2.json\n",
      "23:29:00 [INFO] Reading in JSON from 295 vitality-vs-avangar-m3-dust2.json\n",
      "23:29:00 [INFO] JSON data loaded, available in the `json` attribute to parser\n",
      "23:29:00 [INFO] Successfully parsed JSON output\n",
      "23:29:00 [INFO] Successfully returned JSON output\n",
      "23:29:08 [INFO] Go version>=1.14.0\n",
      "23:29:08 [INFO] Initialized CSGODemoParser with demofile D:\\EDAV\\295\\vitality-vs-avangar-m1-mirage.dem\n",
      "23:29:08 [INFO] Setting demo id to 295 vitality-vs-avangar-m1-mirage\n",
      "23:29:08 [INFO] Setting parse rate to 128\n",
      "23:29:08 [INFO] Setting trade time to 5\n",
      "23:29:08 [INFO] Setting buy style to hltv\n",
      "23:29:08 [INFO] Rollup damages set to False\n",
      "23:29:08 [INFO] Parse frames set to True\n",
      "23:29:08 [INFO] Running Golang parser from C:\\Users\\nguye\\anaconda3\\envs\\envTF24\\lib\\site-packages\\csgo-1.0-py3.7.egg\\csgo\\parser\\\n",
      "23:29:08 [INFO] Looking for file at D:\\EDAV\\295\\vitality-vs-avangar-m1-mirage.dem\n"
     ]
    },
    {
     "name": "stdout",
     "output_type": "stream",
     "text": [
      "parsing    295 vitality-vs-avangar-m1-mirage.dem\n"
     ]
    },
    {
     "name": "stderr",
     "output_type": "stream",
     "text": [
      "23:29:13 [INFO] Wrote demo parse output to 295 vitality-vs-avangar-m1-mirage.json\n",
      "23:29:13 [INFO] Reading in JSON from 295 vitality-vs-avangar-m1-mirage.json\n",
      "23:29:14 [INFO] JSON data loaded, available in the `json` attribute to parser\n",
      "23:29:14 [INFO] Successfully parsed JSON output\n",
      "23:29:14 [INFO] Successfully returned JSON output\n",
      "23:29:21 [INFO] Go version>=1.14.0\n",
      "23:29:21 [INFO] Initialized CSGODemoParser with demofile D:\\EDAV\\295\\vitality-vs-avangar-m2-inferno.dem\n",
      "23:29:21 [INFO] Setting demo id to 295 vitality-vs-avangar-m2-inferno\n",
      "23:29:21 [INFO] Setting parse rate to 128\n",
      "23:29:21 [INFO] Setting trade time to 5\n",
      "23:29:21 [INFO] Setting buy style to hltv\n",
      "23:29:21 [INFO] Rollup damages set to False\n",
      "23:29:21 [INFO] Parse frames set to True\n",
      "23:29:21 [INFO] Running Golang parser from C:\\Users\\nguye\\anaconda3\\envs\\envTF24\\lib\\site-packages\\csgo-1.0-py3.7.egg\\csgo\\parser\\\n",
      "23:29:21 [INFO] Looking for file at D:\\EDAV\\295\\vitality-vs-avangar-m2-inferno.dem\n"
     ]
    },
    {
     "name": "stdout",
     "output_type": "stream",
     "text": [
      "parsing    295 vitality-vs-avangar-m2-inferno.dem\n"
     ]
    },
    {
     "name": "stderr",
     "output_type": "stream",
     "text": [
      "23:29:27 [INFO] Wrote demo parse output to 295 vitality-vs-avangar-m2-inferno.json\n",
      "23:29:27 [INFO] Reading in JSON from 295 vitality-vs-avangar-m2-inferno.json\n",
      "23:29:27 [INFO] JSON data loaded, available in the `json` attribute to parser\n",
      "23:29:27 [INFO] Successfully parsed JSON output\n",
      "23:29:27 [INFO] Successfully returned JSON output\n",
      "23:29:36 [INFO] Go version>=1.14.0\n",
      "23:29:36 [INFO] Initialized CSGODemoParser with demofile D:\\EDAV\\296\\penta-vs-north-mirage.dem\n",
      "23:29:36 [INFO] Setting demo id to 296 penta-vs-north-mirage\n",
      "23:29:36 [INFO] Setting parse rate to 128\n",
      "23:29:36 [INFO] Setting trade time to 5\n",
      "23:29:36 [INFO] Setting buy style to hltv\n",
      "23:29:36 [INFO] Rollup damages set to False\n",
      "23:29:36 [INFO] Parse frames set to True\n",
      "23:29:36 [INFO] Running Golang parser from C:\\Users\\nguye\\anaconda3\\envs\\envTF24\\lib\\site-packages\\csgo-1.0-py3.7.egg\\csgo\\parser\\\n",
      "23:29:36 [INFO] Looking for file at D:\\EDAV\\296\\penta-vs-north-mirage.dem\n"
     ]
    },
    {
     "name": "stdout",
     "output_type": "stream",
     "text": [
      "parsing    296 penta-vs-north-mirage.dem\n"
     ]
    },
    {
     "name": "stderr",
     "output_type": "stream",
     "text": [
      "23:29:40 [INFO] Wrote demo parse output to 296 penta-vs-north-mirage.json\n",
      "23:29:40 [INFO] Reading in JSON from 296 penta-vs-north-mirage.json\n",
      "23:29:41 [INFO] JSON data loaded, available in the `json` attribute to parser\n",
      "23:29:41 [INFO] Successfully parsed JSON output\n",
      "23:29:41 [INFO] Successfully returned JSON output\n",
      "23:29:47 [INFO] Go version>=1.14.0\n",
      "23:29:47 [INFO] Initialized CSGODemoParser with demofile D:\\EDAV\\297\\mousesports-vs-space-soldiers-mirage.dem\n",
      "23:29:47 [INFO] Setting demo id to 297 mousesports-vs-space-soldiers-mirage\n",
      "23:29:47 [INFO] Setting parse rate to 128\n",
      "23:29:47 [INFO] Setting trade time to 5\n",
      "23:29:47 [INFO] Setting buy style to hltv\n",
      "23:29:47 [INFO] Rollup damages set to False\n",
      "23:29:47 [INFO] Parse frames set to True\n",
      "23:29:47 [INFO] Running Golang parser from C:\\Users\\nguye\\anaconda3\\envs\\envTF24\\lib\\site-packages\\csgo-1.0-py3.7.egg\\csgo\\parser\\\n",
      "23:29:47 [INFO] Looking for file at D:\\EDAV\\297\\mousesports-vs-space-soldiers-mirage.dem\n"
     ]
    },
    {
     "name": "stdout",
     "output_type": "stream",
     "text": [
      "parsing    297 mousesports-vs-space-soldiers-mirage.dem\n"
     ]
    },
    {
     "name": "stderr",
     "output_type": "stream",
     "text": [
      "23:29:52 [INFO] Wrote demo parse output to 297 mousesports-vs-space-soldiers-mirage.json\n",
      "23:29:52 [INFO] Reading in JSON from 297 mousesports-vs-space-soldiers-mirage.json\n",
      "23:29:53 [INFO] JSON data loaded, available in the `json` attribute to parser\n",
      "23:29:53 [INFO] Successfully parsed JSON output\n",
      "23:29:53 [INFO] Successfully returned JSON output\n",
      "23:30:01 [INFO] Go version>=1.14.0\n",
      "23:30:01 [INFO] Initialized CSGODemoParser with demofile D:\\EDAV\\298\\ESLOneCologne2016-g2-vs-fnatic-train.dem\n",
      "23:30:01 [INFO] Setting demo id to 298 ESLOneCologne2016-g2-vs-fnatic-train\n",
      "23:30:01 [INFO] Setting parse rate to 128\n",
      "23:30:01 [INFO] Setting trade time to 5\n",
      "23:30:01 [INFO] Setting buy style to hltv\n",
      "23:30:01 [INFO] Rollup damages set to False\n",
      "23:30:01 [INFO] Parse frames set to True\n",
      "23:30:01 [INFO] Running Golang parser from C:\\Users\\nguye\\anaconda3\\envs\\envTF24\\lib\\site-packages\\csgo-1.0-py3.7.egg\\csgo\\parser\\\n",
      "23:30:01 [INFO] Looking for file at D:\\EDAV\\298\\ESLOneCologne2016-g2-vs-fnatic-train.dem\n"
     ]
    },
    {
     "name": "stdout",
     "output_type": "stream",
     "text": [
      "parsing    298 ESLOneCologne2016-g2-vs-fnatic-train.dem\n"
     ]
    },
    {
     "name": "stderr",
     "output_type": "stream",
     "text": [
      "23:30:06 [INFO] Wrote demo parse output to 298 ESLOneCologne2016-g2-vs-fnatic-train.json\n",
      "23:30:06 [INFO] Reading in JSON from 298 ESLOneCologne2016-g2-vs-fnatic-train.json\n",
      "23:30:07 [INFO] JSON data loaded, available in the `json` attribute to parser\n",
      "23:30:07 [INFO] Successfully parsed JSON output\n",
      "23:30:07 [INFO] Successfully returned JSON output\n",
      "23:30:16 [INFO] Go version>=1.14.0\n",
      "23:30:16 [INFO] Initialized CSGODemoParser with demofile D:\\EDAV\\299\\natus-vincere-vs-immortals-overpass.dem\n",
      "23:30:16 [INFO] Setting demo id to 299 natus-vincere-vs-immortals-overpass\n",
      "23:30:16 [INFO] Setting parse rate to 128\n",
      "23:30:16 [INFO] Setting trade time to 5\n",
      "23:30:16 [INFO] Setting buy style to hltv\n",
      "23:30:16 [INFO] Rollup damages set to False\n",
      "23:30:16 [INFO] Parse frames set to True\n",
      "23:30:16 [INFO] Running Golang parser from C:\\Users\\nguye\\anaconda3\\envs\\envTF24\\lib\\site-packages\\csgo-1.0-py3.7.egg\\csgo\\parser\\\n",
      "23:30:16 [INFO] Looking for file at D:\\EDAV\\299\\natus-vincere-vs-immortals-overpass.dem\n"
     ]
    },
    {
     "name": "stdout",
     "output_type": "stream",
     "text": [
      "parsing    299 natus-vincere-vs-immortals-overpass.dem\n"
     ]
    },
    {
     "name": "stderr",
     "output_type": "stream",
     "text": [
      "23:30:22 [INFO] Wrote demo parse output to 299 natus-vincere-vs-immortals-overpass.json\n",
      "23:30:22 [INFO] Reading in JSON from 299 natus-vincere-vs-immortals-overpass.json\n",
      "23:30:23 [INFO] JSON data loaded, available in the `json` attribute to parser\n",
      "23:30:23 [INFO] Successfully parsed JSON output\n",
      "23:30:23 [INFO] Successfully returned JSON output\n",
      "23:30:31 [INFO] Go version>=1.14.0\n",
      "23:30:31 [INFO] Initialized CSGODemoParser with demofile D:\\EDAV\\300\\ESLOneKatowice2015-Groups-envyus-vs-titan-cobblestone.dem\n",
      "23:30:31 [INFO] Setting demo id to 300 ESLOneKatowice2015-Groups-envyus-vs-titan-cobblestone\n",
      "23:30:31 [INFO] Setting parse rate to 128\n",
      "23:30:31 [INFO] Setting trade time to 5\n",
      "23:30:31 [INFO] Setting buy style to hltv\n",
      "23:30:31 [INFO] Rollup damages set to False\n",
      "23:30:31 [INFO] Parse frames set to True\n",
      "23:30:31 [INFO] Running Golang parser from C:\\Users\\nguye\\anaconda3\\envs\\envTF24\\lib\\site-packages\\csgo-1.0-py3.7.egg\\csgo\\parser\\\n",
      "23:30:31 [INFO] Looking for file at D:\\EDAV\\300\\ESLOneKatowice2015-Groups-envyus-vs-titan-cobblestone.dem\n"
     ]
    },
    {
     "name": "stdout",
     "output_type": "stream",
     "text": [
      "parsing    300 ESLOneKatowice2015-Groups-envyus-vs-titan-cobblestone.dem\n"
     ]
    },
    {
     "name": "stderr",
     "output_type": "stream",
     "text": [
      "23:30:33 [INFO] Wrote demo parse output to 300 ESLOneKatowice2015-Groups-envyus-vs-titan-cobblestone.json\n",
      "23:30:33 [INFO] Reading in JSON from 300 ESLOneKatowice2015-Groups-envyus-vs-titan-cobblestone.json\n",
      "23:30:33 [INFO] JSON data loaded, available in the `json` attribute to parser\n",
      "23:30:33 [INFO] Successfully parsed JSON output\n",
      "23:30:33 [INFO] Successfully returned JSON output\n",
      "23:30:34 [INFO] Go version>=1.14.0\n",
      "23:30:34 [INFO] Initialized CSGODemoParser with demofile D:\\EDAV\\301\\nip-vs-cr4zy-train.dem\n",
      "23:30:34 [INFO] Setting demo id to 301 nip-vs-cr4zy-train\n",
      "23:30:34 [INFO] Setting parse rate to 128\n",
      "23:30:34 [INFO] Setting trade time to 5\n",
      "23:30:34 [INFO] Setting buy style to hltv\n",
      "23:30:34 [INFO] Rollup damages set to False\n",
      "23:30:34 [INFO] Parse frames set to True\n",
      "23:30:34 [INFO] Running Golang parser from C:\\Users\\nguye\\anaconda3\\envs\\envTF24\\lib\\site-packages\\csgo-1.0-py3.7.egg\\csgo\\parser\\\n",
      "23:30:34 [INFO] Looking for file at D:\\EDAV\\301\\nip-vs-cr4zy-train.dem\n"
     ]
    },
    {
     "name": "stdout",
     "output_type": "stream",
     "text": [
      "parsing    301 nip-vs-cr4zy-train.dem\n"
     ]
    },
    {
     "name": "stderr",
     "output_type": "stream",
     "text": [
      "23:30:39 [INFO] Wrote demo parse output to 301 nip-vs-cr4zy-train.json\n",
      "23:30:39 [INFO] Reading in JSON from 301 nip-vs-cr4zy-train.json\n",
      "23:30:40 [INFO] JSON data loaded, available in the `json` attribute to parser\n",
      "23:30:40 [INFO] Successfully parsed JSON output\n",
      "23:30:40 [INFO] Successfully returned JSON output\n",
      "23:30:48 [INFO] Go version>=1.14.0\n",
      "23:30:48 [INFO] Initialized CSGODemoParser with demofile D:\\EDAV\\302\\nrg-vs-natus-vincere-m1-dust2.dem\n",
      "23:30:48 [INFO] Setting demo id to 302 nrg-vs-natus-vincere-m1-dust2\n",
      "23:30:48 [INFO] Setting parse rate to 128\n",
      "23:30:48 [INFO] Setting trade time to 5\n",
      "23:30:48 [INFO] Setting buy style to hltv\n",
      "23:30:48 [INFO] Rollup damages set to False\n",
      "23:30:48 [INFO] Parse frames set to True\n",
      "23:30:48 [INFO] Running Golang parser from C:\\Users\\nguye\\anaconda3\\envs\\envTF24\\lib\\site-packages\\csgo-1.0-py3.7.egg\\csgo\\parser\\\n",
      "23:30:48 [INFO] Looking for file at D:\\EDAV\\302\\nrg-vs-natus-vincere-m1-dust2.dem\n"
     ]
    },
    {
     "name": "stdout",
     "output_type": "stream",
     "text": [
      "parsing    302 nrg-vs-natus-vincere-m1-dust2.dem\n"
     ]
    },
    {
     "name": "stderr",
     "output_type": "stream",
     "text": [
      "23:30:54 [INFO] Wrote demo parse output to 302 nrg-vs-natus-vincere-m1-dust2.json\n",
      "23:30:54 [INFO] Reading in JSON from 302 nrg-vs-natus-vincere-m1-dust2.json\n",
      "23:30:54 [INFO] JSON data loaded, available in the `json` attribute to parser\n",
      "23:30:54 [INFO] Successfully parsed JSON output\n",
      "23:30:54 [INFO] Successfully returned JSON output\n",
      "23:31:04 [INFO] Go version>=1.14.0\n",
      "23:31:04 [INFO] Initialized CSGODemoParser with demofile D:\\EDAV\\302\\nrg-vs-natus-vincere-m2-mirage.dem\n",
      "23:31:04 [INFO] Setting demo id to 302 nrg-vs-natus-vincere-m2-mirage\n",
      "23:31:04 [INFO] Setting parse rate to 128\n",
      "23:31:04 [INFO] Setting trade time to 5\n",
      "23:31:04 [INFO] Setting buy style to hltv\n",
      "23:31:04 [INFO] Rollup damages set to False\n",
      "23:31:04 [INFO] Parse frames set to True\n",
      "23:31:04 [INFO] Running Golang parser from C:\\Users\\nguye\\anaconda3\\envs\\envTF24\\lib\\site-packages\\csgo-1.0-py3.7.egg\\csgo\\parser\\\n",
      "23:31:04 [INFO] Looking for file at D:\\EDAV\\302\\nrg-vs-natus-vincere-m2-mirage.dem\n"
     ]
    },
    {
     "name": "stdout",
     "output_type": "stream",
     "text": [
      "parsing    302 nrg-vs-natus-vincere-m2-mirage.dem\n"
     ]
    },
    {
     "name": "stderr",
     "output_type": "stream",
     "text": [
      "23:31:11 [INFO] Wrote demo parse output to 302 nrg-vs-natus-vincere-m2-mirage.json\n",
      "23:31:11 [INFO] Reading in JSON from 302 nrg-vs-natus-vincere-m2-mirage.json\n",
      "23:31:11 [INFO] JSON data loaded, available in the `json` attribute to parser\n",
      "23:31:11 [INFO] Successfully parsed JSON output\n",
      "23:31:11 [INFO] Successfully returned JSON output\n",
      "23:31:23 [INFO] Go version>=1.14.0\n",
      "23:31:23 [INFO] Initialized CSGODemoParser with demofile D:\\EDAV\\303\\astralis-vs-faze-m2-inferno.dem\n",
      "23:31:23 [INFO] Setting demo id to 303 astralis-vs-faze-m2-inferno\n",
      "23:31:23 [INFO] Setting parse rate to 128\n",
      "23:31:23 [INFO] Setting trade time to 5\n",
      "23:31:23 [INFO] Setting buy style to hltv\n",
      "23:31:23 [INFO] Rollup damages set to False\n",
      "23:31:23 [INFO] Parse frames set to True\n",
      "23:31:23 [INFO] Running Golang parser from C:\\Users\\nguye\\anaconda3\\envs\\envTF24\\lib\\site-packages\\csgo-1.0-py3.7.egg\\csgo\\parser\\\n",
      "23:31:23 [INFO] Looking for file at D:\\EDAV\\303\\astralis-vs-faze-m2-inferno.dem\n"
     ]
    },
    {
     "name": "stdout",
     "output_type": "stream",
     "text": [
      "parsing    303 astralis-vs-faze-m2-inferno.dem\n"
     ]
    },
    {
     "name": "stderr",
     "output_type": "stream",
     "text": [
      "23:31:28 [INFO] Wrote demo parse output to 303 astralis-vs-faze-m2-inferno.json\n",
      "23:31:28 [INFO] Reading in JSON from 303 astralis-vs-faze-m2-inferno.json\n",
      "23:31:29 [INFO] JSON data loaded, available in the `json` attribute to parser\n",
      "23:31:29 [INFO] Successfully parsed JSON output\n",
      "23:31:29 [INFO] Successfully returned JSON output\n",
      "23:31:37 [INFO] Go version>=1.14.0\n",
      "23:31:37 [INFO] Initialized CSGODemoParser with demofile D:\\EDAV\\303\\astralis-vs-faze-m1-mirage.dem\n",
      "23:31:37 [INFO] Setting demo id to 303 astralis-vs-faze-m1-mirage\n",
      "23:31:37 [INFO] Setting parse rate to 128\n",
      "23:31:37 [INFO] Setting trade time to 5\n",
      "23:31:37 [INFO] Setting buy style to hltv\n",
      "23:31:37 [INFO] Rollup damages set to False\n",
      "23:31:37 [INFO] Parse frames set to True\n",
      "23:31:37 [INFO] Running Golang parser from C:\\Users\\nguye\\anaconda3\\envs\\envTF24\\lib\\site-packages\\csgo-1.0-py3.7.egg\\csgo\\parser\\\n",
      "23:31:37 [INFO] Looking for file at D:\\EDAV\\303\\astralis-vs-faze-m1-mirage.dem\n"
     ]
    },
    {
     "name": "stdout",
     "output_type": "stream",
     "text": [
      "parsing    303 astralis-vs-faze-m1-mirage.dem\n"
     ]
    },
    {
     "name": "stderr",
     "output_type": "stream",
     "text": [
      "23:31:43 [INFO] Wrote demo parse output to 303 astralis-vs-faze-m1-mirage.json\n",
      "23:31:43 [INFO] Reading in JSON from 303 astralis-vs-faze-m1-mirage.json\n",
      "23:31:43 [INFO] JSON data loaded, available in the `json` attribute to parser\n",
      "23:31:43 [INFO] Successfully parsed JSON output\n",
      "23:31:43 [INFO] Successfully returned JSON output\n",
      "23:31:53 [INFO] Go version>=1.14.0\n",
      "23:31:53 [INFO] Initialized CSGODemoParser with demofile D:\\EDAV\\304\\vitality-vs-cloud9-mirage.dem\n",
      "23:31:53 [INFO] Setting demo id to 304 vitality-vs-cloud9-mirage\n",
      "23:31:53 [INFO] Setting parse rate to 128\n",
      "23:31:53 [INFO] Setting trade time to 5\n",
      "23:31:53 [INFO] Setting buy style to hltv\n",
      "23:31:53 [INFO] Rollup damages set to False\n",
      "23:31:53 [INFO] Parse frames set to True\n",
      "23:31:53 [INFO] Running Golang parser from C:\\Users\\nguye\\anaconda3\\envs\\envTF24\\lib\\site-packages\\csgo-1.0-py3.7.egg\\csgo\\parser\\\n",
      "23:31:53 [INFO] Looking for file at D:\\EDAV\\304\\vitality-vs-cloud9-mirage.dem\n"
     ]
    },
    {
     "name": "stdout",
     "output_type": "stream",
     "text": [
      "parsing    304 vitality-vs-cloud9-mirage.dem\n"
     ]
    },
    {
     "name": "stderr",
     "output_type": "stream",
     "text": [
      "23:31:58 [INFO] Wrote demo parse output to 304 vitality-vs-cloud9-mirage.json\n",
      "23:31:58 [INFO] Reading in JSON from 304 vitality-vs-cloud9-mirage.json\n",
      "23:31:59 [INFO] JSON data loaded, available in the `json` attribute to parser\n",
      "23:31:59 [INFO] Successfully parsed JSON output\n",
      "23:31:59 [INFO] Successfully returned JSON output\n",
      "23:32:08 [INFO] Go version>=1.14.0\n",
      "23:32:08 [INFO] Initialized CSGODemoParser with demofile D:\\EDAV\\305\\ence-vs-avangar-overpass.dem\n",
      "23:32:08 [INFO] Setting demo id to 305 ence-vs-avangar-overpass\n",
      "23:32:08 [INFO] Setting parse rate to 128\n",
      "23:32:08 [INFO] Setting trade time to 5\n",
      "23:32:08 [INFO] Setting buy style to hltv\n",
      "23:32:08 [INFO] Rollup damages set to False\n",
      "23:32:08 [INFO] Parse frames set to True\n",
      "23:32:08 [INFO] Running Golang parser from C:\\Users\\nguye\\anaconda3\\envs\\envTF24\\lib\\site-packages\\csgo-1.0-py3.7.egg\\csgo\\parser\\\n",
      "23:32:08 [INFO] Looking for file at D:\\EDAV\\305\\ence-vs-avangar-overpass.dem\n"
     ]
    },
    {
     "name": "stdout",
     "output_type": "stream",
     "text": [
      "parsing    305 ence-vs-avangar-overpass.dem\n"
     ]
    },
    {
     "name": "stderr",
     "output_type": "stream",
     "text": [
      "23:32:14 [INFO] Wrote demo parse output to 305 ence-vs-avangar-overpass.json\n",
      "23:32:14 [INFO] Reading in JSON from 305 ence-vs-avangar-overpass.json\n",
      "23:32:14 [INFO] JSON data loaded, available in the `json` attribute to parser\n",
      "23:32:14 [INFO] Successfully parsed JSON output\n",
      "23:32:14 [INFO] Successfully returned JSON output\n",
      "23:32:21 [INFO] Go version>=1.14.0\n",
      "23:32:21 [INFO] Initialized CSGODemoParser with demofile D:\\EDAV\\24\\winstrike-vs-cloud9-inferno.dem\n",
      "23:32:21 [INFO] Setting demo id to 24 winstrike-vs-cloud9-inferno\n",
      "23:32:21 [INFO] Setting parse rate to 128\n",
      "23:32:21 [INFO] Setting trade time to 5\n",
      "23:32:21 [INFO] Setting buy style to hltv\n",
      "23:32:21 [INFO] Rollup damages set to False\n",
      "23:32:21 [INFO] Parse frames set to True\n",
      "23:32:21 [INFO] Running Golang parser from C:\\Users\\nguye\\anaconda3\\envs\\envTF24\\lib\\site-packages\\csgo-1.0-py3.7.egg\\csgo\\parser\\\n",
      "23:32:21 [INFO] Looking for file at D:\\EDAV\\24\\winstrike-vs-cloud9-inferno.dem\n"
     ]
    },
    {
     "name": "stdout",
     "output_type": "stream",
     "text": [
      "parsing    24 winstrike-vs-cloud9-inferno.dem\n"
     ]
    },
    {
     "name": "stderr",
     "output_type": "stream",
     "text": [
      "23:32:27 [INFO] Wrote demo parse output to 24 winstrike-vs-cloud9-inferno.json\n",
      "23:32:27 [INFO] Reading in JSON from 24 winstrike-vs-cloud9-inferno.json\n",
      "23:32:28 [INFO] JSON data loaded, available in the `json` attribute to parser\n",
      "23:32:28 [INFO] Successfully parsed JSON output\n",
      "23:32:28 [INFO] Successfully returned JSON output\n",
      "23:32:40 [INFO] Go version>=1.14.0\n",
      "23:32:40 [INFO] Initialized CSGODemoParser with demofile D:\\EDAV\\351\\gambit-vs-g2-cache.dem\n",
      "23:32:40 [INFO] Setting demo id to 351 gambit-vs-g2-cache\n",
      "23:32:40 [INFO] Setting parse rate to 128\n",
      "23:32:40 [INFO] Setting trade time to 5\n",
      "23:32:40 [INFO] Setting buy style to hltv\n",
      "23:32:40 [INFO] Rollup damages set to False\n",
      "23:32:40 [INFO] Parse frames set to True\n",
      "23:32:40 [INFO] Running Golang parser from C:\\Users\\nguye\\anaconda3\\envs\\envTF24\\lib\\site-packages\\csgo-1.0-py3.7.egg\\csgo\\parser\\\n",
      "23:32:40 [INFO] Looking for file at D:\\EDAV\\351\\gambit-vs-g2-cache.dem\n"
     ]
    },
    {
     "name": "stdout",
     "output_type": "stream",
     "text": [
      "parsing    351 gambit-vs-g2-cache.dem\n"
     ]
    },
    {
     "name": "stderr",
     "output_type": "stream",
     "text": [
      "23:32:44 [INFO] Wrote demo parse output to 351 gambit-vs-g2-cache.json\n",
      "23:32:44 [INFO] Reading in JSON from 351 gambit-vs-g2-cache.json\n",
      "23:32:45 [INFO] JSON data loaded, available in the `json` attribute to parser\n",
      "23:32:45 [INFO] Successfully parsed JSON output\n",
      "23:32:45 [INFO] Successfully returned JSON output\n",
      "23:32:51 [INFO] Go version>=1.14.0\n",
      "23:32:51 [INFO] Initialized CSGODemoParser with demofile D:\\EDAV\\352\\ESLOneKatowice2015-GF-nip-vs-fnatic-cache.dem\n",
      "23:32:51 [INFO] Setting demo id to 352 ESLOneKatowice2015-GF-nip-vs-fnatic-cache\n",
      "23:32:51 [INFO] Setting parse rate to 128\n",
      "23:32:51 [INFO] Setting trade time to 5\n",
      "23:32:51 [INFO] Setting buy style to hltv\n",
      "23:32:51 [INFO] Rollup damages set to False\n",
      "23:32:51 [INFO] Parse frames set to True\n",
      "23:32:51 [INFO] Running Golang parser from C:\\Users\\nguye\\anaconda3\\envs\\envTF24\\lib\\site-packages\\csgo-1.0-py3.7.egg\\csgo\\parser\\\n",
      "23:32:51 [INFO] Looking for file at D:\\EDAV\\352\\ESLOneKatowice2015-GF-nip-vs-fnatic-cache.dem\n"
     ]
    },
    {
     "name": "stdout",
     "output_type": "stream",
     "text": [
      "parsing    352 ESLOneKatowice2015-GF-nip-vs-fnatic-cache.dem\n"
     ]
    },
    {
     "name": "stderr",
     "output_type": "stream",
     "text": [
      "23:32:53 [INFO] Wrote demo parse output to 352 ESLOneKatowice2015-GF-nip-vs-fnatic-cache.json\n",
      "23:32:53 [INFO] Reading in JSON from 352 ESLOneKatowice2015-GF-nip-vs-fnatic-cache.json\n",
      "23:32:53 [INFO] JSON data loaded, available in the `json` attribute to parser\n",
      "23:32:53 [INFO] Successfully parsed JSON output\n",
      "23:32:53 [INFO] Successfully returned JSON output\n",
      "23:32:54 [INFO] Go version>=1.14.0\n",
      "23:32:54 [INFO] Initialized CSGODemoParser with demofile D:\\EDAV\\352\\ESLOneKatowice2015-GF-fnatic-vs-nip-dust2.dem\n",
      "23:32:54 [INFO] Setting demo id to 352 ESLOneKatowice2015-GF-fnatic-vs-nip-dust2\n",
      "23:32:54 [INFO] Setting parse rate to 128\n",
      "23:32:54 [INFO] Setting trade time to 5\n",
      "23:32:54 [INFO] Setting buy style to hltv\n",
      "23:32:54 [INFO] Rollup damages set to False\n",
      "23:32:54 [INFO] Parse frames set to True\n",
      "23:32:54 [INFO] Running Golang parser from C:\\Users\\nguye\\anaconda3\\envs\\envTF24\\lib\\site-packages\\csgo-1.0-py3.7.egg\\csgo\\parser\\\n",
      "23:32:54 [INFO] Looking for file at D:\\EDAV\\352\\ESLOneKatowice2015-GF-fnatic-vs-nip-dust2.dem\n"
     ]
    },
    {
     "name": "stdout",
     "output_type": "stream",
     "text": [
      "parsing    352 ESLOneKatowice2015-GF-fnatic-vs-nip-dust2.dem\n"
     ]
    },
    {
     "name": "stderr",
     "output_type": "stream",
     "text": [
      "23:32:57 [INFO] Wrote demo parse output to 352 ESLOneKatowice2015-GF-fnatic-vs-nip-dust2.json\n",
      "23:32:57 [INFO] Reading in JSON from 352 ESLOneKatowice2015-GF-fnatic-vs-nip-dust2.json\n",
      "23:32:57 [INFO] JSON data loaded, available in the `json` attribute to parser\n",
      "23:32:57 [INFO] Successfully parsed JSON output\n",
      "23:32:57 [INFO] Successfully returned JSON output\n",
      "23:32:58 [INFO] Go version>=1.14.0\n",
      "23:32:58 [INFO] Initialized CSGODemoParser with demofile D:\\EDAV\\352\\ESLOneKatowice2015-GF-fnatic-vs-nip-inferno.dem\n",
      "23:32:58 [INFO] Setting demo id to 352 ESLOneKatowice2015-GF-fnatic-vs-nip-inferno\n",
      "23:32:58 [INFO] Setting parse rate to 128\n",
      "23:32:58 [INFO] Setting trade time to 5\n",
      "23:32:58 [INFO] Setting buy style to hltv\n",
      "23:32:58 [INFO] Rollup damages set to False\n",
      "23:32:58 [INFO] Parse frames set to True\n",
      "23:32:58 [INFO] Running Golang parser from C:\\Users\\nguye\\anaconda3\\envs\\envTF24\\lib\\site-packages\\csgo-1.0-py3.7.egg\\csgo\\parser\\\n",
      "23:32:58 [INFO] Looking for file at D:\\EDAV\\352\\ESLOneKatowice2015-GF-fnatic-vs-nip-inferno.dem\n"
     ]
    },
    {
     "name": "stdout",
     "output_type": "stream",
     "text": [
      "parsing    352 ESLOneKatowice2015-GF-fnatic-vs-nip-inferno.dem\n"
     ]
    },
    {
     "name": "stderr",
     "output_type": "stream",
     "text": [
      "23:33:00 [INFO] Wrote demo parse output to 352 ESLOneKatowice2015-GF-fnatic-vs-nip-inferno.json\n",
      "23:33:00 [INFO] Reading in JSON from 352 ESLOneKatowice2015-GF-fnatic-vs-nip-inferno.json\n",
      "23:33:00 [INFO] JSON data loaded, available in the `json` attribute to parser\n",
      "23:33:00 [INFO] Successfully parsed JSON output\n",
      "23:33:00 [INFO] Successfully returned JSON output\n",
      "23:33:02 [INFO] Go version>=1.14.0\n",
      "23:33:02 [INFO] Initialized CSGODemoParser with demofile D:\\EDAV\\353\\liquid-vs-natus-vincere-overpass.dem\n",
      "23:33:02 [INFO] Setting demo id to 353 liquid-vs-natus-vincere-overpass\n",
      "23:33:02 [INFO] Setting parse rate to 128\n",
      "23:33:02 [INFO] Setting trade time to 5\n",
      "23:33:02 [INFO] Setting buy style to hltv\n",
      "23:33:02 [INFO] Rollup damages set to False\n",
      "23:33:02 [INFO] Parse frames set to True\n",
      "23:33:02 [INFO] Running Golang parser from C:\\Users\\nguye\\anaconda3\\envs\\envTF24\\lib\\site-packages\\csgo-1.0-py3.7.egg\\csgo\\parser\\\n",
      "23:33:02 [INFO] Looking for file at D:\\EDAV\\353\\liquid-vs-natus-vincere-overpass.dem\n"
     ]
    },
    {
     "name": "stdout",
     "output_type": "stream",
     "text": [
      "parsing    353 liquid-vs-natus-vincere-overpass.dem\n"
     ]
    },
    {
     "name": "stderr",
     "output_type": "stream",
     "text": [
      "23:33:08 [INFO] Wrote demo parse output to 353 liquid-vs-natus-vincere-overpass.json\n",
      "23:33:08 [INFO] Reading in JSON from 353 liquid-vs-natus-vincere-overpass.json\n",
      "23:33:08 [INFO] JSON data loaded, available in the `json` attribute to parser\n",
      "23:33:08 [INFO] Successfully parsed JSON output\n",
      "23:33:08 [INFO] Successfully returned JSON output\n",
      "23:33:16 [INFO] Go version>=1.14.0\n",
      "23:33:16 [INFO] Initialized CSGODemoParser with demofile D:\\EDAV\\354\\liquid-vs-natus-vincere-m2-dust2.dem\n",
      "23:33:16 [INFO] Setting demo id to 354 liquid-vs-natus-vincere-m2-dust2\n",
      "23:33:16 [INFO] Setting parse rate to 128\n",
      "23:33:16 [INFO] Setting trade time to 5\n",
      "23:33:16 [INFO] Setting buy style to hltv\n",
      "23:33:16 [INFO] Rollup damages set to False\n",
      "23:33:16 [INFO] Parse frames set to True\n",
      "23:33:16 [INFO] Running Golang parser from C:\\Users\\nguye\\anaconda3\\envs\\envTF24\\lib\\site-packages\\csgo-1.0-py3.7.egg\\csgo\\parser\\\n",
      "23:33:16 [INFO] Looking for file at D:\\EDAV\\354\\liquid-vs-natus-vincere-m2-dust2.dem\n"
     ]
    },
    {
     "name": "stdout",
     "output_type": "stream",
     "text": [
      "parsing    354 liquid-vs-natus-vincere-m2-dust2.dem\n"
     ]
    },
    {
     "name": "stderr",
     "output_type": "stream",
     "text": [
      "23:33:21 [INFO] Wrote demo parse output to 354 liquid-vs-natus-vincere-m2-dust2.json\n",
      "23:33:21 [INFO] Reading in JSON from 354 liquid-vs-natus-vincere-m2-dust2.json\n",
      "23:33:22 [INFO] JSON data loaded, available in the `json` attribute to parser\n",
      "23:33:22 [INFO] Successfully parsed JSON output\n",
      "23:33:22 [INFO] Successfully returned JSON output\n",
      "23:33:30 [INFO] Go version>=1.14.0\n",
      "23:33:30 [INFO] Initialized CSGODemoParser with demofile D:\\EDAV\\354\\liquid-vs-natus-vincere-m1-mirage.dem\n",
      "23:33:30 [INFO] Setting demo id to 354 liquid-vs-natus-vincere-m1-mirage\n",
      "23:33:30 [INFO] Setting parse rate to 128\n",
      "23:33:30 [INFO] Setting trade time to 5\n",
      "23:33:30 [INFO] Setting buy style to hltv\n",
      "23:33:30 [INFO] Rollup damages set to False\n",
      "23:33:30 [INFO] Parse frames set to True\n",
      "23:33:30 [INFO] Running Golang parser from C:\\Users\\nguye\\anaconda3\\envs\\envTF24\\lib\\site-packages\\csgo-1.0-py3.7.egg\\csgo\\parser\\\n",
      "23:33:30 [INFO] Looking for file at D:\\EDAV\\354\\liquid-vs-natus-vincere-m1-mirage.dem\n"
     ]
    },
    {
     "name": "stdout",
     "output_type": "stream",
     "text": [
      "parsing    354 liquid-vs-natus-vincere-m1-mirage.dem\n"
     ]
    },
    {
     "name": "stderr",
     "output_type": "stream",
     "text": [
      "23:33:36 [INFO] Wrote demo parse output to 354 liquid-vs-natus-vincere-m1-mirage.json\n",
      "23:33:36 [INFO] Reading in JSON from 354 liquid-vs-natus-vincere-m1-mirage.json\n",
      "23:33:37 [INFO] JSON data loaded, available in the `json` attribute to parser\n",
      "23:33:37 [INFO] Successfully parsed JSON output\n",
      "23:33:37 [INFO] Successfully returned JSON output\n",
      "23:33:47 [INFO] Go version>=1.14.0\n",
      "23:33:47 [INFO] Initialized CSGODemoParser with demofile D:\\EDAV\\355\\003105523418880016535_1142020467_1_flipsid3_vs_mousesports_overpass.dem\n",
      "23:33:47 [INFO] Setting demo id to 355 003105523418880016535_1142020467_1_flipsid3_vs_mousesports_overpass\n",
      "23:33:47 [INFO] Setting parse rate to 128\n",
      "23:33:47 [INFO] Setting trade time to 5\n",
      "23:33:47 [INFO] Setting buy style to hltv\n",
      "23:33:47 [INFO] Rollup damages set to False\n",
      "23:33:47 [INFO] Parse frames set to True\n",
      "23:33:47 [INFO] Running Golang parser from C:\\Users\\nguye\\anaconda3\\envs\\envTF24\\lib\\site-packages\\csgo-1.0-py3.7.egg\\csgo\\parser\\\n",
      "23:33:47 [INFO] Looking for file at D:\\EDAV\\355\\003105523418880016535_1142020467_1_flipsid3_vs_mousesports_overpass.dem\n"
     ]
    },
    {
     "name": "stdout",
     "output_type": "stream",
     "text": [
      "parsing    355 003105523418880016535_1142020467_1_flipsid3_vs_mousesports_overpass.dem\n"
     ]
    },
    {
     "name": "stderr",
     "output_type": "stream",
     "text": [
      "23:33:53 [INFO] Wrote demo parse output to 355 003105523418880016535_1142020467_1_flipsid3_vs_mousesports_overpass.json\n",
      "23:33:53 [INFO] Reading in JSON from 355 003105523418880016535_1142020467_1_flipsid3_vs_mousesports_overpass.json\n",
      "23:33:53 [INFO] JSON data loaded, available in the `json` attribute to parser\n",
      "23:33:53 [INFO] Successfully parsed JSON output\n",
      "23:33:53 [INFO] Successfully returned JSON output\n",
      "23:34:01 [INFO] Go version>=1.14.0\n",
      "23:34:01 [INFO] Initialized CSGODemoParser with demofile D:\\EDAV\\356\\mousesports-vs-cloud9-train.dem\n",
      "23:34:01 [INFO] Setting demo id to 356 mousesports-vs-cloud9-train\n",
      "23:34:01 [INFO] Setting parse rate to 128\n",
      "23:34:01 [INFO] Setting trade time to 5\n",
      "23:34:01 [INFO] Setting buy style to hltv\n",
      "23:34:01 [INFO] Rollup damages set to False\n",
      "23:34:01 [INFO] Parse frames set to True\n",
      "23:34:01 [INFO] Running Golang parser from C:\\Users\\nguye\\anaconda3\\envs\\envTF24\\lib\\site-packages\\csgo-1.0-py3.7.egg\\csgo\\parser\\\n",
      "23:34:01 [INFO] Looking for file at D:\\EDAV\\356\\mousesports-vs-cloud9-train.dem\n"
     ]
    },
    {
     "name": "stdout",
     "output_type": "stream",
     "text": [
      "parsing    356 mousesports-vs-cloud9-train.dem\n"
     ]
    },
    {
     "name": "stderr",
     "output_type": "stream",
     "text": [
      "23:34:06 [INFO] Wrote demo parse output to 356 mousesports-vs-cloud9-train.json\n",
      "23:34:06 [INFO] Reading in JSON from 356 mousesports-vs-cloud9-train.json\n",
      "23:34:06 [INFO] JSON data loaded, available in the `json` attribute to parser\n",
      "23:34:06 [INFO] Successfully parsed JSON output\n",
      "23:34:06 [INFO] Successfully returned JSON output\n",
      "23:34:15 [INFO] Go version>=1.14.0\n",
      "23:34:15 [INFO] Initialized CSGODemoParser with demofile D:\\EDAV\\357\\liquid-vs-mousesports-m2-dust2.dem\n",
      "23:34:15 [INFO] Setting demo id to 357 liquid-vs-mousesports-m2-dust2\n",
      "23:34:15 [INFO] Setting parse rate to 128\n",
      "23:34:15 [INFO] Setting trade time to 5\n",
      "23:34:15 [INFO] Setting buy style to hltv\n",
      "23:34:15 [INFO] Rollup damages set to False\n",
      "23:34:15 [INFO] Parse frames set to True\n",
      "23:34:15 [INFO] Running Golang parser from C:\\Users\\nguye\\anaconda3\\envs\\envTF24\\lib\\site-packages\\csgo-1.0-py3.7.egg\\csgo\\parser\\\n",
      "23:34:15 [INFO] Looking for file at D:\\EDAV\\357\\liquid-vs-mousesports-m2-dust2.dem\n"
     ]
    },
    {
     "name": "stdout",
     "output_type": "stream",
     "text": [
      "parsing    357 liquid-vs-mousesports-m2-dust2.dem\n"
     ]
    },
    {
     "name": "stderr",
     "output_type": "stream",
     "text": [
      "23:34:22 [INFO] Wrote demo parse output to 357 liquid-vs-mousesports-m2-dust2.json\n",
      "23:34:22 [INFO] Reading in JSON from 357 liquid-vs-mousesports-m2-dust2.json\n",
      "23:34:23 [INFO] JSON data loaded, available in the `json` attribute to parser\n",
      "23:34:23 [INFO] Successfully parsed JSON output\n",
      "23:34:23 [INFO] Successfully returned JSON output\n",
      "23:34:36 [INFO] Go version>=1.14.0\n",
      "23:34:36 [INFO] Initialized CSGODemoParser with demofile D:\\EDAV\\357\\liquid-vs-mousesports-m1-mirage.dem\n",
      "23:34:36 [INFO] Setting demo id to 357 liquid-vs-mousesports-m1-mirage\n",
      "23:34:36 [INFO] Setting parse rate to 128\n",
      "23:34:36 [INFO] Setting trade time to 5\n",
      "23:34:36 [INFO] Setting buy style to hltv\n",
      "23:34:36 [INFO] Rollup damages set to False\n",
      "23:34:36 [INFO] Parse frames set to True\n",
      "23:34:36 [INFO] Running Golang parser from C:\\Users\\nguye\\anaconda3\\envs\\envTF24\\lib\\site-packages\\csgo-1.0-py3.7.egg\\csgo\\parser\\\n",
      "23:34:36 [INFO] Looking for file at D:\\EDAV\\357\\liquid-vs-mousesports-m1-mirage.dem\n"
     ]
    },
    {
     "name": "stdout",
     "output_type": "stream",
     "text": [
      "parsing    357 liquid-vs-mousesports-m1-mirage.dem\n"
     ]
    },
    {
     "name": "stderr",
     "output_type": "stream",
     "text": [
      "23:34:43 [INFO] Wrote demo parse output to 357 liquid-vs-mousesports-m1-mirage.json\n",
      "23:34:43 [INFO] Reading in JSON from 357 liquid-vs-mousesports-m1-mirage.json\n",
      "23:34:43 [INFO] JSON data loaded, available in the `json` attribute to parser\n",
      "23:34:43 [INFO] Successfully parsed JSON output\n",
      "23:34:43 [INFO] Successfully returned JSON output\n",
      "23:34:54 [INFO] Go version>=1.14.0\n",
      "23:34:54 [INFO] Initialized CSGODemoParser with demofile D:\\EDAV\\358\\ESLOneCologne-GroupA-nip-vs-hellraisers-overpass.dem\n",
      "23:34:54 [INFO] Setting demo id to 358 ESLOneCologne-GroupA-nip-vs-hellraisers-overpass\n",
      "23:34:54 [INFO] Setting parse rate to 128\n",
      "23:34:54 [INFO] Setting trade time to 5\n",
      "23:34:54 [INFO] Setting buy style to hltv\n",
      "23:34:54 [INFO] Rollup damages set to False\n",
      "23:34:54 [INFO] Parse frames set to True\n",
      "23:34:54 [INFO] Running Golang parser from C:\\Users\\nguye\\anaconda3\\envs\\envTF24\\lib\\site-packages\\csgo-1.0-py3.7.egg\\csgo\\parser\\\n",
      "23:34:54 [INFO] Looking for file at D:\\EDAV\\358\\ESLOneCologne-GroupA-nip-vs-hellraisers-overpass.dem\n"
     ]
    },
    {
     "name": "stdout",
     "output_type": "stream",
     "text": [
      "parsing    358 ESLOneCologne-GroupA-nip-vs-hellraisers-overpass.dem\n"
     ]
    },
    {
     "name": "stderr",
     "output_type": "stream",
     "text": [
      "23:34:57 [INFO] Wrote demo parse output to 358 ESLOneCologne-GroupA-nip-vs-hellraisers-overpass.json\n",
      "23:34:57 [INFO] Reading in JSON from 358 ESLOneCologne-GroupA-nip-vs-hellraisers-overpass.json\n",
      "23:34:57 [INFO] JSON data loaded, available in the `json` attribute to parser\n",
      "23:34:57 [INFO] Successfully parsed JSON output\n",
      "23:34:57 [INFO] Successfully returned JSON output\n",
      "23:34:58 [INFO] Go version>=1.14.0\n",
      "23:34:58 [INFO] Initialized CSGODemoParser with demofile D:\\EDAV\\359\\virtuspro-vs-cloud9-train.dem\n",
      "23:34:58 [INFO] Setting demo id to 359 virtuspro-vs-cloud9-train\n",
      "23:34:58 [INFO] Setting parse rate to 128\n",
      "23:34:58 [INFO] Setting trade time to 5\n",
      "23:34:58 [INFO] Setting buy style to hltv\n",
      "23:34:58 [INFO] Rollup damages set to False\n",
      "23:34:58 [INFO] Parse frames set to True\n",
      "23:34:58 [INFO] Running Golang parser from C:\\Users\\nguye\\anaconda3\\envs\\envTF24\\lib\\site-packages\\csgo-1.0-py3.7.egg\\csgo\\parser\\\n",
      "23:34:58 [INFO] Looking for file at D:\\EDAV\\359\\virtuspro-vs-cloud9-train.dem\n"
     ]
    },
    {
     "name": "stdout",
     "output_type": "stream",
     "text": [
      "parsing    359 virtuspro-vs-cloud9-train.dem\n"
     ]
    },
    {
     "name": "stderr",
     "output_type": "stream",
     "text": [
      "23:35:03 [INFO] Wrote demo parse output to 359 virtuspro-vs-cloud9-train.json\n",
      "23:35:03 [INFO] Reading in JSON from 359 virtuspro-vs-cloud9-train.json\n",
      "23:35:04 [INFO] JSON data loaded, available in the `json` attribute to parser\n",
      "23:35:04 [INFO] Successfully parsed JSON output\n",
      "23:35:04 [INFO] Successfully returned JSON output\n",
      "23:35:11 [INFO] Go version>=1.14.0\n",
      "23:35:11 [INFO] Initialized CSGODemoParser with demofile D:\\EDAV\\360\\003105386725103370542_0742292761_1_envyus_vs_dignitas_cobblestone.dem\n",
      "23:35:11 [INFO] Setting demo id to 360 003105386725103370542_0742292761_1_envyus_vs_dignitas_cobblestone\n",
      "23:35:11 [INFO] Setting parse rate to 128\n",
      "23:35:11 [INFO] Setting trade time to 5\n",
      "23:35:11 [INFO] Setting buy style to hltv\n",
      "23:35:11 [INFO] Rollup damages set to False\n",
      "23:35:11 [INFO] Parse frames set to True\n",
      "23:35:11 [INFO] Running Golang parser from C:\\Users\\nguye\\anaconda3\\envs\\envTF24\\lib\\site-packages\\csgo-1.0-py3.7.egg\\csgo\\parser\\\n",
      "23:35:11 [INFO] Looking for file at D:\\EDAV\\360\\003105386725103370542_0742292761_1_envyus_vs_dignitas_cobblestone.dem\n"
     ]
    },
    {
     "name": "stdout",
     "output_type": "stream",
     "text": [
      "parsing    360 003105386725103370542_0742292761_1_envyus_vs_dignitas_cobblestone.dem\n"
     ]
    },
    {
     "name": "stderr",
     "output_type": "stream",
     "text": [
      "23:35:16 [INFO] Wrote demo parse output to 360 003105386725103370542_0742292761_1_envyus_vs_dignitas_cobblestone.json\n",
      "23:35:16 [INFO] Reading in JSON from 360 003105386725103370542_0742292761_1_envyus_vs_dignitas_cobblestone.json\n",
      "23:35:16 [INFO] JSON data loaded, available in the `json` attribute to parser\n",
      "23:35:16 [INFO] Successfully parsed JSON output\n",
      "23:35:16 [INFO] Successfully returned JSON output\n",
      "23:35:22 [INFO] Go version>=1.14.0\n",
      "23:35:22 [INFO] Initialized CSGODemoParser with demofile D:\\EDAV\\361\\EMSKato-GroupC-dignitas-vs-ibuypower-nuke.dem\n",
      "23:35:22 [INFO] Setting demo id to 361 EMSKato-GroupC-dignitas-vs-ibuypower-nuke\n",
      "23:35:22 [INFO] Setting parse rate to 128\n",
      "23:35:22 [INFO] Setting trade time to 5\n",
      "23:35:22 [INFO] Setting buy style to hltv\n",
      "23:35:22 [INFO] Rollup damages set to False\n",
      "23:35:22 [INFO] Parse frames set to True\n",
      "23:35:22 [INFO] Running Golang parser from C:\\Users\\nguye\\anaconda3\\envs\\envTF24\\lib\\site-packages\\csgo-1.0-py3.7.egg\\csgo\\parser\\\n",
      "23:35:22 [INFO] Looking for file at D:\\EDAV\\361\\EMSKato-GroupC-dignitas-vs-ibuypower-nuke.dem\n"
     ]
    },
    {
     "name": "stdout",
     "output_type": "stream",
     "text": [
      "parsing    361 EMSKato-GroupC-dignitas-vs-ibuypower-nuke.dem\n"
     ]
    },
    {
     "name": "stderr",
     "output_type": "stream",
     "text": [
      "23:35:24 [INFO] Wrote demo parse output to 361 EMSKato-GroupC-dignitas-vs-ibuypower-nuke.json\n",
      "23:35:24 [INFO] Reading in JSON from 361 EMSKato-GroupC-dignitas-vs-ibuypower-nuke.json\n",
      "23:35:24 [INFO] JSON data loaded, available in the `json` attribute to parser\n",
      "23:35:24 [INFO] Successfully parsed JSON output\n",
      "23:35:24 [INFO] Successfully returned JSON output\n",
      "23:35:25 [INFO] Go version>=1.14.0\n",
      "23:35:25 [INFO] Initialized CSGODemoParser with demofile D:\\EDAV\\362\\nrg-vs-astralis-m2-overpass.dem\n",
      "23:35:25 [INFO] Setting demo id to 362 nrg-vs-astralis-m2-overpass\n",
      "23:35:25 [INFO] Setting parse rate to 128\n",
      "23:35:25 [INFO] Setting trade time to 5\n",
      "23:35:25 [INFO] Setting buy style to hltv\n",
      "23:35:25 [INFO] Rollup damages set to False\n",
      "23:35:25 [INFO] Parse frames set to True\n",
      "23:35:25 [INFO] Running Golang parser from C:\\Users\\nguye\\anaconda3\\envs\\envTF24\\lib\\site-packages\\csgo-1.0-py3.7.egg\\csgo\\parser\\\n",
      "23:35:25 [INFO] Looking for file at D:\\EDAV\\362\\nrg-vs-astralis-m2-overpass.dem\n"
     ]
    },
    {
     "name": "stdout",
     "output_type": "stream",
     "text": [
      "parsing    362 nrg-vs-astralis-m2-overpass.dem\n"
     ]
    },
    {
     "name": "stderr",
     "output_type": "stream",
     "text": [
      "23:35:32 [INFO] Wrote demo parse output to 362 nrg-vs-astralis-m2-overpass.json\n",
      "23:35:32 [INFO] Reading in JSON from 362 nrg-vs-astralis-m2-overpass.json\n",
      "23:35:32 [INFO] JSON data loaded, available in the `json` attribute to parser\n",
      "23:35:32 [INFO] Successfully parsed JSON output\n",
      "23:35:32 [INFO] Successfully returned JSON output\n",
      "23:35:40 [INFO] Go version>=1.14.0\n",
      "23:35:40 [INFO] Initialized CSGODemoParser with demofile D:\\EDAV\\362\\nrg-vs-astralis-m1-train.dem\n",
      "23:35:40 [INFO] Setting demo id to 362 nrg-vs-astralis-m1-train\n",
      "23:35:40 [INFO] Setting parse rate to 128\n",
      "23:35:40 [INFO] Setting trade time to 5\n",
      "23:35:40 [INFO] Setting buy style to hltv\n",
      "23:35:40 [INFO] Rollup damages set to False\n",
      "23:35:40 [INFO] Parse frames set to True\n",
      "23:35:40 [INFO] Running Golang parser from C:\\Users\\nguye\\anaconda3\\envs\\envTF24\\lib\\site-packages\\csgo-1.0-py3.7.egg\\csgo\\parser\\\n",
      "23:35:40 [INFO] Looking for file at D:\\EDAV\\362\\nrg-vs-astralis-m1-train.dem\n"
     ]
    },
    {
     "name": "stdout",
     "output_type": "stream",
     "text": [
      "parsing    362 nrg-vs-astralis-m1-train.dem\n"
     ]
    },
    {
     "name": "stderr",
     "output_type": "stream",
     "text": [
      "23:35:45 [INFO] Wrote demo parse output to 362 nrg-vs-astralis-m1-train.json\n",
      "23:35:45 [INFO] Reading in JSON from 362 nrg-vs-astralis-m1-train.json\n",
      "23:35:46 [INFO] JSON data loaded, available in the `json` attribute to parser\n",
      "23:35:46 [INFO] Successfully parsed JSON output\n",
      "23:35:46 [INFO] Successfully returned JSON output\n",
      "23:35:54 [INFO] Go version>=1.14.0\n",
      "23:35:54 [INFO] Initialized CSGODemoParser with demofile D:\\EDAV\\363\\MLGColumbus2016-astralis-vs-gambit-train.dem\n",
      "23:35:54 [INFO] Setting demo id to 363 MLGColumbus2016-astralis-vs-gambit-train\n",
      "23:35:54 [INFO] Setting parse rate to 128\n",
      "23:35:54 [INFO] Setting trade time to 5\n",
      "23:35:54 [INFO] Setting buy style to hltv\n",
      "23:35:54 [INFO] Rollup damages set to False\n",
      "23:35:54 [INFO] Parse frames set to True\n",
      "23:35:54 [INFO] Running Golang parser from C:\\Users\\nguye\\anaconda3\\envs\\envTF24\\lib\\site-packages\\csgo-1.0-py3.7.egg\\csgo\\parser\\\n",
      "23:35:54 [INFO] Looking for file at D:\\EDAV\\363\\MLGColumbus2016-astralis-vs-gambit-train.dem\n"
     ]
    },
    {
     "name": "stdout",
     "output_type": "stream",
     "text": [
      "parsing    363 MLGColumbus2016-astralis-vs-gambit-train.dem\n"
     ]
    },
    {
     "name": "stderr",
     "output_type": "stream",
     "text": [
      "23:35:59 [INFO] Wrote demo parse output to 363 MLGColumbus2016-astralis-vs-gambit-train.json\n",
      "23:35:59 [INFO] Reading in JSON from 363 MLGColumbus2016-astralis-vs-gambit-train.json\n",
      "23:36:00 [INFO] JSON data loaded, available in the `json` attribute to parser\n",
      "23:36:00 [INFO] Successfully parsed JSON output\n",
      "23:36:00 [INFO] Successfully returned JSON output\n",
      "23:36:08 [INFO] Go version>=1.14.0\n",
      "23:36:08 [INFO] Initialized CSGODemoParser with demofile D:\\EDAV\\364\\EMSKato-GroupB-nip-vs-ldlc-inferno.dem\n",
      "23:36:08 [INFO] Setting demo id to 364 EMSKato-GroupB-nip-vs-ldlc-inferno\n",
      "23:36:08 [INFO] Setting parse rate to 128\n",
      "23:36:08 [INFO] Setting trade time to 5\n",
      "23:36:08 [INFO] Setting buy style to hltv\n",
      "23:36:08 [INFO] Rollup damages set to False\n",
      "23:36:08 [INFO] Parse frames set to True\n",
      "23:36:08 [INFO] Running Golang parser from C:\\Users\\nguye\\anaconda3\\envs\\envTF24\\lib\\site-packages\\csgo-1.0-py3.7.egg\\csgo\\parser\\\n",
      "23:36:08 [INFO] Looking for file at D:\\EDAV\\364\\EMSKato-GroupB-nip-vs-ldlc-inferno.dem\n"
     ]
    },
    {
     "name": "stdout",
     "output_type": "stream",
     "text": [
      "parsing    364 EMSKato-GroupB-nip-vs-ldlc-inferno.dem\n"
     ]
    },
    {
     "name": "stderr",
     "output_type": "stream",
     "text": [
      "23:36:10 [INFO] Wrote demo parse output to 364 EMSKato-GroupB-nip-vs-ldlc-inferno.json\n",
      "23:36:10 [INFO] Reading in JSON from 364 EMSKato-GroupB-nip-vs-ldlc-inferno.json\n",
      "23:36:10 [INFO] Go version>=1.14.0\n",
      "23:36:10 [INFO] Initialized CSGODemoParser with demofile D:\\EDAV\\365\\mibr-vs-renegades-m1-dust2.dem\n",
      "23:36:10 [INFO] Setting demo id to 365 mibr-vs-renegades-m1-dust2\n",
      "23:36:10 [INFO] Setting parse rate to 128\n",
      "23:36:10 [INFO] Setting trade time to 5\n",
      "23:36:10 [INFO] Setting buy style to hltv\n",
      "23:36:10 [INFO] Rollup damages set to False\n",
      "23:36:10 [INFO] Parse frames set to True\n",
      "23:36:10 [INFO] Running Golang parser from C:\\Users\\nguye\\anaconda3\\envs\\envTF24\\lib\\site-packages\\csgo-1.0-py3.7.egg\\csgo\\parser\\\n",
      "23:36:10 [INFO] Looking for file at D:\\EDAV\\365\\mibr-vs-renegades-m1-dust2.dem\n"
     ]
    },
    {
     "name": "stdout",
     "output_type": "stream",
     "text": [
      "ERROR   364 EMSKato-GroupB-nip-vs-ldlc-inferno\n",
      "parsing    365 mibr-vs-renegades-m1-dust2.dem\n"
     ]
    },
    {
     "name": "stderr",
     "output_type": "stream",
     "text": [
      "23:36:16 [INFO] Wrote demo parse output to 365 mibr-vs-renegades-m1-dust2.json\n",
      "23:36:16 [INFO] Reading in JSON from 365 mibr-vs-renegades-m1-dust2.json\n",
      "23:36:16 [INFO] JSON data loaded, available in the `json` attribute to parser\n",
      "23:36:16 [INFO] Successfully parsed JSON output\n",
      "23:36:16 [INFO] Successfully returned JSON output\n",
      "23:36:24 [INFO] Go version>=1.14.0\n",
      "23:36:24 [INFO] Initialized CSGODemoParser with demofile D:\\EDAV\\365\\mibr-vs-renegades-m2-train.dem\n",
      "23:36:24 [INFO] Setting demo id to 365 mibr-vs-renegades-m2-train\n",
      "23:36:24 [INFO] Setting parse rate to 128\n",
      "23:36:24 [INFO] Setting trade time to 5\n",
      "23:36:24 [INFO] Setting buy style to hltv\n",
      "23:36:24 [INFO] Rollup damages set to False\n",
      "23:36:24 [INFO] Parse frames set to True\n",
      "23:36:24 [INFO] Running Golang parser from C:\\Users\\nguye\\anaconda3\\envs\\envTF24\\lib\\site-packages\\csgo-1.0-py3.7.egg\\csgo\\parser\\\n",
      "23:36:24 [INFO] Looking for file at D:\\EDAV\\365\\mibr-vs-renegades-m2-train.dem\n"
     ]
    },
    {
     "name": "stdout",
     "output_type": "stream",
     "text": [
      "parsing    365 mibr-vs-renegades-m2-train.dem\n"
     ]
    },
    {
     "name": "stderr",
     "output_type": "stream",
     "text": [
      "23:36:29 [INFO] Wrote demo parse output to 365 mibr-vs-renegades-m2-train.json\n",
      "23:36:29 [INFO] Reading in JSON from 365 mibr-vs-renegades-m2-train.json\n",
      "23:36:30 [INFO] JSON data loaded, available in the `json` attribute to parser\n",
      "23:36:30 [INFO] Successfully parsed JSON output\n",
      "23:36:30 [INFO] Successfully returned JSON output\n",
      "23:36:38 [INFO] Go version>=1.14.0\n",
      "23:36:38 [INFO] Initialized CSGODemoParser with demofile D:\\EDAV\\366\\virtuspro-vs-north-map3-cobblestone.dem\n",
      "23:36:38 [INFO] Setting demo id to 366 virtuspro-vs-north-map3-cobblestone\n",
      "23:36:38 [INFO] Setting parse rate to 128\n",
      "23:36:38 [INFO] Setting trade time to 5\n",
      "23:36:38 [INFO] Setting buy style to hltv\n",
      "23:36:38 [INFO] Rollup damages set to False\n",
      "23:36:38 [INFO] Parse frames set to True\n",
      "23:36:38 [INFO] Running Golang parser from C:\\Users\\nguye\\anaconda3\\envs\\envTF24\\lib\\site-packages\\csgo-1.0-py3.7.egg\\csgo\\parser\\\n",
      "23:36:38 [INFO] Looking for file at D:\\EDAV\\366\\virtuspro-vs-north-map3-cobblestone.dem\n"
     ]
    },
    {
     "name": "stdout",
     "output_type": "stream",
     "text": [
      "parsing    366 virtuspro-vs-north-map3-cobblestone.dem\n"
     ]
    },
    {
     "name": "stderr",
     "output_type": "stream",
     "text": [
      "23:36:44 [INFO] Wrote demo parse output to 366 virtuspro-vs-north-map3-cobblestone.json\n",
      "23:36:44 [INFO] Reading in JSON from 366 virtuspro-vs-north-map3-cobblestone.json\n",
      "23:36:45 [INFO] JSON data loaded, available in the `json` attribute to parser\n",
      "23:36:45 [INFO] Successfully parsed JSON output\n",
      "23:36:45 [INFO] Successfully returned JSON output\n",
      "23:36:53 [INFO] Go version>=1.14.0\n",
      "23:36:53 [INFO] Initialized CSGODemoParser with demofile D:\\EDAV\\366\\virtuspro-vs-north-map1-overpass.dem\n",
      "23:36:53 [INFO] Setting demo id to 366 virtuspro-vs-north-map1-overpass\n",
      "23:36:53 [INFO] Setting parse rate to 128\n",
      "23:36:53 [INFO] Setting trade time to 5\n",
      "23:36:53 [INFO] Setting buy style to hltv\n",
      "23:36:53 [INFO] Rollup damages set to False\n",
      "23:36:53 [INFO] Parse frames set to True\n",
      "23:36:53 [INFO] Running Golang parser from C:\\Users\\nguye\\anaconda3\\envs\\envTF24\\lib\\site-packages\\csgo-1.0-py3.7.egg\\csgo\\parser\\\n",
      "23:36:53 [INFO] Looking for file at D:\\EDAV\\366\\virtuspro-vs-north-map1-overpass.dem\n"
     ]
    },
    {
     "name": "stdout",
     "output_type": "stream",
     "text": [
      "parsing    366 virtuspro-vs-north-map1-overpass.dem\n"
     ]
    },
    {
     "name": "stderr",
     "output_type": "stream",
     "text": [
      "23:36:58 [INFO] Wrote demo parse output to 366 virtuspro-vs-north-map1-overpass.json\n",
      "23:36:58 [INFO] Reading in JSON from 366 virtuspro-vs-north-map1-overpass.json\n",
      "23:36:59 [INFO] JSON data loaded, available in the `json` attribute to parser\n",
      "23:36:59 [INFO] Successfully parsed JSON output\n",
      "23:36:59 [INFO] Successfully returned JSON output\n",
      "23:37:04 [INFO] Go version>=1.14.0\n",
      "23:37:04 [INFO] Initialized CSGODemoParser with demofile D:\\EDAV\\366\\virtuspro-vs-north-map2-cache.dem\n",
      "23:37:04 [INFO] Setting demo id to 366 virtuspro-vs-north-map2-cache\n",
      "23:37:04 [INFO] Setting parse rate to 128\n",
      "23:37:04 [INFO] Setting trade time to 5\n",
      "23:37:04 [INFO] Setting buy style to hltv\n",
      "23:37:04 [INFO] Rollup damages set to False\n",
      "23:37:04 [INFO] Parse frames set to True\n",
      "23:37:05 [INFO] Running Golang parser from C:\\Users\\nguye\\anaconda3\\envs\\envTF24\\lib\\site-packages\\csgo-1.0-py3.7.egg\\csgo\\parser\\\n",
      "23:37:05 [INFO] Looking for file at D:\\EDAV\\366\\virtuspro-vs-north-map2-cache.dem\n"
     ]
    },
    {
     "name": "stdout",
     "output_type": "stream",
     "text": [
      "parsing    366 virtuspro-vs-north-map2-cache.dem\n"
     ]
    },
    {
     "name": "stderr",
     "output_type": "stream",
     "text": [
      "23:37:10 [INFO] Wrote demo parse output to 366 virtuspro-vs-north-map2-cache.json\n",
      "23:37:10 [INFO] Reading in JSON from 366 virtuspro-vs-north-map2-cache.json\n",
      "23:37:10 [INFO] JSON data loaded, available in the `json` attribute to parser\n",
      "23:37:10 [INFO] Successfully parsed JSON output\n",
      "23:37:10 [INFO] Successfully returned JSON output\n",
      "23:37:19 [INFO] Go version>=1.14.0\n",
      "23:37:19 [INFO] Initialized CSGODemoParser with demofile D:\\EDAV\\367\\liquid-vs-nrg-dust2.dem\n",
      "23:37:19 [INFO] Setting demo id to 367 liquid-vs-nrg-dust2\n",
      "23:37:19 [INFO] Setting parse rate to 128\n",
      "23:37:19 [INFO] Setting trade time to 5\n",
      "23:37:19 [INFO] Setting buy style to hltv\n",
      "23:37:19 [INFO] Rollup damages set to False\n",
      "23:37:19 [INFO] Parse frames set to True\n",
      "23:37:19 [INFO] Running Golang parser from C:\\Users\\nguye\\anaconda3\\envs\\envTF24\\lib\\site-packages\\csgo-1.0-py3.7.egg\\csgo\\parser\\\n",
      "23:37:19 [INFO] Looking for file at D:\\EDAV\\367\\liquid-vs-nrg-dust2.dem\n"
     ]
    },
    {
     "name": "stdout",
     "output_type": "stream",
     "text": [
      "parsing    367 liquid-vs-nrg-dust2.dem\n"
     ]
    },
    {
     "name": "stderr",
     "output_type": "stream",
     "text": [
      "23:37:24 [INFO] Wrote demo parse output to 367 liquid-vs-nrg-dust2.json\n",
      "23:37:24 [INFO] Reading in JSON from 367 liquid-vs-nrg-dust2.json\n",
      "23:37:24 [INFO] JSON data loaded, available in the `json` attribute to parser\n",
      "23:37:24 [INFO] Successfully parsed JSON output\n",
      "23:37:24 [INFO] Successfully returned JSON output\n",
      "23:37:32 [INFO] Go version>=1.14.0\n",
      "23:37:32 [INFO] Initialized CSGODemoParser with demofile D:\\EDAV\\368\\MLGColumbus2016-faze-vs-fnatic-bo3-map1-mirage.dem\n",
      "23:37:32 [INFO] Setting demo id to 368 MLGColumbus2016-faze-vs-fnatic-bo3-map1-mirage\n",
      "23:37:32 [INFO] Setting parse rate to 128\n",
      "23:37:32 [INFO] Setting trade time to 5\n",
      "23:37:32 [INFO] Setting buy style to hltv\n",
      "23:37:32 [INFO] Rollup damages set to False\n",
      "23:37:32 [INFO] Parse frames set to True\n",
      "23:37:32 [INFO] Running Golang parser from C:\\Users\\nguye\\anaconda3\\envs\\envTF24\\lib\\site-packages\\csgo-1.0-py3.7.egg\\csgo\\parser\\\n",
      "23:37:32 [INFO] Looking for file at D:\\EDAV\\368\\MLGColumbus2016-faze-vs-fnatic-bo3-map1-mirage.dem\n"
     ]
    },
    {
     "name": "stdout",
     "output_type": "stream",
     "text": [
      "parsing    368 MLGColumbus2016-faze-vs-fnatic-bo3-map1-mirage.dem\n"
     ]
    },
    {
     "name": "stderr",
     "output_type": "stream",
     "text": [
      "23:37:38 [INFO] Wrote demo parse output to 368 MLGColumbus2016-faze-vs-fnatic-bo3-map1-mirage.json\n",
      "23:37:38 [INFO] Reading in JSON from 368 MLGColumbus2016-faze-vs-fnatic-bo3-map1-mirage.json\n",
      "23:37:38 [INFO] JSON data loaded, available in the `json` attribute to parser\n",
      "23:37:38 [INFO] Successfully parsed JSON output\n",
      "23:37:38 [INFO] Successfully returned JSON output\n",
      "23:37:46 [INFO] Go version>=1.14.0\n",
      "23:37:46 [INFO] Initialized CSGODemoParser with demofile D:\\EDAV\\368\\MLGColumbus2016-faze-vs-fnatic-bo3-map2-cobblestone.dem\n",
      "23:37:46 [INFO] Setting demo id to 368 MLGColumbus2016-faze-vs-fnatic-bo3-map2-cobblestone\n",
      "23:37:46 [INFO] Setting parse rate to 128\n",
      "23:37:46 [INFO] Setting trade time to 5\n",
      "23:37:46 [INFO] Setting buy style to hltv\n",
      "23:37:46 [INFO] Rollup damages set to False\n",
      "23:37:46 [INFO] Parse frames set to True\n",
      "23:37:46 [INFO] Running Golang parser from C:\\Users\\nguye\\anaconda3\\envs\\envTF24\\lib\\site-packages\\csgo-1.0-py3.7.egg\\csgo\\parser\\\n",
      "23:37:46 [INFO] Looking for file at D:\\EDAV\\368\\MLGColumbus2016-faze-vs-fnatic-bo3-map2-cobblestone.dem\n"
     ]
    },
    {
     "name": "stdout",
     "output_type": "stream",
     "text": [
      "parsing    368 MLGColumbus2016-faze-vs-fnatic-bo3-map2-cobblestone.dem\n"
     ]
    },
    {
     "name": "stderr",
     "output_type": "stream",
     "text": [
      "23:37:50 [INFO] Wrote demo parse output to 368 MLGColumbus2016-faze-vs-fnatic-bo3-map2-cobblestone.json\n",
      "23:37:50 [INFO] Reading in JSON from 368 MLGColumbus2016-faze-vs-fnatic-bo3-map2-cobblestone.json\n",
      "23:37:51 [INFO] JSON data loaded, available in the `json` attribute to parser\n",
      "23:37:51 [INFO] Successfully parsed JSON output\n",
      "23:37:51 [INFO] Successfully returned JSON output\n",
      "23:37:56 [INFO] Go version>=1.14.0\n",
      "23:37:56 [INFO] Initialized CSGODemoParser with demofile D:\\EDAV\\369\\EMSKato-GroupC-fnatic-vs-reason-inferno.dem\n",
      "23:37:56 [INFO] Setting demo id to 369 EMSKato-GroupC-fnatic-vs-reason-inferno\n",
      "23:37:56 [INFO] Setting parse rate to 128\n",
      "23:37:56 [INFO] Setting trade time to 5\n",
      "23:37:56 [INFO] Setting buy style to hltv\n",
      "23:37:56 [INFO] Rollup damages set to False\n",
      "23:37:56 [INFO] Parse frames set to True\n",
      "23:37:56 [INFO] Running Golang parser from C:\\Users\\nguye\\anaconda3\\envs\\envTF24\\lib\\site-packages\\csgo-1.0-py3.7.egg\\csgo\\parser\\\n",
      "23:37:56 [INFO] Looking for file at D:\\EDAV\\369\\EMSKato-GroupC-fnatic-vs-reason-inferno.dem\n"
     ]
    },
    {
     "name": "stdout",
     "output_type": "stream",
     "text": [
      "parsing    369 EMSKato-GroupC-fnatic-vs-reason-inferno.dem\n"
     ]
    },
    {
     "name": "stderr",
     "output_type": "stream",
     "text": [
      "23:37:58 [INFO] Wrote demo parse output to 369 EMSKato-GroupC-fnatic-vs-reason-inferno.json\n",
      "23:37:58 [INFO] Reading in JSON from 369 EMSKato-GroupC-fnatic-vs-reason-inferno.json\n",
      "23:37:58 [INFO] JSON data loaded, available in the `json` attribute to parser\n",
      "23:37:58 [INFO] Successfully parsed JSON output\n",
      "23:37:58 [INFO] Successfully returned JSON output\n",
      "23:37:59 [INFO] Go version>=1.14.0\n",
      "23:37:59 [INFO] Initialized CSGODemoParser with demofile D:\\EDAV\\370\\EMSKato-QF-dignitas-vs-hellraisers-dust2.dem\n",
      "23:37:59 [INFO] Setting demo id to 370 EMSKato-QF-dignitas-vs-hellraisers-dust2\n",
      "23:37:59 [INFO] Setting parse rate to 128\n",
      "23:37:59 [INFO] Setting trade time to 5\n",
      "23:37:59 [INFO] Setting buy style to hltv\n",
      "23:37:59 [INFO] Rollup damages set to False\n",
      "23:37:59 [INFO] Parse frames set to True\n",
      "23:38:00 [INFO] Running Golang parser from C:\\Users\\nguye\\anaconda3\\envs\\envTF24\\lib\\site-packages\\csgo-1.0-py3.7.egg\\csgo\\parser\\\n",
      "23:38:00 [INFO] Looking for file at D:\\EDAV\\370\\EMSKato-QF-dignitas-vs-hellraisers-dust2.dem\n"
     ]
    },
    {
     "name": "stdout",
     "output_type": "stream",
     "text": [
      "parsing    370 EMSKato-QF-dignitas-vs-hellraisers-dust2.dem\n"
     ]
    },
    {
     "name": "stderr",
     "output_type": "stream",
     "text": [
      "23:38:02 [INFO] Wrote demo parse output to 370 EMSKato-QF-dignitas-vs-hellraisers-dust2.json\n",
      "23:38:02 [INFO] Reading in JSON from 370 EMSKato-QF-dignitas-vs-hellraisers-dust2.json\n",
      "23:38:02 [INFO] JSON data loaded, available in the `json` attribute to parser\n",
      "23:38:02 [INFO] Successfully parsed JSON output\n",
      "23:38:02 [INFO] Successfully returned JSON output\n",
      "23:38:03 [INFO] Go version>=1.14.0\n",
      "23:38:03 [INFO] Initialized CSGODemoParser with demofile D:\\EDAV\\370\\EMSKato-QF-dignitas-vs-hellraisers-mirage.dem\n",
      "23:38:03 [INFO] Setting demo id to 370 EMSKato-QF-dignitas-vs-hellraisers-mirage\n",
      "23:38:03 [INFO] Setting parse rate to 128\n",
      "23:38:03 [INFO] Setting trade time to 5\n",
      "23:38:03 [INFO] Setting buy style to hltv\n",
      "23:38:03 [INFO] Rollup damages set to False\n",
      "23:38:03 [INFO] Parse frames set to True\n",
      "23:38:03 [INFO] Running Golang parser from C:\\Users\\nguye\\anaconda3\\envs\\envTF24\\lib\\site-packages\\csgo-1.0-py3.7.egg\\csgo\\parser\\\n",
      "23:38:03 [INFO] Looking for file at D:\\EDAV\\370\\EMSKato-QF-dignitas-vs-hellraisers-mirage.dem\n"
     ]
    },
    {
     "name": "stdout",
     "output_type": "stream",
     "text": [
      "parsing    370 EMSKato-QF-dignitas-vs-hellraisers-mirage.dem\n"
     ]
    },
    {
     "name": "stderr",
     "output_type": "stream",
     "text": [
      "23:38:05 [INFO] Wrote demo parse output to 370 EMSKato-QF-dignitas-vs-hellraisers-mirage.json\n",
      "23:38:05 [INFO] Reading in JSON from 370 EMSKato-QF-dignitas-vs-hellraisers-mirage.json\n",
      "23:38:05 [INFO] JSON data loaded, available in the `json` attribute to parser\n",
      "23:38:05 [INFO] Successfully parsed JSON output\n",
      "23:38:05 [INFO] Successfully returned JSON output\n",
      "23:38:06 [INFO] Go version>=1.14.0\n",
      "23:38:06 [INFO] Initialized CSGODemoParser with demofile D:\\EDAV\\371\\mibr-vs-cloud9-inferno.dem\n",
      "23:38:06 [INFO] Setting demo id to 371 mibr-vs-cloud9-inferno\n",
      "23:38:06 [INFO] Setting parse rate to 128\n",
      "23:38:06 [INFO] Setting trade time to 5\n",
      "23:38:06 [INFO] Setting buy style to hltv\n",
      "23:38:06 [INFO] Rollup damages set to False\n",
      "23:38:06 [INFO] Parse frames set to True\n",
      "23:38:06 [INFO] Running Golang parser from C:\\Users\\nguye\\anaconda3\\envs\\envTF24\\lib\\site-packages\\csgo-1.0-py3.7.egg\\csgo\\parser\\\n",
      "23:38:06 [INFO] Looking for file at D:\\EDAV\\371\\mibr-vs-cloud9-inferno.dem\n"
     ]
    },
    {
     "name": "stdout",
     "output_type": "stream",
     "text": [
      "parsing    371 mibr-vs-cloud9-inferno.dem\n"
     ]
    },
    {
     "name": "stderr",
     "output_type": "stream",
     "text": [
      "23:38:11 [INFO] Wrote demo parse output to 371 mibr-vs-cloud9-inferno.json\n",
      "23:38:11 [INFO] Reading in JSON from 371 mibr-vs-cloud9-inferno.json\n",
      "23:38:11 [INFO] JSON data loaded, available in the `json` attribute to parser\n",
      "23:38:11 [INFO] Successfully parsed JSON output\n",
      "23:38:11 [INFO] Successfully returned JSON output\n",
      "23:38:18 [INFO] Go version>=1.14.0\n",
      "23:38:18 [INFO] Initialized CSGODemoParser with demofile D:\\EDAV\\372\\003105365252414374069_0560812768_1_virtuspro_vs_liquid_cobblestone.dem\n",
      "23:38:18 [INFO] Setting demo id to 372 003105365252414374069_0560812768_1_virtuspro_vs_liquid_cobblestone\n",
      "23:38:18 [INFO] Setting parse rate to 128\n",
      "23:38:18 [INFO] Setting trade time to 5\n",
      "23:38:18 [INFO] Setting buy style to hltv\n",
      "23:38:18 [INFO] Rollup damages set to False\n",
      "23:38:18 [INFO] Parse frames set to True\n",
      "23:38:18 [INFO] Running Golang parser from C:\\Users\\nguye\\anaconda3\\envs\\envTF24\\lib\\site-packages\\csgo-1.0-py3.7.egg\\csgo\\parser\\\n",
      "23:38:18 [INFO] Looking for file at D:\\EDAV\\372\\003105365252414374069_0560812768_1_virtuspro_vs_liquid_cobblestone.dem\n"
     ]
    },
    {
     "name": "stdout",
     "output_type": "stream",
     "text": [
      "parsing    372 003105365252414374069_0560812768_1_virtuspro_vs_liquid_cobblestone.dem\n"
     ]
    },
    {
     "name": "stderr",
     "output_type": "stream",
     "text": [
      "23:38:24 [INFO] Wrote demo parse output to 372 003105365252414374069_0560812768_1_virtuspro_vs_liquid_cobblestone.json\n",
      "23:38:24 [INFO] Reading in JSON from 372 003105365252414374069_0560812768_1_virtuspro_vs_liquid_cobblestone.json\n",
      "23:38:25 [INFO] JSON data loaded, available in the `json` attribute to parser\n",
      "23:38:25 [INFO] Successfully parsed JSON output\n",
      "23:38:25 [INFO] Successfully returned JSON output\n",
      "23:38:36 [INFO] Go version>=1.14.0\n",
      "23:38:36 [INFO] Initialized CSGODemoParser with demofile D:\\EDAV\\373\\faze-vs-mousesports-m2-cache.dem\n",
      "23:38:36 [INFO] Setting demo id to 373 faze-vs-mousesports-m2-cache\n",
      "23:38:36 [INFO] Setting parse rate to 128\n",
      "23:38:36 [INFO] Setting trade time to 5\n",
      "23:38:36 [INFO] Setting buy style to hltv\n",
      "23:38:36 [INFO] Rollup damages set to False\n",
      "23:38:36 [INFO] Parse frames set to True\n",
      "23:38:36 [INFO] Running Golang parser from C:\\Users\\nguye\\anaconda3\\envs\\envTF24\\lib\\site-packages\\csgo-1.0-py3.7.egg\\csgo\\parser\\\n",
      "23:38:36 [INFO] Looking for file at D:\\EDAV\\373\\faze-vs-mousesports-m2-cache.dem\n"
     ]
    },
    {
     "name": "stdout",
     "output_type": "stream",
     "text": [
      "parsing    373 faze-vs-mousesports-m2-cache.dem\n"
     ]
    },
    {
     "name": "stderr",
     "output_type": "stream",
     "text": [
      "23:38:40 [INFO] Wrote demo parse output to 373 faze-vs-mousesports-m2-cache.json\n",
      "23:38:40 [INFO] Reading in JSON from 373 faze-vs-mousesports-m2-cache.json\n",
      "23:38:41 [INFO] JSON data loaded, available in the `json` attribute to parser\n",
      "23:38:41 [INFO] Successfully parsed JSON output\n",
      "23:38:41 [INFO] Successfully returned JSON output\n",
      "23:38:48 [INFO] Go version>=1.14.0\n",
      "23:38:48 [INFO] Initialized CSGODemoParser with demofile D:\\EDAV\\373\\faze-vs-mousesports-m1-nuke.dem\n",
      "23:38:48 [INFO] Setting demo id to 373 faze-vs-mousesports-m1-nuke\n",
      "23:38:48 [INFO] Setting parse rate to 128\n",
      "23:38:48 [INFO] Setting trade time to 5\n",
      "23:38:48 [INFO] Setting buy style to hltv\n",
      "23:38:48 [INFO] Rollup damages set to False\n",
      "23:38:48 [INFO] Parse frames set to True\n",
      "23:38:48 [INFO] Running Golang parser from C:\\Users\\nguye\\anaconda3\\envs\\envTF24\\lib\\site-packages\\csgo-1.0-py3.7.egg\\csgo\\parser\\\n",
      "23:38:48 [INFO] Looking for file at D:\\EDAV\\373\\faze-vs-mousesports-m1-nuke.dem\n"
     ]
    },
    {
     "name": "stdout",
     "output_type": "stream",
     "text": [
      "parsing    373 faze-vs-mousesports-m1-nuke.dem\n"
     ]
    },
    {
     "name": "stderr",
     "output_type": "stream",
     "text": [
      "23:38:55 [INFO] Wrote demo parse output to 373 faze-vs-mousesports-m1-nuke.json\n",
      "23:38:55 [INFO] Reading in JSON from 373 faze-vs-mousesports-m1-nuke.json\n",
      "23:38:55 [INFO] JSON data loaded, available in the `json` attribute to parser\n",
      "23:38:55 [INFO] Successfully parsed JSON output\n",
      "23:38:55 [INFO] Successfully returned JSON output\n",
      "23:39:07 [INFO] Go version>=1.14.0\n",
      "23:39:07 [INFO] Initialized CSGODemoParser with demofile D:\\EDAV\\374\\EMSKato-QF-nip-vs-complexity-train.dem\n",
      "23:39:07 [INFO] Setting demo id to 374 EMSKato-QF-nip-vs-complexity-train\n",
      "23:39:07 [INFO] Setting parse rate to 128\n",
      "23:39:07 [INFO] Setting trade time to 5\n",
      "23:39:07 [INFO] Setting buy style to hltv\n",
      "23:39:07 [INFO] Rollup damages set to False\n",
      "23:39:07 [INFO] Parse frames set to True\n",
      "23:39:07 [INFO] Running Golang parser from C:\\Users\\nguye\\anaconda3\\envs\\envTF24\\lib\\site-packages\\csgo-1.0-py3.7.egg\\csgo\\parser\\\n",
      "23:39:07 [INFO] Looking for file at D:\\EDAV\\374\\EMSKato-QF-nip-vs-complexity-train.dem\n"
     ]
    },
    {
     "name": "stdout",
     "output_type": "stream",
     "text": [
      "parsing    374 EMSKato-QF-nip-vs-complexity-train.dem\n"
     ]
    },
    {
     "name": "stderr",
     "output_type": "stream",
     "text": [
      "23:39:09 [INFO] Wrote demo parse output to 374 EMSKato-QF-nip-vs-complexity-train.json\n",
      "23:39:09 [INFO] Reading in JSON from 374 EMSKato-QF-nip-vs-complexity-train.json\n",
      "23:39:09 [INFO] JSON data loaded, available in the `json` attribute to parser\n",
      "23:39:09 [INFO] Successfully parsed JSON output\n",
      "23:39:09 [INFO] Successfully returned JSON output\n",
      "23:39:10 [INFO] Go version>=1.14.0\n",
      "23:39:10 [INFO] Initialized CSGODemoParser with demofile D:\\EDAV\\374\\EMSKato-QF-nip-vs-complexity-dust2.dem\n",
      "23:39:10 [INFO] Setting demo id to 374 EMSKato-QF-nip-vs-complexity-dust2\n",
      "23:39:10 [INFO] Setting parse rate to 128\n",
      "23:39:10 [INFO] Setting trade time to 5\n",
      "23:39:10 [INFO] Setting buy style to hltv\n",
      "23:39:10 [INFO] Rollup damages set to False\n",
      "23:39:10 [INFO] Parse frames set to True\n",
      "23:39:10 [INFO] Running Golang parser from C:\\Users\\nguye\\anaconda3\\envs\\envTF24\\lib\\site-packages\\csgo-1.0-py3.7.egg\\csgo\\parser\\\n",
      "23:39:10 [INFO] Looking for file at D:\\EDAV\\374\\EMSKato-QF-nip-vs-complexity-dust2.dem\n"
     ]
    },
    {
     "name": "stdout",
     "output_type": "stream",
     "text": [
      "parsing    374 EMSKato-QF-nip-vs-complexity-dust2.dem\n"
     ]
    },
    {
     "name": "stderr",
     "output_type": "stream",
     "text": [
      "23:39:12 [INFO] Wrote demo parse output to 374 EMSKato-QF-nip-vs-complexity-dust2.json\n",
      "23:39:12 [INFO] Reading in JSON from 374 EMSKato-QF-nip-vs-complexity-dust2.json\n",
      "23:39:12 [INFO] JSON data loaded, available in the `json` attribute to parser\n",
      "23:39:12 [INFO] Successfully parsed JSON output\n",
      "23:39:12 [INFO] Successfully returned JSON output\n",
      "23:39:14 [INFO] Go version>=1.14.0\n",
      "23:39:14 [INFO] Initialized CSGODemoParser with demofile D:\\EDAV\\374\\EMSKato-QF-nip-vs-complexity-nuke.dem\n",
      "23:39:14 [INFO] Setting demo id to 374 EMSKato-QF-nip-vs-complexity-nuke\n",
      "23:39:14 [INFO] Setting parse rate to 128\n",
      "23:39:14 [INFO] Setting trade time to 5\n",
      "23:39:14 [INFO] Setting buy style to hltv\n",
      "23:39:14 [INFO] Rollup damages set to False\n",
      "23:39:14 [INFO] Parse frames set to True\n",
      "23:39:14 [INFO] Running Golang parser from C:\\Users\\nguye\\anaconda3\\envs\\envTF24\\lib\\site-packages\\csgo-1.0-py3.7.egg\\csgo\\parser\\\n",
      "23:39:14 [INFO] Looking for file at D:\\EDAV\\374\\EMSKato-QF-nip-vs-complexity-nuke.dem\n"
     ]
    },
    {
     "name": "stdout",
     "output_type": "stream",
     "text": [
      "parsing    374 EMSKato-QF-nip-vs-complexity-nuke.dem\n"
     ]
    },
    {
     "name": "stderr",
     "output_type": "stream",
     "text": [
      "23:39:16 [INFO] Wrote demo parse output to 374 EMSKato-QF-nip-vs-complexity-nuke.json\n",
      "23:39:16 [INFO] Reading in JSON from 374 EMSKato-QF-nip-vs-complexity-nuke.json\n",
      "23:39:16 [INFO] JSON data loaded, available in the `json` attribute to parser\n",
      "23:39:16 [INFO] Successfully parsed JSON output\n",
      "23:39:16 [INFO] Successfully returned JSON output\n",
      "23:39:17 [INFO] Go version>=1.14.0\n",
      "23:39:17 [INFO] Initialized CSGODemoParser with demofile D:\\EDAV\\375\\ESLOneCologne2016-envyus-vs-mousesports-train.dem\n",
      "23:39:17 [INFO] Setting demo id to 375 ESLOneCologne2016-envyus-vs-mousesports-train\n",
      "23:39:17 [INFO] Setting parse rate to 128\n",
      "23:39:17 [INFO] Setting trade time to 5\n",
      "23:39:17 [INFO] Setting buy style to hltv\n",
      "23:39:17 [INFO] Rollup damages set to False\n",
      "23:39:17 [INFO] Parse frames set to True\n",
      "23:39:17 [INFO] Running Golang parser from C:\\Users\\nguye\\anaconda3\\envs\\envTF24\\lib\\site-packages\\csgo-1.0-py3.7.egg\\csgo\\parser\\\n",
      "23:39:17 [INFO] Looking for file at D:\\EDAV\\375\\ESLOneCologne2016-envyus-vs-mousesports-train.dem\n"
     ]
    },
    {
     "name": "stdout",
     "output_type": "stream",
     "text": [
      "parsing    375 ESLOneCologne2016-envyus-vs-mousesports-train.dem\n"
     ]
    },
    {
     "name": "stderr",
     "output_type": "stream",
     "text": [
      "23:39:22 [INFO] Wrote demo parse output to 375 ESLOneCologne2016-envyus-vs-mousesports-train.json\n",
      "23:39:22 [INFO] Reading in JSON from 375 ESLOneCologne2016-envyus-vs-mousesports-train.json\n",
      "23:39:22 [INFO] JSON data loaded, available in the `json` attribute to parser\n",
      "23:39:22 [INFO] Successfully parsed JSON output\n",
      "23:39:22 [INFO] Successfully returned JSON output\n",
      "23:39:32 [INFO] Go version>=1.14.0\n",
      "23:39:32 [INFO] Initialized CSGODemoParser with demofile D:\\EDAV\\376\\ESLOneCologne2016-natusvincere-vs-nip-cobblestone.dem\n",
      "23:39:32 [INFO] Setting demo id to 376 ESLOneCologne2016-natusvincere-vs-nip-cobblestone\n",
      "23:39:32 [INFO] Setting parse rate to 128\n",
      "23:39:32 [INFO] Setting trade time to 5\n",
      "23:39:32 [INFO] Setting buy style to hltv\n",
      "23:39:32 [INFO] Rollup damages set to False\n",
      "23:39:32 [INFO] Parse frames set to True\n",
      "23:39:32 [INFO] Running Golang parser from C:\\Users\\nguye\\anaconda3\\envs\\envTF24\\lib\\site-packages\\csgo-1.0-py3.7.egg\\csgo\\parser\\\n",
      "23:39:32 [INFO] Looking for file at D:\\EDAV\\376\\ESLOneCologne2016-natusvincere-vs-nip-cobblestone.dem\n"
     ]
    },
    {
     "name": "stdout",
     "output_type": "stream",
     "text": [
      "parsing    376 ESLOneCologne2016-natusvincere-vs-nip-cobblestone.dem\n"
     ]
    },
    {
     "name": "stderr",
     "output_type": "stream",
     "text": [
      "23:39:37 [INFO] Wrote demo parse output to 376 ESLOneCologne2016-natusvincere-vs-nip-cobblestone.json\n",
      "23:39:37 [INFO] Reading in JSON from 376 ESLOneCologne2016-natusvincere-vs-nip-cobblestone.json\n",
      "23:39:38 [INFO] JSON data loaded, available in the `json` attribute to parser\n",
      "23:39:38 [INFO] Successfully parsed JSON output\n",
      "23:39:38 [INFO] Successfully returned JSON output\n",
      "23:39:46 [INFO] Go version>=1.14.0\n",
      "23:39:46 [INFO] Initialized CSGODemoParser with demofile D:\\EDAV\\377\\virtuspro-vs-fnatic-cache.dem\n",
      "23:39:46 [INFO] Setting demo id to 377 virtuspro-vs-fnatic-cache\n",
      "23:39:46 [INFO] Setting parse rate to 128\n",
      "23:39:46 [INFO] Setting trade time to 5\n",
      "23:39:46 [INFO] Setting buy style to hltv\n",
      "23:39:46 [INFO] Rollup damages set to False\n",
      "23:39:46 [INFO] Parse frames set to True\n",
      "23:39:46 [INFO] Running Golang parser from C:\\Users\\nguye\\anaconda3\\envs\\envTF24\\lib\\site-packages\\csgo-1.0-py3.7.egg\\csgo\\parser\\\n",
      "23:39:46 [INFO] Looking for file at D:\\EDAV\\377\\virtuspro-vs-fnatic-cache.dem\n"
     ]
    },
    {
     "name": "stdout",
     "output_type": "stream",
     "text": [
      "parsing    377 virtuspro-vs-fnatic-cache.dem\n"
     ]
    },
    {
     "name": "stderr",
     "output_type": "stream",
     "text": [
      "23:39:51 [INFO] Wrote demo parse output to 377 virtuspro-vs-fnatic-cache.json\n",
      "23:39:51 [INFO] Reading in JSON from 377 virtuspro-vs-fnatic-cache.json\n",
      "23:39:51 [INFO] JSON data loaded, available in the `json` attribute to parser\n",
      "23:39:51 [INFO] Successfully parsed JSON output\n",
      "23:39:51 [INFO] Successfully returned JSON output\n",
      "23:39:59 [INFO] Go version>=1.14.0\n",
      "23:39:59 [INFO] Initialized CSGODemoParser with demofile D:\\EDAV\\378\\gambit-vs-sk-overpass.dem\n",
      "23:39:59 [INFO] Setting demo id to 378 gambit-vs-sk-overpass\n",
      "23:39:59 [INFO] Setting parse rate to 128\n",
      "23:39:59 [INFO] Setting trade time to 5\n",
      "23:39:59 [INFO] Setting buy style to hltv\n",
      "23:39:59 [INFO] Rollup damages set to False\n",
      "23:39:59 [INFO] Parse frames set to True\n",
      "23:39:59 [INFO] Running Golang parser from C:\\Users\\nguye\\anaconda3\\envs\\envTF24\\lib\\site-packages\\csgo-1.0-py3.7.egg\\csgo\\parser\\\n",
      "23:39:59 [INFO] Looking for file at D:\\EDAV\\378\\gambit-vs-sk-overpass.dem\n"
     ]
    },
    {
     "name": "stdout",
     "output_type": "stream",
     "text": [
      "parsing    378 gambit-vs-sk-overpass.dem\n"
     ]
    },
    {
     "name": "stderr",
     "output_type": "stream",
     "text": [
      "23:40:05 [INFO] Wrote demo parse output to 378 gambit-vs-sk-overpass.json\n",
      "23:40:05 [INFO] Reading in JSON from 378 gambit-vs-sk-overpass.json\n",
      "23:40:06 [INFO] JSON data loaded, available in the `json` attribute to parser\n",
      "23:40:06 [INFO] Successfully parsed JSON output\n",
      "23:40:06 [INFO] Successfully returned JSON output\n",
      "23:40:13 [INFO] Go version>=1.14.0\n",
      "23:40:13 [INFO] Initialized CSGODemoParser with demofile D:\\EDAV\\379\\winstrike-vs-fnatic-inferno.dem\n",
      "23:40:13 [INFO] Setting demo id to 379 winstrike-vs-fnatic-inferno\n",
      "23:40:13 [INFO] Setting parse rate to 128\n",
      "23:40:13 [INFO] Setting trade time to 5\n",
      "23:40:13 [INFO] Setting buy style to hltv\n",
      "23:40:13 [INFO] Rollup damages set to False\n",
      "23:40:13 [INFO] Parse frames set to True\n",
      "23:40:13 [INFO] Running Golang parser from C:\\Users\\nguye\\anaconda3\\envs\\envTF24\\lib\\site-packages\\csgo-1.0-py3.7.egg\\csgo\\parser\\\n",
      "23:40:13 [INFO] Looking for file at D:\\EDAV\\379\\winstrike-vs-fnatic-inferno.dem\n"
     ]
    },
    {
     "name": "stdout",
     "output_type": "stream",
     "text": [
      "parsing    379 winstrike-vs-fnatic-inferno.dem\n"
     ]
    },
    {
     "name": "stderr",
     "output_type": "stream",
     "text": [
      "23:40:18 [INFO] Wrote demo parse output to 379 winstrike-vs-fnatic-inferno.json\n",
      "23:40:18 [INFO] Reading in JSON from 379 winstrike-vs-fnatic-inferno.json\n",
      "23:40:19 [INFO] JSON data loaded, available in the `json` attribute to parser\n",
      "23:40:19 [INFO] Successfully parsed JSON output\n",
      "23:40:19 [INFO] Successfully returned JSON output\n",
      "23:40:27 [INFO] Go version>=1.14.0\n",
      "23:40:27 [INFO] Initialized CSGODemoParser with demofile D:\\EDAV\\380\\003105397499028832300_1022102112_1_natusvincere_vs_clg_cobblestone.dem\n",
      "23:40:27 [INFO] Setting demo id to 380 003105397499028832300_1022102112_1_natusvincere_vs_clg_cobblestone\n",
      "23:40:27 [INFO] Setting parse rate to 128\n",
      "23:40:27 [INFO] Setting trade time to 5\n",
      "23:40:27 [INFO] Setting buy style to hltv\n",
      "23:40:27 [INFO] Rollup damages set to False\n",
      "23:40:27 [INFO] Parse frames set to True\n",
      "23:40:27 [INFO] Running Golang parser from C:\\Users\\nguye\\anaconda3\\envs\\envTF24\\lib\\site-packages\\csgo-1.0-py3.7.egg\\csgo\\parser\\\n",
      "23:40:27 [INFO] Looking for file at D:\\EDAV\\380\\003105397499028832300_1022102112_1_natusvincere_vs_clg_cobblestone.dem\n"
     ]
    },
    {
     "name": "stdout",
     "output_type": "stream",
     "text": [
      "parsing    380 003105397499028832300_1022102112_1_natusvincere_vs_clg_cobblestone.dem\n"
     ]
    },
    {
     "name": "stderr",
     "output_type": "stream",
     "text": [
      "23:40:32 [INFO] Wrote demo parse output to 380 003105397499028832300_1022102112_1_natusvincere_vs_clg_cobblestone.json\n",
      "23:40:32 [INFO] Reading in JSON from 380 003105397499028832300_1022102112_1_natusvincere_vs_clg_cobblestone.json\n",
      "23:40:33 [INFO] JSON data loaded, available in the `json` attribute to parser\n",
      "23:40:33 [INFO] Successfully parsed JSON output\n",
      "23:40:33 [INFO] Successfully returned JSON output\n",
      "23:40:40 [INFO] Go version>=1.14.0\n",
      "23:40:40 [INFO] Initialized CSGODemoParser with demofile D:\\EDAV\\381\\mousesports-vs-vega-squadron-mirage.dem\n",
      "23:40:40 [INFO] Setting demo id to 381 mousesports-vs-vega-squadron-mirage\n",
      "23:40:40 [INFO] Setting parse rate to 128\n",
      "23:40:40 [INFO] Setting trade time to 5\n",
      "23:40:40 [INFO] Setting buy style to hltv\n",
      "23:40:40 [INFO] Rollup damages set to False\n",
      "23:40:40 [INFO] Parse frames set to True\n",
      "23:40:40 [INFO] Running Golang parser from C:\\Users\\nguye\\anaconda3\\envs\\envTF24\\lib\\site-packages\\csgo-1.0-py3.7.egg\\csgo\\parser\\\n",
      "23:40:40 [INFO] Looking for file at D:\\EDAV\\381\\mousesports-vs-vega-squadron-mirage.dem\n"
     ]
    },
    {
     "name": "stdout",
     "output_type": "stream",
     "text": [
      "parsing    381 mousesports-vs-vega-squadron-mirage.dem\n"
     ]
    },
    {
     "name": "stderr",
     "output_type": "stream",
     "text": [
      "23:40:44 [INFO] Wrote demo parse output to 381 mousesports-vs-vega-squadron-mirage.json\n",
      "23:40:44 [INFO] Reading in JSON from 381 mousesports-vs-vega-squadron-mirage.json\n",
      "23:40:44 [INFO] JSON data loaded, available in the `json` attribute to parser\n",
      "23:40:44 [INFO] Successfully parsed JSON output\n",
      "23:40:44 [INFO] Successfully returned JSON output\n",
      "23:40:50 [INFO] Go version>=1.14.0\n",
      "23:40:50 [INFO] Initialized CSGODemoParser with demofile D:\\EDAV\\382\\astralis-vs-liquid-inferno.dem\n",
      "23:40:50 [INFO] Setting demo id to 382 astralis-vs-liquid-inferno\n",
      "23:40:50 [INFO] Setting parse rate to 128\n",
      "23:40:50 [INFO] Setting trade time to 5\n",
      "23:40:50 [INFO] Setting buy style to hltv\n",
      "23:40:50 [INFO] Rollup damages set to False\n",
      "23:40:50 [INFO] Parse frames set to True\n",
      "23:40:50 [INFO] Running Golang parser from C:\\Users\\nguye\\anaconda3\\envs\\envTF24\\lib\\site-packages\\csgo-1.0-py3.7.egg\\csgo\\parser\\\n",
      "23:40:50 [INFO] Looking for file at D:\\EDAV\\382\\astralis-vs-liquid-inferno.dem\n"
     ]
    },
    {
     "name": "stdout",
     "output_type": "stream",
     "text": [
      "parsing    382 astralis-vs-liquid-inferno.dem\n"
     ]
    },
    {
     "name": "stderr",
     "output_type": "stream",
     "text": [
      "23:40:57 [INFO] Wrote demo parse output to 382 astralis-vs-liquid-inferno.json\n",
      "23:40:57 [INFO] Reading in JSON from 382 astralis-vs-liquid-inferno.json\n",
      "23:40:58 [INFO] JSON data loaded, available in the `json` attribute to parser\n",
      "23:40:58 [INFO] Successfully parsed JSON output\n",
      "23:40:58 [INFO] Successfully returned JSON output\n",
      "23:41:12 [INFO] Go version>=1.14.0\n",
      "23:41:12 [INFO] Initialized CSGODemoParser with demofile D:\\EDAV\\383\\natusvincere-vs-astralis-map3-dust2.dem\n",
      "23:41:12 [INFO] Setting demo id to 383 natusvincere-vs-astralis-map3-dust2\n",
      "23:41:12 [INFO] Setting parse rate to 128\n",
      "23:41:12 [INFO] Setting trade time to 5\n",
      "23:41:12 [INFO] Setting buy style to hltv\n",
      "23:41:12 [INFO] Rollup damages set to False\n",
      "23:41:12 [INFO] Parse frames set to True\n",
      "23:41:12 [INFO] Running Golang parser from C:\\Users\\nguye\\anaconda3\\envs\\envTF24\\lib\\site-packages\\csgo-1.0-py3.7.egg\\csgo\\parser\\\n",
      "23:41:12 [INFO] Looking for file at D:\\EDAV\\383\\natusvincere-vs-astralis-map3-dust2.dem\n"
     ]
    },
    {
     "name": "stdout",
     "output_type": "stream",
     "text": [
      "parsing    383 natusvincere-vs-astralis-map3-dust2.dem\n"
     ]
    },
    {
     "name": "stderr",
     "output_type": "stream",
     "text": [
      "23:41:17 [INFO] Wrote demo parse output to 383 natusvincere-vs-astralis-map3-dust2.json\n",
      "23:41:17 [INFO] Reading in JSON from 383 natusvincere-vs-astralis-map3-dust2.json\n",
      "23:41:18 [INFO] JSON data loaded, available in the `json` attribute to parser\n",
      "23:41:18 [INFO] Successfully parsed JSON output\n",
      "23:41:18 [INFO] Successfully returned JSON output\n",
      "23:41:25 [INFO] Go version>=1.14.0\n",
      "23:41:25 [INFO] Initialized CSGODemoParser with demofile D:\\EDAV\\383\\natusvincere-vs-astralis-map1-overpass.dem\n",
      "23:41:25 [INFO] Setting demo id to 383 natusvincere-vs-astralis-map1-overpass\n",
      "23:41:25 [INFO] Setting parse rate to 128\n",
      "23:41:25 [INFO] Setting trade time to 5\n",
      "23:41:25 [INFO] Setting buy style to hltv\n",
      "23:41:25 [INFO] Rollup damages set to False\n",
      "23:41:25 [INFO] Parse frames set to True\n",
      "23:41:25 [INFO] Running Golang parser from C:\\Users\\nguye\\anaconda3\\envs\\envTF24\\lib\\site-packages\\csgo-1.0-py3.7.egg\\csgo\\parser\\\n",
      "23:41:25 [INFO] Looking for file at D:\\EDAV\\383\\natusvincere-vs-astralis-map1-overpass.dem\n"
     ]
    },
    {
     "name": "stdout",
     "output_type": "stream",
     "text": [
      "parsing    383 natusvincere-vs-astralis-map1-overpass.dem\n"
     ]
    },
    {
     "name": "stderr",
     "output_type": "stream",
     "text": [
      "23:41:31 [INFO] Wrote demo parse output to 383 natusvincere-vs-astralis-map1-overpass.json\n",
      "23:41:31 [INFO] Reading in JSON from 383 natusvincere-vs-astralis-map1-overpass.json\n",
      "23:41:32 [INFO] JSON data loaded, available in the `json` attribute to parser\n",
      "23:41:32 [INFO] Successfully parsed JSON output\n",
      "23:41:32 [INFO] Successfully returned JSON output\n",
      "23:41:40 [INFO] Go version>=1.14.0\n",
      "23:41:40 [INFO] Initialized CSGODemoParser with demofile D:\\EDAV\\383\\natusvincere-vs-astralis-map2-mirage.dem\n",
      "23:41:40 [INFO] Setting demo id to 383 natusvincere-vs-astralis-map2-mirage\n",
      "23:41:40 [INFO] Setting parse rate to 128\n",
      "23:41:40 [INFO] Setting trade time to 5\n",
      "23:41:40 [INFO] Setting buy style to hltv\n",
      "23:41:40 [INFO] Rollup damages set to False\n",
      "23:41:40 [INFO] Parse frames set to True\n",
      "23:41:40 [INFO] Running Golang parser from C:\\Users\\nguye\\anaconda3\\envs\\envTF24\\lib\\site-packages\\csgo-1.0-py3.7.egg\\csgo\\parser\\\n",
      "23:41:40 [INFO] Looking for file at D:\\EDAV\\383\\natusvincere-vs-astralis-map2-mirage.dem\n"
     ]
    },
    {
     "name": "stdout",
     "output_type": "stream",
     "text": [
      "parsing    383 natusvincere-vs-astralis-map2-mirage.dem\n"
     ]
    },
    {
     "name": "stderr",
     "output_type": "stream",
     "text": [
      "23:41:46 [INFO] Wrote demo parse output to 383 natusvincere-vs-astralis-map2-mirage.json\n",
      "23:41:46 [INFO] Reading in JSON from 383 natusvincere-vs-astralis-map2-mirage.json\n",
      "23:41:47 [INFO] JSON data loaded, available in the `json` attribute to parser\n",
      "23:41:47 [INFO] Successfully parsed JSON output\n",
      "23:41:47 [INFO] Successfully returned JSON output\n",
      "23:41:56 [INFO] Go version>=1.14.0\n",
      "23:41:56 [INFO] Initialized CSGODemoParser with demofile D:\\EDAV\\384\\g2-vs-hellraisers-dust2.dem\n",
      "23:41:56 [INFO] Setting demo id to 384 g2-vs-hellraisers-dust2\n",
      "23:41:56 [INFO] Setting parse rate to 128\n",
      "23:41:56 [INFO] Setting trade time to 5\n",
      "23:41:56 [INFO] Setting buy style to hltv\n",
      "23:41:56 [INFO] Rollup damages set to False\n",
      "23:41:56 [INFO] Parse frames set to True\n",
      "23:41:56 [INFO] Running Golang parser from C:\\Users\\nguye\\anaconda3\\envs\\envTF24\\lib\\site-packages\\csgo-1.0-py3.7.egg\\csgo\\parser\\\n",
      "23:41:56 [INFO] Looking for file at D:\\EDAV\\384\\g2-vs-hellraisers-dust2.dem\n"
     ]
    },
    {
     "name": "stdout",
     "output_type": "stream",
     "text": [
      "parsing    384 g2-vs-hellraisers-dust2.dem\n"
     ]
    },
    {
     "name": "stderr",
     "output_type": "stream",
     "text": [
      "23:42:04 [INFO] Wrote demo parse output to 384 g2-vs-hellraisers-dust2.json\n",
      "23:42:04 [INFO] Reading in JSON from 384 g2-vs-hellraisers-dust2.json\n",
      "23:42:05 [INFO] JSON data loaded, available in the `json` attribute to parser\n",
      "23:42:05 [INFO] Successfully parsed JSON output\n",
      "23:42:05 [INFO] Successfully returned JSON output\n",
      "23:42:18 [INFO] Go version>=1.14.0\n",
      "23:42:18 [INFO] Initialized CSGODemoParser with demofile D:\\EDAV\\385\\natus-vincere-vs-g2-overpass.dem\n",
      "23:42:18 [INFO] Setting demo id to 385 natus-vincere-vs-g2-overpass\n",
      "23:42:18 [INFO] Setting parse rate to 128\n",
      "23:42:18 [INFO] Setting trade time to 5\n",
      "23:42:18 [INFO] Setting buy style to hltv\n",
      "23:42:18 [INFO] Rollup damages set to False\n",
      "23:42:18 [INFO] Parse frames set to True\n",
      "23:42:18 [INFO] Running Golang parser from C:\\Users\\nguye\\anaconda3\\envs\\envTF24\\lib\\site-packages\\csgo-1.0-py3.7.egg\\csgo\\parser\\\n",
      "23:42:18 [INFO] Looking for file at D:\\EDAV\\385\\natus-vincere-vs-g2-overpass.dem\n"
     ]
    },
    {
     "name": "stdout",
     "output_type": "stream",
     "text": [
      "parsing    385 natus-vincere-vs-g2-overpass.dem\n"
     ]
    },
    {
     "name": "stderr",
     "output_type": "stream",
     "text": [
      "23:42:25 [INFO] Wrote demo parse output to 385 natus-vincere-vs-g2-overpass.json\n",
      "23:42:25 [INFO] Reading in JSON from 385 natus-vincere-vs-g2-overpass.json\n",
      "23:42:25 [INFO] JSON data loaded, available in the `json` attribute to parser\n",
      "23:42:25 [INFO] Successfully parsed JSON output\n",
      "23:42:25 [INFO] Successfully returned JSON output\n",
      "23:42:34 [INFO] Go version>=1.14.0\n",
      "23:42:34 [INFO] Initialized CSGODemoParser with demofile D:\\EDAV\\386\\fnatic-vs-gambit-mirage.dem\n",
      "23:42:34 [INFO] Setting demo id to 386 fnatic-vs-gambit-mirage\n",
      "23:42:34 [INFO] Setting parse rate to 128\n",
      "23:42:34 [INFO] Setting trade time to 5\n",
      "23:42:34 [INFO] Setting buy style to hltv\n",
      "23:42:34 [INFO] Rollup damages set to False\n",
      "23:42:34 [INFO] Parse frames set to True\n",
      "23:42:34 [INFO] Running Golang parser from C:\\Users\\nguye\\anaconda3\\envs\\envTF24\\lib\\site-packages\\csgo-1.0-py3.7.egg\\csgo\\parser\\\n",
      "23:42:34 [INFO] Looking for file at D:\\EDAV\\386\\fnatic-vs-gambit-mirage.dem\n"
     ]
    },
    {
     "name": "stdout",
     "output_type": "stream",
     "text": [
      "parsing    386 fnatic-vs-gambit-mirage.dem\n"
     ]
    },
    {
     "name": "stderr",
     "output_type": "stream",
     "text": [
      "23:42:38 [INFO] Wrote demo parse output to 386 fnatic-vs-gambit-mirage.json\n",
      "23:42:38 [INFO] Reading in JSON from 386 fnatic-vs-gambit-mirage.json\n",
      "23:42:38 [INFO] JSON data loaded, available in the `json` attribute to parser\n",
      "23:42:38 [INFO] Successfully parsed JSON output\n",
      "23:42:38 [INFO] Successfully returned JSON output\n",
      "23:42:43 [INFO] Go version>=1.14.0\n",
      "23:42:43 [INFO] Initialized CSGODemoParser with demofile D:\\EDAV\\387\\ESLOneKatowice2015-QF-nip-vs-tsm-dust2.dem\n",
      "23:42:43 [INFO] Setting demo id to 387 ESLOneKatowice2015-QF-nip-vs-tsm-dust2\n",
      "23:42:43 [INFO] Setting parse rate to 128\n",
      "23:42:43 [INFO] Setting trade time to 5\n",
      "23:42:43 [INFO] Setting buy style to hltv\n",
      "23:42:43 [INFO] Rollup damages set to False\n",
      "23:42:43 [INFO] Parse frames set to True\n",
      "23:42:43 [INFO] Running Golang parser from C:\\Users\\nguye\\anaconda3\\envs\\envTF24\\lib\\site-packages\\csgo-1.0-py3.7.egg\\csgo\\parser\\\n",
      "23:42:43 [INFO] Looking for file at D:\\EDAV\\387\\ESLOneKatowice2015-QF-nip-vs-tsm-dust2.dem\n"
     ]
    },
    {
     "name": "stdout",
     "output_type": "stream",
     "text": [
      "parsing    387 ESLOneKatowice2015-QF-nip-vs-tsm-dust2.dem\n"
     ]
    },
    {
     "name": "stderr",
     "output_type": "stream",
     "text": [
      "23:42:45 [INFO] Wrote demo parse output to 387 ESLOneKatowice2015-QF-nip-vs-tsm-dust2.json\n",
      "23:42:45 [INFO] Reading in JSON from 387 ESLOneKatowice2015-QF-nip-vs-tsm-dust2.json\n",
      "23:42:45 [INFO] JSON data loaded, available in the `json` attribute to parser\n",
      "23:42:45 [INFO] Successfully parsed JSON output\n",
      "23:42:45 [INFO] Successfully returned JSON output\n",
      "23:42:46 [INFO] Go version>=1.14.0\n",
      "23:42:46 [INFO] Initialized CSGODemoParser with demofile D:\\EDAV\\387\\ESLOneKatowice2015-QF-tsm-vs-nip-inferno.dem\n",
      "23:42:46 [INFO] Setting demo id to 387 ESLOneKatowice2015-QF-tsm-vs-nip-inferno\n",
      "23:42:46 [INFO] Setting parse rate to 128\n",
      "23:42:46 [INFO] Setting trade time to 5\n",
      "23:42:46 [INFO] Setting buy style to hltv\n",
      "23:42:46 [INFO] Rollup damages set to False\n",
      "23:42:46 [INFO] Parse frames set to True\n",
      "23:42:46 [INFO] Running Golang parser from C:\\Users\\nguye\\anaconda3\\envs\\envTF24\\lib\\site-packages\\csgo-1.0-py3.7.egg\\csgo\\parser\\\n",
      "23:42:46 [INFO] Looking for file at D:\\EDAV\\387\\ESLOneKatowice2015-QF-tsm-vs-nip-inferno.dem\n"
     ]
    },
    {
     "name": "stdout",
     "output_type": "stream",
     "text": [
      "parsing    387 ESLOneKatowice2015-QF-tsm-vs-nip-inferno.dem\n"
     ]
    },
    {
     "name": "stderr",
     "output_type": "stream",
     "text": [
      "23:42:48 [INFO] Wrote demo parse output to 387 ESLOneKatowice2015-QF-tsm-vs-nip-inferno.json\n",
      "23:42:48 [INFO] Reading in JSON from 387 ESLOneKatowice2015-QF-tsm-vs-nip-inferno.json\n",
      "23:42:48 [INFO] JSON data loaded, available in the `json` attribute to parser\n",
      "23:42:48 [INFO] Successfully parsed JSON output\n",
      "23:42:48 [INFO] Successfully returned JSON output\n",
      "23:42:49 [INFO] Go version>=1.14.0\n",
      "23:42:49 [INFO] Initialized CSGODemoParser with demofile D:\\EDAV\\387\\ESLOneKatowice2015-QF-nip-vs-tsm-nuke.dem\n",
      "23:42:49 [INFO] Setting demo id to 387 ESLOneKatowice2015-QF-nip-vs-tsm-nuke\n",
      "23:42:49 [INFO] Setting parse rate to 128\n",
      "23:42:49 [INFO] Setting trade time to 5\n",
      "23:42:49 [INFO] Setting buy style to hltv\n",
      "23:42:49 [INFO] Rollup damages set to False\n",
      "23:42:49 [INFO] Parse frames set to True\n",
      "23:42:49 [INFO] Running Golang parser from C:\\Users\\nguye\\anaconda3\\envs\\envTF24\\lib\\site-packages\\csgo-1.0-py3.7.egg\\csgo\\parser\\\n",
      "23:42:49 [INFO] Looking for file at D:\\EDAV\\387\\ESLOneKatowice2015-QF-nip-vs-tsm-nuke.dem\n"
     ]
    },
    {
     "name": "stdout",
     "output_type": "stream",
     "text": [
      "parsing    387 ESLOneKatowice2015-QF-nip-vs-tsm-nuke.dem\n"
     ]
    },
    {
     "name": "stderr",
     "output_type": "stream",
     "text": [
      "23:42:51 [INFO] Wrote demo parse output to 387 ESLOneKatowice2015-QF-nip-vs-tsm-nuke.json\n",
      "23:42:51 [INFO] Reading in JSON from 387 ESLOneKatowice2015-QF-nip-vs-tsm-nuke.json\n",
      "23:42:51 [INFO] JSON data loaded, available in the `json` attribute to parser\n",
      "23:42:51 [INFO] Successfully parsed JSON output\n",
      "23:42:51 [INFO] Successfully returned JSON output\n",
      "23:42:53 [INFO] Go version>=1.14.0\n",
      "23:42:53 [INFO] Initialized CSGODemoParser with demofile D:\\EDAV\\388\\MLGColumbus2016-liquid-vs-luminosity-bo3-map1-mirage.dem\n",
      "23:42:53 [INFO] Setting demo id to 388 MLGColumbus2016-liquid-vs-luminosity-bo3-map1-mirage\n",
      "23:42:53 [INFO] Setting parse rate to 128\n",
      "23:42:53 [INFO] Setting trade time to 5\n",
      "23:42:53 [INFO] Setting buy style to hltv\n",
      "23:42:53 [INFO] Rollup damages set to False\n",
      "23:42:53 [INFO] Parse frames set to True\n",
      "23:42:53 [INFO] Running Golang parser from C:\\Users\\nguye\\anaconda3\\envs\\envTF24\\lib\\site-packages\\csgo-1.0-py3.7.egg\\csgo\\parser\\\n",
      "23:42:53 [INFO] Looking for file at D:\\EDAV\\388\\MLGColumbus2016-liquid-vs-luminosity-bo3-map1-mirage.dem\n"
     ]
    },
    {
     "name": "stdout",
     "output_type": "stream",
     "text": [
      "parsing    388 MLGColumbus2016-liquid-vs-luminosity-bo3-map1-mirage.dem\n"
     ]
    },
    {
     "name": "stderr",
     "output_type": "stream",
     "text": [
      "23:42:59 [INFO] Wrote demo parse output to 388 MLGColumbus2016-liquid-vs-luminosity-bo3-map1-mirage.json\n",
      "23:42:59 [INFO] Reading in JSON from 388 MLGColumbus2016-liquid-vs-luminosity-bo3-map1-mirage.json\n",
      "23:43:00 [INFO] JSON data loaded, available in the `json` attribute to parser\n",
      "23:43:00 [INFO] Successfully parsed JSON output\n",
      "23:43:00 [INFO] Successfully returned JSON output\n",
      "23:43:10 [INFO] Go version>=1.14.0\n",
      "23:43:10 [INFO] Initialized CSGODemoParser with demofile D:\\EDAV\\388\\MLGColumbus2016-liquid-vs-luminosity-bo3-map2-cache.dem\n",
      "23:43:10 [INFO] Setting demo id to 388 MLGColumbus2016-liquid-vs-luminosity-bo3-map2-cache\n",
      "23:43:10 [INFO] Setting parse rate to 128\n",
      "23:43:10 [INFO] Setting trade time to 5\n",
      "23:43:10 [INFO] Setting buy style to hltv\n",
      "23:43:10 [INFO] Rollup damages set to False\n",
      "23:43:10 [INFO] Parse frames set to True\n",
      "23:43:10 [INFO] Running Golang parser from C:\\Users\\nguye\\anaconda3\\envs\\envTF24\\lib\\site-packages\\csgo-1.0-py3.7.egg\\csgo\\parser\\\n",
      "23:43:10 [INFO] Looking for file at D:\\EDAV\\388\\MLGColumbus2016-liquid-vs-luminosity-bo3-map2-cache.dem\n"
     ]
    },
    {
     "name": "stdout",
     "output_type": "stream",
     "text": [
      "parsing    388 MLGColumbus2016-liquid-vs-luminosity-bo3-map2-cache.dem\n"
     ]
    },
    {
     "name": "stderr",
     "output_type": "stream",
     "text": [
      "23:43:18 [INFO] Wrote demo parse output to 388 MLGColumbus2016-liquid-vs-luminosity-bo3-map2-cache.json\n",
      "23:43:18 [INFO] Reading in JSON from 388 MLGColumbus2016-liquid-vs-luminosity-bo3-map2-cache.json\n",
      "23:43:18 [INFO] JSON data loaded, available in the `json` attribute to parser\n",
      "23:43:18 [INFO] Successfully parsed JSON output\n",
      "23:43:18 [INFO] Successfully returned JSON output\n",
      "23:43:30 [INFO] Go version>=1.14.0\n",
      "23:43:30 [INFO] Initialized CSGODemoParser with demofile D:\\EDAV\\389\\sk-vs-immortals-overpass.dem\n",
      "23:43:30 [INFO] Setting demo id to 389 sk-vs-immortals-overpass\n",
      "23:43:30 [INFO] Setting parse rate to 128\n",
      "23:43:30 [INFO] Setting trade time to 5\n",
      "23:43:30 [INFO] Setting buy style to hltv\n",
      "23:43:30 [INFO] Rollup damages set to False\n",
      "23:43:30 [INFO] Parse frames set to True\n",
      "23:43:30 [INFO] Running Golang parser from C:\\Users\\nguye\\anaconda3\\envs\\envTF24\\lib\\site-packages\\csgo-1.0-py3.7.egg\\csgo\\parser\\\n",
      "23:43:30 [INFO] Looking for file at D:\\EDAV\\389\\sk-vs-immortals-overpass.dem\n"
     ]
    },
    {
     "name": "stdout",
     "output_type": "stream",
     "text": [
      "parsing    389 sk-vs-immortals-overpass.dem\n"
     ]
    },
    {
     "name": "stderr",
     "output_type": "stream",
     "text": [
      "23:43:36 [INFO] Wrote demo parse output to 389 sk-vs-immortals-overpass.json\n",
      "23:43:36 [INFO] Reading in JSON from 389 sk-vs-immortals-overpass.json\n",
      "23:43:36 [INFO] JSON data loaded, available in the `json` attribute to parser\n",
      "23:43:36 [INFO] Successfully parsed JSON output\n",
      "23:43:36 [INFO] Successfully returned JSON output\n",
      "23:43:44 [INFO] Go version>=1.14.0\n",
      "23:43:44 [INFO] Initialized CSGODemoParser with demofile D:\\EDAV\\390\\north-vs-g2-overpass.dem\n",
      "23:43:44 [INFO] Setting demo id to 390 north-vs-g2-overpass\n",
      "23:43:44 [INFO] Setting parse rate to 128\n",
      "23:43:44 [INFO] Setting trade time to 5\n",
      "23:43:44 [INFO] Setting buy style to hltv\n",
      "23:43:44 [INFO] Rollup damages set to False\n",
      "23:43:44 [INFO] Parse frames set to True\n",
      "23:43:44 [INFO] Running Golang parser from C:\\Users\\nguye\\anaconda3\\envs\\envTF24\\lib\\site-packages\\csgo-1.0-py3.7.egg\\csgo\\parser\\\n",
      "23:43:44 [INFO] Looking for file at D:\\EDAV\\390\\north-vs-g2-overpass.dem\n"
     ]
    },
    {
     "name": "stdout",
     "output_type": "stream",
     "text": [
      "parsing    390 north-vs-g2-overpass.dem\n"
     ]
    },
    {
     "name": "stderr",
     "output_type": "stream",
     "text": [
      "23:43:50 [INFO] Wrote demo parse output to 390 north-vs-g2-overpass.json\n",
      "23:43:50 [INFO] Reading in JSON from 390 north-vs-g2-overpass.json\n",
      "23:43:51 [INFO] JSON data loaded, available in the `json` attribute to parser\n",
      "23:43:51 [INFO] Successfully parsed JSON output\n",
      "23:43:51 [INFO] Successfully returned JSON output\n",
      "23:43:59 [INFO] Go version>=1.14.0\n",
      "23:43:59 [INFO] Initialized CSGODemoParser with demofile D:\\EDAV\\391\\flipsid3-vs-immortals-train.dem\n",
      "23:43:59 [INFO] Setting demo id to 391 flipsid3-vs-immortals-train\n",
      "23:43:59 [INFO] Setting parse rate to 128\n",
      "23:43:59 [INFO] Setting trade time to 5\n",
      "23:43:59 [INFO] Setting buy style to hltv\n",
      "23:43:59 [INFO] Rollup damages set to False\n",
      "23:43:59 [INFO] Parse frames set to True\n",
      "23:43:59 [INFO] Running Golang parser from C:\\Users\\nguye\\anaconda3\\envs\\envTF24\\lib\\site-packages\\csgo-1.0-py3.7.egg\\csgo\\parser\\\n",
      "23:43:59 [INFO] Looking for file at D:\\EDAV\\391\\flipsid3-vs-immortals-train.dem\n"
     ]
    },
    {
     "name": "stdout",
     "output_type": "stream",
     "text": [
      "parsing    391 flipsid3-vs-immortals-train.dem\n"
     ]
    },
    {
     "name": "stderr",
     "output_type": "stream",
     "text": [
      "23:44:03 [INFO] Wrote demo parse output to 391 flipsid3-vs-immortals-train.json\n",
      "23:44:03 [INFO] Reading in JSON from 391 flipsid3-vs-immortals-train.json\n",
      "23:44:03 [INFO] JSON data loaded, available in the `json` attribute to parser\n",
      "23:44:03 [INFO] Successfully parsed JSON output\n",
      "23:44:03 [INFO] Successfully returned JSON output\n",
      "23:44:09 [INFO] Go version>=1.14.0\n",
      "23:44:09 [INFO] Initialized CSGODemoParser with demofile D:\\EDAV\\392\\DHW14-GroupB-ibuypower-vs-cphwolves-nuke.dem\n",
      "23:44:09 [INFO] Setting demo id to 392 DHW14-GroupB-ibuypower-vs-cphwolves-nuke\n",
      "23:44:09 [INFO] Setting parse rate to 128\n",
      "23:44:09 [INFO] Setting trade time to 5\n",
      "23:44:09 [INFO] Setting buy style to hltv\n",
      "23:44:09 [INFO] Rollup damages set to False\n",
      "23:44:09 [INFO] Parse frames set to True\n",
      "23:44:09 [INFO] Running Golang parser from C:\\Users\\nguye\\anaconda3\\envs\\envTF24\\lib\\site-packages\\csgo-1.0-py3.7.egg\\csgo\\parser\\\n",
      "23:44:09 [INFO] Looking for file at D:\\EDAV\\392\\DHW14-GroupB-ibuypower-vs-cphwolves-nuke.dem\n"
     ]
    },
    {
     "name": "stdout",
     "output_type": "stream",
     "text": [
      "parsing    392 DHW14-GroupB-ibuypower-vs-cphwolves-nuke.dem\n"
     ]
    },
    {
     "name": "stderr",
     "output_type": "stream",
     "text": [
      "23:44:11 [INFO] Wrote demo parse output to 392 DHW14-GroupB-ibuypower-vs-cphwolves-nuke.json\n",
      "23:44:11 [INFO] Reading in JSON from 392 DHW14-GroupB-ibuypower-vs-cphwolves-nuke.json\n",
      "23:44:11 [INFO] JSON data loaded, available in the `json` attribute to parser\n",
      "23:44:11 [INFO] Successfully parsed JSON output\n",
      "23:44:11 [INFO] Successfully returned JSON output\n",
      "23:44:12 [INFO] Go version>=1.14.0\n",
      "23:44:12 [INFO] Initialized CSGODemoParser with demofile D:\\EDAV\\393\\ESLOneKatowice2015-Groups-envyus-vs-lgb-cache.dem\n",
      "23:44:12 [INFO] Setting demo id to 393 ESLOneKatowice2015-Groups-envyus-vs-lgb-cache\n",
      "23:44:12 [INFO] Setting parse rate to 128\n",
      "23:44:12 [INFO] Setting trade time to 5\n",
      "23:44:12 [INFO] Setting buy style to hltv\n",
      "23:44:12 [INFO] Rollup damages set to False\n",
      "23:44:12 [INFO] Parse frames set to True\n",
      "23:44:12 [INFO] Running Golang parser from C:\\Users\\nguye\\anaconda3\\envs\\envTF24\\lib\\site-packages\\csgo-1.0-py3.7.egg\\csgo\\parser\\\n",
      "23:44:12 [INFO] Looking for file at D:\\EDAV\\393\\ESLOneKatowice2015-Groups-envyus-vs-lgb-cache.dem\n"
     ]
    },
    {
     "name": "stdout",
     "output_type": "stream",
     "text": [
      "parsing    393 ESLOneKatowice2015-Groups-envyus-vs-lgb-cache.dem\n"
     ]
    },
    {
     "name": "stderr",
     "output_type": "stream",
     "text": [
      "23:44:14 [INFO] Wrote demo parse output to 393 ESLOneKatowice2015-Groups-envyus-vs-lgb-cache.json\n",
      "23:44:14 [INFO] Reading in JSON from 393 ESLOneKatowice2015-Groups-envyus-vs-lgb-cache.json\n",
      "23:44:14 [INFO] JSON data loaded, available in the `json` attribute to parser\n",
      "23:44:14 [INFO] Successfully parsed JSON output\n",
      "23:44:14 [INFO] Successfully returned JSON output\n",
      "23:44:15 [INFO] Go version>=1.14.0\n",
      "23:44:15 [INFO] Initialized CSGODemoParser with demofile D:\\EDAV\\394\\ESLOneKatowice2015-Groups-navi-vs-flipsid3-mirage.dem\n",
      "23:44:15 [INFO] Setting demo id to 394 ESLOneKatowice2015-Groups-navi-vs-flipsid3-mirage\n",
      "23:44:15 [INFO] Setting parse rate to 128\n",
      "23:44:15 [INFO] Setting trade time to 5\n",
      "23:44:15 [INFO] Setting buy style to hltv\n",
      "23:44:15 [INFO] Rollup damages set to False\n",
      "23:44:15 [INFO] Parse frames set to True\n",
      "23:44:15 [INFO] Running Golang parser from C:\\Users\\nguye\\anaconda3\\envs\\envTF24\\lib\\site-packages\\csgo-1.0-py3.7.egg\\csgo\\parser\\\n",
      "23:44:15 [INFO] Looking for file at D:\\EDAV\\394\\ESLOneKatowice2015-Groups-navi-vs-flipsid3-mirage.dem\n"
     ]
    },
    {
     "name": "stdout",
     "output_type": "stream",
     "text": [
      "parsing    394 ESLOneKatowice2015-Groups-navi-vs-flipsid3-mirage.dem\n"
     ]
    },
    {
     "name": "stderr",
     "output_type": "stream",
     "text": [
      "23:44:17 [INFO] Wrote demo parse output to 394 ESLOneKatowice2015-Groups-navi-vs-flipsid3-mirage.json\n",
      "23:44:17 [INFO] Reading in JSON from 394 ESLOneKatowice2015-Groups-navi-vs-flipsid3-mirage.json\n",
      "23:44:17 [INFO] JSON data loaded, available in the `json` attribute to parser\n",
      "23:44:17 [INFO] Successfully parsed JSON output\n",
      "23:44:17 [INFO] Successfully returned JSON output\n",
      "23:44:18 [INFO] Go version>=1.14.0\n",
      "23:44:18 [INFO] Initialized CSGODemoParser with demofile D:\\EDAV\\395\\virtus-pro-vs-fnatic-inferno.dem\n",
      "23:44:18 [INFO] Setting demo id to 395 virtus-pro-vs-fnatic-inferno\n",
      "23:44:18 [INFO] Setting parse rate to 128\n",
      "23:44:18 [INFO] Setting trade time to 5\n",
      "23:44:18 [INFO] Setting buy style to hltv\n",
      "23:44:18 [INFO] Rollup damages set to False\n",
      "23:44:18 [INFO] Parse frames set to True\n",
      "23:44:18 [INFO] Running Golang parser from C:\\Users\\nguye\\anaconda3\\envs\\envTF24\\lib\\site-packages\\csgo-1.0-py3.7.egg\\csgo\\parser\\\n",
      "23:44:18 [INFO] Looking for file at D:\\EDAV\\395\\virtus-pro-vs-fnatic-inferno.dem\n"
     ]
    },
    {
     "name": "stdout",
     "output_type": "stream",
     "text": [
      "parsing    395 virtus-pro-vs-fnatic-inferno.dem\n"
     ]
    },
    {
     "name": "stderr",
     "output_type": "stream",
     "text": [
      "23:44:22 [INFO] Wrote demo parse output to 395 virtus-pro-vs-fnatic-inferno.json\n",
      "23:44:22 [INFO] Reading in JSON from 395 virtus-pro-vs-fnatic-inferno.json\n",
      "23:44:23 [INFO] JSON data loaded, available in the `json` attribute to parser\n",
      "23:44:23 [INFO] Successfully parsed JSON output\n",
      "23:44:23 [INFO] Successfully returned JSON output\n",
      "23:44:30 [INFO] Go version>=1.14.0\n",
      "23:44:30 [INFO] Initialized CSGODemoParser with demofile D:\\EDAV\\396\\ESLOneCologne2015-navi-vs-titan-overpass-1.dem\n",
      "23:44:30 [INFO] Setting demo id to 396 ESLOneCologne2015-navi-vs-titan-overpass-1\n",
      "23:44:30 [INFO] Setting parse rate to 128\n",
      "23:44:30 [INFO] Setting trade time to 5\n",
      "23:44:30 [INFO] Setting buy style to hltv\n",
      "23:44:30 [INFO] Rollup damages set to False\n",
      "23:44:30 [INFO] Parse frames set to True\n",
      "23:44:30 [INFO] Running Golang parser from C:\\Users\\nguye\\anaconda3\\envs\\envTF24\\lib\\site-packages\\csgo-1.0-py3.7.egg\\csgo\\parser\\\n",
      "23:44:30 [INFO] Looking for file at D:\\EDAV\\396\\ESLOneCologne2015-navi-vs-titan-overpass-1.dem\n"
     ]
    },
    {
     "name": "stdout",
     "output_type": "stream",
     "text": [
      "parsing    396 ESLOneCologne2015-navi-vs-titan-overpass-1.dem\n"
     ]
    },
    {
     "name": "stderr",
     "output_type": "stream",
     "text": [
      "23:44:34 [INFO] Wrote demo parse output to 396 ESLOneCologne2015-navi-vs-titan-overpass-1.json\n",
      "23:44:34 [INFO] Reading in JSON from 396 ESLOneCologne2015-navi-vs-titan-overpass-1.json\n",
      "23:44:34 [INFO] JSON data loaded, available in the `json` attribute to parser\n",
      "23:44:34 [INFO] Successfully parsed JSON output\n",
      "23:44:34 [INFO] Successfully returned JSON output\n",
      "23:44:37 [INFO] Go version>=1.14.0\n",
      "23:44:37 [INFO] Initialized CSGODemoParser with demofile D:\\EDAV\\397\\ESLOneCologne2016-astralis-vs-dignitas-map3-cache.dem\n",
      "23:44:37 [INFO] Setting demo id to 397 ESLOneCologne2016-astralis-vs-dignitas-map3-cache\n",
      "23:44:37 [INFO] Setting parse rate to 128\n",
      "23:44:37 [INFO] Setting trade time to 5\n",
      "23:44:37 [INFO] Setting buy style to hltv\n",
      "23:44:37 [INFO] Rollup damages set to False\n",
      "23:44:37 [INFO] Parse frames set to True\n",
      "23:44:37 [INFO] Running Golang parser from C:\\Users\\nguye\\anaconda3\\envs\\envTF24\\lib\\site-packages\\csgo-1.0-py3.7.egg\\csgo\\parser\\\n",
      "23:44:37 [INFO] Looking for file at D:\\EDAV\\397\\ESLOneCologne2016-astralis-vs-dignitas-map3-cache.dem\n"
     ]
    },
    {
     "name": "stdout",
     "output_type": "stream",
     "text": [
      "parsing    397 ESLOneCologne2016-astralis-vs-dignitas-map3-cache.dem\n"
     ]
    },
    {
     "name": "stderr",
     "output_type": "stream",
     "text": [
      "23:44:43 [INFO] Wrote demo parse output to 397 ESLOneCologne2016-astralis-vs-dignitas-map3-cache.json\n",
      "23:44:43 [INFO] Reading in JSON from 397 ESLOneCologne2016-astralis-vs-dignitas-map3-cache.json\n",
      "23:44:44 [INFO] JSON data loaded, available in the `json` attribute to parser\n",
      "23:44:44 [INFO] Successfully parsed JSON output\n",
      "23:44:44 [INFO] Successfully returned JSON output\n",
      "23:44:53 [INFO] Go version>=1.14.0\n",
      "23:44:53 [INFO] Initialized CSGODemoParser with demofile D:\\EDAV\\397\\ESLOneCologne2016-astralis-vs-dignitas-map1-cobblestone.dem\n",
      "23:44:53 [INFO] Setting demo id to 397 ESLOneCologne2016-astralis-vs-dignitas-map1-cobblestone\n",
      "23:44:53 [INFO] Setting parse rate to 128\n",
      "23:44:53 [INFO] Setting trade time to 5\n",
      "23:44:53 [INFO] Setting buy style to hltv\n",
      "23:44:53 [INFO] Rollup damages set to False\n",
      "23:44:53 [INFO] Parse frames set to True\n",
      "23:44:53 [INFO] Running Golang parser from C:\\Users\\nguye\\anaconda3\\envs\\envTF24\\lib\\site-packages\\csgo-1.0-py3.7.egg\\csgo\\parser\\\n",
      "23:44:53 [INFO] Looking for file at D:\\EDAV\\397\\ESLOneCologne2016-astralis-vs-dignitas-map1-cobblestone.dem\n"
     ]
    },
    {
     "name": "stdout",
     "output_type": "stream",
     "text": [
      "parsing    397 ESLOneCologne2016-astralis-vs-dignitas-map1-cobblestone.dem\n"
     ]
    },
    {
     "name": "stderr",
     "output_type": "stream",
     "text": [
      "23:45:00 [INFO] Wrote demo parse output to 397 ESLOneCologne2016-astralis-vs-dignitas-map1-cobblestone.json\n",
      "23:45:00 [INFO] Reading in JSON from 397 ESLOneCologne2016-astralis-vs-dignitas-map1-cobblestone.json\n",
      "23:45:01 [INFO] JSON data loaded, available in the `json` attribute to parser\n",
      "23:45:01 [INFO] Successfully parsed JSON output\n",
      "23:45:01 [INFO] Successfully returned JSON output\n",
      "23:45:12 [INFO] Go version>=1.14.0\n",
      "23:45:12 [INFO] Initialized CSGODemoParser with demofile D:\\EDAV\\397\\ESLOneCologne2016-astralis-vs-dignitas-map2-mirage.dem\n",
      "23:45:12 [INFO] Setting demo id to 397 ESLOneCologne2016-astralis-vs-dignitas-map2-mirage\n",
      "23:45:12 [INFO] Setting parse rate to 128\n",
      "23:45:12 [INFO] Setting trade time to 5\n",
      "23:45:12 [INFO] Setting buy style to hltv\n",
      "23:45:12 [INFO] Rollup damages set to False\n",
      "23:45:12 [INFO] Parse frames set to True\n",
      "23:45:12 [INFO] Running Golang parser from C:\\Users\\nguye\\anaconda3\\envs\\envTF24\\lib\\site-packages\\csgo-1.0-py3.7.egg\\csgo\\parser\\\n",
      "23:45:12 [INFO] Looking for file at D:\\EDAV\\397\\ESLOneCologne2016-astralis-vs-dignitas-map2-mirage.dem\n"
     ]
    },
    {
     "name": "stdout",
     "output_type": "stream",
     "text": [
      "parsing    397 ESLOneCologne2016-astralis-vs-dignitas-map2-mirage.dem\n"
     ]
    },
    {
     "name": "stderr",
     "output_type": "stream",
     "text": [
      "23:45:17 [INFO] Wrote demo parse output to 397 ESLOneCologne2016-astralis-vs-dignitas-map2-mirage.json\n",
      "23:45:17 [INFO] Reading in JSON from 397 ESLOneCologne2016-astralis-vs-dignitas-map2-mirage.json\n",
      "23:45:18 [INFO] JSON data loaded, available in the `json` attribute to parser\n",
      "23:45:18 [INFO] Successfully parsed JSON output\n",
      "23:45:18 [INFO] Successfully returned JSON output\n",
      "23:45:26 [INFO] Go version>=1.14.0\n",
      "23:45:26 [INFO] Initialized CSGODemoParser with demofile D:\\EDAV\\398\\DHW14-GroupD-virtuspro-vs-navi-nuke.dem\n",
      "23:45:26 [INFO] Setting demo id to 398 DHW14-GroupD-virtuspro-vs-navi-nuke\n",
      "23:45:26 [INFO] Setting parse rate to 128\n",
      "23:45:26 [INFO] Setting trade time to 5\n",
      "23:45:26 [INFO] Setting buy style to hltv\n",
      "23:45:26 [INFO] Rollup damages set to False\n",
      "23:45:26 [INFO] Parse frames set to True\n",
      "23:45:26 [INFO] Running Golang parser from C:\\Users\\nguye\\anaconda3\\envs\\envTF24\\lib\\site-packages\\csgo-1.0-py3.7.egg\\csgo\\parser\\\n",
      "23:45:26 [INFO] Looking for file at D:\\EDAV\\398\\DHW14-GroupD-virtuspro-vs-navi-nuke.dem\n"
     ]
    },
    {
     "name": "stdout",
     "output_type": "stream",
     "text": [
      "parsing    398 DHW14-GroupD-virtuspro-vs-navi-nuke.dem\n"
     ]
    },
    {
     "name": "stderr",
     "output_type": "stream",
     "text": [
      "23:45:28 [INFO] Wrote demo parse output to 398 DHW14-GroupD-virtuspro-vs-navi-nuke.json\n",
      "23:45:28 [INFO] Reading in JSON from 398 DHW14-GroupD-virtuspro-vs-navi-nuke.json\n",
      "23:45:28 [INFO] JSON data loaded, available in the `json` attribute to parser\n",
      "23:45:28 [INFO] Successfully parsed JSON output\n",
      "23:45:28 [INFO] Successfully returned JSON output\n",
      "23:45:29 [INFO] Go version>=1.14.0\n",
      "23:45:29 [INFO] Initialized CSGODemoParser with demofile D:\\EDAV\\399\\DHW14-GroupA-hellraisers-vs-cloud9-inferno.dem\n",
      "23:45:29 [INFO] Setting demo id to 399 DHW14-GroupA-hellraisers-vs-cloud9-inferno\n",
      "23:45:29 [INFO] Setting parse rate to 128\n",
      "23:45:29 [INFO] Setting trade time to 5\n",
      "23:45:29 [INFO] Setting buy style to hltv\n",
      "23:45:29 [INFO] Rollup damages set to False\n",
      "23:45:29 [INFO] Parse frames set to True\n",
      "23:45:29 [INFO] Running Golang parser from C:\\Users\\nguye\\anaconda3\\envs\\envTF24\\lib\\site-packages\\csgo-1.0-py3.7.egg\\csgo\\parser\\\n",
      "23:45:29 [INFO] Looking for file at D:\\EDAV\\399\\DHW14-GroupA-hellraisers-vs-cloud9-inferno.dem\n"
     ]
    },
    {
     "name": "stdout",
     "output_type": "stream",
     "text": [
      "parsing    399 DHW14-GroupA-hellraisers-vs-cloud9-inferno.dem\n"
     ]
    },
    {
     "name": "stderr",
     "output_type": "stream",
     "text": [
      "23:45:31 [INFO] Wrote demo parse output to 399 DHW14-GroupA-hellraisers-vs-cloud9-inferno.json\n",
      "23:45:31 [INFO] Reading in JSON from 399 DHW14-GroupA-hellraisers-vs-cloud9-inferno.json\n",
      "23:45:31 [INFO] JSON data loaded, available in the `json` attribute to parser\n",
      "23:45:31 [INFO] Successfully parsed JSON output\n",
      "23:45:31 [INFO] Successfully returned JSON output\n",
      "23:45:32 [INFO] Go version>=1.14.0\n",
      "23:45:32 [INFO] Initialized CSGODemoParser with demofile D:\\EDAV\\400\\ESLOneKatowice2015-Groups-fnatic-vs-voxeminor-inferno.dem\n",
      "23:45:32 [INFO] Setting demo id to 400 ESLOneKatowice2015-Groups-fnatic-vs-voxeminor-inferno\n",
      "23:45:32 [INFO] Setting parse rate to 128\n",
      "23:45:32 [INFO] Setting trade time to 5\n",
      "23:45:32 [INFO] Setting buy style to hltv\n",
      "23:45:32 [INFO] Rollup damages set to False\n",
      "23:45:32 [INFO] Parse frames set to True\n",
      "23:45:32 [INFO] Running Golang parser from C:\\Users\\nguye\\anaconda3\\envs\\envTF24\\lib\\site-packages\\csgo-1.0-py3.7.egg\\csgo\\parser\\\n",
      "23:45:32 [INFO] Looking for file at D:\\EDAV\\400\\ESLOneKatowice2015-Groups-fnatic-vs-voxeminor-inferno.dem\n"
     ]
    },
    {
     "name": "stdout",
     "output_type": "stream",
     "text": [
      "parsing    400 ESLOneKatowice2015-Groups-fnatic-vs-voxeminor-inferno.dem\n"
     ]
    },
    {
     "name": "stderr",
     "output_type": "stream",
     "text": [
      "23:45:34 [INFO] Wrote demo parse output to 400 ESLOneKatowice2015-Groups-fnatic-vs-voxeminor-inferno.json\n",
      "23:45:34 [INFO] Reading in JSON from 400 ESLOneKatowice2015-Groups-fnatic-vs-voxeminor-inferno.json\n",
      "23:45:34 [INFO] JSON data loaded, available in the `json` attribute to parser\n",
      "23:45:34 [INFO] Successfully parsed JSON output\n",
      "23:45:34 [INFO] Successfully returned JSON output\n",
      "23:45:35 [INFO] Go version>=1.14.0\n",
      "23:45:35 [INFO] Initialized CSGODemoParser with demofile D:\\EDAV\\401\\DHW14-GroupD-virtuspro-vs-myxmg-inferno.dem\n",
      "23:45:35 [INFO] Setting demo id to 401 DHW14-GroupD-virtuspro-vs-myxmg-inferno\n",
      "23:45:35 [INFO] Setting parse rate to 128\n",
      "23:45:35 [INFO] Setting trade time to 5\n",
      "23:45:35 [INFO] Setting buy style to hltv\n",
      "23:45:35 [INFO] Rollup damages set to False\n",
      "23:45:35 [INFO] Parse frames set to True\n",
      "23:45:35 [INFO] Running Golang parser from C:\\Users\\nguye\\anaconda3\\envs\\envTF24\\lib\\site-packages\\csgo-1.0-py3.7.egg\\csgo\\parser\\\n",
      "23:45:35 [INFO] Looking for file at D:\\EDAV\\401\\DHW14-GroupD-virtuspro-vs-myxmg-inferno.dem\n"
     ]
    },
    {
     "name": "stdout",
     "output_type": "stream",
     "text": [
      "parsing    401 DHW14-GroupD-virtuspro-vs-myxmg-inferno.dem\n"
     ]
    },
    {
     "name": "stderr",
     "output_type": "stream",
     "text": [
      "23:45:36 [INFO] Wrote demo parse output to 401 DHW14-GroupD-virtuspro-vs-myxmg-inferno.json\n",
      "23:45:36 [INFO] Reading in JSON from 401 DHW14-GroupD-virtuspro-vs-myxmg-inferno.json\n",
      "23:45:37 [INFO] JSON data loaded, available in the `json` attribute to parser\n",
      "23:45:37 [INFO] Successfully parsed JSON output\n",
      "23:45:37 [INFO] Successfully returned JSON output\n",
      "23:45:37 [INFO] Go version>=1.14.0\n",
      "23:45:37 [INFO] Initialized CSGODemoParser with demofile D:\\EDAV\\402\\big-vs-g2-mirage.dem\n",
      "23:45:37 [INFO] Setting demo id to 402 big-vs-g2-mirage\n",
      "23:45:37 [INFO] Setting parse rate to 128\n",
      "23:45:37 [INFO] Setting trade time to 5\n",
      "23:45:37 [INFO] Setting buy style to hltv\n",
      "23:45:37 [INFO] Rollup damages set to False\n",
      "23:45:37 [INFO] Parse frames set to True\n",
      "23:45:37 [INFO] Running Golang parser from C:\\Users\\nguye\\anaconda3\\envs\\envTF24\\lib\\site-packages\\csgo-1.0-py3.7.egg\\csgo\\parser\\\n",
      "23:45:37 [INFO] Looking for file at D:\\EDAV\\402\\big-vs-g2-mirage.dem\n"
     ]
    },
    {
     "name": "stdout",
     "output_type": "stream",
     "text": [
      "parsing    402 big-vs-g2-mirage.dem\n"
     ]
    },
    {
     "name": "stderr",
     "output_type": "stream",
     "text": [
      "23:45:43 [INFO] Wrote demo parse output to 402 big-vs-g2-mirage.json\n",
      "23:45:43 [INFO] Reading in JSON from 402 big-vs-g2-mirage.json\n",
      "23:45:44 [INFO] JSON data loaded, available in the `json` attribute to parser\n",
      "23:45:44 [INFO] Successfully parsed JSON output\n",
      "23:45:44 [INFO] Successfully returned JSON output\n",
      "23:45:52 [INFO] Go version>=1.14.0\n",
      "23:45:52 [INFO] Initialized CSGODemoParser with demofile D:\\EDAV\\403\\ESLOneCologne-GroupD-dignitas-vs-voxeminor-dust2.dem\n",
      "23:45:52 [INFO] Setting demo id to 403 ESLOneCologne-GroupD-dignitas-vs-voxeminor-dust2\n",
      "23:45:52 [INFO] Setting parse rate to 128\n",
      "23:45:52 [INFO] Setting trade time to 5\n",
      "23:45:52 [INFO] Setting buy style to hltv\n",
      "23:45:52 [INFO] Rollup damages set to False\n",
      "23:45:52 [INFO] Parse frames set to True\n",
      "23:45:52 [INFO] Running Golang parser from C:\\Users\\nguye\\anaconda3\\envs\\envTF24\\lib\\site-packages\\csgo-1.0-py3.7.egg\\csgo\\parser\\\n",
      "23:45:52 [INFO] Looking for file at D:\\EDAV\\403\\ESLOneCologne-GroupD-dignitas-vs-voxeminor-dust2.dem\n"
     ]
    },
    {
     "name": "stdout",
     "output_type": "stream",
     "text": [
      "parsing    403 ESLOneCologne-GroupD-dignitas-vs-voxeminor-dust2.dem\n"
     ]
    },
    {
     "name": "stderr",
     "output_type": "stream",
     "text": [
      "23:45:54 [INFO] Wrote demo parse output to 403 ESLOneCologne-GroupD-dignitas-vs-voxeminor-dust2.json\n",
      "23:45:54 [INFO] Reading in JSON from 403 ESLOneCologne-GroupD-dignitas-vs-voxeminor-dust2.json\n",
      "23:45:54 [INFO] JSON data loaded, available in the `json` attribute to parser\n",
      "23:45:54 [INFO] Successfully parsed JSON output\n",
      "23:45:54 [INFO] Successfully returned JSON output\n",
      "23:45:56 [INFO] Go version>=1.14.0\n",
      "23:45:56 [INFO] Initialized CSGODemoParser with demofile D:\\EDAV\\404\\g2-vs-liquid-inferno.dem\n",
      "23:45:56 [INFO] Setting demo id to 404 g2-vs-liquid-inferno\n",
      "23:45:56 [INFO] Setting parse rate to 128\n",
      "23:45:56 [INFO] Setting trade time to 5\n",
      "23:45:56 [INFO] Setting buy style to hltv\n",
      "23:45:56 [INFO] Rollup damages set to False\n",
      "23:45:56 [INFO] Parse frames set to True\n",
      "23:45:56 [INFO] Running Golang parser from C:\\Users\\nguye\\anaconda3\\envs\\envTF24\\lib\\site-packages\\csgo-1.0-py3.7.egg\\csgo\\parser\\\n",
      "23:45:56 [INFO] Looking for file at D:\\EDAV\\404\\g2-vs-liquid-inferno.dem\n"
     ]
    },
    {
     "name": "stdout",
     "output_type": "stream",
     "text": [
      "parsing    404 g2-vs-liquid-inferno.dem\n"
     ]
    },
    {
     "name": "stderr",
     "output_type": "stream",
     "text": [
      "23:46:00 [INFO] Wrote demo parse output to 404 g2-vs-liquid-inferno.json\n",
      "23:46:00 [INFO] Reading in JSON from 404 g2-vs-liquid-inferno.json\n",
      "23:46:01 [INFO] JSON data loaded, available in the `json` attribute to parser\n",
      "23:46:01 [INFO] Successfully parsed JSON output\n",
      "23:46:01 [INFO] Successfully returned JSON output\n",
      "23:46:07 [INFO] Go version>=1.14.0\n",
      "23:46:07 [INFO] Initialized CSGODemoParser with demofile D:\\EDAV\\405\\ESLOneCologne2016-astralis-vs-dignitas-overpass.dem\n",
      "23:46:07 [INFO] Setting demo id to 405 ESLOneCologne2016-astralis-vs-dignitas-overpass\n",
      "23:46:07 [INFO] Setting parse rate to 128\n",
      "23:46:07 [INFO] Setting trade time to 5\n",
      "23:46:07 [INFO] Setting buy style to hltv\n",
      "23:46:07 [INFO] Rollup damages set to False\n",
      "23:46:07 [INFO] Parse frames set to True\n",
      "23:46:07 [INFO] Running Golang parser from C:\\Users\\nguye\\anaconda3\\envs\\envTF24\\lib\\site-packages\\csgo-1.0-py3.7.egg\\csgo\\parser\\\n",
      "23:46:07 [INFO] Looking for file at D:\\EDAV\\405\\ESLOneCologne2016-astralis-vs-dignitas-overpass.dem\n"
     ]
    },
    {
     "name": "stdout",
     "output_type": "stream",
     "text": [
      "parsing    405 ESLOneCologne2016-astralis-vs-dignitas-overpass.dem\n"
     ]
    },
    {
     "name": "stderr",
     "output_type": "stream",
     "text": [
      "23:46:14 [INFO] Wrote demo parse output to 405 ESLOneCologne2016-astralis-vs-dignitas-overpass.json\n",
      "23:46:14 [INFO] Reading in JSON from 405 ESLOneCologne2016-astralis-vs-dignitas-overpass.json\n",
      "23:46:14 [INFO] JSON data loaded, available in the `json` attribute to parser\n",
      "23:46:14 [INFO] Successfully parsed JSON output\n",
      "23:46:14 [INFO] Successfully returned JSON output\n",
      "23:46:23 [INFO] Go version>=1.14.0\n",
      "23:46:23 [INFO] Initialized CSGODemoParser with demofile D:\\EDAV\\406\\003105686876745367632_1807606374_1_cloud9_vs_fnatic_dust2.dem\n",
      "23:46:23 [INFO] Setting demo id to 406 003105686876745367632_1807606374_1_cloud9_vs_fnatic_dust2\n",
      "23:46:23 [INFO] Setting parse rate to 128\n",
      "23:46:23 [INFO] Setting trade time to 5\n",
      "23:46:23 [INFO] Setting buy style to hltv\n",
      "23:46:23 [INFO] Rollup damages set to False\n",
      "23:46:23 [INFO] Parse frames set to True\n",
      "23:46:23 [INFO] Running Golang parser from C:\\Users\\nguye\\anaconda3\\envs\\envTF24\\lib\\site-packages\\csgo-1.0-py3.7.egg\\csgo\\parser\\\n",
      "23:46:23 [INFO] Looking for file at D:\\EDAV\\406\\003105686876745367632_1807606374_1_cloud9_vs_fnatic_dust2.dem\n"
     ]
    },
    {
     "name": "stdout",
     "output_type": "stream",
     "text": [
      "parsing    406 003105686876745367632_1807606374_1_cloud9_vs_fnatic_dust2.dem\n"
     ]
    },
    {
     "name": "stderr",
     "output_type": "stream",
     "text": [
      "23:46:27 [INFO] Wrote demo parse output to 406 003105686876745367632_1807606374_1_cloud9_vs_fnatic_dust2.json\n",
      "23:46:27 [INFO] Reading in JSON from 406 003105686876745367632_1807606374_1_cloud9_vs_fnatic_dust2.json\n",
      "23:46:27 [INFO] JSON data loaded, available in the `json` attribute to parser\n",
      "23:46:27 [INFO] Successfully parsed JSON output\n",
      "23:46:27 [INFO] Successfully returned JSON output\n",
      "23:46:33 [INFO] Go version>=1.14.0\n",
      "23:46:33 [INFO] Initialized CSGODemoParser with demofile D:\\EDAV\\406\\003105694790222610452_0569511311_1_cloud9_vs_fnatic_overpass.dem\n",
      "23:46:33 [INFO] Setting demo id to 406 003105694790222610452_0569511311_1_cloud9_vs_fnatic_overpass\n",
      "23:46:33 [INFO] Setting parse rate to 128\n",
      "23:46:33 [INFO] Setting trade time to 5\n",
      "23:46:33 [INFO] Setting buy style to hltv\n",
      "23:46:33 [INFO] Rollup damages set to False\n",
      "23:46:33 [INFO] Parse frames set to True\n",
      "23:46:33 [INFO] Running Golang parser from C:\\Users\\nguye\\anaconda3\\envs\\envTF24\\lib\\site-packages\\csgo-1.0-py3.7.egg\\csgo\\parser\\\n",
      "23:46:33 [INFO] Looking for file at D:\\EDAV\\406\\003105694790222610452_0569511311_1_cloud9_vs_fnatic_overpass.dem\n"
     ]
    },
    {
     "name": "stdout",
     "output_type": "stream",
     "text": [
      "parsing    406 003105694790222610452_0569511311_1_cloud9_vs_fnatic_overpass.dem\n"
     ]
    },
    {
     "name": "stderr",
     "output_type": "stream",
     "text": [
      "23:46:39 [INFO] Wrote demo parse output to 406 003105694790222610452_0569511311_1_cloud9_vs_fnatic_overpass.json\n",
      "23:46:39 [INFO] Reading in JSON from 406 003105694790222610452_0569511311_1_cloud9_vs_fnatic_overpass.json\n",
      "23:46:40 [INFO] JSON data loaded, available in the `json` attribute to parser\n",
      "23:46:40 [INFO] Successfully parsed JSON output\n",
      "23:46:40 [INFO] Successfully returned JSON output\n",
      "23:46:47 [INFO] Go version>=1.14.0\n",
      "23:46:47 [INFO] Initialized CSGODemoParser with demofile D:\\EDAV\\407\\ESLOneCologne2015-nip-vs-clg-dust2-1.dem\n",
      "23:46:47 [INFO] Setting demo id to 407 ESLOneCologne2015-nip-vs-clg-dust2-1\n",
      "23:46:47 [INFO] Setting parse rate to 128\n",
      "23:46:47 [INFO] Setting trade time to 5\n",
      "23:46:47 [INFO] Setting buy style to hltv\n",
      "23:46:47 [INFO] Rollup damages set to False\n",
      "23:46:47 [INFO] Parse frames set to True\n",
      "23:46:47 [INFO] Running Golang parser from C:\\Users\\nguye\\anaconda3\\envs\\envTF24\\lib\\site-packages\\csgo-1.0-py3.7.egg\\csgo\\parser\\\n",
      "23:46:47 [INFO] Looking for file at D:\\EDAV\\407\\ESLOneCologne2015-nip-vs-clg-dust2-1.dem\n"
     ]
    },
    {
     "name": "stdout",
     "output_type": "stream",
     "text": [
      "parsing    407 ESLOneCologne2015-nip-vs-clg-dust2-1.dem\n"
     ]
    },
    {
     "name": "stderr",
     "output_type": "stream",
     "text": [
      "23:46:50 [INFO] Wrote demo parse output to 407 ESLOneCologne2015-nip-vs-clg-dust2-1.json\n",
      "23:46:50 [INFO] Reading in JSON from 407 ESLOneCologne2015-nip-vs-clg-dust2-1.json\n",
      "23:46:50 [INFO] JSON data loaded, available in the `json` attribute to parser\n",
      "23:46:50 [INFO] Successfully parsed JSON output\n",
      "23:46:50 [INFO] Successfully returned JSON output\n",
      "23:46:52 [INFO] Go version>=1.14.0\n",
      "23:46:52 [INFO] Initialized CSGODemoParser with demofile D:\\EDAV\\408\\ESLOneCologne2015-fnatic-vs-envyus-dust2.dem\n",
      "23:46:52 [INFO] Setting demo id to 408 ESLOneCologne2015-fnatic-vs-envyus-dust2\n",
      "23:46:52 [INFO] Setting parse rate to 128\n",
      "23:46:52 [INFO] Setting trade time to 5\n",
      "23:46:52 [INFO] Setting buy style to hltv\n",
      "23:46:52 [INFO] Rollup damages set to False\n",
      "23:46:52 [INFO] Parse frames set to True\n",
      "23:46:52 [INFO] Running Golang parser from C:\\Users\\nguye\\anaconda3\\envs\\envTF24\\lib\\site-packages\\csgo-1.0-py3.7.egg\\csgo\\parser\\\n",
      "23:46:52 [INFO] Looking for file at D:\\EDAV\\408\\ESLOneCologne2015-fnatic-vs-envyus-dust2.dem\n"
     ]
    },
    {
     "name": "stdout",
     "output_type": "stream",
     "text": [
      "parsing    408 ESLOneCologne2015-fnatic-vs-envyus-dust2.dem\n"
     ]
    },
    {
     "name": "stderr",
     "output_type": "stream",
     "text": [
      "23:46:55 [INFO] Wrote demo parse output to 408 ESLOneCologne2015-fnatic-vs-envyus-dust2.json\n",
      "23:46:55 [INFO] Reading in JSON from 408 ESLOneCologne2015-fnatic-vs-envyus-dust2.json\n",
      "23:46:55 [INFO] JSON data loaded, available in the `json` attribute to parser\n",
      "23:46:55 [INFO] Successfully parsed JSON output\n",
      "23:46:55 [INFO] Successfully returned JSON output\n",
      "23:46:57 [INFO] Go version>=1.14.0\n",
      "23:46:57 [INFO] Initialized CSGODemoParser with demofile D:\\EDAV\\408\\ESLOneCologne2015-fnatic-vs-envyus-cobblestone.dem\n",
      "23:46:57 [INFO] Setting demo id to 408 ESLOneCologne2015-fnatic-vs-envyus-cobblestone\n",
      "23:46:57 [INFO] Setting parse rate to 128\n",
      "23:46:57 [INFO] Setting trade time to 5\n",
      "23:46:57 [INFO] Setting buy style to hltv\n",
      "23:46:57 [INFO] Rollup damages set to False\n",
      "23:46:57 [INFO] Parse frames set to True\n",
      "23:46:57 [INFO] Running Golang parser from C:\\Users\\nguye\\anaconda3\\envs\\envTF24\\lib\\site-packages\\csgo-1.0-py3.7.egg\\csgo\\parser\\\n",
      "23:46:57 [INFO] Looking for file at D:\\EDAV\\408\\ESLOneCologne2015-fnatic-vs-envyus-cobblestone.dem\n"
     ]
    },
    {
     "name": "stdout",
     "output_type": "stream",
     "text": [
      "parsing    408 ESLOneCologne2015-fnatic-vs-envyus-cobblestone.dem\n"
     ]
    },
    {
     "name": "stderr",
     "output_type": "stream",
     "text": [
      "23:47:00 [INFO] Wrote demo parse output to 408 ESLOneCologne2015-fnatic-vs-envyus-cobblestone.json\n",
      "23:47:00 [INFO] Reading in JSON from 408 ESLOneCologne2015-fnatic-vs-envyus-cobblestone.json\n",
      "23:47:00 [INFO] JSON data loaded, available in the `json` attribute to parser\n",
      "23:47:00 [INFO] Successfully parsed JSON output\n",
      "23:47:00 [INFO] Successfully returned JSON output\n",
      "23:47:02 [INFO] Go version>=1.14.0\n",
      "23:47:02 [INFO] Initialized CSGODemoParser with demofile D:\\EDAV\\409\\ESLOneKatowice2015-Groups-clg-vs-hellraisers-nuke.dem\n",
      "23:47:02 [INFO] Setting demo id to 409 ESLOneKatowice2015-Groups-clg-vs-hellraisers-nuke\n",
      "23:47:02 [INFO] Setting parse rate to 128\n",
      "23:47:02 [INFO] Setting trade time to 5\n",
      "23:47:02 [INFO] Setting buy style to hltv\n",
      "23:47:02 [INFO] Rollup damages set to False\n",
      "23:47:02 [INFO] Parse frames set to True\n",
      "23:47:02 [INFO] Running Golang parser from C:\\Users\\nguye\\anaconda3\\envs\\envTF24\\lib\\site-packages\\csgo-1.0-py3.7.egg\\csgo\\parser\\\n",
      "23:47:02 [INFO] Looking for file at D:\\EDAV\\409\\ESLOneKatowice2015-Groups-clg-vs-hellraisers-nuke.dem\n"
     ]
    },
    {
     "name": "stdout",
     "output_type": "stream",
     "text": [
      "parsing    409 ESLOneKatowice2015-Groups-clg-vs-hellraisers-nuke.dem\n"
     ]
    },
    {
     "name": "stderr",
     "output_type": "stream",
     "text": [
      "23:47:04 [INFO] Wrote demo parse output to 409 ESLOneKatowice2015-Groups-clg-vs-hellraisers-nuke.json\n",
      "23:47:04 [INFO] Reading in JSON from 409 ESLOneKatowice2015-Groups-clg-vs-hellraisers-nuke.json\n",
      "23:47:04 [INFO] JSON data loaded, available in the `json` attribute to parser\n",
      "23:47:04 [INFO] Successfully parsed JSON output\n",
      "23:47:04 [INFO] Successfully returned JSON output\n",
      "23:47:05 [INFO] Go version>=1.14.0\n",
      "23:47:05 [INFO] Initialized CSGODemoParser with demofile D:\\EDAV\\410\\g2-vs-cloud9-m2-overpass.dem\n",
      "23:47:05 [INFO] Setting demo id to 410 g2-vs-cloud9-m2-overpass\n",
      "23:47:05 [INFO] Setting parse rate to 128\n",
      "23:47:05 [INFO] Setting trade time to 5\n",
      "23:47:05 [INFO] Setting buy style to hltv\n",
      "23:47:05 [INFO] Rollup damages set to False\n",
      "23:47:05 [INFO] Parse frames set to True\n",
      "23:47:05 [INFO] Running Golang parser from C:\\Users\\nguye\\anaconda3\\envs\\envTF24\\lib\\site-packages\\csgo-1.0-py3.7.egg\\csgo\\parser\\\n",
      "23:47:05 [INFO] Looking for file at D:\\EDAV\\410\\g2-vs-cloud9-m2-overpass.dem\n"
     ]
    },
    {
     "name": "stdout",
     "output_type": "stream",
     "text": [
      "parsing    410 g2-vs-cloud9-m2-overpass.dem\n"
     ]
    },
    {
     "name": "stderr",
     "output_type": "stream",
     "text": [
      "23:47:11 [INFO] Wrote demo parse output to 410 g2-vs-cloud9-m2-overpass.json\n",
      "23:47:11 [INFO] Reading in JSON from 410 g2-vs-cloud9-m2-overpass.json\n",
      "23:47:11 [INFO] JSON data loaded, available in the `json` attribute to parser\n",
      "23:47:11 [INFO] Successfully parsed JSON output\n",
      "23:47:11 [INFO] Successfully returned JSON output\n",
      "23:47:17 [INFO] Go version>=1.14.0\n",
      "23:47:17 [INFO] Initialized CSGODemoParser with demofile D:\\EDAV\\410\\g2-vs-cloud9-m1-mirage.dem\n",
      "23:47:17 [INFO] Setting demo id to 410 g2-vs-cloud9-m1-mirage\n",
      "23:47:17 [INFO] Setting parse rate to 128\n",
      "23:47:17 [INFO] Setting trade time to 5\n",
      "23:47:17 [INFO] Setting buy style to hltv\n",
      "23:47:17 [INFO] Rollup damages set to False\n",
      "23:47:17 [INFO] Parse frames set to True\n",
      "23:47:18 [INFO] Running Golang parser from C:\\Users\\nguye\\anaconda3\\envs\\envTF24\\lib\\site-packages\\csgo-1.0-py3.7.egg\\csgo\\parser\\\n",
      "23:47:18 [INFO] Looking for file at D:\\EDAV\\410\\g2-vs-cloud9-m1-mirage.dem\n"
     ]
    },
    {
     "name": "stdout",
     "output_type": "stream",
     "text": [
      "parsing    410 g2-vs-cloud9-m1-mirage.dem\n"
     ]
    },
    {
     "name": "stderr",
     "output_type": "stream",
     "text": [
      "23:47:22 [INFO] Wrote demo parse output to 410 g2-vs-cloud9-m1-mirage.json\n",
      "23:47:22 [INFO] Reading in JSON from 410 g2-vs-cloud9-m1-mirage.json\n",
      "23:47:22 [INFO] JSON data loaded, available in the `json` attribute to parser\n",
      "23:47:22 [INFO] Successfully parsed JSON output\n",
      "23:47:22 [INFO] Successfully returned JSON output\n",
      "23:47:27 [INFO] Go version>=1.14.0\n",
      "23:47:27 [INFO] Initialized CSGODemoParser with demofile D:\\EDAV\\411\\godsent-vs-optic-cache.dem\n",
      "23:47:27 [INFO] Setting demo id to 411 godsent-vs-optic-cache\n",
      "23:47:27 [INFO] Setting parse rate to 128\n",
      "23:47:27 [INFO] Setting trade time to 5\n",
      "23:47:27 [INFO] Setting buy style to hltv\n",
      "23:47:27 [INFO] Rollup damages set to False\n",
      "23:47:27 [INFO] Parse frames set to True\n",
      "23:47:27 [INFO] Running Golang parser from C:\\Users\\nguye\\anaconda3\\envs\\envTF24\\lib\\site-packages\\csgo-1.0-py3.7.egg\\csgo\\parser\\\n",
      "23:47:27 [INFO] Looking for file at D:\\EDAV\\411\\godsent-vs-optic-cache.dem\n"
     ]
    },
    {
     "name": "stdout",
     "output_type": "stream",
     "text": [
      "parsing    411 godsent-vs-optic-cache.dem\n"
     ]
    },
    {
     "name": "stderr",
     "output_type": "stream",
     "text": [
      "23:47:32 [INFO] Wrote demo parse output to 411 godsent-vs-optic-cache.json\n",
      "23:47:32 [INFO] Reading in JSON from 411 godsent-vs-optic-cache.json\n",
      "23:47:32 [INFO] JSON data loaded, available in the `json` attribute to parser\n",
      "23:47:32 [INFO] Successfully parsed JSON output\n",
      "23:47:32 [INFO] Successfully returned JSON output\n",
      "23:47:39 [INFO] Go version>=1.14.0\n",
      "23:47:39 [INFO] Initialized CSGODemoParser with demofile D:\\EDAV\\412\\ESLOneCologne2016-sk-vs-faze-cobblestone.dem\n",
      "23:47:39 [INFO] Setting demo id to 412 ESLOneCologne2016-sk-vs-faze-cobblestone\n",
      "23:47:39 [INFO] Setting parse rate to 128\n",
      "23:47:39 [INFO] Setting trade time to 5\n",
      "23:47:39 [INFO] Setting buy style to hltv\n",
      "23:47:39 [INFO] Rollup damages set to False\n",
      "23:47:39 [INFO] Parse frames set to True\n",
      "23:47:39 [INFO] Running Golang parser from C:\\Users\\nguye\\anaconda3\\envs\\envTF24\\lib\\site-packages\\csgo-1.0-py3.7.egg\\csgo\\parser\\\n",
      "23:47:39 [INFO] Looking for file at D:\\EDAV\\412\\ESLOneCologne2016-sk-vs-faze-cobblestone.dem\n"
     ]
    },
    {
     "name": "stdout",
     "output_type": "stream",
     "text": [
      "parsing    412 ESLOneCologne2016-sk-vs-faze-cobblestone.dem\n"
     ]
    },
    {
     "name": "stderr",
     "output_type": "stream",
     "text": [
      "23:47:44 [INFO] Wrote demo parse output to 412 ESLOneCologne2016-sk-vs-faze-cobblestone.json\n",
      "23:47:44 [INFO] Reading in JSON from 412 ESLOneCologne2016-sk-vs-faze-cobblestone.json\n",
      "23:47:44 [INFO] JSON data loaded, available in the `json` attribute to parser\n",
      "23:47:44 [INFO] Successfully parsed JSON output\n",
      "23:47:44 [INFO] Successfully returned JSON output\n",
      "23:47:51 [INFO] Go version>=1.14.0\n",
      "23:47:51 [INFO] Initialized CSGODemoParser with demofile D:\\EDAV\\413\\gambit-vs-immortals-map3-inferno.dem\n",
      "23:47:51 [INFO] Setting demo id to 413 gambit-vs-immortals-map3-inferno\n",
      "23:47:51 [INFO] Setting parse rate to 128\n",
      "23:47:51 [INFO] Setting trade time to 5\n",
      "23:47:51 [INFO] Setting buy style to hltv\n",
      "23:47:51 [INFO] Rollup damages set to False\n",
      "23:47:51 [INFO] Parse frames set to True\n",
      "23:47:51 [INFO] Running Golang parser from C:\\Users\\nguye\\anaconda3\\envs\\envTF24\\lib\\site-packages\\csgo-1.0-py3.7.egg\\csgo\\parser\\\n",
      "23:47:51 [INFO] Looking for file at D:\\EDAV\\413\\gambit-vs-immortals-map3-inferno.dem\n"
     ]
    },
    {
     "name": "stdout",
     "output_type": "stream",
     "text": [
      "parsing    413 gambit-vs-immortals-map3-inferno.dem\n"
     ]
    },
    {
     "name": "stderr",
     "output_type": "stream",
     "text": [
      "23:47:56 [INFO] Wrote demo parse output to 413 gambit-vs-immortals-map3-inferno.json\n",
      "23:47:56 [INFO] Reading in JSON from 413 gambit-vs-immortals-map3-inferno.json\n",
      "23:47:57 [INFO] JSON data loaded, available in the `json` attribute to parser\n",
      "23:47:57 [INFO] Successfully parsed JSON output\n",
      "23:47:57 [INFO] Successfully returned JSON output\n",
      "23:48:06 [INFO] Go version>=1.14.0\n",
      "23:48:06 [INFO] Initialized CSGODemoParser with demofile D:\\EDAV\\413\\gambit-vs-immortals-map1-cobblestone.dem\n",
      "23:48:06 [INFO] Setting demo id to 413 gambit-vs-immortals-map1-cobblestone\n",
      "23:48:06 [INFO] Setting parse rate to 128\n",
      "23:48:06 [INFO] Setting trade time to 5\n",
      "23:48:06 [INFO] Setting buy style to hltv\n",
      "23:48:06 [INFO] Rollup damages set to False\n",
      "23:48:06 [INFO] Parse frames set to True\n",
      "23:48:06 [INFO] Running Golang parser from C:\\Users\\nguye\\anaconda3\\envs\\envTF24\\lib\\site-packages\\csgo-1.0-py3.7.egg\\csgo\\parser\\\n",
      "23:48:06 [INFO] Looking for file at D:\\EDAV\\413\\gambit-vs-immortals-map1-cobblestone.dem\n"
     ]
    },
    {
     "name": "stdout",
     "output_type": "stream",
     "text": [
      "parsing    413 gambit-vs-immortals-map1-cobblestone.dem\n"
     ]
    },
    {
     "name": "stderr",
     "output_type": "stream",
     "text": [
      "23:48:10 [INFO] Wrote demo parse output to 413 gambit-vs-immortals-map1-cobblestone.json\n",
      "23:48:10 [INFO] Reading in JSON from 413 gambit-vs-immortals-map1-cobblestone.json\n",
      "23:48:10 [INFO] JSON data loaded, available in the `json` attribute to parser\n",
      "23:48:10 [INFO] Successfully parsed JSON output\n",
      "23:48:10 [INFO] Successfully returned JSON output\n",
      "23:48:16 [INFO] Go version>=1.14.0\n",
      "23:48:16 [INFO] Initialized CSGODemoParser with demofile D:\\EDAV\\413\\gambit-vs-immortals-map2-train.dem\n",
      "23:48:16 [INFO] Setting demo id to 413 gambit-vs-immortals-map2-train\n",
      "23:48:16 [INFO] Setting parse rate to 128\n",
      "23:48:16 [INFO] Setting trade time to 5\n",
      "23:48:16 [INFO] Setting buy style to hltv\n",
      "23:48:16 [INFO] Rollup damages set to False\n",
      "23:48:16 [INFO] Parse frames set to True\n",
      "23:48:16 [INFO] Running Golang parser from C:\\Users\\nguye\\anaconda3\\envs\\envTF24\\lib\\site-packages\\csgo-1.0-py3.7.egg\\csgo\\parser\\\n",
      "23:48:16 [INFO] Looking for file at D:\\EDAV\\413\\gambit-vs-immortals-map2-train.dem\n"
     ]
    },
    {
     "name": "stdout",
     "output_type": "stream",
     "text": [
      "parsing    413 gambit-vs-immortals-map2-train.dem\n"
     ]
    },
    {
     "name": "stderr",
     "output_type": "stream",
     "text": [
      "23:48:21 [INFO] Wrote demo parse output to 413 gambit-vs-immortals-map2-train.json\n",
      "23:48:21 [INFO] Reading in JSON from 413 gambit-vs-immortals-map2-train.json\n",
      "23:48:21 [INFO] JSON data loaded, available in the `json` attribute to parser\n",
      "23:48:21 [INFO] Successfully parsed JSON output\n",
      "23:48:21 [INFO] Successfully returned JSON output\n",
      "23:48:29 [INFO] Go version>=1.14.0\n",
      "23:48:29 [INFO] Initialized CSGODemoParser with demofile D:\\EDAV\\414\\MLGColumbus2016-luminosity-vs-mousesports-mirage.dem\n",
      "23:48:29 [INFO] Setting demo id to 414 MLGColumbus2016-luminosity-vs-mousesports-mirage\n",
      "23:48:29 [INFO] Setting parse rate to 128\n",
      "23:48:29 [INFO] Setting trade time to 5\n",
      "23:48:29 [INFO] Setting buy style to hltv\n",
      "23:48:29 [INFO] Rollup damages set to False\n",
      "23:48:29 [INFO] Parse frames set to True\n",
      "23:48:29 [INFO] Running Golang parser from C:\\Users\\nguye\\anaconda3\\envs\\envTF24\\lib\\site-packages\\csgo-1.0-py3.7.egg\\csgo\\parser\\\n",
      "23:48:29 [INFO] Looking for file at D:\\EDAV\\414\\MLGColumbus2016-luminosity-vs-mousesports-mirage.dem\n"
     ]
    },
    {
     "name": "stdout",
     "output_type": "stream",
     "text": [
      "parsing    414 MLGColumbus2016-luminosity-vs-mousesports-mirage.dem\n"
     ]
    },
    {
     "name": "stderr",
     "output_type": "stream",
     "text": [
      "23:48:34 [INFO] Wrote demo parse output to 414 MLGColumbus2016-luminosity-vs-mousesports-mirage.json\n",
      "23:48:34 [INFO] Reading in JSON from 414 MLGColumbus2016-luminosity-vs-mousesports-mirage.json\n",
      "23:48:35 [INFO] JSON data loaded, available in the `json` attribute to parser\n",
      "23:48:35 [INFO] Successfully parsed JSON output\n",
      "23:48:35 [INFO] Successfully returned JSON output\n",
      "23:48:43 [INFO] Go version>=1.14.0\n",
      "23:48:43 [INFO] Initialized CSGODemoParser with demofile D:\\EDAV\\415\\ESLOneCologne2016-liquid-vs-virtuspro-cobblestone.dem\n",
      "23:48:43 [INFO] Setting demo id to 415 ESLOneCologne2016-liquid-vs-virtuspro-cobblestone\n",
      "23:48:43 [INFO] Setting parse rate to 128\n",
      "23:48:43 [INFO] Setting trade time to 5\n",
      "23:48:43 [INFO] Setting buy style to hltv\n",
      "23:48:43 [INFO] Rollup damages set to False\n",
      "23:48:43 [INFO] Parse frames set to True\n",
      "23:48:43 [INFO] Running Golang parser from C:\\Users\\nguye\\anaconda3\\envs\\envTF24\\lib\\site-packages\\csgo-1.0-py3.7.egg\\csgo\\parser\\\n",
      "23:48:43 [INFO] Looking for file at D:\\EDAV\\415\\ESLOneCologne2016-liquid-vs-virtuspro-cobblestone.dem\n"
     ]
    },
    {
     "name": "stdout",
     "output_type": "stream",
     "text": [
      "parsing    415 ESLOneCologne2016-liquid-vs-virtuspro-cobblestone.dem\n"
     ]
    },
    {
     "name": "stderr",
     "output_type": "stream",
     "text": [
      "23:48:48 [INFO] Wrote demo parse output to 415 ESLOneCologne2016-liquid-vs-virtuspro-cobblestone.json\n",
      "23:48:48 [INFO] Reading in JSON from 415 ESLOneCologne2016-liquid-vs-virtuspro-cobblestone.json\n",
      "23:48:49 [INFO] JSON data loaded, available in the `json` attribute to parser\n",
      "23:48:49 [INFO] Successfully parsed JSON output\n",
      "23:48:49 [INFO] Successfully returned JSON output\n",
      "23:48:57 [INFO] Go version>=1.14.0\n",
      "23:48:57 [INFO] Initialized CSGODemoParser with demofile D:\\EDAV\\416\\ence-vs-hellraisers-dust2.dem\n",
      "23:48:57 [INFO] Setting demo id to 416 ence-vs-hellraisers-dust2\n",
      "23:48:57 [INFO] Setting parse rate to 128\n",
      "23:48:57 [INFO] Setting trade time to 5\n",
      "23:48:57 [INFO] Setting buy style to hltv\n",
      "23:48:57 [INFO] Rollup damages set to False\n",
      "23:48:57 [INFO] Parse frames set to True\n",
      "23:48:57 [INFO] Running Golang parser from C:\\Users\\nguye\\anaconda3\\envs\\envTF24\\lib\\site-packages\\csgo-1.0-py3.7.egg\\csgo\\parser\\\n",
      "23:48:57 [INFO] Looking for file at D:\\EDAV\\416\\ence-vs-hellraisers-dust2.dem\n"
     ]
    },
    {
     "name": "stdout",
     "output_type": "stream",
     "text": [
      "parsing    416 ence-vs-hellraisers-dust2.dem\n"
     ]
    },
    {
     "name": "stderr",
     "output_type": "stream",
     "text": [
      "23:49:03 [INFO] Wrote demo parse output to 416 ence-vs-hellraisers-dust2.json\n",
      "23:49:03 [INFO] Reading in JSON from 416 ence-vs-hellraisers-dust2.json\n",
      "23:49:03 [INFO] JSON data loaded, available in the `json` attribute to parser\n",
      "23:49:03 [INFO] Successfully parsed JSON output\n",
      "23:49:03 [INFO] Successfully returned JSON output\n",
      "23:49:11 [INFO] Go version>=1.14.0\n",
      "23:49:11 [INFO] Initialized CSGODemoParser with demofile D:\\EDAV\\417\\EMSKato-GroupB-3dmax-vs-vox-inferno.dem\n",
      "23:49:11 [INFO] Setting demo id to 417 EMSKato-GroupB-3dmax-vs-vox-inferno\n",
      "23:49:11 [INFO] Setting parse rate to 128\n",
      "23:49:11 [INFO] Setting trade time to 5\n",
      "23:49:11 [INFO] Setting buy style to hltv\n",
      "23:49:11 [INFO] Rollup damages set to False\n",
      "23:49:11 [INFO] Parse frames set to True\n",
      "23:49:11 [INFO] Running Golang parser from C:\\Users\\nguye\\anaconda3\\envs\\envTF24\\lib\\site-packages\\csgo-1.0-py3.7.egg\\csgo\\parser\\\n",
      "23:49:11 [INFO] Looking for file at D:\\EDAV\\417\\EMSKato-GroupB-3dmax-vs-vox-inferno.dem\n"
     ]
    },
    {
     "name": "stdout",
     "output_type": "stream",
     "text": [
      "parsing    417 EMSKato-GroupB-3dmax-vs-vox-inferno.dem\n"
     ]
    },
    {
     "name": "stderr",
     "output_type": "stream",
     "text": [
      "23:49:13 [INFO] Wrote demo parse output to 417 EMSKato-GroupB-3dmax-vs-vox-inferno.json\n",
      "23:49:13 [INFO] Reading in JSON from 417 EMSKato-GroupB-3dmax-vs-vox-inferno.json\n",
      "23:49:13 [INFO] JSON data loaded, available in the `json` attribute to parser\n",
      "23:49:13 [INFO] Successfully parsed JSON output\n",
      "23:49:13 [INFO] Successfully returned JSON output\n",
      "23:49:14 [INFO] Go version>=1.14.0\n",
      "23:49:14 [INFO] Initialized CSGODemoParser with demofile D:\\EDAV\\418\\ESLOneCologne-QF-fnatic-vs-navi-inferno.dem\n",
      "23:49:14 [INFO] Setting demo id to 418 ESLOneCologne-QF-fnatic-vs-navi-inferno\n",
      "23:49:14 [INFO] Setting parse rate to 128\n",
      "23:49:14 [INFO] Setting trade time to 5\n",
      "23:49:14 [INFO] Setting buy style to hltv\n",
      "23:49:14 [INFO] Rollup damages set to False\n",
      "23:49:14 [INFO] Parse frames set to True\n",
      "23:49:14 [INFO] Running Golang parser from C:\\Users\\nguye\\anaconda3\\envs\\envTF24\\lib\\site-packages\\csgo-1.0-py3.7.egg\\csgo\\parser\\\n",
      "23:49:14 [INFO] Looking for file at D:\\EDAV\\418\\ESLOneCologne-QF-fnatic-vs-navi-inferno.dem\n"
     ]
    },
    {
     "name": "stdout",
     "output_type": "stream",
     "text": [
      "parsing    418 ESLOneCologne-QF-fnatic-vs-navi-inferno.dem\n"
     ]
    },
    {
     "name": "stderr",
     "output_type": "stream",
     "text": [
      "23:49:16 [INFO] Wrote demo parse output to 418 ESLOneCologne-QF-fnatic-vs-navi-inferno.json\n",
      "23:49:16 [INFO] Reading in JSON from 418 ESLOneCologne-QF-fnatic-vs-navi-inferno.json\n",
      "23:49:16 [INFO] JSON data loaded, available in the `json` attribute to parser\n",
      "23:49:16 [INFO] Successfully parsed JSON output\n",
      "23:49:16 [INFO] Successfully returned JSON output\n",
      "23:49:18 [INFO] Go version>=1.14.0\n",
      "23:49:18 [INFO] Initialized CSGODemoParser with demofile D:\\EDAV\\418\\ESLOneCologne-QF-fnatic-vs-navi-nuke.dem\n",
      "23:49:18 [INFO] Setting demo id to 418 ESLOneCologne-QF-fnatic-vs-navi-nuke\n",
      "23:49:18 [INFO] Setting parse rate to 128\n",
      "23:49:18 [INFO] Setting trade time to 5\n",
      "23:49:18 [INFO] Setting buy style to hltv\n",
      "23:49:18 [INFO] Rollup damages set to False\n",
      "23:49:18 [INFO] Parse frames set to True\n",
      "23:49:18 [INFO] Running Golang parser from C:\\Users\\nguye\\anaconda3\\envs\\envTF24\\lib\\site-packages\\csgo-1.0-py3.7.egg\\csgo\\parser\\\n",
      "23:49:18 [INFO] Looking for file at D:\\EDAV\\418\\ESLOneCologne-QF-fnatic-vs-navi-nuke.dem\n"
     ]
    },
    {
     "name": "stdout",
     "output_type": "stream",
     "text": [
      "parsing    418 ESLOneCologne-QF-fnatic-vs-navi-nuke.dem\n"
     ]
    },
    {
     "name": "stderr",
     "output_type": "stream",
     "text": [
      "23:49:20 [INFO] Wrote demo parse output to 418 ESLOneCologne-QF-fnatic-vs-navi-nuke.json\n",
      "23:49:20 [INFO] Reading in JSON from 418 ESLOneCologne-QF-fnatic-vs-navi-nuke.json\n",
      "23:49:20 [INFO] JSON data loaded, available in the `json` attribute to parser\n",
      "23:49:20 [INFO] Successfully parsed JSON output\n",
      "23:49:20 [INFO] Successfully returned JSON output\n",
      "23:49:21 [INFO] Go version>=1.14.0\n",
      "23:49:21 [INFO] Initialized CSGODemoParser with demofile D:\\EDAV\\418\\ESLOneCologne-QF-navi-vs-fnatic-dust2.dem\n",
      "23:49:21 [INFO] Setting demo id to 418 ESLOneCologne-QF-navi-vs-fnatic-dust2\n",
      "23:49:21 [INFO] Setting parse rate to 128\n",
      "23:49:21 [INFO] Setting trade time to 5\n",
      "23:49:21 [INFO] Setting buy style to hltv\n",
      "23:49:21 [INFO] Rollup damages set to False\n",
      "23:49:21 [INFO] Parse frames set to True\n",
      "23:49:21 [INFO] Running Golang parser from C:\\Users\\nguye\\anaconda3\\envs\\envTF24\\lib\\site-packages\\csgo-1.0-py3.7.egg\\csgo\\parser\\\n",
      "23:49:21 [INFO] Looking for file at D:\\EDAV\\418\\ESLOneCologne-QF-navi-vs-fnatic-dust2.dem\n"
     ]
    },
    {
     "name": "stdout",
     "output_type": "stream",
     "text": [
      "parsing    418 ESLOneCologne-QF-navi-vs-fnatic-dust2.dem\n"
     ]
    },
    {
     "name": "stderr",
     "output_type": "stream",
     "text": [
      "23:49:23 [INFO] Wrote demo parse output to 418 ESLOneCologne-QF-navi-vs-fnatic-dust2.json\n",
      "23:49:23 [INFO] Reading in JSON from 418 ESLOneCologne-QF-navi-vs-fnatic-dust2.json\n",
      "23:49:23 [INFO] JSON data loaded, available in the `json` attribute to parser\n",
      "23:49:23 [INFO] Successfully parsed JSON output\n",
      "23:49:23 [INFO] Successfully returned JSON output\n",
      "23:49:25 [INFO] Go version>=1.14.0\n",
      "23:49:25 [INFO] Initialized CSGODemoParser with demofile D:\\EDAV\\419\\g2-vs-astralis-inferno.dem\n",
      "23:49:25 [INFO] Setting demo id to 419 g2-vs-astralis-inferno\n",
      "23:49:25 [INFO] Setting parse rate to 128\n",
      "23:49:25 [INFO] Setting trade time to 5\n",
      "23:49:25 [INFO] Setting buy style to hltv\n",
      "23:49:25 [INFO] Rollup damages set to False\n",
      "23:49:25 [INFO] Parse frames set to True\n",
      "23:49:25 [INFO] Running Golang parser from C:\\Users\\nguye\\anaconda3\\envs\\envTF24\\lib\\site-packages\\csgo-1.0-py3.7.egg\\csgo\\parser\\\n",
      "23:49:25 [INFO] Looking for file at D:\\EDAV\\419\\g2-vs-astralis-inferno.dem\n"
     ]
    },
    {
     "name": "stdout",
     "output_type": "stream",
     "text": [
      "parsing    419 g2-vs-astralis-inferno.dem\n"
     ]
    },
    {
     "name": "stderr",
     "output_type": "stream",
     "text": [
      "23:49:29 [INFO] Wrote demo parse output to 419 g2-vs-astralis-inferno.json\n",
      "23:49:29 [INFO] Reading in JSON from 419 g2-vs-astralis-inferno.json\n",
      "23:49:29 [INFO] JSON data loaded, available in the `json` attribute to parser\n",
      "23:49:29 [INFO] Successfully parsed JSON output\n",
      "23:49:29 [INFO] Successfully returned JSON output\n",
      "23:49:37 [INFO] Go version>=1.14.0\n",
      "23:49:37 [INFO] Initialized CSGODemoParser with demofile D:\\EDAV\\420\\ESLOneCologne2016-natusvincere-vs-flipsid3-train.dem\n",
      "23:49:37 [INFO] Setting demo id to 420 ESLOneCologne2016-natusvincere-vs-flipsid3-train\n",
      "23:49:37 [INFO] Setting parse rate to 128\n",
      "23:49:37 [INFO] Setting trade time to 5\n",
      "23:49:37 [INFO] Setting buy style to hltv\n",
      "23:49:37 [INFO] Rollup damages set to False\n",
      "23:49:37 [INFO] Parse frames set to True\n",
      "23:49:37 [INFO] Running Golang parser from C:\\Users\\nguye\\anaconda3\\envs\\envTF24\\lib\\site-packages\\csgo-1.0-py3.7.egg\\csgo\\parser\\\n",
      "23:49:37 [INFO] Looking for file at D:\\EDAV\\420\\ESLOneCologne2016-natusvincere-vs-flipsid3-train.dem\n"
     ]
    },
    {
     "name": "stdout",
     "output_type": "stream",
     "text": [
      "parsing    420 ESLOneCologne2016-natusvincere-vs-flipsid3-train.dem\n"
     ]
    },
    {
     "name": "stderr",
     "output_type": "stream",
     "text": [
      "23:49:41 [INFO] Wrote demo parse output to 420 ESLOneCologne2016-natusvincere-vs-flipsid3-train.json\n",
      "23:49:41 [INFO] Reading in JSON from 420 ESLOneCologne2016-natusvincere-vs-flipsid3-train.json\n",
      "23:49:41 [INFO] JSON data loaded, available in the `json` attribute to parser\n",
      "23:49:41 [INFO] Successfully parsed JSON output\n",
      "23:49:41 [INFO] Successfully returned JSON output\n",
      "23:49:48 [INFO] Go version>=1.14.0\n",
      "23:49:48 [INFO] Initialized CSGODemoParser with demofile D:\\EDAV\\421\\ESLOneCologne-GroupA-epsilon-vs-hellraisers-inferno.dem\n",
      "23:49:48 [INFO] Setting demo id to 421 ESLOneCologne-GroupA-epsilon-vs-hellraisers-inferno\n",
      "23:49:48 [INFO] Setting parse rate to 128\n",
      "23:49:48 [INFO] Setting trade time to 5\n",
      "23:49:48 [INFO] Setting buy style to hltv\n",
      "23:49:48 [INFO] Rollup damages set to False\n",
      "23:49:48 [INFO] Parse frames set to True\n",
      "23:49:48 [INFO] Running Golang parser from C:\\Users\\nguye\\anaconda3\\envs\\envTF24\\lib\\site-packages\\csgo-1.0-py3.7.egg\\csgo\\parser\\\n",
      "23:49:48 [INFO] Looking for file at D:\\EDAV\\421\\ESLOneCologne-GroupA-epsilon-vs-hellraisers-inferno.dem\n"
     ]
    },
    {
     "name": "stdout",
     "output_type": "stream",
     "text": [
      "parsing    421 ESLOneCologne-GroupA-epsilon-vs-hellraisers-inferno.dem\n"
     ]
    },
    {
     "name": "stderr",
     "output_type": "stream",
     "text": [
      "23:49:50 [INFO] Wrote demo parse output to 421 ESLOneCologne-GroupA-epsilon-vs-hellraisers-inferno.json\n",
      "23:49:50 [INFO] Reading in JSON from 421 ESLOneCologne-GroupA-epsilon-vs-hellraisers-inferno.json\n",
      "23:49:50 [INFO] JSON data loaded, available in the `json` attribute to parser\n",
      "23:49:50 [INFO] Successfully parsed JSON output\n",
      "23:49:50 [INFO] Successfully returned JSON output\n",
      "23:49:51 [INFO] Go version>=1.14.0\n",
      "23:49:51 [INFO] Initialized CSGODemoParser with demofile D:\\EDAV\\422\\EMSKato-QF-lgb-vs-fnatic-train.dem\n",
      "23:49:51 [INFO] Setting demo id to 422 EMSKato-QF-lgb-vs-fnatic-train\n",
      "23:49:51 [INFO] Setting parse rate to 128\n",
      "23:49:51 [INFO] Setting trade time to 5\n",
      "23:49:51 [INFO] Setting buy style to hltv\n",
      "23:49:51 [INFO] Rollup damages set to False\n",
      "23:49:51 [INFO] Parse frames set to True\n",
      "23:49:51 [INFO] Running Golang parser from C:\\Users\\nguye\\anaconda3\\envs\\envTF24\\lib\\site-packages\\csgo-1.0-py3.7.egg\\csgo\\parser\\\n",
      "23:49:51 [INFO] Looking for file at D:\\EDAV\\422\\EMSKato-QF-lgb-vs-fnatic-train.dem\n"
     ]
    },
    {
     "name": "stdout",
     "output_type": "stream",
     "text": [
      "parsing    422 EMSKato-QF-lgb-vs-fnatic-train.dem\n"
     ]
    },
    {
     "name": "stderr",
     "output_type": "stream",
     "text": [
      "23:49:53 [INFO] Wrote demo parse output to 422 EMSKato-QF-lgb-vs-fnatic-train.json\n",
      "23:49:53 [INFO] Reading in JSON from 422 EMSKato-QF-lgb-vs-fnatic-train.json\n",
      "23:49:53 [INFO] JSON data loaded, available in the `json` attribute to parser\n",
      "23:49:53 [INFO] Successfully parsed JSON output\n",
      "23:49:53 [INFO] Successfully returned JSON output\n",
      "23:49:55 [INFO] Go version>=1.14.0\n",
      "23:49:55 [INFO] Initialized CSGODemoParser with demofile D:\\EDAV\\422\\EMSKato-QF-lgb-vs-fnatic-mirage.dem\n",
      "23:49:55 [INFO] Setting demo id to 422 EMSKato-QF-lgb-vs-fnatic-mirage\n",
      "23:49:55 [INFO] Setting parse rate to 128\n",
      "23:49:55 [INFO] Setting trade time to 5\n",
      "23:49:55 [INFO] Setting buy style to hltv\n",
      "23:49:55 [INFO] Rollup damages set to False\n",
      "23:49:55 [INFO] Parse frames set to True\n",
      "23:49:55 [INFO] Running Golang parser from C:\\Users\\nguye\\anaconda3\\envs\\envTF24\\lib\\site-packages\\csgo-1.0-py3.7.egg\\csgo\\parser\\\n",
      "23:49:55 [INFO] Looking for file at D:\\EDAV\\422\\EMSKato-QF-lgb-vs-fnatic-mirage.dem\n"
     ]
    },
    {
     "name": "stdout",
     "output_type": "stream",
     "text": [
      "parsing    422 EMSKato-QF-lgb-vs-fnatic-mirage.dem\n"
     ]
    },
    {
     "name": "stderr",
     "output_type": "stream",
     "text": [
      "23:49:57 [INFO] Wrote demo parse output to 422 EMSKato-QF-lgb-vs-fnatic-mirage.json\n",
      "23:49:57 [INFO] Reading in JSON from 422 EMSKato-QF-lgb-vs-fnatic-mirage.json\n",
      "23:49:57 [INFO] JSON data loaded, available in the `json` attribute to parser\n",
      "23:49:57 [INFO] Successfully parsed JSON output\n",
      "23:49:57 [INFO] Successfully returned JSON output\n",
      "23:49:58 [INFO] Go version>=1.14.0\n",
      "23:49:58 [INFO] Initialized CSGODemoParser with demofile D:\\EDAV\\422\\EMSKato-QF-lgb-vs-fnatic-inferno.dem\n",
      "23:49:58 [INFO] Setting demo id to 422 EMSKato-QF-lgb-vs-fnatic-inferno\n",
      "23:49:58 [INFO] Setting parse rate to 128\n",
      "23:49:58 [INFO] Setting trade time to 5\n",
      "23:49:58 [INFO] Setting buy style to hltv\n",
      "23:49:58 [INFO] Rollup damages set to False\n",
      "23:49:58 [INFO] Parse frames set to True\n",
      "23:49:58 [INFO] Running Golang parser from C:\\Users\\nguye\\anaconda3\\envs\\envTF24\\lib\\site-packages\\csgo-1.0-py3.7.egg\\csgo\\parser\\\n",
      "23:49:58 [INFO] Looking for file at D:\\EDAV\\422\\EMSKato-QF-lgb-vs-fnatic-inferno.dem\n"
     ]
    },
    {
     "name": "stdout",
     "output_type": "stream",
     "text": [
      "parsing    422 EMSKato-QF-lgb-vs-fnatic-inferno.dem\n"
     ]
    },
    {
     "name": "stderr",
     "output_type": "stream",
     "text": [
      "23:50:00 [INFO] Wrote demo parse output to 422 EMSKato-QF-lgb-vs-fnatic-inferno.json\n",
      "23:50:00 [INFO] Reading in JSON from 422 EMSKato-QF-lgb-vs-fnatic-inferno.json\n",
      "23:50:00 [INFO] JSON data loaded, available in the `json` attribute to parser\n",
      "23:50:00 [INFO] Successfully parsed JSON output\n",
      "23:50:00 [INFO] Successfully returned JSON output\n",
      "23:50:01 [INFO] Go version>=1.14.0\n",
      "23:50:01 [INFO] Initialized CSGODemoParser with demofile D:\\EDAV\\423\\liquid-vs-cr4zy-mirage.dem\n",
      "23:50:01 [INFO] Setting demo id to 423 liquid-vs-cr4zy-mirage\n",
      "23:50:01 [INFO] Setting parse rate to 128\n",
      "23:50:01 [INFO] Setting trade time to 5\n",
      "23:50:01 [INFO] Setting buy style to hltv\n",
      "23:50:01 [INFO] Rollup damages set to False\n",
      "23:50:01 [INFO] Parse frames set to True\n",
      "23:50:01 [INFO] Running Golang parser from C:\\Users\\nguye\\anaconda3\\envs\\envTF24\\lib\\site-packages\\csgo-1.0-py3.7.egg\\csgo\\parser\\\n",
      "23:50:01 [INFO] Looking for file at D:\\EDAV\\423\\liquid-vs-cr4zy-mirage.dem\n"
     ]
    },
    {
     "name": "stdout",
     "output_type": "stream",
     "text": [
      "parsing    423 liquid-vs-cr4zy-mirage.dem\n"
     ]
    },
    {
     "name": "stderr",
     "output_type": "stream",
     "text": [
      "23:50:06 [INFO] Wrote demo parse output to 423 liquid-vs-cr4zy-mirage.json\n",
      "23:50:06 [INFO] Reading in JSON from 423 liquid-vs-cr4zy-mirage.json\n",
      "23:50:07 [INFO] JSON data loaded, available in the `json` attribute to parser\n",
      "23:50:07 [INFO] Successfully parsed JSON output\n",
      "23:50:07 [INFO] Successfully returned JSON output\n",
      "23:50:14 [INFO] Go version>=1.14.0\n",
      "23:50:14 [INFO] Initialized CSGODemoParser with demofile D:\\EDAV\\424\\big-vs-liquid-inferno.dem\n",
      "23:50:14 [INFO] Setting demo id to 424 big-vs-liquid-inferno\n",
      "23:50:14 [INFO] Setting parse rate to 128\n",
      "23:50:14 [INFO] Setting trade time to 5\n",
      "23:50:14 [INFO] Setting buy style to hltv\n",
      "23:50:14 [INFO] Rollup damages set to False\n",
      "23:50:14 [INFO] Parse frames set to True\n",
      "23:50:14 [INFO] Running Golang parser from C:\\Users\\nguye\\anaconda3\\envs\\envTF24\\lib\\site-packages\\csgo-1.0-py3.7.egg\\csgo\\parser\\\n",
      "23:50:14 [INFO] Looking for file at D:\\EDAV\\424\\big-vs-liquid-inferno.dem\n"
     ]
    },
    {
     "name": "stdout",
     "output_type": "stream",
     "text": [
      "parsing    424 big-vs-liquid-inferno.dem\n"
     ]
    },
    {
     "name": "stderr",
     "output_type": "stream",
     "text": [
      "23:50:18 [INFO] Wrote demo parse output to 424 big-vs-liquid-inferno.json\n",
      "23:50:18 [INFO] Reading in JSON from 424 big-vs-liquid-inferno.json\n",
      "23:50:19 [INFO] JSON data loaded, available in the `json` attribute to parser\n",
      "23:50:19 [INFO] Successfully parsed JSON output\n",
      "23:50:19 [INFO] Successfully returned JSON output\n",
      "23:50:25 [INFO] Go version>=1.14.0\n",
      "23:50:25 [INFO] Initialized CSGODemoParser with demofile D:\\EDAV\\425\\ESLOneCologne2016-liquid-vs-mousesports-map1-cobblestone.dem\n",
      "23:50:25 [INFO] Setting demo id to 425 ESLOneCologne2016-liquid-vs-mousesports-map1-cobblestone\n",
      "23:50:25 [INFO] Setting parse rate to 128\n",
      "23:50:25 [INFO] Setting trade time to 5\n",
      "23:50:25 [INFO] Setting buy style to hltv\n",
      "23:50:25 [INFO] Rollup damages set to False\n",
      "23:50:25 [INFO] Parse frames set to True\n",
      "23:50:25 [INFO] Running Golang parser from C:\\Users\\nguye\\anaconda3\\envs\\envTF24\\lib\\site-packages\\csgo-1.0-py3.7.egg\\csgo\\parser\\\n",
      "23:50:25 [INFO] Looking for file at D:\\EDAV\\425\\ESLOneCologne2016-liquid-vs-mousesports-map1-cobblestone.dem\n"
     ]
    },
    {
     "name": "stdout",
     "output_type": "stream",
     "text": [
      "parsing    425 ESLOneCologne2016-liquid-vs-mousesports-map1-cobblestone.dem\n"
     ]
    },
    {
     "name": "stderr",
     "output_type": "stream",
     "text": [
      "23:50:30 [INFO] Wrote demo parse output to 425 ESLOneCologne2016-liquid-vs-mousesports-map1-cobblestone.json\n",
      "23:50:30 [INFO] Reading in JSON from 425 ESLOneCologne2016-liquid-vs-mousesports-map1-cobblestone.json\n",
      "23:50:31 [INFO] JSON data loaded, available in the `json` attribute to parser\n",
      "23:50:31 [INFO] Successfully parsed JSON output\n",
      "23:50:31 [INFO] Successfully returned JSON output\n",
      "23:50:39 [INFO] Go version>=1.14.0\n",
      "23:50:39 [INFO] Initialized CSGODemoParser with demofile D:\\EDAV\\425\\ESLOneCologne2016-liquid-vs-mousesports-map2-mirage.dem\n",
      "23:50:39 [INFO] Setting demo id to 425 ESLOneCologne2016-liquid-vs-mousesports-map2-mirage\n",
      "23:50:39 [INFO] Setting parse rate to 128\n",
      "23:50:39 [INFO] Setting trade time to 5\n",
      "23:50:39 [INFO] Setting buy style to hltv\n",
      "23:50:39 [INFO] Rollup damages set to False\n",
      "23:50:39 [INFO] Parse frames set to True\n",
      "23:50:39 [INFO] Running Golang parser from C:\\Users\\nguye\\anaconda3\\envs\\envTF24\\lib\\site-packages\\csgo-1.0-py3.7.egg\\csgo\\parser\\\n",
      "23:50:39 [INFO] Looking for file at D:\\EDAV\\425\\ESLOneCologne2016-liquid-vs-mousesports-map2-mirage.dem\n"
     ]
    },
    {
     "name": "stdout",
     "output_type": "stream",
     "text": [
      "parsing    425 ESLOneCologne2016-liquid-vs-mousesports-map2-mirage.dem\n"
     ]
    },
    {
     "name": "stderr",
     "output_type": "stream",
     "text": [
      "23:50:43 [INFO] Wrote demo parse output to 425 ESLOneCologne2016-liquid-vs-mousesports-map2-mirage.json\n",
      "23:50:43 [INFO] Reading in JSON from 425 ESLOneCologne2016-liquid-vs-mousesports-map2-mirage.json\n",
      "23:50:44 [INFO] JSON data loaded, available in the `json` attribute to parser\n",
      "23:50:44 [INFO] Successfully parsed JSON output\n",
      "23:50:44 [INFO] Successfully returned JSON output\n",
      "23:50:49 [INFO] Go version>=1.14.0\n",
      "23:50:49 [INFO] Initialized CSGODemoParser with demofile D:\\EDAV\\426\\nrg-vs-nip-nuke.dem\n",
      "23:50:49 [INFO] Setting demo id to 426 nrg-vs-nip-nuke\n",
      "23:50:49 [INFO] Setting parse rate to 128\n",
      "23:50:49 [INFO] Setting trade time to 5\n",
      "23:50:49 [INFO] Setting buy style to hltv\n",
      "23:50:49 [INFO] Rollup damages set to False\n",
      "23:50:49 [INFO] Parse frames set to True\n",
      "23:50:49 [INFO] Running Golang parser from C:\\Users\\nguye\\anaconda3\\envs\\envTF24\\lib\\site-packages\\csgo-1.0-py3.7.egg\\csgo\\parser\\\n",
      "23:50:49 [INFO] Looking for file at D:\\EDAV\\426\\nrg-vs-nip-nuke.dem\n"
     ]
    },
    {
     "name": "stdout",
     "output_type": "stream",
     "text": [
      "parsing    426 nrg-vs-nip-nuke.dem\n"
     ]
    },
    {
     "name": "stderr",
     "output_type": "stream",
     "text": [
      "23:50:55 [INFO] Wrote demo parse output to 426 nrg-vs-nip-nuke.json\n",
      "23:50:55 [INFO] Reading in JSON from 426 nrg-vs-nip-nuke.json\n",
      "23:50:56 [INFO] JSON data loaded, available in the `json` attribute to parser\n",
      "23:50:56 [INFO] Successfully parsed JSON output\n",
      "23:50:56 [INFO] Successfully returned JSON output\n",
      "23:51:05 [INFO] Go version>=1.14.0\n",
      "23:51:05 [INFO] Initialized CSGODemoParser with demofile D:\\EDAV\\427\\003105321972028932195_0767047190_1_fnatic_vs_vexed_cobblestone.dem\n",
      "23:51:05 [INFO] Setting demo id to 427 003105321972028932195_0767047190_1_fnatic_vs_vexed_cobblestone\n",
      "23:51:05 [INFO] Setting parse rate to 128\n",
      "23:51:05 [INFO] Setting trade time to 5\n",
      "23:51:05 [INFO] Setting buy style to hltv\n",
      "23:51:05 [INFO] Rollup damages set to False\n",
      "23:51:05 [INFO] Parse frames set to True\n",
      "23:51:05 [INFO] Running Golang parser from C:\\Users\\nguye\\anaconda3\\envs\\envTF24\\lib\\site-packages\\csgo-1.0-py3.7.egg\\csgo\\parser\\\n",
      "23:51:05 [INFO] Looking for file at D:\\EDAV\\427\\003105321972028932195_0767047190_1_fnatic_vs_vexed_cobblestone.dem\n"
     ]
    },
    {
     "name": "stdout",
     "output_type": "stream",
     "text": [
      "parsing    427 003105321972028932195_0767047190_1_fnatic_vs_vexed_cobblestone.dem\n"
     ]
    },
    {
     "name": "stderr",
     "output_type": "stream",
     "text": [
      "23:51:09 [INFO] Wrote demo parse output to 427 003105321972028932195_0767047190_1_fnatic_vs_vexed_cobblestone.json\n",
      "23:51:09 [INFO] Reading in JSON from 427 003105321972028932195_0767047190_1_fnatic_vs_vexed_cobblestone.json\n",
      "23:51:10 [INFO] JSON data loaded, available in the `json` attribute to parser\n",
      "23:51:10 [INFO] Successfully parsed JSON output\n",
      "23:51:10 [INFO] Successfully returned JSON output\n",
      "23:51:17 [INFO] Go version>=1.14.0\n",
      "23:51:17 [INFO] Initialized CSGODemoParser with demofile D:\\EDAV\\428\\mibr-vs-natus-vincere-m2-dust2.dem\n",
      "23:51:17 [INFO] Setting demo id to 428 mibr-vs-natus-vincere-m2-dust2\n",
      "23:51:17 [INFO] Setting parse rate to 128\n",
      "23:51:17 [INFO] Setting trade time to 5\n",
      "23:51:17 [INFO] Setting buy style to hltv\n",
      "23:51:17 [INFO] Rollup damages set to False\n",
      "23:51:17 [INFO] Parse frames set to True\n",
      "23:51:17 [INFO] Running Golang parser from C:\\Users\\nguye\\anaconda3\\envs\\envTF24\\lib\\site-packages\\csgo-1.0-py3.7.egg\\csgo\\parser\\\n",
      "23:51:17 [INFO] Looking for file at D:\\EDAV\\428\\mibr-vs-natus-vincere-m2-dust2.dem\n"
     ]
    },
    {
     "name": "stdout",
     "output_type": "stream",
     "text": [
      "parsing    428 mibr-vs-natus-vincere-m2-dust2.dem\n"
     ]
    },
    {
     "name": "stderr",
     "output_type": "stream",
     "text": [
      "23:51:21 [INFO] Wrote demo parse output to 428 mibr-vs-natus-vincere-m2-dust2.json\n",
      "23:51:21 [INFO] Reading in JSON from 428 mibr-vs-natus-vincere-m2-dust2.json\n",
      "23:51:21 [INFO] JSON data loaded, available in the `json` attribute to parser\n",
      "23:51:21 [INFO] Successfully parsed JSON output\n",
      "23:51:21 [INFO] Successfully returned JSON output\n",
      "23:51:28 [INFO] Go version>=1.14.0\n",
      "23:51:28 [INFO] Initialized CSGODemoParser with demofile D:\\EDAV\\428\\mibr-vs-natus-vincere-m1-overpass.dem\n",
      "23:51:28 [INFO] Setting demo id to 428 mibr-vs-natus-vincere-m1-overpass\n",
      "23:51:28 [INFO] Setting parse rate to 128\n",
      "23:51:28 [INFO] Setting trade time to 5\n",
      "23:51:28 [INFO] Setting buy style to hltv\n",
      "23:51:28 [INFO] Rollup damages set to False\n",
      "23:51:28 [INFO] Parse frames set to True\n",
      "23:51:28 [INFO] Running Golang parser from C:\\Users\\nguye\\anaconda3\\envs\\envTF24\\lib\\site-packages\\csgo-1.0-py3.7.egg\\csgo\\parser\\\n",
      "23:51:28 [INFO] Looking for file at D:\\EDAV\\428\\mibr-vs-natus-vincere-m1-overpass.dem\n"
     ]
    },
    {
     "name": "stdout",
     "output_type": "stream",
     "text": [
      "parsing    428 mibr-vs-natus-vincere-m1-overpass.dem\n"
     ]
    },
    {
     "name": "stderr",
     "output_type": "stream",
     "text": [
      "23:51:35 [INFO] Wrote demo parse output to 428 mibr-vs-natus-vincere-m1-overpass.json\n",
      "23:51:35 [INFO] Reading in JSON from 428 mibr-vs-natus-vincere-m1-overpass.json\n",
      "23:51:35 [INFO] JSON data loaded, available in the `json` attribute to parser\n",
      "23:51:35 [INFO] Successfully parsed JSON output\n",
      "23:51:35 [INFO] Successfully returned JSON output\n",
      "23:51:44 [INFO] Go version>=1.14.0\n",
      "23:51:44 [INFO] Initialized CSGODemoParser with demofile D:\\EDAV\\429\\natus-vincere-vs-cr4zy-m3-nuke.dem\n",
      "23:51:44 [INFO] Setting demo id to 429 natus-vincere-vs-cr4zy-m3-nuke\n",
      "23:51:44 [INFO] Setting parse rate to 128\n",
      "23:51:44 [INFO] Setting trade time to 5\n",
      "23:51:44 [INFO] Setting buy style to hltv\n",
      "23:51:44 [INFO] Rollup damages set to False\n",
      "23:51:44 [INFO] Parse frames set to True\n",
      "23:51:44 [INFO] Running Golang parser from C:\\Users\\nguye\\anaconda3\\envs\\envTF24\\lib\\site-packages\\csgo-1.0-py3.7.egg\\csgo\\parser\\\n",
      "23:51:44 [INFO] Looking for file at D:\\EDAV\\429\\natus-vincere-vs-cr4zy-m3-nuke.dem\n"
     ]
    },
    {
     "name": "stdout",
     "output_type": "stream",
     "text": [
      "parsing    429 natus-vincere-vs-cr4zy-m3-nuke.dem\n"
     ]
    },
    {
     "name": "stderr",
     "output_type": "stream",
     "text": [
      "23:51:48 [INFO] Wrote demo parse output to 429 natus-vincere-vs-cr4zy-m3-nuke.json\n",
      "23:51:48 [INFO] Reading in JSON from 429 natus-vincere-vs-cr4zy-m3-nuke.json\n",
      "23:51:49 [INFO] JSON data loaded, available in the `json` attribute to parser\n",
      "23:51:49 [INFO] Successfully parsed JSON output\n",
      "23:51:49 [INFO] Successfully returned JSON output\n",
      "23:51:54 [INFO] Go version>=1.14.0\n",
      "23:51:54 [INFO] Initialized CSGODemoParser with demofile D:\\EDAV\\429\\natus-vincere-vs-cr4zy-m1-mirage.dem\n",
      "23:51:54 [INFO] Setting demo id to 429 natus-vincere-vs-cr4zy-m1-mirage\n",
      "23:51:54 [INFO] Setting parse rate to 128\n",
      "23:51:54 [INFO] Setting trade time to 5\n",
      "23:51:54 [INFO] Setting buy style to hltv\n",
      "23:51:54 [INFO] Rollup damages set to False\n",
      "23:51:54 [INFO] Parse frames set to True\n",
      "23:51:54 [INFO] Running Golang parser from C:\\Users\\nguye\\anaconda3\\envs\\envTF24\\lib\\site-packages\\csgo-1.0-py3.7.egg\\csgo\\parser\\\n",
      "23:51:54 [INFO] Looking for file at D:\\EDAV\\429\\natus-vincere-vs-cr4zy-m1-mirage.dem\n"
     ]
    },
    {
     "name": "stdout",
     "output_type": "stream",
     "text": [
      "parsing    429 natus-vincere-vs-cr4zy-m1-mirage.dem\n"
     ]
    },
    {
     "name": "stderr",
     "output_type": "stream",
     "text": [
      "23:52:00 [INFO] Wrote demo parse output to 429 natus-vincere-vs-cr4zy-m1-mirage.json\n",
      "23:52:00 [INFO] Reading in JSON from 429 natus-vincere-vs-cr4zy-m1-mirage.json\n",
      "23:52:00 [INFO] JSON data loaded, available in the `json` attribute to parser\n",
      "23:52:00 [INFO] Successfully parsed JSON output\n",
      "23:52:00 [INFO] Successfully returned JSON output\n",
      "23:52:09 [INFO] Go version>=1.14.0\n",
      "23:52:09 [INFO] Initialized CSGODemoParser with demofile D:\\EDAV\\429\\natus-vincere-vs-cr4zy-m2-inferno.dem\n",
      "23:52:09 [INFO] Setting demo id to 429 natus-vincere-vs-cr4zy-m2-inferno\n",
      "23:52:09 [INFO] Setting parse rate to 128\n",
      "23:52:09 [INFO] Setting trade time to 5\n",
      "23:52:09 [INFO] Setting buy style to hltv\n",
      "23:52:09 [INFO] Rollup damages set to False\n",
      "23:52:09 [INFO] Parse frames set to True\n",
      "23:52:09 [INFO] Running Golang parser from C:\\Users\\nguye\\anaconda3\\envs\\envTF24\\lib\\site-packages\\csgo-1.0-py3.7.egg\\csgo\\parser\\\n",
      "23:52:09 [INFO] Looking for file at D:\\EDAV\\429\\natus-vincere-vs-cr4zy-m2-inferno.dem\n"
     ]
    },
    {
     "name": "stdout",
     "output_type": "stream",
     "text": [
      "parsing    429 natus-vincere-vs-cr4zy-m2-inferno.dem\n"
     ]
    },
    {
     "name": "stderr",
     "output_type": "stream",
     "text": [
      "23:52:15 [INFO] Wrote demo parse output to 429 natus-vincere-vs-cr4zy-m2-inferno.json\n",
      "23:52:15 [INFO] Reading in JSON from 429 natus-vincere-vs-cr4zy-m2-inferno.json\n",
      "23:52:15 [INFO] JSON data loaded, available in the `json` attribute to parser\n",
      "23:52:15 [INFO] Successfully parsed JSON output\n",
      "23:52:15 [INFO] Successfully returned JSON output\n",
      "23:52:25 [INFO] Go version>=1.14.0\n",
      "23:52:25 [INFO] Initialized CSGODemoParser with demofile D:\\EDAV\\430\\ESLOneCologne-GroupD-cloud9-vs-dignitas-mirage.dem\n",
      "23:52:25 [INFO] Setting demo id to 430 ESLOneCologne-GroupD-cloud9-vs-dignitas-mirage\n",
      "23:52:25 [INFO] Setting parse rate to 128\n",
      "23:52:25 [INFO] Setting trade time to 5\n",
      "23:52:25 [INFO] Setting buy style to hltv\n",
      "23:52:25 [INFO] Rollup damages set to False\n",
      "23:52:25 [INFO] Parse frames set to True\n",
      "23:52:25 [INFO] Running Golang parser from C:\\Users\\nguye\\anaconda3\\envs\\envTF24\\lib\\site-packages\\csgo-1.0-py3.7.egg\\csgo\\parser\\\n",
      "23:52:25 [INFO] Looking for file at D:\\EDAV\\430\\ESLOneCologne-GroupD-cloud9-vs-dignitas-mirage.dem\n"
     ]
    },
    {
     "name": "stdout",
     "output_type": "stream",
     "text": [
      "parsing    430 ESLOneCologne-GroupD-cloud9-vs-dignitas-mirage.dem\n"
     ]
    },
    {
     "name": "stderr",
     "output_type": "stream",
     "text": [
      "23:52:27 [INFO] Wrote demo parse output to 430 ESLOneCologne-GroupD-cloud9-vs-dignitas-mirage.json\n",
      "23:52:27 [INFO] Reading in JSON from 430 ESLOneCologne-GroupD-cloud9-vs-dignitas-mirage.json\n",
      "23:52:27 [INFO] JSON data loaded, available in the `json` attribute to parser\n",
      "23:52:27 [INFO] Successfully parsed JSON output\n",
      "23:52:27 [INFO] Successfully returned JSON output\n",
      "23:52:28 [INFO] Go version>=1.14.0\n",
      "23:52:28 [INFO] Initialized CSGODemoParser with demofile D:\\EDAV\\431\\Quarterfinal_NaVi_Luminosity_dust2.dem\n",
      "23:52:28 [INFO] Setting demo id to 431 Quarterfinal_NaVi_Luminosity_dust2\n",
      "23:52:28 [INFO] Setting parse rate to 128\n",
      "23:52:28 [INFO] Setting trade time to 5\n",
      "23:52:28 [INFO] Setting buy style to hltv\n",
      "23:52:28 [INFO] Rollup damages set to False\n",
      "23:52:28 [INFO] Parse frames set to True\n",
      "23:52:28 [INFO] Running Golang parser from C:\\Users\\nguye\\anaconda3\\envs\\envTF24\\lib\\site-packages\\csgo-1.0-py3.7.egg\\csgo\\parser\\\n",
      "23:52:28 [INFO] Looking for file at D:\\EDAV\\431\\Quarterfinal_NaVi_Luminosity_dust2.dem\n"
     ]
    },
    {
     "name": "stdout",
     "output_type": "stream",
     "text": [
      "parsing    431 Quarterfinal_NaVi_Luminosity_dust2.dem\n"
     ]
    },
    {
     "name": "stderr",
     "output_type": "stream",
     "text": [
      "23:52:33 [INFO] Wrote demo parse output to 431 Quarterfinal_NaVi_Luminosity_dust2.json\n",
      "23:52:33 [INFO] Reading in JSON from 431 Quarterfinal_NaVi_Luminosity_dust2.json\n",
      "23:52:34 [INFO] JSON data loaded, available in the `json` attribute to parser\n",
      "23:52:34 [INFO] Successfully parsed JSON output\n",
      "23:52:34 [INFO] Successfully returned JSON output\n",
      "23:52:42 [INFO] Go version>=1.14.0\n",
      "23:52:42 [INFO] Initialized CSGODemoParser with demofile D:\\EDAV\\431\\Quarterfinal_NaVi_Luminosity_overpass.dem\n",
      "23:52:42 [INFO] Setting demo id to 431 Quarterfinal_NaVi_Luminosity_overpass\n",
      "23:52:42 [INFO] Setting parse rate to 128\n",
      "23:52:42 [INFO] Setting trade time to 5\n",
      "23:52:42 [INFO] Setting buy style to hltv\n",
      "23:52:42 [INFO] Rollup damages set to False\n",
      "23:52:42 [INFO] Parse frames set to True\n",
      "23:52:42 [INFO] Running Golang parser from C:\\Users\\nguye\\anaconda3\\envs\\envTF24\\lib\\site-packages\\csgo-1.0-py3.7.egg\\csgo\\parser\\\n",
      "23:52:42 [INFO] Looking for file at D:\\EDAV\\431\\Quarterfinal_NaVi_Luminosity_overpass.dem\n"
     ]
    },
    {
     "name": "stdout",
     "output_type": "stream",
     "text": [
      "parsing    431 Quarterfinal_NaVi_Luminosity_overpass.dem\n"
     ]
    },
    {
     "name": "stderr",
     "output_type": "stream",
     "text": [
      "23:52:49 [INFO] Wrote demo parse output to 431 Quarterfinal_NaVi_Luminosity_overpass.json\n",
      "23:52:49 [INFO] Reading in JSON from 431 Quarterfinal_NaVi_Luminosity_overpass.json\n",
      "23:52:49 [INFO] JSON data loaded, available in the `json` attribute to parser\n",
      "23:52:49 [INFO] Successfully parsed JSON output\n",
      "23:52:49 [INFO] Successfully returned JSON output\n",
      "23:52:58 [INFO] Go version>=1.14.0\n",
      "23:52:58 [INFO] Initialized CSGODemoParser with demofile D:\\EDAV\\432\\ESLOneCologne2015-fnatic-vs-virtuspro-mirage.dem\n",
      "23:52:58 [INFO] Setting demo id to 432 ESLOneCologne2015-fnatic-vs-virtuspro-mirage\n",
      "23:52:58 [INFO] Setting parse rate to 128\n",
      "23:52:58 [INFO] Setting trade time to 5\n",
      "23:52:58 [INFO] Setting buy style to hltv\n",
      "23:52:58 [INFO] Rollup damages set to False\n",
      "23:52:58 [INFO] Parse frames set to True\n",
      "23:52:58 [INFO] Running Golang parser from C:\\Users\\nguye\\anaconda3\\envs\\envTF24\\lib\\site-packages\\csgo-1.0-py3.7.egg\\csgo\\parser\\\n",
      "23:52:58 [INFO] Looking for file at D:\\EDAV\\432\\ESLOneCologne2015-fnatic-vs-virtuspro-mirage.dem\n"
     ]
    },
    {
     "name": "stdout",
     "output_type": "stream",
     "text": [
      "parsing    432 ESLOneCologne2015-fnatic-vs-virtuspro-mirage.dem\n"
     ]
    },
    {
     "name": "stderr",
     "output_type": "stream",
     "text": [
      "23:53:00 [INFO] Wrote demo parse output to 432 ESLOneCologne2015-fnatic-vs-virtuspro-mirage.json\n",
      "23:53:00 [INFO] Reading in JSON from 432 ESLOneCologne2015-fnatic-vs-virtuspro-mirage.json\n",
      "23:53:00 [INFO] JSON data loaded, available in the `json` attribute to parser\n",
      "23:53:00 [INFO] Successfully parsed JSON output\n",
      "23:53:00 [INFO] Successfully returned JSON output\n",
      "23:53:01 [INFO] Go version>=1.14.0\n",
      "23:53:01 [INFO] Initialized CSGODemoParser with demofile D:\\EDAV\\432\\ESLOneCologne2015-fnatic-vs-virtuspro-cobblestone.dem\n",
      "23:53:01 [INFO] Setting demo id to 432 ESLOneCologne2015-fnatic-vs-virtuspro-cobblestone\n",
      "23:53:01 [INFO] Setting parse rate to 128\n",
      "23:53:01 [INFO] Setting trade time to 5\n",
      "23:53:01 [INFO] Setting buy style to hltv\n",
      "23:53:01 [INFO] Rollup damages set to False\n",
      "23:53:01 [INFO] Parse frames set to True\n",
      "23:53:01 [INFO] Running Golang parser from C:\\Users\\nguye\\anaconda3\\envs\\envTF24\\lib\\site-packages\\csgo-1.0-py3.7.egg\\csgo\\parser\\\n",
      "23:53:01 [INFO] Looking for file at D:\\EDAV\\432\\ESLOneCologne2015-fnatic-vs-virtuspro-cobblestone.dem\n"
     ]
    },
    {
     "name": "stdout",
     "output_type": "stream",
     "text": [
      "parsing    432 ESLOneCologne2015-fnatic-vs-virtuspro-cobblestone.dem\n"
     ]
    },
    {
     "name": "stderr",
     "output_type": "stream",
     "text": [
      "23:53:04 [INFO] Wrote demo parse output to 432 ESLOneCologne2015-fnatic-vs-virtuspro-cobblestone.json\n",
      "23:53:04 [INFO] Reading in JSON from 432 ESLOneCologne2015-fnatic-vs-virtuspro-cobblestone.json\n",
      "23:53:04 [INFO] JSON data loaded, available in the `json` attribute to parser\n",
      "23:53:04 [INFO] Successfully parsed JSON output\n",
      "23:53:04 [INFO] Successfully returned JSON output\n",
      "23:53:06 [INFO] Go version>=1.14.0\n",
      "23:53:06 [INFO] Initialized CSGODemoParser with demofile D:\\EDAV\\432\\ESLOneCologne2015-fnatic-vs-virtuspro-inferno.dem\n",
      "23:53:06 [INFO] Setting demo id to 432 ESLOneCologne2015-fnatic-vs-virtuspro-inferno\n",
      "23:53:06 [INFO] Setting parse rate to 128\n",
      "23:53:06 [INFO] Setting trade time to 5\n",
      "23:53:06 [INFO] Setting buy style to hltv\n",
      "23:53:06 [INFO] Rollup damages set to False\n",
      "23:53:06 [INFO] Parse frames set to True\n",
      "23:53:06 [INFO] Running Golang parser from C:\\Users\\nguye\\anaconda3\\envs\\envTF24\\lib\\site-packages\\csgo-1.0-py3.7.egg\\csgo\\parser\\\n",
      "23:53:06 [INFO] Looking for file at D:\\EDAV\\432\\ESLOneCologne2015-fnatic-vs-virtuspro-inferno.dem\n"
     ]
    },
    {
     "name": "stdout",
     "output_type": "stream",
     "text": [
      "parsing    432 ESLOneCologne2015-fnatic-vs-virtuspro-inferno.dem\n"
     ]
    },
    {
     "name": "stderr",
     "output_type": "stream",
     "text": [
      "23:53:08 [INFO] Wrote demo parse output to 432 ESLOneCologne2015-fnatic-vs-virtuspro-inferno.json\n",
      "23:53:08 [INFO] Reading in JSON from 432 ESLOneCologne2015-fnatic-vs-virtuspro-inferno.json\n",
      "23:53:09 [INFO] JSON data loaded, available in the `json` attribute to parser\n",
      "23:53:09 [INFO] Successfully parsed JSON output\n",
      "23:53:09 [INFO] Successfully returned JSON output\n",
      "23:53:11 [INFO] Go version>=1.14.0\n",
      "23:53:11 [INFO] Initialized CSGODemoParser with demofile D:\\EDAV\\433\\EMSKato-QF-virtuspro-vs-ldlc-mirage.dem\n",
      "23:53:11 [INFO] Setting demo id to 433 EMSKato-QF-virtuspro-vs-ldlc-mirage\n",
      "23:53:11 [INFO] Setting parse rate to 128\n",
      "23:53:11 [INFO] Setting trade time to 5\n",
      "23:53:11 [INFO] Setting buy style to hltv\n",
      "23:53:11 [INFO] Rollup damages set to False\n",
      "23:53:11 [INFO] Parse frames set to True\n",
      "23:53:11 [INFO] Running Golang parser from C:\\Users\\nguye\\anaconda3\\envs\\envTF24\\lib\\site-packages\\csgo-1.0-py3.7.egg\\csgo\\parser\\\n",
      "23:53:11 [INFO] Looking for file at D:\\EDAV\\433\\EMSKato-QF-virtuspro-vs-ldlc-mirage.dem\n"
     ]
    },
    {
     "name": "stdout",
     "output_type": "stream",
     "text": [
      "parsing    433 EMSKato-QF-virtuspro-vs-ldlc-mirage.dem\n"
     ]
    },
    {
     "name": "stderr",
     "output_type": "stream",
     "text": [
      "23:53:13 [INFO] Wrote demo parse output to 433 EMSKato-QF-virtuspro-vs-ldlc-mirage.json\n",
      "23:53:13 [INFO] Reading in JSON from 433 EMSKato-QF-virtuspro-vs-ldlc-mirage.json\n",
      "23:53:13 [INFO] Go version>=1.14.0\n",
      "23:53:13 [INFO] Initialized CSGODemoParser with demofile D:\\EDAV\\433\\EMSKato-QF-virtuspro-vs-ldlc-inferno.dem\n",
      "23:53:13 [INFO] Setting demo id to 433 EMSKato-QF-virtuspro-vs-ldlc-inferno\n",
      "23:53:13 [INFO] Setting parse rate to 128\n",
      "23:53:13 [INFO] Setting trade time to 5\n",
      "23:53:13 [INFO] Setting buy style to hltv\n",
      "23:53:13 [INFO] Rollup damages set to False\n",
      "23:53:13 [INFO] Parse frames set to True\n",
      "23:53:13 [INFO] Running Golang parser from C:\\Users\\nguye\\anaconda3\\envs\\envTF24\\lib\\site-packages\\csgo-1.0-py3.7.egg\\csgo\\parser\\\n",
      "23:53:13 [INFO] Looking for file at D:\\EDAV\\433\\EMSKato-QF-virtuspro-vs-ldlc-inferno.dem\n"
     ]
    },
    {
     "name": "stdout",
     "output_type": "stream",
     "text": [
      "ERROR   433 EMSKato-QF-virtuspro-vs-ldlc-mirage\n",
      "parsing    433 EMSKato-QF-virtuspro-vs-ldlc-inferno.dem\n"
     ]
    },
    {
     "name": "stderr",
     "output_type": "stream",
     "text": [
      "23:53:15 [INFO] Wrote demo parse output to 433 EMSKato-QF-virtuspro-vs-ldlc-inferno.json\n",
      "23:53:15 [INFO] Reading in JSON from 433 EMSKato-QF-virtuspro-vs-ldlc-inferno.json\n",
      "23:53:15 [INFO] Go version>=1.14.0\n",
      "23:53:15 [INFO] Initialized CSGODemoParser with demofile D:\\EDAV\\434\\g2-vs-mibr-inferno.dem\n",
      "23:53:15 [INFO] Setting demo id to 434 g2-vs-mibr-inferno\n",
      "23:53:15 [INFO] Setting parse rate to 128\n",
      "23:53:15 [INFO] Setting trade time to 5\n",
      "23:53:15 [INFO] Setting buy style to hltv\n",
      "23:53:15 [INFO] Rollup damages set to False\n",
      "23:53:15 [INFO] Parse frames set to True\n",
      "23:53:15 [INFO] Running Golang parser from C:\\Users\\nguye\\anaconda3\\envs\\envTF24\\lib\\site-packages\\csgo-1.0-py3.7.egg\\csgo\\parser\\\n",
      "23:53:15 [INFO] Looking for file at D:\\EDAV\\434\\g2-vs-mibr-inferno.dem\n"
     ]
    },
    {
     "name": "stdout",
     "output_type": "stream",
     "text": [
      "ERROR   433 EMSKato-QF-virtuspro-vs-ldlc-inferno\n",
      "parsing    434 g2-vs-mibr-inferno.dem\n"
     ]
    },
    {
     "name": "stderr",
     "output_type": "stream",
     "text": [
      "23:53:19 [INFO] Wrote demo parse output to 434 g2-vs-mibr-inferno.json\n",
      "23:53:19 [INFO] Reading in JSON from 434 g2-vs-mibr-inferno.json\n",
      "23:53:19 [INFO] JSON data loaded, available in the `json` attribute to parser\n",
      "23:53:19 [INFO] Successfully parsed JSON output\n",
      "23:53:19 [INFO] Successfully returned JSON output\n",
      "23:53:25 [INFO] Go version>=1.14.0\n",
      "23:53:25 [INFO] Initialized CSGODemoParser with demofile D:\\EDAV\\435\\ESLOneKatowice2015-Groups-lgb-vs-penta-dust2.dem\n",
      "23:53:25 [INFO] Setting demo id to 435 ESLOneKatowice2015-Groups-lgb-vs-penta-dust2\n",
      "23:53:25 [INFO] Setting parse rate to 128\n",
      "23:53:25 [INFO] Setting trade time to 5\n",
      "23:53:25 [INFO] Setting buy style to hltv\n",
      "23:53:25 [INFO] Rollup damages set to False\n",
      "23:53:25 [INFO] Parse frames set to True\n",
      "23:53:25 [INFO] Running Golang parser from C:\\Users\\nguye\\anaconda3\\envs\\envTF24\\lib\\site-packages\\csgo-1.0-py3.7.egg\\csgo\\parser\\\n",
      "23:53:25 [INFO] Looking for file at D:\\EDAV\\435\\ESLOneKatowice2015-Groups-lgb-vs-penta-dust2.dem\n"
     ]
    },
    {
     "name": "stdout",
     "output_type": "stream",
     "text": [
      "parsing    435 ESLOneKatowice2015-Groups-lgb-vs-penta-dust2.dem\n"
     ]
    },
    {
     "name": "stderr",
     "output_type": "stream",
     "text": [
      "23:53:27 [INFO] Wrote demo parse output to 435 ESLOneKatowice2015-Groups-lgb-vs-penta-dust2.json\n",
      "23:53:27 [INFO] Reading in JSON from 435 ESLOneKatowice2015-Groups-lgb-vs-penta-dust2.json\n",
      "23:53:27 [INFO] JSON data loaded, available in the `json` attribute to parser\n",
      "23:53:27 [INFO] Successfully parsed JSON output\n",
      "23:53:27 [INFO] Successfully returned JSON output\n",
      "23:53:28 [INFO] Go version>=1.14.0\n",
      "23:53:28 [INFO] Initialized CSGODemoParser with demofile D:\\EDAV\\436\\ESLOneCologne-GroupD-cloud9-vs-titan-dust2.dem\n",
      "23:53:28 [INFO] Setting demo id to 436 ESLOneCologne-GroupD-cloud9-vs-titan-dust2\n",
      "23:53:28 [INFO] Setting parse rate to 128\n",
      "23:53:28 [INFO] Setting trade time to 5\n",
      "23:53:28 [INFO] Setting buy style to hltv\n",
      "23:53:28 [INFO] Rollup damages set to False\n",
      "23:53:28 [INFO] Parse frames set to True\n",
      "23:53:28 [INFO] Running Golang parser from C:\\Users\\nguye\\anaconda3\\envs\\envTF24\\lib\\site-packages\\csgo-1.0-py3.7.egg\\csgo\\parser\\\n",
      "23:53:28 [INFO] Looking for file at D:\\EDAV\\436\\ESLOneCologne-GroupD-cloud9-vs-titan-dust2.dem\n"
     ]
    },
    {
     "name": "stdout",
     "output_type": "stream",
     "text": [
      "parsing    436 ESLOneCologne-GroupD-cloud9-vs-titan-dust2.dem\n"
     ]
    },
    {
     "name": "stderr",
     "output_type": "stream",
     "text": [
      "23:53:30 [INFO] Wrote demo parse output to 436 ESLOneCologne-GroupD-cloud9-vs-titan-dust2.json\n",
      "23:53:30 [INFO] Reading in JSON from 436 ESLOneCologne-GroupD-cloud9-vs-titan-dust2.json\n",
      "23:53:30 [INFO] JSON data loaded, available in the `json` attribute to parser\n",
      "23:53:30 [INFO] Successfully parsed JSON output\n",
      "23:53:30 [INFO] Successfully returned JSON output\n",
      "23:53:32 [INFO] Go version>=1.14.0\n",
      "23:53:32 [INFO] Initialized CSGODemoParser with demofile D:\\EDAV\\437\\EMSKato-SF-nip-vs-dignitas-nuke.dem\n",
      "23:53:32 [INFO] Setting demo id to 437 EMSKato-SF-nip-vs-dignitas-nuke\n",
      "23:53:32 [INFO] Setting parse rate to 128\n",
      "23:53:32 [INFO] Setting trade time to 5\n",
      "23:53:32 [INFO] Setting buy style to hltv\n",
      "23:53:32 [INFO] Rollup damages set to False\n",
      "23:53:32 [INFO] Parse frames set to True\n",
      "23:53:32 [INFO] Running Golang parser from C:\\Users\\nguye\\anaconda3\\envs\\envTF24\\lib\\site-packages\\csgo-1.0-py3.7.egg\\csgo\\parser\\\n",
      "23:53:32 [INFO] Looking for file at D:\\EDAV\\437\\EMSKato-SF-nip-vs-dignitas-nuke.dem\n"
     ]
    },
    {
     "name": "stdout",
     "output_type": "stream",
     "text": [
      "parsing    437 EMSKato-SF-nip-vs-dignitas-nuke.dem\n"
     ]
    },
    {
     "name": "stderr",
     "output_type": "stream",
     "text": [
      "23:53:34 [INFO] Wrote demo parse output to 437 EMSKato-SF-nip-vs-dignitas-nuke.json\n",
      "23:53:34 [INFO] Reading in JSON from 437 EMSKato-SF-nip-vs-dignitas-nuke.json\n",
      "23:53:34 [INFO] JSON data loaded, available in the `json` attribute to parser\n",
      "23:53:34 [INFO] Successfully parsed JSON output\n",
      "23:53:34 [INFO] Successfully returned JSON output\n",
      "23:53:35 [INFO] Go version>=1.14.0\n",
      "23:53:35 [INFO] Initialized CSGODemoParser with demofile D:\\EDAV\\437\\EMSKato-SF-nip-vs-dignitas-inferno.dem\n",
      "23:53:35 [INFO] Setting demo id to 437 EMSKato-SF-nip-vs-dignitas-inferno\n",
      "23:53:35 [INFO] Setting parse rate to 128\n",
      "23:53:35 [INFO] Setting trade time to 5\n",
      "23:53:35 [INFO] Setting buy style to hltv\n",
      "23:53:35 [INFO] Rollup damages set to False\n",
      "23:53:35 [INFO] Parse frames set to True\n",
      "23:53:35 [INFO] Running Golang parser from C:\\Users\\nguye\\anaconda3\\envs\\envTF24\\lib\\site-packages\\csgo-1.0-py3.7.egg\\csgo\\parser\\\n",
      "23:53:35 [INFO] Looking for file at D:\\EDAV\\437\\EMSKato-SF-nip-vs-dignitas-inferno.dem\n"
     ]
    },
    {
     "name": "stdout",
     "output_type": "stream",
     "text": [
      "parsing    437 EMSKato-SF-nip-vs-dignitas-inferno.dem\n"
     ]
    },
    {
     "name": "stderr",
     "output_type": "stream",
     "text": [
      "23:53:37 [INFO] Wrote demo parse output to 437 EMSKato-SF-nip-vs-dignitas-inferno.json\n",
      "23:53:37 [INFO] Reading in JSON from 437 EMSKato-SF-nip-vs-dignitas-inferno.json\n",
      "23:53:37 [INFO] JSON data loaded, available in the `json` attribute to parser\n",
      "23:53:37 [INFO] Successfully parsed JSON output\n",
      "23:53:37 [INFO] Successfully returned JSON output\n",
      "23:53:39 [INFO] Go version>=1.14.0\n",
      "23:53:39 [INFO] Initialized CSGODemoParser with demofile D:\\EDAV\\438\\ESLOneKatowice2015-Groups-nip-vs-keydstars-inferno.dem\n",
      "23:53:39 [INFO] Setting demo id to 438 ESLOneKatowice2015-Groups-nip-vs-keydstars-inferno\n",
      "23:53:39 [INFO] Setting parse rate to 128\n",
      "23:53:39 [INFO] Setting trade time to 5\n",
      "23:53:39 [INFO] Setting buy style to hltv\n",
      "23:53:39 [INFO] Rollup damages set to False\n",
      "23:53:39 [INFO] Parse frames set to True\n",
      "23:53:39 [INFO] Running Golang parser from C:\\Users\\nguye\\anaconda3\\envs\\envTF24\\lib\\site-packages\\csgo-1.0-py3.7.egg\\csgo\\parser\\\n",
      "23:53:39 [INFO] Looking for file at D:\\EDAV\\438\\ESLOneKatowice2015-Groups-nip-vs-keydstars-inferno.dem\n"
     ]
    },
    {
     "name": "stdout",
     "output_type": "stream",
     "text": [
      "parsing    438 ESLOneKatowice2015-Groups-nip-vs-keydstars-inferno.dem\n"
     ]
    },
    {
     "name": "stderr",
     "output_type": "stream",
     "text": [
      "23:53:41 [INFO] Wrote demo parse output to 438 ESLOneKatowice2015-Groups-nip-vs-keydstars-inferno.json\n",
      "23:53:41 [INFO] Reading in JSON from 438 ESLOneKatowice2015-Groups-nip-vs-keydstars-inferno.json\n",
      "23:53:41 [INFO] JSON data loaded, available in the `json` attribute to parser\n",
      "23:53:41 [INFO] Successfully parsed JSON output\n",
      "23:53:41 [INFO] Successfully returned JSON output\n",
      "23:53:42 [INFO] Go version>=1.14.0\n",
      "23:53:42 [INFO] Initialized CSGODemoParser with demofile D:\\EDAV\\439\\renegades-vs-dreameaters-m2-train.dem\n",
      "23:53:42 [INFO] Setting demo id to 439 renegades-vs-dreameaters-m2-train\n",
      "23:53:42 [INFO] Setting parse rate to 128\n",
      "23:53:42 [INFO] Setting trade time to 5\n",
      "23:53:42 [INFO] Setting buy style to hltv\n",
      "23:53:42 [INFO] Rollup damages set to False\n",
      "23:53:42 [INFO] Parse frames set to True\n",
      "23:53:42 [INFO] Running Golang parser from C:\\Users\\nguye\\anaconda3\\envs\\envTF24\\lib\\site-packages\\csgo-1.0-py3.7.egg\\csgo\\parser\\\n",
      "23:53:42 [INFO] Looking for file at D:\\EDAV\\439\\renegades-vs-dreameaters-m2-train.dem\n"
     ]
    },
    {
     "name": "stdout",
     "output_type": "stream",
     "text": [
      "parsing    439 renegades-vs-dreameaters-m2-train.dem\n"
     ]
    },
    {
     "name": "stderr",
     "output_type": "stream",
     "text": [
      "23:53:46 [INFO] Wrote demo parse output to 439 renegades-vs-dreameaters-m2-train.json\n",
      "23:53:46 [INFO] Reading in JSON from 439 renegades-vs-dreameaters-m2-train.json\n",
      "23:53:47 [INFO] JSON data loaded, available in the `json` attribute to parser\n",
      "23:53:47 [INFO] Successfully parsed JSON output\n",
      "23:53:47 [INFO] Successfully returned JSON output\n",
      "23:53:53 [INFO] Go version>=1.14.0\n",
      "23:53:53 [INFO] Initialized CSGODemoParser with demofile D:\\EDAV\\439\\renegades-vs-dreameaters-m1-mirage.dem\n",
      "23:53:53 [INFO] Setting demo id to 439 renegades-vs-dreameaters-m1-mirage\n",
      "23:53:53 [INFO] Setting parse rate to 128\n",
      "23:53:53 [INFO] Setting trade time to 5\n",
      "23:53:53 [INFO] Setting buy style to hltv\n",
      "23:53:53 [INFO] Rollup damages set to False\n",
      "23:53:53 [INFO] Parse frames set to True\n",
      "23:53:53 [INFO] Running Golang parser from C:\\Users\\nguye\\anaconda3\\envs\\envTF24\\lib\\site-packages\\csgo-1.0-py3.7.egg\\csgo\\parser\\\n",
      "23:53:53 [INFO] Looking for file at D:\\EDAV\\439\\renegades-vs-dreameaters-m1-mirage.dem\n"
     ]
    },
    {
     "name": "stdout",
     "output_type": "stream",
     "text": [
      "parsing    439 renegades-vs-dreameaters-m1-mirage.dem\n"
     ]
    },
    {
     "name": "stderr",
     "output_type": "stream",
     "text": [
      "23:53:58 [INFO] Wrote demo parse output to 439 renegades-vs-dreameaters-m1-mirage.json\n",
      "23:53:58 [INFO] Reading in JSON from 439 renegades-vs-dreameaters-m1-mirage.json\n",
      "23:53:59 [INFO] JSON data loaded, available in the `json` attribute to parser\n",
      "23:53:59 [INFO] Successfully parsed JSON output\n",
      "23:53:59 [INFO] Successfully returned JSON output\n",
      "23:54:06 [INFO] Go version>=1.14.0\n",
      "23:54:06 [INFO] Initialized CSGODemoParser with demofile D:\\EDAV\\440\\MLGColumbus2016-natusvincere-vs-cloud9-train.dem\n",
      "23:54:06 [INFO] Setting demo id to 440 MLGColumbus2016-natusvincere-vs-cloud9-train\n",
      "23:54:06 [INFO] Setting parse rate to 128\n",
      "23:54:06 [INFO] Setting trade time to 5\n",
      "23:54:06 [INFO] Setting buy style to hltv\n",
      "23:54:06 [INFO] Rollup damages set to False\n",
      "23:54:06 [INFO] Parse frames set to True\n",
      "23:54:06 [INFO] Running Golang parser from C:\\Users\\nguye\\anaconda3\\envs\\envTF24\\lib\\site-packages\\csgo-1.0-py3.7.egg\\csgo\\parser\\\n",
      "23:54:06 [INFO] Looking for file at D:\\EDAV\\440\\MLGColumbus2016-natusvincere-vs-cloud9-train.dem\n"
     ]
    },
    {
     "name": "stdout",
     "output_type": "stream",
     "text": [
      "parsing    440 MLGColumbus2016-natusvincere-vs-cloud9-train.dem\n"
     ]
    },
    {
     "name": "stderr",
     "output_type": "stream",
     "text": [
      "23:54:11 [INFO] Wrote demo parse output to 440 MLGColumbus2016-natusvincere-vs-cloud9-train.json\n",
      "23:54:11 [INFO] Reading in JSON from 440 MLGColumbus2016-natusvincere-vs-cloud9-train.json\n",
      "23:54:11 [INFO] JSON data loaded, available in the `json` attribute to parser\n",
      "23:54:11 [INFO] Successfully parsed JSON output\n",
      "23:54:11 [INFO] Successfully returned JSON output\n",
      "23:54:18 [INFO] Go version>=1.14.0\n",
      "23:54:18 [INFO] Initialized CSGODemoParser with demofile D:\\EDAV\\441\\mousesports-vs-faze-train.dem\n",
      "23:54:18 [INFO] Setting demo id to 441 mousesports-vs-faze-train\n",
      "23:54:18 [INFO] Setting parse rate to 128\n",
      "23:54:18 [INFO] Setting trade time to 5\n",
      "23:54:18 [INFO] Setting buy style to hltv\n",
      "23:54:18 [INFO] Rollup damages set to False\n",
      "23:54:18 [INFO] Parse frames set to True\n",
      "23:54:18 [INFO] Running Golang parser from C:\\Users\\nguye\\anaconda3\\envs\\envTF24\\lib\\site-packages\\csgo-1.0-py3.7.egg\\csgo\\parser\\\n",
      "23:54:18 [INFO] Looking for file at D:\\EDAV\\441\\mousesports-vs-faze-train.dem\n"
     ]
    },
    {
     "name": "stdout",
     "output_type": "stream",
     "text": [
      "parsing    441 mousesports-vs-faze-train.dem\n"
     ]
    },
    {
     "name": "stderr",
     "output_type": "stream",
     "text": [
      "23:54:23 [INFO] Wrote demo parse output to 441 mousesports-vs-faze-train.json\n",
      "23:54:23 [INFO] Reading in JSON from 441 mousesports-vs-faze-train.json\n",
      "23:54:24 [INFO] JSON data loaded, available in the `json` attribute to parser\n",
      "23:54:24 [INFO] Successfully parsed JSON output\n",
      "23:54:24 [INFO] Successfully returned JSON output\n",
      "23:54:34 [INFO] Go version>=1.14.0\n",
      "23:54:34 [INFO] Initialized CSGODemoParser with demofile D:\\EDAV\\442\\fnatic-vs-g2-cache.dem\n",
      "23:54:34 [INFO] Setting demo id to 442 fnatic-vs-g2-cache\n",
      "23:54:34 [INFO] Setting parse rate to 128\n",
      "23:54:34 [INFO] Setting trade time to 5\n",
      "23:54:34 [INFO] Setting buy style to hltv\n",
      "23:54:34 [INFO] Rollup damages set to False\n",
      "23:54:34 [INFO] Parse frames set to True\n",
      "23:54:34 [INFO] Running Golang parser from C:\\Users\\nguye\\anaconda3\\envs\\envTF24\\lib\\site-packages\\csgo-1.0-py3.7.egg\\csgo\\parser\\\n",
      "23:54:34 [INFO] Looking for file at D:\\EDAV\\442\\fnatic-vs-g2-cache.dem\n"
     ]
    },
    {
     "name": "stdout",
     "output_type": "stream",
     "text": [
      "parsing    442 fnatic-vs-g2-cache.dem\n"
     ]
    },
    {
     "name": "stderr",
     "output_type": "stream",
     "text": [
      "23:54:39 [INFO] Wrote demo parse output to 442 fnatic-vs-g2-cache.json\n",
      "23:54:39 [INFO] Reading in JSON from 442 fnatic-vs-g2-cache.json\n",
      "23:54:39 [INFO] JSON data loaded, available in the `json` attribute to parser\n",
      "23:54:39 [INFO] Successfully parsed JSON output\n",
      "23:54:39 [INFO] Successfully returned JSON output\n",
      "23:54:47 [INFO] Go version>=1.14.0\n",
      "23:54:47 [INFO] Initialized CSGODemoParser with demofile D:\\EDAV\\443\\faze-vs-cr4zy-mirage.dem\n",
      "23:54:47 [INFO] Setting demo id to 443 faze-vs-cr4zy-mirage\n",
      "23:54:47 [INFO] Setting parse rate to 128\n",
      "23:54:47 [INFO] Setting trade time to 5\n",
      "23:54:47 [INFO] Setting buy style to hltv\n",
      "23:54:47 [INFO] Rollup damages set to False\n",
      "23:54:47 [INFO] Parse frames set to True\n",
      "23:54:47 [INFO] Running Golang parser from C:\\Users\\nguye\\anaconda3\\envs\\envTF24\\lib\\site-packages\\csgo-1.0-py3.7.egg\\csgo\\parser\\\n",
      "23:54:47 [INFO] Looking for file at D:\\EDAV\\443\\faze-vs-cr4zy-mirage.dem\n"
     ]
    },
    {
     "name": "stdout",
     "output_type": "stream",
     "text": [
      "parsing    443 faze-vs-cr4zy-mirage.dem\n"
     ]
    },
    {
     "name": "stderr",
     "output_type": "stream",
     "text": [
      "23:54:52 [INFO] Wrote demo parse output to 443 faze-vs-cr4zy-mirage.json\n",
      "23:54:52 [INFO] Reading in JSON from 443 faze-vs-cr4zy-mirage.json\n",
      "23:54:52 [INFO] JSON data loaded, available in the `json` attribute to parser\n",
      "23:54:52 [INFO] Successfully parsed JSON output\n",
      "23:54:52 [INFO] Successfully returned JSON output\n",
      "23:55:00 [INFO] Go version>=1.14.0\n",
      "23:55:00 [INFO] Initialized CSGODemoParser with demofile D:\\EDAV\\444\\DHCluj2015-navi-vs-clg-inferno.dem\n",
      "23:55:00 [INFO] Setting demo id to 444 DHCluj2015-navi-vs-clg-inferno\n",
      "23:55:00 [INFO] Setting parse rate to 128\n",
      "23:55:00 [INFO] Setting trade time to 5\n",
      "23:55:00 [INFO] Setting buy style to hltv\n",
      "23:55:00 [INFO] Rollup damages set to False\n",
      "23:55:00 [INFO] Parse frames set to True\n",
      "23:55:00 [INFO] Running Golang parser from C:\\Users\\nguye\\anaconda3\\envs\\envTF24\\lib\\site-packages\\csgo-1.0-py3.7.egg\\csgo\\parser\\\n",
      "23:55:00 [INFO] Looking for file at D:\\EDAV\\444\\DHCluj2015-navi-vs-clg-inferno.dem\n"
     ]
    },
    {
     "name": "stdout",
     "output_type": "stream",
     "text": [
      "parsing    444 DHCluj2015-navi-vs-clg-inferno.dem\n"
     ]
    },
    {
     "name": "stderr",
     "output_type": "stream",
     "text": [
      "23:55:03 [INFO] Wrote demo parse output to 444 DHCluj2015-navi-vs-clg-inferno.json\n",
      "23:55:03 [INFO] Reading in JSON from 444 DHCluj2015-navi-vs-clg-inferno.json\n",
      "23:55:03 [INFO] JSON data loaded, available in the `json` attribute to parser\n",
      "23:55:03 [INFO] Successfully parsed JSON output\n",
      "23:55:03 [INFO] Successfully returned JSON output\n",
      "23:55:05 [INFO] Go version>=1.14.0\n",
      "23:55:05 [INFO] Initialized CSGODemoParser with demofile D:\\EDAV\\444\\DHCluj2015-clg-vs-navi-cbble.dem\n",
      "23:55:05 [INFO] Setting demo id to 444 DHCluj2015-clg-vs-navi-cbble\n",
      "23:55:05 [INFO] Setting parse rate to 128\n",
      "23:55:05 [INFO] Setting trade time to 5\n",
      "23:55:05 [INFO] Setting buy style to hltv\n",
      "23:55:05 [INFO] Rollup damages set to False\n",
      "23:55:05 [INFO] Parse frames set to True\n",
      "23:55:05 [INFO] Running Golang parser from C:\\Users\\nguye\\anaconda3\\envs\\envTF24\\lib\\site-packages\\csgo-1.0-py3.7.egg\\csgo\\parser\\\n",
      "23:55:05 [INFO] Looking for file at D:\\EDAV\\444\\DHCluj2015-clg-vs-navi-cbble.dem\n"
     ]
    },
    {
     "name": "stdout",
     "output_type": "stream",
     "text": [
      "parsing    444 DHCluj2015-clg-vs-navi-cbble.dem\n"
     ]
    },
    {
     "name": "stderr",
     "output_type": "stream",
     "text": [
      "23:55:08 [INFO] Wrote demo parse output to 444 DHCluj2015-clg-vs-navi-cbble.json\n",
      "23:55:08 [INFO] Reading in JSON from 444 DHCluj2015-clg-vs-navi-cbble.json\n",
      "23:55:08 [INFO] JSON data loaded, available in the `json` attribute to parser\n",
      "23:55:08 [INFO] Successfully parsed JSON output\n",
      "23:55:08 [INFO] Successfully returned JSON output\n",
      "23:55:10 [INFO] Go version>=1.14.0\n",
      "23:55:10 [INFO] Initialized CSGODemoParser with demofile D:\\EDAV\\444\\DHCluj2015-navi-vs-clg-train.dem\n",
      "23:55:10 [INFO] Setting demo id to 444 DHCluj2015-navi-vs-clg-train\n",
      "23:55:10 [INFO] Setting parse rate to 128\n",
      "23:55:10 [INFO] Setting trade time to 5\n",
      "23:55:10 [INFO] Setting buy style to hltv\n",
      "23:55:10 [INFO] Rollup damages set to False\n",
      "23:55:10 [INFO] Parse frames set to True\n",
      "23:55:10 [INFO] Running Golang parser from C:\\Users\\nguye\\anaconda3\\envs\\envTF24\\lib\\site-packages\\csgo-1.0-py3.7.egg\\csgo\\parser\\\n",
      "23:55:10 [INFO] Looking for file at D:\\EDAV\\444\\DHCluj2015-navi-vs-clg-train.dem\n"
     ]
    },
    {
     "name": "stdout",
     "output_type": "stream",
     "text": [
      "parsing    444 DHCluj2015-navi-vs-clg-train.dem\n"
     ]
    },
    {
     "name": "stderr",
     "output_type": "stream",
     "text": [
      "23:55:12 [INFO] Wrote demo parse output to 444 DHCluj2015-navi-vs-clg-train.json\n",
      "23:55:12 [INFO] Reading in JSON from 444 DHCluj2015-navi-vs-clg-train.json\n",
      "23:55:12 [INFO] JSON data loaded, available in the `json` attribute to parser\n",
      "23:55:12 [INFO] Successfully parsed JSON output\n",
      "23:55:12 [INFO] Successfully returned JSON output\n",
      "23:55:14 [INFO] Go version>=1.14.0\n",
      "23:55:14 [INFO] Initialized CSGODemoParser with demofile D:\\EDAV\\445\\qb-fire-vs-mousesports-train.dem\n",
      "23:55:14 [INFO] Setting demo id to 445 qb-fire-vs-mousesports-train\n",
      "23:55:14 [INFO] Setting parse rate to 128\n",
      "23:55:14 [INFO] Setting trade time to 5\n",
      "23:55:14 [INFO] Setting buy style to hltv\n",
      "23:55:14 [INFO] Rollup damages set to False\n",
      "23:55:14 [INFO] Parse frames set to True\n",
      "23:55:14 [INFO] Running Golang parser from C:\\Users\\nguye\\anaconda3\\envs\\envTF24\\lib\\site-packages\\csgo-1.0-py3.7.egg\\csgo\\parser\\\n",
      "23:55:14 [INFO] Looking for file at D:\\EDAV\\445\\qb-fire-vs-mousesports-train.dem\n"
     ]
    },
    {
     "name": "stdout",
     "output_type": "stream",
     "text": [
      "parsing    445 qb-fire-vs-mousesports-train.dem\n"
     ]
    },
    {
     "name": "stderr",
     "output_type": "stream",
     "text": [
      "23:55:19 [INFO] Wrote demo parse output to 445 qb-fire-vs-mousesports-train.json\n",
      "23:55:19 [INFO] Reading in JSON from 445 qb-fire-vs-mousesports-train.json\n",
      "23:55:20 [INFO] JSON data loaded, available in the `json` attribute to parser\n",
      "23:55:20 [INFO] Successfully parsed JSON output\n",
      "23:55:20 [INFO] Successfully returned JSON output\n",
      "23:55:27 [INFO] Go version>=1.14.0\n",
      "23:55:27 [INFO] Initialized CSGODemoParser with demofile D:\\EDAV\\317\\ESLOneCologne2016-natusvincere-vs-liquid-map3-cobblestone.dem\n",
      "23:55:27 [INFO] Setting demo id to 317 ESLOneCologne2016-natusvincere-vs-liquid-map3-cobblestone\n",
      "23:55:27 [INFO] Setting parse rate to 128\n",
      "23:55:27 [INFO] Setting trade time to 5\n",
      "23:55:27 [INFO] Setting buy style to hltv\n",
      "23:55:27 [INFO] Rollup damages set to False\n",
      "23:55:27 [INFO] Parse frames set to True\n",
      "23:55:28 [INFO] Running Golang parser from C:\\Users\\nguye\\anaconda3\\envs\\envTF24\\lib\\site-packages\\csgo-1.0-py3.7.egg\\csgo\\parser\\\n",
      "23:55:28 [INFO] Looking for file at D:\\EDAV\\317\\ESLOneCologne2016-natusvincere-vs-liquid-map3-cobblestone.dem\n"
     ]
    },
    {
     "name": "stdout",
     "output_type": "stream",
     "text": [
      "parsing    317 ESLOneCologne2016-natusvincere-vs-liquid-map3-cobblestone.dem\n"
     ]
    },
    {
     "name": "stderr",
     "output_type": "stream",
     "text": [
      "23:55:32 [INFO] Wrote demo parse output to 317 ESLOneCologne2016-natusvincere-vs-liquid-map3-cobblestone.json\n",
      "23:55:32 [INFO] Reading in JSON from 317 ESLOneCologne2016-natusvincere-vs-liquid-map3-cobblestone.json\n",
      "23:55:32 [INFO] JSON data loaded, available in the `json` attribute to parser\n",
      "23:55:32 [INFO] Successfully parsed JSON output\n",
      "23:55:32 [INFO] Successfully returned JSON output\n",
      "23:55:38 [INFO] Go version>=1.14.0\n",
      "23:55:38 [INFO] Initialized CSGODemoParser with demofile D:\\EDAV\\317\\ESLOneCologne2016-natusvincere-vs-liquid-map1-train.dem\n",
      "23:55:38 [INFO] Setting demo id to 317 ESLOneCologne2016-natusvincere-vs-liquid-map1-train\n",
      "23:55:38 [INFO] Setting parse rate to 128\n",
      "23:55:38 [INFO] Setting trade time to 5\n",
      "23:55:38 [INFO] Setting buy style to hltv\n",
      "23:55:38 [INFO] Rollup damages set to False\n",
      "23:55:38 [INFO] Parse frames set to True\n",
      "23:55:38 [INFO] Running Golang parser from C:\\Users\\nguye\\anaconda3\\envs\\envTF24\\lib\\site-packages\\csgo-1.0-py3.7.egg\\csgo\\parser\\\n",
      "23:55:38 [INFO] Looking for file at D:\\EDAV\\317\\ESLOneCologne2016-natusvincere-vs-liquid-map1-train.dem\n"
     ]
    },
    {
     "name": "stdout",
     "output_type": "stream",
     "text": [
      "parsing    317 ESLOneCologne2016-natusvincere-vs-liquid-map1-train.dem\n"
     ]
    },
    {
     "name": "stderr",
     "output_type": "stream",
     "text": [
      "23:55:43 [INFO] Wrote demo parse output to 317 ESLOneCologne2016-natusvincere-vs-liquid-map1-train.json\n",
      "23:55:43 [INFO] Reading in JSON from 317 ESLOneCologne2016-natusvincere-vs-liquid-map1-train.json\n",
      "23:55:44 [INFO] JSON data loaded, available in the `json` attribute to parser\n",
      "23:55:44 [INFO] Successfully parsed JSON output\n",
      "23:55:44 [INFO] Successfully returned JSON output\n",
      "23:55:51 [INFO] Go version>=1.14.0\n",
      "23:55:51 [INFO] Initialized CSGODemoParser with demofile D:\\EDAV\\317\\ESLOneCologne2016-natusvincere-vs-liquid-map2-nuke.dem\n",
      "23:55:51 [INFO] Setting demo id to 317 ESLOneCologne2016-natusvincere-vs-liquid-map2-nuke\n",
      "23:55:51 [INFO] Setting parse rate to 128\n",
      "23:55:51 [INFO] Setting trade time to 5\n",
      "23:55:51 [INFO] Setting buy style to hltv\n",
      "23:55:51 [INFO] Rollup damages set to False\n",
      "23:55:51 [INFO] Parse frames set to True\n",
      "23:55:51 [INFO] Running Golang parser from C:\\Users\\nguye\\anaconda3\\envs\\envTF24\\lib\\site-packages\\csgo-1.0-py3.7.egg\\csgo\\parser\\\n",
      "23:55:51 [INFO] Looking for file at D:\\EDAV\\317\\ESLOneCologne2016-natusvincere-vs-liquid-map2-nuke.dem\n"
     ]
    },
    {
     "name": "stdout",
     "output_type": "stream",
     "text": [
      "parsing    317 ESLOneCologne2016-natusvincere-vs-liquid-map2-nuke.dem\n"
     ]
    },
    {
     "name": "stderr",
     "output_type": "stream",
     "text": [
      "23:55:57 [INFO] Wrote demo parse output to 317 ESLOneCologne2016-natusvincere-vs-liquid-map2-nuke.json\n",
      "23:55:57 [INFO] Reading in JSON from 317 ESLOneCologne2016-natusvincere-vs-liquid-map2-nuke.json\n",
      "23:55:57 [INFO] JSON data loaded, available in the `json` attribute to parser\n",
      "23:55:57 [INFO] Successfully parsed JSON output\n",
      "23:55:57 [INFO] Successfully returned JSON output\n",
      "23:56:06 [INFO] Go version>=1.14.0\n",
      "23:56:06 [INFO] Initialized CSGODemoParser with demofile D:\\EDAV\\318\\003105507815263830017_1580923915_1_vexed_vs_cloud9_cobblestone.dem\n",
      "23:56:06 [INFO] Setting demo id to 318 003105507815263830017_1580923915_1_vexed_vs_cloud9_cobblestone\n",
      "23:56:06 [INFO] Setting parse rate to 128\n",
      "23:56:06 [INFO] Setting trade time to 5\n",
      "23:56:06 [INFO] Setting buy style to hltv\n",
      "23:56:06 [INFO] Rollup damages set to False\n",
      "23:56:06 [INFO] Parse frames set to True\n",
      "23:56:06 [INFO] Running Golang parser from C:\\Users\\nguye\\anaconda3\\envs\\envTF24\\lib\\site-packages\\csgo-1.0-py3.7.egg\\csgo\\parser\\\n",
      "23:56:06 [INFO] Looking for file at D:\\EDAV\\318\\003105507815263830017_1580923915_1_vexed_vs_cloud9_cobblestone.dem\n"
     ]
    },
    {
     "name": "stdout",
     "output_type": "stream",
     "text": [
      "parsing    318 003105507815263830017_1580923915_1_vexed_vs_cloud9_cobblestone.dem\n"
     ]
    },
    {
     "name": "stderr",
     "output_type": "stream",
     "text": [
      "23:56:11 [INFO] Wrote demo parse output to 318 003105507815263830017_1580923915_1_vexed_vs_cloud9_cobblestone.json\n",
      "23:56:11 [INFO] Reading in JSON from 318 003105507815263830017_1580923915_1_vexed_vs_cloud9_cobblestone.json\n",
      "23:56:11 [INFO] JSON data loaded, available in the `json` attribute to parser\n",
      "23:56:11 [INFO] Successfully parsed JSON output\n",
      "23:56:11 [INFO] Successfully returned JSON output\n",
      "23:56:19 [INFO] Go version>=1.14.0\n",
      "23:56:19 [INFO] Initialized CSGODemoParser with demofile D:\\EDAV\\319\\nrg-vs-complexity-m2-cache.dem\n",
      "23:56:19 [INFO] Setting demo id to 319 nrg-vs-complexity-m2-cache\n",
      "23:56:19 [INFO] Setting parse rate to 128\n",
      "23:56:19 [INFO] Setting trade time to 5\n",
      "23:56:19 [INFO] Setting buy style to hltv\n",
      "23:56:19 [INFO] Rollup damages set to False\n",
      "23:56:19 [INFO] Parse frames set to True\n",
      "23:56:19 [INFO] Running Golang parser from C:\\Users\\nguye\\anaconda3\\envs\\envTF24\\lib\\site-packages\\csgo-1.0-py3.7.egg\\csgo\\parser\\\n",
      "23:56:19 [INFO] Looking for file at D:\\EDAV\\319\\nrg-vs-complexity-m2-cache.dem\n"
     ]
    },
    {
     "name": "stdout",
     "output_type": "stream",
     "text": [
      "parsing    319 nrg-vs-complexity-m2-cache.dem\n"
     ]
    },
    {
     "name": "stderr",
     "output_type": "stream",
     "text": [
      "23:56:26 [INFO] Wrote demo parse output to 319 nrg-vs-complexity-m2-cache.json\n",
      "23:56:26 [INFO] Reading in JSON from 319 nrg-vs-complexity-m2-cache.json\n",
      "23:56:27 [INFO] JSON data loaded, available in the `json` attribute to parser\n",
      "23:56:27 [INFO] Successfully parsed JSON output\n",
      "23:56:27 [INFO] Successfully returned JSON output\n",
      "23:56:38 [INFO] Go version>=1.14.0\n",
      "23:56:38 [INFO] Initialized CSGODemoParser with demofile D:\\EDAV\\319\\nrg-vs-complexity-m1-nuke.dem\n",
      "23:56:38 [INFO] Setting demo id to 319 nrg-vs-complexity-m1-nuke\n",
      "23:56:38 [INFO] Setting parse rate to 128\n",
      "23:56:38 [INFO] Setting trade time to 5\n",
      "23:56:38 [INFO] Setting buy style to hltv\n",
      "23:56:38 [INFO] Rollup damages set to False\n",
      "23:56:38 [INFO] Parse frames set to True\n",
      "23:56:38 [INFO] Running Golang parser from C:\\Users\\nguye\\anaconda3\\envs\\envTF24\\lib\\site-packages\\csgo-1.0-py3.7.egg\\csgo\\parser\\\n",
      "23:56:38 [INFO] Looking for file at D:\\EDAV\\319\\nrg-vs-complexity-m1-nuke.dem\n"
     ]
    },
    {
     "name": "stdout",
     "output_type": "stream",
     "text": [
      "parsing    319 nrg-vs-complexity-m1-nuke.dem\n"
     ]
    },
    {
     "name": "stderr",
     "output_type": "stream",
     "text": [
      "23:56:47 [INFO] Wrote demo parse output to 319 nrg-vs-complexity-m1-nuke.json\n",
      "23:56:47 [INFO] Reading in JSON from 319 nrg-vs-complexity-m1-nuke.json\n",
      "23:56:48 [INFO] JSON data loaded, available in the `json` attribute to parser\n",
      "23:56:48 [INFO] Successfully parsed JSON output\n",
      "23:56:48 [INFO] Successfully returned JSON output\n",
      "23:57:02 [INFO] Go version>=1.14.0\n",
      "23:57:02 [INFO] Initialized CSGODemoParser with demofile D:\\EDAV\\320\\EMSKato-GroupA-hellraisers-vs-titan-inferno.dem\n",
      "23:57:02 [INFO] Setting demo id to 320 EMSKato-GroupA-hellraisers-vs-titan-inferno\n",
      "23:57:02 [INFO] Setting parse rate to 128\n",
      "23:57:02 [INFO] Setting trade time to 5\n",
      "23:57:02 [INFO] Setting buy style to hltv\n",
      "23:57:02 [INFO] Rollup damages set to False\n",
      "23:57:02 [INFO] Parse frames set to True\n",
      "23:57:02 [INFO] Running Golang parser from C:\\Users\\nguye\\anaconda3\\envs\\envTF24\\lib\\site-packages\\csgo-1.0-py3.7.egg\\csgo\\parser\\\n",
      "23:57:02 [INFO] Looking for file at D:\\EDAV\\320\\EMSKato-GroupA-hellraisers-vs-titan-inferno.dem\n"
     ]
    },
    {
     "name": "stdout",
     "output_type": "stream",
     "text": [
      "parsing    320 EMSKato-GroupA-hellraisers-vs-titan-inferno.dem\n"
     ]
    },
    {
     "name": "stderr",
     "output_type": "stream",
     "text": [
      "23:57:04 [INFO] Wrote demo parse output to 320 EMSKato-GroupA-hellraisers-vs-titan-inferno.json\n",
      "23:57:04 [INFO] Reading in JSON from 320 EMSKato-GroupA-hellraisers-vs-titan-inferno.json\n",
      "23:57:04 [INFO] JSON data loaded, available in the `json` attribute to parser\n",
      "23:57:04 [INFO] Successfully parsed JSON output\n",
      "23:57:04 [INFO] Successfully returned JSON output\n",
      "23:57:05 [INFO] Go version>=1.14.0\n",
      "23:57:05 [INFO] Initialized CSGODemoParser with demofile D:\\EDAV\\321\\north-vs-cloud9-mirage.dem\n",
      "23:57:05 [INFO] Setting demo id to 321 north-vs-cloud9-mirage\n",
      "23:57:05 [INFO] Setting parse rate to 128\n",
      "23:57:05 [INFO] Setting trade time to 5\n",
      "23:57:05 [INFO] Setting buy style to hltv\n",
      "23:57:05 [INFO] Rollup damages set to False\n",
      "23:57:05 [INFO] Parse frames set to True\n",
      "23:57:05 [INFO] Running Golang parser from C:\\Users\\nguye\\anaconda3\\envs\\envTF24\\lib\\site-packages\\csgo-1.0-py3.7.egg\\csgo\\parser\\\n",
      "23:57:05 [INFO] Looking for file at D:\\EDAV\\321\\north-vs-cloud9-mirage.dem\n"
     ]
    },
    {
     "name": "stdout",
     "output_type": "stream",
     "text": [
      "parsing    321 north-vs-cloud9-mirage.dem\n"
     ]
    },
    {
     "name": "stderr",
     "output_type": "stream",
     "text": [
      "23:57:10 [INFO] Wrote demo parse output to 321 north-vs-cloud9-mirage.json\n",
      "23:57:10 [INFO] Reading in JSON from 321 north-vs-cloud9-mirage.json\n",
      "23:57:11 [INFO] JSON data loaded, available in the `json` attribute to parser\n",
      "23:57:11 [INFO] Successfully parsed JSON output\n",
      "23:57:11 [INFO] Successfully returned JSON output\n",
      "23:57:19 [INFO] Go version>=1.14.0\n",
      "23:57:19 [INFO] Initialized CSGODemoParser with demofile D:\\EDAV\\322\\MLGColumbus2016-natusvincere-vs-astralis-bo3-map1-inferno.dem\n",
      "23:57:19 [INFO] Setting demo id to 322 MLGColumbus2016-natusvincere-vs-astralis-bo3-map1-inferno\n",
      "23:57:19 [INFO] Setting parse rate to 128\n",
      "23:57:19 [INFO] Setting trade time to 5\n",
      "23:57:19 [INFO] Setting buy style to hltv\n",
      "23:57:19 [INFO] Rollup damages set to False\n",
      "23:57:19 [INFO] Parse frames set to True\n",
      "23:57:19 [INFO] Running Golang parser from C:\\Users\\nguye\\anaconda3\\envs\\envTF24\\lib\\site-packages\\csgo-1.0-py3.7.egg\\csgo\\parser\\\n",
      "23:57:19 [INFO] Looking for file at D:\\EDAV\\322\\MLGColumbus2016-natusvincere-vs-astralis-bo3-map1-inferno.dem\n"
     ]
    },
    {
     "name": "stdout",
     "output_type": "stream",
     "text": [
      "parsing    322 MLGColumbus2016-natusvincere-vs-astralis-bo3-map1-inferno.dem\n"
     ]
    },
    {
     "name": "stderr",
     "output_type": "stream",
     "text": [
      "23:57:26 [INFO] Wrote demo parse output to 322 MLGColumbus2016-natusvincere-vs-astralis-bo3-map1-inferno.json\n",
      "23:57:26 [INFO] Reading in JSON from 322 MLGColumbus2016-natusvincere-vs-astralis-bo3-map1-inferno.json\n",
      "23:57:26 [INFO] JSON data loaded, available in the `json` attribute to parser\n",
      "23:57:26 [INFO] Successfully parsed JSON output\n",
      "23:57:26 [INFO] Successfully returned JSON output\n",
      "23:57:37 [INFO] Go version>=1.14.0\n",
      "23:57:37 [INFO] Initialized CSGODemoParser with demofile D:\\EDAV\\322\\MLGColumbus2016-natusvincere-vs-astralis-bo3-map2-dust2.dem\n",
      "23:57:37 [INFO] Setting demo id to 322 MLGColumbus2016-natusvincere-vs-astralis-bo3-map2-dust2\n",
      "23:57:37 [INFO] Setting parse rate to 128\n",
      "23:57:37 [INFO] Setting trade time to 5\n",
      "23:57:37 [INFO] Setting buy style to hltv\n",
      "23:57:37 [INFO] Rollup damages set to False\n",
      "23:57:37 [INFO] Parse frames set to True\n",
      "23:57:37 [INFO] Running Golang parser from C:\\Users\\nguye\\anaconda3\\envs\\envTF24\\lib\\site-packages\\csgo-1.0-py3.7.egg\\csgo\\parser\\\n",
      "23:57:37 [INFO] Looking for file at D:\\EDAV\\322\\MLGColumbus2016-natusvincere-vs-astralis-bo3-map2-dust2.dem\n"
     ]
    },
    {
     "name": "stdout",
     "output_type": "stream",
     "text": [
      "parsing    322 MLGColumbus2016-natusvincere-vs-astralis-bo3-map2-dust2.dem\n"
     ]
    },
    {
     "name": "stderr",
     "output_type": "stream",
     "text": [
      "23:57:41 [INFO] Wrote demo parse output to 322 MLGColumbus2016-natusvincere-vs-astralis-bo3-map2-dust2.json\n",
      "23:57:41 [INFO] Reading in JSON from 322 MLGColumbus2016-natusvincere-vs-astralis-bo3-map2-dust2.json\n",
      "23:57:42 [INFO] JSON data loaded, available in the `json` attribute to parser\n",
      "23:57:42 [INFO] Successfully parsed JSON output\n",
      "23:57:42 [INFO] Successfully returned JSON output\n",
      "23:57:48 [INFO] Go version>=1.14.0\n",
      "23:57:48 [INFO] Initialized CSGODemoParser with demofile D:\\EDAV\\323\\ESLOneCologne-SF-nip-vs-ldlc-nuke.dem\n",
      "23:57:48 [INFO] Setting demo id to 323 ESLOneCologne-SF-nip-vs-ldlc-nuke\n",
      "23:57:48 [INFO] Setting parse rate to 128\n",
      "23:57:48 [INFO] Setting trade time to 5\n",
      "23:57:48 [INFO] Setting buy style to hltv\n",
      "23:57:48 [INFO] Rollup damages set to False\n",
      "23:57:48 [INFO] Parse frames set to True\n",
      "23:57:48 [INFO] Running Golang parser from C:\\Users\\nguye\\anaconda3\\envs\\envTF24\\lib\\site-packages\\csgo-1.0-py3.7.egg\\csgo\\parser\\\n",
      "23:57:48 [INFO] Looking for file at D:\\EDAV\\323\\ESLOneCologne-SF-nip-vs-ldlc-nuke.dem\n"
     ]
    },
    {
     "name": "stdout",
     "output_type": "stream",
     "text": [
      "parsing    323 ESLOneCologne-SF-nip-vs-ldlc-nuke.dem\n"
     ]
    },
    {
     "name": "stderr",
     "output_type": "stream",
     "text": [
      "23:57:50 [INFO] Wrote demo parse output to 323 ESLOneCologne-SF-nip-vs-ldlc-nuke.json\n",
      "23:57:50 [INFO] Reading in JSON from 323 ESLOneCologne-SF-nip-vs-ldlc-nuke.json\n",
      "23:57:50 [INFO] JSON data loaded, available in the `json` attribute to parser\n",
      "23:57:50 [INFO] Successfully parsed JSON output\n",
      "23:57:50 [INFO] Successfully returned JSON output\n",
      "23:57:51 [INFO] Go version>=1.14.0\n",
      "23:57:51 [INFO] Initialized CSGODemoParser with demofile D:\\EDAV\\323\\ESLOneCologne-SF-ldlc-vs-nip-inferno.dem\n",
      "23:57:51 [INFO] Setting demo id to 323 ESLOneCologne-SF-ldlc-vs-nip-inferno\n",
      "23:57:51 [INFO] Setting parse rate to 128\n",
      "23:57:51 [INFO] Setting trade time to 5\n",
      "23:57:51 [INFO] Setting buy style to hltv\n",
      "23:57:51 [INFO] Rollup damages set to False\n",
      "23:57:51 [INFO] Parse frames set to True\n",
      "23:57:51 [INFO] Running Golang parser from C:\\Users\\nguye\\anaconda3\\envs\\envTF24\\lib\\site-packages\\csgo-1.0-py3.7.egg\\csgo\\parser\\\n",
      "23:57:51 [INFO] Looking for file at D:\\EDAV\\323\\ESLOneCologne-SF-ldlc-vs-nip-inferno.dem\n"
     ]
    },
    {
     "name": "stdout",
     "output_type": "stream",
     "text": [
      "parsing    323 ESLOneCologne-SF-ldlc-vs-nip-inferno.dem\n"
     ]
    },
    {
     "name": "stderr",
     "output_type": "stream",
     "text": [
      "23:57:53 [INFO] Wrote demo parse output to 323 ESLOneCologne-SF-ldlc-vs-nip-inferno.json\n",
      "23:57:53 [INFO] Reading in JSON from 323 ESLOneCologne-SF-ldlc-vs-nip-inferno.json\n",
      "23:57:53 [INFO] JSON data loaded, available in the `json` attribute to parser\n",
      "23:57:53 [INFO] Successfully parsed JSON output\n",
      "23:57:53 [INFO] Successfully returned JSON output\n",
      "23:57:54 [INFO] Go version>=1.14.0\n",
      "23:57:54 [INFO] Initialized CSGODemoParser with demofile D:\\EDAV\\323\\ESLOneCologne-SF-nip-vs-ldlc-cobblestone.dem\n",
      "23:57:54 [INFO] Setting demo id to 323 ESLOneCologne-SF-nip-vs-ldlc-cobblestone\n",
      "23:57:54 [INFO] Setting parse rate to 128\n",
      "23:57:54 [INFO] Setting trade time to 5\n",
      "23:57:54 [INFO] Setting buy style to hltv\n",
      "23:57:54 [INFO] Rollup damages set to False\n",
      "23:57:54 [INFO] Parse frames set to True\n",
      "23:57:54 [INFO] Running Golang parser from C:\\Users\\nguye\\anaconda3\\envs\\envTF24\\lib\\site-packages\\csgo-1.0-py3.7.egg\\csgo\\parser\\\n",
      "23:57:54 [INFO] Looking for file at D:\\EDAV\\323\\ESLOneCologne-SF-nip-vs-ldlc-cobblestone.dem\n"
     ]
    },
    {
     "name": "stdout",
     "output_type": "stream",
     "text": [
      "parsing    323 ESLOneCologne-SF-nip-vs-ldlc-cobblestone.dem\n"
     ]
    },
    {
     "name": "stderr",
     "output_type": "stream",
     "text": [
      "23:57:56 [INFO] Wrote demo parse output to 323 ESLOneCologne-SF-nip-vs-ldlc-cobblestone.json\n",
      "23:57:56 [INFO] Reading in JSON from 323 ESLOneCologne-SF-nip-vs-ldlc-cobblestone.json\n",
      "23:57:57 [INFO] JSON data loaded, available in the `json` attribute to parser\n",
      "23:57:57 [INFO] Successfully parsed JSON output\n",
      "23:57:57 [INFO] Successfully returned JSON output\n",
      "23:57:58 [INFO] Go version>=1.14.0\n",
      "23:57:58 [INFO] Initialized CSGODemoParser with demofile D:\\EDAV\\324\\space-soldiers-vs-big-cbble.dem\n",
      "23:57:58 [INFO] Setting demo id to 324 space-soldiers-vs-big-cbble\n",
      "23:57:58 [INFO] Setting parse rate to 128\n",
      "23:57:58 [INFO] Setting trade time to 5\n",
      "23:57:58 [INFO] Setting buy style to hltv\n",
      "23:57:58 [INFO] Rollup damages set to False\n",
      "23:57:58 [INFO] Parse frames set to True\n",
      "23:57:58 [INFO] Running Golang parser from C:\\Users\\nguye\\anaconda3\\envs\\envTF24\\lib\\site-packages\\csgo-1.0-py3.7.egg\\csgo\\parser\\\n",
      "23:57:58 [INFO] Looking for file at D:\\EDAV\\324\\space-soldiers-vs-big-cbble.dem\n"
     ]
    },
    {
     "name": "stdout",
     "output_type": "stream",
     "text": [
      "parsing    324 space-soldiers-vs-big-cbble.dem\n"
     ]
    },
    {
     "name": "stderr",
     "output_type": "stream",
     "text": [
      "23:58:03 [INFO] Wrote demo parse output to 324 space-soldiers-vs-big-cbble.json\n",
      "23:58:03 [INFO] Reading in JSON from 324 space-soldiers-vs-big-cbble.json\n",
      "23:58:03 [INFO] JSON data loaded, available in the `json` attribute to parser\n",
      "23:58:03 [INFO] Successfully parsed JSON output\n",
      "23:58:03 [INFO] Successfully returned JSON output\n",
      "23:58:10 [INFO] Go version>=1.14.0\n",
      "23:58:10 [INFO] Initialized CSGODemoParser with demofile D:\\EDAV\\325\\ESLOneCologne2015-fnatic-vs-luminosity-train.dem\n",
      "23:58:10 [INFO] Setting demo id to 325 ESLOneCologne2015-fnatic-vs-luminosity-train\n",
      "23:58:10 [INFO] Setting parse rate to 128\n",
      "23:58:10 [INFO] Setting trade time to 5\n",
      "23:58:10 [INFO] Setting buy style to hltv\n",
      "23:58:10 [INFO] Rollup damages set to False\n",
      "23:58:10 [INFO] Parse frames set to True\n",
      "23:58:10 [INFO] Running Golang parser from C:\\Users\\nguye\\anaconda3\\envs\\envTF24\\lib\\site-packages\\csgo-1.0-py3.7.egg\\csgo\\parser\\\n",
      "23:58:10 [INFO] Looking for file at D:\\EDAV\\325\\ESLOneCologne2015-fnatic-vs-luminosity-train.dem\n"
     ]
    },
    {
     "name": "stdout",
     "output_type": "stream",
     "text": [
      "parsing    325 ESLOneCologne2015-fnatic-vs-luminosity-train.dem\n"
     ]
    },
    {
     "name": "stderr",
     "output_type": "stream",
     "text": [
      "23:58:12 [INFO] Wrote demo parse output to 325 ESLOneCologne2015-fnatic-vs-luminosity-train.json\n",
      "23:58:12 [INFO] Reading in JSON from 325 ESLOneCologne2015-fnatic-vs-luminosity-train.json\n",
      "23:58:12 [INFO] JSON data loaded, available in the `json` attribute to parser\n",
      "23:58:12 [INFO] Successfully parsed JSON output\n",
      "23:58:12 [INFO] Successfully returned JSON output\n",
      "23:58:14 [INFO] Go version>=1.14.0\n",
      "23:58:14 [INFO] Initialized CSGODemoParser with demofile D:\\EDAV\\325\\ESLOneCologne2015-fnatic-vs-luminosity-mirage.dem\n",
      "23:58:14 [INFO] Setting demo id to 325 ESLOneCologne2015-fnatic-vs-luminosity-mirage\n",
      "23:58:14 [INFO] Setting parse rate to 128\n",
      "23:58:14 [INFO] Setting trade time to 5\n",
      "23:58:14 [INFO] Setting buy style to hltv\n",
      "23:58:14 [INFO] Rollup damages set to False\n",
      "23:58:14 [INFO] Parse frames set to True\n",
      "23:58:14 [INFO] Running Golang parser from C:\\Users\\nguye\\anaconda3\\envs\\envTF24\\lib\\site-packages\\csgo-1.0-py3.7.egg\\csgo\\parser\\\n",
      "23:58:14 [INFO] Looking for file at D:\\EDAV\\325\\ESLOneCologne2015-fnatic-vs-luminosity-mirage.dem\n"
     ]
    },
    {
     "name": "stdout",
     "output_type": "stream",
     "text": [
      "parsing    325 ESLOneCologne2015-fnatic-vs-luminosity-mirage.dem\n"
     ]
    },
    {
     "name": "stderr",
     "output_type": "stream",
     "text": [
      "23:58:17 [INFO] Wrote demo parse output to 325 ESLOneCologne2015-fnatic-vs-luminosity-mirage.json\n",
      "23:58:17 [INFO] Reading in JSON from 325 ESLOneCologne2015-fnatic-vs-luminosity-mirage.json\n",
      "23:58:17 [INFO] JSON data loaded, available in the `json` attribute to parser\n",
      "23:58:17 [INFO] Successfully parsed JSON output\n",
      "23:58:17 [INFO] Successfully returned JSON output\n",
      "23:58:19 [INFO] Go version>=1.14.0\n",
      "23:58:19 [INFO] Initialized CSGODemoParser with demofile D:\\EDAV\\326\\natus-vincere-vs-faze-m1-inferno.dem\n",
      "23:58:19 [INFO] Setting demo id to 326 natus-vincere-vs-faze-m1-inferno\n",
      "23:58:19 [INFO] Setting parse rate to 128\n",
      "23:58:19 [INFO] Setting trade time to 5\n",
      "23:58:19 [INFO] Setting buy style to hltv\n",
      "23:58:19 [INFO] Rollup damages set to False\n",
      "23:58:19 [INFO] Parse frames set to True\n",
      "23:58:19 [INFO] Running Golang parser from C:\\Users\\nguye\\anaconda3\\envs\\envTF24\\lib\\site-packages\\csgo-1.0-py3.7.egg\\csgo\\parser\\\n",
      "23:58:19 [INFO] Looking for file at D:\\EDAV\\326\\natus-vincere-vs-faze-m1-inferno.dem\n"
     ]
    },
    {
     "name": "stdout",
     "output_type": "stream",
     "text": [
      "parsing    326 natus-vincere-vs-faze-m1-inferno.dem\n"
     ]
    },
    {
     "name": "stderr",
     "output_type": "stream",
     "text": [
      "23:58:25 [INFO] Wrote demo parse output to 326 natus-vincere-vs-faze-m1-inferno.json\n",
      "23:58:25 [INFO] Reading in JSON from 326 natus-vincere-vs-faze-m1-inferno.json\n",
      "23:58:26 [INFO] JSON data loaded, available in the `json` attribute to parser\n",
      "23:58:26 [INFO] Successfully parsed JSON output\n",
      "23:58:26 [INFO] Successfully returned JSON output\n",
      "23:58:37 [INFO] Go version>=1.14.0\n",
      "23:58:37 [INFO] Initialized CSGODemoParser with demofile D:\\EDAV\\326\\natus-vincere-vs-faze-m2-mirage.dem\n",
      "23:58:37 [INFO] Setting demo id to 326 natus-vincere-vs-faze-m2-mirage\n",
      "23:58:37 [INFO] Setting parse rate to 128\n",
      "23:58:37 [INFO] Setting trade time to 5\n",
      "23:58:37 [INFO] Setting buy style to hltv\n",
      "23:58:37 [INFO] Rollup damages set to False\n",
      "23:58:37 [INFO] Parse frames set to True\n",
      "23:58:37 [INFO] Running Golang parser from C:\\Users\\nguye\\anaconda3\\envs\\envTF24\\lib\\site-packages\\csgo-1.0-py3.7.egg\\csgo\\parser\\\n",
      "23:58:37 [INFO] Looking for file at D:\\EDAV\\326\\natus-vincere-vs-faze-m2-mirage.dem\n"
     ]
    },
    {
     "name": "stdout",
     "output_type": "stream",
     "text": [
      "parsing    326 natus-vincere-vs-faze-m2-mirage.dem\n"
     ]
    },
    {
     "name": "stderr",
     "output_type": "stream",
     "text": [
      "23:58:42 [INFO] Wrote demo parse output to 326 natus-vincere-vs-faze-m2-mirage.json\n",
      "23:58:42 [INFO] Reading in JSON from 326 natus-vincere-vs-faze-m2-mirage.json\n",
      "23:58:42 [INFO] JSON data loaded, available in the `json` attribute to parser\n",
      "23:58:42 [INFO] Successfully parsed JSON output\n",
      "23:58:42 [INFO] Successfully returned JSON output\n",
      "23:58:50 [INFO] Go version>=1.14.0\n",
      "23:58:50 [INFO] Initialized CSGODemoParser with demofile D:\\EDAV\\327\\sk-vs-faze-cache.dem\n",
      "23:58:50 [INFO] Setting demo id to 327 sk-vs-faze-cache\n",
      "23:58:50 [INFO] Setting parse rate to 128\n",
      "23:58:50 [INFO] Setting trade time to 5\n",
      "23:58:50 [INFO] Setting buy style to hltv\n",
      "23:58:50 [INFO] Rollup damages set to False\n",
      "23:58:50 [INFO] Parse frames set to True\n",
      "23:58:50 [INFO] Running Golang parser from C:\\Users\\nguye\\anaconda3\\envs\\envTF24\\lib\\site-packages\\csgo-1.0-py3.7.egg\\csgo\\parser\\\n",
      "23:58:50 [INFO] Looking for file at D:\\EDAV\\327\\sk-vs-faze-cache.dem\n"
     ]
    },
    {
     "name": "stdout",
     "output_type": "stream",
     "text": [
      "parsing    327 sk-vs-faze-cache.dem\n"
     ]
    },
    {
     "name": "stderr",
     "output_type": "stream",
     "text": [
      "23:58:55 [INFO] Wrote demo parse output to 327 sk-vs-faze-cache.json\n",
      "23:58:55 [INFO] Reading in JSON from 327 sk-vs-faze-cache.json\n",
      "23:58:56 [INFO] JSON data loaded, available in the `json` attribute to parser\n",
      "23:58:56 [INFO] Successfully parsed JSON output\n",
      "23:58:56 [INFO] Successfully returned JSON output\n",
      "23:59:04 [INFO] Go version>=1.14.0\n",
      "23:59:04 [INFO] Initialized CSGODemoParser with demofile D:\\EDAV\\328\\flipsid3-vs-natus-vincere-train.dem\n",
      "23:59:04 [INFO] Setting demo id to 328 flipsid3-vs-natus-vincere-train\n",
      "23:59:04 [INFO] Setting parse rate to 128\n",
      "23:59:04 [INFO] Setting trade time to 5\n",
      "23:59:04 [INFO] Setting buy style to hltv\n",
      "23:59:04 [INFO] Rollup damages set to False\n",
      "23:59:04 [INFO] Parse frames set to True\n",
      "23:59:04 [INFO] Running Golang parser from C:\\Users\\nguye\\anaconda3\\envs\\envTF24\\lib\\site-packages\\csgo-1.0-py3.7.egg\\csgo\\parser\\\n",
      "23:59:04 [INFO] Looking for file at D:\\EDAV\\328\\flipsid3-vs-natus-vincere-train.dem\n"
     ]
    },
    {
     "name": "stdout",
     "output_type": "stream",
     "text": [
      "parsing    328 flipsid3-vs-natus-vincere-train.dem\n"
     ]
    },
    {
     "name": "stderr",
     "output_type": "stream",
     "text": [
      "23:59:09 [INFO] Wrote demo parse output to 328 flipsid3-vs-natus-vincere-train.json\n",
      "23:59:09 [INFO] Reading in JSON from 328 flipsid3-vs-natus-vincere-train.json\n",
      "23:59:10 [INFO] JSON data loaded, available in the `json` attribute to parser\n",
      "23:59:10 [INFO] Successfully parsed JSON output\n",
      "23:59:10 [INFO] Successfully returned JSON output\n",
      "23:59:17 [INFO] Go version>=1.14.0\n",
      "23:59:17 [INFO] Initialized CSGODemoParser with demofile D:\\EDAV\\329\\ESLOneCologne2015-flipsid3-vs-mousesports-cobblestone-1.dem\n",
      "23:59:17 [INFO] Setting demo id to 329 ESLOneCologne2015-flipsid3-vs-mousesports-cobblestone-1\n",
      "23:59:17 [INFO] Setting parse rate to 128\n",
      "23:59:17 [INFO] Setting trade time to 5\n",
      "23:59:17 [INFO] Setting buy style to hltv\n",
      "23:59:17 [INFO] Rollup damages set to False\n",
      "23:59:17 [INFO] Parse frames set to True\n",
      "23:59:17 [INFO] Running Golang parser from C:\\Users\\nguye\\anaconda3\\envs\\envTF24\\lib\\site-packages\\csgo-1.0-py3.7.egg\\csgo\\parser\\\n",
      "23:59:17 [INFO] Looking for file at D:\\EDAV\\329\\ESLOneCologne2015-flipsid3-vs-mousesports-cobblestone-1.dem\n"
     ]
    },
    {
     "name": "stdout",
     "output_type": "stream",
     "text": [
      "parsing    329 ESLOneCologne2015-flipsid3-vs-mousesports-cobblestone-1.dem\n"
     ]
    },
    {
     "name": "stderr",
     "output_type": "stream",
     "text": [
      "23:59:20 [INFO] Wrote demo parse output to 329 ESLOneCologne2015-flipsid3-vs-mousesports-cobblestone-1.json\n",
      "23:59:20 [INFO] Reading in JSON from 329 ESLOneCologne2015-flipsid3-vs-mousesports-cobblestone-1.json\n",
      "23:59:20 [INFO] JSON data loaded, available in the `json` attribute to parser\n",
      "23:59:20 [INFO] Successfully parsed JSON output\n",
      "23:59:20 [INFO] Successfully returned JSON output\n",
      "23:59:23 [INFO] Go version>=1.14.0\n",
      "23:59:23 [INFO] Initialized CSGODemoParser with demofile D:\\EDAV\\330\\ESLOneCologne2015-virtuspro-vs-immunity-cobblestone-1.dem\n",
      "23:59:23 [INFO] Setting demo id to 330 ESLOneCologne2015-virtuspro-vs-immunity-cobblestone-1\n",
      "23:59:23 [INFO] Setting parse rate to 128\n",
      "23:59:23 [INFO] Setting trade time to 5\n",
      "23:59:23 [INFO] Setting buy style to hltv\n",
      "23:59:23 [INFO] Rollup damages set to False\n",
      "23:59:23 [INFO] Parse frames set to True\n",
      "23:59:23 [INFO] Running Golang parser from C:\\Users\\nguye\\anaconda3\\envs\\envTF24\\lib\\site-packages\\csgo-1.0-py3.7.egg\\csgo\\parser\\\n",
      "23:59:23 [INFO] Looking for file at D:\\EDAV\\330\\ESLOneCologne2015-virtuspro-vs-immunity-cobblestone-1.dem\n"
     ]
    },
    {
     "name": "stdout",
     "output_type": "stream",
     "text": [
      "parsing    330 ESLOneCologne2015-virtuspro-vs-immunity-cobblestone-1.dem\n"
     ]
    },
    {
     "name": "stderr",
     "output_type": "stream",
     "text": [
      "23:59:25 [INFO] Wrote demo parse output to 330 ESLOneCologne2015-virtuspro-vs-immunity-cobblestone-1.json\n",
      "23:59:25 [INFO] Reading in JSON from 330 ESLOneCologne2015-virtuspro-vs-immunity-cobblestone-1.json\n",
      "23:59:25 [INFO] JSON data loaded, available in the `json` attribute to parser\n",
      "23:59:25 [INFO] Successfully parsed JSON output\n",
      "23:59:25 [INFO] Successfully returned JSON output\n",
      "23:59:27 [INFO] Go version>=1.14.0\n",
      "23:59:27 [INFO] Initialized CSGODemoParser with demofile D:\\EDAV\\331\\003105586950036259130_0947387958_1_virtuspro_vs_titan_train.dem\n",
      "23:59:27 [INFO] Setting demo id to 331 003105586950036259130_0947387958_1_virtuspro_vs_titan_train\n",
      "23:59:27 [INFO] Setting parse rate to 128\n",
      "23:59:27 [INFO] Setting trade time to 5\n",
      "23:59:27 [INFO] Setting buy style to hltv\n",
      "23:59:27 [INFO] Rollup damages set to False\n",
      "23:59:27 [INFO] Parse frames set to True\n",
      "23:59:27 [INFO] Running Golang parser from C:\\Users\\nguye\\anaconda3\\envs\\envTF24\\lib\\site-packages\\csgo-1.0-py3.7.egg\\csgo\\parser\\\n",
      "23:59:27 [INFO] Looking for file at D:\\EDAV\\331\\003105586950036259130_0947387958_1_virtuspro_vs_titan_train.dem\n"
     ]
    },
    {
     "name": "stdout",
     "output_type": "stream",
     "text": [
      "parsing    331 003105586950036259130_0947387958_1_virtuspro_vs_titan_train.dem\n"
     ]
    },
    {
     "name": "stderr",
     "output_type": "stream",
     "text": [
      "23:59:30 [INFO] Wrote demo parse output to 331 003105586950036259130_0947387958_1_virtuspro_vs_titan_train.json\n",
      "23:59:30 [INFO] Reading in JSON from 331 003105586950036259130_0947387958_1_virtuspro_vs_titan_train.json\n",
      "23:59:31 [INFO] JSON data loaded, available in the `json` attribute to parser\n",
      "23:59:31 [INFO] Successfully parsed JSON output\n",
      "23:59:31 [INFO] Successfully returned JSON output\n",
      "23:59:36 [INFO] Go version>=1.14.0\n",
      "23:59:36 [INFO] Initialized CSGODemoParser with demofile D:\\EDAV\\332\\EMSKato-GroupD-complexity-vs-mystik-inferno.dem\n",
      "23:59:36 [INFO] Setting demo id to 332 EMSKato-GroupD-complexity-vs-mystik-inferno\n",
      "23:59:36 [INFO] Setting parse rate to 128\n",
      "23:59:36 [INFO] Setting trade time to 5\n",
      "23:59:36 [INFO] Setting buy style to hltv\n",
      "23:59:36 [INFO] Rollup damages set to False\n",
      "23:59:36 [INFO] Parse frames set to True\n",
      "23:59:37 [INFO] Running Golang parser from C:\\Users\\nguye\\anaconda3\\envs\\envTF24\\lib\\site-packages\\csgo-1.0-py3.7.egg\\csgo\\parser\\\n",
      "23:59:37 [INFO] Looking for file at D:\\EDAV\\332\\EMSKato-GroupD-complexity-vs-mystik-inferno.dem\n"
     ]
    },
    {
     "name": "stdout",
     "output_type": "stream",
     "text": [
      "parsing    332 EMSKato-GroupD-complexity-vs-mystik-inferno.dem\n"
     ]
    },
    {
     "name": "stderr",
     "output_type": "stream",
     "text": [
      "23:59:38 [INFO] Wrote demo parse output to 332 EMSKato-GroupD-complexity-vs-mystik-inferno.json\n",
      "23:59:38 [INFO] Reading in JSON from 332 EMSKato-GroupD-complexity-vs-mystik-inferno.json\n",
      "23:59:38 [INFO] JSON data loaded, available in the `json` attribute to parser\n",
      "23:59:38 [INFO] Successfully parsed JSON output\n",
      "23:59:38 [INFO] Successfully returned JSON output\n",
      "23:59:39 [INFO] Go version>=1.14.0\n",
      "23:59:39 [INFO] Initialized CSGODemoParser with demofile D:\\EDAV\\333\\natus-vincere-vs-fnatic-mirage.dem\n",
      "23:59:39 [INFO] Setting demo id to 333 natus-vincere-vs-fnatic-mirage\n",
      "23:59:39 [INFO] Setting parse rate to 128\n",
      "23:59:39 [INFO] Setting trade time to 5\n",
      "23:59:39 [INFO] Setting buy style to hltv\n",
      "23:59:39 [INFO] Rollup damages set to False\n",
      "23:59:39 [INFO] Parse frames set to True\n",
      "23:59:39 [INFO] Running Golang parser from C:\\Users\\nguye\\anaconda3\\envs\\envTF24\\lib\\site-packages\\csgo-1.0-py3.7.egg\\csgo\\parser\\\n",
      "23:59:39 [INFO] Looking for file at D:\\EDAV\\333\\natus-vincere-vs-fnatic-mirage.dem\n"
     ]
    },
    {
     "name": "stdout",
     "output_type": "stream",
     "text": [
      "parsing    333 natus-vincere-vs-fnatic-mirage.dem\n"
     ]
    },
    {
     "name": "stderr",
     "output_type": "stream",
     "text": [
      "23:59:44 [INFO] Wrote demo parse output to 333 natus-vincere-vs-fnatic-mirage.json\n",
      "23:59:44 [INFO] Reading in JSON from 333 natus-vincere-vs-fnatic-mirage.json\n",
      "23:59:44 [INFO] JSON data loaded, available in the `json` attribute to parser\n",
      "23:59:44 [INFO] Successfully parsed JSON output\n",
      "23:59:44 [INFO] Successfully returned JSON output\n",
      "23:59:52 [INFO] Go version>=1.14.0\n",
      "23:59:52 [INFO] Initialized CSGODemoParser with demofile D:\\EDAV\\334\\ESLOneCologne-QF-nip-vs-cloud9-cobblestone.dem\n",
      "23:59:52 [INFO] Setting demo id to 334 ESLOneCologne-QF-nip-vs-cloud9-cobblestone\n",
      "23:59:52 [INFO] Setting parse rate to 128\n",
      "23:59:52 [INFO] Setting trade time to 5\n",
      "23:59:52 [INFO] Setting buy style to hltv\n",
      "23:59:52 [INFO] Rollup damages set to False\n",
      "23:59:52 [INFO] Parse frames set to True\n",
      "23:59:52 [INFO] Running Golang parser from C:\\Users\\nguye\\anaconda3\\envs\\envTF24\\lib\\site-packages\\csgo-1.0-py3.7.egg\\csgo\\parser\\\n",
      "23:59:52 [INFO] Looking for file at D:\\EDAV\\334\\ESLOneCologne-QF-nip-vs-cloud9-cobblestone.dem\n"
     ]
    },
    {
     "name": "stdout",
     "output_type": "stream",
     "text": [
      "parsing    334 ESLOneCologne-QF-nip-vs-cloud9-cobblestone.dem\n"
     ]
    },
    {
     "name": "stderr",
     "output_type": "stream",
     "text": [
      "23:59:54 [INFO] Wrote demo parse output to 334 ESLOneCologne-QF-nip-vs-cloud9-cobblestone.json\n",
      "23:59:54 [INFO] Reading in JSON from 334 ESLOneCologne-QF-nip-vs-cloud9-cobblestone.json\n",
      "23:59:54 [INFO] JSON data loaded, available in the `json` attribute to parser\n",
      "23:59:54 [INFO] Successfully parsed JSON output\n",
      "23:59:54 [INFO] Successfully returned JSON output\n",
      "23:59:55 [INFO] Go version>=1.14.0\n",
      "23:59:55 [INFO] Initialized CSGODemoParser with demofile D:\\EDAV\\334\\ESLOneCologne-QF-nip-vs-cloud9-dust2.dem\n",
      "23:59:55 [INFO] Setting demo id to 334 ESLOneCologne-QF-nip-vs-cloud9-dust2\n",
      "23:59:55 [INFO] Setting parse rate to 128\n",
      "23:59:55 [INFO] Setting trade time to 5\n",
      "23:59:55 [INFO] Setting buy style to hltv\n",
      "23:59:55 [INFO] Rollup damages set to False\n",
      "23:59:55 [INFO] Parse frames set to True\n",
      "23:59:55 [INFO] Running Golang parser from C:\\Users\\nguye\\anaconda3\\envs\\envTF24\\lib\\site-packages\\csgo-1.0-py3.7.egg\\csgo\\parser\\\n",
      "23:59:55 [INFO] Looking for file at D:\\EDAV\\334\\ESLOneCologne-QF-nip-vs-cloud9-dust2.dem\n"
     ]
    },
    {
     "name": "stdout",
     "output_type": "stream",
     "text": [
      "parsing    334 ESLOneCologne-QF-nip-vs-cloud9-dust2.dem\n"
     ]
    },
    {
     "name": "stderr",
     "output_type": "stream",
     "text": [
      "23:59:57 [INFO] Wrote demo parse output to 334 ESLOneCologne-QF-nip-vs-cloud9-dust2.json\n",
      "23:59:57 [INFO] Reading in JSON from 334 ESLOneCologne-QF-nip-vs-cloud9-dust2.json\n",
      "23:59:58 [INFO] JSON data loaded, available in the `json` attribute to parser\n",
      "23:59:58 [INFO] Successfully parsed JSON output\n",
      "23:59:58 [INFO] Successfully returned JSON output\n",
      "23:59:59 [INFO] Go version>=1.14.0\n",
      "23:59:59 [INFO] Initialized CSGODemoParser with demofile D:\\EDAV\\334\\ESLOneCologne-QF-cloud9-vs-nip-nuke.dem\n",
      "23:59:59 [INFO] Setting demo id to 334 ESLOneCologne-QF-cloud9-vs-nip-nuke\n",
      "23:59:59 [INFO] Setting parse rate to 128\n",
      "23:59:59 [INFO] Setting trade time to 5\n",
      "23:59:59 [INFO] Setting buy style to hltv\n",
      "23:59:59 [INFO] Rollup damages set to False\n",
      "23:59:59 [INFO] Parse frames set to True\n",
      "23:59:59 [INFO] Running Golang parser from C:\\Users\\nguye\\anaconda3\\envs\\envTF24\\lib\\site-packages\\csgo-1.0-py3.7.egg\\csgo\\parser\\\n",
      "23:59:59 [INFO] Looking for file at D:\\EDAV\\334\\ESLOneCologne-QF-cloud9-vs-nip-nuke.dem\n"
     ]
    },
    {
     "name": "stdout",
     "output_type": "stream",
     "text": [
      "parsing    334 ESLOneCologne-QF-cloud9-vs-nip-nuke.dem\n"
     ]
    },
    {
     "name": "stderr",
     "output_type": "stream",
     "text": [
      "00:00:01 [INFO] Wrote demo parse output to 334 ESLOneCologne-QF-cloud9-vs-nip-nuke.json\n",
      "00:00:01 [INFO] Reading in JSON from 334 ESLOneCologne-QF-cloud9-vs-nip-nuke.json\n",
      "00:00:01 [INFO] JSON data loaded, available in the `json` attribute to parser\n",
      "00:00:01 [INFO] Successfully parsed JSON output\n",
      "00:00:01 [INFO] Successfully returned JSON output\n",
      "00:00:02 [INFO] Go version>=1.14.0\n",
      "00:00:02 [INFO] Initialized CSGODemoParser with demofile D:\\EDAV\\335\\EMSKato-GroupD-lgb-vs-complexity-dust2.dem\n",
      "00:00:02 [INFO] Setting demo id to 335 EMSKato-GroupD-lgb-vs-complexity-dust2\n",
      "00:00:02 [INFO] Setting parse rate to 128\n",
      "00:00:02 [INFO] Setting trade time to 5\n",
      "00:00:02 [INFO] Setting buy style to hltv\n",
      "00:00:02 [INFO] Rollup damages set to False\n",
      "00:00:02 [INFO] Parse frames set to True\n",
      "00:00:02 [INFO] Running Golang parser from C:\\Users\\nguye\\anaconda3\\envs\\envTF24\\lib\\site-packages\\csgo-1.0-py3.7.egg\\csgo\\parser\\\n",
      "00:00:02 [INFO] Looking for file at D:\\EDAV\\335\\EMSKato-GroupD-lgb-vs-complexity-dust2.dem\n"
     ]
    },
    {
     "name": "stdout",
     "output_type": "stream",
     "text": [
      "parsing    335 EMSKato-GroupD-lgb-vs-complexity-dust2.dem\n"
     ]
    },
    {
     "name": "stderr",
     "output_type": "stream",
     "text": [
      "00:00:05 [INFO] Wrote demo parse output to 335 EMSKato-GroupD-lgb-vs-complexity-dust2.json\n",
      "00:00:05 [INFO] Reading in JSON from 335 EMSKato-GroupD-lgb-vs-complexity-dust2.json\n",
      "00:00:05 [INFO] JSON data loaded, available in the `json` attribute to parser\n",
      "00:00:05 [INFO] Successfully parsed JSON output\n",
      "00:00:05 [INFO] Successfully returned JSON output\n",
      "00:00:06 [INFO] Go version>=1.14.0\n",
      "00:00:06 [INFO] Initialized CSGODemoParser with demofile D:\\EDAV\\336\\MLGColumbus2016-mousesports-vs-nip-bo3-map1-cobblestone.dem\n",
      "00:00:06 [INFO] Setting demo id to 336 MLGColumbus2016-mousesports-vs-nip-bo3-map1-cobblestone\n",
      "00:00:06 [INFO] Setting parse rate to 128\n",
      "00:00:06 [INFO] Setting trade time to 5\n",
      "00:00:06 [INFO] Setting buy style to hltv\n",
      "00:00:06 [INFO] Rollup damages set to False\n",
      "00:00:06 [INFO] Parse frames set to True\n",
      "00:00:06 [INFO] Running Golang parser from C:\\Users\\nguye\\anaconda3\\envs\\envTF24\\lib\\site-packages\\csgo-1.0-py3.7.egg\\csgo\\parser\\\n",
      "00:00:06 [INFO] Looking for file at D:\\EDAV\\336\\MLGColumbus2016-mousesports-vs-nip-bo3-map1-cobblestone.dem\n"
     ]
    },
    {
     "name": "stdout",
     "output_type": "stream",
     "text": [
      "parsing    336 MLGColumbus2016-mousesports-vs-nip-bo3-map1-cobblestone.dem\n"
     ]
    },
    {
     "name": "stderr",
     "output_type": "stream",
     "text": [
      "00:00:11 [INFO] Wrote demo parse output to 336 MLGColumbus2016-mousesports-vs-nip-bo3-map1-cobblestone.json\n",
      "00:00:11 [INFO] Reading in JSON from 336 MLGColumbus2016-mousesports-vs-nip-bo3-map1-cobblestone.json\n",
      "00:00:11 [INFO] JSON data loaded, available in the `json` attribute to parser\n",
      "00:00:11 [INFO] Successfully parsed JSON output\n",
      "00:00:11 [INFO] Successfully returned JSON output\n",
      "00:00:16 [INFO] Go version>=1.14.0\n",
      "00:00:16 [INFO] Initialized CSGODemoParser with demofile D:\\EDAV\\336\\MLGColumbus2016-mousesports-vs-nip-bo3-map2-cache.dem\n",
      "00:00:16 [INFO] Setting demo id to 336 MLGColumbus2016-mousesports-vs-nip-bo3-map2-cache\n",
      "00:00:16 [INFO] Setting parse rate to 128\n",
      "00:00:16 [INFO] Setting trade time to 5\n",
      "00:00:16 [INFO] Setting buy style to hltv\n",
      "00:00:16 [INFO] Rollup damages set to False\n",
      "00:00:16 [INFO] Parse frames set to True\n",
      "00:00:16 [INFO] Running Golang parser from C:\\Users\\nguye\\anaconda3\\envs\\envTF24\\lib\\site-packages\\csgo-1.0-py3.7.egg\\csgo\\parser\\\n",
      "00:00:16 [INFO] Looking for file at D:\\EDAV\\336\\MLGColumbus2016-mousesports-vs-nip-bo3-map2-cache.dem\n"
     ]
    },
    {
     "name": "stdout",
     "output_type": "stream",
     "text": [
      "parsing    336 MLGColumbus2016-mousesports-vs-nip-bo3-map2-cache.dem\n"
     ]
    },
    {
     "name": "stderr",
     "output_type": "stream",
     "text": [
      "00:00:22 [INFO] Wrote demo parse output to 336 MLGColumbus2016-mousesports-vs-nip-bo3-map2-cache.json\n",
      "00:00:22 [INFO] Reading in JSON from 336 MLGColumbus2016-mousesports-vs-nip-bo3-map2-cache.json\n",
      "00:00:23 [INFO] JSON data loaded, available in the `json` attribute to parser\n",
      "00:00:23 [INFO] Successfully parsed JSON output\n",
      "00:00:23 [INFO] Successfully returned JSON output\n",
      "00:00:32 [INFO] Go version>=1.14.0\n",
      "00:00:32 [INFO] Initialized CSGODemoParser with demofile D:\\EDAV\\336\\MLGColumbus2016-mousesports-vs-nip-bo3-map3-overpass.dem\n",
      "00:00:32 [INFO] Setting demo id to 336 MLGColumbus2016-mousesports-vs-nip-bo3-map3-overpass\n",
      "00:00:32 [INFO] Setting parse rate to 128\n",
      "00:00:32 [INFO] Setting trade time to 5\n",
      "00:00:32 [INFO] Setting buy style to hltv\n",
      "00:00:32 [INFO] Rollup damages set to False\n",
      "00:00:32 [INFO] Parse frames set to True\n",
      "00:00:32 [INFO] Running Golang parser from C:\\Users\\nguye\\anaconda3\\envs\\envTF24\\lib\\site-packages\\csgo-1.0-py3.7.egg\\csgo\\parser\\\n",
      "00:00:32 [INFO] Looking for file at D:\\EDAV\\336\\MLGColumbus2016-mousesports-vs-nip-bo3-map3-overpass.dem\n"
     ]
    },
    {
     "name": "stdout",
     "output_type": "stream",
     "text": [
      "parsing    336 MLGColumbus2016-mousesports-vs-nip-bo3-map3-overpass.dem\n"
     ]
    },
    {
     "name": "stderr",
     "output_type": "stream",
     "text": [
      "00:00:38 [INFO] Wrote demo parse output to 336 MLGColumbus2016-mousesports-vs-nip-bo3-map3-overpass.json\n",
      "00:00:38 [INFO] Reading in JSON from 336 MLGColumbus2016-mousesports-vs-nip-bo3-map3-overpass.json\n",
      "00:00:38 [INFO] JSON data loaded, available in the `json` attribute to parser\n",
      "00:00:38 [INFO] Successfully parsed JSON output\n",
      "00:00:38 [INFO] Successfully returned JSON output\n",
      "00:00:46 [INFO] Go version>=1.14.0\n",
      "00:00:46 [INFO] Initialized CSGODemoParser with demofile D:\\EDAV\\338\\DHW14-GroupC-ldlc-vs-nip-overpass.dem\n",
      "00:00:46 [INFO] Setting demo id to 338 DHW14-GroupC-ldlc-vs-nip-overpass\n",
      "00:00:46 [INFO] Setting parse rate to 128\n",
      "00:00:46 [INFO] Setting trade time to 5\n",
      "00:00:46 [INFO] Setting buy style to hltv\n",
      "00:00:46 [INFO] Rollup damages set to False\n",
      "00:00:46 [INFO] Parse frames set to True\n",
      "00:00:46 [INFO] Running Golang parser from C:\\Users\\nguye\\anaconda3\\envs\\envTF24\\lib\\site-packages\\csgo-1.0-py3.7.egg\\csgo\\parser\\\n",
      "00:00:46 [INFO] Looking for file at D:\\EDAV\\338\\DHW14-GroupC-ldlc-vs-nip-overpass.dem\n"
     ]
    },
    {
     "name": "stdout",
     "output_type": "stream",
     "text": [
      "parsing    338 DHW14-GroupC-ldlc-vs-nip-overpass.dem\n"
     ]
    },
    {
     "name": "stderr",
     "output_type": "stream",
     "text": [
      "00:00:48 [INFO] Wrote demo parse output to 338 DHW14-GroupC-ldlc-vs-nip-overpass.json\n",
      "00:00:48 [INFO] Reading in JSON from 338 DHW14-GroupC-ldlc-vs-nip-overpass.json\n",
      "00:00:48 [INFO] JSON data loaded, available in the `json` attribute to parser\n",
      "00:00:48 [INFO] Successfully parsed JSON output\n",
      "00:00:48 [INFO] Successfully returned JSON output\n",
      "00:00:50 [INFO] Go version>=1.14.0\n",
      "00:00:50 [INFO] Initialized CSGODemoParser with demofile D:\\EDAV\\339\\EMSKato-GroupD-lgb-vs-navi-inferno.dem\n",
      "00:00:50 [INFO] Setting demo id to 339 EMSKato-GroupD-lgb-vs-navi-inferno\n",
      "00:00:50 [INFO] Setting parse rate to 128\n",
      "00:00:50 [INFO] Setting trade time to 5\n",
      "00:00:50 [INFO] Setting buy style to hltv\n",
      "00:00:50 [INFO] Rollup damages set to False\n",
      "00:00:50 [INFO] Parse frames set to True\n",
      "00:00:50 [INFO] Running Golang parser from C:\\Users\\nguye\\anaconda3\\envs\\envTF24\\lib\\site-packages\\csgo-1.0-py3.7.egg\\csgo\\parser\\\n",
      "00:00:50 [INFO] Looking for file at D:\\EDAV\\339\\EMSKato-GroupD-lgb-vs-navi-inferno.dem\n"
     ]
    },
    {
     "name": "stdout",
     "output_type": "stream",
     "text": [
      "parsing    339 EMSKato-GroupD-lgb-vs-navi-inferno.dem\n"
     ]
    },
    {
     "name": "stderr",
     "output_type": "stream",
     "text": [
      "00:00:52 [INFO] Wrote demo parse output to 339 EMSKato-GroupD-lgb-vs-navi-inferno.json\n",
      "00:00:52 [INFO] Reading in JSON from 339 EMSKato-GroupD-lgb-vs-navi-inferno.json\n",
      "00:00:52 [INFO] JSON data loaded, available in the `json` attribute to parser\n",
      "00:00:52 [INFO] Successfully parsed JSON output\n",
      "00:00:52 [INFO] Successfully returned JSON output\n",
      "00:00:53 [INFO] Go version>=1.14.0\n",
      "00:00:53 [INFO] Initialized CSGODemoParser with demofile D:\\EDAV\\340\\natus-vincere-vs-fnatic-mirage.dem\n",
      "00:00:53 [INFO] Setting demo id to 340 natus-vincere-vs-fnatic-mirage\n",
      "00:00:53 [INFO] Setting parse rate to 128\n",
      "00:00:53 [INFO] Setting trade time to 5\n",
      "00:00:53 [INFO] Setting buy style to hltv\n",
      "00:00:53 [INFO] Rollup damages set to False\n",
      "00:00:53 [INFO] Parse frames set to True\n",
      "00:00:53 [INFO] Running Golang parser from C:\\Users\\nguye\\anaconda3\\envs\\envTF24\\lib\\site-packages\\csgo-1.0-py3.7.egg\\csgo\\parser\\\n",
      "00:00:53 [INFO] Looking for file at D:\\EDAV\\340\\natus-vincere-vs-fnatic-mirage.dem\n"
     ]
    },
    {
     "name": "stdout",
     "output_type": "stream",
     "text": [
      "parsing    340 natus-vincere-vs-fnatic-mirage.dem\n"
     ]
    },
    {
     "name": "stderr",
     "output_type": "stream",
     "text": [
      "00:00:58 [INFO] Wrote demo parse output to 340 natus-vincere-vs-fnatic-mirage.json\n",
      "00:00:58 [INFO] Reading in JSON from 340 natus-vincere-vs-fnatic-mirage.json\n",
      "00:00:58 [INFO] JSON data loaded, available in the `json` attribute to parser\n",
      "00:00:58 [INFO] Successfully parsed JSON output\n",
      "00:00:58 [INFO] Successfully returned JSON output\n",
      "00:01:06 [INFO] Go version>=1.14.0\n",
      "00:01:06 [INFO] Initialized CSGODemoParser with demofile D:\\EDAV\\342\\nip-vs-liquid-mirage.dem\n",
      "00:01:06 [INFO] Setting demo id to 342 nip-vs-liquid-mirage\n",
      "00:01:06 [INFO] Setting parse rate to 128\n",
      "00:01:06 [INFO] Setting trade time to 5\n",
      "00:01:06 [INFO] Setting buy style to hltv\n",
      "00:01:06 [INFO] Rollup damages set to False\n",
      "00:01:06 [INFO] Parse frames set to True\n",
      "00:01:06 [INFO] Running Golang parser from C:\\Users\\nguye\\anaconda3\\envs\\envTF24\\lib\\site-packages\\csgo-1.0-py3.7.egg\\csgo\\parser\\\n",
      "00:01:06 [INFO] Looking for file at D:\\EDAV\\342\\nip-vs-liquid-mirage.dem\n"
     ]
    },
    {
     "name": "stdout",
     "output_type": "stream",
     "text": [
      "parsing    342 nip-vs-liquid-mirage.dem\n"
     ]
    },
    {
     "name": "stderr",
     "output_type": "stream",
     "text": [
      "00:01:11 [INFO] Wrote demo parse output to 342 nip-vs-liquid-mirage.json\n",
      "00:01:11 [INFO] Reading in JSON from 342 nip-vs-liquid-mirage.json\n",
      "00:01:12 [INFO] JSON data loaded, available in the `json` attribute to parser\n",
      "00:01:12 [INFO] Successfully parsed JSON output\n",
      "00:01:12 [INFO] Successfully returned JSON output\n",
      "00:01:20 [INFO] Go version>=1.14.0\n",
      "00:01:20 [INFO] Initialized CSGODemoParser with demofile D:\\EDAV\\343\\g2-vs-cloud9-cobblestone.dem\n",
      "00:01:20 [INFO] Setting demo id to 343 g2-vs-cloud9-cobblestone\n",
      "00:01:20 [INFO] Setting parse rate to 128\n",
      "00:01:20 [INFO] Setting trade time to 5\n",
      "00:01:20 [INFO] Setting buy style to hltv\n",
      "00:01:20 [INFO] Rollup damages set to False\n",
      "00:01:20 [INFO] Parse frames set to True\n",
      "00:01:20 [INFO] Running Golang parser from C:\\Users\\nguye\\anaconda3\\envs\\envTF24\\lib\\site-packages\\csgo-1.0-py3.7.egg\\csgo\\parser\\\n",
      "00:01:20 [INFO] Looking for file at D:\\EDAV\\343\\g2-vs-cloud9-cobblestone.dem\n"
     ]
    },
    {
     "name": "stdout",
     "output_type": "stream",
     "text": [
      "parsing    343 g2-vs-cloud9-cobblestone.dem\n"
     ]
    },
    {
     "name": "stderr",
     "output_type": "stream",
     "text": [
      "00:01:27 [INFO] Wrote demo parse output to 343 g2-vs-cloud9-cobblestone.json\n",
      "00:01:27 [INFO] Reading in JSON from 343 g2-vs-cloud9-cobblestone.json\n",
      "00:01:27 [INFO] JSON data loaded, available in the `json` attribute to parser\n",
      "00:01:27 [INFO] Successfully parsed JSON output\n",
      "00:01:27 [INFO] Successfully returned JSON output\n",
      "00:01:38 [INFO] Go version>=1.14.0\n",
      "00:01:38 [INFO] Initialized CSGODemoParser with demofile D:\\EDAV\\344\\godsent-vs-envyus-cache.dem\n",
      "00:01:38 [INFO] Setting demo id to 344 godsent-vs-envyus-cache\n",
      "00:01:38 [INFO] Setting parse rate to 128\n",
      "00:01:38 [INFO] Setting trade time to 5\n",
      "00:01:38 [INFO] Setting buy style to hltv\n",
      "00:01:38 [INFO] Rollup damages set to False\n",
      "00:01:38 [INFO] Parse frames set to True\n",
      "00:01:39 [INFO] Running Golang parser from C:\\Users\\nguye\\anaconda3\\envs\\envTF24\\lib\\site-packages\\csgo-1.0-py3.7.egg\\csgo\\parser\\\n",
      "00:01:39 [INFO] Looking for file at D:\\EDAV\\344\\godsent-vs-envyus-cache.dem\n"
     ]
    },
    {
     "name": "stdout",
     "output_type": "stream",
     "text": [
      "parsing    344 godsent-vs-envyus-cache.dem\n"
     ]
    },
    {
     "name": "stderr",
     "output_type": "stream",
     "text": [
      "00:01:42 [INFO] Wrote demo parse output to 344 godsent-vs-envyus-cache.json\n",
      "00:01:42 [INFO] Reading in JSON from 344 godsent-vs-envyus-cache.json\n",
      "00:01:42 [INFO] JSON data loaded, available in the `json` attribute to parser\n",
      "00:01:42 [INFO] Successfully parsed JSON output\n",
      "00:01:42 [INFO] Successfully returned JSON output\n",
      "00:01:47 [INFO] Go version>=1.14.0\n",
      "00:01:47 [INFO] Initialized CSGODemoParser with demofile D:\\EDAV\\345\\faze-vs-envyus-nuke.dem\n",
      "00:01:47 [INFO] Setting demo id to 345 faze-vs-envyus-nuke\n",
      "00:01:47 [INFO] Setting parse rate to 128\n",
      "00:01:47 [INFO] Setting trade time to 5\n",
      "00:01:47 [INFO] Setting buy style to hltv\n",
      "00:01:47 [INFO] Rollup damages set to False\n",
      "00:01:47 [INFO] Parse frames set to True\n",
      "00:01:47 [INFO] Running Golang parser from C:\\Users\\nguye\\anaconda3\\envs\\envTF24\\lib\\site-packages\\csgo-1.0-py3.7.egg\\csgo\\parser\\\n",
      "00:01:47 [INFO] Looking for file at D:\\EDAV\\345\\faze-vs-envyus-nuke.dem\n"
     ]
    },
    {
     "name": "stdout",
     "output_type": "stream",
     "text": [
      "parsing    345 faze-vs-envyus-nuke.dem\n"
     ]
    },
    {
     "name": "stderr",
     "output_type": "stream",
     "text": [
      "00:01:51 [INFO] Wrote demo parse output to 345 faze-vs-envyus-nuke.json\n",
      "00:01:51 [INFO] Reading in JSON from 345 faze-vs-envyus-nuke.json\n",
      "00:01:52 [INFO] JSON data loaded, available in the `json` attribute to parser\n",
      "00:01:52 [INFO] Successfully parsed JSON output\n",
      "00:01:52 [INFO] Successfully returned JSON output\n",
      "00:01:58 [INFO] Go version>=1.14.0\n",
      "00:01:58 [INFO] Initialized CSGODemoParser with demofile D:\\EDAV\\346\\fnatic-vs-complexity-inferno.dem\n",
      "00:01:58 [INFO] Setting demo id to 346 fnatic-vs-complexity-inferno\n",
      "00:01:58 [INFO] Setting parse rate to 128\n",
      "00:01:58 [INFO] Setting trade time to 5\n",
      "00:01:58 [INFO] Setting buy style to hltv\n",
      "00:01:58 [INFO] Rollup damages set to False\n",
      "00:01:58 [INFO] Parse frames set to True\n",
      "00:01:58 [INFO] Running Golang parser from C:\\Users\\nguye\\anaconda3\\envs\\envTF24\\lib\\site-packages\\csgo-1.0-py3.7.egg\\csgo\\parser\\\n",
      "00:01:58 [INFO] Looking for file at D:\\EDAV\\346\\fnatic-vs-complexity-inferno.dem\n"
     ]
    },
    {
     "name": "stdout",
     "output_type": "stream",
     "text": [
      "parsing    346 fnatic-vs-complexity-inferno.dem\n"
     ]
    },
    {
     "name": "stderr",
     "output_type": "stream",
     "text": [
      "00:02:02 [INFO] Wrote demo parse output to 346 fnatic-vs-complexity-inferno.json\n",
      "00:02:02 [INFO] Reading in JSON from 346 fnatic-vs-complexity-inferno.json\n",
      "00:02:03 [INFO] JSON data loaded, available in the `json` attribute to parser\n",
      "00:02:03 [INFO] Successfully parsed JSON output\n",
      "00:02:03 [INFO] Successfully returned JSON output\n",
      "00:02:09 [INFO] Go version>=1.14.0\n",
      "00:02:09 [INFO] Initialized CSGODemoParser with demofile D:\\EDAV\\347\\space-soldiers-vs-gambit-train.dem\n",
      "00:02:09 [INFO] Setting demo id to 347 space-soldiers-vs-gambit-train\n",
      "00:02:09 [INFO] Setting parse rate to 128\n",
      "00:02:09 [INFO] Setting trade time to 5\n",
      "00:02:09 [INFO] Setting buy style to hltv\n",
      "00:02:09 [INFO] Rollup damages set to False\n",
      "00:02:09 [INFO] Parse frames set to True\n",
      "00:02:09 [INFO] Running Golang parser from C:\\Users\\nguye\\anaconda3\\envs\\envTF24\\lib\\site-packages\\csgo-1.0-py3.7.egg\\csgo\\parser\\\n",
      "00:02:09 [INFO] Looking for file at D:\\EDAV\\347\\space-soldiers-vs-gambit-train.dem\n"
     ]
    },
    {
     "name": "stdout",
     "output_type": "stream",
     "text": [
      "parsing    347 space-soldiers-vs-gambit-train.dem\n"
     ]
    },
    {
     "name": "stderr",
     "output_type": "stream",
     "text": [
      "00:02:14 [INFO] Wrote demo parse output to 347 space-soldiers-vs-gambit-train.json\n",
      "00:02:14 [INFO] Reading in JSON from 347 space-soldiers-vs-gambit-train.json\n",
      "00:02:14 [INFO] JSON data loaded, available in the `json` attribute to parser\n",
      "00:02:14 [INFO] Successfully parsed JSON output\n",
      "00:02:14 [INFO] Successfully returned JSON output\n",
      "00:02:23 [INFO] Go version>=1.14.0\n",
      "00:02:23 [INFO] Initialized CSGODemoParser with demofile D:\\EDAV\\348\\EMSKato-GroupA-virtuspro-vs-titan-mirage.dem\n",
      "00:02:23 [INFO] Setting demo id to 348 EMSKato-GroupA-virtuspro-vs-titan-mirage\n",
      "00:02:23 [INFO] Setting parse rate to 128\n",
      "00:02:23 [INFO] Setting trade time to 5\n",
      "00:02:23 [INFO] Setting buy style to hltv\n",
      "00:02:23 [INFO] Rollup damages set to False\n",
      "00:02:23 [INFO] Parse frames set to True\n",
      "00:02:23 [INFO] Running Golang parser from C:\\Users\\nguye\\anaconda3\\envs\\envTF24\\lib\\site-packages\\csgo-1.0-py3.7.egg\\csgo\\parser\\\n",
      "00:02:23 [INFO] Looking for file at D:\\EDAV\\348\\EMSKato-GroupA-virtuspro-vs-titan-mirage.dem\n"
     ]
    },
    {
     "name": "stdout",
     "output_type": "stream",
     "text": [
      "parsing    348 EMSKato-GroupA-virtuspro-vs-titan-mirage.dem\n"
     ]
    },
    {
     "name": "stderr",
     "output_type": "stream",
     "text": [
      "00:02:25 [INFO] Wrote demo parse output to 348 EMSKato-GroupA-virtuspro-vs-titan-mirage.json\n",
      "00:02:25 [INFO] Reading in JSON from 348 EMSKato-GroupA-virtuspro-vs-titan-mirage.json\n",
      "00:02:25 [INFO] JSON data loaded, available in the `json` attribute to parser\n",
      "00:02:25 [INFO] Successfully parsed JSON output\n",
      "00:02:25 [INFO] Successfully returned JSON output\n",
      "00:02:26 [INFO] Go version>=1.14.0\n",
      "00:02:26 [INFO] Initialized CSGODemoParser with demofile D:\\EDAV\\349\\faze-vs-big-inferno.dem\n",
      "00:02:26 [INFO] Setting demo id to 349 faze-vs-big-inferno\n",
      "00:02:26 [INFO] Setting parse rate to 128\n",
      "00:02:26 [INFO] Setting trade time to 5\n",
      "00:02:26 [INFO] Setting buy style to hltv\n",
      "00:02:26 [INFO] Rollup damages set to False\n",
      "00:02:26 [INFO] Parse frames set to True\n",
      "00:02:26 [INFO] Running Golang parser from C:\\Users\\nguye\\anaconda3\\envs\\envTF24\\lib\\site-packages\\csgo-1.0-py3.7.egg\\csgo\\parser\\\n",
      "00:02:26 [INFO] Looking for file at D:\\EDAV\\349\\faze-vs-big-inferno.dem\n"
     ]
    },
    {
     "name": "stdout",
     "output_type": "stream",
     "text": [
      "parsing    349 faze-vs-big-inferno.dem\n"
     ]
    },
    {
     "name": "stderr",
     "output_type": "stream",
     "text": [
      "00:02:31 [INFO] Wrote demo parse output to 349 faze-vs-big-inferno.json\n",
      "00:02:31 [INFO] Reading in JSON from 349 faze-vs-big-inferno.json\n",
      "00:02:31 [INFO] JSON data loaded, available in the `json` attribute to parser\n",
      "00:02:31 [INFO] Successfully parsed JSON output\n",
      "00:02:31 [INFO] Successfully returned JSON output\n",
      "00:02:39 [INFO] Go version>=1.14.0\n",
      "00:02:39 [INFO] Initialized CSGODemoParser with demofile D:\\EDAV\\350\\ESLOneCologne2015-envyus-vs-navi-mirage.dem\n",
      "00:02:39 [INFO] Setting demo id to 350 ESLOneCologne2015-envyus-vs-navi-mirage\n",
      "00:02:39 [INFO] Setting parse rate to 128\n",
      "00:02:39 [INFO] Setting trade time to 5\n",
      "00:02:39 [INFO] Setting buy style to hltv\n",
      "00:02:39 [INFO] Rollup damages set to False\n",
      "00:02:39 [INFO] Parse frames set to True\n",
      "00:02:39 [INFO] Running Golang parser from C:\\Users\\nguye\\anaconda3\\envs\\envTF24\\lib\\site-packages\\csgo-1.0-py3.7.egg\\csgo\\parser\\\n",
      "00:02:39 [INFO] Looking for file at D:\\EDAV\\350\\ESLOneCologne2015-envyus-vs-navi-mirage.dem\n"
     ]
    },
    {
     "name": "stdout",
     "output_type": "stream",
     "text": [
      "parsing    350 ESLOneCologne2015-envyus-vs-navi-mirage.dem\n"
     ]
    },
    {
     "name": "stderr",
     "output_type": "stream",
     "text": [
      "00:02:41 [INFO] Wrote demo parse output to 350 ESLOneCologne2015-envyus-vs-navi-mirage.json\n",
      "00:02:41 [INFO] Reading in JSON from 350 ESLOneCologne2015-envyus-vs-navi-mirage.json\n",
      "00:02:41 [INFO] JSON data loaded, available in the `json` attribute to parser\n",
      "00:02:41 [INFO] Successfully parsed JSON output\n",
      "00:02:41 [INFO] Successfully returned JSON output\n",
      "00:02:43 [INFO] Go version>=1.14.0\n",
      "00:02:43 [INFO] Initialized CSGODemoParser with demofile D:\\EDAV\\350\\ESLOneCologne2015-envyus-vs-navi-inferno.dem\n",
      "00:02:43 [INFO] Setting demo id to 350 ESLOneCologne2015-envyus-vs-navi-inferno\n",
      "00:02:43 [INFO] Setting parse rate to 128\n",
      "00:02:43 [INFO] Setting trade time to 5\n",
      "00:02:43 [INFO] Setting buy style to hltv\n",
      "00:02:43 [INFO] Rollup damages set to False\n",
      "00:02:43 [INFO] Parse frames set to True\n",
      "00:02:43 [INFO] Running Golang parser from C:\\Users\\nguye\\anaconda3\\envs\\envTF24\\lib\\site-packages\\csgo-1.0-py3.7.egg\\csgo\\parser\\\n",
      "00:02:43 [INFO] Looking for file at D:\\EDAV\\350\\ESLOneCologne2015-envyus-vs-navi-inferno.dem\n"
     ]
    },
    {
     "name": "stdout",
     "output_type": "stream",
     "text": [
      "parsing    350 ESLOneCologne2015-envyus-vs-navi-inferno.dem\n"
     ]
    },
    {
     "name": "stderr",
     "output_type": "stream",
     "text": [
      "00:02:46 [INFO] Wrote demo parse output to 350 ESLOneCologne2015-envyus-vs-navi-inferno.json\n",
      "00:02:46 [INFO] Reading in JSON from 350 ESLOneCologne2015-envyus-vs-navi-inferno.json\n",
      "00:02:46 [INFO] JSON data loaded, available in the `json` attribute to parser\n",
      "00:02:46 [INFO] Successfully parsed JSON output\n",
      "00:02:46 [INFO] Successfully returned JSON output\n"
     ]
    },
    {
     "name": "stdout",
     "output_type": "stream",
     "text": [
      "['58 natus-vincere-vs-qb-fire-m2-inferno.dem', '128 renegades-vs-vitality-m2-cache.dem', '217 Quarterfinal_Virtuspro_G2_train.dem', '251 EMSKato-GroupB-ldlc-vs-vox-inferno.dem', '364 EMSKato-GroupB-nip-vs-ldlc-inferno.dem', '433 EMSKato-QF-virtuspro-vs-ldlc-mirage.dem', '433 EMSKato-QF-virtuspro-vs-ldlc-inferno.dem']\n",
      "7\n"
     ]
    }
   ],
   "source": [
    "import glob\n",
    "import os\n",
    "# root_dir where to scan your demos\n",
    "root_dir='D:\\EDAV'\n",
    "target='/json demos/cleaned/' #.py script directory \n",
    "downloaded=[]\n",
    "for filename in glob.iglob(target + '**/**', recursive=True):\n",
    "    downloaded.append(os.path.basename(filename))\n",
    "    \n",
    "    \n",
    "ERROR=[]\n",
    "for filename in glob.iglob(root_dir + '**/**', recursive=True):\n",
    "    name=os.path.basename(filename)\n",
    "    i=filename.find('\\\\',8 )\n",
    "    number=filename[8:i]\n",
    "    name=number+' '+name\n",
    "    if name[:len(name)-4]+'.json' in downloaded:\n",
    "        print('done'+'    '+name[:len(name)-4])\n",
    "        print()\n",
    "    \n",
    "    if(filename.endswith('.dem') and not name[:len(name)-4]+'.json' in downloaded):\n",
    "        print('parsing    '+name)\n",
    "        demo_parser = DemoParser(demofile=filename, demo_id=name[:len(name)-4], parse_rate=128)\n",
    "        try:\n",
    "            #cleaning function\n",
    "            demo_parser.parse()\n",
    "            demo_parser.clean_rounds()\n",
    "            \n",
    "            save(demo_parser.json,target+name[:len(name)-4]+'.json')\n",
    "        except:\n",
    "            ERROR.append(name)\n",
    "            print('ERROR  ', name[:len(name)-4])\n",
    "print(ERROR)\n",
    "print(len(ERROR))"
   ]
  }
 ],
 "metadata": {
  "kernelspec": {
   "display_name": "Python 3 (ipykernel)",
   "language": "python",
   "name": "python3"
  },
  "language_info": {
   "codemirror_mode": {
    "name": "ipython",
    "version": 3
   },
   "file_extension": ".py",
   "mimetype": "text/x-python",
   "name": "python",
   "nbconvert_exporter": "python",
   "pygments_lexer": "ipython3",
   "version": "3.7.11"
  }
 },
 "nbformat": 4,
 "nbformat_minor": 5
}
