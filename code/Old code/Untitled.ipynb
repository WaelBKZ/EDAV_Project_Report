{
 "cells": [
  {
   "cell_type": "code",
   "execution_count": 2,
   "id": "a4174590",
   "metadata": {},
   "outputs": [],
   "source": [
    "#with open(filename, 'w') as f:\n",
    "#    json.dump(data, f)\n",
    "import json\n",
    "def load_json(filename):\n",
    "    with open(filename) as f:\n",
    "        data = json.load(f)\n",
    "        return data"
   ]
  },
  {
   "cell_type": "code",
   "execution_count": 14,
   "id": "72f9ca89",
   "metadata": {},
   "outputs": [],
   "source": [
    "data=load_json(\"C:\\\\Users\\\\nguye\\\\Documents\\\\GitHub\\\\EDAV_Project_Report\\\\code\\\\ALL_bombEvents.json\")\n",
    "events_info=load_json(\"C:\\\\Users\\\\nguye\\\\Documents\\\\GitHub\\\\EDAV_Project_Report\\\\code\\\\demo_events_info.json\")"
   ]
  },
  {
   "cell_type": "code",
   "execution_count": 15,
   "id": "ba047ca9",
   "metadata": {},
   "outputs": [],
   "source": [
    "for item in data:\n",
    "    string=item['match_id']\n",
    "    item['match_num']=string[:string.find(\" \")]\n",
    "for item in data:\n",
    "    infos=events_info[item['match_num']]\n",
    "    item['match_event']=infos[0]\n",
    "    item['match_date']=infos[1]\n",
    "    item['match_team1']=infos[2]\n",
    "    item['match_team2']=infos[3]\n",
    "with open(\"C:\\\\Users\\\\nguye\\\\Documents\\\\GitHub\\\\EDAV_Project_Report\\\\code\\\\info\\\\ALL_bombEvents.json\", 'w') as f:\n",
    "    json.dump(data, f)"
   ]
  }
 ],
 "metadata": {
  "kernelspec": {
   "display_name": "Python 3 (ipykernel)",
   "language": "python",
   "name": "python3"
  },
  "language_info": {
   "codemirror_mode": {
    "name": "ipython",
    "version": 3
   },
   "file_extension": ".py",
   "mimetype": "text/x-python",
   "name": "python",
   "nbconvert_exporter": "python",
   "pygments_lexer": "ipython3",
   "version": "3.7.11"
  }
 },
 "nbformat": 4,
 "nbformat_minor": 5
}
